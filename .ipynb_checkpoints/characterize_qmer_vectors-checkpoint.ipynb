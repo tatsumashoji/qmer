{
 "cells": [
  {
   "cell_type": "markdown",
   "metadata": {},
   "source": [
    "## 1. Import libraries."
   ]
  },
  {
   "cell_type": "code",
   "execution_count": 86,
   "metadata": {},
   "outputs": [],
   "source": [
    "import pandas as pd\n",
    "import numpy as np"
   ]
  },
  {
   "cell_type": "markdown",
   "metadata": {},
   "source": [
    "## 2. Table 1"
   ]
  },
  {
   "cell_type": "code",
   "execution_count": 89,
   "metadata": {},
   "outputs": [],
   "source": [
    "def get_num_of_zero_element(file, q):\n",
    "    a=open(\"example/qmers/\"+file+\"/\"+str(q)+\".csv\").readlines()\n",
    "    return len(a)"
   ]
  },
  {
   "cell_type": "code",
   "execution_count": 83,
   "metadata": {},
   "outputs": [],
   "source": [
    "healthy = !cat control.txt\n",
    "healthy = healthy[0].split(\" \")\n",
    "df_h = pd.DataFrame([[get_num_of_zero_element(healthy[i],j+1) for i in range(len(healthy))] for j in range(14)])\n",
    "df_h.columns = healthy\n",
    "df_h.index = [i+1 for i in range(14)]"
   ]
  },
  {
   "cell_type": "code",
   "execution_count": 110,
   "metadata": {},
   "outputs": [],
   "source": [
    "df_h_mean = df_h.apply(np.mean, axis=1).tolist()\n",
    "df_h_std = df_h.apply(np.std, axis=1).tolist()"
   ]
  },
  {
   "cell_type": "code",
   "execution_count": 119,
   "metadata": {},
   "outputs": [],
   "source": [
    "table_1 = [4**(i+1) for i in range(14)]\n",
    "table_2 = [str(round(table_1[i] - df_h_mean[i],2)) + \" ± \" + str(round(df_h_std[i],2)) for i in range(14)]\n",
    "table_3 = [str(round(100 - 100 * df_h_mean[i] / table_1[i],2)) + \" ± \" + str(round(100 * df_h_std[i]/table_1[i],2)) for i in range(14)]\n",
    "table = pd.DataFrame([table_1, table_2, table_3]).T\n",
    "table.index = [i+1 for i in range(14)]\n",
    "table.columns = [\"4^q\", \"# of zero elements\", \"% of zero elements\"]"
   ]
  },
  {
   "cell_type": "code",
   "execution_count": 126,
   "metadata": {},
   "outputs": [],
   "source": [
    "#table"
   ]
  },
  {
   "cell_type": "markdown",
   "metadata": {},
   "source": [
    "## 3. Appendix (1): Table 1 for Cocaine Addicts"
   ]
  },
  {
   "cell_type": "code",
   "execution_count": 121,
   "metadata": {},
   "outputs": [],
   "source": [
    "cocaine = !cat cocaine.txt\n",
    "cocaine = cocaine[0].split(\" \")\n",
    "df_c = pd.DataFrame([[get_num_of_zero_element(cocaine[i],j+1) for i in range(len(cocaine))] for j in range(14)])\n",
    "df_c.columns = cocaine\n",
    "df_c.index = [i+1 for i in range(14)]"
   ]
  },
  {
   "cell_type": "code",
   "execution_count": 122,
   "metadata": {},
   "outputs": [],
   "source": [
    "df_c_mean = df_c.apply(np.mean, axis=1).tolist()\n",
    "df_c_std = df_c.apply(np.std, axis=1).tolist()"
   ]
  },
  {
   "cell_type": "code",
   "execution_count": 123,
   "metadata": {},
   "outputs": [],
   "source": [
    "table_1 = [4**(i+1) for i in range(14)]\n",
    "table_2 = [str(round(table_1[i] - df_c_mean[i],2)) + \" ± \" + str(round(df_c_std[i],2)) for i in range(14)]\n",
    "table_3 = [str(round(100 - 100 * df_c_mean[i] / table_1[i],2)) + \" ± \" + str(round(100 * df_c_std[i]/table_1[i],2)) for i in range(14)]\n",
    "table = pd.DataFrame([table_1, table_2, table_3]).T\n",
    "table.index = [i+1 for i in range(14)]\n",
    "table.columns = [\"4^q\", \"# of zero elements\", \"% of zero elements\"]"
   ]
  },
  {
   "cell_type": "code",
   "execution_count": 127,
   "metadata": {},
   "outputs": [],
   "source": [
    "#table"
   ]
  },
  {
   "cell_type": "code",
   "execution_count": null,
   "metadata": {},
   "outputs": [],
   "source": []
  }
 ],
 "metadata": {
  "kernelspec": {
   "display_name": "Python 3",
   "language": "python",
   "name": "python3"
  },
  "language_info": {
   "codemirror_mode": {
    "name": "ipython",
    "version": 3
   },
   "file_extension": ".py",
   "mimetype": "text/x-python",
   "name": "python",
   "nbconvert_exporter": "python",
   "pygments_lexer": "ipython3",
   "version": "3.7.3"
  }
 },
 "nbformat": 4,
 "nbformat_minor": 2
}
