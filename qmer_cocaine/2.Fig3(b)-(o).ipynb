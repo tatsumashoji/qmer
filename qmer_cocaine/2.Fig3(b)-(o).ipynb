{
 "cells": [
  {
   "cell_type": "markdown",
   "metadata": {},
   "source": [
    "## 1. Import libraries."
   ]
  },
  {
   "cell_type": "code",
   "execution_count": 43,
   "metadata": {},
   "outputs": [
    {
     "data": {
      "text/html": [
       "\n",
       "    <div class=\"bk-root\">\n",
       "        <a href=\"https://bokeh.org\" target=\"_blank\" class=\"bk-logo bk-logo-small bk-logo-notebook\"></a>\n",
       "        <span id=\"8970\">Loading BokehJS ...</span>\n",
       "    </div>"
      ]
     },
     "metadata": {},
     "output_type": "display_data"
    },
    {
     "data": {
      "application/javascript": [
       "\n",
       "(function(root) {\n",
       "  function now() {\n",
       "    return new Date();\n",
       "  }\n",
       "\n",
       "  var force = true;\n",
       "\n",
       "  if (typeof root._bokeh_onload_callbacks === \"undefined\" || force === true) {\n",
       "    root._bokeh_onload_callbacks = [];\n",
       "    root._bokeh_is_loading = undefined;\n",
       "  }\n",
       "\n",
       "  var JS_MIME_TYPE = 'application/javascript';\n",
       "  var HTML_MIME_TYPE = 'text/html';\n",
       "  var EXEC_MIME_TYPE = 'application/vnd.bokehjs_exec.v0+json';\n",
       "  var CLASS_NAME = 'output_bokeh rendered_html';\n",
       "\n",
       "  /**\n",
       "   * Render data to the DOM node\n",
       "   */\n",
       "  function render(props, node) {\n",
       "    var script = document.createElement(\"script\");\n",
       "    node.appendChild(script);\n",
       "  }\n",
       "\n",
       "  /**\n",
       "   * Handle when an output is cleared or removed\n",
       "   */\n",
       "  function handleClearOutput(event, handle) {\n",
       "    var cell = handle.cell;\n",
       "\n",
       "    var id = cell.output_area._bokeh_element_id;\n",
       "    var server_id = cell.output_area._bokeh_server_id;\n",
       "    // Clean up Bokeh references\n",
       "    if (id != null && id in Bokeh.index) {\n",
       "      Bokeh.index[id].model.document.clear();\n",
       "      delete Bokeh.index[id];\n",
       "    }\n",
       "\n",
       "    if (server_id !== undefined) {\n",
       "      // Clean up Bokeh references\n",
       "      var cmd = \"from bokeh.io.state import curstate; print(curstate().uuid_to_server['\" + server_id + \"'].get_sessions()[0].document.roots[0]._id)\";\n",
       "      cell.notebook.kernel.execute(cmd, {\n",
       "        iopub: {\n",
       "          output: function(msg) {\n",
       "            var id = msg.content.text.trim();\n",
       "            if (id in Bokeh.index) {\n",
       "              Bokeh.index[id].model.document.clear();\n",
       "              delete Bokeh.index[id];\n",
       "            }\n",
       "          }\n",
       "        }\n",
       "      });\n",
       "      // Destroy server and session\n",
       "      var cmd = \"import bokeh.io.notebook as ion; ion.destroy_server('\" + server_id + \"')\";\n",
       "      cell.notebook.kernel.execute(cmd);\n",
       "    }\n",
       "  }\n",
       "\n",
       "  /**\n",
       "   * Handle when a new output is added\n",
       "   */\n",
       "  function handleAddOutput(event, handle) {\n",
       "    var output_area = handle.output_area;\n",
       "    var output = handle.output;\n",
       "\n",
       "    // limit handleAddOutput to display_data with EXEC_MIME_TYPE content only\n",
       "    if ((output.output_type != \"display_data\") || (!output.data.hasOwnProperty(EXEC_MIME_TYPE))) {\n",
       "      return\n",
       "    }\n",
       "\n",
       "    var toinsert = output_area.element.find(\".\" + CLASS_NAME.split(' ')[0]);\n",
       "\n",
       "    if (output.metadata[EXEC_MIME_TYPE][\"id\"] !== undefined) {\n",
       "      toinsert[toinsert.length - 1].firstChild.textContent = output.data[JS_MIME_TYPE];\n",
       "      // store reference to embed id on output_area\n",
       "      output_area._bokeh_element_id = output.metadata[EXEC_MIME_TYPE][\"id\"];\n",
       "    }\n",
       "    if (output.metadata[EXEC_MIME_TYPE][\"server_id\"] !== undefined) {\n",
       "      var bk_div = document.createElement(\"div\");\n",
       "      bk_div.innerHTML = output.data[HTML_MIME_TYPE];\n",
       "      var script_attrs = bk_div.children[0].attributes;\n",
       "      for (var i = 0; i < script_attrs.length; i++) {\n",
       "        toinsert[toinsert.length - 1].firstChild.setAttribute(script_attrs[i].name, script_attrs[i].value);\n",
       "        toinsert[toinsert.length - 1].firstChild.textContent = bk_div.children[0].textContent\n",
       "      }\n",
       "      // store reference to server id on output_area\n",
       "      output_area._bokeh_server_id = output.metadata[EXEC_MIME_TYPE][\"server_id\"];\n",
       "    }\n",
       "  }\n",
       "\n",
       "  function register_renderer(events, OutputArea) {\n",
       "\n",
       "    function append_mime(data, metadata, element) {\n",
       "      // create a DOM node to render to\n",
       "      var toinsert = this.create_output_subarea(\n",
       "        metadata,\n",
       "        CLASS_NAME,\n",
       "        EXEC_MIME_TYPE\n",
       "      );\n",
       "      this.keyboard_manager.register_events(toinsert);\n",
       "      // Render to node\n",
       "      var props = {data: data, metadata: metadata[EXEC_MIME_TYPE]};\n",
       "      render(props, toinsert[toinsert.length - 1]);\n",
       "      element.append(toinsert);\n",
       "      return toinsert\n",
       "    }\n",
       "\n",
       "    /* Handle when an output is cleared or removed */\n",
       "    events.on('clear_output.CodeCell', handleClearOutput);\n",
       "    events.on('delete.Cell', handleClearOutput);\n",
       "\n",
       "    /* Handle when a new output is added */\n",
       "    events.on('output_added.OutputArea', handleAddOutput);\n",
       "\n",
       "    /**\n",
       "     * Register the mime type and append_mime function with output_area\n",
       "     */\n",
       "    OutputArea.prototype.register_mime_type(EXEC_MIME_TYPE, append_mime, {\n",
       "      /* Is output safe? */\n",
       "      safe: true,\n",
       "      /* Index of renderer in `output_area.display_order` */\n",
       "      index: 0\n",
       "    });\n",
       "  }\n",
       "\n",
       "  // register the mime type if in Jupyter Notebook environment and previously unregistered\n",
       "  if (root.Jupyter !== undefined) {\n",
       "    var events = require('base/js/events');\n",
       "    var OutputArea = require('notebook/js/outputarea').OutputArea;\n",
       "\n",
       "    if (OutputArea.prototype.mime_types().indexOf(EXEC_MIME_TYPE) == -1) {\n",
       "      register_renderer(events, OutputArea);\n",
       "    }\n",
       "  }\n",
       "\n",
       "  \n",
       "  if (typeof (root._bokeh_timeout) === \"undefined\" || force === true) {\n",
       "    root._bokeh_timeout = Date.now() + 5000;\n",
       "    root._bokeh_failed_load = false;\n",
       "  }\n",
       "\n",
       "  var NB_LOAD_WARNING = {'data': {'text/html':\n",
       "     \"<div style='background-color: #fdd'>\\n\"+\n",
       "     \"<p>\\n\"+\n",
       "     \"BokehJS does not appear to have successfully loaded. If loading BokehJS from CDN, this \\n\"+\n",
       "     \"may be due to a slow or bad network connection. Possible fixes:\\n\"+\n",
       "     \"</p>\\n\"+\n",
       "     \"<ul>\\n\"+\n",
       "     \"<li>re-rerun `output_notebook()` to attempt to load from CDN again, or</li>\\n\"+\n",
       "     \"<li>use INLINE resources instead, as so:</li>\\n\"+\n",
       "     \"</ul>\\n\"+\n",
       "     \"<code>\\n\"+\n",
       "     \"from bokeh.resources import INLINE\\n\"+\n",
       "     \"output_notebook(resources=INLINE)\\n\"+\n",
       "     \"</code>\\n\"+\n",
       "     \"</div>\"}};\n",
       "\n",
       "  function display_loaded() {\n",
       "    var el = document.getElementById(\"8970\");\n",
       "    if (el != null) {\n",
       "      el.textContent = \"BokehJS is loading...\";\n",
       "    }\n",
       "    if (root.Bokeh !== undefined) {\n",
       "      if (el != null) {\n",
       "        el.textContent = \"BokehJS \" + root.Bokeh.version + \" successfully loaded.\";\n",
       "      }\n",
       "    } else if (Date.now() < root._bokeh_timeout) {\n",
       "      setTimeout(display_loaded, 100)\n",
       "    }\n",
       "  }\n",
       "\n",
       "\n",
       "  function run_callbacks() {\n",
       "    try {\n",
       "      root._bokeh_onload_callbacks.forEach(function(callback) {\n",
       "        if (callback != null)\n",
       "          callback();\n",
       "      });\n",
       "    } finally {\n",
       "      delete root._bokeh_onload_callbacks\n",
       "    }\n",
       "    console.debug(\"Bokeh: all callbacks have finished\");\n",
       "  }\n",
       "\n",
       "  function load_libs(css_urls, js_urls, callback) {\n",
       "    if (css_urls == null) css_urls = [];\n",
       "    if (js_urls == null) js_urls = [];\n",
       "\n",
       "    root._bokeh_onload_callbacks.push(callback);\n",
       "    if (root._bokeh_is_loading > 0) {\n",
       "      console.debug(\"Bokeh: BokehJS is being loaded, scheduling callback at\", now());\n",
       "      return null;\n",
       "    }\n",
       "    if (js_urls == null || js_urls.length === 0) {\n",
       "      run_callbacks();\n",
       "      return null;\n",
       "    }\n",
       "    console.debug(\"Bokeh: BokehJS not loaded, scheduling load and callback at\", now());\n",
       "    root._bokeh_is_loading = css_urls.length + js_urls.length;\n",
       "\n",
       "    function on_load() {\n",
       "      root._bokeh_is_loading--;\n",
       "      if (root._bokeh_is_loading === 0) {\n",
       "        console.debug(\"Bokeh: all BokehJS libraries/stylesheets loaded\");\n",
       "        run_callbacks()\n",
       "      }\n",
       "    }\n",
       "\n",
       "    function on_error() {\n",
       "      console.error(\"failed to load \" + url);\n",
       "    }\n",
       "\n",
       "    for (var i = 0; i < css_urls.length; i++) {\n",
       "      var url = css_urls[i];\n",
       "      const element = document.createElement(\"link\");\n",
       "      element.onload = on_load;\n",
       "      element.onerror = on_error;\n",
       "      element.rel = \"stylesheet\";\n",
       "      element.type = \"text/css\";\n",
       "      element.href = url;\n",
       "      console.debug(\"Bokeh: injecting link tag for BokehJS stylesheet: \", url);\n",
       "      document.body.appendChild(element);\n",
       "    }\n",
       "\n",
       "    const hashes = {\"https://cdn.bokeh.org/bokeh/release/bokeh-2.2.3.min.js\": \"T2yuo9Oe71Cz/I4X9Ac5+gpEa5a8PpJCDlqKYO0CfAuEszu1JrXLl8YugMqYe3sM\", \"https://cdn.bokeh.org/bokeh/release/bokeh-widgets-2.2.3.min.js\": \"98GDGJ0kOMCUMUePhksaQ/GYgB3+NH9h996V88sh3aOiUNX3N+fLXAtry6xctSZ6\", \"https://cdn.bokeh.org/bokeh/release/bokeh-tables-2.2.3.min.js\": \"89bArO+nlbP3sgakeHjCo1JYxYR5wufVgA3IbUvDY+K7w4zyxJqssu7wVnfeKCq8\"};\n",
       "\n",
       "    for (var i = 0; i < js_urls.length; i++) {\n",
       "      var url = js_urls[i];\n",
       "      var element = document.createElement('script');\n",
       "      element.onload = on_load;\n",
       "      element.onerror = on_error;\n",
       "      element.async = false;\n",
       "      element.src = url;\n",
       "      if (url in hashes) {\n",
       "        element.crossOrigin = \"anonymous\";\n",
       "        element.integrity = \"sha384-\" + hashes[url];\n",
       "      }\n",
       "      console.debug(\"Bokeh: injecting script tag for BokehJS library: \", url);\n",
       "      document.head.appendChild(element);\n",
       "    }\n",
       "  };\n",
       "\n",
       "  function inject_raw_css(css) {\n",
       "    const element = document.createElement(\"style\");\n",
       "    element.appendChild(document.createTextNode(css));\n",
       "    document.body.appendChild(element);\n",
       "  }\n",
       "\n",
       "  \n",
       "  var js_urls = [\"https://cdn.bokeh.org/bokeh/release/bokeh-2.2.3.min.js\", \"https://cdn.bokeh.org/bokeh/release/bokeh-widgets-2.2.3.min.js\", \"https://cdn.bokeh.org/bokeh/release/bokeh-tables-2.2.3.min.js\"];\n",
       "  var css_urls = [];\n",
       "  \n",
       "\n",
       "  var inline_js = [\n",
       "    function(Bokeh) {\n",
       "      Bokeh.set_log_level(\"info\");\n",
       "    },\n",
       "    function(Bokeh) {\n",
       "    \n",
       "    \n",
       "    }\n",
       "  ];\n",
       "\n",
       "  function run_inline_js() {\n",
       "    \n",
       "    if (root.Bokeh !== undefined || force === true) {\n",
       "      \n",
       "    for (var i = 0; i < inline_js.length; i++) {\n",
       "      inline_js[i].call(root, root.Bokeh);\n",
       "    }\n",
       "    if (force === true) {\n",
       "        display_loaded();\n",
       "      }} else if (Date.now() < root._bokeh_timeout) {\n",
       "      setTimeout(run_inline_js, 100);\n",
       "    } else if (!root._bokeh_failed_load) {\n",
       "      console.log(\"Bokeh: BokehJS failed to load within specified timeout.\");\n",
       "      root._bokeh_failed_load = true;\n",
       "    } else if (force !== true) {\n",
       "      var cell = $(document.getElementById(\"8970\")).parents('.cell').data().cell;\n",
       "      cell.output_area.append_execute_result(NB_LOAD_WARNING)\n",
       "    }\n",
       "\n",
       "  }\n",
       "\n",
       "  if (root._bokeh_is_loading === 0) {\n",
       "    console.debug(\"Bokeh: BokehJS loaded, going straight to plotting\");\n",
       "    run_inline_js();\n",
       "  } else {\n",
       "    load_libs(css_urls, js_urls, function() {\n",
       "      console.debug(\"Bokeh: BokehJS plotting callback run at\", now());\n",
       "      run_inline_js();\n",
       "    });\n",
       "  }\n",
       "}(window));"
      ],
      "application/vnd.bokehjs_load.v0+json": "\n(function(root) {\n  function now() {\n    return new Date();\n  }\n\n  var force = true;\n\n  if (typeof root._bokeh_onload_callbacks === \"undefined\" || force === true) {\n    root._bokeh_onload_callbacks = [];\n    root._bokeh_is_loading = undefined;\n  }\n\n  \n\n  \n  if (typeof (root._bokeh_timeout) === \"undefined\" || force === true) {\n    root._bokeh_timeout = Date.now() + 5000;\n    root._bokeh_failed_load = false;\n  }\n\n  var NB_LOAD_WARNING = {'data': {'text/html':\n     \"<div style='background-color: #fdd'>\\n\"+\n     \"<p>\\n\"+\n     \"BokehJS does not appear to have successfully loaded. If loading BokehJS from CDN, this \\n\"+\n     \"may be due to a slow or bad network connection. Possible fixes:\\n\"+\n     \"</p>\\n\"+\n     \"<ul>\\n\"+\n     \"<li>re-rerun `output_notebook()` to attempt to load from CDN again, or</li>\\n\"+\n     \"<li>use INLINE resources instead, as so:</li>\\n\"+\n     \"</ul>\\n\"+\n     \"<code>\\n\"+\n     \"from bokeh.resources import INLINE\\n\"+\n     \"output_notebook(resources=INLINE)\\n\"+\n     \"</code>\\n\"+\n     \"</div>\"}};\n\n  function display_loaded() {\n    var el = document.getElementById(\"8970\");\n    if (el != null) {\n      el.textContent = \"BokehJS is loading...\";\n    }\n    if (root.Bokeh !== undefined) {\n      if (el != null) {\n        el.textContent = \"BokehJS \" + root.Bokeh.version + \" successfully loaded.\";\n      }\n    } else if (Date.now() < root._bokeh_timeout) {\n      setTimeout(display_loaded, 100)\n    }\n  }\n\n\n  function run_callbacks() {\n    try {\n      root._bokeh_onload_callbacks.forEach(function(callback) {\n        if (callback != null)\n          callback();\n      });\n    } finally {\n      delete root._bokeh_onload_callbacks\n    }\n    console.debug(\"Bokeh: all callbacks have finished\");\n  }\n\n  function load_libs(css_urls, js_urls, callback) {\n    if (css_urls == null) css_urls = [];\n    if (js_urls == null) js_urls = [];\n\n    root._bokeh_onload_callbacks.push(callback);\n    if (root._bokeh_is_loading > 0) {\n      console.debug(\"Bokeh: BokehJS is being loaded, scheduling callback at\", now());\n      return null;\n    }\n    if (js_urls == null || js_urls.length === 0) {\n      run_callbacks();\n      return null;\n    }\n    console.debug(\"Bokeh: BokehJS not loaded, scheduling load and callback at\", now());\n    root._bokeh_is_loading = css_urls.length + js_urls.length;\n\n    function on_load() {\n      root._bokeh_is_loading--;\n      if (root._bokeh_is_loading === 0) {\n        console.debug(\"Bokeh: all BokehJS libraries/stylesheets loaded\");\n        run_callbacks()\n      }\n    }\n\n    function on_error() {\n      console.error(\"failed to load \" + url);\n    }\n\n    for (var i = 0; i < css_urls.length; i++) {\n      var url = css_urls[i];\n      const element = document.createElement(\"link\");\n      element.onload = on_load;\n      element.onerror = on_error;\n      element.rel = \"stylesheet\";\n      element.type = \"text/css\";\n      element.href = url;\n      console.debug(\"Bokeh: injecting link tag for BokehJS stylesheet: \", url);\n      document.body.appendChild(element);\n    }\n\n    const hashes = {\"https://cdn.bokeh.org/bokeh/release/bokeh-2.2.3.min.js\": \"T2yuo9Oe71Cz/I4X9Ac5+gpEa5a8PpJCDlqKYO0CfAuEszu1JrXLl8YugMqYe3sM\", \"https://cdn.bokeh.org/bokeh/release/bokeh-widgets-2.2.3.min.js\": \"98GDGJ0kOMCUMUePhksaQ/GYgB3+NH9h996V88sh3aOiUNX3N+fLXAtry6xctSZ6\", \"https://cdn.bokeh.org/bokeh/release/bokeh-tables-2.2.3.min.js\": \"89bArO+nlbP3sgakeHjCo1JYxYR5wufVgA3IbUvDY+K7w4zyxJqssu7wVnfeKCq8\"};\n\n    for (var i = 0; i < js_urls.length; i++) {\n      var url = js_urls[i];\n      var element = document.createElement('script');\n      element.onload = on_load;\n      element.onerror = on_error;\n      element.async = false;\n      element.src = url;\n      if (url in hashes) {\n        element.crossOrigin = \"anonymous\";\n        element.integrity = \"sha384-\" + hashes[url];\n      }\n      console.debug(\"Bokeh: injecting script tag for BokehJS library: \", url);\n      document.head.appendChild(element);\n    }\n  };\n\n  function inject_raw_css(css) {\n    const element = document.createElement(\"style\");\n    element.appendChild(document.createTextNode(css));\n    document.body.appendChild(element);\n  }\n\n  \n  var js_urls = [\"https://cdn.bokeh.org/bokeh/release/bokeh-2.2.3.min.js\", \"https://cdn.bokeh.org/bokeh/release/bokeh-widgets-2.2.3.min.js\", \"https://cdn.bokeh.org/bokeh/release/bokeh-tables-2.2.3.min.js\"];\n  var css_urls = [];\n  \n\n  var inline_js = [\n    function(Bokeh) {\n      Bokeh.set_log_level(\"info\");\n    },\n    function(Bokeh) {\n    \n    \n    }\n  ];\n\n  function run_inline_js() {\n    \n    if (root.Bokeh !== undefined || force === true) {\n      \n    for (var i = 0; i < inline_js.length; i++) {\n      inline_js[i].call(root, root.Bokeh);\n    }\n    if (force === true) {\n        display_loaded();\n      }} else if (Date.now() < root._bokeh_timeout) {\n      setTimeout(run_inline_js, 100);\n    } else if (!root._bokeh_failed_load) {\n      console.log(\"Bokeh: BokehJS failed to load within specified timeout.\");\n      root._bokeh_failed_load = true;\n    } else if (force !== true) {\n      var cell = $(document.getElementById(\"8970\")).parents('.cell').data().cell;\n      cell.output_area.append_execute_result(NB_LOAD_WARNING)\n    }\n\n  }\n\n  if (root._bokeh_is_loading === 0) {\n    console.debug(\"Bokeh: BokehJS loaded, going straight to plotting\");\n    run_inline_js();\n  } else {\n    load_libs(css_urls, js_urls, function() {\n      console.debug(\"Bokeh: BokehJS plotting callback run at\", now());\n      run_inline_js();\n    });\n  }\n}(window));"
     },
     "metadata": {},
     "output_type": "display_data"
    }
   ],
   "source": [
    "import pandas as pd\n",
    "import numpy as np\n",
    "import matplotlib.pyplot as plt\n",
    "from sklearn.decomposition import PCA\n",
    "from scipy.sparse.csgraph import connected_components\n",
    "from bokeh.plotting import figure, show, ColumnDataSource\n",
    "from bokeh.models import HoverTool\n",
    "from bokeh.io import output_notebook\n",
    "output_notebook()"
   ]
  },
  {
   "cell_type": "markdown",
   "metadata": {},
   "source": [
    "## 2. Load matrices."
   ]
  },
  {
   "cell_type": "code",
   "execution_count": 44,
   "metadata": {},
   "outputs": [],
   "source": [
    "dfs = [pd.read_csv(\"05_matrix/\"+str(i+1)+\".csv\", index_col=0, header=0).T for i in range(14)]"
   ]
  },
  {
   "cell_type": "markdown",
   "metadata": {},
   "source": [
    "## 3. Add meta info."
   ]
  },
  {
   "cell_type": "code",
   "execution_count": 45,
   "metadata": {},
   "outputs": [],
   "source": [
    "control = pd.read_csv(\"../src/cocaine_control.txt\", header=None).T.values.tolist()[0]\n",
    "cocaine = pd.read_csv(\"../src/cocaine_sample.txt\", header=None).T.values.tolist()[0]\n",
    "\n",
    "for df in dfs:\n",
    "    y = [0 if i in control else 1 for i in list(df.index)]\n",
    "    df[\"y\"] = y"
   ]
  },
  {
   "cell_type": "markdown",
   "metadata": {},
   "source": [
    "## 4. PCA."
   ]
  },
  {
   "cell_type": "code",
   "execution_count": 46,
   "metadata": {},
   "outputs": [],
   "source": [
    "def draw_PCA(df):\n",
    "    pca = PCA(n_components=2)\n",
    "    result = pca.fit_transform(df.iloc[:,:-1])\n",
    "\n",
    "    df_res = pd.DataFrame(result)\n",
    "    df_res.columns = [\"x\", \"y\"]\n",
    "    df_res.index = df.index\n",
    "    df_res[\"meta\"] = df[\"y\"].tolist()\n",
    "    \n",
    "    df_res_0 = df_res[df_res[\"meta\"]==0]\n",
    "    df_res_1 = df_res[df_res[\"meta\"]==1]\n",
    "    \n",
    "    source1 = ColumnDataSource(\n",
    "        data=dict(\n",
    "            x=df_res_0[\"x\"],\n",
    "            y=df_res_0[\"y\"],\n",
    "            desc=df_res_0.index.tolist()\n",
    "        )\n",
    "    )\n",
    "\n",
    "    source2 = ColumnDataSource(\n",
    "        data=dict(\n",
    "            x=df_res_1[\"x\"],\n",
    "            y=df_res_1[\"y\"],\n",
    "            desc=df_res_1.index.tolist()\n",
    "        )\n",
    "    )\n",
    "    \n",
    "    hover = HoverTool(\n",
    "        tooltips=[\n",
    "            (\"index\", \"$index\"),\n",
    "            (\"desc\", \"@desc\"),\n",
    "        ]\n",
    "    )\n",
    "\n",
    "    p = figure(tools=[hover, \"save\"], plot_width=550, plot_height=500)\n",
    "    #p.xaxis.major_label_text_color = \"white\"\n",
    "    #p.yaxis.major_label_text_color = \"white\"\n",
    "    #p.xaxis.axis_label = 'PC1'\n",
    "    #p.yaxis.axis_label = 'PC2'\n",
    "\n",
    "    p.circle(\"x\", \"y\", fill_color=\"black\", line_color=\"black\", fill_alpha=1, size=14, source=source1)\n",
    "    p.triangle(\"x\", \"y\", fill_color=\"darkorange\", line_color=\"darkorange\", fill_alpha=1, size=16, source=source2)\n",
    "    \n",
    "    show(p)"
   ]
  },
  {
   "cell_type": "code",
   "execution_count": 47,
   "metadata": {},
   "outputs": [
    {
     "data": {
      "text/html": [
       "\n",
       "\n",
       "\n",
       "\n",
       "\n",
       "\n",
       "  <div class=\"bk-root\" id=\"925b44d5-2508-4b21-8596-023c2e210c04\" data-root-id=\"8974\"></div>\n"
      ]
     },
     "metadata": {},
     "output_type": "display_data"
    },
    {
     "data": {
      "application/javascript": [
       "(function(root) {\n",
       "  function embed_document(root) {\n",
       "    \n",
       "  var docs_json = {\"ece24dbc-52f0-49ce-b0b8-d6280543deae\":{\"roots\":{\"references\":[{\"attributes\":{\"below\":[{\"id\":\"8983\"}],\"center\":[{\"id\":\"8986\"},{\"id\":\"8990\"}],\"left\":[{\"id\":\"8987\"}],\"plot_height\":500,\"plot_width\":550,\"renderers\":[{\"id\":\"8998\"},{\"id\":\"9003\"}],\"title\":{\"id\":\"9325\"},\"toolbar\":{\"id\":\"8992\"},\"x_range\":{\"id\":\"8975\"},\"x_scale\":{\"id\":\"8979\"},\"y_range\":{\"id\":\"8977\"},\"y_scale\":{\"id\":\"8981\"}},\"id\":\"8974\",\"subtype\":\"Figure\",\"type\":\"Plot\"},{\"attributes\":{\"fill_color\":{\"value\":\"darkorange\"},\"line_color\":{\"value\":\"darkorange\"},\"size\":{\"units\":\"screen\",\"value\":16},\"x\":{\"field\":\"x\"},\"y\":{\"field\":\"y\"}},\"id\":\"9001\",\"type\":\"Triangle\"},{\"attributes\":{\"formatter\":{\"id\":\"9329\"},\"ticker\":{\"id\":\"8984\"}},\"id\":\"8983\",\"type\":\"LinearAxis\"},{\"attributes\":{},\"id\":\"8981\",\"type\":\"LinearScale\"},{\"attributes\":{},\"id\":\"9329\",\"type\":\"BasicTickFormatter\"},{\"attributes\":{},\"id\":\"9327\",\"type\":\"BasicTickFormatter\"},{\"attributes\":{},\"id\":\"8975\",\"type\":\"DataRange1d\"},{\"attributes\":{\"data\":{\"desc\":[\"SRR5616906\",\"SRR5616907\",\"SRR5616908\",\"SRR5616909\",\"SRR5616910\",\"SRR5616911\",\"SRR5616912\",\"SRR5616913\",\"SRR5616914\",\"SRR5616915\",\"SRR5616916\",\"SRR5616917\",\"SRR5616918\",\"SRR5616919\",\"SRR5616920\",\"SRR5616921\",\"SRR5616922\",\"SRR5616923\",\"SRR5616924\"],\"x\":{\"__ndarray__\":\"VroR4Tuyhr/xkPCTzOaQP4kdNomKL5I/zFEm2K0plT/uE18I41mXv35ofgi7HqI/eDYDfU2KhL8Kzl2ICh+kP/GCKvTY74C/ZUsZMfkQob//B/I0KZyCvyJXUIqCMpg/KKINDXiegz9OIXzNqAR3P+vEbA6DeKU/GrIgcB3mmj+yZOXR3oaAv2Zpc5t2Ooa/BFndZcpIiT8=\",\"dtype\":\"float64\",\"order\":\"little\",\"shape\":[19]},\"y\":{\"__ndarray__\":\"gQDJ9EJPVb+Isr+H9xNmPyAllwhCnGg/cU0dJ/h+WL8V251GO1Q9v30aLysZ+Ty/qCUMILCaQT9T8KAAkjE/P8Zy027RG1G/AN5SmQ6lT78g6rmswmY6Pw5lvmVOfk6/fLldxhMxXL9J8cqx/ApSP9EVmBciZFi/1s3NFo4sZ7/pBbUuzHxWv241YQAGpkO/BmrGLDEeXr8=\",\"dtype\":\"float64\",\"order\":\"little\",\"shape\":[19]}},\"selected\":{\"id\":\"9333\"},\"selection_policy\":{\"id\":\"9334\"}},\"id\":\"8972\",\"type\":\"ColumnDataSource\"},{\"attributes\":{},\"id\":\"9334\",\"type\":\"UnionRenderers\"},{\"attributes\":{},\"id\":\"8984\",\"type\":\"BasicTicker\"},{\"attributes\":{},\"id\":\"9332\",\"type\":\"UnionRenderers\"},{\"attributes\":{\"active_drag\":\"auto\",\"active_inspect\":\"auto\",\"active_multi\":null,\"active_scroll\":\"auto\",\"active_tap\":\"auto\",\"tools\":[{\"id\":\"8973\"},{\"id\":\"8991\"}]},\"id\":\"8992\",\"type\":\"Toolbar\"},{\"attributes\":{\"fill_color\":{\"value\":\"black\"},\"size\":{\"units\":\"screen\",\"value\":14},\"x\":{\"field\":\"x\"},\"y\":{\"field\":\"y\"}},\"id\":\"8996\",\"type\":\"Circle\"},{\"attributes\":{},\"id\":\"8991\",\"type\":\"SaveTool\"},{\"attributes\":{},\"id\":\"9331\",\"type\":\"Selection\"},{\"attributes\":{\"source\":{\"id\":\"8972\"}},\"id\":\"9004\",\"type\":\"CDSView\"},{\"attributes\":{},\"id\":\"8979\",\"type\":\"LinearScale\"},{\"attributes\":{},\"id\":\"8977\",\"type\":\"DataRange1d\"},{\"attributes\":{\"data\":{\"desc\":[\"SRR5616889\",\"SRR5616890\",\"SRR5616891\",\"SRR5616892\",\"SRR5616893\",\"SRR5616894\",\"SRR5616895\",\"SRR5616896\",\"SRR5616897\",\"SRR5616898\",\"SRR5616899\",\"SRR5616900\",\"SRR5616901\",\"SRR5616902\",\"SRR5616903\",\"SRR5616904\",\"SRR5616905\"],\"x\":{\"__ndarray__\":\"51rLgCg8YL+eXfYKAmNovyOiq16kIXQ/5VpH0rosez+k7z59DaWTP20fxoPgo6G/aSKZ/LKhab+oYs3X829xvw+wdndpn4g/Y6IXfeO8kb+a8ajKlx6fv6g6cnheXIM/ZKiCOmrJpL9yJyfAo/OCvxpuVpt1toO/B2DY8B86e79YH3jiBrKbvw==\",\"dtype\":\"float64\",\"order\":\"little\",\"shape\":[17]},\"y\":{\"__ndarray__\":\"9Ns5OXpVbz//m50jEe5cv5GWUGA5g12/0P3pbSDXRL8ggAV67LpvP5M8hy1SEDC/cZtEmG6lZr/kdkrICtlhP1OfLkFTwCo/1BD7X4iqND/EMRCBzPNOP6WzmCIsD2A/UuPtV9TgS7+/WBXmhoBqP52jgFJ7jVi/Rv8VLyy+Pz+zVANBoS9KPw==\",\"dtype\":\"float64\",\"order\":\"little\",\"shape\":[17]}},\"selected\":{\"id\":\"9331\"},\"selection_policy\":{\"id\":\"9332\"}},\"id\":\"8971\",\"type\":\"ColumnDataSource\"},{\"attributes\":{},\"id\":\"8988\",\"type\":\"BasicTicker\"},{\"attributes\":{\"callback\":null,\"tooltips\":[[\"index\",\"$index\"],[\"desc\",\"@desc\"]]},\"id\":\"8973\",\"type\":\"HoverTool\"},{\"attributes\":{\"axis\":{\"id\":\"8987\"},\"dimension\":1,\"ticker\":null},\"id\":\"8990\",\"type\":\"Grid\"},{\"attributes\":{\"source\":{\"id\":\"8971\"}},\"id\":\"8999\",\"type\":\"CDSView\"},{\"attributes\":{\"data_source\":{\"id\":\"8971\"},\"glyph\":{\"id\":\"8996\"},\"hover_glyph\":null,\"muted_glyph\":null,\"nonselection_glyph\":{\"id\":\"8997\"},\"selection_glyph\":null,\"view\":{\"id\":\"8999\"}},\"id\":\"8998\",\"type\":\"GlyphRenderer\"},{\"attributes\":{},\"id\":\"9333\",\"type\":\"Selection\"},{\"attributes\":{\"text\":\"\"},\"id\":\"9325\",\"type\":\"Title\"},{\"attributes\":{\"fill_alpha\":{\"value\":0.1},\"fill_color\":{\"value\":\"black\"},\"line_alpha\":{\"value\":0.1},\"size\":{\"units\":\"screen\",\"value\":14},\"x\":{\"field\":\"x\"},\"y\":{\"field\":\"y\"}},\"id\":\"8997\",\"type\":\"Circle\"},{\"attributes\":{\"axis\":{\"id\":\"8983\"},\"ticker\":null},\"id\":\"8986\",\"type\":\"Grid\"},{\"attributes\":{\"formatter\":{\"id\":\"9327\"},\"ticker\":{\"id\":\"8988\"}},\"id\":\"8987\",\"type\":\"LinearAxis\"},{\"attributes\":{\"data_source\":{\"id\":\"8972\"},\"glyph\":{\"id\":\"9001\"},\"hover_glyph\":null,\"muted_glyph\":null,\"nonselection_glyph\":{\"id\":\"9002\"},\"selection_glyph\":null,\"view\":{\"id\":\"9004\"}},\"id\":\"9003\",\"type\":\"GlyphRenderer\"},{\"attributes\":{\"fill_alpha\":{\"value\":0.1},\"fill_color\":{\"value\":\"darkorange\"},\"line_alpha\":{\"value\":0.1},\"line_color\":{\"value\":\"darkorange\"},\"size\":{\"units\":\"screen\",\"value\":16},\"x\":{\"field\":\"x\"},\"y\":{\"field\":\"y\"}},\"id\":\"9002\",\"type\":\"Triangle\"}],\"root_ids\":[\"8974\"]},\"title\":\"Bokeh Application\",\"version\":\"2.2.3\"}};\n",
       "  var render_items = [{\"docid\":\"ece24dbc-52f0-49ce-b0b8-d6280543deae\",\"root_ids\":[\"8974\"],\"roots\":{\"8974\":\"925b44d5-2508-4b21-8596-023c2e210c04\"}}];\n",
       "  root.Bokeh.embed.embed_items_notebook(docs_json, render_items);\n",
       "\n",
       "  }\n",
       "  if (root.Bokeh !== undefined) {\n",
       "    embed_document(root);\n",
       "  } else {\n",
       "    var attempts = 0;\n",
       "    var timer = setInterval(function(root) {\n",
       "      if (root.Bokeh !== undefined) {\n",
       "        clearInterval(timer);\n",
       "        embed_document(root);\n",
       "      } else {\n",
       "        attempts++;\n",
       "        if (attempts > 100) {\n",
       "          clearInterval(timer);\n",
       "          console.log(\"Bokeh: ERROR: Unable to run BokehJS code because BokehJS library is missing\");\n",
       "        }\n",
       "      }\n",
       "    }, 10, root)\n",
       "  }\n",
       "})(window);"
      ],
      "application/vnd.bokehjs_exec.v0+json": ""
     },
     "metadata": {
      "application/vnd.bokehjs_exec.v0+json": {
       "id": "8974"
      }
     },
     "output_type": "display_data"
    }
   ],
   "source": [
    "# q = 1\n",
    "draw_PCA(dfs[0])"
   ]
  },
  {
   "cell_type": "code",
   "execution_count": 48,
   "metadata": {},
   "outputs": [
    {
     "data": {
      "text/html": [
       "\n",
       "\n",
       "\n",
       "\n",
       "\n",
       "\n",
       "  <div class=\"bk-root\" id=\"a86bd947-41ed-4855-80e2-6c4154f27011\" data-root-id=\"9388\"></div>\n"
      ]
     },
     "metadata": {},
     "output_type": "display_data"
    },
    {
     "data": {
      "application/javascript": [
       "(function(root) {\n",
       "  function embed_document(root) {\n",
       "    \n",
       "  var docs_json = {\"0b02227f-97bf-4291-abc7-9d7fa9c85bef\":{\"roots\":{\"references\":[{\"attributes\":{\"below\":[{\"id\":\"9397\"}],\"center\":[{\"id\":\"9400\"},{\"id\":\"9404\"}],\"left\":[{\"id\":\"9401\"}],\"plot_height\":500,\"plot_width\":550,\"renderers\":[{\"id\":\"9412\"},{\"id\":\"9417\"}],\"title\":{\"id\":\"9749\"},\"toolbar\":{\"id\":\"9406\"},\"x_range\":{\"id\":\"9389\"},\"x_scale\":{\"id\":\"9393\"},\"y_range\":{\"id\":\"9391\"},\"y_scale\":{\"id\":\"9395\"}},\"id\":\"9388\",\"subtype\":\"Figure\",\"type\":\"Plot\"},{\"attributes\":{},\"id\":\"9389\",\"type\":\"DataRange1d\"},{\"attributes\":{\"data\":{\"desc\":[\"SRR5616889\",\"SRR5616890\",\"SRR5616891\",\"SRR5616892\",\"SRR5616893\",\"SRR5616894\",\"SRR5616895\",\"SRR5616896\",\"SRR5616897\",\"SRR5616898\",\"SRR5616899\",\"SRR5616900\",\"SRR5616901\",\"SRR5616902\",\"SRR5616903\",\"SRR5616904\",\"SRR5616905\"],\"x\":{\"__ndarray__\":\"Lio4uCligL+o/bdHRUNkv/r/pZ6aTXQ/U1+u+v74fz/vsCwIcuCOP+eFyMvoxp6/bQgsoSvcEb+yd9oUl716v4N7BAeRtoQ/Zlpc99/Gkb9p7RhsL0+ev3SmqDartYM/Fn22Rcwzor+Hsm1VE0yMvxogpQx3doG/qMSycL/jcb9a0+ie/emcvw==\",\"dtype\":\"float64\",\"order\":\"little\",\"shape\":[17]},\"y\":{\"__ndarray__\":\"ka/GYhVobj8ogqiyXMpAvwSoyPto0ES/Nn5hQn98Q78SL32FjzljP5Xyt+OsO2G/zVOuD8V0Xb831Vl+2WBXP/619e7/4kw/gcHZWmPbMj94PKzIL3oiv5FIXGzbYjA/IfzObBpHZb9YIisOWJhnPxklkXDR9D+/dsLkua7sUL/uGzvGWWlPPw==\",\"dtype\":\"float64\",\"order\":\"little\",\"shape\":[17]}},\"selected\":{\"id\":\"9755\"},\"selection_policy\":{\"id\":\"9756\"}},\"id\":\"9385\",\"type\":\"ColumnDataSource\"},{\"attributes\":{},\"id\":\"9405\",\"type\":\"SaveTool\"},{\"attributes\":{},\"id\":\"9393\",\"type\":\"LinearScale\"},{\"attributes\":{\"active_drag\":\"auto\",\"active_inspect\":\"auto\",\"active_multi\":null,\"active_scroll\":\"auto\",\"active_tap\":\"auto\",\"tools\":[{\"id\":\"9387\"},{\"id\":\"9405\"}]},\"id\":\"9406\",\"type\":\"Toolbar\"},{\"attributes\":{\"axis\":{\"id\":\"9401\"},\"dimension\":1,\"ticker\":null},\"id\":\"9404\",\"type\":\"Grid\"},{\"attributes\":{\"fill_color\":{\"value\":\"black\"},\"size\":{\"units\":\"screen\",\"value\":14},\"x\":{\"field\":\"x\"},\"y\":{\"field\":\"y\"}},\"id\":\"9410\",\"type\":\"Circle\"},{\"attributes\":{},\"id\":\"9758\",\"type\":\"UnionRenderers\"},{\"attributes\":{\"axis\":{\"id\":\"9397\"},\"ticker\":null},\"id\":\"9400\",\"type\":\"Grid\"},{\"attributes\":{\"fill_alpha\":{\"value\":0.1},\"fill_color\":{\"value\":\"black\"},\"line_alpha\":{\"value\":0.1},\"size\":{\"units\":\"screen\",\"value\":14},\"x\":{\"field\":\"x\"},\"y\":{\"field\":\"y\"}},\"id\":\"9411\",\"type\":\"Circle\"},{\"attributes\":{},\"id\":\"9753\",\"type\":\"BasicTickFormatter\"},{\"attributes\":{},\"id\":\"9398\",\"type\":\"BasicTicker\"},{\"attributes\":{\"data\":{\"desc\":[\"SRR5616906\",\"SRR5616907\",\"SRR5616908\",\"SRR5616909\",\"SRR5616910\",\"SRR5616911\",\"SRR5616912\",\"SRR5616913\",\"SRR5616914\",\"SRR5616915\",\"SRR5616916\",\"SRR5616917\",\"SRR5616918\",\"SRR5616919\",\"SRR5616920\",\"SRR5616921\",\"SRR5616922\",\"SRR5616923\",\"SRR5616924\"],\"x\":{\"__ndarray__\":\"++ckaW32hr8dCc53bzGKPyJ9Hfb+CYQ/RuLSoOKclD93oAOZW0aVv+IvJSBNt6I/u2k1L0Vgh7/S+Ue/STKkPxWNUkiyUXe/YzmoSJJbn78/yps2xeCDv/GoaaAUjpo/leRjEQXVhz9sIZA+THBgP9j3PW9WzqY//7Std6NumT8g194YS5h0v8fpMPPSG4W/fBeIob7jjD8=\",\"dtype\":\"float64\",\"order\":\"little\",\"shape\":[19]},\"y\":{\"__ndarray__\":\"R0SqkvEBGT+WItEv/LFhP6z1zC+finI/HBM/BX1YEz8qDRrFrhVRvwb5fGsbtli/etAWf1YkTz8JLSiD9hM/vxIdiD+RfFS/6mmMcCPEVb+p+yF0oCBCP5Cf888sLVa/ChECN5uKVr/FgowqNMZiP4avZGZaZGG/JJ4s7CfKJr+03fu2sQdcv+oXgfOyeyK/2IQ9LgqMUL8=\",\"dtype\":\"float64\",\"order\":\"little\",\"shape\":[19]}},\"selected\":{\"id\":\"9757\"},\"selection_policy\":{\"id\":\"9758\"}},\"id\":\"9386\",\"type\":\"ColumnDataSource\"},{\"attributes\":{\"data_source\":{\"id\":\"9385\"},\"glyph\":{\"id\":\"9410\"},\"hover_glyph\":null,\"muted_glyph\":null,\"nonselection_glyph\":{\"id\":\"9411\"},\"selection_glyph\":null,\"view\":{\"id\":\"9413\"}},\"id\":\"9412\",\"type\":\"GlyphRenderer\"},{\"attributes\":{\"source\":{\"id\":\"9385\"}},\"id\":\"9413\",\"type\":\"CDSView\"},{\"attributes\":{},\"id\":\"9391\",\"type\":\"DataRange1d\"},{\"attributes\":{\"source\":{\"id\":\"9386\"}},\"id\":\"9418\",\"type\":\"CDSView\"},{\"attributes\":{},\"id\":\"9757\",\"type\":\"Selection\"},{\"attributes\":{},\"id\":\"9755\",\"type\":\"Selection\"},{\"attributes\":{\"formatter\":{\"id\":\"9753\"},\"ticker\":{\"id\":\"9398\"}},\"id\":\"9397\",\"type\":\"LinearAxis\"},{\"attributes\":{},\"id\":\"9756\",\"type\":\"UnionRenderers\"},{\"attributes\":{\"fill_alpha\":{\"value\":0.1},\"fill_color\":{\"value\":\"darkorange\"},\"line_alpha\":{\"value\":0.1},\"line_color\":{\"value\":\"darkorange\"},\"size\":{\"units\":\"screen\",\"value\":16},\"x\":{\"field\":\"x\"},\"y\":{\"field\":\"y\"}},\"id\":\"9416\",\"type\":\"Triangle\"},{\"attributes\":{},\"id\":\"9751\",\"type\":\"BasicTickFormatter\"},{\"attributes\":{},\"id\":\"9395\",\"type\":\"LinearScale\"},{\"attributes\":{\"fill_color\":{\"value\":\"darkorange\"},\"line_color\":{\"value\":\"darkorange\"},\"size\":{\"units\":\"screen\",\"value\":16},\"x\":{\"field\":\"x\"},\"y\":{\"field\":\"y\"}},\"id\":\"9415\",\"type\":\"Triangle\"},{\"attributes\":{\"callback\":null,\"tooltips\":[[\"index\",\"$index\"],[\"desc\",\"@desc\"]]},\"id\":\"9387\",\"type\":\"HoverTool\"},{\"attributes\":{\"formatter\":{\"id\":\"9751\"},\"ticker\":{\"id\":\"9402\"}},\"id\":\"9401\",\"type\":\"LinearAxis\"},{\"attributes\":{\"data_source\":{\"id\":\"9386\"},\"glyph\":{\"id\":\"9415\"},\"hover_glyph\":null,\"muted_glyph\":null,\"nonselection_glyph\":{\"id\":\"9416\"},\"selection_glyph\":null,\"view\":{\"id\":\"9418\"}},\"id\":\"9417\",\"type\":\"GlyphRenderer\"},{\"attributes\":{\"text\":\"\"},\"id\":\"9749\",\"type\":\"Title\"},{\"attributes\":{},\"id\":\"9402\",\"type\":\"BasicTicker\"}],\"root_ids\":[\"9388\"]},\"title\":\"Bokeh Application\",\"version\":\"2.2.3\"}};\n",
       "  var render_items = [{\"docid\":\"0b02227f-97bf-4291-abc7-9d7fa9c85bef\",\"root_ids\":[\"9388\"],\"roots\":{\"9388\":\"a86bd947-41ed-4855-80e2-6c4154f27011\"}}];\n",
       "  root.Bokeh.embed.embed_items_notebook(docs_json, render_items);\n",
       "\n",
       "  }\n",
       "  if (root.Bokeh !== undefined) {\n",
       "    embed_document(root);\n",
       "  } else {\n",
       "    var attempts = 0;\n",
       "    var timer = setInterval(function(root) {\n",
       "      if (root.Bokeh !== undefined) {\n",
       "        clearInterval(timer);\n",
       "        embed_document(root);\n",
       "      } else {\n",
       "        attempts++;\n",
       "        if (attempts > 100) {\n",
       "          clearInterval(timer);\n",
       "          console.log(\"Bokeh: ERROR: Unable to run BokehJS code because BokehJS library is missing\");\n",
       "        }\n",
       "      }\n",
       "    }, 10, root)\n",
       "  }\n",
       "})(window);"
      ],
      "application/vnd.bokehjs_exec.v0+json": ""
     },
     "metadata": {
      "application/vnd.bokehjs_exec.v0+json": {
       "id": "9388"
      }
     },
     "output_type": "display_data"
    }
   ],
   "source": [
    "# q = 2\n",
    "draw_PCA(dfs[1])"
   ]
  },
  {
   "cell_type": "code",
   "execution_count": 49,
   "metadata": {},
   "outputs": [
    {
     "data": {
      "text/html": [
       "\n",
       "\n",
       "\n",
       "\n",
       "\n",
       "\n",
       "  <div class=\"bk-root\" id=\"e445abdd-0aca-48fd-84ee-2e380a0760cd\" data-root-id=\"9812\"></div>\n"
      ]
     },
     "metadata": {},
     "output_type": "display_data"
    },
    {
     "data": {
      "application/javascript": [
       "(function(root) {\n",
       "  function embed_document(root) {\n",
       "    \n",
       "  var docs_json = {\"a844b8c9-58f9-4215-bda2-02e8e53c46de\":{\"roots\":{\"references\":[{\"attributes\":{\"below\":[{\"id\":\"9821\"}],\"center\":[{\"id\":\"9824\"},{\"id\":\"9828\"}],\"left\":[{\"id\":\"9825\"}],\"plot_height\":500,\"plot_width\":550,\"renderers\":[{\"id\":\"9836\"},{\"id\":\"9841\"}],\"title\":{\"id\":\"10183\"},\"toolbar\":{\"id\":\"9830\"},\"x_range\":{\"id\":\"9813\"},\"x_scale\":{\"id\":\"9817\"},\"y_range\":{\"id\":\"9815\"},\"y_scale\":{\"id\":\"9819\"}},\"id\":\"9812\",\"subtype\":\"Figure\",\"type\":\"Plot\"},{\"attributes\":{},\"id\":\"9813\",\"type\":\"DataRange1d\"},{\"attributes\":{},\"id\":\"9815\",\"type\":\"DataRange1d\"},{\"attributes\":{\"source\":{\"id\":\"9810\"}},\"id\":\"9842\",\"type\":\"CDSView\"},{\"attributes\":{},\"id\":\"9817\",\"type\":\"LinearScale\"},{\"attributes\":{\"fill_alpha\":{\"value\":0.1},\"fill_color\":{\"value\":\"darkorange\"},\"line_alpha\":{\"value\":0.1},\"line_color\":{\"value\":\"darkorange\"},\"size\":{\"units\":\"screen\",\"value\":16},\"x\":{\"field\":\"x\"},\"y\":{\"field\":\"y\"}},\"id\":\"9840\",\"type\":\"Triangle\"},{\"attributes\":{},\"id\":\"9819\",\"type\":\"LinearScale\"},{\"attributes\":{\"callback\":null,\"tooltips\":[[\"index\",\"$index\"],[\"desc\",\"@desc\"]]},\"id\":\"9811\",\"type\":\"HoverTool\"},{\"attributes\":{\"data_source\":{\"id\":\"9810\"},\"glyph\":{\"id\":\"9839\"},\"hover_glyph\":null,\"muted_glyph\":null,\"nonselection_glyph\":{\"id\":\"9840\"},\"selection_glyph\":null,\"view\":{\"id\":\"9842\"}},\"id\":\"9841\",\"type\":\"GlyphRenderer\"},{\"attributes\":{\"formatter\":{\"id\":\"10187\"},\"ticker\":{\"id\":\"9822\"}},\"id\":\"9821\",\"type\":\"LinearAxis\"},{\"attributes\":{\"fill_color\":{\"value\":\"darkorange\"},\"line_color\":{\"value\":\"darkorange\"},\"size\":{\"units\":\"screen\",\"value\":16},\"x\":{\"field\":\"x\"},\"y\":{\"field\":\"y\"}},\"id\":\"9839\",\"type\":\"Triangle\"},{\"attributes\":{},\"id\":\"9822\",\"type\":\"BasicTicker\"},{\"attributes\":{\"data\":{\"desc\":[\"SRR5616906\",\"SRR5616907\",\"SRR5616908\",\"SRR5616909\",\"SRR5616910\",\"SRR5616911\",\"SRR5616912\",\"SRR5616913\",\"SRR5616914\",\"SRR5616915\",\"SRR5616916\",\"SRR5616917\",\"SRR5616918\",\"SRR5616919\",\"SRR5616920\",\"SRR5616921\",\"SRR5616922\",\"SRR5616923\",\"SRR5616924\"],\"x\":{\"__ndarray__\":\"KUMIz5HnWL9hcyer4QNiP//jYqd//lY/4hO/Q2IddT+ODK/b6xhyvy3zXNZisYA/3h+ytGL3Y79uVt29JjiAP5aGhoZ1MSI/Ov/NAEn8er9fPnS3OApivzbhPwPcHXU/Xm4DnfwcaD9PhOBHED9CP9rh6s0Nf4Q/xJZV/qZ8dT8mducSwnE5vwLbAoAfOGK/dPTJ6HLabD8=\",\"dtype\":\"float64\",\"order\":\"little\",\"shape\":[19]},\"y\":{\"__ndarray__\":\"wAWDRAAnAj8U3d7fr09GP+hksd/bWVM/ztezrC/zKz/mqskSTs0Yv40L7kVrdzS/zmqJudhDLj81+xRH2C0uv88JJnOOuSi/k8xHBgWzP78fEQPiDqQpP7MvsuFKAzW/DUxFH0rkM7/04cg1MLM9Pwm8feX4A0+/LCUnLklePD/oBHf0gWkzv5hYCy5jZTO/t2BllR/EQr8=\",\"dtype\":\"float64\",\"order\":\"little\",\"shape\":[19]}},\"selected\":{\"id\":\"10191\"},\"selection_policy\":{\"id\":\"10192\"}},\"id\":\"9810\",\"type\":\"ColumnDataSource\"},{\"attributes\":{\"axis\":{\"id\":\"9821\"},\"ticker\":null},\"id\":\"9824\",\"type\":\"Grid\"},{\"attributes\":{},\"id\":\"10185\",\"type\":\"BasicTickFormatter\"},{\"attributes\":{\"formatter\":{\"id\":\"10185\"},\"ticker\":{\"id\":\"9826\"}},\"id\":\"9825\",\"type\":\"LinearAxis\"},{\"attributes\":{},\"id\":\"10187\",\"type\":\"BasicTickFormatter\"},{\"attributes\":{},\"id\":\"9826\",\"type\":\"BasicTicker\"},{\"attributes\":{},\"id\":\"10189\",\"type\":\"Selection\"},{\"attributes\":{\"axis\":{\"id\":\"9825\"},\"dimension\":1,\"ticker\":null},\"id\":\"9828\",\"type\":\"Grid\"},{\"attributes\":{},\"id\":\"10190\",\"type\":\"UnionRenderers\"},{\"attributes\":{},\"id\":\"10191\",\"type\":\"Selection\"},{\"attributes\":{},\"id\":\"10192\",\"type\":\"UnionRenderers\"},{\"attributes\":{},\"id\":\"9829\",\"type\":\"SaveTool\"},{\"attributes\":{\"active_drag\":\"auto\",\"active_inspect\":\"auto\",\"active_multi\":null,\"active_scroll\":\"auto\",\"active_tap\":\"auto\",\"tools\":[{\"id\":\"9811\"},{\"id\":\"9829\"}]},\"id\":\"9830\",\"type\":\"Toolbar\"},{\"attributes\":{\"data\":{\"desc\":[\"SRR5616889\",\"SRR5616890\",\"SRR5616891\",\"SRR5616892\",\"SRR5616893\",\"SRR5616894\",\"SRR5616895\",\"SRR5616896\",\"SRR5616897\",\"SRR5616898\",\"SRR5616899\",\"SRR5616900\",\"SRR5616901\",\"SRR5616902\",\"SRR5616903\",\"SRR5616904\",\"SRR5616905\"],\"x\":{\"__ndarray__\":\"qgFXKQrWZb+x+Mpz9wnmPi6bslCkCVU/Klr+lE4hVj/ZlF1wbK1iP9/wPAONm3u/uLnCPUcTUD//vtRRrpxgv7p4oH8NLGQ/0p13gYl8a79z6ilXqNB7v4n/sfxf/k8/PGTl+PJigL+QU9MFB/Jsv1Gr7XtGQFe/PI5kpbh8Ub+TqApA1BF6vw==\",\"dtype\":\"float64\",\"order\":\"little\",\"shape\":[17]},\"y\":{\"__ndarray__\":\"RU8f5IihSz/zcid2KwD0Pv/jzaOkNzo/Rbr1on5IJ7/LzNiErRpNP7yU9szr+j+/Bgv97FXLOb9/2o7tDm0/P1crrwQf0hA/sm7IHz9bIL8llGOzSaUwv233JZBjQi8/sxHFmbe8Q7/CxSKxOrNBP0sE58IzPDi/Q22rIBUTPr8KRRF85aPzPg==\",\"dtype\":\"float64\",\"order\":\"little\",\"shape\":[17]}},\"selected\":{\"id\":\"10189\"},\"selection_policy\":{\"id\":\"10190\"}},\"id\":\"9809\",\"type\":\"ColumnDataSource\"},{\"attributes\":{\"source\":{\"id\":\"9809\"}},\"id\":\"9837\",\"type\":\"CDSView\"},{\"attributes\":{\"fill_alpha\":{\"value\":0.1},\"fill_color\":{\"value\":\"black\"},\"line_alpha\":{\"value\":0.1},\"size\":{\"units\":\"screen\",\"value\":14},\"x\":{\"field\":\"x\"},\"y\":{\"field\":\"y\"}},\"id\":\"9835\",\"type\":\"Circle\"},{\"attributes\":{\"text\":\"\"},\"id\":\"10183\",\"type\":\"Title\"},{\"attributes\":{\"data_source\":{\"id\":\"9809\"},\"glyph\":{\"id\":\"9834\"},\"hover_glyph\":null,\"muted_glyph\":null,\"nonselection_glyph\":{\"id\":\"9835\"},\"selection_glyph\":null,\"view\":{\"id\":\"9837\"}},\"id\":\"9836\",\"type\":\"GlyphRenderer\"},{\"attributes\":{\"fill_color\":{\"value\":\"black\"},\"size\":{\"units\":\"screen\",\"value\":14},\"x\":{\"field\":\"x\"},\"y\":{\"field\":\"y\"}},\"id\":\"9834\",\"type\":\"Circle\"}],\"root_ids\":[\"9812\"]},\"title\":\"Bokeh Application\",\"version\":\"2.2.3\"}};\n",
       "  var render_items = [{\"docid\":\"a844b8c9-58f9-4215-bda2-02e8e53c46de\",\"root_ids\":[\"9812\"],\"roots\":{\"9812\":\"e445abdd-0aca-48fd-84ee-2e380a0760cd\"}}];\n",
       "  root.Bokeh.embed.embed_items_notebook(docs_json, render_items);\n",
       "\n",
       "  }\n",
       "  if (root.Bokeh !== undefined) {\n",
       "    embed_document(root);\n",
       "  } else {\n",
       "    var attempts = 0;\n",
       "    var timer = setInterval(function(root) {\n",
       "      if (root.Bokeh !== undefined) {\n",
       "        clearInterval(timer);\n",
       "        embed_document(root);\n",
       "      } else {\n",
       "        attempts++;\n",
       "        if (attempts > 100) {\n",
       "          clearInterval(timer);\n",
       "          console.log(\"Bokeh: ERROR: Unable to run BokehJS code because BokehJS library is missing\");\n",
       "        }\n",
       "      }\n",
       "    }, 10, root)\n",
       "  }\n",
       "})(window);"
      ],
      "application/vnd.bokehjs_exec.v0+json": ""
     },
     "metadata": {
      "application/vnd.bokehjs_exec.v0+json": {
       "id": "9812"
      }
     },
     "output_type": "display_data"
    }
   ],
   "source": [
    "# q = 3\n",
    "draw_PCA(dfs[2])"
   ]
  },
  {
   "cell_type": "code",
   "execution_count": 50,
   "metadata": {},
   "outputs": [
    {
     "data": {
      "text/html": [
       "\n",
       "\n",
       "\n",
       "\n",
       "\n",
       "\n",
       "  <div class=\"bk-root\" id=\"aa582230-169f-4b52-b7d5-fbc3e18774ba\" data-root-id=\"10246\"></div>\n"
      ]
     },
     "metadata": {},
     "output_type": "display_data"
    },
    {
     "data": {
      "application/javascript": [
       "(function(root) {\n",
       "  function embed_document(root) {\n",
       "    \n",
       "  var docs_json = {\"7cce4dce-5f56-4e4c-ac06-e64850880bff\":{\"roots\":{\"references\":[{\"attributes\":{\"below\":[{\"id\":\"10255\"}],\"center\":[{\"id\":\"10258\"},{\"id\":\"10262\"}],\"left\":[{\"id\":\"10259\"}],\"plot_height\":500,\"plot_width\":550,\"renderers\":[{\"id\":\"10270\"},{\"id\":\"10275\"}],\"title\":{\"id\":\"10627\"},\"toolbar\":{\"id\":\"10264\"},\"x_range\":{\"id\":\"10247\"},\"x_scale\":{\"id\":\"10251\"},\"y_range\":{\"id\":\"10249\"},\"y_scale\":{\"id\":\"10253\"}},\"id\":\"10246\",\"subtype\":\"Figure\",\"type\":\"Plot\"},{\"attributes\":{\"source\":{\"id\":\"10243\"}},\"id\":\"10271\",\"type\":\"CDSView\"},{\"attributes\":{\"fill_alpha\":{\"value\":0.1},\"fill_color\":{\"value\":\"black\"},\"line_alpha\":{\"value\":0.1},\"size\":{\"units\":\"screen\",\"value\":14},\"x\":{\"field\":\"x\"},\"y\":{\"field\":\"y\"}},\"id\":\"10269\",\"type\":\"Circle\"},{\"attributes\":{\"data\":{\"desc\":[\"SRR5616906\",\"SRR5616907\",\"SRR5616908\",\"SRR5616909\",\"SRR5616910\",\"SRR5616911\",\"SRR5616912\",\"SRR5616913\",\"SRR5616914\",\"SRR5616915\",\"SRR5616916\",\"SRR5616917\",\"SRR5616918\",\"SRR5616919\",\"SRR5616920\",\"SRR5616921\",\"SRR5616922\",\"SRR5616923\",\"SRR5616924\"],\"x\":{\"__ndarray__\":\"CKBD1HjUJr/zHajBgk1JPwsWFBJRNUI/hcRCe+sHWz9a2EWRBVxRv0++ffo3ImM/rkntVQokR7+NivCnIpFePzcmnxIDu0E/SWOZAxRWYL/frtnNRWlIv+NRyjYC7Vk/3nwKVad0TT/z0cVE3aUjP3aCBqwL8ms/mFFuJ8Y5WT8RFVCOE4sfPy9hjvSOXEy/CGYfstFKUT8=\",\"dtype\":\"float64\",\"order\":\"little\",\"shape\":[19]},\"y\":{\"__ndarray__\":\"RmOrWqd3Ib+iG+DKsbcov9P28HLzDje/2XCeCJ/4Lz8hWykmRfYxv+QqOqbPAjI/WpI15tzmC78BPUBfJbJCPzjkuMuJBj+/adynupbJIz/cXgVbXLIQP6MfpXnoqTU/1lhxIFvw9T6cQ/NxYycKP/jrz6XPXhm/53uVTKltJL9ffJHlFHI1v9UDmVhSmzY/kWThlJvaLj8=\",\"dtype\":\"float64\",\"order\":\"little\",\"shape\":[19]}},\"selected\":{\"id\":\"10635\"},\"selection_policy\":{\"id\":\"10636\"}},\"id\":\"10244\",\"type\":\"ColumnDataSource\"},{\"attributes\":{\"callback\":null,\"tooltips\":[[\"index\",\"$index\"],[\"desc\",\"@desc\"]]},\"id\":\"10245\",\"type\":\"HoverTool\"},{\"attributes\":{\"data_source\":{\"id\":\"10243\"},\"glyph\":{\"id\":\"10268\"},\"hover_glyph\":null,\"muted_glyph\":null,\"nonselection_glyph\":{\"id\":\"10269\"},\"selection_glyph\":null,\"view\":{\"id\":\"10271\"}},\"id\":\"10270\",\"type\":\"GlyphRenderer\"},{\"attributes\":{\"fill_color\":{\"value\":\"black\"},\"size\":{\"units\":\"screen\",\"value\":14},\"x\":{\"field\":\"x\"},\"y\":{\"field\":\"y\"}},\"id\":\"10268\",\"type\":\"Circle\"},{\"attributes\":{},\"id\":\"10247\",\"type\":\"DataRange1d\"},{\"attributes\":{},\"id\":\"10629\",\"type\":\"BasicTickFormatter\"},{\"attributes\":{},\"id\":\"10249\",\"type\":\"DataRange1d\"},{\"attributes\":{\"source\":{\"id\":\"10244\"}},\"id\":\"10276\",\"type\":\"CDSView\"},{\"attributes\":{},\"id\":\"10251\",\"type\":\"LinearScale\"},{\"attributes\":{\"fill_alpha\":{\"value\":0.1},\"fill_color\":{\"value\":\"darkorange\"},\"line_alpha\":{\"value\":0.1},\"line_color\":{\"value\":\"darkorange\"},\"size\":{\"units\":\"screen\",\"value\":16},\"x\":{\"field\":\"x\"},\"y\":{\"field\":\"y\"}},\"id\":\"10274\",\"type\":\"Triangle\"},{\"attributes\":{},\"id\":\"10253\",\"type\":\"LinearScale\"},{\"attributes\":{\"data_source\":{\"id\":\"10244\"},\"glyph\":{\"id\":\"10273\"},\"hover_glyph\":null,\"muted_glyph\":null,\"nonselection_glyph\":{\"id\":\"10274\"},\"selection_glyph\":null,\"view\":{\"id\":\"10276\"}},\"id\":\"10275\",\"type\":\"GlyphRenderer\"},{\"attributes\":{\"formatter\":{\"id\":\"10631\"},\"ticker\":{\"id\":\"10256\"}},\"id\":\"10255\",\"type\":\"LinearAxis\"},{\"attributes\":{\"fill_color\":{\"value\":\"darkorange\"},\"line_color\":{\"value\":\"darkorange\"},\"size\":{\"units\":\"screen\",\"value\":16},\"x\":{\"field\":\"x\"},\"y\":{\"field\":\"y\"}},\"id\":\"10273\",\"type\":\"Triangle\"},{\"attributes\":{},\"id\":\"10256\",\"type\":\"BasicTicker\"},{\"attributes\":{},\"id\":\"10631\",\"type\":\"BasicTickFormatter\"},{\"attributes\":{\"axis\":{\"id\":\"10255\"},\"ticker\":null},\"id\":\"10258\",\"type\":\"Grid\"},{\"attributes\":{},\"id\":\"10633\",\"type\":\"Selection\"},{\"attributes\":{\"formatter\":{\"id\":\"10629\"},\"ticker\":{\"id\":\"10260\"}},\"id\":\"10259\",\"type\":\"LinearAxis\"},{\"attributes\":{\"data\":{\"desc\":[\"SRR5616889\",\"SRR5616890\",\"SRR5616891\",\"SRR5616892\",\"SRR5616893\",\"SRR5616894\",\"SRR5616895\",\"SRR5616896\",\"SRR5616897\",\"SRR5616898\",\"SRR5616899\",\"SRR5616900\",\"SRR5616901\",\"SRR5616902\",\"SRR5616903\",\"SRR5616904\",\"SRR5616905\"],\"x\":{\"__ndarray__\":\"N6i91uwHTL8+9gtTljIev/WS4CAAMD4/0Q716G/iQj+zTffSdnQ/P3fqrPbPdWC/B6WiaI9VQj9v3pDtEttMv5MgCyuMBko/VkaJE1Q6Ub9Hf9rWAI1ivzwARw4RPjI/70jimrGHY78TgrrDf35Vv+xdd6/7qz2/HNgnCi5xQ7+9d4iP/7lhvw==\",\"dtype\":\"float64\",\"order\":\"little\",\"shape\":[17]},\"y\":{\"__ndarray__\":\"/HNHrZLfJL+ne8tBFWcIv8WPm499fUC/LJAslqcCMD/99CbF+rwpv66AbSsr0x0/PVGeTL0JFb92tzatB3gZv0U6RVtT6SS/o3E5hbFkBT/wiX5ikWsmPxzRtXpUp/O+VzJ4qj7EIj9TiXA14ksav/1/BCx9ARs/akl9JwMpKz/eIOXp8vUbPw==\",\"dtype\":\"float64\",\"order\":\"little\",\"shape\":[17]}},\"selected\":{\"id\":\"10633\"},\"selection_policy\":{\"id\":\"10634\"}},\"id\":\"10243\",\"type\":\"ColumnDataSource\"},{\"attributes\":{},\"id\":\"10634\",\"type\":\"UnionRenderers\"},{\"attributes\":{},\"id\":\"10260\",\"type\":\"BasicTicker\"},{\"attributes\":{},\"id\":\"10635\",\"type\":\"Selection\"},{\"attributes\":{\"axis\":{\"id\":\"10259\"},\"dimension\":1,\"ticker\":null},\"id\":\"10262\",\"type\":\"Grid\"},{\"attributes\":{},\"id\":\"10636\",\"type\":\"UnionRenderers\"},{\"attributes\":{\"text\":\"\"},\"id\":\"10627\",\"type\":\"Title\"},{\"attributes\":{},\"id\":\"10263\",\"type\":\"SaveTool\"},{\"attributes\":{\"active_drag\":\"auto\",\"active_inspect\":\"auto\",\"active_multi\":null,\"active_scroll\":\"auto\",\"active_tap\":\"auto\",\"tools\":[{\"id\":\"10245\"},{\"id\":\"10263\"}]},\"id\":\"10264\",\"type\":\"Toolbar\"}],\"root_ids\":[\"10246\"]},\"title\":\"Bokeh Application\",\"version\":\"2.2.3\"}};\n",
       "  var render_items = [{\"docid\":\"7cce4dce-5f56-4e4c-ac06-e64850880bff\",\"root_ids\":[\"10246\"],\"roots\":{\"10246\":\"aa582230-169f-4b52-b7d5-fbc3e18774ba\"}}];\n",
       "  root.Bokeh.embed.embed_items_notebook(docs_json, render_items);\n",
       "\n",
       "  }\n",
       "  if (root.Bokeh !== undefined) {\n",
       "    embed_document(root);\n",
       "  } else {\n",
       "    var attempts = 0;\n",
       "    var timer = setInterval(function(root) {\n",
       "      if (root.Bokeh !== undefined) {\n",
       "        clearInterval(timer);\n",
       "        embed_document(root);\n",
       "      } else {\n",
       "        attempts++;\n",
       "        if (attempts > 100) {\n",
       "          clearInterval(timer);\n",
       "          console.log(\"Bokeh: ERROR: Unable to run BokehJS code because BokehJS library is missing\");\n",
       "        }\n",
       "      }\n",
       "    }, 10, root)\n",
       "  }\n",
       "})(window);"
      ],
      "application/vnd.bokehjs_exec.v0+json": ""
     },
     "metadata": {
      "application/vnd.bokehjs_exec.v0+json": {
       "id": "10246"
      }
     },
     "output_type": "display_data"
    }
   ],
   "source": [
    "# q = 4\n",
    "draw_PCA(dfs[3])"
   ]
  },
  {
   "cell_type": "code",
   "execution_count": 51,
   "metadata": {},
   "outputs": [
    {
     "data": {
      "text/html": [
       "\n",
       "\n",
       "\n",
       "\n",
       "\n",
       "\n",
       "  <div class=\"bk-root\" id=\"9d997024-8939-4f3c-bd7c-843af3a0b7de\" data-root-id=\"10690\"></div>\n"
      ]
     },
     "metadata": {},
     "output_type": "display_data"
    },
    {
     "data": {
      "application/javascript": [
       "(function(root) {\n",
       "  function embed_document(root) {\n",
       "    \n",
       "  var docs_json = {\"0fe15bdb-48c4-4b9b-a286-62fc264cf94d\":{\"roots\":{\"references\":[{\"attributes\":{\"below\":[{\"id\":\"10699\"}],\"center\":[{\"id\":\"10702\"},{\"id\":\"10706\"}],\"left\":[{\"id\":\"10703\"}],\"plot_height\":500,\"plot_width\":550,\"renderers\":[{\"id\":\"10714\"},{\"id\":\"10719\"}],\"title\":{\"id\":\"11081\"},\"toolbar\":{\"id\":\"10708\"},\"x_range\":{\"id\":\"10691\"},\"x_scale\":{\"id\":\"10695\"},\"y_range\":{\"id\":\"10693\"},\"y_scale\":{\"id\":\"10697\"}},\"id\":\"10690\",\"subtype\":\"Figure\",\"type\":\"Plot\"},{\"attributes\":{},\"id\":\"10707\",\"type\":\"SaveTool\"},{\"attributes\":{},\"id\":\"11089\",\"type\":\"Selection\"},{\"attributes\":{\"data\":{\"desc\":[\"SRR5616906\",\"SRR5616907\",\"SRR5616908\",\"SRR5616909\",\"SRR5616910\",\"SRR5616911\",\"SRR5616912\",\"SRR5616913\",\"SRR5616914\",\"SRR5616915\",\"SRR5616916\",\"SRR5616917\",\"SRR5616918\",\"SRR5616919\",\"SRR5616920\",\"SRR5616921\",\"SRR5616922\",\"SRR5616923\",\"SRR5616924\"],\"x\":{\"__ndarray__\":\"8RN1xKxIwr4eiPGGR0ckP31SCoAnP/s+6LKDYBZBPD+SuQqlERcvv8rGThO+Z0E/VCWS6eUfIr98bnDhqYA9PzubxpDAUR8/UQok5vwbOL8O+LeNK04hvzUS7iFFqjg/sDB9C0+YKT8bCyTQHFgJP640agGDOEc/KmIowSXeKz9dBZEzrl0CvxleHJuEURu/cU/QP/VeLT8=\",\"dtype\":\"float64\",\"order\":\"little\",\"shape\":[19]},\"y\":{\"__ndarray__\":\"2fxhqlvV1j5xZDmY+6oEP2xsVS4YgxQ/TOlskQfFEb+fNd74ypwDvz+JaRwsfAE/9p+WKF7sBD9NHS4LiX76PmXAqwEOPRC/k1tvLlRpBr+JLx8NYIvKPsTrmyMJKhS/oL9YTmV3C7+Hs13aJlbvPoboYAroHei+0CwwWMAOIT9aZEZCNfkBvyT0XSOc/gK/Xv/wKbdABb8=\",\"dtype\":\"float64\",\"order\":\"little\",\"shape\":[19]}},\"selected\":{\"id\":\"11089\"},\"selection_policy\":{\"id\":\"11090\"}},\"id\":\"10688\",\"type\":\"ColumnDataSource\"},{\"attributes\":{},\"id\":\"11090\",\"type\":\"UnionRenderers\"},{\"attributes\":{\"data\":{\"desc\":[\"SRR5616889\",\"SRR5616890\",\"SRR5616891\",\"SRR5616892\",\"SRR5616893\",\"SRR5616894\",\"SRR5616895\",\"SRR5616896\",\"SRR5616897\",\"SRR5616898\",\"SRR5616899\",\"SRR5616900\",\"SRR5616901\",\"SRR5616902\",\"SRR5616903\",\"SRR5616904\",\"SRR5616905\"],\"x\":{\"__ndarray__\":\"CJzrkVvYKL+0H3MtQ2jxvs1NT27CEge/lU5P/UDdJT9Ps+e4ekvzPub/plmALTi/awE+0kEyJD+AmLERexswv9MQo/7ylxE/uSOmTJqBJ79wKE9AMVA9v/cFu3tz3O8+fD6qdaGRPL8cyrHeM4w0v8Aro9o6/xO/ZU6WNFJXIL8dHCgAGOQ8vw==\",\"dtype\":\"float64\",\"order\":\"little\",\"shape\":[17]},\"y\":{\"__ndarray__\":\"xq4kBiCFCT+iSvqR8nH0PlvDzY43TQU/xY5Ytc1hFb+QFyOop84gP5tJsFNc5RG/nUNpFRLlAL9nTZ3Ev70RP8NtaXyWbxE/tgCSdFhm7T71/0JVdJhtPu8RQ3qq1hW/nuh18ri2Hr8Wx7FPR3URPzjNEhDjPuu+COglh7Pe9T68oww+Ca3uPg==\",\"dtype\":\"float64\",\"order\":\"little\",\"shape\":[17]}},\"selected\":{\"id\":\"11087\"},\"selection_policy\":{\"id\":\"11088\"}},\"id\":\"10687\",\"type\":\"ColumnDataSource\"},{\"attributes\":{},\"id\":\"10697\",\"type\":\"LinearScale\"},{\"attributes\":{},\"id\":\"11088\",\"type\":\"UnionRenderers\"},{\"attributes\":{},\"id\":\"11087\",\"type\":\"Selection\"},{\"attributes\":{\"data_source\":{\"id\":\"10687\"},\"glyph\":{\"id\":\"10712\"},\"hover_glyph\":null,\"muted_glyph\":null,\"nonselection_glyph\":{\"id\":\"10713\"},\"selection_glyph\":null,\"view\":{\"id\":\"10715\"}},\"id\":\"10714\",\"type\":\"GlyphRenderer\"},{\"attributes\":{},\"id\":\"10691\",\"type\":\"DataRange1d\"},{\"attributes\":{\"callback\":null,\"tooltips\":[[\"index\",\"$index\"],[\"desc\",\"@desc\"]]},\"id\":\"10689\",\"type\":\"HoverTool\"},{\"attributes\":{},\"id\":\"10693\",\"type\":\"DataRange1d\"},{\"attributes\":{},\"id\":\"11085\",\"type\":\"BasicTickFormatter\"},{\"attributes\":{\"text\":\"\"},\"id\":\"11081\",\"type\":\"Title\"},{\"attributes\":{\"formatter\":{\"id\":\"11085\"},\"ticker\":{\"id\":\"10700\"}},\"id\":\"10699\",\"type\":\"LinearAxis\"},{\"attributes\":{},\"id\":\"10700\",\"type\":\"BasicTicker\"},{\"attributes\":{},\"id\":\"10695\",\"type\":\"LinearScale\"},{\"attributes\":{\"fill_color\":{\"value\":\"black\"},\"size\":{\"units\":\"screen\",\"value\":14},\"x\":{\"field\":\"x\"},\"y\":{\"field\":\"y\"}},\"id\":\"10712\",\"type\":\"Circle\"},{\"attributes\":{\"formatter\":{\"id\":\"11083\"},\"ticker\":{\"id\":\"10704\"}},\"id\":\"10703\",\"type\":\"LinearAxis\"},{\"attributes\":{\"fill_alpha\":{\"value\":0.1},\"fill_color\":{\"value\":\"darkorange\"},\"line_alpha\":{\"value\":0.1},\"line_color\":{\"value\":\"darkorange\"},\"size\":{\"units\":\"screen\",\"value\":16},\"x\":{\"field\":\"x\"},\"y\":{\"field\":\"y\"}},\"id\":\"10718\",\"type\":\"Triangle\"},{\"attributes\":{\"axis\":{\"id\":\"10699\"},\"ticker\":null},\"id\":\"10702\",\"type\":\"Grid\"},{\"attributes\":{\"source\":{\"id\":\"10688\"}},\"id\":\"10720\",\"type\":\"CDSView\"},{\"attributes\":{\"data_source\":{\"id\":\"10688\"},\"glyph\":{\"id\":\"10717\"},\"hover_glyph\":null,\"muted_glyph\":null,\"nonselection_glyph\":{\"id\":\"10718\"},\"selection_glyph\":null,\"view\":{\"id\":\"10720\"}},\"id\":\"10719\",\"type\":\"GlyphRenderer\"},{\"attributes\":{},\"id\":\"10704\",\"type\":\"BasicTicker\"},{\"attributes\":{\"fill_alpha\":{\"value\":0.1},\"fill_color\":{\"value\":\"black\"},\"line_alpha\":{\"value\":0.1},\"size\":{\"units\":\"screen\",\"value\":14},\"x\":{\"field\":\"x\"},\"y\":{\"field\":\"y\"}},\"id\":\"10713\",\"type\":\"Circle\"},{\"attributes\":{\"axis\":{\"id\":\"10703\"},\"dimension\":1,\"ticker\":null},\"id\":\"10706\",\"type\":\"Grid\"},{\"attributes\":{\"fill_color\":{\"value\":\"darkorange\"},\"line_color\":{\"value\":\"darkorange\"},\"size\":{\"units\":\"screen\",\"value\":16},\"x\":{\"field\":\"x\"},\"y\":{\"field\":\"y\"}},\"id\":\"10717\",\"type\":\"Triangle\"},{\"attributes\":{\"source\":{\"id\":\"10687\"}},\"id\":\"10715\",\"type\":\"CDSView\"},{\"attributes\":{},\"id\":\"11083\",\"type\":\"BasicTickFormatter\"},{\"attributes\":{\"active_drag\":\"auto\",\"active_inspect\":\"auto\",\"active_multi\":null,\"active_scroll\":\"auto\",\"active_tap\":\"auto\",\"tools\":[{\"id\":\"10689\"},{\"id\":\"10707\"}]},\"id\":\"10708\",\"type\":\"Toolbar\"}],\"root_ids\":[\"10690\"]},\"title\":\"Bokeh Application\",\"version\":\"2.2.3\"}};\n",
       "  var render_items = [{\"docid\":\"0fe15bdb-48c4-4b9b-a286-62fc264cf94d\",\"root_ids\":[\"10690\"],\"roots\":{\"10690\":\"9d997024-8939-4f3c-bd7c-843af3a0b7de\"}}];\n",
       "  root.Bokeh.embed.embed_items_notebook(docs_json, render_items);\n",
       "\n",
       "  }\n",
       "  if (root.Bokeh !== undefined) {\n",
       "    embed_document(root);\n",
       "  } else {\n",
       "    var attempts = 0;\n",
       "    var timer = setInterval(function(root) {\n",
       "      if (root.Bokeh !== undefined) {\n",
       "        clearInterval(timer);\n",
       "        embed_document(root);\n",
       "      } else {\n",
       "        attempts++;\n",
       "        if (attempts > 100) {\n",
       "          clearInterval(timer);\n",
       "          console.log(\"Bokeh: ERROR: Unable to run BokehJS code because BokehJS library is missing\");\n",
       "        }\n",
       "      }\n",
       "    }, 10, root)\n",
       "  }\n",
       "})(window);"
      ],
      "application/vnd.bokehjs_exec.v0+json": ""
     },
     "metadata": {
      "application/vnd.bokehjs_exec.v0+json": {
       "id": "10690"
      }
     },
     "output_type": "display_data"
    }
   ],
   "source": [
    "# q = 5\n",
    "draw_PCA(dfs[4])"
   ]
  },
  {
   "cell_type": "code",
   "execution_count": 52,
   "metadata": {},
   "outputs": [
    {
     "data": {
      "text/html": [
       "\n",
       "\n",
       "\n",
       "\n",
       "\n",
       "\n",
       "  <div class=\"bk-root\" id=\"8bc759ea-5ef8-47be-973c-d3d673f3e9f9\" data-root-id=\"11144\"></div>\n"
      ]
     },
     "metadata": {},
     "output_type": "display_data"
    },
    {
     "data": {
      "application/javascript": [
       "(function(root) {\n",
       "  function embed_document(root) {\n",
       "    \n",
       "  var docs_json = {\"c3162700-96e9-4143-bd68-7ca763462d91\":{\"roots\":{\"references\":[{\"attributes\":{\"below\":[{\"id\":\"11153\"}],\"center\":[{\"id\":\"11156\"},{\"id\":\"11160\"}],\"left\":[{\"id\":\"11157\"}],\"plot_height\":500,\"plot_width\":550,\"renderers\":[{\"id\":\"11168\"},{\"id\":\"11173\"}],\"title\":{\"id\":\"11545\"},\"toolbar\":{\"id\":\"11162\"},\"x_range\":{\"id\":\"11145\"},\"x_scale\":{\"id\":\"11149\"},\"y_range\":{\"id\":\"11147\"},\"y_scale\":{\"id\":\"11151\"}},\"id\":\"11144\",\"subtype\":\"Figure\",\"type\":\"Plot\"},{\"attributes\":{},\"id\":\"11547\",\"type\":\"BasicTickFormatter\"},{\"attributes\":{},\"id\":\"11145\",\"type\":\"DataRange1d\"},{\"attributes\":{},\"id\":\"11549\",\"type\":\"BasicTickFormatter\"},{\"attributes\":{},\"id\":\"11551\",\"type\":\"Selection\"},{\"attributes\":{\"axis\":{\"id\":\"11157\"},\"dimension\":1,\"ticker\":null},\"id\":\"11160\",\"type\":\"Grid\"},{\"attributes\":{\"fill_alpha\":{\"value\":0.1},\"fill_color\":{\"value\":\"black\"},\"line_alpha\":{\"value\":0.1},\"size\":{\"units\":\"screen\",\"value\":14},\"x\":{\"field\":\"x\"},\"y\":{\"field\":\"y\"}},\"id\":\"11167\",\"type\":\"Circle\"},{\"attributes\":{\"callback\":null,\"tooltips\":[[\"index\",\"$index\"],[\"desc\",\"@desc\"]]},\"id\":\"11143\",\"type\":\"HoverTool\"},{\"attributes\":{},\"id\":\"11552\",\"type\":\"UnionRenderers\"},{\"attributes\":{},\"id\":\"11158\",\"type\":\"BasicTicker\"},{\"attributes\":{\"data\":{\"desc\":[\"SRR5616906\",\"SRR5616907\",\"SRR5616908\",\"SRR5616909\",\"SRR5616910\",\"SRR5616911\",\"SRR5616912\",\"SRR5616913\",\"SRR5616914\",\"SRR5616915\",\"SRR5616916\",\"SRR5616917\",\"SRR5616918\",\"SRR5616919\",\"SRR5616920\",\"SRR5616921\",\"SRR5616922\",\"SRR5616923\",\"SRR5616924\"],\"x\":{\"__ndarray__\":\"k+fNQO8+Bz/B5eXbzwbyvnHetCYKDts+lADjzVtWNT8F/aGcH8gev6P7ALElzSk/BpytISsQGL9K+gvSqmosP1T/rn9H09u+DoH8UjGwIr/8OMaOGXoSv/BACYGZ5iM/q2iBBGoYJT+kYyYaM3urvriguqxvyTI/e13BjKppMT9y9s/vc7HgPtQ0kKvjDeW+MC5j0KN9LT8=\",\"dtype\":\"float64\",\"order\":\"little\",\"shape\":[19]},\"y\":{\"__ndarray__\":\"dgXerYEN8D4pHAtfLEzIvqBjZiWoVhE/u6qENIIPFj9gD70+Mt3ovlrd71Y2H7++weEEXrGg4T7f85FqpxrnvuFVCBkxmd0+EBp8AL2I8r68D7FzY23qvldkkt12PfG+siY9OhhA7T45fBMtcwHhvjkhtoPwRAW/BPkoud1Z/L6EiDD2K4L4vmg1QzvLc+y+WIN2QymmCL8=\",\"dtype\":\"float64\",\"order\":\"little\",\"shape\":[19]}},\"selected\":{\"id\":\"11553\"},\"selection_policy\":{\"id\":\"11554\"}},\"id\":\"11142\",\"type\":\"ColumnDataSource\"},{\"attributes\":{},\"id\":\"11554\",\"type\":\"UnionRenderers\"},{\"attributes\":{\"formatter\":{\"id\":\"11547\"},\"ticker\":{\"id\":\"11158\"}},\"id\":\"11157\",\"type\":\"LinearAxis\"},{\"attributes\":{\"text\":\"\"},\"id\":\"11545\",\"type\":\"Title\"},{\"attributes\":{\"axis\":{\"id\":\"11153\"},\"ticker\":null},\"id\":\"11156\",\"type\":\"Grid\"},{\"attributes\":{\"data\":{\"desc\":[\"SRR5616889\",\"SRR5616890\",\"SRR5616891\",\"SRR5616892\",\"SRR5616893\",\"SRR5616894\",\"SRR5616895\",\"SRR5616896\",\"SRR5616897\",\"SRR5616898\",\"SRR5616899\",\"SRR5616900\",\"SRR5616901\",\"SRR5616902\",\"SRR5616903\",\"SRR5616904\",\"SRR5616905\"],\"x\":{\"__ndarray__\":\"likS6YfyKL8LglQ7P0AKP5pSi+qDdek++OQ6Dj4XIj+SYYF+1Twfvz03b0rA1ym/CfgMSln7Fz9lt51voIUmv2brq6zJZhE/vfh8R+I6Hr/Bd54v4IUsvyfDzKdHdha/rd0TG3EpLL/Mzr/EWjYvvxajaQriTtw+pcaXrpZyDr/i35W7ap4ovw==\",\"dtype\":\"float64\",\"order\":\"little\",\"shape\":[17]},\"y\":{\"__ndarray__\":\"FheSqpji8T5Z0oLZ4gX5PsOU1UHpRO4+zBEOdtsss76Smcdi6UwOP0YrjhfdV/i+HNRn5Nw6Ab9lOGKHNaT0PmxmtBXooA4/zqY5XfQZ+77mtNQ2YtqRPkiAVtW+TMm+7u4s2IRI+L7UJ8CiY7vyPmzRGxW9hv++1OZA9IF19r6XwfHfKkHkvg==\",\"dtype\":\"float64\",\"order\":\"little\",\"shape\":[17]}},\"selected\":{\"id\":\"11551\"},\"selection_policy\":{\"id\":\"11552\"}},\"id\":\"11141\",\"type\":\"ColumnDataSource\"},{\"attributes\":{\"active_drag\":\"auto\",\"active_inspect\":\"auto\",\"active_multi\":null,\"active_scroll\":\"auto\",\"active_tap\":\"auto\",\"tools\":[{\"id\":\"11143\"},{\"id\":\"11161\"}]},\"id\":\"11162\",\"type\":\"Toolbar\"},{\"attributes\":{\"source\":{\"id\":\"11142\"}},\"id\":\"11174\",\"type\":\"CDSView\"},{\"attributes\":{\"source\":{\"id\":\"11141\"}},\"id\":\"11169\",\"type\":\"CDSView\"},{\"attributes\":{},\"id\":\"11161\",\"type\":\"SaveTool\"},{\"attributes\":{\"data_source\":{\"id\":\"11141\"},\"glyph\":{\"id\":\"11166\"},\"hover_glyph\":null,\"muted_glyph\":null,\"nonselection_glyph\":{\"id\":\"11167\"},\"selection_glyph\":null,\"view\":{\"id\":\"11169\"}},\"id\":\"11168\",\"type\":\"GlyphRenderer\"},{\"attributes\":{\"fill_color\":{\"value\":\"darkorange\"},\"line_color\":{\"value\":\"darkorange\"},\"size\":{\"units\":\"screen\",\"value\":16},\"x\":{\"field\":\"x\"},\"y\":{\"field\":\"y\"}},\"id\":\"11171\",\"type\":\"Triangle\"},{\"attributes\":{\"fill_color\":{\"value\":\"black\"},\"size\":{\"units\":\"screen\",\"value\":14},\"x\":{\"field\":\"x\"},\"y\":{\"field\":\"y\"}},\"id\":\"11166\",\"type\":\"Circle\"},{\"attributes\":{},\"id\":\"11154\",\"type\":\"BasicTicker\"},{\"attributes\":{},\"id\":\"11553\",\"type\":\"Selection\"},{\"attributes\":{},\"id\":\"11151\",\"type\":\"LinearScale\"},{\"attributes\":{\"formatter\":{\"id\":\"11549\"},\"ticker\":{\"id\":\"11154\"}},\"id\":\"11153\",\"type\":\"LinearAxis\"},{\"attributes\":{\"fill_alpha\":{\"value\":0.1},\"fill_color\":{\"value\":\"darkorange\"},\"line_alpha\":{\"value\":0.1},\"line_color\":{\"value\":\"darkorange\"},\"size\":{\"units\":\"screen\",\"value\":16},\"x\":{\"field\":\"x\"},\"y\":{\"field\":\"y\"}},\"id\":\"11172\",\"type\":\"Triangle\"},{\"attributes\":{},\"id\":\"11149\",\"type\":\"LinearScale\"},{\"attributes\":{\"data_source\":{\"id\":\"11142\"},\"glyph\":{\"id\":\"11171\"},\"hover_glyph\":null,\"muted_glyph\":null,\"nonselection_glyph\":{\"id\":\"11172\"},\"selection_glyph\":null,\"view\":{\"id\":\"11174\"}},\"id\":\"11173\",\"type\":\"GlyphRenderer\"},{\"attributes\":{},\"id\":\"11147\",\"type\":\"DataRange1d\"}],\"root_ids\":[\"11144\"]},\"title\":\"Bokeh Application\",\"version\":\"2.2.3\"}};\n",
       "  var render_items = [{\"docid\":\"c3162700-96e9-4143-bd68-7ca763462d91\",\"root_ids\":[\"11144\"],\"roots\":{\"11144\":\"8bc759ea-5ef8-47be-973c-d3d673f3e9f9\"}}];\n",
       "  root.Bokeh.embed.embed_items_notebook(docs_json, render_items);\n",
       "\n",
       "  }\n",
       "  if (root.Bokeh !== undefined) {\n",
       "    embed_document(root);\n",
       "  } else {\n",
       "    var attempts = 0;\n",
       "    var timer = setInterval(function(root) {\n",
       "      if (root.Bokeh !== undefined) {\n",
       "        clearInterval(timer);\n",
       "        embed_document(root);\n",
       "      } else {\n",
       "        attempts++;\n",
       "        if (attempts > 100) {\n",
       "          clearInterval(timer);\n",
       "          console.log(\"Bokeh: ERROR: Unable to run BokehJS code because BokehJS library is missing\");\n",
       "        }\n",
       "      }\n",
       "    }, 10, root)\n",
       "  }\n",
       "})(window);"
      ],
      "application/vnd.bokehjs_exec.v0+json": ""
     },
     "metadata": {
      "application/vnd.bokehjs_exec.v0+json": {
       "id": "11144"
      }
     },
     "output_type": "display_data"
    }
   ],
   "source": [
    "# q = 6\n",
    "draw_PCA(dfs[5])"
   ]
  },
  {
   "cell_type": "code",
   "execution_count": 53,
   "metadata": {},
   "outputs": [
    {
     "data": {
      "text/html": [
       "\n",
       "\n",
       "\n",
       "\n",
       "\n",
       "\n",
       "  <div class=\"bk-root\" id=\"8a9f868b-cfa0-4aeb-9a9f-7445416650f5\" data-root-id=\"11608\"></div>\n"
      ]
     },
     "metadata": {},
     "output_type": "display_data"
    },
    {
     "data": {
      "application/javascript": [
       "(function(root) {\n",
       "  function embed_document(root) {\n",
       "    \n",
       "  var docs_json = {\"f5232835-61bd-4828-b63f-8daee6eb3162\":{\"roots\":{\"references\":[{\"attributes\":{\"below\":[{\"id\":\"11617\"}],\"center\":[{\"id\":\"11620\"},{\"id\":\"11624\"}],\"left\":[{\"id\":\"11621\"}],\"plot_height\":500,\"plot_width\":550,\"renderers\":[{\"id\":\"11632\"},{\"id\":\"11637\"}],\"title\":{\"id\":\"12019\"},\"toolbar\":{\"id\":\"11626\"},\"x_range\":{\"id\":\"11609\"},\"x_scale\":{\"id\":\"11613\"},\"y_range\":{\"id\":\"11611\"},\"y_scale\":{\"id\":\"11615\"}},\"id\":\"11608\",\"subtype\":\"Figure\",\"type\":\"Plot\"},{\"attributes\":{\"data_source\":{\"id\":\"11606\"},\"glyph\":{\"id\":\"11635\"},\"hover_glyph\":null,\"muted_glyph\":null,\"nonselection_glyph\":{\"id\":\"11636\"},\"selection_glyph\":null,\"view\":{\"id\":\"11638\"}},\"id\":\"11637\",\"type\":\"GlyphRenderer\"},{\"attributes\":{\"text\":\"\"},\"id\":\"12019\",\"type\":\"Title\"},{\"attributes\":{\"source\":{\"id\":\"11606\"}},\"id\":\"11638\",\"type\":\"CDSView\"},{\"attributes\":{\"callback\":null,\"tooltips\":[[\"index\",\"$index\"],[\"desc\",\"@desc\"]]},\"id\":\"11607\",\"type\":\"HoverTool\"},{\"attributes\":{},\"id\":\"11609\",\"type\":\"DataRange1d\"},{\"attributes\":{},\"id\":\"11613\",\"type\":\"LinearScale\"},{\"attributes\":{\"active_drag\":\"auto\",\"active_inspect\":\"auto\",\"active_multi\":null,\"active_scroll\":\"auto\",\"active_tap\":\"auto\",\"tools\":[{\"id\":\"11607\"},{\"id\":\"11625\"}]},\"id\":\"11626\",\"type\":\"Toolbar\"},{\"attributes\":{},\"id\":\"11611\",\"type\":\"DataRange1d\"},{\"attributes\":{\"fill_color\":{\"value\":\"black\"},\"size\":{\"units\":\"screen\",\"value\":14},\"x\":{\"field\":\"x\"},\"y\":{\"field\":\"y\"}},\"id\":\"11630\",\"type\":\"Circle\"},{\"attributes\":{},\"id\":\"12021\",\"type\":\"BasicTickFormatter\"},{\"attributes\":{\"data\":{\"desc\":[\"SRR5616906\",\"SRR5616907\",\"SRR5616908\",\"SRR5616909\",\"SRR5616910\",\"SRR5616911\",\"SRR5616912\",\"SRR5616913\",\"SRR5616914\",\"SRR5616915\",\"SRR5616916\",\"SRR5616917\",\"SRR5616918\",\"SRR5616919\",\"SRR5616920\",\"SRR5616921\",\"SRR5616922\",\"SRR5616923\",\"SRR5616924\"],\"x\":{\"__ndarray__\":\"oIYwj4Lmvz6Al8cXOirhPjhyXk8P3c2+qDVhUnb4/T4orsFsn3ziviflRIi6Xf4+0q6AxVWP4b51g4kd3y74PgjiR4yVCtg+7esjcPtV6r6tEXa+4nrivoJekzmJtvI+VtIm5DP76D595N8VGSTIPnJl6kPxIQQ/n6faArej7D7bvGnCqS3HPnB1FUq/tKq+KxvMgNwq8D4=\",\"dtype\":\"float64\",\"order\":\"little\",\"shape\":[19]},\"y\":{\"__ndarray__\":\"+m0X56G8Wr47MzKamjHAPjgCZjkNFtS+EPWzi/i0wT4j/l335ODCPmkFRmqJZ9w+MxGmm6G8x77XBnOL0OLAPkqIg9PA4ra+Os4LMiOAsD6cb8SI4yXBvr/ofTTnJ9a+sftZjCYyzr728SKoIpHLPtDMlTUDdsA+VbTSlsvl1r6PAu1cpcTFPjis1oGt0Wu+ilmZZTNs0L4=\",\"dtype\":\"float64\",\"order\":\"little\",\"shape\":[19]}},\"selected\":{\"id\":\"12027\"},\"selection_policy\":{\"id\":\"12028\"}},\"id\":\"11606\",\"type\":\"ColumnDataSource\"},{\"attributes\":{\"data\":{\"desc\":[\"SRR5616889\",\"SRR5616890\",\"SRR5616891\",\"SRR5616892\",\"SRR5616893\",\"SRR5616894\",\"SRR5616895\",\"SRR5616896\",\"SRR5616897\",\"SRR5616898\",\"SRR5616899\",\"SRR5616900\",\"SRR5616901\",\"SRR5616902\",\"SRR5616903\",\"SRR5616904\",\"SRR5616905\"],\"x\":{\"__ndarray__\":\"Gn9lsaXg8b4l70izKXPYvknFhm/6OeC+OzOdjjgb6j4fpii85zDrvkQi816/uOu+heJcTuqd3j5khJZYOkT1vkIh0RooMd0++iV9bOGU4r6FnaXU/lD3viR20bnYG9O+UodB3OIz8L7KUrTsTID7vjaoVKCwUrO+I2K3tliC0b4iAqX3DXz4vg==\",\"dtype\":\"float64\",\"order\":\"little\",\"shape\":[17]},\"y\":{\"__ndarray__\":\"kAofHitGsL52s7u7vxPFvgHOzaE0mdu+cQ986Ufdsb4Cmtql2VPJPiU0bwG4hN4+qi7VqWmMnT67pPa3mOLDvsn3KsSQ8rm+YSgPpjS8sL51JgyMjgfIPuos0hnvE+A+bLfG/D9h4D7vxU3Ndr3Kvs6InxBZ4tm+gBIzAFI3uj7jpFUlayuNPg==\",\"dtype\":\"float64\",\"order\":\"little\",\"shape\":[17]}},\"selected\":{\"id\":\"12025\"},\"selection_policy\":{\"id\":\"12026\"}},\"id\":\"11605\",\"type\":\"ColumnDataSource\"},{\"attributes\":{},\"id\":\"12023\",\"type\":\"BasicTickFormatter\"},{\"attributes\":{},\"id\":\"11615\",\"type\":\"LinearScale\"},{\"attributes\":{\"fill_color\":{\"value\":\"darkorange\"},\"line_color\":{\"value\":\"darkorange\"},\"size\":{\"units\":\"screen\",\"value\":16},\"x\":{\"field\":\"x\"},\"y\":{\"field\":\"y\"}},\"id\":\"11635\",\"type\":\"Triangle\"},{\"attributes\":{\"formatter\":{\"id\":\"12023\"},\"ticker\":{\"id\":\"11618\"}},\"id\":\"11617\",\"type\":\"LinearAxis\"},{\"attributes\":{},\"id\":\"12025\",\"type\":\"Selection\"},{\"attributes\":{},\"id\":\"11618\",\"type\":\"BasicTicker\"},{\"attributes\":{\"source\":{\"id\":\"11605\"}},\"id\":\"11633\",\"type\":\"CDSView\"},{\"attributes\":{\"fill_alpha\":{\"value\":0.1},\"fill_color\":{\"value\":\"darkorange\"},\"line_alpha\":{\"value\":0.1},\"line_color\":{\"value\":\"darkorange\"},\"size\":{\"units\":\"screen\",\"value\":16},\"x\":{\"field\":\"x\"},\"y\":{\"field\":\"y\"}},\"id\":\"11636\",\"type\":\"Triangle\"},{\"attributes\":{},\"id\":\"11625\",\"type\":\"SaveTool\"},{\"attributes\":{},\"id\":\"12027\",\"type\":\"Selection\"},{\"attributes\":{\"data_source\":{\"id\":\"11605\"},\"glyph\":{\"id\":\"11630\"},\"hover_glyph\":null,\"muted_glyph\":null,\"nonselection_glyph\":{\"id\":\"11631\"},\"selection_glyph\":null,\"view\":{\"id\":\"11633\"}},\"id\":\"11632\",\"type\":\"GlyphRenderer\"},{\"attributes\":{},\"id\":\"12026\",\"type\":\"UnionRenderers\"},{\"attributes\":{\"axis\":{\"id\":\"11617\"},\"ticker\":null},\"id\":\"11620\",\"type\":\"Grid\"},{\"attributes\":{\"axis\":{\"id\":\"11621\"},\"dimension\":1,\"ticker\":null},\"id\":\"11624\",\"type\":\"Grid\"},{\"attributes\":{},\"id\":\"11622\",\"type\":\"BasicTicker\"},{\"attributes\":{\"fill_alpha\":{\"value\":0.1},\"fill_color\":{\"value\":\"black\"},\"line_alpha\":{\"value\":0.1},\"size\":{\"units\":\"screen\",\"value\":14},\"x\":{\"field\":\"x\"},\"y\":{\"field\":\"y\"}},\"id\":\"11631\",\"type\":\"Circle\"},{\"attributes\":{\"formatter\":{\"id\":\"12021\"},\"ticker\":{\"id\":\"11622\"}},\"id\":\"11621\",\"type\":\"LinearAxis\"},{\"attributes\":{},\"id\":\"12028\",\"type\":\"UnionRenderers\"}],\"root_ids\":[\"11608\"]},\"title\":\"Bokeh Application\",\"version\":\"2.2.3\"}};\n",
       "  var render_items = [{\"docid\":\"f5232835-61bd-4828-b63f-8daee6eb3162\",\"root_ids\":[\"11608\"],\"roots\":{\"11608\":\"8a9f868b-cfa0-4aeb-9a9f-7445416650f5\"}}];\n",
       "  root.Bokeh.embed.embed_items_notebook(docs_json, render_items);\n",
       "\n",
       "  }\n",
       "  if (root.Bokeh !== undefined) {\n",
       "    embed_document(root);\n",
       "  } else {\n",
       "    var attempts = 0;\n",
       "    var timer = setInterval(function(root) {\n",
       "      if (root.Bokeh !== undefined) {\n",
       "        clearInterval(timer);\n",
       "        embed_document(root);\n",
       "      } else {\n",
       "        attempts++;\n",
       "        if (attempts > 100) {\n",
       "          clearInterval(timer);\n",
       "          console.log(\"Bokeh: ERROR: Unable to run BokehJS code because BokehJS library is missing\");\n",
       "        }\n",
       "      }\n",
       "    }, 10, root)\n",
       "  }\n",
       "})(window);"
      ],
      "application/vnd.bokehjs_exec.v0+json": ""
     },
     "metadata": {
      "application/vnd.bokehjs_exec.v0+json": {
       "id": "11608"
      }
     },
     "output_type": "display_data"
    }
   ],
   "source": [
    "# q = 7\n",
    "draw_PCA(dfs[6])"
   ]
  },
  {
   "cell_type": "code",
   "execution_count": 54,
   "metadata": {},
   "outputs": [
    {
     "data": {
      "text/html": [
       "\n",
       "\n",
       "\n",
       "\n",
       "\n",
       "\n",
       "  <div class=\"bk-root\" id=\"79b1f45d-d1b5-4eae-9a23-a72e541c9b24\" data-root-id=\"12082\"></div>\n"
      ]
     },
     "metadata": {},
     "output_type": "display_data"
    },
    {
     "data": {
      "application/javascript": [
       "(function(root) {\n",
       "  function embed_document(root) {\n",
       "    \n",
       "  var docs_json = {\"3e5ee4fd-ad16-409d-955c-dcc1972b501a\":{\"roots\":{\"references\":[{\"attributes\":{\"below\":[{\"id\":\"12091\"}],\"center\":[{\"id\":\"12094\"},{\"id\":\"12098\"}],\"left\":[{\"id\":\"12095\"}],\"plot_height\":500,\"plot_width\":550,\"renderers\":[{\"id\":\"12106\"},{\"id\":\"12111\"}],\"title\":{\"id\":\"12503\"},\"toolbar\":{\"id\":\"12100\"},\"x_range\":{\"id\":\"12083\"},\"x_scale\":{\"id\":\"12087\"},\"y_range\":{\"id\":\"12085\"},\"y_scale\":{\"id\":\"12089\"}},\"id\":\"12082\",\"subtype\":\"Figure\",\"type\":\"Plot\"},{\"attributes\":{\"active_drag\":\"auto\",\"active_inspect\":\"auto\",\"active_multi\":null,\"active_scroll\":\"auto\",\"active_tap\":\"auto\",\"tools\":[{\"id\":\"12081\"},{\"id\":\"12099\"}]},\"id\":\"12100\",\"type\":\"Toolbar\"},{\"attributes\":{\"source\":{\"id\":\"12079\"}},\"id\":\"12107\",\"type\":\"CDSView\"},{\"attributes\":{},\"id\":\"12505\",\"type\":\"BasicTickFormatter\"},{\"attributes\":{\"fill_alpha\":{\"value\":0.1},\"fill_color\":{\"value\":\"black\"},\"line_alpha\":{\"value\":0.1},\"size\":{\"units\":\"screen\",\"value\":14},\"x\":{\"field\":\"x\"},\"y\":{\"field\":\"y\"}},\"id\":\"12105\",\"type\":\"Circle\"},{\"attributes\":{\"data_source\":{\"id\":\"12079\"},\"glyph\":{\"id\":\"12104\"},\"hover_glyph\":null,\"muted_glyph\":null,\"nonselection_glyph\":{\"id\":\"12105\"},\"selection_glyph\":null,\"view\":{\"id\":\"12107\"}},\"id\":\"12106\",\"type\":\"GlyphRenderer\"},{\"attributes\":{\"fill_color\":{\"value\":\"black\"},\"size\":{\"units\":\"screen\",\"value\":14},\"x\":{\"field\":\"x\"},\"y\":{\"field\":\"y\"}},\"id\":\"12104\",\"type\":\"Circle\"},{\"attributes\":{},\"id\":\"12083\",\"type\":\"DataRange1d\"},{\"attributes\":{\"source\":{\"id\":\"12080\"}},\"id\":\"12112\",\"type\":\"CDSView\"},{\"attributes\":{\"fill_alpha\":{\"value\":0.1},\"fill_color\":{\"value\":\"darkorange\"},\"line_alpha\":{\"value\":0.1},\"line_color\":{\"value\":\"darkorange\"},\"size\":{\"units\":\"screen\",\"value\":16},\"x\":{\"field\":\"x\"},\"y\":{\"field\":\"y\"}},\"id\":\"12110\",\"type\":\"Triangle\"},{\"attributes\":{\"callback\":null,\"tooltips\":[[\"index\",\"$index\"],[\"desc\",\"@desc\"]]},\"id\":\"12081\",\"type\":\"HoverTool\"},{\"attributes\":{\"text\":\"\"},\"id\":\"12503\",\"type\":\"Title\"},{\"attributes\":{},\"id\":\"12085\",\"type\":\"DataRange1d\"},{\"attributes\":{\"data\":{\"desc\":[\"SRR5616906\",\"SRR5616907\",\"SRR5616908\",\"SRR5616909\",\"SRR5616910\",\"SRR5616911\",\"SRR5616912\",\"SRR5616913\",\"SRR5616914\",\"SRR5616915\",\"SRR5616916\",\"SRR5616917\",\"SRR5616918\",\"SRR5616919\",\"SRR5616920\",\"SRR5616921\",\"SRR5616922\",\"SRR5616923\",\"SRR5616924\"],\"x\":{\"__ndarray__\":\"6kIU5RUfwj4YsRV7L6/MPo+bsG4485i+A3uhbkI05D6eL+K01QHRviHw5tD81N8+CdsWQxCPu753LkdHpHrZPqIaiz5AF8s+678/E3xA0L4vB9GjKbfFvgQBU3W2Qtc+xWDgZv55yD5yoPDPNFzEPuCLN882Uug+w3BK8IFkzj5251gziJR3PiEH4XC0Tbo+wykKdAOI2D4=\",\"dtype\":\"float64\",\"order\":\"little\",\"shape\":[19]},\"y\":{\"__ndarray__\":\"CXzRcHAGnj61540ume2AvgpbiaVQx6O+KktLE/aunr6foimCrUNmvv4Niwhu4cc+KSwScDZgi773MlghPfesPk1dE4FtU4++tto31Z2Cn77YYvsM55+pvhrc+iF7/72+yrDh4aPBs74i5bLPORW0PrG2xfuuBrA+TjTNpygomr4E3omYOTaTPlBh5qWUyqO+3dvUuPC+tr4=\",\"dtype\":\"float64\",\"order\":\"little\",\"shape\":[19]}},\"selected\":{\"id\":\"12511\"},\"selection_policy\":{\"id\":\"12512\"}},\"id\":\"12080\",\"type\":\"ColumnDataSource\"},{\"attributes\":{\"data_source\":{\"id\":\"12080\"},\"glyph\":{\"id\":\"12109\"},\"hover_glyph\":null,\"muted_glyph\":null,\"nonselection_glyph\":{\"id\":\"12110\"},\"selection_glyph\":null,\"view\":{\"id\":\"12112\"}},\"id\":\"12111\",\"type\":\"GlyphRenderer\"},{\"attributes\":{},\"id\":\"12099\",\"type\":\"SaveTool\"},{\"attributes\":{\"formatter\":{\"id\":\"12507\"},\"ticker\":{\"id\":\"12092\"}},\"id\":\"12091\",\"type\":\"LinearAxis\"},{\"attributes\":{\"fill_color\":{\"value\":\"darkorange\"},\"line_color\":{\"value\":\"darkorange\"},\"size\":{\"units\":\"screen\",\"value\":16},\"x\":{\"field\":\"x\"},\"y\":{\"field\":\"y\"}},\"id\":\"12109\",\"type\":\"Triangle\"},{\"attributes\":{},\"id\":\"12512\",\"type\":\"UnionRenderers\"},{\"attributes\":{},\"id\":\"12096\",\"type\":\"BasicTicker\"},{\"attributes\":{\"axis\":{\"id\":\"12095\"},\"dimension\":1,\"ticker\":null},\"id\":\"12098\",\"type\":\"Grid\"},{\"attributes\":{},\"id\":\"12087\",\"type\":\"LinearScale\"},{\"attributes\":{},\"id\":\"12089\",\"type\":\"LinearScale\"},{\"attributes\":{},\"id\":\"12507\",\"type\":\"BasicTickFormatter\"},{\"attributes\":{},\"id\":\"12509\",\"type\":\"Selection\"},{\"attributes\":{},\"id\":\"12092\",\"type\":\"BasicTicker\"},{\"attributes\":{},\"id\":\"12510\",\"type\":\"UnionRenderers\"},{\"attributes\":{\"axis\":{\"id\":\"12091\"},\"ticker\":null},\"id\":\"12094\",\"type\":\"Grid\"},{\"attributes\":{\"data\":{\"desc\":[\"SRR5616889\",\"SRR5616890\",\"SRR5616891\",\"SRR5616892\",\"SRR5616893\",\"SRR5616894\",\"SRR5616895\",\"SRR5616896\",\"SRR5616897\",\"SRR5616898\",\"SRR5616899\",\"SRR5616900\",\"SRR5616901\",\"SRR5616902\",\"SRR5616903\",\"SRR5616904\",\"SRR5616905\"],\"x\":{\"__ndarray__\":\"A7tKsXC61L44Ec2NspjSvnv6bvqjhNO+vUa21leD0z6v4rNUIWnQviogU7hg79S+1VAj5JueyD7U06ZJkSPdvkGVsQ/D+MM+BFCVpFL+vb5fTcfR6MDcvtwkpgsRl7++N05wJaSX2r4UnD+QrlffvkmEP1CCBKI+D7GjVZ4Xv741FvXsjPjfvg==\",\"dtype\":\"float64\",\"order\":\"little\",\"shape\":[17]},\"y\":{\"__ndarray__\":\"/kvz1w4foD539JYdCDO5vp25rPZ3P8a+1C/7C01dwL6PkrnXrijBPrFl86s9Lrs+y5UnPkTBrj5CJdYHJ82Jvv6zZ3VUC5Y+D0sh3uSdcr5MGwlWhEalPgO0BDKZ0MY+/vxos1lesj5aNT8ewMCAPud/3KZ3pcG+tgO7sph9sD5eA7Rf8Metvg==\",\"dtype\":\"float64\",\"order\":\"little\",\"shape\":[17]}},\"selected\":{\"id\":\"12509\"},\"selection_policy\":{\"id\":\"12510\"}},\"id\":\"12079\",\"type\":\"ColumnDataSource\"},{\"attributes\":{},\"id\":\"12511\",\"type\":\"Selection\"},{\"attributes\":{\"formatter\":{\"id\":\"12505\"},\"ticker\":{\"id\":\"12096\"}},\"id\":\"12095\",\"type\":\"LinearAxis\"}],\"root_ids\":[\"12082\"]},\"title\":\"Bokeh Application\",\"version\":\"2.2.3\"}};\n",
       "  var render_items = [{\"docid\":\"3e5ee4fd-ad16-409d-955c-dcc1972b501a\",\"root_ids\":[\"12082\"],\"roots\":{\"12082\":\"79b1f45d-d1b5-4eae-9a23-a72e541c9b24\"}}];\n",
       "  root.Bokeh.embed.embed_items_notebook(docs_json, render_items);\n",
       "\n",
       "  }\n",
       "  if (root.Bokeh !== undefined) {\n",
       "    embed_document(root);\n",
       "  } else {\n",
       "    var attempts = 0;\n",
       "    var timer = setInterval(function(root) {\n",
       "      if (root.Bokeh !== undefined) {\n",
       "        clearInterval(timer);\n",
       "        embed_document(root);\n",
       "      } else {\n",
       "        attempts++;\n",
       "        if (attempts > 100) {\n",
       "          clearInterval(timer);\n",
       "          console.log(\"Bokeh: ERROR: Unable to run BokehJS code because BokehJS library is missing\");\n",
       "        }\n",
       "      }\n",
       "    }, 10, root)\n",
       "  }\n",
       "})(window);"
      ],
      "application/vnd.bokehjs_exec.v0+json": ""
     },
     "metadata": {
      "application/vnd.bokehjs_exec.v0+json": {
       "id": "12082"
      }
     },
     "output_type": "display_data"
    }
   ],
   "source": [
    "# q = 8\n",
    "draw_PCA(dfs[7])"
   ]
  },
  {
   "cell_type": "code",
   "execution_count": 55,
   "metadata": {},
   "outputs": [
    {
     "data": {
      "text/html": [
       "\n",
       "\n",
       "\n",
       "\n",
       "\n",
       "\n",
       "  <div class=\"bk-root\" id=\"f4b7b868-b353-4a7f-bc59-d459972a543c\" data-root-id=\"12566\"></div>\n"
      ]
     },
     "metadata": {},
     "output_type": "display_data"
    },
    {
     "data": {
      "application/javascript": [
       "(function(root) {\n",
       "  function embed_document(root) {\n",
       "    \n",
       "  var docs_json = {\"d09bc8e6-a5d7-4579-a7a3-9c9eb578238a\":{\"roots\":{\"references\":[{\"attributes\":{\"below\":[{\"id\":\"12575\"}],\"center\":[{\"id\":\"12578\"},{\"id\":\"12582\"}],\"left\":[{\"id\":\"12579\"}],\"plot_height\":500,\"plot_width\":550,\"renderers\":[{\"id\":\"12590\"},{\"id\":\"12595\"}],\"title\":{\"id\":\"12997\"},\"toolbar\":{\"id\":\"12584\"},\"x_range\":{\"id\":\"12567\"},\"x_scale\":{\"id\":\"12571\"},\"y_range\":{\"id\":\"12569\"},\"y_scale\":{\"id\":\"12573\"}},\"id\":\"12566\",\"subtype\":\"Figure\",\"type\":\"Plot\"},{\"attributes\":{},\"id\":\"12580\",\"type\":\"BasicTicker\"},{\"attributes\":{},\"id\":\"12999\",\"type\":\"BasicTickFormatter\"},{\"attributes\":{\"axis\":{\"id\":\"12579\"},\"dimension\":1,\"ticker\":null},\"id\":\"12582\",\"type\":\"Grid\"},{\"attributes\":{},\"id\":\"13001\",\"type\":\"BasicTickFormatter\"},{\"attributes\":{},\"id\":\"12583\",\"type\":\"SaveTool\"},{\"attributes\":{\"text\":\"\"},\"id\":\"12997\",\"type\":\"Title\"},{\"attributes\":{},\"id\":\"13004\",\"type\":\"UnionRenderers\"},{\"attributes\":{\"active_drag\":\"auto\",\"active_inspect\":\"auto\",\"active_multi\":null,\"active_scroll\":\"auto\",\"active_tap\":\"auto\",\"tools\":[{\"id\":\"12565\"},{\"id\":\"12583\"}]},\"id\":\"12584\",\"type\":\"Toolbar\"},{\"attributes\":{},\"id\":\"12576\",\"type\":\"BasicTicker\"},{\"attributes\":{\"source\":{\"id\":\"12563\"}},\"id\":\"12591\",\"type\":\"CDSView\"},{\"attributes\":{\"fill_alpha\":{\"value\":0.1},\"fill_color\":{\"value\":\"black\"},\"line_alpha\":{\"value\":0.1},\"size\":{\"units\":\"screen\",\"value\":14},\"x\":{\"field\":\"x\"},\"y\":{\"field\":\"y\"}},\"id\":\"12589\",\"type\":\"Circle\"},{\"attributes\":{\"axis\":{\"id\":\"12575\"},\"ticker\":null},\"id\":\"12578\",\"type\":\"Grid\"},{\"attributes\":{},\"id\":\"12573\",\"type\":\"LinearScale\"},{\"attributes\":{},\"id\":\"13006\",\"type\":\"UnionRenderers\"},{\"attributes\":{\"data_source\":{\"id\":\"12563\"},\"glyph\":{\"id\":\"12588\"},\"hover_glyph\":null,\"muted_glyph\":null,\"nonselection_glyph\":{\"id\":\"12589\"},\"selection_glyph\":null,\"view\":{\"id\":\"12591\"}},\"id\":\"12590\",\"type\":\"GlyphRenderer\"},{\"attributes\":{\"fill_color\":{\"value\":\"black\"},\"size\":{\"units\":\"screen\",\"value\":14},\"x\":{\"field\":\"x\"},\"y\":{\"field\":\"y\"}},\"id\":\"12588\",\"type\":\"Circle\"},{\"attributes\":{\"data\":{\"desc\":[\"SRR5616906\",\"SRR5616907\",\"SRR5616908\",\"SRR5616909\",\"SRR5616910\",\"SRR5616911\",\"SRR5616912\",\"SRR5616913\",\"SRR5616914\",\"SRR5616915\",\"SRR5616916\",\"SRR5616917\",\"SRR5616918\",\"SRR5616919\",\"SRR5616920\",\"SRR5616921\",\"SRR5616922\",\"SRR5616923\",\"SRR5616924\"],\"x\":{\"__ndarray__\":\"f0tx3GgRgz4+FxM5r6WSPicDTJLso3++mR+cJkkPtz5vhCgxrYuKvkB3CbbacrY+msu9GyrulL7YLFK5HOCwPo0z9jAVcZ0+tHVIxc2ZmL7NX7Dc7DGWvnHwubBLL68+3E93fM2woT7bJNpWyMmTPnRiP5FLzrs+uDV9G0KfoT655arwdEGTPvGY4Jg0hoQ+BGAasASOqT4=\",\"dtype\":\"float64\",\"order\":\"little\",\"shape\":[19]},\"y\":{\"__ndarray__\":\"0J14s2rKgz5XrzJU1QaRPjUMU6fJ3Yg+eOOGl/vYJr4PILro3p9SPoTp67sFrIe+7GNGQoiZgT5NUJwWJ7N4vpNEM4WXNHE+KrCIPH+ucz4bgWbukvqOvk1gTMhVXoG+UiwBmEN+gL441CW36dpCPufLwDG2AUg+oe9YTnhBaT6/+pkBhkJyvsNq8zS6624+qQ2up2d5cj4=\",\"dtype\":\"float64\",\"order\":\"little\",\"shape\":[19]}},\"selected\":{\"id\":\"13005\"},\"selection_policy\":{\"id\":\"13006\"}},\"id\":\"12564\",\"type\":\"ColumnDataSource\"},{\"attributes\":{\"source\":{\"id\":\"12564\"}},\"id\":\"12596\",\"type\":\"CDSView\"},{\"attributes\":{\"formatter\":{\"id\":\"13001\"},\"ticker\":{\"id\":\"12576\"}},\"id\":\"12575\",\"type\":\"LinearAxis\"},{\"attributes\":{\"fill_alpha\":{\"value\":0.1},\"fill_color\":{\"value\":\"darkorange\"},\"line_alpha\":{\"value\":0.1},\"line_color\":{\"value\":\"darkorange\"},\"size\":{\"units\":\"screen\",\"value\":16},\"x\":{\"field\":\"x\"},\"y\":{\"field\":\"y\"}},\"id\":\"12594\",\"type\":\"Triangle\"},{\"attributes\":{},\"id\":\"13005\",\"type\":\"Selection\"},{\"attributes\":{\"data_source\":{\"id\":\"12564\"},\"glyph\":{\"id\":\"12593\"},\"hover_glyph\":null,\"muted_glyph\":null,\"nonselection_glyph\":{\"id\":\"12594\"},\"selection_glyph\":null,\"view\":{\"id\":\"12596\"}},\"id\":\"12595\",\"type\":\"GlyphRenderer\"},{\"attributes\":{\"fill_color\":{\"value\":\"darkorange\"},\"line_color\":{\"value\":\"darkorange\"},\"size\":{\"units\":\"screen\",\"value\":16},\"x\":{\"field\":\"x\"},\"y\":{\"field\":\"y\"}},\"id\":\"12593\",\"type\":\"Triangle\"},{\"attributes\":{\"formatter\":{\"id\":\"12999\"},\"ticker\":{\"id\":\"12580\"}},\"id\":\"12579\",\"type\":\"LinearAxis\"},{\"attributes\":{},\"id\":\"12567\",\"type\":\"DataRange1d\"},{\"attributes\":{},\"id\":\"12571\",\"type\":\"LinearScale\"},{\"attributes\":{},\"id\":\"12569\",\"type\":\"DataRange1d\"},{\"attributes\":{\"callback\":null,\"tooltips\":[[\"index\",\"$index\"],[\"desc\",\"@desc\"]]},\"id\":\"12565\",\"type\":\"HoverTool\"},{\"attributes\":{},\"id\":\"13003\",\"type\":\"Selection\"},{\"attributes\":{\"data\":{\"desc\":[\"SRR5616889\",\"SRR5616890\",\"SRR5616891\",\"SRR5616892\",\"SRR5616893\",\"SRR5616894\",\"SRR5616895\",\"SRR5616896\",\"SRR5616897\",\"SRR5616898\",\"SRR5616899\",\"SRR5616900\",\"SRR5616901\",\"SRR5616902\",\"SRR5616903\",\"SRR5616904\",\"SRR5616905\"],\"x\":{\"__ndarray__\":\"0BdPNK68sL4GC6OBxDeTvvkkxMikz6O+GtNZGtxrmD6ms39b0Wydvq+SzJRoVqa+X+Oc5NQVmD7G0vCIG/6vvvChzd8Lk5G+qwee9Gp0n77ue0TMT1OzvsjxVOqkg1G+5vvtwd/8p77gQ0qxceGzvrzdZONV+pK+aKxosQ7vgr55wobKcQmwvg==\",\"dtype\":\"float64\",\"order\":\"little\",\"shape\":[17]},\"y\":{\"__ndarray__\":\"SAPDMGlRTT7WQ5iiZEBlPgncx7QL5IK+aINZFOdKeT51tUp7lbecvt4sF+SjsYK+EyVbnGDoab5LyVsAZo2QviOM/fgFl58+7CGI08apiz7MvjcMfH43vsKPsfdbC5m+ZWcg7bIdjr5YYlJ/IfxfPv1ffprpr3E+ejtUb5hrlT486mcbsYeAPg==\",\"dtype\":\"float64\",\"order\":\"little\",\"shape\":[17]}},\"selected\":{\"id\":\"13003\"},\"selection_policy\":{\"id\":\"13004\"}},\"id\":\"12563\",\"type\":\"ColumnDataSource\"}],\"root_ids\":[\"12566\"]},\"title\":\"Bokeh Application\",\"version\":\"2.2.3\"}};\n",
       "  var render_items = [{\"docid\":\"d09bc8e6-a5d7-4579-a7a3-9c9eb578238a\",\"root_ids\":[\"12566\"],\"roots\":{\"12566\":\"f4b7b868-b353-4a7f-bc59-d459972a543c\"}}];\n",
       "  root.Bokeh.embed.embed_items_notebook(docs_json, render_items);\n",
       "\n",
       "  }\n",
       "  if (root.Bokeh !== undefined) {\n",
       "    embed_document(root);\n",
       "  } else {\n",
       "    var attempts = 0;\n",
       "    var timer = setInterval(function(root) {\n",
       "      if (root.Bokeh !== undefined) {\n",
       "        clearInterval(timer);\n",
       "        embed_document(root);\n",
       "      } else {\n",
       "        attempts++;\n",
       "        if (attempts > 100) {\n",
       "          clearInterval(timer);\n",
       "          console.log(\"Bokeh: ERROR: Unable to run BokehJS code because BokehJS library is missing\");\n",
       "        }\n",
       "      }\n",
       "    }, 10, root)\n",
       "  }\n",
       "})(window);"
      ],
      "application/vnd.bokehjs_exec.v0+json": ""
     },
     "metadata": {
      "application/vnd.bokehjs_exec.v0+json": {
       "id": "12566"
      }
     },
     "output_type": "display_data"
    }
   ],
   "source": [
    "# q = 9\n",
    "draw_PCA(dfs[8])"
   ]
  },
  {
   "cell_type": "code",
   "execution_count": 56,
   "metadata": {},
   "outputs": [
    {
     "data": {
      "text/html": [
       "\n",
       "\n",
       "\n",
       "\n",
       "\n",
       "\n",
       "  <div class=\"bk-root\" id=\"1415c6e7-9fb9-46b9-9e34-afa340820e7f\" data-root-id=\"13060\"></div>\n"
      ]
     },
     "metadata": {},
     "output_type": "display_data"
    },
    {
     "data": {
      "application/javascript": [
       "(function(root) {\n",
       "  function embed_document(root) {\n",
       "    \n",
       "  var docs_json = {\"9d4a1719-a16f-47ad-b3cb-27281912483c\":{\"roots\":{\"references\":[{\"attributes\":{\"below\":[{\"id\":\"13069\"}],\"center\":[{\"id\":\"13072\"},{\"id\":\"13076\"}],\"left\":[{\"id\":\"13073\"}],\"plot_height\":500,\"plot_width\":550,\"renderers\":[{\"id\":\"13084\"},{\"id\":\"13089\"}],\"title\":{\"id\":\"13501\"},\"toolbar\":{\"id\":\"13078\"},\"x_range\":{\"id\":\"13061\"},\"x_scale\":{\"id\":\"13065\"},\"y_range\":{\"id\":\"13063\"},\"y_scale\":{\"id\":\"13067\"}},\"id\":\"13060\",\"subtype\":\"Figure\",\"type\":\"Plot\"},{\"attributes\":{\"data\":{\"desc\":[\"SRR5616906\",\"SRR5616907\",\"SRR5616908\",\"SRR5616909\",\"SRR5616910\",\"SRR5616911\",\"SRR5616912\",\"SRR5616913\",\"SRR5616914\",\"SRR5616915\",\"SRR5616916\",\"SRR5616917\",\"SRR5616918\",\"SRR5616919\",\"SRR5616920\",\"SRR5616921\",\"SRR5616922\",\"SRR5616923\",\"SRR5616924\"],\"x\":{\"__ndarray__\":\"xnvQ3eoQR75sg0clUZpHvmBaKlzm2kC+X3gOgdkfYb7gB+k8wlTLPRYeoOa2N2C+YodSegD/RT7O4qA8MW5evqMW/Adcn0S+jPcmVX7VQT7WiK29L9UqPqbWOsV8XF2+nLWJV8NZT74Ott9h2W1Tvu2uoX2ViWG+fPriaHKAUb4t0/w94k8ZPobSziRU+Uu+8YCvmFp6W74=\",\"dtype\":\"float64\",\"order\":\"little\",\"shape\":[19]},\"y\":{\"__ndarray__\":\"zTf7jUxCKT73yCBuTTE9PiuC+AU+bRG+JSRcYBAyE76X7Odd2X0APrKQyIjlnBQ+Gk6tfBOMNL5J631+OeAfPvp1ep8mDy2+31ZS0yPxGj4/HKBcBoPUPZ6Wc70khiI+YrFmZRkJEb7V4t9YSpgYvvx5tFhG9AQ+fppoDmYwIz6ChjABPdYovu7wQD9IgBQ+fdI/Vzo0Lb4=\",\"dtype\":\"float64\",\"order\":\"little\",\"shape\":[19]}},\"selected\":{\"id\":\"13509\"},\"selection_policy\":{\"id\":\"13510\"}},\"id\":\"13058\",\"type\":\"ColumnDataSource\"},{\"attributes\":{},\"id\":\"13065\",\"type\":\"LinearScale\"},{\"attributes\":{},\"id\":\"13067\",\"type\":\"LinearScale\"},{\"attributes\":{\"formatter\":{\"id\":\"13505\"},\"ticker\":{\"id\":\"13070\"}},\"id\":\"13069\",\"type\":\"LinearAxis\"},{\"attributes\":{\"text\":\"\"},\"id\":\"13501\",\"type\":\"Title\"},{\"attributes\":{},\"id\":\"13070\",\"type\":\"BasicTicker\"},{\"attributes\":{},\"id\":\"13061\",\"type\":\"DataRange1d\"},{\"attributes\":{},\"id\":\"13503\",\"type\":\"BasicTickFormatter\"},{\"attributes\":{\"axis\":{\"id\":\"13069\"},\"ticker\":null},\"id\":\"13072\",\"type\":\"Grid\"},{\"attributes\":{\"formatter\":{\"id\":\"13503\"},\"ticker\":{\"id\":\"13074\"}},\"id\":\"13073\",\"type\":\"LinearAxis\"},{\"attributes\":{\"callback\":null,\"tooltips\":[[\"index\",\"$index\"],[\"desc\",\"@desc\"]]},\"id\":\"13059\",\"type\":\"HoverTool\"},{\"attributes\":{},\"id\":\"13074\",\"type\":\"BasicTicker\"},{\"attributes\":{\"data_source\":{\"id\":\"13057\"},\"glyph\":{\"id\":\"13082\"},\"hover_glyph\":null,\"muted_glyph\":null,\"nonselection_glyph\":{\"id\":\"13083\"},\"selection_glyph\":null,\"view\":{\"id\":\"13085\"}},\"id\":\"13084\",\"type\":\"GlyphRenderer\"},{\"attributes\":{\"axis\":{\"id\":\"13073\"},\"dimension\":1,\"ticker\":null},\"id\":\"13076\",\"type\":\"Grid\"},{\"attributes\":{\"data\":{\"desc\":[\"SRR5616889\",\"SRR5616890\",\"SRR5616891\",\"SRR5616892\",\"SRR5616893\",\"SRR5616894\",\"SRR5616895\",\"SRR5616896\",\"SRR5616897\",\"SRR5616898\",\"SRR5616899\",\"SRR5616900\",\"SRR5616901\",\"SRR5616902\",\"SRR5616903\",\"SRR5616904\",\"SRR5616905\"],\"x\":{\"__ndarray__\":\"zLH6jdwFNz589FX1MUdfPkQL53xUG0Y+NI7fpnhhXL6s6//x7eIqvmuFPf9nTUo++iQLImIZR76sI7vv7eJgPgc4oSI41UE+aIMU0kZwXz4hRF5fr2xoPgENF9FnvVO+uwO4Ko7JUz4RqwiE4dxrPmQK9WfUFFE+XVl8aIJWQz7EAIVu4KtoPg==\",\"dtype\":\"float64\",\"order\":\"little\",\"shape\":[17]},\"y\":{\"__ndarray__\":\"v2LpooJq/T3dm4H9UkY1PlVYTpMcsju+bMKFXHr6J763FIqKHkomvuY0NGegABC+daecYCSvK77kBgNW3OM1vjl3VjsEglg+b+iTDMgVPr7XC/FXZUNIPv13FoyU/Q++gMFWLL2XS76tGmseH8/uPa11fxzYtBC+ojVf+PRsNT6FaGUBtw0xvg==\",\"dtype\":\"float64\",\"order\":\"little\",\"shape\":[17]}},\"selected\":{\"id\":\"13507\"},\"selection_policy\":{\"id\":\"13508\"}},\"id\":\"13057\",\"type\":\"ColumnDataSource\"},{\"attributes\":{},\"id\":\"13509\",\"type\":\"Selection\"},{\"attributes\":{},\"id\":\"13507\",\"type\":\"Selection\"},{\"attributes\":{},\"id\":\"13077\",\"type\":\"SaveTool\"},{\"attributes\":{\"active_drag\":\"auto\",\"active_inspect\":\"auto\",\"active_multi\":null,\"active_scroll\":\"auto\",\"active_tap\":\"auto\",\"tools\":[{\"id\":\"13059\"},{\"id\":\"13077\"}]},\"id\":\"13078\",\"type\":\"Toolbar\"},{\"attributes\":{\"data_source\":{\"id\":\"13058\"},\"glyph\":{\"id\":\"13087\"},\"hover_glyph\":null,\"muted_glyph\":null,\"nonselection_glyph\":{\"id\":\"13088\"},\"selection_glyph\":null,\"view\":{\"id\":\"13090\"}},\"id\":\"13089\",\"type\":\"GlyphRenderer\"},{\"attributes\":{\"fill_alpha\":{\"value\":0.1},\"fill_color\":{\"value\":\"black\"},\"line_alpha\":{\"value\":0.1},\"size\":{\"units\":\"screen\",\"value\":14},\"x\":{\"field\":\"x\"},\"y\":{\"field\":\"y\"}},\"id\":\"13083\",\"type\":\"Circle\"},{\"attributes\":{\"source\":{\"id\":\"13057\"}},\"id\":\"13085\",\"type\":\"CDSView\"},{\"attributes\":{},\"id\":\"13508\",\"type\":\"UnionRenderers\"},{\"attributes\":{},\"id\":\"13505\",\"type\":\"BasicTickFormatter\"},{\"attributes\":{},\"id\":\"13063\",\"type\":\"DataRange1d\"},{\"attributes\":{\"fill_color\":{\"value\":\"black\"},\"size\":{\"units\":\"screen\",\"value\":14},\"x\":{\"field\":\"x\"},\"y\":{\"field\":\"y\"}},\"id\":\"13082\",\"type\":\"Circle\"},{\"attributes\":{},\"id\":\"13510\",\"type\":\"UnionRenderers\"},{\"attributes\":{\"fill_color\":{\"value\":\"darkorange\"},\"line_color\":{\"value\":\"darkorange\"},\"size\":{\"units\":\"screen\",\"value\":16},\"x\":{\"field\":\"x\"},\"y\":{\"field\":\"y\"}},\"id\":\"13087\",\"type\":\"Triangle\"},{\"attributes\":{\"fill_alpha\":{\"value\":0.1},\"fill_color\":{\"value\":\"darkorange\"},\"line_alpha\":{\"value\":0.1},\"line_color\":{\"value\":\"darkorange\"},\"size\":{\"units\":\"screen\",\"value\":16},\"x\":{\"field\":\"x\"},\"y\":{\"field\":\"y\"}},\"id\":\"13088\",\"type\":\"Triangle\"},{\"attributes\":{\"source\":{\"id\":\"13058\"}},\"id\":\"13090\",\"type\":\"CDSView\"}],\"root_ids\":[\"13060\"]},\"title\":\"Bokeh Application\",\"version\":\"2.2.3\"}};\n",
       "  var render_items = [{\"docid\":\"9d4a1719-a16f-47ad-b3cb-27281912483c\",\"root_ids\":[\"13060\"],\"roots\":{\"13060\":\"1415c6e7-9fb9-46b9-9e34-afa340820e7f\"}}];\n",
       "  root.Bokeh.embed.embed_items_notebook(docs_json, render_items);\n",
       "\n",
       "  }\n",
       "  if (root.Bokeh !== undefined) {\n",
       "    embed_document(root);\n",
       "  } else {\n",
       "    var attempts = 0;\n",
       "    var timer = setInterval(function(root) {\n",
       "      if (root.Bokeh !== undefined) {\n",
       "        clearInterval(timer);\n",
       "        embed_document(root);\n",
       "      } else {\n",
       "        attempts++;\n",
       "        if (attempts > 100) {\n",
       "          clearInterval(timer);\n",
       "          console.log(\"Bokeh: ERROR: Unable to run BokehJS code because BokehJS library is missing\");\n",
       "        }\n",
       "      }\n",
       "    }, 10, root)\n",
       "  }\n",
       "})(window);"
      ],
      "application/vnd.bokehjs_exec.v0+json": ""
     },
     "metadata": {
      "application/vnd.bokehjs_exec.v0+json": {
       "id": "13060"
      }
     },
     "output_type": "display_data"
    }
   ],
   "source": [
    "# q = 10\n",
    "draw_PCA(dfs[9])"
   ]
  },
  {
   "cell_type": "code",
   "execution_count": 57,
   "metadata": {},
   "outputs": [
    {
     "data": {
      "text/html": [
       "\n",
       "\n",
       "\n",
       "\n",
       "\n",
       "\n",
       "  <div class=\"bk-root\" id=\"f6c54c57-9c10-4955-9309-83578f690488\" data-root-id=\"13564\"></div>\n"
      ]
     },
     "metadata": {},
     "output_type": "display_data"
    },
    {
     "data": {
      "application/javascript": [
       "(function(root) {\n",
       "  function embed_document(root) {\n",
       "    \n",
       "  var docs_json = {\"801e3bec-e6f2-4756-9823-75778fae65e7\":{\"roots\":{\"references\":[{\"attributes\":{\"below\":[{\"id\":\"13573\"}],\"center\":[{\"id\":\"13576\"},{\"id\":\"13580\"}],\"left\":[{\"id\":\"13577\"}],\"plot_height\":500,\"plot_width\":550,\"renderers\":[{\"id\":\"13588\"},{\"id\":\"13593\"}],\"title\":{\"id\":\"14015\"},\"toolbar\":{\"id\":\"13582\"},\"x_range\":{\"id\":\"13565\"},\"x_scale\":{\"id\":\"13569\"},\"y_range\":{\"id\":\"13567\"},\"y_scale\":{\"id\":\"13571\"}},\"id\":\"13564\",\"subtype\":\"Figure\",\"type\":\"Plot\"},{\"attributes\":{\"data_source\":{\"id\":\"13561\"},\"glyph\":{\"id\":\"13586\"},\"hover_glyph\":null,\"muted_glyph\":null,\"nonselection_glyph\":{\"id\":\"13587\"},\"selection_glyph\":null,\"view\":{\"id\":\"13589\"}},\"id\":\"13588\",\"type\":\"GlyphRenderer\"},{\"attributes\":{\"fill_color\":{\"value\":\"black\"},\"size\":{\"units\":\"screen\",\"value\":14},\"x\":{\"field\":\"x\"},\"y\":{\"field\":\"y\"}},\"id\":\"13586\",\"type\":\"Circle\"},{\"attributes\":{},\"id\":\"13565\",\"type\":\"DataRange1d\"},{\"attributes\":{},\"id\":\"14019\",\"type\":\"BasicTickFormatter\"},{\"attributes\":{},\"id\":\"13567\",\"type\":\"DataRange1d\"},{\"attributes\":{\"source\":{\"id\":\"13562\"}},\"id\":\"13594\",\"type\":\"CDSView\"},{\"attributes\":{},\"id\":\"13569\",\"type\":\"LinearScale\"},{\"attributes\":{\"fill_alpha\":{\"value\":0.1},\"fill_color\":{\"value\":\"darkorange\"},\"line_alpha\":{\"value\":0.1},\"line_color\":{\"value\":\"darkorange\"},\"size\":{\"units\":\"screen\",\"value\":16},\"x\":{\"field\":\"x\"},\"y\":{\"field\":\"y\"}},\"id\":\"13592\",\"type\":\"Triangle\"},{\"attributes\":{},\"id\":\"14021\",\"type\":\"Selection\"},{\"attributes\":{},\"id\":\"13571\",\"type\":\"LinearScale\"},{\"attributes\":{\"data_source\":{\"id\":\"13562\"},\"glyph\":{\"id\":\"13591\"},\"hover_glyph\":null,\"muted_glyph\":null,\"nonselection_glyph\":{\"id\":\"13592\"},\"selection_glyph\":null,\"view\":{\"id\":\"13594\"}},\"id\":\"13593\",\"type\":\"GlyphRenderer\"},{\"attributes\":{\"formatter\":{\"id\":\"14019\"},\"ticker\":{\"id\":\"13574\"}},\"id\":\"13573\",\"type\":\"LinearAxis\"},{\"attributes\":{\"fill_color\":{\"value\":\"darkorange\"},\"line_color\":{\"value\":\"darkorange\"},\"size\":{\"units\":\"screen\",\"value\":16},\"x\":{\"field\":\"x\"},\"y\":{\"field\":\"y\"}},\"id\":\"13591\",\"type\":\"Triangle\"},{\"attributes\":{},\"id\":\"13574\",\"type\":\"BasicTicker\"},{\"attributes\":{\"axis\":{\"id\":\"13573\"},\"ticker\":null},\"id\":\"13576\",\"type\":\"Grid\"},{\"attributes\":{},\"id\":\"14017\",\"type\":\"BasicTickFormatter\"},{\"attributes\":{\"formatter\":{\"id\":\"14017\"},\"ticker\":{\"id\":\"13578\"}},\"id\":\"13577\",\"type\":\"LinearAxis\"},{\"attributes\":{},\"id\":\"14022\",\"type\":\"UnionRenderers\"},{\"attributes\":{},\"id\":\"13578\",\"type\":\"BasicTicker\"},{\"attributes\":{\"axis\":{\"id\":\"13577\"},\"dimension\":1,\"ticker\":null},\"id\":\"13580\",\"type\":\"Grid\"},{\"attributes\":{\"callback\":null,\"tooltips\":[[\"index\",\"$index\"],[\"desc\",\"@desc\"]]},\"id\":\"13563\",\"type\":\"HoverTool\"},{\"attributes\":{\"data\":{\"desc\":[\"SRR5616889\",\"SRR5616890\",\"SRR5616891\",\"SRR5616892\",\"SRR5616893\",\"SRR5616894\",\"SRR5616895\",\"SRR5616896\",\"SRR5616897\",\"SRR5616898\",\"SRR5616899\",\"SRR5616900\",\"SRR5616901\",\"SRR5616902\",\"SRR5616903\",\"SRR5616904\",\"SRR5616905\"],\"x\":{\"__ndarray__\":\"1IjuLqwoA7/uXs6QdS4QPzJKeXRgXRG/wsZ61gwyEr8w8x8aTVAWv8O425gTNvG+vZl3YFEzDr8h4v5jHFoUv1ZuhtrTOhu/BkQyRFA5H7/zPP41dPUfP0my9Z3irgS/liksZVmkIL+PFihY/pTSvmQdrgJptBe/eBnK93A2wr5V5wnlK9EEPw==\",\"dtype\":\"float64\",\"order\":\"little\",\"shape\":[17]},\"y\":{\"__ndarray__\":\"11OFnstOzb721x5rOTf7vh2EcUDQEc8+pB4w5TxX5r5FHuzrFmvlvj/xGbDhIcu+0NF+BVPF9D6+zd0pzyHRvqVZXt+IUPK+l1TPWT/M+L59o5kVJrUJv7Yg3/fICuE+kZQdaRf42j44HNm9GE7DvgNouSc/CvA+AaMqVqFU4j6R3iMqzWOvvg==\",\"dtype\":\"float64\",\"order\":\"little\",\"shape\":[17]}},\"selected\":{\"id\":\"14021\"},\"selection_policy\":{\"id\":\"14022\"}},\"id\":\"13561\",\"type\":\"ColumnDataSource\"},{\"attributes\":{},\"id\":\"14023\",\"type\":\"Selection\"},{\"attributes\":{},\"id\":\"13581\",\"type\":\"SaveTool\"},{\"attributes\":{\"data\":{\"desc\":[\"SRR5616906\",\"SRR5616907\",\"SRR5616908\",\"SRR5616909\",\"SRR5616910\",\"SRR5616911\",\"SRR5616912\",\"SRR5616913\",\"SRR5616914\",\"SRR5616915\",\"SRR5616916\",\"SRR5616917\",\"SRR5616918\",\"SRR5616919\",\"SRR5616920\",\"SRR5616921\"],\"x\":{\"__ndarray__\":\"+r5L3WIuFT+9Url9ql0iP/e6tTwmSuK+Tr2sNkHPED9yc8aGHrMBv6siuOkMUww/23HHKMuoHD8AG9M9mJf4vs0cFr18s/c+WVVsDe0VIT/YXgWgoXAnPwq7VSL6j9m+fb6OQVYAyb65Yv/No33CPi0dH4R+TBC/YOz4Clgm/D4=\",\"dtype\":\"float64\",\"order\":\"little\",\"shape\":[16]},\"y\":{\"__ndarray__\":\"YP6CL9YiAz9ASJikUicYP51VRSWXf+K+Seil966QAT9rtmDYiFPVvtF5370GVtc+D9SxP2cqEL/Ps8CnFpjaPhzEMeRf6Po+q7RpmJPq/L5WC87hZsX2vqXR8zFz+eK+ltpMgCiNwL5RdDe4I5llvoo+Yc8xteA+mwZv7fb/8T4=\",\"dtype\":\"float64\",\"order\":\"little\",\"shape\":[16]}},\"selected\":{\"id\":\"14023\"},\"selection_policy\":{\"id\":\"14024\"}},\"id\":\"13562\",\"type\":\"ColumnDataSource\"},{\"attributes\":{\"active_drag\":\"auto\",\"active_inspect\":\"auto\",\"active_multi\":null,\"active_scroll\":\"auto\",\"active_tap\":\"auto\",\"tools\":[{\"id\":\"13563\"},{\"id\":\"13581\"}]},\"id\":\"13582\",\"type\":\"Toolbar\"},{\"attributes\":{},\"id\":\"14024\",\"type\":\"UnionRenderers\"},{\"attributes\":{\"text\":\"\"},\"id\":\"14015\",\"type\":\"Title\"},{\"attributes\":{\"source\":{\"id\":\"13561\"}},\"id\":\"13589\",\"type\":\"CDSView\"},{\"attributes\":{\"fill_alpha\":{\"value\":0.1},\"fill_color\":{\"value\":\"black\"},\"line_alpha\":{\"value\":0.1},\"size\":{\"units\":\"screen\",\"value\":14},\"x\":{\"field\":\"x\"},\"y\":{\"field\":\"y\"}},\"id\":\"13587\",\"type\":\"Circle\"}],\"root_ids\":[\"13564\"]},\"title\":\"Bokeh Application\",\"version\":\"2.2.3\"}};\n",
       "  var render_items = [{\"docid\":\"801e3bec-e6f2-4756-9823-75778fae65e7\",\"root_ids\":[\"13564\"],\"roots\":{\"13564\":\"f6c54c57-9c10-4955-9309-83578f690488\"}}];\n",
       "  root.Bokeh.embed.embed_items_notebook(docs_json, render_items);\n",
       "\n",
       "  }\n",
       "  if (root.Bokeh !== undefined) {\n",
       "    embed_document(root);\n",
       "  } else {\n",
       "    var attempts = 0;\n",
       "    var timer = setInterval(function(root) {\n",
       "      if (root.Bokeh !== undefined) {\n",
       "        clearInterval(timer);\n",
       "        embed_document(root);\n",
       "      } else {\n",
       "        attempts++;\n",
       "        if (attempts > 100) {\n",
       "          clearInterval(timer);\n",
       "          console.log(\"Bokeh: ERROR: Unable to run BokehJS code because BokehJS library is missing\");\n",
       "        }\n",
       "      }\n",
       "    }, 10, root)\n",
       "  }\n",
       "})(window);"
      ],
      "application/vnd.bokehjs_exec.v0+json": ""
     },
     "metadata": {
      "application/vnd.bokehjs_exec.v0+json": {
       "id": "13564"
      }
     },
     "output_type": "display_data"
    }
   ],
   "source": [
    "# q = 11\n",
    "draw_PCA(dfs[10])"
   ]
  },
  {
   "cell_type": "code",
   "execution_count": 39,
   "metadata": {},
   "outputs": [
    {
     "data": {
      "text/html": [
       "\n",
       "\n",
       "\n",
       "\n",
       "\n",
       "\n",
       "  <div class=\"bk-root\" id=\"1c42b591-a670-4225-b189-3b28d1fc22d4\" data-root-id=\"7791\"></div>\n"
      ]
     },
     "metadata": {},
     "output_type": "display_data"
    },
    {
     "data": {
      "application/javascript": [
       "(function(root) {\n",
       "  function embed_document(root) {\n",
       "    \n",
       "  var docs_json = {\"04418c3b-4dad-4f64-adde-ebd3607aee2e\":{\"roots\":{\"references\":[{\"attributes\":{\"below\":[{\"id\":\"7800\"}],\"center\":[{\"id\":\"7803\"},{\"id\":\"7807\"}],\"left\":[{\"id\":\"7804\"}],\"plot_height\":500,\"plot_width\":550,\"renderers\":[{\"id\":\"7815\"},{\"id\":\"7820\"}],\"title\":{\"id\":\"8112\"},\"toolbar\":{\"id\":\"7809\"},\"x_range\":{\"id\":\"7792\"},\"x_scale\":{\"id\":\"7796\"},\"y_range\":{\"id\":\"7794\"},\"y_scale\":{\"id\":\"7798\"}},\"id\":\"7791\",\"subtype\":\"Figure\",\"type\":\"Plot\"},{\"attributes\":{},\"id\":\"8114\",\"type\":\"BasicTickFormatter\"},{\"attributes\":{},\"id\":\"7808\",\"type\":\"SaveTool\"},{\"attributes\":{\"data\":{\"desc\":[\"SRR5616889\",\"SRR5616890\",\"SRR5616891\",\"SRR5616892\",\"SRR5616893\",\"SRR5616894\",\"SRR5616895\",\"SRR5616896\",\"SRR5616897\",\"SRR5616898\",\"SRR5616899\",\"SRR5616900\",\"SRR5616901\",\"SRR5616902\",\"SRR5616903\",\"SRR5616904\",\"SRR5616905\"],\"x\":{\"__ndarray__\":\"R1fIMigEib6NEpX4BzGJvkpUVFUN9Yu+HjOYpECcgr5DgQHgiFB5vg2ga44Ywoe+9xz3kR10ib6zQEpkUt6IvqjT3mLHAYK+kXRZ9Ta1iL4+53AWzbiNvuf4v+t8KXe+D/tXuprSgb5Pkmw3adGNvtEy2/i2942+sEF9dG7Ljr5Tr2qIOK+Nvg==\",\"dtype\":\"float64\",\"order\":\"little\",\"shape\":[17]},\"y\":{\"__ndarray__\":\"+sc232rwZ77sechejpt5vjV+9KYXoG4+moS46O2Vaz4LU+KAqWp7PrOUyeJyQGi+0jh+pNYraz6b37nOLV1qPv8CkfCLlIG+6qzHYnckaj7H838saxJGvm/uouDDDYE+HakD8upsdb7TdyahjNdFvpXmoEXse0W+AqrUonmBQ74rCLnuVSlGvg==\",\"dtype\":\"float64\",\"order\":\"little\",\"shape\":[17]}},\"selected\":{\"id\":\"8118\"},\"selection_policy\":{\"id\":\"8119\"}},\"id\":\"7788\",\"type\":\"ColumnDataSource\"},{\"attributes\":{\"active_drag\":\"auto\",\"active_inspect\":\"auto\",\"active_multi\":null,\"active_scroll\":\"auto\",\"active_tap\":\"auto\",\"tools\":[{\"id\":\"7790\"},{\"id\":\"7808\"}]},\"id\":\"7809\",\"type\":\"Toolbar\"},{\"attributes\":{\"data_source\":{\"id\":\"7789\"},\"glyph\":{\"id\":\"7818\"},\"hover_glyph\":null,\"muted_glyph\":null,\"nonselection_glyph\":{\"id\":\"7819\"},\"selection_glyph\":null,\"view\":{\"id\":\"7821\"}},\"id\":\"7820\",\"type\":\"GlyphRenderer\"},{\"attributes\":{\"source\":{\"id\":\"7788\"}},\"id\":\"7816\",\"type\":\"CDSView\"},{\"attributes\":{\"fill_alpha\":{\"value\":0.1},\"fill_color\":{\"value\":\"black\"},\"line_alpha\":{\"value\":0.1},\"size\":{\"units\":\"screen\",\"value\":14},\"x\":{\"field\":\"x\"},\"y\":{\"field\":\"y\"}},\"id\":\"7814\",\"type\":\"Circle\"},{\"attributes\":{\"data\":{\"desc\":[\"SRR5616906\",\"SRR5616907\",\"SRR5616908\",\"SRR5616909\",\"SRR5616910\",\"SRR5616911\",\"SRR5616912\",\"SRR5616913\",\"SRR5616914\",\"SRR5616915\",\"SRR5616916\",\"SRR5616917\",\"SRR5616918\",\"SRR5616919\",\"SRR5616920\",\"SRR5616921\",\"SRR5616922\",\"SRR5616923\",\"SRR5616924\"],\"x\":{\"__ndarray__\":\"QxP9gSqFiT6XfCFc9V6KPsiqYdthbIM+WZ+GDT+BeT7dEMBUvwqJPgtnF35Yl3k+MMWA98mciT4WHuquuD+EPu4HoSLFuY8+Cdq++a71gj5WVLkgNduDPqqoRGGlTYo+YaEPcV/Ydz6metjAyi6EPmb0a2bIiYI+8/2tJ8D5gz6c/iJRm1CDPgOCvxzIT4k+lL3TV/LCiT4=\",\"dtype\":\"float64\",\"order\":\"little\",\"shape\":[19]},\"y\":{\"__ndarray__\":\"9hxauRPeXr6wQi2MLBBtPn57iyn/aWS+44p1Ej6LaL4Xk+NgI71uvtGAOqy5EF6+uCQqbSvEbb5w1arJbxtoPn7Ld4R3jk6+W9obBuVQer75myY2OI1yPrGnf/hqa2w+K2kQjzC8bj4G2z+ZY+RHPkqy6LUi5ne+zgm+1tdMhD6DJPfPLW47voOt4IFGqC8+rogP/Ot9Wb4=\",\"dtype\":\"float64\",\"order\":\"little\",\"shape\":[19]}},\"selected\":{\"id\":\"8120\"},\"selection_policy\":{\"id\":\"8121\"}},\"id\":\"7789\",\"type\":\"ColumnDataSource\"},{\"attributes\":{\"callback\":null,\"tooltips\":[[\"index\",\"$index\"],[\"desc\",\"@desc\"]]},\"id\":\"7790\",\"type\":\"HoverTool\"},{\"attributes\":{\"data_source\":{\"id\":\"7788\"},\"glyph\":{\"id\":\"7813\"},\"hover_glyph\":null,\"muted_glyph\":null,\"nonselection_glyph\":{\"id\":\"7814\"},\"selection_glyph\":null,\"view\":{\"id\":\"7816\"}},\"id\":\"7815\",\"type\":\"GlyphRenderer\"},{\"attributes\":{\"fill_color\":{\"value\":\"black\"},\"size\":{\"units\":\"screen\",\"value\":14},\"x\":{\"field\":\"x\"},\"y\":{\"field\":\"y\"}},\"id\":\"7813\",\"type\":\"Circle\"},{\"attributes\":{},\"id\":\"7792\",\"type\":\"DataRange1d\"},{\"attributes\":{\"text\":\"\"},\"id\":\"8112\",\"type\":\"Title\"},{\"attributes\":{},\"id\":\"7794\",\"type\":\"DataRange1d\"},{\"attributes\":{},\"id\":\"8116\",\"type\":\"BasicTickFormatter\"},{\"attributes\":{},\"id\":\"7796\",\"type\":\"LinearScale\"},{\"attributes\":{\"fill_color\":{\"value\":\"darkorange\"},\"line_color\":{\"value\":\"darkorange\"},\"size\":{\"units\":\"screen\",\"value\":16},\"x\":{\"field\":\"x\"},\"y\":{\"field\":\"y\"}},\"id\":\"7818\",\"type\":\"Triangle\"},{\"attributes\":{},\"id\":\"8118\",\"type\":\"Selection\"},{\"attributes\":{},\"id\":\"7798\",\"type\":\"LinearScale\"},{\"attributes\":{},\"id\":\"8119\",\"type\":\"UnionRenderers\"},{\"attributes\":{\"formatter\":{\"id\":\"8116\"},\"ticker\":{\"id\":\"7801\"}},\"id\":\"7800\",\"type\":\"LinearAxis\"},{\"attributes\":{},\"id\":\"8120\",\"type\":\"Selection\"},{\"attributes\":{},\"id\":\"7801\",\"type\":\"BasicTicker\"},{\"attributes\":{},\"id\":\"8121\",\"type\":\"UnionRenderers\"},{\"attributes\":{\"axis\":{\"id\":\"7800\"},\"ticker\":null},\"id\":\"7803\",\"type\":\"Grid\"},{\"attributes\":{\"formatter\":{\"id\":\"8114\"},\"ticker\":{\"id\":\"7805\"}},\"id\":\"7804\",\"type\":\"LinearAxis\"},{\"attributes\":{\"fill_alpha\":{\"value\":0.1},\"fill_color\":{\"value\":\"darkorange\"},\"line_alpha\":{\"value\":0.1},\"line_color\":{\"value\":\"darkorange\"},\"size\":{\"units\":\"screen\",\"value\":16},\"x\":{\"field\":\"x\"},\"y\":{\"field\":\"y\"}},\"id\":\"7819\",\"type\":\"Triangle\"},{\"attributes\":{},\"id\":\"7805\",\"type\":\"BasicTicker\"},{\"attributes\":{\"source\":{\"id\":\"7789\"}},\"id\":\"7821\",\"type\":\"CDSView\"},{\"attributes\":{\"axis\":{\"id\":\"7804\"},\"dimension\":1,\"ticker\":null},\"id\":\"7807\",\"type\":\"Grid\"}],\"root_ids\":[\"7791\"]},\"title\":\"Bokeh Application\",\"version\":\"2.2.3\"}};\n",
       "  var render_items = [{\"docid\":\"04418c3b-4dad-4f64-adde-ebd3607aee2e\",\"root_ids\":[\"7791\"],\"roots\":{\"7791\":\"1c42b591-a670-4225-b189-3b28d1fc22d4\"}}];\n",
       "  root.Bokeh.embed.embed_items_notebook(docs_json, render_items);\n",
       "\n",
       "  }\n",
       "  if (root.Bokeh !== undefined) {\n",
       "    embed_document(root);\n",
       "  } else {\n",
       "    var attempts = 0;\n",
       "    var timer = setInterval(function(root) {\n",
       "      if (root.Bokeh !== undefined) {\n",
       "        clearInterval(timer);\n",
       "        embed_document(root);\n",
       "      } else {\n",
       "        attempts++;\n",
       "        if (attempts > 100) {\n",
       "          clearInterval(timer);\n",
       "          console.log(\"Bokeh: ERROR: Unable to run BokehJS code because BokehJS library is missing\");\n",
       "        }\n",
       "      }\n",
       "    }, 10, root)\n",
       "  }\n",
       "})(window);"
      ],
      "application/vnd.bokehjs_exec.v0+json": ""
     },
     "metadata": {
      "application/vnd.bokehjs_exec.v0+json": {
       "id": "7791"
      }
     },
     "output_type": "display_data"
    }
   ],
   "source": [
    "# q = 12\n",
    "draw_PCA(dfs[11])"
   ]
  },
  {
   "cell_type": "code",
   "execution_count": 40,
   "metadata": {},
   "outputs": [
    {
     "data": {
      "text/html": [
       "\n",
       "\n",
       "\n",
       "\n",
       "\n",
       "\n",
       "  <div class=\"bk-root\" id=\"199439ab-e8dc-4903-973a-2272e7bebc78\" data-root-id=\"8175\"></div>\n"
      ]
     },
     "metadata": {},
     "output_type": "display_data"
    },
    {
     "data": {
      "application/javascript": [
       "(function(root) {\n",
       "  function embed_document(root) {\n",
       "    \n",
       "  var docs_json = {\"9aecdcb9-df11-4a41-98d9-e4f5440922f2\":{\"roots\":{\"references\":[{\"attributes\":{\"below\":[{\"id\":\"8184\"}],\"center\":[{\"id\":\"8187\"},{\"id\":\"8191\"}],\"left\":[{\"id\":\"8188\"}],\"plot_height\":500,\"plot_width\":550,\"renderers\":[{\"id\":\"8199\"},{\"id\":\"8204\"}],\"title\":{\"id\":\"8506\"},\"toolbar\":{\"id\":\"8193\"},\"x_range\":{\"id\":\"8176\"},\"x_scale\":{\"id\":\"8180\"},\"y_range\":{\"id\":\"8178\"},\"y_scale\":{\"id\":\"8182\"}},\"id\":\"8175\",\"subtype\":\"Figure\",\"type\":\"Plot\"},{\"attributes\":{\"data_source\":{\"id\":\"8172\"},\"glyph\":{\"id\":\"8197\"},\"hover_glyph\":null,\"muted_glyph\":null,\"nonselection_glyph\":{\"id\":\"8198\"},\"selection_glyph\":null,\"view\":{\"id\":\"8200\"}},\"id\":\"8199\",\"type\":\"GlyphRenderer\"},{\"attributes\":{},\"id\":\"8508\",\"type\":\"BasicTickFormatter\"},{\"attributes\":{},\"id\":\"8513\",\"type\":\"UnionRenderers\"},{\"attributes\":{\"fill_alpha\":{\"value\":0.1},\"fill_color\":{\"value\":\"darkorange\"},\"line_alpha\":{\"value\":0.1},\"line_color\":{\"value\":\"darkorange\"},\"size\":{\"units\":\"screen\",\"value\":16},\"x\":{\"field\":\"x\"},\"y\":{\"field\":\"y\"}},\"id\":\"8203\",\"type\":\"Triangle\"},{\"attributes\":{\"callback\":null,\"tooltips\":[[\"index\",\"$index\"],[\"desc\",\"@desc\"]]},\"id\":\"8174\",\"type\":\"HoverTool\"},{\"attributes\":{\"data\":{\"desc\":[\"SRR5616889\",\"SRR5616890\",\"SRR5616891\",\"SRR5616892\",\"SRR5616893\",\"SRR5616894\",\"SRR5616895\",\"SRR5616896\",\"SRR5616897\",\"SRR5616898\",\"SRR5616899\",\"SRR5616900\",\"SRR5616901\",\"SRR5616902\",\"SRR5616903\",\"SRR5616904\",\"SRR5616905\"],\"x\":{\"__ndarray__\":\"PP+8sZDXYj5mC95unE5iPkfl2i95jGY+nmEf2nnyWz5M2q3KPrJnPqRSR+qwnFc+4WZtXcuZYT4cLRPy/MxYPjIoQxwFSmE+iPQe3FPzVz6UuT69BjNdPs+59YwjcmU+icAQryCdYz7KqLexBuViPjwkt5fL314+JLd7Ame3YD7tcHwCEldiPg==\",\"dtype\":\"float64\",\"order\":\"little\",\"shape\":[17]},\"y\":{\"__ndarray__\":\"IjqBznrwQz60jESgsY8wPjgIC4MJ6EU+mEmuVhktV75zuDnUnJcdvuf5Ox4JYlO+vXGl0Ch7Pr5Tsm4WTT1WPi8x+Z9ePz6+dqdMujjyVT7CZTJkFeJKvkAAbxRgeRy+7u/AGVmQG74nDy2p4DQbvgssa4wF3Dy+wh8f0uirRj69/47dWO4avg==\",\"dtype\":\"float64\",\"order\":\"little\",\"shape\":[17]}},\"selected\":{\"id\":\"8512\"},\"selection_policy\":{\"id\":\"8513\"}},\"id\":\"8172\",\"type\":\"ColumnDataSource\"},{\"attributes\":{},\"id\":\"8514\",\"type\":\"Selection\"},{\"attributes\":{},\"id\":\"8515\",\"type\":\"UnionRenderers\"},{\"attributes\":{\"fill_color\":{\"value\":\"darkorange\"},\"line_color\":{\"value\":\"darkorange\"},\"size\":{\"units\":\"screen\",\"value\":16},\"x\":{\"field\":\"x\"},\"y\":{\"field\":\"y\"}},\"id\":\"8202\",\"type\":\"Triangle\"},{\"attributes\":{\"fill_color\":{\"value\":\"black\"},\"size\":{\"units\":\"screen\",\"value\":14},\"x\":{\"field\":\"x\"},\"y\":{\"field\":\"y\"}},\"id\":\"8197\",\"type\":\"Circle\"},{\"attributes\":{},\"id\":\"8185\",\"type\":\"BasicTicker\"},{\"attributes\":{\"formatter\":{\"id\":\"8510\"},\"ticker\":{\"id\":\"8185\"}},\"id\":\"8184\",\"type\":\"LinearAxis\"},{\"attributes\":{\"axis\":{\"id\":\"8188\"},\"dimension\":1,\"ticker\":null},\"id\":\"8191\",\"type\":\"Grid\"},{\"attributes\":{\"fill_alpha\":{\"value\":0.1},\"fill_color\":{\"value\":\"black\"},\"line_alpha\":{\"value\":0.1},\"size\":{\"units\":\"screen\",\"value\":14},\"x\":{\"field\":\"x\"},\"y\":{\"field\":\"y\"}},\"id\":\"8198\",\"type\":\"Circle\"},{\"attributes\":{},\"id\":\"8512\",\"type\":\"Selection\"},{\"attributes\":{\"source\":{\"id\":\"8172\"}},\"id\":\"8200\",\"type\":\"CDSView\"},{\"attributes\":{},\"id\":\"8182\",\"type\":\"LinearScale\"},{\"attributes\":{},\"id\":\"8180\",\"type\":\"LinearScale\"},{\"attributes\":{},\"id\":\"8189\",\"type\":\"BasicTicker\"},{\"attributes\":{},\"id\":\"8178\",\"type\":\"DataRange1d\"},{\"attributes\":{\"formatter\":{\"id\":\"8508\"},\"ticker\":{\"id\":\"8189\"}},\"id\":\"8188\",\"type\":\"LinearAxis\"},{\"attributes\":{\"axis\":{\"id\":\"8184\"},\"ticker\":null},\"id\":\"8187\",\"type\":\"Grid\"},{\"attributes\":{\"data\":{\"desc\":[\"SRR5616906\",\"SRR5616907\",\"SRR5616908\",\"SRR5616909\",\"SRR5616910\",\"SRR5616911\",\"SRR5616912\",\"SRR5616913\",\"SRR5616914\",\"SRR5616915\",\"SRR5616916\",\"SRR5616917\",\"SRR5616918\",\"SRR5616919\",\"SRR5616920\",\"SRR5616921\",\"SRR5616922\",\"SRR5616923\",\"SRR5616924\"],\"x\":{\"__ndarray__\":\"QbetqUM5YL5p5Dmx3IZkvmnkObHchmS+aeQ5sdyGZL5SWfvb7F5gviPHDLtHC2C+csbTEWbqT75p5Dmx3IZkvi1G0QNzSli+/3D+cI2IQb69i91xV0lgvlN8WuvRpFe+jTe5ByQpYL5xG0d5eWlgvmnkObHchmS+aeQ5sdyGZL6k8HfAFcE+vtw3n71QQVi+aeQ5sdyGZL4=\",\"dtype\":\"float64\",\"order\":\"little\",\"shape\":[19]},\"y\":{\"__ndarray__\":\"djpImn8sPD7Hz+45+Xr+vcfP7jn5ev69x8/uOfl6/r2aLkTtdeM4vsdv3VvwQkC+jilVbc2EJD7Hz+45+Xr+vVadaXIHPf49wp3GxsjyV76O6CtOy5cOPnn7XgJI/0A+t+cdKZde+j2ku+x8gwI+vsfP7jn5ev69x8/uOfl6/r3IrmOsqiBcPo6jeTy4cT4+x8/uOfl6/r0=\",\"dtype\":\"float64\",\"order\":\"little\",\"shape\":[19]}},\"selected\":{\"id\":\"8514\"},\"selection_policy\":{\"id\":\"8515\"}},\"id\":\"8173\",\"type\":\"ColumnDataSource\"},{\"attributes\":{\"active_drag\":\"auto\",\"active_inspect\":\"auto\",\"active_multi\":null,\"active_scroll\":\"auto\",\"active_tap\":\"auto\",\"tools\":[{\"id\":\"8174\"},{\"id\":\"8192\"}]},\"id\":\"8193\",\"type\":\"Toolbar\"},{\"attributes\":{\"data_source\":{\"id\":\"8173\"},\"glyph\":{\"id\":\"8202\"},\"hover_glyph\":null,\"muted_glyph\":null,\"nonselection_glyph\":{\"id\":\"8203\"},\"selection_glyph\":null,\"view\":{\"id\":\"8205\"}},\"id\":\"8204\",\"type\":\"GlyphRenderer\"},{\"attributes\":{\"text\":\"\"},\"id\":\"8506\",\"type\":\"Title\"},{\"attributes\":{\"source\":{\"id\":\"8173\"}},\"id\":\"8205\",\"type\":\"CDSView\"},{\"attributes\":{},\"id\":\"8510\",\"type\":\"BasicTickFormatter\"},{\"attributes\":{},\"id\":\"8192\",\"type\":\"SaveTool\"},{\"attributes\":{},\"id\":\"8176\",\"type\":\"DataRange1d\"}],\"root_ids\":[\"8175\"]},\"title\":\"Bokeh Application\",\"version\":\"2.2.3\"}};\n",
       "  var render_items = [{\"docid\":\"9aecdcb9-df11-4a41-98d9-e4f5440922f2\",\"root_ids\":[\"8175\"],\"roots\":{\"8175\":\"199439ab-e8dc-4903-973a-2272e7bebc78\"}}];\n",
       "  root.Bokeh.embed.embed_items_notebook(docs_json, render_items);\n",
       "\n",
       "  }\n",
       "  if (root.Bokeh !== undefined) {\n",
       "    embed_document(root);\n",
       "  } else {\n",
       "    var attempts = 0;\n",
       "    var timer = setInterval(function(root) {\n",
       "      if (root.Bokeh !== undefined) {\n",
       "        clearInterval(timer);\n",
       "        embed_document(root);\n",
       "      } else {\n",
       "        attempts++;\n",
       "        if (attempts > 100) {\n",
       "          clearInterval(timer);\n",
       "          console.log(\"Bokeh: ERROR: Unable to run BokehJS code because BokehJS library is missing\");\n",
       "        }\n",
       "      }\n",
       "    }, 10, root)\n",
       "  }\n",
       "})(window);"
      ],
      "application/vnd.bokehjs_exec.v0+json": ""
     },
     "metadata": {
      "application/vnd.bokehjs_exec.v0+json": {
       "id": "8175"
      }
     },
     "output_type": "display_data"
    }
   ],
   "source": [
    "# q = 13\n",
    "draw_PCA(dfs[12])"
   ]
  },
  {
   "cell_type": "code",
   "execution_count": 41,
   "metadata": {},
   "outputs": [
    {
     "data": {
      "text/html": [
       "\n",
       "\n",
       "\n",
       "\n",
       "\n",
       "\n",
       "  <div class=\"bk-root\" id=\"d48510e2-a534-4dc3-ad8a-5aa0f691aa77\" data-root-id=\"8569\"></div>\n"
      ]
     },
     "metadata": {},
     "output_type": "display_data"
    },
    {
     "data": {
      "application/javascript": [
       "(function(root) {\n",
       "  function embed_document(root) {\n",
       "    \n",
       "  var docs_json = {\"30311cc0-63f9-43df-9c01-7f6b802417c4\":{\"roots\":{\"references\":[{\"attributes\":{\"below\":[{\"id\":\"8578\"}],\"center\":[{\"id\":\"8581\"},{\"id\":\"8585\"}],\"left\":[{\"id\":\"8582\"}],\"plot_height\":500,\"plot_width\":550,\"renderers\":[{\"id\":\"8593\"},{\"id\":\"8598\"}],\"title\":{\"id\":\"8910\"},\"toolbar\":{\"id\":\"8587\"},\"x_range\":{\"id\":\"8570\"},\"x_scale\":{\"id\":\"8574\"},\"y_range\":{\"id\":\"8572\"},\"y_scale\":{\"id\":\"8576\"}},\"id\":\"8569\",\"subtype\":\"Figure\",\"type\":\"Plot\"},{\"attributes\":{\"fill_alpha\":{\"value\":0.1},\"fill_color\":{\"value\":\"darkorange\"},\"line_alpha\":{\"value\":0.1},\"line_color\":{\"value\":\"darkorange\"},\"size\":{\"units\":\"screen\",\"value\":16},\"x\":{\"field\":\"x\"},\"y\":{\"field\":\"y\"}},\"id\":\"8597\",\"type\":\"Triangle\"},{\"attributes\":{\"source\":{\"id\":\"8567\"}},\"id\":\"8599\",\"type\":\"CDSView\"},{\"attributes\":{\"source\":{\"id\":\"8566\"}},\"id\":\"8594\",\"type\":\"CDSView\"},{\"attributes\":{\"data_source\":{\"id\":\"8567\"},\"glyph\":{\"id\":\"8596\"},\"hover_glyph\":null,\"muted_glyph\":null,\"nonselection_glyph\":{\"id\":\"8597\"},\"selection_glyph\":null,\"view\":{\"id\":\"8599\"}},\"id\":\"8598\",\"type\":\"GlyphRenderer\"},{\"attributes\":{\"fill_color\":{\"value\":\"darkorange\"},\"line_color\":{\"value\":\"darkorange\"},\"size\":{\"units\":\"screen\",\"value\":16},\"x\":{\"field\":\"x\"},\"y\":{\"field\":\"y\"}},\"id\":\"8596\",\"type\":\"Triangle\"},{\"attributes\":{},\"id\":\"8572\",\"type\":\"DataRange1d\"},{\"attributes\":{},\"id\":\"8912\",\"type\":\"BasicTickFormatter\"},{\"attributes\":{},\"id\":\"8570\",\"type\":\"DataRange1d\"},{\"attributes\":{},\"id\":\"8914\",\"type\":\"BasicTickFormatter\"},{\"attributes\":{\"callback\":null,\"tooltips\":[[\"index\",\"$index\"],[\"desc\",\"@desc\"]]},\"id\":\"8568\",\"type\":\"HoverTool\"},{\"attributes\":{},\"id\":\"8916\",\"type\":\"Selection\"},{\"attributes\":{\"formatter\":{\"id\":\"8914\"},\"ticker\":{\"id\":\"8579\"}},\"id\":\"8578\",\"type\":\"LinearAxis\"},{\"attributes\":{},\"id\":\"8917\",\"type\":\"UnionRenderers\"},{\"attributes\":{},\"id\":\"8586\",\"type\":\"SaveTool\"},{\"attributes\":{},\"id\":\"8918\",\"type\":\"Selection\"},{\"attributes\":{\"axis\":{\"id\":\"8582\"},\"dimension\":1,\"ticker\":null},\"id\":\"8585\",\"type\":\"Grid\"},{\"attributes\":{\"data_source\":{\"id\":\"8566\"},\"glyph\":{\"id\":\"8591\"},\"hover_glyph\":null,\"muted_glyph\":null,\"nonselection_glyph\":{\"id\":\"8592\"},\"selection_glyph\":null,\"view\":{\"id\":\"8594\"}},\"id\":\"8593\",\"type\":\"GlyphRenderer\"},{\"attributes\":{},\"id\":\"8579\",\"type\":\"BasicTicker\"},{\"attributes\":{},\"id\":\"8919\",\"type\":\"UnionRenderers\"},{\"attributes\":{},\"id\":\"8574\",\"type\":\"LinearScale\"},{\"attributes\":{\"data\":{\"desc\":[\"SRR5616906\",\"SRR5616907\",\"SRR5616908\",\"SRR5616909\",\"SRR5616910\",\"SRR5616911\",\"SRR5616912\",\"SRR5616913\",\"SRR5616914\",\"SRR5616915\",\"SRR5616916\",\"SRR5616917\",\"SRR5616918\",\"SRR5616919\",\"SRR5616920\",\"SRR5616921\",\"SRR5616922\",\"SRR5616923\",\"SRR5616924\"],\"x\":{\"__ndarray__\":\"+Lu2r+PPRb675pPGmP9FvvsyZeTJa0a+PkYJnl0GR76LhTWLDJ1FvvskK76wYEG+JHDNRKoLQb4UZM7TASRGvkGik42CmEW+ZyyFfqXEOL5MdQ1A48E4vqTlB3Mf30C+EjOpFqzlN76VqWrepdxAvtM3B1lJQka+4aiUi6AJR75r3nOiouFAvkXAHdUd4kC+9/4d0ILFQL4=\",\"dtype\":\"float64\",\"order\":\"little\",\"shape\":[19]},\"y\":{\"__ndarray__\":\"ryZ523YU7T384HVdovzrPfK9iIcHguk9xnmmk1n35T34LWfVqz7uPT4fMjoMjDS+h/RzBG+VLr6XBgREESfrPUKIjoxLWe49N1iWav1VJz5q8VzyM4gxvs0k9mfrXQg+Q4KFTQ/JKT7V2YD8khoIPnjEzVR2deo9V0HTQzjk5T2OfEzJPLUiPnE8DSKaySI+v2+xkz3uJT4=\",\"dtype\":\"float64\",\"order\":\"little\",\"shape\":[19]}},\"selected\":{\"id\":\"8918\"},\"selection_policy\":{\"id\":\"8919\"}},\"id\":\"8567\",\"type\":\"ColumnDataSource\"},{\"attributes\":{},\"id\":\"8583\",\"type\":\"BasicTicker\"},{\"attributes\":{\"fill_color\":{\"value\":\"black\"},\"size\":{\"units\":\"screen\",\"value\":14},\"x\":{\"field\":\"x\"},\"y\":{\"field\":\"y\"}},\"id\":\"8591\",\"type\":\"Circle\"},{\"attributes\":{},\"id\":\"8576\",\"type\":\"LinearScale\"},{\"attributes\":{\"text\":\"\"},\"id\":\"8910\",\"type\":\"Title\"},{\"attributes\":{\"formatter\":{\"id\":\"8912\"},\"ticker\":{\"id\":\"8583\"}},\"id\":\"8582\",\"type\":\"LinearAxis\"},{\"attributes\":{\"active_drag\":\"auto\",\"active_inspect\":\"auto\",\"active_multi\":null,\"active_scroll\":\"auto\",\"active_tap\":\"auto\",\"tools\":[{\"id\":\"8568\"},{\"id\":\"8586\"}]},\"id\":\"8587\",\"type\":\"Toolbar\"},{\"attributes\":{\"axis\":{\"id\":\"8578\"},\"ticker\":null},\"id\":\"8581\",\"type\":\"Grid\"},{\"attributes\":{\"data\":{\"desc\":[\"SRR5616889\",\"SRR5616890\",\"SRR5616891\",\"SRR5616892\",\"SRR5616893\",\"SRR5616894\",\"SRR5616895\",\"SRR5616896\",\"SRR5616897\",\"SRR5616898\",\"SRR5616899\",\"SRR5616900\",\"SRR5616901\",\"SRR5616902\",\"SRR5616903\",\"SRR5616904\",\"SRR5616905\"],\"x\":{\"__ndarray__\":\"/dBDwrrkTD6WDdGRgZtHPkHlndzID0k+ElMklDtKRz4gMe7NnRs9PoZNtwJ9Xkc+d76/KwnQRT7Y0fZa3pVIPtA1nrVZMio+wHoR92sTQz4LTzGbU4BFPt/TkelAwkU+8RmkyQHNQj74DJEDUENGPuK1lA7V+0E+iK74yMFJRT4KcWoNqelEPg==\",\"dtype\":\"float64\",\"order\":\"little\",\"shape\":[17]},\"y\":{\"__ndarray__\":\"yj6WVvfw/b0OVf9GMMAQvqrn/hwxmUQ+GR775KDWBr6NZ9Pzx7BAvuxzgEZ9pfa9u5XuN2RJ6z1s9BohqUD4vYSOE0FxMCi+LCR5c60eCL4HuSUkFi70vfXY1uewEQu+QQO/dNKwC763gJm+jy/1vTZuHyEiywG+h7k31QGsMD42DveBImfzvQ==\",\"dtype\":\"float64\",\"order\":\"little\",\"shape\":[17]}},\"selected\":{\"id\":\"8916\"},\"selection_policy\":{\"id\":\"8917\"}},\"id\":\"8566\",\"type\":\"ColumnDataSource\"},{\"attributes\":{\"fill_alpha\":{\"value\":0.1},\"fill_color\":{\"value\":\"black\"},\"line_alpha\":{\"value\":0.1},\"size\":{\"units\":\"screen\",\"value\":14},\"x\":{\"field\":\"x\"},\"y\":{\"field\":\"y\"}},\"id\":\"8592\",\"type\":\"Circle\"}],\"root_ids\":[\"8569\"]},\"title\":\"Bokeh Application\",\"version\":\"2.2.3\"}};\n",
       "  var render_items = [{\"docid\":\"30311cc0-63f9-43df-9c01-7f6b802417c4\",\"root_ids\":[\"8569\"],\"roots\":{\"8569\":\"d48510e2-a534-4dc3-ad8a-5aa0f691aa77\"}}];\n",
       "  root.Bokeh.embed.embed_items_notebook(docs_json, render_items);\n",
       "\n",
       "  }\n",
       "  if (root.Bokeh !== undefined) {\n",
       "    embed_document(root);\n",
       "  } else {\n",
       "    var attempts = 0;\n",
       "    var timer = setInterval(function(root) {\n",
       "      if (root.Bokeh !== undefined) {\n",
       "        clearInterval(timer);\n",
       "        embed_document(root);\n",
       "      } else {\n",
       "        attempts++;\n",
       "        if (attempts > 100) {\n",
       "          clearInterval(timer);\n",
       "          console.log(\"Bokeh: ERROR: Unable to run BokehJS code because BokehJS library is missing\");\n",
       "        }\n",
       "      }\n",
       "    }, 10, root)\n",
       "  }\n",
       "})(window);"
      ],
      "application/vnd.bokehjs_exec.v0+json": ""
     },
     "metadata": {
      "application/vnd.bokehjs_exec.v0+json": {
       "id": "8569"
      }
     },
     "output_type": "display_data"
    }
   ],
   "source": [
    "# q = 14\n",
    "draw_PCA(dfs[13])"
   ]
  },
  {
   "cell_type": "markdown",
   "metadata": {},
   "source": [
    "## 5. Interpretability"
   ]
  },
  {
   "cell_type": "markdown",
   "metadata": {},
   "source": [
    "### q = 14"
   ]
  },
  {
   "cell_type": "code",
   "execution_count": 19,
   "metadata": {},
   "outputs": [
    {
     "data": {
      "text/html": [
       "<div>\n",
       "<style scoped>\n",
       "    .dataframe tbody tr th:only-of-type {\n",
       "        vertical-align: middle;\n",
       "    }\n",
       "\n",
       "    .dataframe tbody tr th {\n",
       "        vertical-align: top;\n",
       "    }\n",
       "\n",
       "    .dataframe thead th {\n",
       "        text-align: right;\n",
       "    }\n",
       "</style>\n",
       "<table border=\"1\" class=\"dataframe\">\n",
       "  <thead>\n",
       "    <tr style=\"text-align: right;\">\n",
       "      <th></th>\n",
       "      <th>0</th>\n",
       "    </tr>\n",
       "  </thead>\n",
       "  <tbody>\n",
       "    <tr>\n",
       "      <th>PC1</th>\n",
       "      <td>0.724512</td>\n",
       "    </tr>\n",
       "    <tr>\n",
       "      <th>PC2</th>\n",
       "      <td>0.060314</td>\n",
       "    </tr>\n",
       "    <tr>\n",
       "      <th>PC3</th>\n",
       "      <td>0.050021</td>\n",
       "    </tr>\n",
       "    <tr>\n",
       "      <th>PC4</th>\n",
       "      <td>0.038654</td>\n",
       "    </tr>\n",
       "    <tr>\n",
       "      <th>PC5</th>\n",
       "      <td>0.030889</td>\n",
       "    </tr>\n",
       "    <tr>\n",
       "      <th>PC6</th>\n",
       "      <td>0.025476</td>\n",
       "    </tr>\n",
       "    <tr>\n",
       "      <th>PC7</th>\n",
       "      <td>0.022721</td>\n",
       "    </tr>\n",
       "    <tr>\n",
       "      <th>PC8</th>\n",
       "      <td>0.019614</td>\n",
       "    </tr>\n",
       "    <tr>\n",
       "      <th>PC9</th>\n",
       "      <td>0.015903</td>\n",
       "    </tr>\n",
       "    <tr>\n",
       "      <th>PC10</th>\n",
       "      <td>0.011896</td>\n",
       "    </tr>\n",
       "  </tbody>\n",
       "</table>\n",
       "</div>"
      ],
      "text/plain": [
       "             0\n",
       "PC1   0.724512\n",
       "PC2   0.060314\n",
       "PC3   0.050021\n",
       "PC4   0.038654\n",
       "PC5   0.030889\n",
       "PC6   0.025476\n",
       "PC7   0.022721\n",
       "PC8   0.019614\n",
       "PC9   0.015903\n",
       "PC10  0.011896"
      ]
     },
     "execution_count": 19,
     "metadata": {},
     "output_type": "execute_result"
    }
   ],
   "source": [
    "pca = PCA()\n",
    "result = pca.fit_transform(dfs[13].iloc[:,:-1])\n",
    "df_contribution = pd.DataFrame(pca.explained_variance_ratio_, index=[\"PC{}\".format(x + 1) for x in range(len(dfs[13].iloc[:,:-1].columns))])\n",
    "df_contribution"
   ]
  },
  {
   "cell_type": "code",
   "execution_count": 20,
   "metadata": {},
   "outputs": [
    {
     "data": {
      "text/html": [
       "\n",
       "\n",
       "\n",
       "\n",
       "\n",
       "\n",
       "  <div class=\"bk-root\" id=\"54c7ca4d-a03c-4503-a33f-eddb013b9595\" data-root-id=\"3228\"></div>\n"
      ]
     },
     "metadata": {},
     "output_type": "display_data"
    },
    {
     "data": {
      "application/javascript": [
       "(function(root) {\n",
       "  function embed_document(root) {\n",
       "    \n",
       "  var docs_json = {\"e76faf63-d5ef-4f58-8d02-baf50bb9c8f5\":{\"roots\":{\"references\":[{\"attributes\":{\"below\":[{\"id\":\"3239\"}],\"center\":[{\"id\":\"3242\"},{\"id\":\"3246\"}],\"left\":[{\"id\":\"3243\"}],\"renderers\":[{\"id\":\"3264\"}],\"title\":{\"id\":\"3229\"},\"toolbar\":{\"id\":\"3254\"},\"x_range\":{\"id\":\"3231\"},\"x_scale\":{\"id\":\"3235\"},\"y_range\":{\"id\":\"3233\"},\"y_scale\":{\"id\":\"3237\"}},\"id\":\"3228\",\"subtype\":\"Figure\",\"type\":\"Plot\"},{\"attributes\":{\"text\":\"Contribution rate\"},\"id\":\"3229\",\"type\":\"Title\"},{\"attributes\":{\"active_drag\":\"auto\",\"active_inspect\":\"auto\",\"active_multi\":null,\"active_scroll\":\"auto\",\"active_tap\":\"auto\",\"tools\":[{\"id\":\"3247\"},{\"id\":\"3248\"},{\"id\":\"3249\"},{\"id\":\"3250\"},{\"id\":\"3251\"},{\"id\":\"3252\"}]},\"id\":\"3254\",\"type\":\"Toolbar\"},{\"attributes\":{},\"id\":\"3231\",\"type\":\"DataRange1d\"},{\"attributes\":{\"bottom_units\":\"screen\",\"fill_alpha\":0.5,\"fill_color\":\"lightgrey\",\"left_units\":\"screen\",\"level\":\"overlay\",\"line_alpha\":1.0,\"line_color\":\"black\",\"line_dash\":[4,4],\"line_width\":2,\"right_units\":\"screen\",\"top_units\":\"screen\"},\"id\":\"3253\",\"type\":\"BoxAnnotation\"},{\"attributes\":{},\"id\":\"3233\",\"type\":\"DataRange1d\"},{\"attributes\":{},\"id\":\"3235\",\"type\":\"LinearScale\"},{\"attributes\":{\"line_color\":\"#1f77b4\",\"line_width\":2,\"x\":{\"field\":\"x\"},\"y\":{\"field\":\"y\"}},\"id\":\"3262\",\"type\":\"Line\"},{\"attributes\":{},\"id\":\"3237\",\"type\":\"LinearScale\"},{\"attributes\":{\"data_source\":{\"id\":\"3261\"},\"glyph\":{\"id\":\"3262\"},\"hover_glyph\":null,\"muted_glyph\":null,\"nonselection_glyph\":{\"id\":\"3263\"},\"selection_glyph\":null,\"view\":{\"id\":\"3265\"}},\"id\":\"3264\",\"type\":\"GlyphRenderer\"},{\"attributes\":{\"line_alpha\":0.1,\"line_color\":\"#1f77b4\",\"line_width\":2,\"x\":{\"field\":\"x\"},\"y\":{\"field\":\"y\"}},\"id\":\"3263\",\"type\":\"Line\"},{\"attributes\":{\"axis_label\":\"PC\",\"formatter\":{\"id\":\"3407\"},\"ticker\":{\"id\":\"3240\"}},\"id\":\"3239\",\"type\":\"LinearAxis\"},{\"attributes\":{},\"id\":\"3240\",\"type\":\"BasicTicker\"},{\"attributes\":{},\"id\":\"3407\",\"type\":\"BasicTickFormatter\"},{\"attributes\":{\"axis\":{\"id\":\"3239\"},\"ticker\":null},\"id\":\"3242\",\"type\":\"Grid\"},{\"attributes\":{},\"id\":\"3411\",\"type\":\"UnionRenderers\"},{\"attributes\":{},\"id\":\"3412\",\"type\":\"Selection\"},{\"attributes\":{\"overlay\":{\"id\":\"3253\"}},\"id\":\"3249\",\"type\":\"BoxZoomTool\"},{\"attributes\":{},\"id\":\"3409\",\"type\":\"BasicTickFormatter\"},{\"attributes\":{},\"id\":\"3252\",\"type\":\"HelpTool\"},{\"attributes\":{\"axis_label\":\"Cumulative Contribution Rate\",\"formatter\":{\"id\":\"3409\"},\"ticker\":{\"id\":\"3244\"}},\"id\":\"3243\",\"type\":\"LinearAxis\"},{\"attributes\":{},\"id\":\"3244\",\"type\":\"BasicTicker\"},{\"attributes\":{\"axis\":{\"id\":\"3243\"},\"dimension\":1,\"ticker\":null},\"id\":\"3246\",\"type\":\"Grid\"},{\"attributes\":{\"source\":{\"id\":\"3261\"}},\"id\":\"3265\",\"type\":\"CDSView\"},{\"attributes\":{},\"id\":\"3248\",\"type\":\"WheelZoomTool\"},{\"attributes\":{},\"id\":\"3250\",\"type\":\"SaveTool\"},{\"attributes\":{},\"id\":\"3247\",\"type\":\"PanTool\"},{\"attributes\":{},\"id\":\"3251\",\"type\":\"ResetTool\"},{\"attributes\":{\"data\":{\"x\":[0,1,2,3,4,5,6,7,8,9,10],\"y\":[0,0.7245121818747737,0.7848263301876047,0.8348474128585636,0.8735010672582576,0.9043896568481655,0.9298659774320839,0.9525874614904647,0.9722015934225435,0.9881044356932084,1.0000000000000002]},\"selected\":{\"id\":\"3412\"},\"selection_policy\":{\"id\":\"3411\"}},\"id\":\"3261\",\"type\":\"ColumnDataSource\"}],\"root_ids\":[\"3228\"]},\"title\":\"Bokeh Application\",\"version\":\"2.2.3\"}};\n",
       "  var render_items = [{\"docid\":\"e76faf63-d5ef-4f58-8d02-baf50bb9c8f5\",\"root_ids\":[\"3228\"],\"roots\":{\"3228\":\"54c7ca4d-a03c-4503-a33f-eddb013b9595\"}}];\n",
       "  root.Bokeh.embed.embed_items_notebook(docs_json, render_items);\n",
       "\n",
       "  }\n",
       "  if (root.Bokeh !== undefined) {\n",
       "    embed_document(root);\n",
       "  } else {\n",
       "    var attempts = 0;\n",
       "    var timer = setInterval(function(root) {\n",
       "      if (root.Bokeh !== undefined) {\n",
       "        clearInterval(timer);\n",
       "        embed_document(root);\n",
       "      } else {\n",
       "        attempts++;\n",
       "        if (attempts > 100) {\n",
       "          clearInterval(timer);\n",
       "          console.log(\"Bokeh: ERROR: Unable to run BokehJS code because BokehJS library is missing\");\n",
       "        }\n",
       "      }\n",
       "    }, 10, root)\n",
       "  }\n",
       "})(window);"
      ],
      "application/vnd.bokehjs_exec.v0+json": ""
     },
     "metadata": {
      "application/vnd.bokehjs_exec.v0+json": {
       "id": "3228"
      }
     },
     "output_type": "display_data"
    }
   ],
   "source": [
    "x = [0,1,2,3,4,5,6,7,8,9,10]\n",
    "\n",
    "contribution = df_contribution.iloc[:,0].tolist()\n",
    "cumulative_contribution_rate = [0] + [sum(contribution[:i+1]) for i in range(len(contribution))]\n",
    "y = cumulative_contribution_rate\n",
    "\n",
    "p = figure(title=\"Contribution rate\", x_axis_label='PC', y_axis_label='Cumulative Contribution Rate')\n",
    "p.line(x, y, line_width=2)\n",
    "show(p)"
   ]
  },
  {
   "cell_type": "code",
   "execution_count": 21,
   "metadata": {},
   "outputs": [
    {
     "data": {
      "text/html": [
       "\n",
       "\n",
       "\n",
       "\n",
       "\n",
       "\n",
       "  <div class=\"bk-root\" id=\"18b9beec-4ab5-4d56-b357-fc319e356cdc\" data-root-id=\"3456\"></div>\n"
      ]
     },
     "metadata": {},
     "output_type": "display_data"
    },
    {
     "data": {
      "application/javascript": [
       "(function(root) {\n",
       "  function embed_document(root) {\n",
       "    \n",
       "  var docs_json = {\"20c73316-2bc3-4be2-808e-cedf0b2b8cb9\":{\"roots\":{\"references\":[{\"attributes\":{\"below\":[{\"id\":\"3465\"}],\"center\":[{\"id\":\"3468\"},{\"id\":\"3472\"}],\"left\":[{\"id\":\"3469\"}],\"plot_height\":500,\"plot_width\":550,\"renderers\":[{\"id\":\"3480\"}],\"title\":{\"id\":\"3630\"},\"toolbar\":{\"id\":\"3474\"},\"x_range\":{\"id\":\"3457\"},\"x_scale\":{\"id\":\"3461\"},\"y_range\":{\"id\":\"3459\"},\"y_scale\":{\"id\":\"3463\"}},\"id\":\"3456\",\"subtype\":\"Figure\",\"type\":\"Plot\"},{\"attributes\":{\"axis\":{\"id\":\"3469\"},\"dimension\":1,\"ticker\":null},\"id\":\"3472\",\"type\":\"Grid\"},{\"attributes\":{},\"id\":\"3473\",\"type\":\"SaveTool\"},{\"attributes\":{},\"id\":\"3466\",\"type\":\"BasicTicker\"},{\"attributes\":{\"active_drag\":\"auto\",\"active_inspect\":\"auto\",\"active_multi\":null,\"active_scroll\":\"auto\",\"active_tap\":\"auto\",\"tools\":[{\"id\":\"3455\"},{\"id\":\"3473\"}]},\"id\":\"3474\",\"type\":\"Toolbar\"},{\"attributes\":{\"text\":\"\"},\"id\":\"3630\",\"type\":\"Title\"},{\"attributes\":{\"data_source\":{\"id\":\"3454\"},\"glyph\":{\"id\":\"3478\"},\"hover_glyph\":null,\"muted_glyph\":null,\"nonselection_glyph\":{\"id\":\"3479\"},\"selection_glyph\":null,\"view\":{\"id\":\"3481\"}},\"id\":\"3480\",\"type\":\"GlyphRenderer\"},{\"attributes\":{\"callback\":null,\"tooltips\":[[\"index\",\"$index\"],[\"desc\",\"@desc\"]]},\"id\":\"3455\",\"type\":\"HoverTool\"},{\"attributes\":{},\"id\":\"3459\",\"type\":\"DataRange1d\"},{\"attributes\":{},\"id\":\"3632\",\"type\":\"BasicTickFormatter\"},{\"attributes\":{\"fill_alpha\":{\"value\":0.1},\"fill_color\":{\"value\":\"blue\"},\"line_alpha\":{\"value\":0.1},\"line_color\":{\"value\":\"blue\"},\"size\":{\"units\":\"screen\",\"value\":14},\"x\":{\"field\":\"x\"},\"y\":{\"field\":\"y\"}},\"id\":\"3479\",\"type\":\"Circle\"},{\"attributes\":{\"source\":{\"id\":\"3454\"}},\"id\":\"3481\",\"type\":\"CDSView\"},{\"attributes\":{},\"id\":\"3634\",\"type\":\"BasicTickFormatter\"},{\"attributes\":{\"formatter\":{\"id\":\"3634\"},\"ticker\":{\"id\":\"3470\"}},\"id\":\"3469\",\"type\":\"LinearAxis\"},{\"attributes\":{},\"id\":\"3636\",\"type\":\"UnionRenderers\"},{\"attributes\":{\"formatter\":{\"id\":\"3632\"},\"ticker\":{\"id\":\"3466\"}},\"id\":\"3465\",\"type\":\"LinearAxis\"},{\"attributes\":{},\"id\":\"3637\",\"type\":\"Selection\"},{\"attributes\":{\"axis\":{\"id\":\"3465\"},\"ticker\":null},\"id\":\"3468\",\"type\":\"Grid\"},{\"attributes\":{},\"id\":\"3463\",\"type\":\"LinearScale\"},{\"attributes\":{\"data\":{\"desc\":[\"TCCGCGGGAAACAG\",\"ACGTGATTCCAAAC\",\"GGGGTACTGTAGTA\",\"TCGTATTCCCATCT\",\"TAAATAACTTCGCT\",\"ACTCGACCAAAAAT\",\"CGCATTATCATTCC\",\"TAGAAGATCTATAC\",\"TCACTAACCTGTTG\",\"AGTCGACAAAAGAG\"],\"x\":{\"__ndarray__\":\"und6jZqy1b9k06BtnRfUP9pH+Kt5SNQ/8e7KFglt0z+m+ZmoLvLTP6OuYeMlItQ/kXAQ3mS41D/s0Ln1oafUP8NmnvcbstQ/yBmRvOmU0j8=\",\"dtype\":\"float64\",\"order\":\"little\",\"shape\":[10]},\"y\":{\"__ndarray__\":\"gw6IwTPRn7+rFvVjzLCyPzk9NkTHk7E/7A+Yd7vY4b/+3ujhraqsP0jLGLKUidI/jXwDGDHQ1D9tNuIW+EC1v8cKzWh1r9Q/fWPtRZCQ478=\",\"dtype\":\"float64\",\"order\":\"little\",\"shape\":[10]}},\"selected\":{\"id\":\"3637\"},\"selection_policy\":{\"id\":\"3636\"}},\"id\":\"3454\",\"type\":\"ColumnDataSource\"},{\"attributes\":{\"fill_color\":{\"value\":\"blue\"},\"line_color\":{\"value\":\"blue\"},\"size\":{\"units\":\"screen\",\"value\":14},\"x\":{\"field\":\"x\"},\"y\":{\"field\":\"y\"}},\"id\":\"3478\",\"type\":\"Circle\"},{\"attributes\":{},\"id\":\"3457\",\"type\":\"DataRange1d\"},{\"attributes\":{},\"id\":\"3470\",\"type\":\"BasicTicker\"},{\"attributes\":{},\"id\":\"3461\",\"type\":\"LinearScale\"}],\"root_ids\":[\"3456\"]},\"title\":\"Bokeh Application\",\"version\":\"2.2.3\"}};\n",
       "  var render_items = [{\"docid\":\"20c73316-2bc3-4be2-808e-cedf0b2b8cb9\",\"root_ids\":[\"3456\"],\"roots\":{\"3456\":\"18b9beec-4ab5-4d56-b357-fc319e356cdc\"}}];\n",
       "  root.Bokeh.embed.embed_items_notebook(docs_json, render_items);\n",
       "\n",
       "  }\n",
       "  if (root.Bokeh !== undefined) {\n",
       "    embed_document(root);\n",
       "  } else {\n",
       "    var attempts = 0;\n",
       "    var timer = setInterval(function(root) {\n",
       "      if (root.Bokeh !== undefined) {\n",
       "        clearInterval(timer);\n",
       "        embed_document(root);\n",
       "      } else {\n",
       "        attempts++;\n",
       "        if (attempts > 100) {\n",
       "          clearInterval(timer);\n",
       "          console.log(\"Bokeh: ERROR: Unable to run BokehJS code because BokehJS library is missing\");\n",
       "        }\n",
       "      }\n",
       "    }, 10, root)\n",
       "  }\n",
       "})(window);"
      ],
      "application/vnd.bokehjs_exec.v0+json": ""
     },
     "metadata": {
      "application/vnd.bokehjs_exec.v0+json": {
       "id": "3456"
      }
     },
     "output_type": "display_data"
    }
   ],
   "source": [
    "df_res = pd.DataFrame([pca.components_[0], pca.components_[1]]).T\n",
    "df_res.columns = [\"x\", \"y\"]\n",
    "df_res.index = dfs[13].iloc[:,:-1].columns.tolist()\n",
    "\n",
    "source = ColumnDataSource(\n",
    "    data=dict(\n",
    "        x=df_res[\"x\"],\n",
    "        y=df_res[\"y\"],\n",
    "        desc=df_res.index.tolist()\n",
    "    )\n",
    ")\n",
    "\n",
    "hover = HoverTool(\n",
    "    tooltips=[\n",
    "        (\"index\", \"$index\"),\n",
    "        (\"desc\", \"@desc\"),\n",
    "    ]\n",
    ")\n",
    "\n",
    "p = figure(tools=[hover, \"save\"], plot_width=550, plot_height=500)\n",
    "#p.xaxis.major_label_text_color = \"white\"\n",
    "#p.yaxis.major_label_text_color = \"white\"\n",
    "\n",
    "p.circle(\"x\", \"y\", fill_color=\"blue\", line_color=\"blue\", fill_alpha=1, size=14, source=source)\n",
    "\n",
    "show(p)"
   ]
  }
 ],
 "metadata": {
  "kernelspec": {
   "display_name": "Python 3",
   "language": "python",
   "name": "python3"
  },
  "language_info": {
   "codemirror_mode": {
    "name": "ipython",
    "version": 3
   },
   "file_extension": ".py",
   "mimetype": "text/x-python",
   "name": "python",
   "nbconvert_exporter": "python",
   "pygments_lexer": "ipython3",
   "version": "3.7.3"
  }
 },
 "nbformat": 4,
 "nbformat_minor": 2
}
