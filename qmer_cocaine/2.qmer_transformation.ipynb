{
 "cells": [
  {
   "cell_type": "markdown",
   "metadata": {},
   "source": [
    "## 1. Import libraries."
   ]
  },
  {
   "cell_type": "code",
   "execution_count": 1,
   "metadata": {},
   "outputs": [
    {
     "data": {
      "text/html": [
       "\n",
       "    <div class=\"bk-root\">\n",
       "        <a href=\"https://bokeh.org\" target=\"_blank\" class=\"bk-logo bk-logo-small bk-logo-notebook\"></a>\n",
       "        <span id=\"1001\">Loading BokehJS ...</span>\n",
       "    </div>"
      ]
     },
     "metadata": {},
     "output_type": "display_data"
    },
    {
     "data": {
      "application/javascript": [
       "\n",
       "(function(root) {\n",
       "  function now() {\n",
       "    return new Date();\n",
       "  }\n",
       "\n",
       "  var force = true;\n",
       "\n",
       "  if (typeof root._bokeh_onload_callbacks === \"undefined\" || force === true) {\n",
       "    root._bokeh_onload_callbacks = [];\n",
       "    root._bokeh_is_loading = undefined;\n",
       "  }\n",
       "\n",
       "  var JS_MIME_TYPE = 'application/javascript';\n",
       "  var HTML_MIME_TYPE = 'text/html';\n",
       "  var EXEC_MIME_TYPE = 'application/vnd.bokehjs_exec.v0+json';\n",
       "  var CLASS_NAME = 'output_bokeh rendered_html';\n",
       "\n",
       "  /**\n",
       "   * Render data to the DOM node\n",
       "   */\n",
       "  function render(props, node) {\n",
       "    var script = document.createElement(\"script\");\n",
       "    node.appendChild(script);\n",
       "  }\n",
       "\n",
       "  /**\n",
       "   * Handle when an output is cleared or removed\n",
       "   */\n",
       "  function handleClearOutput(event, handle) {\n",
       "    var cell = handle.cell;\n",
       "\n",
       "    var id = cell.output_area._bokeh_element_id;\n",
       "    var server_id = cell.output_area._bokeh_server_id;\n",
       "    // Clean up Bokeh references\n",
       "    if (id != null && id in Bokeh.index) {\n",
       "      Bokeh.index[id].model.document.clear();\n",
       "      delete Bokeh.index[id];\n",
       "    }\n",
       "\n",
       "    if (server_id !== undefined) {\n",
       "      // Clean up Bokeh references\n",
       "      var cmd = \"from bokeh.io.state import curstate; print(curstate().uuid_to_server['\" + server_id + \"'].get_sessions()[0].document.roots[0]._id)\";\n",
       "      cell.notebook.kernel.execute(cmd, {\n",
       "        iopub: {\n",
       "          output: function(msg) {\n",
       "            var id = msg.content.text.trim();\n",
       "            if (id in Bokeh.index) {\n",
       "              Bokeh.index[id].model.document.clear();\n",
       "              delete Bokeh.index[id];\n",
       "            }\n",
       "          }\n",
       "        }\n",
       "      });\n",
       "      // Destroy server and session\n",
       "      var cmd = \"import bokeh.io.notebook as ion; ion.destroy_server('\" + server_id + \"')\";\n",
       "      cell.notebook.kernel.execute(cmd);\n",
       "    }\n",
       "  }\n",
       "\n",
       "  /**\n",
       "   * Handle when a new output is added\n",
       "   */\n",
       "  function handleAddOutput(event, handle) {\n",
       "    var output_area = handle.output_area;\n",
       "    var output = handle.output;\n",
       "\n",
       "    // limit handleAddOutput to display_data with EXEC_MIME_TYPE content only\n",
       "    if ((output.output_type != \"display_data\") || (!output.data.hasOwnProperty(EXEC_MIME_TYPE))) {\n",
       "      return\n",
       "    }\n",
       "\n",
       "    var toinsert = output_area.element.find(\".\" + CLASS_NAME.split(' ')[0]);\n",
       "\n",
       "    if (output.metadata[EXEC_MIME_TYPE][\"id\"] !== undefined) {\n",
       "      toinsert[toinsert.length - 1].firstChild.textContent = output.data[JS_MIME_TYPE];\n",
       "      // store reference to embed id on output_area\n",
       "      output_area._bokeh_element_id = output.metadata[EXEC_MIME_TYPE][\"id\"];\n",
       "    }\n",
       "    if (output.metadata[EXEC_MIME_TYPE][\"server_id\"] !== undefined) {\n",
       "      var bk_div = document.createElement(\"div\");\n",
       "      bk_div.innerHTML = output.data[HTML_MIME_TYPE];\n",
       "      var script_attrs = bk_div.children[0].attributes;\n",
       "      for (var i = 0; i < script_attrs.length; i++) {\n",
       "        toinsert[toinsert.length - 1].firstChild.setAttribute(script_attrs[i].name, script_attrs[i].value);\n",
       "        toinsert[toinsert.length - 1].firstChild.textContent = bk_div.children[0].textContent\n",
       "      }\n",
       "      // store reference to server id on output_area\n",
       "      output_area._bokeh_server_id = output.metadata[EXEC_MIME_TYPE][\"server_id\"];\n",
       "    }\n",
       "  }\n",
       "\n",
       "  function register_renderer(events, OutputArea) {\n",
       "\n",
       "    function append_mime(data, metadata, element) {\n",
       "      // create a DOM node to render to\n",
       "      var toinsert = this.create_output_subarea(\n",
       "        metadata,\n",
       "        CLASS_NAME,\n",
       "        EXEC_MIME_TYPE\n",
       "      );\n",
       "      this.keyboard_manager.register_events(toinsert);\n",
       "      // Render to node\n",
       "      var props = {data: data, metadata: metadata[EXEC_MIME_TYPE]};\n",
       "      render(props, toinsert[toinsert.length - 1]);\n",
       "      element.append(toinsert);\n",
       "      return toinsert\n",
       "    }\n",
       "\n",
       "    /* Handle when an output is cleared or removed */\n",
       "    events.on('clear_output.CodeCell', handleClearOutput);\n",
       "    events.on('delete.Cell', handleClearOutput);\n",
       "\n",
       "    /* Handle when a new output is added */\n",
       "    events.on('output_added.OutputArea', handleAddOutput);\n",
       "\n",
       "    /**\n",
       "     * Register the mime type and append_mime function with output_area\n",
       "     */\n",
       "    OutputArea.prototype.register_mime_type(EXEC_MIME_TYPE, append_mime, {\n",
       "      /* Is output safe? */\n",
       "      safe: true,\n",
       "      /* Index of renderer in `output_area.display_order` */\n",
       "      index: 0\n",
       "    });\n",
       "  }\n",
       "\n",
       "  // register the mime type if in Jupyter Notebook environment and previously unregistered\n",
       "  if (root.Jupyter !== undefined) {\n",
       "    var events = require('base/js/events');\n",
       "    var OutputArea = require('notebook/js/outputarea').OutputArea;\n",
       "\n",
       "    if (OutputArea.prototype.mime_types().indexOf(EXEC_MIME_TYPE) == -1) {\n",
       "      register_renderer(events, OutputArea);\n",
       "    }\n",
       "  }\n",
       "\n",
       "  \n",
       "  if (typeof (root._bokeh_timeout) === \"undefined\" || force === true) {\n",
       "    root._bokeh_timeout = Date.now() + 5000;\n",
       "    root._bokeh_failed_load = false;\n",
       "  }\n",
       "\n",
       "  var NB_LOAD_WARNING = {'data': {'text/html':\n",
       "     \"<div style='background-color: #fdd'>\\n\"+\n",
       "     \"<p>\\n\"+\n",
       "     \"BokehJS does not appear to have successfully loaded. If loading BokehJS from CDN, this \\n\"+\n",
       "     \"may be due to a slow or bad network connection. Possible fixes:\\n\"+\n",
       "     \"</p>\\n\"+\n",
       "     \"<ul>\\n\"+\n",
       "     \"<li>re-rerun `output_notebook()` to attempt to load from CDN again, or</li>\\n\"+\n",
       "     \"<li>use INLINE resources instead, as so:</li>\\n\"+\n",
       "     \"</ul>\\n\"+\n",
       "     \"<code>\\n\"+\n",
       "     \"from bokeh.resources import INLINE\\n\"+\n",
       "     \"output_notebook(resources=INLINE)\\n\"+\n",
       "     \"</code>\\n\"+\n",
       "     \"</div>\"}};\n",
       "\n",
       "  function display_loaded() {\n",
       "    var el = document.getElementById(\"1001\");\n",
       "    if (el != null) {\n",
       "      el.textContent = \"BokehJS is loading...\";\n",
       "    }\n",
       "    if (root.Bokeh !== undefined) {\n",
       "      if (el != null) {\n",
       "        el.textContent = \"BokehJS \" + root.Bokeh.version + \" successfully loaded.\";\n",
       "      }\n",
       "    } else if (Date.now() < root._bokeh_timeout) {\n",
       "      setTimeout(display_loaded, 100)\n",
       "    }\n",
       "  }\n",
       "\n",
       "\n",
       "  function run_callbacks() {\n",
       "    try {\n",
       "      root._bokeh_onload_callbacks.forEach(function(callback) {\n",
       "        if (callback != null)\n",
       "          callback();\n",
       "      });\n",
       "    } finally {\n",
       "      delete root._bokeh_onload_callbacks\n",
       "    }\n",
       "    console.debug(\"Bokeh: all callbacks have finished\");\n",
       "  }\n",
       "\n",
       "  function load_libs(css_urls, js_urls, callback) {\n",
       "    if (css_urls == null) css_urls = [];\n",
       "    if (js_urls == null) js_urls = [];\n",
       "\n",
       "    root._bokeh_onload_callbacks.push(callback);\n",
       "    if (root._bokeh_is_loading > 0) {\n",
       "      console.debug(\"Bokeh: BokehJS is being loaded, scheduling callback at\", now());\n",
       "      return null;\n",
       "    }\n",
       "    if (js_urls == null || js_urls.length === 0) {\n",
       "      run_callbacks();\n",
       "      return null;\n",
       "    }\n",
       "    console.debug(\"Bokeh: BokehJS not loaded, scheduling load and callback at\", now());\n",
       "    root._bokeh_is_loading = css_urls.length + js_urls.length;\n",
       "\n",
       "    function on_load() {\n",
       "      root._bokeh_is_loading--;\n",
       "      if (root._bokeh_is_loading === 0) {\n",
       "        console.debug(\"Bokeh: all BokehJS libraries/stylesheets loaded\");\n",
       "        run_callbacks()\n",
       "      }\n",
       "    }\n",
       "\n",
       "    function on_error() {\n",
       "      console.error(\"failed to load \" + url);\n",
       "    }\n",
       "\n",
       "    for (var i = 0; i < css_urls.length; i++) {\n",
       "      var url = css_urls[i];\n",
       "      const element = document.createElement(\"link\");\n",
       "      element.onload = on_load;\n",
       "      element.onerror = on_error;\n",
       "      element.rel = \"stylesheet\";\n",
       "      element.type = \"text/css\";\n",
       "      element.href = url;\n",
       "      console.debug(\"Bokeh: injecting link tag for BokehJS stylesheet: \", url);\n",
       "      document.body.appendChild(element);\n",
       "    }\n",
       "\n",
       "    const hashes = {\"https://cdn.bokeh.org/bokeh/release/bokeh-2.2.3.min.js\": \"T2yuo9Oe71Cz/I4X9Ac5+gpEa5a8PpJCDlqKYO0CfAuEszu1JrXLl8YugMqYe3sM\", \"https://cdn.bokeh.org/bokeh/release/bokeh-widgets-2.2.3.min.js\": \"98GDGJ0kOMCUMUePhksaQ/GYgB3+NH9h996V88sh3aOiUNX3N+fLXAtry6xctSZ6\", \"https://cdn.bokeh.org/bokeh/release/bokeh-tables-2.2.3.min.js\": \"89bArO+nlbP3sgakeHjCo1JYxYR5wufVgA3IbUvDY+K7w4zyxJqssu7wVnfeKCq8\"};\n",
       "\n",
       "    for (var i = 0; i < js_urls.length; i++) {\n",
       "      var url = js_urls[i];\n",
       "      var element = document.createElement('script');\n",
       "      element.onload = on_load;\n",
       "      element.onerror = on_error;\n",
       "      element.async = false;\n",
       "      element.src = url;\n",
       "      if (url in hashes) {\n",
       "        element.crossOrigin = \"anonymous\";\n",
       "        element.integrity = \"sha384-\" + hashes[url];\n",
       "      }\n",
       "      console.debug(\"Bokeh: injecting script tag for BokehJS library: \", url);\n",
       "      document.head.appendChild(element);\n",
       "    }\n",
       "  };\n",
       "\n",
       "  function inject_raw_css(css) {\n",
       "    const element = document.createElement(\"style\");\n",
       "    element.appendChild(document.createTextNode(css));\n",
       "    document.body.appendChild(element);\n",
       "  }\n",
       "\n",
       "  \n",
       "  var js_urls = [\"https://cdn.bokeh.org/bokeh/release/bokeh-2.2.3.min.js\", \"https://cdn.bokeh.org/bokeh/release/bokeh-widgets-2.2.3.min.js\", \"https://cdn.bokeh.org/bokeh/release/bokeh-tables-2.2.3.min.js\"];\n",
       "  var css_urls = [];\n",
       "  \n",
       "\n",
       "  var inline_js = [\n",
       "    function(Bokeh) {\n",
       "      Bokeh.set_log_level(\"info\");\n",
       "    },\n",
       "    function(Bokeh) {\n",
       "    \n",
       "    \n",
       "    }\n",
       "  ];\n",
       "\n",
       "  function run_inline_js() {\n",
       "    \n",
       "    if (root.Bokeh !== undefined || force === true) {\n",
       "      \n",
       "    for (var i = 0; i < inline_js.length; i++) {\n",
       "      inline_js[i].call(root, root.Bokeh);\n",
       "    }\n",
       "    if (force === true) {\n",
       "        display_loaded();\n",
       "      }} else if (Date.now() < root._bokeh_timeout) {\n",
       "      setTimeout(run_inline_js, 100);\n",
       "    } else if (!root._bokeh_failed_load) {\n",
       "      console.log(\"Bokeh: BokehJS failed to load within specified timeout.\");\n",
       "      root._bokeh_failed_load = true;\n",
       "    } else if (force !== true) {\n",
       "      var cell = $(document.getElementById(\"1001\")).parents('.cell').data().cell;\n",
       "      cell.output_area.append_execute_result(NB_LOAD_WARNING)\n",
       "    }\n",
       "\n",
       "  }\n",
       "\n",
       "  if (root._bokeh_is_loading === 0) {\n",
       "    console.debug(\"Bokeh: BokehJS loaded, going straight to plotting\");\n",
       "    run_inline_js();\n",
       "  } else {\n",
       "    load_libs(css_urls, js_urls, function() {\n",
       "      console.debug(\"Bokeh: BokehJS plotting callback run at\", now());\n",
       "      run_inline_js();\n",
       "    });\n",
       "  }\n",
       "}(window));"
      ],
      "application/vnd.bokehjs_load.v0+json": "\n(function(root) {\n  function now() {\n    return new Date();\n  }\n\n  var force = true;\n\n  if (typeof root._bokeh_onload_callbacks === \"undefined\" || force === true) {\n    root._bokeh_onload_callbacks = [];\n    root._bokeh_is_loading = undefined;\n  }\n\n  \n\n  \n  if (typeof (root._bokeh_timeout) === \"undefined\" || force === true) {\n    root._bokeh_timeout = Date.now() + 5000;\n    root._bokeh_failed_load = false;\n  }\n\n  var NB_LOAD_WARNING = {'data': {'text/html':\n     \"<div style='background-color: #fdd'>\\n\"+\n     \"<p>\\n\"+\n     \"BokehJS does not appear to have successfully loaded. If loading BokehJS from CDN, this \\n\"+\n     \"may be due to a slow or bad network connection. Possible fixes:\\n\"+\n     \"</p>\\n\"+\n     \"<ul>\\n\"+\n     \"<li>re-rerun `output_notebook()` to attempt to load from CDN again, or</li>\\n\"+\n     \"<li>use INLINE resources instead, as so:</li>\\n\"+\n     \"</ul>\\n\"+\n     \"<code>\\n\"+\n     \"from bokeh.resources import INLINE\\n\"+\n     \"output_notebook(resources=INLINE)\\n\"+\n     \"</code>\\n\"+\n     \"</div>\"}};\n\n  function display_loaded() {\n    var el = document.getElementById(\"1001\");\n    if (el != null) {\n      el.textContent = \"BokehJS is loading...\";\n    }\n    if (root.Bokeh !== undefined) {\n      if (el != null) {\n        el.textContent = \"BokehJS \" + root.Bokeh.version + \" successfully loaded.\";\n      }\n    } else if (Date.now() < root._bokeh_timeout) {\n      setTimeout(display_loaded, 100)\n    }\n  }\n\n\n  function run_callbacks() {\n    try {\n      root._bokeh_onload_callbacks.forEach(function(callback) {\n        if (callback != null)\n          callback();\n      });\n    } finally {\n      delete root._bokeh_onload_callbacks\n    }\n    console.debug(\"Bokeh: all callbacks have finished\");\n  }\n\n  function load_libs(css_urls, js_urls, callback) {\n    if (css_urls == null) css_urls = [];\n    if (js_urls == null) js_urls = [];\n\n    root._bokeh_onload_callbacks.push(callback);\n    if (root._bokeh_is_loading > 0) {\n      console.debug(\"Bokeh: BokehJS is being loaded, scheduling callback at\", now());\n      return null;\n    }\n    if (js_urls == null || js_urls.length === 0) {\n      run_callbacks();\n      return null;\n    }\n    console.debug(\"Bokeh: BokehJS not loaded, scheduling load and callback at\", now());\n    root._bokeh_is_loading = css_urls.length + js_urls.length;\n\n    function on_load() {\n      root._bokeh_is_loading--;\n      if (root._bokeh_is_loading === 0) {\n        console.debug(\"Bokeh: all BokehJS libraries/stylesheets loaded\");\n        run_callbacks()\n      }\n    }\n\n    function on_error() {\n      console.error(\"failed to load \" + url);\n    }\n\n    for (var i = 0; i < css_urls.length; i++) {\n      var url = css_urls[i];\n      const element = document.createElement(\"link\");\n      element.onload = on_load;\n      element.onerror = on_error;\n      element.rel = \"stylesheet\";\n      element.type = \"text/css\";\n      element.href = url;\n      console.debug(\"Bokeh: injecting link tag for BokehJS stylesheet: \", url);\n      document.body.appendChild(element);\n    }\n\n    const hashes = {\"https://cdn.bokeh.org/bokeh/release/bokeh-2.2.3.min.js\": \"T2yuo9Oe71Cz/I4X9Ac5+gpEa5a8PpJCDlqKYO0CfAuEszu1JrXLl8YugMqYe3sM\", \"https://cdn.bokeh.org/bokeh/release/bokeh-widgets-2.2.3.min.js\": \"98GDGJ0kOMCUMUePhksaQ/GYgB3+NH9h996V88sh3aOiUNX3N+fLXAtry6xctSZ6\", \"https://cdn.bokeh.org/bokeh/release/bokeh-tables-2.2.3.min.js\": \"89bArO+nlbP3sgakeHjCo1JYxYR5wufVgA3IbUvDY+K7w4zyxJqssu7wVnfeKCq8\"};\n\n    for (var i = 0; i < js_urls.length; i++) {\n      var url = js_urls[i];\n      var element = document.createElement('script');\n      element.onload = on_load;\n      element.onerror = on_error;\n      element.async = false;\n      element.src = url;\n      if (url in hashes) {\n        element.crossOrigin = \"anonymous\";\n        element.integrity = \"sha384-\" + hashes[url];\n      }\n      console.debug(\"Bokeh: injecting script tag for BokehJS library: \", url);\n      document.head.appendChild(element);\n    }\n  };\n\n  function inject_raw_css(css) {\n    const element = document.createElement(\"style\");\n    element.appendChild(document.createTextNode(css));\n    document.body.appendChild(element);\n  }\n\n  \n  var js_urls = [\"https://cdn.bokeh.org/bokeh/release/bokeh-2.2.3.min.js\", \"https://cdn.bokeh.org/bokeh/release/bokeh-widgets-2.2.3.min.js\", \"https://cdn.bokeh.org/bokeh/release/bokeh-tables-2.2.3.min.js\"];\n  var css_urls = [];\n  \n\n  var inline_js = [\n    function(Bokeh) {\n      Bokeh.set_log_level(\"info\");\n    },\n    function(Bokeh) {\n    \n    \n    }\n  ];\n\n  function run_inline_js() {\n    \n    if (root.Bokeh !== undefined || force === true) {\n      \n    for (var i = 0; i < inline_js.length; i++) {\n      inline_js[i].call(root, root.Bokeh);\n    }\n    if (force === true) {\n        display_loaded();\n      }} else if (Date.now() < root._bokeh_timeout) {\n      setTimeout(run_inline_js, 100);\n    } else if (!root._bokeh_failed_load) {\n      console.log(\"Bokeh: BokehJS failed to load within specified timeout.\");\n      root._bokeh_failed_load = true;\n    } else if (force !== true) {\n      var cell = $(document.getElementById(\"1001\")).parents('.cell').data().cell;\n      cell.output_area.append_execute_result(NB_LOAD_WARNING)\n    }\n\n  }\n\n  if (root._bokeh_is_loading === 0) {\n    console.debug(\"Bokeh: BokehJS loaded, going straight to plotting\");\n    run_inline_js();\n  } else {\n    load_libs(css_urls, js_urls, function() {\n      console.debug(\"Bokeh: BokehJS plotting callback run at\", now());\n      run_inline_js();\n    });\n  }\n}(window));"
     },
     "metadata": {},
     "output_type": "display_data"
    }
   ],
   "source": [
    "import pandas as pd\n",
    "import numpy as np\n",
    "import matplotlib.pyplot as plt\n",
    "from sklearn.decomposition import PCA\n",
    "from scipy.sparse.csgraph import connected_components\n",
    "from bokeh.plotting import figure, show, ColumnDataSource\n",
    "from bokeh.models import HoverTool\n",
    "from bokeh.io import output_notebook\n",
    "output_notebook()"
   ]
  },
  {
   "cell_type": "markdown",
   "metadata": {},
   "source": [
    "## 2. Load matrices."
   ]
  },
  {
   "cell_type": "code",
   "execution_count": 2,
   "metadata": {},
   "outputs": [],
   "source": [
    "dfs = [pd.read_csv(\"05_matrix/\"+str(i+1)+\".csv\", index_col=0, header=0).T for i in range(14)]"
   ]
  },
  {
   "cell_type": "markdown",
   "metadata": {},
   "source": [
    "## 3. Add meta info."
   ]
  },
  {
   "cell_type": "code",
   "execution_count": 3,
   "metadata": {},
   "outputs": [],
   "source": [
    "control = pd.read_csv(\"src/control.csv\", header=None).T.values.tolist()[0]\n",
    "cocaine = pd.read_csv(\"src/cocaine.csv\", header=None).T.values.tolist()[0]\n",
    "\n",
    "for df in dfs:\n",
    "    y = [0 if i in control else 1 for i in list(df.index)]\n",
    "    df[\"y\"] = y"
   ]
  },
  {
   "cell_type": "markdown",
   "metadata": {},
   "source": [
    "## 4. PCA."
   ]
  },
  {
   "cell_type": "code",
   "execution_count": 4,
   "metadata": {},
   "outputs": [],
   "source": [
    "def draw_PCA(df):\n",
    "    pca = PCA(n_components=2)\n",
    "    result = pca.fit_transform(df.iloc[:,:-1])\n",
    "\n",
    "    df_res = pd.DataFrame(result)\n",
    "    df_res.columns = [\"x\", \"y\"]\n",
    "    df_res.index = df.index\n",
    "    df_res[\"meta\"] = df[\"y\"].tolist()\n",
    "    \n",
    "    df_res_0 = df_res[df_res[\"meta\"]==0]\n",
    "    df_res_1 = df_res[df_res[\"meta\"]==1]\n",
    "    \n",
    "    source1 = ColumnDataSource(\n",
    "        data=dict(\n",
    "            x=df_res_0[\"x\"],\n",
    "            y=df_res_0[\"y\"],\n",
    "            desc=df_res_0.index.tolist()\n",
    "        )\n",
    "    )\n",
    "\n",
    "    source2 = ColumnDataSource(\n",
    "        data=dict(\n",
    "            x=df_res_1[\"x\"],\n",
    "            y=df_res_1[\"y\"],\n",
    "            desc=df_res_1.index.tolist()\n",
    "        )\n",
    "    )\n",
    "    \n",
    "    hover = HoverTool(\n",
    "        tooltips=[\n",
    "            (\"index\", \"$index\"),\n",
    "            (\"desc\", \"@desc\"),\n",
    "        ]\n",
    "    )\n",
    "\n",
    "    p = figure(tools=[hover, \"save\"], plot_width=550, plot_height=500)\n",
    "    p.xaxis.major_label_text_color = \"white\"\n",
    "    p.yaxis.major_label_text_color = \"white\"\n",
    "    #p.xaxis.axis_label = 'PC1'\n",
    "    #p.yaxis.axis_label = 'PC2'\n",
    "\n",
    "    p.circle(\"x\", \"y\", fill_color=\"black\", line_color=\"black\", fill_alpha=1, size=14, source=source1)\n",
    "    p.triangle(\"x\", \"y\", fill_color=\"red\", line_color=\"red\", fill_alpha=1, size=16, source=source2)\n",
    "    \n",
    "    show(p)"
   ]
  },
  {
   "cell_type": "code",
   "execution_count": 5,
   "metadata": {},
   "outputs": [
    {
     "data": {
      "text/html": [
       "\n",
       "\n",
       "\n",
       "\n",
       "\n",
       "\n",
       "  <div class=\"bk-root\" id=\"46363121-03bc-4db4-b416-a035116df4c8\" data-root-id=\"1005\"></div>\n"
      ]
     },
     "metadata": {},
     "output_type": "display_data"
    },
    {
     "data": {
      "application/javascript": [
       "(function(root) {\n",
       "  function embed_document(root) {\n",
       "    \n",
       "  var docs_json = {\"649fcd62-50ef-4bdf-b543-ee9ede4308a8\":{\"roots\":{\"references\":[{\"attributes\":{\"below\":[{\"id\":\"1014\"}],\"center\":[{\"id\":\"1017\"},{\"id\":\"1021\"}],\"left\":[{\"id\":\"1018\"}],\"plot_height\":500,\"plot_width\":550,\"renderers\":[{\"id\":\"1029\"},{\"id\":\"1034\"}],\"title\":{\"id\":\"1036\"},\"toolbar\":{\"id\":\"1023\"},\"x_range\":{\"id\":\"1006\"},\"x_scale\":{\"id\":\"1010\"},\"y_range\":{\"id\":\"1008\"},\"y_scale\":{\"id\":\"1012\"}},\"id\":\"1005\",\"subtype\":\"Figure\",\"type\":\"Plot\"},{\"attributes\":{\"source\":{\"id\":\"1003\"}},\"id\":\"1035\",\"type\":\"CDSView\"},{\"attributes\":{\"fill_color\":{\"value\":\"black\"},\"size\":{\"units\":\"screen\",\"value\":14},\"x\":{\"field\":\"x\"},\"y\":{\"field\":\"y\"}},\"id\":\"1027\",\"type\":\"Circle\"},{\"attributes\":{\"fill_color\":{\"value\":\"red\"},\"line_color\":{\"value\":\"red\"},\"size\":{\"units\":\"screen\",\"value\":16},\"x\":{\"field\":\"x\"},\"y\":{\"field\":\"y\"}},\"id\":\"1032\",\"type\":\"Triangle\"},{\"attributes\":{\"fill_alpha\":{\"value\":0.1},\"fill_color\":{\"value\":\"red\"},\"line_alpha\":{\"value\":0.1},\"line_color\":{\"value\":\"red\"},\"size\":{\"units\":\"screen\",\"value\":16},\"x\":{\"field\":\"x\"},\"y\":{\"field\":\"y\"}},\"id\":\"1033\",\"type\":\"Triangle\"},{\"attributes\":{\"data\":{\"desc\":[\"SRR5616889\",\"SRR5616890\",\"SRR5616891\",\"SRR5616892\",\"SRR5616893\",\"SRR5616894\",\"SRR5616895\",\"SRR5616896\",\"SRR5616897\",\"SRR5616898\",\"SRR5616899\",\"SRR5616900\",\"SRR5616901\",\"SRR5616902\",\"SRR5616903\",\"SRR5616904\",\"SRR5616905\"],\"x\":{\"__ndarray__\":\"51rLgCg8YL+eXfYKAmNovyOiq16kIXQ/5VpH0rosez+k7z59DaWTP20fxoPgo6G/aSKZ/LKhab+oYs3X829xvw+wdndpn4g/Y6IXfeO8kb+a8ajKlx6fv6g6cnheXIM/ZKiCOmrJpL9yJyfAo/OCvxpuVpt1toO/B2DY8B86e79YH3jiBrKbvw==\",\"dtype\":\"float64\",\"order\":\"little\",\"shape\":[17]},\"y\":{\"__ndarray__\":\"9Ns5OXpVbz//m50jEe5cv5GWUGA5g12/0P3pbSDXRL8ggAV67LpvP5M8hy1SEDC/cZtEmG6lZr/kdkrICtlhP1OfLkFTwCo/1BD7X4iqND/EMRCBzPNOP6WzmCIsD2A/UuPtV9TgS7+/WBXmhoBqP52jgFJ7jVi/Rv8VLyy+Pz+zVANBoS9KPw==\",\"dtype\":\"float64\",\"order\":\"little\",\"shape\":[17]}},\"selected\":{\"id\":\"1043\"},\"selection_policy\":{\"id\":\"1042\"}},\"id\":\"1002\",\"type\":\"ColumnDataSource\"},{\"attributes\":{\"data_source\":{\"id\":\"1003\"},\"glyph\":{\"id\":\"1032\"},\"hover_glyph\":null,\"muted_glyph\":null,\"nonselection_glyph\":{\"id\":\"1033\"},\"selection_glyph\":null,\"view\":{\"id\":\"1035\"}},\"id\":\"1034\",\"type\":\"GlyphRenderer\"},{\"attributes\":{\"text\":\"\"},\"id\":\"1036\",\"type\":\"Title\"},{\"attributes\":{},\"id\":\"1008\",\"type\":\"DataRange1d\"},{\"attributes\":{},\"id\":\"1010\",\"type\":\"LinearScale\"},{\"attributes\":{},\"id\":\"1015\",\"type\":\"BasicTicker\"},{\"attributes\":{},\"id\":\"1038\",\"type\":\"BasicTickFormatter\"},{\"attributes\":{},\"id\":\"1012\",\"type\":\"LinearScale\"},{\"attributes\":{},\"id\":\"1040\",\"type\":\"BasicTickFormatter\"},{\"attributes\":{\"formatter\":{\"id\":\"1038\"},\"major_label_text_color\":\"white\",\"ticker\":{\"id\":\"1015\"}},\"id\":\"1014\",\"type\":\"LinearAxis\"},{\"attributes\":{},\"id\":\"1042\",\"type\":\"UnionRenderers\"},{\"attributes\":{},\"id\":\"1043\",\"type\":\"Selection\"},{\"attributes\":{\"axis\":{\"id\":\"1014\"},\"ticker\":null},\"id\":\"1017\",\"type\":\"Grid\"},{\"attributes\":{\"callback\":null,\"tooltips\":[[\"index\",\"$index\"],[\"desc\",\"@desc\"]]},\"id\":\"1004\",\"type\":\"HoverTool\"},{\"attributes\":{\"formatter\":{\"id\":\"1040\"},\"major_label_text_color\":\"white\",\"ticker\":{\"id\":\"1019\"}},\"id\":\"1018\",\"type\":\"LinearAxis\"},{\"attributes\":{\"data\":{\"desc\":[\"SRR5616906\",\"SRR5616907\",\"SRR5616908\",\"SRR5616909\",\"SRR5616910\",\"SRR5616911\",\"SRR5616912\",\"SRR5616913\",\"SRR5616914\",\"SRR5616915\",\"SRR5616916\",\"SRR5616917\",\"SRR5616918\",\"SRR5616919\",\"SRR5616920\",\"SRR5616921\",\"SRR5616922\",\"SRR5616923\",\"SRR5616924\"],\"x\":{\"__ndarray__\":\"VroR4Tuyhr/xkPCTzOaQP4kdNomKL5I/zFEm2K0plT/uE18I41mXv35ofgi7HqI/eDYDfU2KhL8Kzl2ICh+kP/GCKvTY74C/ZUsZMfkQob//B/I0KZyCvyJXUIqCMpg/KKINDXiegz9OIXzNqAR3P+vEbA6DeKU/GrIgcB3mmj+yZOXR3oaAv2Zpc5t2Ooa/BFndZcpIiT8=\",\"dtype\":\"float64\",\"order\":\"little\",\"shape\":[19]},\"y\":{\"__ndarray__\":\"gQDJ9EJPVb+Isr+H9xNmPyAllwhCnGg/cU0dJ/h+WL8V251GO1Q9v30aLysZ+Ty/qCUMILCaQT9T8KAAkjE/P8Zy027RG1G/AN5SmQ6lT78g6rmswmY6Pw5lvmVOfk6/fLldxhMxXL9J8cqx/ApSP9EVmBciZFi/1s3NFo4sZ7/pBbUuzHxWv241YQAGpkO/BmrGLDEeXr8=\",\"dtype\":\"float64\",\"order\":\"little\",\"shape\":[19]}},\"selected\":{\"id\":\"1045\"},\"selection_policy\":{\"id\":\"1044\"}},\"id\":\"1003\",\"type\":\"ColumnDataSource\"},{\"attributes\":{},\"id\":\"1044\",\"type\":\"UnionRenderers\"},{\"attributes\":{},\"id\":\"1045\",\"type\":\"Selection\"},{\"attributes\":{},\"id\":\"1019\",\"type\":\"BasicTicker\"},{\"attributes\":{\"fill_alpha\":{\"value\":0.1},\"fill_color\":{\"value\":\"black\"},\"line_alpha\":{\"value\":0.1},\"size\":{\"units\":\"screen\",\"value\":14},\"x\":{\"field\":\"x\"},\"y\":{\"field\":\"y\"}},\"id\":\"1028\",\"type\":\"Circle\"},{\"attributes\":{\"axis\":{\"id\":\"1018\"},\"dimension\":1,\"ticker\":null},\"id\":\"1021\",\"type\":\"Grid\"},{\"attributes\":{},\"id\":\"1022\",\"type\":\"SaveTool\"},{\"attributes\":{\"active_drag\":\"auto\",\"active_inspect\":\"auto\",\"active_multi\":null,\"active_scroll\":\"auto\",\"active_tap\":\"auto\",\"tools\":[{\"id\":\"1004\"},{\"id\":\"1022\"}]},\"id\":\"1023\",\"type\":\"Toolbar\"},{\"attributes\":{\"source\":{\"id\":\"1002\"}},\"id\":\"1030\",\"type\":\"CDSView\"},{\"attributes\":{\"data_source\":{\"id\":\"1002\"},\"glyph\":{\"id\":\"1027\"},\"hover_glyph\":null,\"muted_glyph\":null,\"nonselection_glyph\":{\"id\":\"1028\"},\"selection_glyph\":null,\"view\":{\"id\":\"1030\"}},\"id\":\"1029\",\"type\":\"GlyphRenderer\"},{\"attributes\":{},\"id\":\"1006\",\"type\":\"DataRange1d\"}],\"root_ids\":[\"1005\"]},\"title\":\"Bokeh Application\",\"version\":\"2.2.3\"}};\n",
       "  var render_items = [{\"docid\":\"649fcd62-50ef-4bdf-b543-ee9ede4308a8\",\"root_ids\":[\"1005\"],\"roots\":{\"1005\":\"46363121-03bc-4db4-b416-a035116df4c8\"}}];\n",
       "  root.Bokeh.embed.embed_items_notebook(docs_json, render_items);\n",
       "\n",
       "  }\n",
       "  if (root.Bokeh !== undefined) {\n",
       "    embed_document(root);\n",
       "  } else {\n",
       "    var attempts = 0;\n",
       "    var timer = setInterval(function(root) {\n",
       "      if (root.Bokeh !== undefined) {\n",
       "        clearInterval(timer);\n",
       "        embed_document(root);\n",
       "      } else {\n",
       "        attempts++;\n",
       "        if (attempts > 100) {\n",
       "          clearInterval(timer);\n",
       "          console.log(\"Bokeh: ERROR: Unable to run BokehJS code because BokehJS library is missing\");\n",
       "        }\n",
       "      }\n",
       "    }, 10, root)\n",
       "  }\n",
       "})(window);"
      ],
      "application/vnd.bokehjs_exec.v0+json": ""
     },
     "metadata": {
      "application/vnd.bokehjs_exec.v0+json": {
       "id": "1005"
      }
     },
     "output_type": "display_data"
    }
   ],
   "source": [
    "# q = 1\n",
    "draw_PCA(dfs[0])"
   ]
  },
  {
   "cell_type": "code",
   "execution_count": 6,
   "metadata": {},
   "outputs": [
    {
     "data": {
      "text/html": [
       "\n",
       "\n",
       "\n",
       "\n",
       "\n",
       "\n",
       "  <div class=\"bk-root\" id=\"48d8c423-105b-4786-bef1-51bcc920c763\" data-root-id=\"1099\"></div>\n"
      ]
     },
     "metadata": {},
     "output_type": "display_data"
    },
    {
     "data": {
      "application/javascript": [
       "(function(root) {\n",
       "  function embed_document(root) {\n",
       "    \n",
       "  var docs_json = {\"ea28e638-780f-48c0-9f7c-0e50a481d8a6\":{\"roots\":{\"references\":[{\"attributes\":{\"below\":[{\"id\":\"1108\"}],\"center\":[{\"id\":\"1111\"},{\"id\":\"1115\"}],\"left\":[{\"id\":\"1112\"}],\"plot_height\":500,\"plot_width\":550,\"renderers\":[{\"id\":\"1123\"},{\"id\":\"1128\"}],\"title\":{\"id\":\"1140\"},\"toolbar\":{\"id\":\"1117\"},\"x_range\":{\"id\":\"1100\"},\"x_scale\":{\"id\":\"1104\"},\"y_range\":{\"id\":\"1102\"},\"y_scale\":{\"id\":\"1106\"}},\"id\":\"1099\",\"subtype\":\"Figure\",\"type\":\"Plot\"},{\"attributes\":{\"data\":{\"desc\":[\"SRR5616889\",\"SRR5616890\",\"SRR5616891\",\"SRR5616892\",\"SRR5616893\",\"SRR5616894\",\"SRR5616895\",\"SRR5616896\",\"SRR5616897\",\"SRR5616898\",\"SRR5616899\",\"SRR5616900\",\"SRR5616901\",\"SRR5616902\",\"SRR5616903\",\"SRR5616904\",\"SRR5616905\"],\"x\":{\"__ndarray__\":\"Lio4uCligL+o/bdHRUNkv/r/pZ6aTXQ/U1+u+v74fz/vsCwIcuCOP+eFyMvoxp6/bQgsoSvcEb+yd9oUl716v4N7BAeRtoQ/Zlpc99/Gkb9p7RhsL0+ev3SmqDartYM/Fn22Rcwzor+Hsm1VE0yMvxogpQx3doG/qMSycL/jcb9a0+ie/emcvw==\",\"dtype\":\"float64\",\"order\":\"little\",\"shape\":[17]},\"y\":{\"__ndarray__\":\"ka/GYhVobj8ogqiyXMpAvwSoyPto0ES/Nn5hQn98Q78SL32FjzljP5Xyt+OsO2G/zVOuD8V0Xb831Vl+2WBXP/619e7/4kw/gcHZWmPbMj94PKzIL3oiv5FIXGzbYjA/IfzObBpHZb9YIisOWJhnPxklkXDR9D+/dsLkua7sUL/uGzvGWWlPPw==\",\"dtype\":\"float64\",\"order\":\"little\",\"shape\":[17]}},\"selected\":{\"id\":\"1147\"},\"selection_policy\":{\"id\":\"1146\"}},\"id\":\"1096\",\"type\":\"ColumnDataSource\"},{\"attributes\":{},\"id\":\"1148\",\"type\":\"UnionRenderers\"},{\"attributes\":{\"callback\":null,\"tooltips\":[[\"index\",\"$index\"],[\"desc\",\"@desc\"]]},\"id\":\"1098\",\"type\":\"HoverTool\"},{\"attributes\":{},\"id\":\"1116\",\"type\":\"SaveTool\"},{\"attributes\":{\"data\":{\"desc\":[\"SRR5616906\",\"SRR5616907\",\"SRR5616908\",\"SRR5616909\",\"SRR5616910\",\"SRR5616911\",\"SRR5616912\",\"SRR5616913\",\"SRR5616914\",\"SRR5616915\",\"SRR5616916\",\"SRR5616917\",\"SRR5616918\",\"SRR5616919\",\"SRR5616920\",\"SRR5616921\",\"SRR5616922\",\"SRR5616923\",\"SRR5616924\"],\"x\":{\"__ndarray__\":\"++ckaW32hr8dCc53bzGKPyJ9Hfb+CYQ/RuLSoOKclD93oAOZW0aVv+IvJSBNt6I/u2k1L0Vgh7/S+Ue/STKkPxWNUkiyUXe/YzmoSJJbn78/yps2xeCDv/GoaaAUjpo/leRjEQXVhz9sIZA+THBgP9j3PW9WzqY//7Std6NumT8g194YS5h0v8fpMPPSG4W/fBeIob7jjD8=\",\"dtype\":\"float64\",\"order\":\"little\",\"shape\":[19]},\"y\":{\"__ndarray__\":\"R0SqkvEBGT+WItEv/LFhP6z1zC+finI/HBM/BX1YEz8qDRrFrhVRvwb5fGsbtli/etAWf1YkTz8JLSiD9hM/vxIdiD+RfFS/6mmMcCPEVb+p+yF0oCBCP5Cf888sLVa/ChECN5uKVr/FgowqNMZiP4avZGZaZGG/JJ4s7CfKJr+03fu2sQdcv+oXgfOyeyK/2IQ9LgqMUL8=\",\"dtype\":\"float64\",\"order\":\"little\",\"shape\":[19]}},\"selected\":{\"id\":\"1149\"},\"selection_policy\":{\"id\":\"1148\"}},\"id\":\"1097\",\"type\":\"ColumnDataSource\"},{\"attributes\":{},\"id\":\"1104\",\"type\":\"LinearScale\"},{\"attributes\":{},\"id\":\"1144\",\"type\":\"BasicTickFormatter\"},{\"attributes\":{},\"id\":\"1113\",\"type\":\"BasicTicker\"},{\"attributes\":{},\"id\":\"1102\",\"type\":\"DataRange1d\"},{\"attributes\":{\"axis\":{\"id\":\"1112\"},\"dimension\":1,\"ticker\":null},\"id\":\"1115\",\"type\":\"Grid\"},{\"attributes\":{},\"id\":\"1146\",\"type\":\"UnionRenderers\"},{\"attributes\":{},\"id\":\"1109\",\"type\":\"BasicTicker\"},{\"attributes\":{},\"id\":\"1100\",\"type\":\"DataRange1d\"},{\"attributes\":{\"active_drag\":\"auto\",\"active_inspect\":\"auto\",\"active_multi\":null,\"active_scroll\":\"auto\",\"active_tap\":\"auto\",\"tools\":[{\"id\":\"1098\"},{\"id\":\"1116\"}]},\"id\":\"1117\",\"type\":\"Toolbar\"},{\"attributes\":{\"formatter\":{\"id\":\"1142\"},\"major_label_text_color\":\"white\",\"ticker\":{\"id\":\"1109\"}},\"id\":\"1108\",\"type\":\"LinearAxis\"},{\"attributes\":{},\"id\":\"1106\",\"type\":\"LinearScale\"},{\"attributes\":{\"fill_color\":{\"value\":\"black\"},\"size\":{\"units\":\"screen\",\"value\":14},\"x\":{\"field\":\"x\"},\"y\":{\"field\":\"y\"}},\"id\":\"1121\",\"type\":\"Circle\"},{\"attributes\":{\"formatter\":{\"id\":\"1144\"},\"major_label_text_color\":\"white\",\"ticker\":{\"id\":\"1113\"}},\"id\":\"1112\",\"type\":\"LinearAxis\"},{\"attributes\":{\"fill_alpha\":{\"value\":0.1},\"fill_color\":{\"value\":\"black\"},\"line_alpha\":{\"value\":0.1},\"size\":{\"units\":\"screen\",\"value\":14},\"x\":{\"field\":\"x\"},\"y\":{\"field\":\"y\"}},\"id\":\"1122\",\"type\":\"Circle\"},{\"attributes\":{},\"id\":\"1149\",\"type\":\"Selection\"},{\"attributes\":{\"axis\":{\"id\":\"1108\"},\"ticker\":null},\"id\":\"1111\",\"type\":\"Grid\"},{\"attributes\":{\"data_source\":{\"id\":\"1096\"},\"glyph\":{\"id\":\"1121\"},\"hover_glyph\":null,\"muted_glyph\":null,\"nonselection_glyph\":{\"id\":\"1122\"},\"selection_glyph\":null,\"view\":{\"id\":\"1124\"}},\"id\":\"1123\",\"type\":\"GlyphRenderer\"},{\"attributes\":{\"source\":{\"id\":\"1096\"}},\"id\":\"1124\",\"type\":\"CDSView\"},{\"attributes\":{\"data_source\":{\"id\":\"1097\"},\"glyph\":{\"id\":\"1126\"},\"hover_glyph\":null,\"muted_glyph\":null,\"nonselection_glyph\":{\"id\":\"1127\"},\"selection_glyph\":null,\"view\":{\"id\":\"1129\"}},\"id\":\"1128\",\"type\":\"GlyphRenderer\"},{\"attributes\":{},\"id\":\"1142\",\"type\":\"BasicTickFormatter\"},{\"attributes\":{\"fill_color\":{\"value\":\"red\"},\"line_color\":{\"value\":\"red\"},\"size\":{\"units\":\"screen\",\"value\":16},\"x\":{\"field\":\"x\"},\"y\":{\"field\":\"y\"}},\"id\":\"1126\",\"type\":\"Triangle\"},{\"attributes\":{\"fill_alpha\":{\"value\":0.1},\"fill_color\":{\"value\":\"red\"},\"line_alpha\":{\"value\":0.1},\"line_color\":{\"value\":\"red\"},\"size\":{\"units\":\"screen\",\"value\":16},\"x\":{\"field\":\"x\"},\"y\":{\"field\":\"y\"}},\"id\":\"1127\",\"type\":\"Triangle\"},{\"attributes\":{\"source\":{\"id\":\"1097\"}},\"id\":\"1129\",\"type\":\"CDSView\"},{\"attributes\":{\"text\":\"\"},\"id\":\"1140\",\"type\":\"Title\"},{\"attributes\":{},\"id\":\"1147\",\"type\":\"Selection\"}],\"root_ids\":[\"1099\"]},\"title\":\"Bokeh Application\",\"version\":\"2.2.3\"}};\n",
       "  var render_items = [{\"docid\":\"ea28e638-780f-48c0-9f7c-0e50a481d8a6\",\"root_ids\":[\"1099\"],\"roots\":{\"1099\":\"48d8c423-105b-4786-bef1-51bcc920c763\"}}];\n",
       "  root.Bokeh.embed.embed_items_notebook(docs_json, render_items);\n",
       "\n",
       "  }\n",
       "  if (root.Bokeh !== undefined) {\n",
       "    embed_document(root);\n",
       "  } else {\n",
       "    var attempts = 0;\n",
       "    var timer = setInterval(function(root) {\n",
       "      if (root.Bokeh !== undefined) {\n",
       "        clearInterval(timer);\n",
       "        embed_document(root);\n",
       "      } else {\n",
       "        attempts++;\n",
       "        if (attempts > 100) {\n",
       "          clearInterval(timer);\n",
       "          console.log(\"Bokeh: ERROR: Unable to run BokehJS code because BokehJS library is missing\");\n",
       "        }\n",
       "      }\n",
       "    }, 10, root)\n",
       "  }\n",
       "})(window);"
      ],
      "application/vnd.bokehjs_exec.v0+json": ""
     },
     "metadata": {
      "application/vnd.bokehjs_exec.v0+json": {
       "id": "1099"
      }
     },
     "output_type": "display_data"
    }
   ],
   "source": [
    "# q = 2\n",
    "draw_PCA(dfs[1])"
   ]
  },
  {
   "cell_type": "code",
   "execution_count": 7,
   "metadata": {},
   "outputs": [
    {
     "data": {
      "text/html": [
       "\n",
       "\n",
       "\n",
       "\n",
       "\n",
       "\n",
       "  <div class=\"bk-root\" id=\"d11bec6f-8259-499d-8c1d-09b9ec24d444\" data-root-id=\"1203\"></div>\n"
      ]
     },
     "metadata": {},
     "output_type": "display_data"
    },
    {
     "data": {
      "application/javascript": [
       "(function(root) {\n",
       "  function embed_document(root) {\n",
       "    \n",
       "  var docs_json = {\"55340983-d285-4df7-85ec-6f7a1df6012f\":{\"roots\":{\"references\":[{\"attributes\":{\"below\":[{\"id\":\"1212\"}],\"center\":[{\"id\":\"1215\"},{\"id\":\"1219\"}],\"left\":[{\"id\":\"1216\"}],\"plot_height\":500,\"plot_width\":550,\"renderers\":[{\"id\":\"1227\"},{\"id\":\"1232\"}],\"title\":{\"id\":\"1254\"},\"toolbar\":{\"id\":\"1221\"},\"x_range\":{\"id\":\"1204\"},\"x_scale\":{\"id\":\"1208\"},\"y_range\":{\"id\":\"1206\"},\"y_scale\":{\"id\":\"1210\"}},\"id\":\"1203\",\"subtype\":\"Figure\",\"type\":\"Plot\"},{\"attributes\":{\"fill_alpha\":{\"value\":0.1},\"fill_color\":{\"value\":\"red\"},\"line_alpha\":{\"value\":0.1},\"line_color\":{\"value\":\"red\"},\"size\":{\"units\":\"screen\",\"value\":16},\"x\":{\"field\":\"x\"},\"y\":{\"field\":\"y\"}},\"id\":\"1231\",\"type\":\"Triangle\"},{\"attributes\":{},\"id\":\"1263\",\"type\":\"Selection\"},{\"attributes\":{\"data_source\":{\"id\":\"1201\"},\"glyph\":{\"id\":\"1230\"},\"hover_glyph\":null,\"muted_glyph\":null,\"nonselection_glyph\":{\"id\":\"1231\"},\"selection_glyph\":null,\"view\":{\"id\":\"1233\"}},\"id\":\"1232\",\"type\":\"GlyphRenderer\"},{\"attributes\":{\"axis\":{\"id\":\"1216\"},\"dimension\":1,\"ticker\":null},\"id\":\"1219\",\"type\":\"Grid\"},{\"attributes\":{\"fill_color\":{\"value\":\"black\"},\"size\":{\"units\":\"screen\",\"value\":14},\"x\":{\"field\":\"x\"},\"y\":{\"field\":\"y\"}},\"id\":\"1225\",\"type\":\"Circle\"},{\"attributes\":{\"fill_color\":{\"value\":\"red\"},\"line_color\":{\"value\":\"red\"},\"size\":{\"units\":\"screen\",\"value\":16},\"x\":{\"field\":\"x\"},\"y\":{\"field\":\"y\"}},\"id\":\"1230\",\"type\":\"Triangle\"},{\"attributes\":{\"source\":{\"id\":\"1201\"}},\"id\":\"1233\",\"type\":\"CDSView\"},{\"attributes\":{\"axis\":{\"id\":\"1212\"},\"ticker\":null},\"id\":\"1215\",\"type\":\"Grid\"},{\"attributes\":{\"formatter\":{\"id\":\"1258\"},\"major_label_text_color\":\"white\",\"ticker\":{\"id\":\"1217\"}},\"id\":\"1216\",\"type\":\"LinearAxis\"},{\"attributes\":{\"text\":\"\"},\"id\":\"1254\",\"type\":\"Title\"},{\"attributes\":{},\"id\":\"1208\",\"type\":\"LinearScale\"},{\"attributes\":{},\"id\":\"1256\",\"type\":\"BasicTickFormatter\"},{\"attributes\":{\"data\":{\"desc\":[\"SRR5616906\",\"SRR5616907\",\"SRR5616908\",\"SRR5616909\",\"SRR5616910\",\"SRR5616911\",\"SRR5616912\",\"SRR5616913\",\"SRR5616914\",\"SRR5616915\",\"SRR5616916\",\"SRR5616917\",\"SRR5616918\",\"SRR5616919\",\"SRR5616920\",\"SRR5616921\",\"SRR5616922\",\"SRR5616923\",\"SRR5616924\"],\"x\":{\"__ndarray__\":\"KUMIz5HnWL9hcyer4QNiP//jYqd//lY/4hO/Q2IddT+ODK/b6xhyvy3zXNZisYA/3h+ytGL3Y79uVt29JjiAP5aGhoZ1MSI/Ov/NAEn8er9fPnS3OApivzbhPwPcHXU/Xm4DnfwcaD9PhOBHED9CP9rh6s0Nf4Q/xJZV/qZ8dT8mducSwnE5vwLbAoAfOGK/dPTJ6HLabD8=\",\"dtype\":\"float64\",\"order\":\"little\",\"shape\":[19]},\"y\":{\"__ndarray__\":\"wAWDRAAnAj8U3d7fr09GP+hksd/bWVM/ztezrC/zKz/mqskSTs0Yv40L7kVrdzS/zmqJudhDLj81+xRH2C0uv88JJnOOuSi/k8xHBgWzP78fEQPiDqQpP7MvsuFKAzW/DUxFH0rkM7/04cg1MLM9Pwm8feX4A0+/LCUnLklePD/oBHf0gWkzv5hYCy5jZTO/t2BllR/EQr8=\",\"dtype\":\"float64\",\"order\":\"little\",\"shape\":[19]}},\"selected\":{\"id\":\"1263\"},\"selection_policy\":{\"id\":\"1262\"}},\"id\":\"1201\",\"type\":\"ColumnDataSource\"},{\"attributes\":{},\"id\":\"1217\",\"type\":\"BasicTicker\"},{\"attributes\":{\"source\":{\"id\":\"1200\"}},\"id\":\"1228\",\"type\":\"CDSView\"},{\"attributes\":{},\"id\":\"1258\",\"type\":\"BasicTickFormatter\"},{\"attributes\":{},\"id\":\"1210\",\"type\":\"LinearScale\"},{\"attributes\":{},\"id\":\"1260\",\"type\":\"UnionRenderers\"},{\"attributes\":{},\"id\":\"1213\",\"type\":\"BasicTicker\"},{\"attributes\":{},\"id\":\"1261\",\"type\":\"Selection\"},{\"attributes\":{\"active_drag\":\"auto\",\"active_inspect\":\"auto\",\"active_multi\":null,\"active_scroll\":\"auto\",\"active_tap\":\"auto\",\"tools\":[{\"id\":\"1202\"},{\"id\":\"1220\"}]},\"id\":\"1221\",\"type\":\"Toolbar\"},{\"attributes\":{},\"id\":\"1262\",\"type\":\"UnionRenderers\"},{\"attributes\":{\"data\":{\"desc\":[\"SRR5616889\",\"SRR5616890\",\"SRR5616891\",\"SRR5616892\",\"SRR5616893\",\"SRR5616894\",\"SRR5616895\",\"SRR5616896\",\"SRR5616897\",\"SRR5616898\",\"SRR5616899\",\"SRR5616900\",\"SRR5616901\",\"SRR5616902\",\"SRR5616903\",\"SRR5616904\",\"SRR5616905\"],\"x\":{\"__ndarray__\":\"qgFXKQrWZb+x+Mpz9wnmPi6bslCkCVU/Klr+lE4hVj/ZlF1wbK1iP9/wPAONm3u/uLnCPUcTUD//vtRRrpxgv7p4oH8NLGQ/0p13gYl8a79z6ilXqNB7v4n/sfxf/k8/PGTl+PJigL+QU9MFB/Jsv1Gr7XtGQFe/PI5kpbh8Ub+TqApA1BF6vw==\",\"dtype\":\"float64\",\"order\":\"little\",\"shape\":[17]},\"y\":{\"__ndarray__\":\"RU8f5IihSz/zcid2KwD0Pv/jzaOkNzo/Rbr1on5IJ7/LzNiErRpNP7yU9szr+j+/Bgv97FXLOb9/2o7tDm0/P1crrwQf0hA/sm7IHz9bIL8llGOzSaUwv233JZBjQi8/sxHFmbe8Q7/CxSKxOrNBP0sE58IzPDi/Q22rIBUTPr8KRRF85aPzPg==\",\"dtype\":\"float64\",\"order\":\"little\",\"shape\":[17]}},\"selected\":{\"id\":\"1261\"},\"selection_policy\":{\"id\":\"1260\"}},\"id\":\"1200\",\"type\":\"ColumnDataSource\"},{\"attributes\":{\"formatter\":{\"id\":\"1256\"},\"major_label_text_color\":\"white\",\"ticker\":{\"id\":\"1213\"}},\"id\":\"1212\",\"type\":\"LinearAxis\"},{\"attributes\":{\"callback\":null,\"tooltips\":[[\"index\",\"$index\"],[\"desc\",\"@desc\"]]},\"id\":\"1202\",\"type\":\"HoverTool\"},{\"attributes\":{},\"id\":\"1204\",\"type\":\"DataRange1d\"},{\"attributes\":{},\"id\":\"1220\",\"type\":\"SaveTool\"},{\"attributes\":{},\"id\":\"1206\",\"type\":\"DataRange1d\"},{\"attributes\":{\"data_source\":{\"id\":\"1200\"},\"glyph\":{\"id\":\"1225\"},\"hover_glyph\":null,\"muted_glyph\":null,\"nonselection_glyph\":{\"id\":\"1226\"},\"selection_glyph\":null,\"view\":{\"id\":\"1228\"}},\"id\":\"1227\",\"type\":\"GlyphRenderer\"},{\"attributes\":{\"fill_alpha\":{\"value\":0.1},\"fill_color\":{\"value\":\"black\"},\"line_alpha\":{\"value\":0.1},\"size\":{\"units\":\"screen\",\"value\":14},\"x\":{\"field\":\"x\"},\"y\":{\"field\":\"y\"}},\"id\":\"1226\",\"type\":\"Circle\"}],\"root_ids\":[\"1203\"]},\"title\":\"Bokeh Application\",\"version\":\"2.2.3\"}};\n",
       "  var render_items = [{\"docid\":\"55340983-d285-4df7-85ec-6f7a1df6012f\",\"root_ids\":[\"1203\"],\"roots\":{\"1203\":\"d11bec6f-8259-499d-8c1d-09b9ec24d444\"}}];\n",
       "  root.Bokeh.embed.embed_items_notebook(docs_json, render_items);\n",
       "\n",
       "  }\n",
       "  if (root.Bokeh !== undefined) {\n",
       "    embed_document(root);\n",
       "  } else {\n",
       "    var attempts = 0;\n",
       "    var timer = setInterval(function(root) {\n",
       "      if (root.Bokeh !== undefined) {\n",
       "        clearInterval(timer);\n",
       "        embed_document(root);\n",
       "      } else {\n",
       "        attempts++;\n",
       "        if (attempts > 100) {\n",
       "          clearInterval(timer);\n",
       "          console.log(\"Bokeh: ERROR: Unable to run BokehJS code because BokehJS library is missing\");\n",
       "        }\n",
       "      }\n",
       "    }, 10, root)\n",
       "  }\n",
       "})(window);"
      ],
      "application/vnd.bokehjs_exec.v0+json": ""
     },
     "metadata": {
      "application/vnd.bokehjs_exec.v0+json": {
       "id": "1203"
      }
     },
     "output_type": "display_data"
    }
   ],
   "source": [
    "# q = 3\n",
    "draw_PCA(dfs[2])"
   ]
  },
  {
   "cell_type": "code",
   "execution_count": 8,
   "metadata": {},
   "outputs": [
    {
     "data": {
      "text/html": [
       "\n",
       "\n",
       "\n",
       "\n",
       "\n",
       "\n",
       "  <div class=\"bk-root\" id=\"4341e54d-7a55-412c-9097-e92b6d807095\" data-root-id=\"1317\"></div>\n"
      ]
     },
     "metadata": {},
     "output_type": "display_data"
    },
    {
     "data": {
      "application/javascript": [
       "(function(root) {\n",
       "  function embed_document(root) {\n",
       "    \n",
       "  var docs_json = {\"5e2e8d4e-1f1e-4f46-b704-604e487a5aa0\":{\"roots\":{\"references\":[{\"attributes\":{\"below\":[{\"id\":\"1326\"}],\"center\":[{\"id\":\"1329\"},{\"id\":\"1333\"}],\"left\":[{\"id\":\"1330\"}],\"plot_height\":500,\"plot_width\":550,\"renderers\":[{\"id\":\"1341\"},{\"id\":\"1346\"}],\"title\":{\"id\":\"1378\"},\"toolbar\":{\"id\":\"1335\"},\"x_range\":{\"id\":\"1318\"},\"x_scale\":{\"id\":\"1322\"},\"y_range\":{\"id\":\"1320\"},\"y_scale\":{\"id\":\"1324\"}},\"id\":\"1317\",\"subtype\":\"Figure\",\"type\":\"Plot\"},{\"attributes\":{\"fill_alpha\":{\"value\":0.1},\"fill_color\":{\"value\":\"black\"},\"line_alpha\":{\"value\":0.1},\"size\":{\"units\":\"screen\",\"value\":14},\"x\":{\"field\":\"x\"},\"y\":{\"field\":\"y\"}},\"id\":\"1340\",\"type\":\"Circle\"},{\"attributes\":{},\"id\":\"1318\",\"type\":\"DataRange1d\"},{\"attributes\":{\"source\":{\"id\":\"1315\"}},\"id\":\"1347\",\"type\":\"CDSView\"},{\"attributes\":{\"formatter\":{\"id\":\"1382\"},\"major_label_text_color\":\"white\",\"ticker\":{\"id\":\"1331\"}},\"id\":\"1330\",\"type\":\"LinearAxis\"},{\"attributes\":{},\"id\":\"1334\",\"type\":\"SaveTool\"},{\"attributes\":{\"source\":{\"id\":\"1314\"}},\"id\":\"1342\",\"type\":\"CDSView\"},{\"attributes\":{\"fill_color\":{\"value\":\"black\"},\"size\":{\"units\":\"screen\",\"value\":14},\"x\":{\"field\":\"x\"},\"y\":{\"field\":\"y\"}},\"id\":\"1339\",\"type\":\"Circle\"},{\"attributes\":{\"data_source\":{\"id\":\"1314\"},\"glyph\":{\"id\":\"1339\"},\"hover_glyph\":null,\"muted_glyph\":null,\"nonselection_glyph\":{\"id\":\"1340\"},\"selection_glyph\":null,\"view\":{\"id\":\"1342\"}},\"id\":\"1341\",\"type\":\"GlyphRenderer\"},{\"attributes\":{},\"id\":\"1320\",\"type\":\"DataRange1d\"},{\"attributes\":{\"axis\":{\"id\":\"1330\"},\"dimension\":1,\"ticker\":null},\"id\":\"1333\",\"type\":\"Grid\"},{\"attributes\":{\"axis\":{\"id\":\"1326\"},\"ticker\":null},\"id\":\"1329\",\"type\":\"Grid\"},{\"attributes\":{},\"id\":\"1331\",\"type\":\"BasicTicker\"},{\"attributes\":{},\"id\":\"1387\",\"type\":\"Selection\"},{\"attributes\":{\"data\":{\"desc\":[\"SRR5616889\",\"SRR5616890\",\"SRR5616891\",\"SRR5616892\",\"SRR5616893\",\"SRR5616894\",\"SRR5616895\",\"SRR5616896\",\"SRR5616897\",\"SRR5616898\",\"SRR5616899\",\"SRR5616900\",\"SRR5616901\",\"SRR5616902\",\"SRR5616903\",\"SRR5616904\",\"SRR5616905\"],\"x\":{\"__ndarray__\":\"N6i91uwHTL8+9gtTljIev/WS4CAAMD4/0Q716G/iQj+zTffSdnQ/P3fqrPbPdWC/B6WiaI9VQj9v3pDtEttMv5MgCyuMBko/VkaJE1Q6Ub9Hf9rWAI1ivzwARw4RPjI/70jimrGHY78TgrrDf35Vv+xdd6/7qz2/HNgnCi5xQ7+9d4iP/7lhvw==\",\"dtype\":\"float64\",\"order\":\"little\",\"shape\":[17]},\"y\":{\"__ndarray__\":\"/HNHrZLfJL+ne8tBFWcIv8WPm499fUC/LJAslqcCMD/99CbF+rwpv66AbSsr0x0/PVGeTL0JFb92tzatB3gZv0U6RVtT6SS/o3E5hbFkBT/wiX5ikWsmPxzRtXpUp/O+VzJ4qj7EIj9TiXA14ksav/1/BCx9ARs/akl9JwMpKz/eIOXp8vUbPw==\",\"dtype\":\"float64\",\"order\":\"little\",\"shape\":[17]}},\"selected\":{\"id\":\"1385\"},\"selection_policy\":{\"id\":\"1384\"}},\"id\":\"1314\",\"type\":\"ColumnDataSource\"},{\"attributes\":{\"fill_color\":{\"value\":\"red\"},\"line_color\":{\"value\":\"red\"},\"size\":{\"units\":\"screen\",\"value\":16},\"x\":{\"field\":\"x\"},\"y\":{\"field\":\"y\"}},\"id\":\"1344\",\"type\":\"Triangle\"},{\"attributes\":{},\"id\":\"1327\",\"type\":\"BasicTicker\"},{\"attributes\":{\"fill_alpha\":{\"value\":0.1},\"fill_color\":{\"value\":\"red\"},\"line_alpha\":{\"value\":0.1},\"line_color\":{\"value\":\"red\"},\"size\":{\"units\":\"screen\",\"value\":16},\"x\":{\"field\":\"x\"},\"y\":{\"field\":\"y\"}},\"id\":\"1345\",\"type\":\"Triangle\"},{\"attributes\":{\"callback\":null,\"tooltips\":[[\"index\",\"$index\"],[\"desc\",\"@desc\"]]},\"id\":\"1316\",\"type\":\"HoverTool\"},{\"attributes\":{\"data_source\":{\"id\":\"1315\"},\"glyph\":{\"id\":\"1344\"},\"hover_glyph\":null,\"muted_glyph\":null,\"nonselection_glyph\":{\"id\":\"1345\"},\"selection_glyph\":null,\"view\":{\"id\":\"1347\"}},\"id\":\"1346\",\"type\":\"GlyphRenderer\"},{\"attributes\":{\"formatter\":{\"id\":\"1380\"},\"major_label_text_color\":\"white\",\"ticker\":{\"id\":\"1327\"}},\"id\":\"1326\",\"type\":\"LinearAxis\"},{\"attributes\":{},\"id\":\"1386\",\"type\":\"UnionRenderers\"},{\"attributes\":{\"text\":\"\"},\"id\":\"1378\",\"type\":\"Title\"},{\"attributes\":{},\"id\":\"1324\",\"type\":\"LinearScale\"},{\"attributes\":{},\"id\":\"1380\",\"type\":\"BasicTickFormatter\"},{\"attributes\":{},\"id\":\"1322\",\"type\":\"LinearScale\"},{\"attributes\":{},\"id\":\"1384\",\"type\":\"UnionRenderers\"},{\"attributes\":{\"data\":{\"desc\":[\"SRR5616906\",\"SRR5616907\",\"SRR5616908\",\"SRR5616909\",\"SRR5616910\",\"SRR5616911\",\"SRR5616912\",\"SRR5616913\",\"SRR5616914\",\"SRR5616915\",\"SRR5616916\",\"SRR5616917\",\"SRR5616918\",\"SRR5616919\",\"SRR5616920\",\"SRR5616921\",\"SRR5616922\",\"SRR5616923\",\"SRR5616924\"],\"x\":{\"__ndarray__\":\"CKBD1HjUJr/zHajBgk1JPwsWFBJRNUI/hcRCe+sHWz9a2EWRBVxRv0++ffo3ImM/rkntVQokR7+NivCnIpFePzcmnxIDu0E/SWOZAxRWYL/frtnNRWlIv+NRyjYC7Vk/3nwKVad0TT/z0cVE3aUjP3aCBqwL8ms/mFFuJ8Y5WT8RFVCOE4sfPy9hjvSOXEy/CGYfstFKUT8=\",\"dtype\":\"float64\",\"order\":\"little\",\"shape\":[19]},\"y\":{\"__ndarray__\":\"RmOrWqd3Ib+iG+DKsbcov9P28HLzDje/2XCeCJ/4Lz8hWykmRfYxv+QqOqbPAjI/WpI15tzmC78BPUBfJbJCPzjkuMuJBj+/adynupbJIz/cXgVbXLIQP6MfpXnoqTU/1lhxIFvw9T6cQ/NxYycKP/jrz6XPXhm/53uVTKltJL9ffJHlFHI1v9UDmVhSmzY/kWThlJvaLj8=\",\"dtype\":\"float64\",\"order\":\"little\",\"shape\":[19]}},\"selected\":{\"id\":\"1387\"},\"selection_policy\":{\"id\":\"1386\"}},\"id\":\"1315\",\"type\":\"ColumnDataSource\"},{\"attributes\":{},\"id\":\"1382\",\"type\":\"BasicTickFormatter\"},{\"attributes\":{\"active_drag\":\"auto\",\"active_inspect\":\"auto\",\"active_multi\":null,\"active_scroll\":\"auto\",\"active_tap\":\"auto\",\"tools\":[{\"id\":\"1316\"},{\"id\":\"1334\"}]},\"id\":\"1335\",\"type\":\"Toolbar\"},{\"attributes\":{},\"id\":\"1385\",\"type\":\"Selection\"}],\"root_ids\":[\"1317\"]},\"title\":\"Bokeh Application\",\"version\":\"2.2.3\"}};\n",
       "  var render_items = [{\"docid\":\"5e2e8d4e-1f1e-4f46-b704-604e487a5aa0\",\"root_ids\":[\"1317\"],\"roots\":{\"1317\":\"4341e54d-7a55-412c-9097-e92b6d807095\"}}];\n",
       "  root.Bokeh.embed.embed_items_notebook(docs_json, render_items);\n",
       "\n",
       "  }\n",
       "  if (root.Bokeh !== undefined) {\n",
       "    embed_document(root);\n",
       "  } else {\n",
       "    var attempts = 0;\n",
       "    var timer = setInterval(function(root) {\n",
       "      if (root.Bokeh !== undefined) {\n",
       "        clearInterval(timer);\n",
       "        embed_document(root);\n",
       "      } else {\n",
       "        attempts++;\n",
       "        if (attempts > 100) {\n",
       "          clearInterval(timer);\n",
       "          console.log(\"Bokeh: ERROR: Unable to run BokehJS code because BokehJS library is missing\");\n",
       "        }\n",
       "      }\n",
       "    }, 10, root)\n",
       "  }\n",
       "})(window);"
      ],
      "application/vnd.bokehjs_exec.v0+json": ""
     },
     "metadata": {
      "application/vnd.bokehjs_exec.v0+json": {
       "id": "1317"
      }
     },
     "output_type": "display_data"
    }
   ],
   "source": [
    "# q = 4\n",
    "draw_PCA(dfs[3])"
   ]
  },
  {
   "cell_type": "code",
   "execution_count": 9,
   "metadata": {},
   "outputs": [
    {
     "data": {
      "text/html": [
       "\n",
       "\n",
       "\n",
       "\n",
       "\n",
       "\n",
       "  <div class=\"bk-root\" id=\"1dfc9a7c-cdd9-492b-8515-438c67b01f24\" data-root-id=\"1441\"></div>\n"
      ]
     },
     "metadata": {},
     "output_type": "display_data"
    },
    {
     "data": {
      "application/javascript": [
       "(function(root) {\n",
       "  function embed_document(root) {\n",
       "    \n",
       "  var docs_json = {\"371fe747-0d02-42b5-bbad-6e30f32b0b57\":{\"roots\":{\"references\":[{\"attributes\":{\"below\":[{\"id\":\"1450\"}],\"center\":[{\"id\":\"1453\"},{\"id\":\"1457\"}],\"left\":[{\"id\":\"1454\"}],\"plot_height\":500,\"plot_width\":550,\"renderers\":[{\"id\":\"1465\"},{\"id\":\"1470\"}],\"title\":{\"id\":\"1512\"},\"toolbar\":{\"id\":\"1459\"},\"x_range\":{\"id\":\"1442\"},\"x_scale\":{\"id\":\"1446\"},\"y_range\":{\"id\":\"1444\"},\"y_scale\":{\"id\":\"1448\"}},\"id\":\"1441\",\"subtype\":\"Figure\",\"type\":\"Plot\"},{\"attributes\":{},\"id\":\"1514\",\"type\":\"BasicTickFormatter\"},{\"attributes\":{},\"id\":\"1458\",\"type\":\"SaveTool\"},{\"attributes\":{},\"id\":\"1516\",\"type\":\"BasicTickFormatter\"},{\"attributes\":{\"active_drag\":\"auto\",\"active_inspect\":\"auto\",\"active_multi\":null,\"active_scroll\":\"auto\",\"active_tap\":\"auto\",\"tools\":[{\"id\":\"1440\"},{\"id\":\"1458\"}]},\"id\":\"1459\",\"type\":\"Toolbar\"},{\"attributes\":{},\"id\":\"1521\",\"type\":\"Selection\"},{\"attributes\":{\"text\":\"\"},\"id\":\"1512\",\"type\":\"Title\"},{\"attributes\":{},\"id\":\"1520\",\"type\":\"UnionRenderers\"},{\"attributes\":{\"fill_color\":{\"value\":\"black\"},\"size\":{\"units\":\"screen\",\"value\":14},\"x\":{\"field\":\"x\"},\"y\":{\"field\":\"y\"}},\"id\":\"1463\",\"type\":\"Circle\"},{\"attributes\":{},\"id\":\"1519\",\"type\":\"Selection\"},{\"attributes\":{\"fill_alpha\":{\"value\":0.1},\"fill_color\":{\"value\":\"black\"},\"line_alpha\":{\"value\":0.1},\"size\":{\"units\":\"screen\",\"value\":14},\"x\":{\"field\":\"x\"},\"y\":{\"field\":\"y\"}},\"id\":\"1464\",\"type\":\"Circle\"},{\"attributes\":{\"source\":{\"id\":\"1439\"}},\"id\":\"1471\",\"type\":\"CDSView\"},{\"attributes\":{\"data_source\":{\"id\":\"1438\"},\"glyph\":{\"id\":\"1463\"},\"hover_glyph\":null,\"muted_glyph\":null,\"nonselection_glyph\":{\"id\":\"1464\"},\"selection_glyph\":null,\"view\":{\"id\":\"1466\"}},\"id\":\"1465\",\"type\":\"GlyphRenderer\"},{\"attributes\":{\"formatter\":{\"id\":\"1516\"},\"major_label_text_color\":\"white\",\"ticker\":{\"id\":\"1455\"}},\"id\":\"1454\",\"type\":\"LinearAxis\"},{\"attributes\":{},\"id\":\"1455\",\"type\":\"BasicTicker\"},{\"attributes\":{\"source\":{\"id\":\"1438\"}},\"id\":\"1466\",\"type\":\"CDSView\"},{\"attributes\":{},\"id\":\"1444\",\"type\":\"DataRange1d\"},{\"attributes\":{},\"id\":\"1442\",\"type\":\"DataRange1d\"},{\"attributes\":{},\"id\":\"1518\",\"type\":\"UnionRenderers\"},{\"attributes\":{},\"id\":\"1451\",\"type\":\"BasicTicker\"},{\"attributes\":{\"fill_color\":{\"value\":\"red\"},\"line_color\":{\"value\":\"red\"},\"size\":{\"units\":\"screen\",\"value\":16},\"x\":{\"field\":\"x\"},\"y\":{\"field\":\"y\"}},\"id\":\"1468\",\"type\":\"Triangle\"},{\"attributes\":{\"fill_alpha\":{\"value\":0.1},\"fill_color\":{\"value\":\"red\"},\"line_alpha\":{\"value\":0.1},\"line_color\":{\"value\":\"red\"},\"size\":{\"units\":\"screen\",\"value\":16},\"x\":{\"field\":\"x\"},\"y\":{\"field\":\"y\"}},\"id\":\"1469\",\"type\":\"Triangle\"},{\"attributes\":{\"axis\":{\"id\":\"1454\"},\"dimension\":1,\"ticker\":null},\"id\":\"1457\",\"type\":\"Grid\"},{\"attributes\":{},\"id\":\"1448\",\"type\":\"LinearScale\"},{\"attributes\":{\"formatter\":{\"id\":\"1514\"},\"major_label_text_color\":\"white\",\"ticker\":{\"id\":\"1451\"}},\"id\":\"1450\",\"type\":\"LinearAxis\"},{\"attributes\":{\"data_source\":{\"id\":\"1439\"},\"glyph\":{\"id\":\"1468\"},\"hover_glyph\":null,\"muted_glyph\":null,\"nonselection_glyph\":{\"id\":\"1469\"},\"selection_glyph\":null,\"view\":{\"id\":\"1471\"}},\"id\":\"1470\",\"type\":\"GlyphRenderer\"},{\"attributes\":{\"callback\":null,\"tooltips\":[[\"index\",\"$index\"],[\"desc\",\"@desc\"]]},\"id\":\"1440\",\"type\":\"HoverTool\"},{\"attributes\":{\"data\":{\"desc\":[\"SRR5616906\",\"SRR5616907\",\"SRR5616908\",\"SRR5616909\",\"SRR5616910\",\"SRR5616911\",\"SRR5616912\",\"SRR5616913\",\"SRR5616914\",\"SRR5616915\",\"SRR5616916\",\"SRR5616917\",\"SRR5616918\",\"SRR5616919\",\"SRR5616920\",\"SRR5616921\",\"SRR5616922\",\"SRR5616923\",\"SRR5616924\"],\"x\":{\"__ndarray__\":\"8RN1xKxIwr4eiPGGR0ckP31SCoAnP/s+6LKDYBZBPD+SuQqlERcvv8rGThO+Z0E/VCWS6eUfIr98bnDhqYA9PzubxpDAUR8/UQok5vwbOL8O+LeNK04hvzUS7iFFqjg/sDB9C0+YKT8bCyTQHFgJP640agGDOEc/KmIowSXeKz9dBZEzrl0CvxleHJuEURu/cU/QP/VeLT8=\",\"dtype\":\"float64\",\"order\":\"little\",\"shape\":[19]},\"y\":{\"__ndarray__\":\"2fxhqlvV1j5xZDmY+6oEP2xsVS4YgxQ/TOlskQfFEb+fNd74ypwDvz+JaRwsfAE/9p+WKF7sBD9NHS4LiX76PmXAqwEOPRC/k1tvLlRpBr+JLx8NYIvKPsTrmyMJKhS/oL9YTmV3C7+Hs13aJlbvPoboYAroHei+0CwwWMAOIT9aZEZCNfkBvyT0XSOc/gK/Xv/wKbdABb8=\",\"dtype\":\"float64\",\"order\":\"little\",\"shape\":[19]}},\"selected\":{\"id\":\"1521\"},\"selection_policy\":{\"id\":\"1520\"}},\"id\":\"1439\",\"type\":\"ColumnDataSource\"},{\"attributes\":{\"axis\":{\"id\":\"1450\"},\"ticker\":null},\"id\":\"1453\",\"type\":\"Grid\"},{\"attributes\":{\"data\":{\"desc\":[\"SRR5616889\",\"SRR5616890\",\"SRR5616891\",\"SRR5616892\",\"SRR5616893\",\"SRR5616894\",\"SRR5616895\",\"SRR5616896\",\"SRR5616897\",\"SRR5616898\",\"SRR5616899\",\"SRR5616900\",\"SRR5616901\",\"SRR5616902\",\"SRR5616903\",\"SRR5616904\",\"SRR5616905\"],\"x\":{\"__ndarray__\":\"CJzrkVvYKL+0H3MtQ2jxvs1NT27CEge/lU5P/UDdJT9Ps+e4ekvzPub/plmALTi/awE+0kEyJD+AmLERexswv9MQo/7ylxE/uSOmTJqBJ79wKE9AMVA9v/cFu3tz3O8+fD6qdaGRPL8cyrHeM4w0v8Aro9o6/xO/ZU6WNFJXIL8dHCgAGOQ8vw==\",\"dtype\":\"float64\",\"order\":\"little\",\"shape\":[17]},\"y\":{\"__ndarray__\":\"xq4kBiCFCT+iSvqR8nH0PlvDzY43TQU/xY5Ytc1hFb+QFyOop84gP5tJsFNc5RG/nUNpFRLlAL9nTZ3Ev70RP8NtaXyWbxE/tgCSdFhm7T71/0JVdJhtPu8RQ3qq1hW/nuh18ri2Hr8Wx7FPR3URPzjNEhDjPuu+COglh7Pe9T68oww+Ca3uPg==\",\"dtype\":\"float64\",\"order\":\"little\",\"shape\":[17]}},\"selected\":{\"id\":\"1519\"},\"selection_policy\":{\"id\":\"1518\"}},\"id\":\"1438\",\"type\":\"ColumnDataSource\"},{\"attributes\":{},\"id\":\"1446\",\"type\":\"LinearScale\"}],\"root_ids\":[\"1441\"]},\"title\":\"Bokeh Application\",\"version\":\"2.2.3\"}};\n",
       "  var render_items = [{\"docid\":\"371fe747-0d02-42b5-bbad-6e30f32b0b57\",\"root_ids\":[\"1441\"],\"roots\":{\"1441\":\"1dfc9a7c-cdd9-492b-8515-438c67b01f24\"}}];\n",
       "  root.Bokeh.embed.embed_items_notebook(docs_json, render_items);\n",
       "\n",
       "  }\n",
       "  if (root.Bokeh !== undefined) {\n",
       "    embed_document(root);\n",
       "  } else {\n",
       "    var attempts = 0;\n",
       "    var timer = setInterval(function(root) {\n",
       "      if (root.Bokeh !== undefined) {\n",
       "        clearInterval(timer);\n",
       "        embed_document(root);\n",
       "      } else {\n",
       "        attempts++;\n",
       "        if (attempts > 100) {\n",
       "          clearInterval(timer);\n",
       "          console.log(\"Bokeh: ERROR: Unable to run BokehJS code because BokehJS library is missing\");\n",
       "        }\n",
       "      }\n",
       "    }, 10, root)\n",
       "  }\n",
       "})(window);"
      ],
      "application/vnd.bokehjs_exec.v0+json": ""
     },
     "metadata": {
      "application/vnd.bokehjs_exec.v0+json": {
       "id": "1441"
      }
     },
     "output_type": "display_data"
    }
   ],
   "source": [
    "# q = 5\n",
    "draw_PCA(dfs[4])"
   ]
  },
  {
   "cell_type": "code",
   "execution_count": 10,
   "metadata": {},
   "outputs": [
    {
     "data": {
      "text/html": [
       "\n",
       "\n",
       "\n",
       "\n",
       "\n",
       "\n",
       "  <div class=\"bk-root\" id=\"c23ce5c4-ec09-4e21-8201-3e33672d7161\" data-root-id=\"1575\"></div>\n"
      ]
     },
     "metadata": {},
     "output_type": "display_data"
    },
    {
     "data": {
      "application/javascript": [
       "(function(root) {\n",
       "  function embed_document(root) {\n",
       "    \n",
       "  var docs_json = {\"b8819c6c-23be-4d7d-8c80-6bea011e74bc\":{\"roots\":{\"references\":[{\"attributes\":{\"below\":[{\"id\":\"1584\"}],\"center\":[{\"id\":\"1587\"},{\"id\":\"1591\"}],\"left\":[{\"id\":\"1588\"}],\"plot_height\":500,\"plot_width\":550,\"renderers\":[{\"id\":\"1599\"},{\"id\":\"1604\"}],\"title\":{\"id\":\"1656\"},\"toolbar\":{\"id\":\"1593\"},\"x_range\":{\"id\":\"1576\"},\"x_scale\":{\"id\":\"1580\"},\"y_range\":{\"id\":\"1578\"},\"y_scale\":{\"id\":\"1582\"}},\"id\":\"1575\",\"subtype\":\"Figure\",\"type\":\"Plot\"},{\"attributes\":{},\"id\":\"1589\",\"type\":\"BasicTicker\"},{\"attributes\":{},\"id\":\"1665\",\"type\":\"Selection\"},{\"attributes\":{\"axis\":{\"id\":\"1584\"},\"ticker\":null},\"id\":\"1587\",\"type\":\"Grid\"},{\"attributes\":{\"data_source\":{\"id\":\"1572\"},\"glyph\":{\"id\":\"1597\"},\"hover_glyph\":null,\"muted_glyph\":null,\"nonselection_glyph\":{\"id\":\"1598\"},\"selection_glyph\":null,\"view\":{\"id\":\"1600\"}},\"id\":\"1599\",\"type\":\"GlyphRenderer\"},{\"attributes\":{\"formatter\":{\"id\":\"1660\"},\"major_label_text_color\":\"white\",\"ticker\":{\"id\":\"1589\"}},\"id\":\"1588\",\"type\":\"LinearAxis\"},{\"attributes\":{},\"id\":\"1585\",\"type\":\"BasicTicker\"},{\"attributes\":{\"fill_color\":{\"value\":\"black\"},\"size\":{\"units\":\"screen\",\"value\":14},\"x\":{\"field\":\"x\"},\"y\":{\"field\":\"y\"}},\"id\":\"1597\",\"type\":\"Circle\"},{\"attributes\":{\"data\":{\"desc\":[\"SRR5616889\",\"SRR5616890\",\"SRR5616891\",\"SRR5616892\",\"SRR5616893\",\"SRR5616894\",\"SRR5616895\",\"SRR5616896\",\"SRR5616897\",\"SRR5616898\",\"SRR5616899\",\"SRR5616900\",\"SRR5616901\",\"SRR5616902\",\"SRR5616903\",\"SRR5616904\",\"SRR5616905\"],\"x\":{\"__ndarray__\":\"likS6YfyKL8LglQ7P0AKP5pSi+qDdek++OQ6Dj4XIj+SYYF+1Twfvz03b0rA1ym/CfgMSln7Fz9lt51voIUmv2brq6zJZhE/vfh8R+I6Hr/Bd54v4IUsvyfDzKdHdha/rd0TG3EpLL/Mzr/EWjYvvxajaQriTtw+pcaXrpZyDr/i35W7ap4ovw==\",\"dtype\":\"float64\",\"order\":\"little\",\"shape\":[17]},\"y\":{\"__ndarray__\":\"FheSqpji8T5Z0oLZ4gX5PsOU1UHpRO4+zBEOdtsss76Smcdi6UwOP0YrjhfdV/i+HNRn5Nw6Ab9lOGKHNaT0PmxmtBXooA4/zqY5XfQZ+77mtNQ2YtqRPkiAVtW+TMm+7u4s2IRI+L7UJ8CiY7vyPmzRGxW9hv++1OZA9IF19r6XwfHfKkHkvg==\",\"dtype\":\"float64\",\"order\":\"little\",\"shape\":[17]}},\"selected\":{\"id\":\"1663\"},\"selection_policy\":{\"id\":\"1662\"}},\"id\":\"1572\",\"type\":\"ColumnDataSource\"},{\"attributes\":{\"fill_alpha\":{\"value\":0.1},\"fill_color\":{\"value\":\"black\"},\"line_alpha\":{\"value\":0.1},\"size\":{\"units\":\"screen\",\"value\":14},\"x\":{\"field\":\"x\"},\"y\":{\"field\":\"y\"}},\"id\":\"1598\",\"type\":\"Circle\"},{\"attributes\":{\"callback\":null,\"tooltips\":[[\"index\",\"$index\"],[\"desc\",\"@desc\"]]},\"id\":\"1574\",\"type\":\"HoverTool\"},{\"attributes\":{},\"id\":\"1576\",\"type\":\"DataRange1d\"},{\"attributes\":{\"source\":{\"id\":\"1572\"}},\"id\":\"1600\",\"type\":\"CDSView\"},{\"attributes\":{\"formatter\":{\"id\":\"1658\"},\"major_label_text_color\":\"white\",\"ticker\":{\"id\":\"1585\"}},\"id\":\"1584\",\"type\":\"LinearAxis\"},{\"attributes\":{},\"id\":\"1582\",\"type\":\"LinearScale\"},{\"attributes\":{\"fill_color\":{\"value\":\"red\"},\"line_color\":{\"value\":\"red\"},\"size\":{\"units\":\"screen\",\"value\":16},\"x\":{\"field\":\"x\"},\"y\":{\"field\":\"y\"}},\"id\":\"1602\",\"type\":\"Triangle\"},{\"attributes\":{\"fill_alpha\":{\"value\":0.1},\"fill_color\":{\"value\":\"red\"},\"line_alpha\":{\"value\":0.1},\"line_color\":{\"value\":\"red\"},\"size\":{\"units\":\"screen\",\"value\":16},\"x\":{\"field\":\"x\"},\"y\":{\"field\":\"y\"}},\"id\":\"1603\",\"type\":\"Triangle\"},{\"attributes\":{\"axis\":{\"id\":\"1588\"},\"dimension\":1,\"ticker\":null},\"id\":\"1591\",\"type\":\"Grid\"},{\"attributes\":{\"data_source\":{\"id\":\"1573\"},\"glyph\":{\"id\":\"1602\"},\"hover_glyph\":null,\"muted_glyph\":null,\"nonselection_glyph\":{\"id\":\"1603\"},\"selection_glyph\":null,\"view\":{\"id\":\"1605\"}},\"id\":\"1604\",\"type\":\"GlyphRenderer\"},{\"attributes\":{\"active_drag\":\"auto\",\"active_inspect\":\"auto\",\"active_multi\":null,\"active_scroll\":\"auto\",\"active_tap\":\"auto\",\"tools\":[{\"id\":\"1574\"},{\"id\":\"1592\"}]},\"id\":\"1593\",\"type\":\"Toolbar\"},{\"attributes\":{},\"id\":\"1592\",\"type\":\"SaveTool\"},{\"attributes\":{\"source\":{\"id\":\"1573\"}},\"id\":\"1605\",\"type\":\"CDSView\"},{\"attributes\":{\"text\":\"\"},\"id\":\"1656\",\"type\":\"Title\"},{\"attributes\":{},\"id\":\"1658\",\"type\":\"BasicTickFormatter\"},{\"attributes\":{},\"id\":\"1580\",\"type\":\"LinearScale\"},{\"attributes\":{},\"id\":\"1660\",\"type\":\"BasicTickFormatter\"},{\"attributes\":{},\"id\":\"1578\",\"type\":\"DataRange1d\"},{\"attributes\":{},\"id\":\"1663\",\"type\":\"Selection\"},{\"attributes\":{},\"id\":\"1664\",\"type\":\"UnionRenderers\"},{\"attributes\":{\"data\":{\"desc\":[\"SRR5616906\",\"SRR5616907\",\"SRR5616908\",\"SRR5616909\",\"SRR5616910\",\"SRR5616911\",\"SRR5616912\",\"SRR5616913\",\"SRR5616914\",\"SRR5616915\",\"SRR5616916\",\"SRR5616917\",\"SRR5616918\",\"SRR5616919\",\"SRR5616920\",\"SRR5616921\",\"SRR5616922\",\"SRR5616923\",\"SRR5616924\"],\"x\":{\"__ndarray__\":\"k+fNQO8+Bz/B5eXbzwbyvnHetCYKDts+lADjzVtWNT8F/aGcH8gev6P7ALElzSk/BpytISsQGL9K+gvSqmosP1T/rn9H09u+DoH8UjGwIr/8OMaOGXoSv/BACYGZ5iM/q2iBBGoYJT+kYyYaM3urvriguqxvyTI/e13BjKppMT9y9s/vc7HgPtQ0kKvjDeW+MC5j0KN9LT8=\",\"dtype\":\"float64\",\"order\":\"little\",\"shape\":[19]},\"y\":{\"__ndarray__\":\"dgXerYEN8D4pHAtfLEzIvqBjZiWoVhE/u6qENIIPFj9gD70+Mt3ovlrd71Y2H7++weEEXrGg4T7f85FqpxrnvuFVCBkxmd0+EBp8AL2I8r68D7FzY23qvldkkt12PfG+siY9OhhA7T45fBMtcwHhvjkhtoPwRAW/BPkoud1Z/L6EiDD2K4L4vmg1QzvLc+y+WIN2QymmCL8=\",\"dtype\":\"float64\",\"order\":\"little\",\"shape\":[19]}},\"selected\":{\"id\":\"1665\"},\"selection_policy\":{\"id\":\"1664\"}},\"id\":\"1573\",\"type\":\"ColumnDataSource\"},{\"attributes\":{},\"id\":\"1662\",\"type\":\"UnionRenderers\"}],\"root_ids\":[\"1575\"]},\"title\":\"Bokeh Application\",\"version\":\"2.2.3\"}};\n",
       "  var render_items = [{\"docid\":\"b8819c6c-23be-4d7d-8c80-6bea011e74bc\",\"root_ids\":[\"1575\"],\"roots\":{\"1575\":\"c23ce5c4-ec09-4e21-8201-3e33672d7161\"}}];\n",
       "  root.Bokeh.embed.embed_items_notebook(docs_json, render_items);\n",
       "\n",
       "  }\n",
       "  if (root.Bokeh !== undefined) {\n",
       "    embed_document(root);\n",
       "  } else {\n",
       "    var attempts = 0;\n",
       "    var timer = setInterval(function(root) {\n",
       "      if (root.Bokeh !== undefined) {\n",
       "        clearInterval(timer);\n",
       "        embed_document(root);\n",
       "      } else {\n",
       "        attempts++;\n",
       "        if (attempts > 100) {\n",
       "          clearInterval(timer);\n",
       "          console.log(\"Bokeh: ERROR: Unable to run BokehJS code because BokehJS library is missing\");\n",
       "        }\n",
       "      }\n",
       "    }, 10, root)\n",
       "  }\n",
       "})(window);"
      ],
      "application/vnd.bokehjs_exec.v0+json": ""
     },
     "metadata": {
      "application/vnd.bokehjs_exec.v0+json": {
       "id": "1575"
      }
     },
     "output_type": "display_data"
    }
   ],
   "source": [
    "# q = 6\n",
    "draw_PCA(dfs[5])"
   ]
  },
  {
   "cell_type": "code",
   "execution_count": 11,
   "metadata": {},
   "outputs": [
    {
     "data": {
      "text/html": [
       "\n",
       "\n",
       "\n",
       "\n",
       "\n",
       "\n",
       "  <div class=\"bk-root\" id=\"fa9e668c-dc6d-4fa2-bfbe-94064784017b\" data-root-id=\"1719\"></div>\n"
      ]
     },
     "metadata": {},
     "output_type": "display_data"
    },
    {
     "data": {
      "application/javascript": [
       "(function(root) {\n",
       "  function embed_document(root) {\n",
       "    \n",
       "  var docs_json = {\"5ebeae31-63d0-49d7-b78f-0f7af1ee3920\":{\"roots\":{\"references\":[{\"attributes\":{\"below\":[{\"id\":\"1728\"}],\"center\":[{\"id\":\"1731\"},{\"id\":\"1735\"}],\"left\":[{\"id\":\"1732\"}],\"plot_height\":500,\"plot_width\":550,\"renderers\":[{\"id\":\"1743\"},{\"id\":\"1748\"}],\"title\":{\"id\":\"1810\"},\"toolbar\":{\"id\":\"1737\"},\"x_range\":{\"id\":\"1720\"},\"x_scale\":{\"id\":\"1724\"},\"y_range\":{\"id\":\"1722\"},\"y_scale\":{\"id\":\"1726\"}},\"id\":\"1719\",\"subtype\":\"Figure\",\"type\":\"Plot\"},{\"attributes\":{\"active_drag\":\"auto\",\"active_inspect\":\"auto\",\"active_multi\":null,\"active_scroll\":\"auto\",\"active_tap\":\"auto\",\"tools\":[{\"id\":\"1718\"},{\"id\":\"1736\"}]},\"id\":\"1737\",\"type\":\"Toolbar\"},{\"attributes\":{\"data\":{\"desc\":[\"SRR5616906\",\"SRR5616907\",\"SRR5616908\",\"SRR5616909\",\"SRR5616910\",\"SRR5616911\",\"SRR5616912\",\"SRR5616913\",\"SRR5616914\",\"SRR5616915\",\"SRR5616916\",\"SRR5616917\",\"SRR5616918\",\"SRR5616919\",\"SRR5616920\",\"SRR5616921\",\"SRR5616922\",\"SRR5616923\",\"SRR5616924\"],\"x\":{\"__ndarray__\":\"oIYwj4Lmvz6Al8cXOirhPjhyXk8P3c2+qDVhUnb4/T4orsFsn3ziviflRIi6Xf4+0q6AxVWP4b51g4kd3y74PgjiR4yVCtg+7esjcPtV6r6tEXa+4nrivoJekzmJtvI+VtIm5DP76D595N8VGSTIPnJl6kPxIQQ/n6faArej7D7bvGnCqS3HPnB1FUq/tKq+KxvMgNwq8D4=\",\"dtype\":\"float64\",\"order\":\"little\",\"shape\":[19]},\"y\":{\"__ndarray__\":\"+m0X56G8Wr47MzKamjHAPjgCZjkNFtS+EPWzi/i0wT4j/l335ODCPmkFRmqJZ9w+MxGmm6G8x77XBnOL0OLAPkqIg9PA4ra+Os4LMiOAsD6cb8SI4yXBvr/ofTTnJ9a+sftZjCYyzr728SKoIpHLPtDMlTUDdsA+VbTSlsvl1r6PAu1cpcTFPjis1oGt0Wu+ilmZZTNs0L4=\",\"dtype\":\"float64\",\"order\":\"little\",\"shape\":[19]}},\"selected\":{\"id\":\"1819\"},\"selection_policy\":{\"id\":\"1818\"}},\"id\":\"1717\",\"type\":\"ColumnDataSource\"},{\"attributes\":{},\"id\":\"1818\",\"type\":\"UnionRenderers\"},{\"attributes\":{\"callback\":null,\"tooltips\":[[\"index\",\"$index\"],[\"desc\",\"@desc\"]]},\"id\":\"1718\",\"type\":\"HoverTool\"},{\"attributes\":{\"fill_color\":{\"value\":\"black\"},\"size\":{\"units\":\"screen\",\"value\":14},\"x\":{\"field\":\"x\"},\"y\":{\"field\":\"y\"}},\"id\":\"1741\",\"type\":\"Circle\"},{\"attributes\":{},\"id\":\"1817\",\"type\":\"Selection\"},{\"attributes\":{\"fill_alpha\":{\"value\":0.1},\"fill_color\":{\"value\":\"black\"},\"line_alpha\":{\"value\":0.1},\"size\":{\"units\":\"screen\",\"value\":14},\"x\":{\"field\":\"x\"},\"y\":{\"field\":\"y\"}},\"id\":\"1742\",\"type\":\"Circle\"},{\"attributes\":{},\"id\":\"1819\",\"type\":\"Selection\"},{\"attributes\":{},\"id\":\"1720\",\"type\":\"DataRange1d\"},{\"attributes\":{\"data_source\":{\"id\":\"1716\"},\"glyph\":{\"id\":\"1741\"},\"hover_glyph\":null,\"muted_glyph\":null,\"nonselection_glyph\":{\"id\":\"1742\"},\"selection_glyph\":null,\"view\":{\"id\":\"1744\"}},\"id\":\"1743\",\"type\":\"GlyphRenderer\"},{\"attributes\":{},\"id\":\"1722\",\"type\":\"DataRange1d\"},{\"attributes\":{\"source\":{\"id\":\"1716\"}},\"id\":\"1744\",\"type\":\"CDSView\"},{\"attributes\":{},\"id\":\"1724\",\"type\":\"LinearScale\"},{\"attributes\":{},\"id\":\"1726\",\"type\":\"LinearScale\"},{\"attributes\":{\"fill_color\":{\"value\":\"red\"},\"line_color\":{\"value\":\"red\"},\"size\":{\"units\":\"screen\",\"value\":16},\"x\":{\"field\":\"x\"},\"y\":{\"field\":\"y\"}},\"id\":\"1746\",\"type\":\"Triangle\"},{\"attributes\":{\"formatter\":{\"id\":\"1812\"},\"major_label_text_color\":\"white\",\"ticker\":{\"id\":\"1729\"}},\"id\":\"1728\",\"type\":\"LinearAxis\"},{\"attributes\":{\"data\":{\"desc\":[\"SRR5616889\",\"SRR5616890\",\"SRR5616891\",\"SRR5616892\",\"SRR5616893\",\"SRR5616894\",\"SRR5616895\",\"SRR5616896\",\"SRR5616897\",\"SRR5616898\",\"SRR5616899\",\"SRR5616900\",\"SRR5616901\",\"SRR5616902\",\"SRR5616903\",\"SRR5616904\",\"SRR5616905\"],\"x\":{\"__ndarray__\":\"Gn9lsaXg8b4l70izKXPYvknFhm/6OeC+OzOdjjgb6j4fpii85zDrvkQi816/uOu+heJcTuqd3j5khJZYOkT1vkIh0RooMd0++iV9bOGU4r6FnaXU/lD3viR20bnYG9O+UodB3OIz8L7KUrTsTID7vjaoVKCwUrO+I2K3tliC0b4iAqX3DXz4vg==\",\"dtype\":\"float64\",\"order\":\"little\",\"shape\":[17]},\"y\":{\"__ndarray__\":\"kAofHitGsL52s7u7vxPFvgHOzaE0mdu+cQ986Ufdsb4Cmtql2VPJPiU0bwG4hN4+qi7VqWmMnT67pPa3mOLDvsn3KsSQ8rm+YSgPpjS8sL51JgyMjgfIPuos0hnvE+A+bLfG/D9h4D7vxU3Ndr3Kvs6InxBZ4tm+gBIzAFI3uj7jpFUlayuNPg==\",\"dtype\":\"float64\",\"order\":\"little\",\"shape\":[17]}},\"selected\":{\"id\":\"1817\"},\"selection_policy\":{\"id\":\"1816\"}},\"id\":\"1716\",\"type\":\"ColumnDataSource\"},{\"attributes\":{\"fill_alpha\":{\"value\":0.1},\"fill_color\":{\"value\":\"red\"},\"line_alpha\":{\"value\":0.1},\"line_color\":{\"value\":\"red\"},\"size\":{\"units\":\"screen\",\"value\":16},\"x\":{\"field\":\"x\"},\"y\":{\"field\":\"y\"}},\"id\":\"1747\",\"type\":\"Triangle\"},{\"attributes\":{},\"id\":\"1729\",\"type\":\"BasicTicker\"},{\"attributes\":{\"data_source\":{\"id\":\"1717\"},\"glyph\":{\"id\":\"1746\"},\"hover_glyph\":null,\"muted_glyph\":null,\"nonselection_glyph\":{\"id\":\"1747\"},\"selection_glyph\":null,\"view\":{\"id\":\"1749\"}},\"id\":\"1748\",\"type\":\"GlyphRenderer\"},{\"attributes\":{\"axis\":{\"id\":\"1728\"},\"ticker\":null},\"id\":\"1731\",\"type\":\"Grid\"},{\"attributes\":{\"source\":{\"id\":\"1717\"}},\"id\":\"1749\",\"type\":\"CDSView\"},{\"attributes\":{\"formatter\":{\"id\":\"1814\"},\"major_label_text_color\":\"white\",\"ticker\":{\"id\":\"1733\"}},\"id\":\"1732\",\"type\":\"LinearAxis\"},{\"attributes\":{\"text\":\"\"},\"id\":\"1810\",\"type\":\"Title\"},{\"attributes\":{},\"id\":\"1733\",\"type\":\"BasicTicker\"},{\"attributes\":{},\"id\":\"1812\",\"type\":\"BasicTickFormatter\"},{\"attributes\":{\"axis\":{\"id\":\"1732\"},\"dimension\":1,\"ticker\":null},\"id\":\"1735\",\"type\":\"Grid\"},{\"attributes\":{},\"id\":\"1814\",\"type\":\"BasicTickFormatter\"},{\"attributes\":{},\"id\":\"1816\",\"type\":\"UnionRenderers\"},{\"attributes\":{},\"id\":\"1736\",\"type\":\"SaveTool\"}],\"root_ids\":[\"1719\"]},\"title\":\"Bokeh Application\",\"version\":\"2.2.3\"}};\n",
       "  var render_items = [{\"docid\":\"5ebeae31-63d0-49d7-b78f-0f7af1ee3920\",\"root_ids\":[\"1719\"],\"roots\":{\"1719\":\"fa9e668c-dc6d-4fa2-bfbe-94064784017b\"}}];\n",
       "  root.Bokeh.embed.embed_items_notebook(docs_json, render_items);\n",
       "\n",
       "  }\n",
       "  if (root.Bokeh !== undefined) {\n",
       "    embed_document(root);\n",
       "  } else {\n",
       "    var attempts = 0;\n",
       "    var timer = setInterval(function(root) {\n",
       "      if (root.Bokeh !== undefined) {\n",
       "        clearInterval(timer);\n",
       "        embed_document(root);\n",
       "      } else {\n",
       "        attempts++;\n",
       "        if (attempts > 100) {\n",
       "          clearInterval(timer);\n",
       "          console.log(\"Bokeh: ERROR: Unable to run BokehJS code because BokehJS library is missing\");\n",
       "        }\n",
       "      }\n",
       "    }, 10, root)\n",
       "  }\n",
       "})(window);"
      ],
      "application/vnd.bokehjs_exec.v0+json": ""
     },
     "metadata": {
      "application/vnd.bokehjs_exec.v0+json": {
       "id": "1719"
      }
     },
     "output_type": "display_data"
    }
   ],
   "source": [
    "# q = 7\n",
    "draw_PCA(dfs[6])"
   ]
  },
  {
   "cell_type": "code",
   "execution_count": 12,
   "metadata": {},
   "outputs": [
    {
     "data": {
      "text/html": [
       "\n",
       "\n",
       "\n",
       "\n",
       "\n",
       "\n",
       "  <div class=\"bk-root\" id=\"b08c2abe-6c5f-4ad6-8c91-382637480b6b\" data-root-id=\"1873\"></div>\n"
      ]
     },
     "metadata": {},
     "output_type": "display_data"
    },
    {
     "data": {
      "application/javascript": [
       "(function(root) {\n",
       "  function embed_document(root) {\n",
       "    \n",
       "  var docs_json = {\"2c00ae8e-a0cd-4281-bf9e-b8df75d17822\":{\"roots\":{\"references\":[{\"attributes\":{\"below\":[{\"id\":\"1882\"}],\"center\":[{\"id\":\"1885\"},{\"id\":\"1889\"}],\"left\":[{\"id\":\"1886\"}],\"plot_height\":500,\"plot_width\":550,\"renderers\":[{\"id\":\"1897\"},{\"id\":\"1902\"}],\"title\":{\"id\":\"1974\"},\"toolbar\":{\"id\":\"1891\"},\"x_range\":{\"id\":\"1874\"},\"x_scale\":{\"id\":\"1878\"},\"y_range\":{\"id\":\"1876\"},\"y_scale\":{\"id\":\"1880\"}},\"id\":\"1873\",\"subtype\":\"Figure\",\"type\":\"Plot\"},{\"attributes\":{\"formatter\":{\"id\":\"1978\"},\"major_label_text_color\":\"white\",\"ticker\":{\"id\":\"1887\"}},\"id\":\"1886\",\"type\":\"LinearAxis\"},{\"attributes\":{},\"id\":\"1976\",\"type\":\"BasicTickFormatter\"},{\"attributes\":{},\"id\":\"1887\",\"type\":\"BasicTicker\"},{\"attributes\":{\"axis\":{\"id\":\"1886\"},\"dimension\":1,\"ticker\":null},\"id\":\"1889\",\"type\":\"Grid\"},{\"attributes\":{},\"id\":\"1980\",\"type\":\"UnionRenderers\"},{\"attributes\":{\"data\":{\"desc\":[\"SRR5616889\",\"SRR5616890\",\"SRR5616891\",\"SRR5616892\",\"SRR5616893\",\"SRR5616894\",\"SRR5616895\",\"SRR5616896\",\"SRR5616897\",\"SRR5616898\",\"SRR5616899\",\"SRR5616900\",\"SRR5616901\",\"SRR5616902\",\"SRR5616903\",\"SRR5616904\",\"SRR5616905\"],\"x\":{\"__ndarray__\":\"A7tKsXC61L44Ec2NspjSvnv6bvqjhNO+vUa21leD0z6v4rNUIWnQviogU7hg79S+1VAj5JueyD7U06ZJkSPdvkGVsQ/D+MM+BFCVpFL+vb5fTcfR6MDcvtwkpgsRl7++N05wJaSX2r4UnD+QrlffvkmEP1CCBKI+D7GjVZ4Xv741FvXsjPjfvg==\",\"dtype\":\"float64\",\"order\":\"little\",\"shape\":[17]},\"y\":{\"__ndarray__\":\"/kvz1w4foD539JYdCDO5vp25rPZ3P8a+1C/7C01dwL6PkrnXrijBPrFl86s9Lrs+y5UnPkTBrj5CJdYHJ82Jvv6zZ3VUC5Y+D0sh3uSdcr5MGwlWhEalPgO0BDKZ0MY+/vxos1lesj5aNT8ewMCAPud/3KZ3pcG+tgO7sph9sD5eA7Rf8Metvg==\",\"dtype\":\"float64\",\"order\":\"little\",\"shape\":[17]}},\"selected\":{\"id\":\"1981\"},\"selection_policy\":{\"id\":\"1980\"}},\"id\":\"1870\",\"type\":\"ColumnDataSource\"},{\"attributes\":{},\"id\":\"1890\",\"type\":\"SaveTool\"},{\"attributes\":{},\"id\":\"1981\",\"type\":\"Selection\"},{\"attributes\":{\"active_drag\":\"auto\",\"active_inspect\":\"auto\",\"active_multi\":null,\"active_scroll\":\"auto\",\"active_tap\":\"auto\",\"tools\":[{\"id\":\"1872\"},{\"id\":\"1890\"}]},\"id\":\"1891\",\"type\":\"Toolbar\"},{\"attributes\":{\"data\":{\"desc\":[\"SRR5616906\",\"SRR5616907\",\"SRR5616908\",\"SRR5616909\",\"SRR5616910\",\"SRR5616911\",\"SRR5616912\",\"SRR5616913\",\"SRR5616914\",\"SRR5616915\",\"SRR5616916\",\"SRR5616917\",\"SRR5616918\",\"SRR5616919\",\"SRR5616920\",\"SRR5616921\",\"SRR5616922\",\"SRR5616923\",\"SRR5616924\"],\"x\":{\"__ndarray__\":\"6kIU5RUfwj4YsRV7L6/MPo+bsG4485i+A3uhbkI05D6eL+K01QHRviHw5tD81N8+CdsWQxCPu753LkdHpHrZPqIaiz5AF8s+678/E3xA0L4vB9GjKbfFvgQBU3W2Qtc+xWDgZv55yD5yoPDPNFzEPuCLN882Uug+w3BK8IFkzj5251gziJR3PiEH4XC0Tbo+wykKdAOI2D4=\",\"dtype\":\"float64\",\"order\":\"little\",\"shape\":[19]},\"y\":{\"__ndarray__\":\"CXzRcHAGnj61540ume2AvgpbiaVQx6O+KktLE/aunr6foimCrUNmvv4Niwhu4cc+KSwScDZgi773MlghPfesPk1dE4FtU4++tto31Z2Cn77YYvsM55+pvhrc+iF7/72+yrDh4aPBs74i5bLPORW0PrG2xfuuBrA+TjTNpygomr4E3omYOTaTPlBh5qWUyqO+3dvUuPC+tr4=\",\"dtype\":\"float64\",\"order\":\"little\",\"shape\":[19]}},\"selected\":{\"id\":\"1983\"},\"selection_policy\":{\"id\":\"1982\"}},\"id\":\"1871\",\"type\":\"ColumnDataSource\"},{\"attributes\":{\"callback\":null,\"tooltips\":[[\"index\",\"$index\"],[\"desc\",\"@desc\"]]},\"id\":\"1872\",\"type\":\"HoverTool\"},{\"attributes\":{},\"id\":\"1978\",\"type\":\"BasicTickFormatter\"},{\"attributes\":{},\"id\":\"1983\",\"type\":\"Selection\"},{\"attributes\":{\"fill_color\":{\"value\":\"black\"},\"size\":{\"units\":\"screen\",\"value\":14},\"x\":{\"field\":\"x\"},\"y\":{\"field\":\"y\"}},\"id\":\"1895\",\"type\":\"Circle\"},{\"attributes\":{\"fill_alpha\":{\"value\":0.1},\"fill_color\":{\"value\":\"black\"},\"line_alpha\":{\"value\":0.1},\"size\":{\"units\":\"screen\",\"value\":14},\"x\":{\"field\":\"x\"},\"y\":{\"field\":\"y\"}},\"id\":\"1896\",\"type\":\"Circle\"},{\"attributes\":{},\"id\":\"1874\",\"type\":\"DataRange1d\"},{\"attributes\":{\"data_source\":{\"id\":\"1870\"},\"glyph\":{\"id\":\"1895\"},\"hover_glyph\":null,\"muted_glyph\":null,\"nonselection_glyph\":{\"id\":\"1896\"},\"selection_glyph\":null,\"view\":{\"id\":\"1898\"}},\"id\":\"1897\",\"type\":\"GlyphRenderer\"},{\"attributes\":{},\"id\":\"1876\",\"type\":\"DataRange1d\"},{\"attributes\":{\"text\":\"\"},\"id\":\"1974\",\"type\":\"Title\"},{\"attributes\":{\"source\":{\"id\":\"1870\"}},\"id\":\"1898\",\"type\":\"CDSView\"},{\"attributes\":{},\"id\":\"1878\",\"type\":\"LinearScale\"},{\"attributes\":{\"data_source\":{\"id\":\"1871\"},\"glyph\":{\"id\":\"1900\"},\"hover_glyph\":null,\"muted_glyph\":null,\"nonselection_glyph\":{\"id\":\"1901\"},\"selection_glyph\":null,\"view\":{\"id\":\"1903\"}},\"id\":\"1902\",\"type\":\"GlyphRenderer\"},{\"attributes\":{},\"id\":\"1880\",\"type\":\"LinearScale\"},{\"attributes\":{\"source\":{\"id\":\"1871\"}},\"id\":\"1903\",\"type\":\"CDSView\"},{\"attributes\":{\"fill_color\":{\"value\":\"red\"},\"line_color\":{\"value\":\"red\"},\"size\":{\"units\":\"screen\",\"value\":16},\"x\":{\"field\":\"x\"},\"y\":{\"field\":\"y\"}},\"id\":\"1900\",\"type\":\"Triangle\"},{\"attributes\":{\"formatter\":{\"id\":\"1976\"},\"major_label_text_color\":\"white\",\"ticker\":{\"id\":\"1883\"}},\"id\":\"1882\",\"type\":\"LinearAxis\"},{\"attributes\":{\"fill_alpha\":{\"value\":0.1},\"fill_color\":{\"value\":\"red\"},\"line_alpha\":{\"value\":0.1},\"line_color\":{\"value\":\"red\"},\"size\":{\"units\":\"screen\",\"value\":16},\"x\":{\"field\":\"x\"},\"y\":{\"field\":\"y\"}},\"id\":\"1901\",\"type\":\"Triangle\"},{\"attributes\":{},\"id\":\"1982\",\"type\":\"UnionRenderers\"},{\"attributes\":{},\"id\":\"1883\",\"type\":\"BasicTicker\"},{\"attributes\":{\"axis\":{\"id\":\"1882\"},\"ticker\":null},\"id\":\"1885\",\"type\":\"Grid\"}],\"root_ids\":[\"1873\"]},\"title\":\"Bokeh Application\",\"version\":\"2.2.3\"}};\n",
       "  var render_items = [{\"docid\":\"2c00ae8e-a0cd-4281-bf9e-b8df75d17822\",\"root_ids\":[\"1873\"],\"roots\":{\"1873\":\"b08c2abe-6c5f-4ad6-8c91-382637480b6b\"}}];\n",
       "  root.Bokeh.embed.embed_items_notebook(docs_json, render_items);\n",
       "\n",
       "  }\n",
       "  if (root.Bokeh !== undefined) {\n",
       "    embed_document(root);\n",
       "  } else {\n",
       "    var attempts = 0;\n",
       "    var timer = setInterval(function(root) {\n",
       "      if (root.Bokeh !== undefined) {\n",
       "        clearInterval(timer);\n",
       "        embed_document(root);\n",
       "      } else {\n",
       "        attempts++;\n",
       "        if (attempts > 100) {\n",
       "          clearInterval(timer);\n",
       "          console.log(\"Bokeh: ERROR: Unable to run BokehJS code because BokehJS library is missing\");\n",
       "        }\n",
       "      }\n",
       "    }, 10, root)\n",
       "  }\n",
       "})(window);"
      ],
      "application/vnd.bokehjs_exec.v0+json": ""
     },
     "metadata": {
      "application/vnd.bokehjs_exec.v0+json": {
       "id": "1873"
      }
     },
     "output_type": "display_data"
    }
   ],
   "source": [
    "# q = 8\n",
    "draw_PCA(dfs[7])"
   ]
  },
  {
   "cell_type": "code",
   "execution_count": 13,
   "metadata": {},
   "outputs": [
    {
     "data": {
      "text/html": [
       "\n",
       "\n",
       "\n",
       "\n",
       "\n",
       "\n",
       "  <div class=\"bk-root\" id=\"15a4a330-4bec-45e8-aeb4-06d8e8423dfe\" data-root-id=\"2037\"></div>\n"
      ]
     },
     "metadata": {},
     "output_type": "display_data"
    },
    {
     "data": {
      "application/javascript": [
       "(function(root) {\n",
       "  function embed_document(root) {\n",
       "    \n",
       "  var docs_json = {\"b7376d7c-ddd0-4659-a95c-7f8666e215c8\":{\"roots\":{\"references\":[{\"attributes\":{\"below\":[{\"id\":\"2046\"}],\"center\":[{\"id\":\"2049\"},{\"id\":\"2053\"}],\"left\":[{\"id\":\"2050\"}],\"plot_height\":500,\"plot_width\":550,\"renderers\":[{\"id\":\"2061\"},{\"id\":\"2066\"}],\"title\":{\"id\":\"2148\"},\"toolbar\":{\"id\":\"2055\"},\"x_range\":{\"id\":\"2038\"},\"x_scale\":{\"id\":\"2042\"},\"y_range\":{\"id\":\"2040\"},\"y_scale\":{\"id\":\"2044\"}},\"id\":\"2037\",\"subtype\":\"Figure\",\"type\":\"Plot\"},{\"attributes\":{},\"id\":\"2040\",\"type\":\"DataRange1d\"},{\"attributes\":{},\"id\":\"2038\",\"type\":\"DataRange1d\"},{\"attributes\":{\"fill_color\":{\"value\":\"red\"},\"line_color\":{\"value\":\"red\"},\"size\":{\"units\":\"screen\",\"value\":16},\"x\":{\"field\":\"x\"},\"y\":{\"field\":\"y\"}},\"id\":\"2064\",\"type\":\"Triangle\"},{\"attributes\":{},\"id\":\"2042\",\"type\":\"LinearScale\"},{\"attributes\":{\"fill_alpha\":{\"value\":0.1},\"fill_color\":{\"value\":\"red\"},\"line_alpha\":{\"value\":0.1},\"line_color\":{\"value\":\"red\"},\"size\":{\"units\":\"screen\",\"value\":16},\"x\":{\"field\":\"x\"},\"y\":{\"field\":\"y\"}},\"id\":\"2065\",\"type\":\"Triangle\"},{\"attributes\":{},\"id\":\"2044\",\"type\":\"LinearScale\"},{\"attributes\":{\"data_source\":{\"id\":\"2035\"},\"glyph\":{\"id\":\"2064\"},\"hover_glyph\":null,\"muted_glyph\":null,\"nonselection_glyph\":{\"id\":\"2065\"},\"selection_glyph\":null,\"view\":{\"id\":\"2067\"}},\"id\":\"2066\",\"type\":\"GlyphRenderer\"},{\"attributes\":{},\"id\":\"2051\",\"type\":\"BasicTicker\"},{\"attributes\":{\"source\":{\"id\":\"2035\"}},\"id\":\"2067\",\"type\":\"CDSView\"},{\"attributes\":{},\"id\":\"2047\",\"type\":\"BasicTicker\"},{\"attributes\":{},\"id\":\"2152\",\"type\":\"BasicTickFormatter\"},{\"attributes\":{\"text\":\"\"},\"id\":\"2148\",\"type\":\"Title\"},{\"attributes\":{\"axis\":{\"id\":\"2050\"},\"dimension\":1,\"ticker\":null},\"id\":\"2053\",\"type\":\"Grid\"},{\"attributes\":{\"callback\":null,\"tooltips\":[[\"index\",\"$index\"],[\"desc\",\"@desc\"]]},\"id\":\"2036\",\"type\":\"HoverTool\"},{\"attributes\":{},\"id\":\"2150\",\"type\":\"BasicTickFormatter\"},{\"attributes\":{\"data\":{\"desc\":[\"SRR5616906\",\"SRR5616907\",\"SRR5616908\",\"SRR5616909\",\"SRR5616910\",\"SRR5616911\",\"SRR5616912\",\"SRR5616913\",\"SRR5616914\",\"SRR5616915\",\"SRR5616916\",\"SRR5616917\",\"SRR5616918\",\"SRR5616919\",\"SRR5616920\",\"SRR5616921\",\"SRR5616922\",\"SRR5616923\",\"SRR5616924\"],\"x\":{\"__ndarray__\":\"f0tx3GgRgz4+FxM5r6WSPicDTJLso3++mR+cJkkPtz5vhCgxrYuKvkB3CbbacrY+msu9GyrulL7YLFK5HOCwPo0z9jAVcZ0+tHVIxc2ZmL7NX7Dc7DGWvnHwubBLL68+3E93fM2woT7bJNpWyMmTPnRiP5FLzrs+uDV9G0KfoT655arwdEGTPvGY4Jg0hoQ+BGAasASOqT4=\",\"dtype\":\"float64\",\"order\":\"little\",\"shape\":[19]},\"y\":{\"__ndarray__\":\"0J14s2rKgz5XrzJU1QaRPjUMU6fJ3Yg+eOOGl/vYJr4PILro3p9SPoTp67sFrIe+7GNGQoiZgT5NUJwWJ7N4vpNEM4WXNHE+KrCIPH+ucz4bgWbukvqOvk1gTMhVXoG+UiwBmEN+gL441CW36dpCPufLwDG2AUg+oe9YTnhBaT6/+pkBhkJyvsNq8zS6624+qQ2up2d5cj4=\",\"dtype\":\"float64\",\"order\":\"little\",\"shape\":[19]}},\"selected\":{\"id\":\"2157\"},\"selection_policy\":{\"id\":\"2156\"}},\"id\":\"2035\",\"type\":\"ColumnDataSource\"},{\"attributes\":{\"formatter\":{\"id\":\"2152\"},\"major_label_text_color\":\"white\",\"ticker\":{\"id\":\"2051\"}},\"id\":\"2050\",\"type\":\"LinearAxis\"},{\"attributes\":{},\"id\":\"2154\",\"type\":\"UnionRenderers\"},{\"attributes\":{\"axis\":{\"id\":\"2046\"},\"ticker\":null},\"id\":\"2049\",\"type\":\"Grid\"},{\"attributes\":{},\"id\":\"2054\",\"type\":\"SaveTool\"},{\"attributes\":{\"data\":{\"desc\":[\"SRR5616889\",\"SRR5616890\",\"SRR5616891\",\"SRR5616892\",\"SRR5616893\",\"SRR5616894\",\"SRR5616895\",\"SRR5616896\",\"SRR5616897\",\"SRR5616898\",\"SRR5616899\",\"SRR5616900\",\"SRR5616901\",\"SRR5616902\",\"SRR5616903\",\"SRR5616904\",\"SRR5616905\"],\"x\":{\"__ndarray__\":\"0BdPNK68sL4GC6OBxDeTvvkkxMikz6O+GtNZGtxrmD6ms39b0Wydvq+SzJRoVqa+X+Oc5NQVmD7G0vCIG/6vvvChzd8Lk5G+qwee9Gp0n77ue0TMT1OzvsjxVOqkg1G+5vvtwd/8p77gQ0qxceGzvrzdZONV+pK+aKxosQ7vgr55wobKcQmwvg==\",\"dtype\":\"float64\",\"order\":\"little\",\"shape\":[17]},\"y\":{\"__ndarray__\":\"SAPDMGlRTT7WQ5iiZEBlPgncx7QL5IK+aINZFOdKeT51tUp7lbecvt4sF+SjsYK+EyVbnGDoab5LyVsAZo2QviOM/fgFl58+7CGI08apiz7MvjcMfH43vsKPsfdbC5m+ZWcg7bIdjr5YYlJ/IfxfPv1ffprpr3E+ejtUb5hrlT486mcbsYeAPg==\",\"dtype\":\"float64\",\"order\":\"little\",\"shape\":[17]}},\"selected\":{\"id\":\"2155\"},\"selection_policy\":{\"id\":\"2154\"}},\"id\":\"2034\",\"type\":\"ColumnDataSource\"},{\"attributes\":{\"fill_color\":{\"value\":\"black\"},\"size\":{\"units\":\"screen\",\"value\":14},\"x\":{\"field\":\"x\"},\"y\":{\"field\":\"y\"}},\"id\":\"2059\",\"type\":\"Circle\"},{\"attributes\":{},\"id\":\"2157\",\"type\":\"Selection\"},{\"attributes\":{\"source\":{\"id\":\"2034\"}},\"id\":\"2062\",\"type\":\"CDSView\"},{\"attributes\":{\"data_source\":{\"id\":\"2034\"},\"glyph\":{\"id\":\"2059\"},\"hover_glyph\":null,\"muted_glyph\":null,\"nonselection_glyph\":{\"id\":\"2060\"},\"selection_glyph\":null,\"view\":{\"id\":\"2062\"}},\"id\":\"2061\",\"type\":\"GlyphRenderer\"},{\"attributes\":{},\"id\":\"2155\",\"type\":\"Selection\"},{\"attributes\":{},\"id\":\"2156\",\"type\":\"UnionRenderers\"},{\"attributes\":{\"fill_alpha\":{\"value\":0.1},\"fill_color\":{\"value\":\"black\"},\"line_alpha\":{\"value\":0.1},\"size\":{\"units\":\"screen\",\"value\":14},\"x\":{\"field\":\"x\"},\"y\":{\"field\":\"y\"}},\"id\":\"2060\",\"type\":\"Circle\"},{\"attributes\":{\"formatter\":{\"id\":\"2150\"},\"major_label_text_color\":\"white\",\"ticker\":{\"id\":\"2047\"}},\"id\":\"2046\",\"type\":\"LinearAxis\"},{\"attributes\":{\"active_drag\":\"auto\",\"active_inspect\":\"auto\",\"active_multi\":null,\"active_scroll\":\"auto\",\"active_tap\":\"auto\",\"tools\":[{\"id\":\"2036\"},{\"id\":\"2054\"}]},\"id\":\"2055\",\"type\":\"Toolbar\"}],\"root_ids\":[\"2037\"]},\"title\":\"Bokeh Application\",\"version\":\"2.2.3\"}};\n",
       "  var render_items = [{\"docid\":\"b7376d7c-ddd0-4659-a95c-7f8666e215c8\",\"root_ids\":[\"2037\"],\"roots\":{\"2037\":\"15a4a330-4bec-45e8-aeb4-06d8e8423dfe\"}}];\n",
       "  root.Bokeh.embed.embed_items_notebook(docs_json, render_items);\n",
       "\n",
       "  }\n",
       "  if (root.Bokeh !== undefined) {\n",
       "    embed_document(root);\n",
       "  } else {\n",
       "    var attempts = 0;\n",
       "    var timer = setInterval(function(root) {\n",
       "      if (root.Bokeh !== undefined) {\n",
       "        clearInterval(timer);\n",
       "        embed_document(root);\n",
       "      } else {\n",
       "        attempts++;\n",
       "        if (attempts > 100) {\n",
       "          clearInterval(timer);\n",
       "          console.log(\"Bokeh: ERROR: Unable to run BokehJS code because BokehJS library is missing\");\n",
       "        }\n",
       "      }\n",
       "    }, 10, root)\n",
       "  }\n",
       "})(window);"
      ],
      "application/vnd.bokehjs_exec.v0+json": ""
     },
     "metadata": {
      "application/vnd.bokehjs_exec.v0+json": {
       "id": "2037"
      }
     },
     "output_type": "display_data"
    }
   ],
   "source": [
    "# q = 9\n",
    "draw_PCA(dfs[8])"
   ]
  },
  {
   "cell_type": "code",
   "execution_count": 14,
   "metadata": {},
   "outputs": [
    {
     "data": {
      "text/html": [
       "\n",
       "\n",
       "\n",
       "\n",
       "\n",
       "\n",
       "  <div class=\"bk-root\" id=\"bd3f9e20-5293-450f-a505-d1f50d44ddcb\" data-root-id=\"2211\"></div>\n"
      ]
     },
     "metadata": {},
     "output_type": "display_data"
    },
    {
     "data": {
      "application/javascript": [
       "(function(root) {\n",
       "  function embed_document(root) {\n",
       "    \n",
       "  var docs_json = {\"be2fd175-facd-4e41-9fed-6958857faf95\":{\"roots\":{\"references\":[{\"attributes\":{\"below\":[{\"id\":\"2220\"}],\"center\":[{\"id\":\"2223\"},{\"id\":\"2227\"}],\"left\":[{\"id\":\"2224\"}],\"plot_height\":500,\"plot_width\":550,\"renderers\":[{\"id\":\"2235\"},{\"id\":\"2240\"}],\"title\":{\"id\":\"2332\"},\"toolbar\":{\"id\":\"2229\"},\"x_range\":{\"id\":\"2212\"},\"x_scale\":{\"id\":\"2216\"},\"y_range\":{\"id\":\"2214\"},\"y_scale\":{\"id\":\"2218\"}},\"id\":\"2211\",\"subtype\":\"Figure\",\"type\":\"Plot\"},{\"attributes\":{\"callback\":null,\"tooltips\":[[\"index\",\"$index\"],[\"desc\",\"@desc\"]]},\"id\":\"2210\",\"type\":\"HoverTool\"},{\"attributes\":{},\"id\":\"2228\",\"type\":\"SaveTool\"},{\"attributes\":{\"data\":{\"desc\":[\"SRR5616889\",\"SRR5616890\",\"SRR5616891\",\"SRR5616892\",\"SRR5616893\",\"SRR5616894\",\"SRR5616895\",\"SRR5616896\",\"SRR5616897\",\"SRR5616898\",\"SRR5616899\",\"SRR5616900\",\"SRR5616901\",\"SRR5616902\",\"SRR5616903\",\"SRR5616904\",\"SRR5616905\"],\"x\":{\"__ndarray__\":\"zLH6jdwFNz589FX1MUdfPkQL53xUG0Y+NI7fpnhhXL6s6//x7eIqvmuFPf9nTUo++iQLImIZR76sI7vv7eJgPgc4oSI41UE+aIMU0kZwXz4hRF5fr2xoPgENF9FnvVO+uwO4Ko7JUz4RqwiE4dxrPmQK9WfUFFE+XVl8aIJWQz7EAIVu4KtoPg==\",\"dtype\":\"float64\",\"order\":\"little\",\"shape\":[17]},\"y\":{\"__ndarray__\":\"v2LpooJq/T3dm4H9UkY1PlVYTpMcsju+bMKFXHr6J763FIqKHkomvuY0NGegABC+daecYCSvK77kBgNW3OM1vjl3VjsEglg+b+iTDMgVPr7XC/FXZUNIPv13FoyU/Q++gMFWLL2XS76tGmseH8/uPa11fxzYtBC+ojVf+PRsNT6FaGUBtw0xvg==\",\"dtype\":\"float64\",\"order\":\"little\",\"shape\":[17]}},\"selected\":{\"id\":\"2339\"},\"selection_policy\":{\"id\":\"2338\"}},\"id\":\"2208\",\"type\":\"ColumnDataSource\"},{\"attributes\":{\"text\":\"\"},\"id\":\"2332\",\"type\":\"Title\"},{\"attributes\":{},\"id\":\"2336\",\"type\":\"BasicTickFormatter\"},{\"attributes\":{\"active_drag\":\"auto\",\"active_inspect\":\"auto\",\"active_multi\":null,\"active_scroll\":\"auto\",\"active_tap\":\"auto\",\"tools\":[{\"id\":\"2210\"},{\"id\":\"2228\"}]},\"id\":\"2229\",\"type\":\"Toolbar\"},{\"attributes\":{\"fill_alpha\":{\"value\":0.1},\"fill_color\":{\"value\":\"red\"},\"line_alpha\":{\"value\":0.1},\"line_color\":{\"value\":\"red\"},\"size\":{\"units\":\"screen\",\"value\":16},\"x\":{\"field\":\"x\"},\"y\":{\"field\":\"y\"}},\"id\":\"2239\",\"type\":\"Triangle\"},{\"attributes\":{\"source\":{\"id\":\"2208\"}},\"id\":\"2236\",\"type\":\"CDSView\"},{\"attributes\":{\"source\":{\"id\":\"2209\"}},\"id\":\"2241\",\"type\":\"CDSView\"},{\"attributes\":{\"data_source\":{\"id\":\"2208\"},\"glyph\":{\"id\":\"2233\"},\"hover_glyph\":null,\"muted_glyph\":null,\"nonselection_glyph\":{\"id\":\"2234\"},\"selection_glyph\":null,\"view\":{\"id\":\"2236\"}},\"id\":\"2235\",\"type\":\"GlyphRenderer\"},{\"attributes\":{\"data_source\":{\"id\":\"2209\"},\"glyph\":{\"id\":\"2238\"},\"hover_glyph\":null,\"muted_glyph\":null,\"nonselection_glyph\":{\"id\":\"2239\"},\"selection_glyph\":null,\"view\":{\"id\":\"2241\"}},\"id\":\"2240\",\"type\":\"GlyphRenderer\"},{\"attributes\":{\"fill_alpha\":{\"value\":0.1},\"fill_color\":{\"value\":\"black\"},\"line_alpha\":{\"value\":0.1},\"size\":{\"units\":\"screen\",\"value\":14},\"x\":{\"field\":\"x\"},\"y\":{\"field\":\"y\"}},\"id\":\"2234\",\"type\":\"Circle\"},{\"attributes\":{},\"id\":\"2212\",\"type\":\"DataRange1d\"},{\"attributes\":{},\"id\":\"2334\",\"type\":\"BasicTickFormatter\"},{\"attributes\":{},\"id\":\"2216\",\"type\":\"LinearScale\"},{\"attributes\":{},\"id\":\"2338\",\"type\":\"UnionRenderers\"},{\"attributes\":{},\"id\":\"2214\",\"type\":\"DataRange1d\"},{\"attributes\":{\"fill_color\":{\"value\":\"red\"},\"line_color\":{\"value\":\"red\"},\"size\":{\"units\":\"screen\",\"value\":16},\"x\":{\"field\":\"x\"},\"y\":{\"field\":\"y\"}},\"id\":\"2238\",\"type\":\"Triangle\"},{\"attributes\":{\"data\":{\"desc\":[\"SRR5616906\",\"SRR5616907\",\"SRR5616908\",\"SRR5616909\",\"SRR5616910\",\"SRR5616911\",\"SRR5616912\",\"SRR5616913\",\"SRR5616914\",\"SRR5616915\",\"SRR5616916\",\"SRR5616917\",\"SRR5616918\",\"SRR5616919\",\"SRR5616920\",\"SRR5616921\",\"SRR5616922\",\"SRR5616923\",\"SRR5616924\"],\"x\":{\"__ndarray__\":\"xnvQ3eoQR75sg0clUZpHvmBaKlzm2kC+X3gOgdkfYb7gB+k8wlTLPRYeoOa2N2C+YodSegD/RT7O4qA8MW5evqMW/Adcn0S+jPcmVX7VQT7WiK29L9UqPqbWOsV8XF2+nLWJV8NZT74Ott9h2W1Tvu2uoX2ViWG+fPriaHKAUb4t0/w94k8ZPobSziRU+Uu+8YCvmFp6W74=\",\"dtype\":\"float64\",\"order\":\"little\",\"shape\":[19]},\"y\":{\"__ndarray__\":\"zTf7jUxCKT73yCBuTTE9PiuC+AU+bRG+JSRcYBAyE76X7Odd2X0APrKQyIjlnBQ+Gk6tfBOMNL5J631+OeAfPvp1ep8mDy2+31ZS0yPxGj4/HKBcBoPUPZ6Wc70khiI+YrFmZRkJEb7V4t9YSpgYvvx5tFhG9AQ+fppoDmYwIz6ChjABPdYovu7wQD9IgBQ+fdI/Vzo0Lb4=\",\"dtype\":\"float64\",\"order\":\"little\",\"shape\":[19]}},\"selected\":{\"id\":\"2341\"},\"selection_policy\":{\"id\":\"2340\"}},\"id\":\"2209\",\"type\":\"ColumnDataSource\"},{\"attributes\":{},\"id\":\"2339\",\"type\":\"Selection\"},{\"attributes\":{},\"id\":\"2218\",\"type\":\"LinearScale\"},{\"attributes\":{\"axis\":{\"id\":\"2220\"},\"ticker\":null},\"id\":\"2223\",\"type\":\"Grid\"},{\"attributes\":{},\"id\":\"2340\",\"type\":\"UnionRenderers\"},{\"attributes\":{},\"id\":\"2221\",\"type\":\"BasicTicker\"},{\"attributes\":{},\"id\":\"2341\",\"type\":\"Selection\"},{\"attributes\":{\"formatter\":{\"id\":\"2334\"},\"major_label_text_color\":\"white\",\"ticker\":{\"id\":\"2221\"}},\"id\":\"2220\",\"type\":\"LinearAxis\"},{\"attributes\":{\"formatter\":{\"id\":\"2336\"},\"major_label_text_color\":\"white\",\"ticker\":{\"id\":\"2225\"}},\"id\":\"2224\",\"type\":\"LinearAxis\"},{\"attributes\":{\"fill_color\":{\"value\":\"black\"},\"size\":{\"units\":\"screen\",\"value\":14},\"x\":{\"field\":\"x\"},\"y\":{\"field\":\"y\"}},\"id\":\"2233\",\"type\":\"Circle\"},{\"attributes\":{\"axis\":{\"id\":\"2224\"},\"dimension\":1,\"ticker\":null},\"id\":\"2227\",\"type\":\"Grid\"},{\"attributes\":{},\"id\":\"2225\",\"type\":\"BasicTicker\"}],\"root_ids\":[\"2211\"]},\"title\":\"Bokeh Application\",\"version\":\"2.2.3\"}};\n",
       "  var render_items = [{\"docid\":\"be2fd175-facd-4e41-9fed-6958857faf95\",\"root_ids\":[\"2211\"],\"roots\":{\"2211\":\"bd3f9e20-5293-450f-a505-d1f50d44ddcb\"}}];\n",
       "  root.Bokeh.embed.embed_items_notebook(docs_json, render_items);\n",
       "\n",
       "  }\n",
       "  if (root.Bokeh !== undefined) {\n",
       "    embed_document(root);\n",
       "  } else {\n",
       "    var attempts = 0;\n",
       "    var timer = setInterval(function(root) {\n",
       "      if (root.Bokeh !== undefined) {\n",
       "        clearInterval(timer);\n",
       "        embed_document(root);\n",
       "      } else {\n",
       "        attempts++;\n",
       "        if (attempts > 100) {\n",
       "          clearInterval(timer);\n",
       "          console.log(\"Bokeh: ERROR: Unable to run BokehJS code because BokehJS library is missing\");\n",
       "        }\n",
       "      }\n",
       "    }, 10, root)\n",
       "  }\n",
       "})(window);"
      ],
      "application/vnd.bokehjs_exec.v0+json": ""
     },
     "metadata": {
      "application/vnd.bokehjs_exec.v0+json": {
       "id": "2211"
      }
     },
     "output_type": "display_data"
    }
   ],
   "source": [
    "# q = 10\n",
    "draw_PCA(dfs[9])"
   ]
  },
  {
   "cell_type": "code",
   "execution_count": 15,
   "metadata": {},
   "outputs": [
    {
     "data": {
      "text/html": [
       "\n",
       "\n",
       "\n",
       "\n",
       "\n",
       "\n",
       "  <div class=\"bk-root\" id=\"b35b0ad7-4b2e-4d70-82c2-5c5d1af739e3\" data-root-id=\"2395\"></div>\n"
      ]
     },
     "metadata": {},
     "output_type": "display_data"
    },
    {
     "data": {
      "application/javascript": [
       "(function(root) {\n",
       "  function embed_document(root) {\n",
       "    \n",
       "  var docs_json = {\"db257d85-a199-43e9-805e-711a51d8b982\":{\"roots\":{\"references\":[{\"attributes\":{\"below\":[{\"id\":\"2404\"}],\"center\":[{\"id\":\"2407\"},{\"id\":\"2411\"}],\"left\":[{\"id\":\"2408\"}],\"plot_height\":500,\"plot_width\":550,\"renderers\":[{\"id\":\"2419\"},{\"id\":\"2424\"}],\"title\":{\"id\":\"2526\"},\"toolbar\":{\"id\":\"2413\"},\"x_range\":{\"id\":\"2396\"},\"x_scale\":{\"id\":\"2400\"},\"y_range\":{\"id\":\"2398\"},\"y_scale\":{\"id\":\"2402\"}},\"id\":\"2395\",\"subtype\":\"Figure\",\"type\":\"Plot\"},{\"attributes\":{\"formatter\":{\"id\":\"2528\"},\"major_label_text_color\":\"white\",\"ticker\":{\"id\":\"2405\"}},\"id\":\"2404\",\"type\":\"LinearAxis\"},{\"attributes\":{},\"id\":\"2534\",\"type\":\"UnionRenderers\"},{\"attributes\":{\"axis\":{\"id\":\"2404\"},\"ticker\":null},\"id\":\"2407\",\"type\":\"Grid\"},{\"attributes\":{},\"id\":\"2396\",\"type\":\"DataRange1d\"},{\"attributes\":{},\"id\":\"2535\",\"type\":\"Selection\"},{\"attributes\":{\"formatter\":{\"id\":\"2530\"},\"major_label_text_color\":\"white\",\"ticker\":{\"id\":\"2409\"}},\"id\":\"2408\",\"type\":\"LinearAxis\"},{\"attributes\":{\"data\":{\"desc\":[\"SRR5616889\",\"SRR5616890\",\"SRR5616891\",\"SRR5616892\",\"SRR5616893\",\"SRR5616894\",\"SRR5616895\",\"SRR5616896\",\"SRR5616897\",\"SRR5616898\",\"SRR5616899\",\"SRR5616900\",\"SRR5616901\",\"SRR5616902\",\"SRR5616903\",\"SRR5616904\",\"SRR5616905\"],\"x\":{\"__ndarray__\":\"Ml8eBaIirb4ldHwmo16wPsaymOpw07A+PLN8yJRysD6FVBm2d3ywPpCGTDz1K7A+vcdzIkZFsD4s7tVKnDOwPvy+vzLzR7A+YCHpA6Iirb5oEoapYxewPqLE96o4UbA+/c77njIrsD5bPwvQdx+wPjBVBGZFJbA+iQV7NUc/sD6Xga0BoiKtvg==\",\"dtype\":\"float64\",\"order\":\"little\",\"shape\":[17]},\"y\":{\"__ndarray__\":\"wFrh7OPp1z1OC2nBphDgPQnEYMy307S9iDk6reAt4b3kKwczYTe9vfiskvxahsG9gprQ38ip0D3zbFxilcfPPfA3bssid9g9tivzm0Ed4z30649NoQLmPXF3ANu+AdW9cxFTHPjEyT3gDTBr5By1vXinvdwgjqm9xZr5LU59mT0/iwSI1+LuPQ==\",\"dtype\":\"float64\",\"order\":\"little\",\"shape\":[17]}},\"selected\":{\"id\":\"2533\"},\"selection_policy\":{\"id\":\"2532\"}},\"id\":\"2392\",\"type\":\"ColumnDataSource\"},{\"attributes\":{\"source\":{\"id\":\"2392\"}},\"id\":\"2420\",\"type\":\"CDSView\"},{\"attributes\":{},\"id\":\"2409\",\"type\":\"BasicTicker\"},{\"attributes\":{\"axis\":{\"id\":\"2408\"},\"dimension\":1,\"ticker\":null},\"id\":\"2411\",\"type\":\"Grid\"},{\"attributes\":{},\"id\":\"2400\",\"type\":\"LinearScale\"},{\"attributes\":{\"data_source\":{\"id\":\"2393\"},\"glyph\":{\"id\":\"2422\"},\"hover_glyph\":null,\"muted_glyph\":null,\"nonselection_glyph\":{\"id\":\"2423\"},\"selection_glyph\":null,\"view\":{\"id\":\"2425\"}},\"id\":\"2424\",\"type\":\"GlyphRenderer\"},{\"attributes\":{\"data_source\":{\"id\":\"2392\"},\"glyph\":{\"id\":\"2417\"},\"hover_glyph\":null,\"muted_glyph\":null,\"nonselection_glyph\":{\"id\":\"2418\"},\"selection_glyph\":null,\"view\":{\"id\":\"2420\"}},\"id\":\"2419\",\"type\":\"GlyphRenderer\"},{\"attributes\":{},\"id\":\"2412\",\"type\":\"SaveTool\"},{\"attributes\":{},\"id\":\"2402\",\"type\":\"LinearScale\"},{\"attributes\":{\"active_drag\":\"auto\",\"active_inspect\":\"auto\",\"active_multi\":null,\"active_scroll\":\"auto\",\"active_tap\":\"auto\",\"tools\":[{\"id\":\"2394\"},{\"id\":\"2412\"}]},\"id\":\"2413\",\"type\":\"Toolbar\"},{\"attributes\":{},\"id\":\"2405\",\"type\":\"BasicTicker\"},{\"attributes\":{},\"id\":\"2398\",\"type\":\"DataRange1d\"},{\"attributes\":{\"source\":{\"id\":\"2393\"}},\"id\":\"2425\",\"type\":\"CDSView\"},{\"attributes\":{\"fill_color\":{\"value\":\"black\"},\"size\":{\"units\":\"screen\",\"value\":14},\"x\":{\"field\":\"x\"},\"y\":{\"field\":\"y\"}},\"id\":\"2417\",\"type\":\"Circle\"},{\"attributes\":{\"fill_alpha\":{\"value\":0.1},\"fill_color\":{\"value\":\"black\"},\"line_alpha\":{\"value\":0.1},\"size\":{\"units\":\"screen\",\"value\":14},\"x\":{\"field\":\"x\"},\"y\":{\"field\":\"y\"}},\"id\":\"2418\",\"type\":\"Circle\"},{\"attributes\":{},\"id\":\"2528\",\"type\":\"BasicTickFormatter\"},{\"attributes\":{\"fill_alpha\":{\"value\":0.1},\"fill_color\":{\"value\":\"red\"},\"line_alpha\":{\"value\":0.1},\"line_color\":{\"value\":\"red\"},\"size\":{\"units\":\"screen\",\"value\":16},\"x\":{\"field\":\"x\"},\"y\":{\"field\":\"y\"}},\"id\":\"2423\",\"type\":\"Triangle\"},{\"attributes\":{\"callback\":null,\"tooltips\":[[\"index\",\"$index\"],[\"desc\",\"@desc\"]]},\"id\":\"2394\",\"type\":\"HoverTool\"},{\"attributes\":{\"text\":\"\"},\"id\":\"2526\",\"type\":\"Title\"},{\"attributes\":{\"fill_color\":{\"value\":\"red\"},\"line_color\":{\"value\":\"red\"},\"size\":{\"units\":\"screen\",\"value\":16},\"x\":{\"field\":\"x\"},\"y\":{\"field\":\"y\"}},\"id\":\"2422\",\"type\":\"Triangle\"},{\"attributes\":{\"data\":{\"desc\":[\"SRR5616906\",\"SRR5616907\",\"SRR5616908\",\"SRR5616909\",\"SRR5616910\",\"SRR5616911\",\"SRR5616912\",\"SRR5616913\",\"SRR5616914\",\"SRR5616915\",\"SRR5616916\",\"SRR5616917\",\"SRR5616918\",\"SRR5616919\",\"SRR5616920\",\"SRR5616921\",\"SRR5616922\",\"SRR5616923\",\"SRR5616924\"],\"x\":{\"__ndarray__\":\"VqGSCKIirb5C+9oHoiKtvm7yQQiiIq2+GQKJCaIirb7O+yHPE0ewPry+JwqiIq2++ThXBaIirb5Le9EIoiKtvhRu/QWiIq2+3zcagnApsD5snsQFoiKtvuun/giiIq2+0UvLB6Iirb4vEEcJoiKtvq/UNwqiIq2+ejxLCaIirb6eReMqwDKwPttsaAeiIq2+bTJNCKIirb4=\",\"dtype\":\"float64\",\"order\":\"little\",\"shape\":[19]},\"y\":{\"__ndarray__\":\"KWOC8JyByL3zsEByPQStvTbF6qPEzL+9sbT5pG1y1b2Nw/U/ApLXvbRparerU9y9jXYIFonK1j29iQUQ84bLvSBSkTYJJtA9eTTvxcaQz72F3yXhgKPSPZoeGvyEhc+9h58FvEVuqb18qRjWchXUvRwd6OYJz9y9Uf+73kJw072sEvUtUcHWvausfpADp5I9ClTZDUjlwL0=\",\"dtype\":\"float64\",\"order\":\"little\",\"shape\":[19]}},\"selected\":{\"id\":\"2535\"},\"selection_policy\":{\"id\":\"2534\"}},\"id\":\"2393\",\"type\":\"ColumnDataSource\"},{\"attributes\":{},\"id\":\"2530\",\"type\":\"BasicTickFormatter\"},{\"attributes\":{},\"id\":\"2532\",\"type\":\"UnionRenderers\"},{\"attributes\":{},\"id\":\"2533\",\"type\":\"Selection\"}],\"root_ids\":[\"2395\"]},\"title\":\"Bokeh Application\",\"version\":\"2.2.3\"}};\n",
       "  var render_items = [{\"docid\":\"db257d85-a199-43e9-805e-711a51d8b982\",\"root_ids\":[\"2395\"],\"roots\":{\"2395\":\"b35b0ad7-4b2e-4d70-82c2-5c5d1af739e3\"}}];\n",
       "  root.Bokeh.embed.embed_items_notebook(docs_json, render_items);\n",
       "\n",
       "  }\n",
       "  if (root.Bokeh !== undefined) {\n",
       "    embed_document(root);\n",
       "  } else {\n",
       "    var attempts = 0;\n",
       "    var timer = setInterval(function(root) {\n",
       "      if (root.Bokeh !== undefined) {\n",
       "        clearInterval(timer);\n",
       "        embed_document(root);\n",
       "      } else {\n",
       "        attempts++;\n",
       "        if (attempts > 100) {\n",
       "          clearInterval(timer);\n",
       "          console.log(\"Bokeh: ERROR: Unable to run BokehJS code because BokehJS library is missing\");\n",
       "        }\n",
       "      }\n",
       "    }, 10, root)\n",
       "  }\n",
       "})(window);"
      ],
      "application/vnd.bokehjs_exec.v0+json": ""
     },
     "metadata": {
      "application/vnd.bokehjs_exec.v0+json": {
       "id": "2395"
      }
     },
     "output_type": "display_data"
    }
   ],
   "source": [
    "# q = 11\n",
    "draw_PCA(dfs[10])"
   ]
  },
  {
   "cell_type": "code",
   "execution_count": 16,
   "metadata": {},
   "outputs": [
    {
     "data": {
      "text/html": [
       "\n",
       "\n",
       "\n",
       "\n",
       "\n",
       "\n",
       "  <div class=\"bk-root\" id=\"7280a331-89bd-437f-b5a3-5e87363c90dd\" data-root-id=\"2589\"></div>\n"
      ]
     },
     "metadata": {},
     "output_type": "display_data"
    },
    {
     "data": {
      "application/javascript": [
       "(function(root) {\n",
       "  function embed_document(root) {\n",
       "    \n",
       "  var docs_json = {\"4bdf2efb-c43b-4b94-b6b9-96b90804964c\":{\"roots\":{\"references\":[{\"attributes\":{\"below\":[{\"id\":\"2598\"}],\"center\":[{\"id\":\"2601\"},{\"id\":\"2605\"}],\"left\":[{\"id\":\"2602\"}],\"plot_height\":500,\"plot_width\":550,\"renderers\":[{\"id\":\"2613\"},{\"id\":\"2618\"}],\"title\":{\"id\":\"2730\"},\"toolbar\":{\"id\":\"2607\"},\"x_range\":{\"id\":\"2590\"},\"x_scale\":{\"id\":\"2594\"},\"y_range\":{\"id\":\"2592\"},\"y_scale\":{\"id\":\"2596\"}},\"id\":\"2589\",\"subtype\":\"Figure\",\"type\":\"Plot\"},{\"attributes\":{\"data\":{\"desc\":[\"SRR5616906\",\"SRR5616907\",\"SRR5616908\",\"SRR5616909\",\"SRR5616910\",\"SRR5616911\",\"SRR5616912\",\"SRR5616913\",\"SRR5616914\",\"SRR5616915\",\"SRR5616916\",\"SRR5616917\",\"SRR5616918\",\"SRR5616919\",\"SRR5616920\",\"SRR5616921\",\"SRR5616922\",\"SRR5616923\",\"SRR5616924\"],\"x\":{\"__ndarray__\":\"QxP9gSqFiT6XfCFc9V6KPsiqYdthbIM+WZ+GDT+BeT7dEMBUvwqJPgtnF35Yl3k+MMWA98mciT4WHuquuD+EPu4HoSLFuY8+Cdq++a71gj5WVLkgNduDPqqoRGGlTYo+YaEPcV/Ydz6metjAyi6EPmb0a2bIiYI+8/2tJ8D5gz6c/iJRm1CDPgOCvxzIT4k+lL3TV/LCiT4=\",\"dtype\":\"float64\",\"order\":\"little\",\"shape\":[19]},\"y\":{\"__ndarray__\":\"9hxauRPeXr6wQi2MLBBtPn57iyn/aWS+44p1Ej6LaL4Xk+NgI71uvtGAOqy5EF6+uCQqbSvEbb5w1arJbxtoPn7Ld4R3jk6+W9obBuVQer75myY2OI1yPrGnf/hqa2w+K2kQjzC8bj4G2z+ZY+RHPkqy6LUi5ne+zgm+1tdMhD6DJPfPLW47voOt4IFGqC8+rogP/Ot9Wb4=\",\"dtype\":\"float64\",\"order\":\"little\",\"shape\":[19]}},\"selected\":{\"id\":\"2739\"},\"selection_policy\":{\"id\":\"2738\"}},\"id\":\"2587\",\"type\":\"ColumnDataSource\"},{\"attributes\":{\"fill_color\":{\"value\":\"red\"},\"line_color\":{\"value\":\"red\"},\"size\":{\"units\":\"screen\",\"value\":16},\"x\":{\"field\":\"x\"},\"y\":{\"field\":\"y\"}},\"id\":\"2616\",\"type\":\"Triangle\"},{\"attributes\":{\"callback\":null,\"tooltips\":[[\"index\",\"$index\"],[\"desc\",\"@desc\"]]},\"id\":\"2588\",\"type\":\"HoverTool\"},{\"attributes\":{\"fill_alpha\":{\"value\":0.1},\"fill_color\":{\"value\":\"red\"},\"line_alpha\":{\"value\":0.1},\"line_color\":{\"value\":\"red\"},\"size\":{\"units\":\"screen\",\"value\":16},\"x\":{\"field\":\"x\"},\"y\":{\"field\":\"y\"}},\"id\":\"2617\",\"type\":\"Triangle\"},{\"attributes\":{\"data_source\":{\"id\":\"2587\"},\"glyph\":{\"id\":\"2616\"},\"hover_glyph\":null,\"muted_glyph\":null,\"nonselection_glyph\":{\"id\":\"2617\"},\"selection_glyph\":null,\"view\":{\"id\":\"2619\"}},\"id\":\"2618\",\"type\":\"GlyphRenderer\"},{\"attributes\":{},\"id\":\"2590\",\"type\":\"DataRange1d\"},{\"attributes\":{\"data_source\":{\"id\":\"2586\"},\"glyph\":{\"id\":\"2611\"},\"hover_glyph\":null,\"muted_glyph\":null,\"nonselection_glyph\":{\"id\":\"2612\"},\"selection_glyph\":null,\"view\":{\"id\":\"2614\"}},\"id\":\"2613\",\"type\":\"GlyphRenderer\"},{\"attributes\":{\"source\":{\"id\":\"2587\"}},\"id\":\"2619\",\"type\":\"CDSView\"},{\"attributes\":{},\"id\":\"2592\",\"type\":\"DataRange1d\"},{\"attributes\":{},\"id\":\"2732\",\"type\":\"BasicTickFormatter\"},{\"attributes\":{},\"id\":\"2594\",\"type\":\"LinearScale\"},{\"attributes\":{},\"id\":\"2734\",\"type\":\"BasicTickFormatter\"},{\"attributes\":{},\"id\":\"2596\",\"type\":\"LinearScale\"},{\"attributes\":{},\"id\":\"2736\",\"type\":\"UnionRenderers\"},{\"attributes\":{\"formatter\":{\"id\":\"2732\"},\"major_label_text_color\":\"white\",\"ticker\":{\"id\":\"2599\"}},\"id\":\"2598\",\"type\":\"LinearAxis\"},{\"attributes\":{\"data\":{\"desc\":[\"SRR5616889\",\"SRR5616890\",\"SRR5616891\",\"SRR5616892\",\"SRR5616893\",\"SRR5616894\",\"SRR5616895\",\"SRR5616896\",\"SRR5616897\",\"SRR5616898\",\"SRR5616899\",\"SRR5616900\",\"SRR5616901\",\"SRR5616902\",\"SRR5616903\",\"SRR5616904\",\"SRR5616905\"],\"x\":{\"__ndarray__\":\"R1fIMigEib6NEpX4BzGJvkpUVFUN9Yu+HjOYpECcgr5DgQHgiFB5vg2ga44Ywoe+9xz3kR10ib6zQEpkUt6IvqjT3mLHAYK+kXRZ9Ta1iL4+53AWzbiNvuf4v+t8KXe+D/tXuprSgb5Pkmw3adGNvtEy2/i2942+sEF9dG7Ljr5Tr2qIOK+Nvg==\",\"dtype\":\"float64\",\"order\":\"little\",\"shape\":[17]},\"y\":{\"__ndarray__\":\"+sc232rwZ77sechejpt5vjV+9KYXoG4+moS46O2Vaz4LU+KAqWp7PrOUyeJyQGi+0jh+pNYraz6b37nOLV1qPv8CkfCLlIG+6qzHYnckaj7H838saxJGvm/uouDDDYE+HakD8upsdb7TdyahjNdFvpXmoEXse0W+AqrUonmBQ74rCLnuVSlGvg==\",\"dtype\":\"float64\",\"order\":\"little\",\"shape\":[17]}},\"selected\":{\"id\":\"2737\"},\"selection_policy\":{\"id\":\"2736\"}},\"id\":\"2586\",\"type\":\"ColumnDataSource\"},{\"attributes\":{},\"id\":\"2737\",\"type\":\"Selection\"},{\"attributes\":{},\"id\":\"2599\",\"type\":\"BasicTicker\"},{\"attributes\":{},\"id\":\"2738\",\"type\":\"UnionRenderers\"},{\"attributes\":{\"axis\":{\"id\":\"2598\"},\"ticker\":null},\"id\":\"2601\",\"type\":\"Grid\"},{\"attributes\":{},\"id\":\"2739\",\"type\":\"Selection\"},{\"attributes\":{\"formatter\":{\"id\":\"2734\"},\"major_label_text_color\":\"white\",\"ticker\":{\"id\":\"2603\"}},\"id\":\"2602\",\"type\":\"LinearAxis\"},{\"attributes\":{},\"id\":\"2603\",\"type\":\"BasicTicker\"},{\"attributes\":{\"axis\":{\"id\":\"2602\"},\"dimension\":1,\"ticker\":null},\"id\":\"2605\",\"type\":\"Grid\"},{\"attributes\":{\"fill_alpha\":{\"value\":0.1},\"fill_color\":{\"value\":\"black\"},\"line_alpha\":{\"value\":0.1},\"size\":{\"units\":\"screen\",\"value\":14},\"x\":{\"field\":\"x\"},\"y\":{\"field\":\"y\"}},\"id\":\"2612\",\"type\":\"Circle\"},{\"attributes\":{\"active_drag\":\"auto\",\"active_inspect\":\"auto\",\"active_multi\":null,\"active_scroll\":\"auto\",\"active_tap\":\"auto\",\"tools\":[{\"id\":\"2588\"},{\"id\":\"2606\"}]},\"id\":\"2607\",\"type\":\"Toolbar\"},{\"attributes\":{\"fill_color\":{\"value\":\"black\"},\"size\":{\"units\":\"screen\",\"value\":14},\"x\":{\"field\":\"x\"},\"y\":{\"field\":\"y\"}},\"id\":\"2611\",\"type\":\"Circle\"},{\"attributes\":{},\"id\":\"2606\",\"type\":\"SaveTool\"},{\"attributes\":{\"text\":\"\"},\"id\":\"2730\",\"type\":\"Title\"},{\"attributes\":{\"source\":{\"id\":\"2586\"}},\"id\":\"2614\",\"type\":\"CDSView\"}],\"root_ids\":[\"2589\"]},\"title\":\"Bokeh Application\",\"version\":\"2.2.3\"}};\n",
       "  var render_items = [{\"docid\":\"4bdf2efb-c43b-4b94-b6b9-96b90804964c\",\"root_ids\":[\"2589\"],\"roots\":{\"2589\":\"7280a331-89bd-437f-b5a3-5e87363c90dd\"}}];\n",
       "  root.Bokeh.embed.embed_items_notebook(docs_json, render_items);\n",
       "\n",
       "  }\n",
       "  if (root.Bokeh !== undefined) {\n",
       "    embed_document(root);\n",
       "  } else {\n",
       "    var attempts = 0;\n",
       "    var timer = setInterval(function(root) {\n",
       "      if (root.Bokeh !== undefined) {\n",
       "        clearInterval(timer);\n",
       "        embed_document(root);\n",
       "      } else {\n",
       "        attempts++;\n",
       "        if (attempts > 100) {\n",
       "          clearInterval(timer);\n",
       "          console.log(\"Bokeh: ERROR: Unable to run BokehJS code because BokehJS library is missing\");\n",
       "        }\n",
       "      }\n",
       "    }, 10, root)\n",
       "  }\n",
       "})(window);"
      ],
      "application/vnd.bokehjs_exec.v0+json": ""
     },
     "metadata": {
      "application/vnd.bokehjs_exec.v0+json": {
       "id": "2589"
      }
     },
     "output_type": "display_data"
    }
   ],
   "source": [
    "# q = 12\n",
    "draw_PCA(dfs[11])"
   ]
  },
  {
   "cell_type": "code",
   "execution_count": 17,
   "metadata": {},
   "outputs": [
    {
     "data": {
      "text/html": [
       "\n",
       "\n",
       "\n",
       "\n",
       "\n",
       "\n",
       "  <div class=\"bk-root\" id=\"5d84838e-3064-466b-9496-2ec07d6299d2\" data-root-id=\"2793\"></div>\n"
      ]
     },
     "metadata": {},
     "output_type": "display_data"
    },
    {
     "data": {
      "application/javascript": [
       "(function(root) {\n",
       "  function embed_document(root) {\n",
       "    \n",
       "  var docs_json = {\"92accadb-c9f2-4fd3-96e4-40da1d37c546\":{\"roots\":{\"references\":[{\"attributes\":{\"below\":[{\"id\":\"2802\"}],\"center\":[{\"id\":\"2805\"},{\"id\":\"2809\"}],\"left\":[{\"id\":\"2806\"}],\"plot_height\":500,\"plot_width\":550,\"renderers\":[{\"id\":\"2817\"},{\"id\":\"2822\"}],\"title\":{\"id\":\"2944\"},\"toolbar\":{\"id\":\"2811\"},\"x_range\":{\"id\":\"2794\"},\"x_scale\":{\"id\":\"2798\"},\"y_range\":{\"id\":\"2796\"},\"y_scale\":{\"id\":\"2800\"}},\"id\":\"2793\",\"subtype\":\"Figure\",\"type\":\"Plot\"},{\"attributes\":{},\"id\":\"2950\",\"type\":\"UnionRenderers\"},{\"attributes\":{\"formatter\":{\"id\":\"2946\"},\"major_label_text_color\":\"white\",\"ticker\":{\"id\":\"2803\"}},\"id\":\"2802\",\"type\":\"LinearAxis\"},{\"attributes\":{},\"id\":\"2951\",\"type\":\"Selection\"},{\"attributes\":{},\"id\":\"2803\",\"type\":\"BasicTicker\"},{\"attributes\":{},\"id\":\"2952\",\"type\":\"UnionRenderers\"},{\"attributes\":{\"text\":\"\"},\"id\":\"2944\",\"type\":\"Title\"},{\"attributes\":{\"axis\":{\"id\":\"2802\"},\"ticker\":null},\"id\":\"2805\",\"type\":\"Grid\"},{\"attributes\":{},\"id\":\"2953\",\"type\":\"Selection\"},{\"attributes\":{\"formatter\":{\"id\":\"2948\"},\"major_label_text_color\":\"white\",\"ticker\":{\"id\":\"2807\"}},\"id\":\"2806\",\"type\":\"LinearAxis\"},{\"attributes\":{},\"id\":\"2807\",\"type\":\"BasicTicker\"},{\"attributes\":{\"axis\":{\"id\":\"2806\"},\"dimension\":1,\"ticker\":null},\"id\":\"2809\",\"type\":\"Grid\"},{\"attributes\":{\"data\":{\"desc\":[\"SRR5616889\",\"SRR5616890\",\"SRR5616891\",\"SRR5616892\",\"SRR5616893\",\"SRR5616894\",\"SRR5616895\",\"SRR5616896\",\"SRR5616897\",\"SRR5616898\",\"SRR5616899\",\"SRR5616900\",\"SRR5616901\",\"SRR5616902\",\"SRR5616903\",\"SRR5616904\",\"SRR5616905\"],\"x\":{\"__ndarray__\":\"PP+8sZDXYj5mC95unE5iPkfl2i95jGY+nmEf2nnyWz5M2q3KPrJnPqRSR+qwnFc+4WZtXcuZYT4cLRPy/MxYPjIoQxwFSmE+iPQe3FPzVz6UuT69BjNdPs+59YwjcmU+icAQryCdYz7KqLexBuViPjwkt5fL314+JLd7Ame3YD7tcHwCEldiPg==\",\"dtype\":\"float64\",\"order\":\"little\",\"shape\":[17]},\"y\":{\"__ndarray__\":\"IjqBznrwQz60jESgsY8wPjgIC4MJ6EU+mEmuVhktV75zuDnUnJcdvuf5Ox4JYlO+vXGl0Ch7Pr5Tsm4WTT1WPi8x+Z9ePz6+dqdMujjyVT7CZTJkFeJKvkAAbxRgeRy+7u/AGVmQG74nDy2p4DQbvgssa4wF3Dy+wh8f0uirRj69/47dWO4avg==\",\"dtype\":\"float64\",\"order\":\"little\",\"shape\":[17]}},\"selected\":{\"id\":\"2951\"},\"selection_policy\":{\"id\":\"2950\"}},\"id\":\"2790\",\"type\":\"ColumnDataSource\"},{\"attributes\":{\"source\":{\"id\":\"2790\"}},\"id\":\"2818\",\"type\":\"CDSView\"},{\"attributes\":{\"data_source\":{\"id\":\"2790\"},\"glyph\":{\"id\":\"2815\"},\"hover_glyph\":null,\"muted_glyph\":null,\"nonselection_glyph\":{\"id\":\"2816\"},\"selection_glyph\":null,\"view\":{\"id\":\"2818\"}},\"id\":\"2817\",\"type\":\"GlyphRenderer\"},{\"attributes\":{\"fill_color\":{\"value\":\"black\"},\"size\":{\"units\":\"screen\",\"value\":14},\"x\":{\"field\":\"x\"},\"y\":{\"field\":\"y\"}},\"id\":\"2815\",\"type\":\"Circle\"},{\"attributes\":{},\"id\":\"2810\",\"type\":\"SaveTool\"},{\"attributes\":{\"fill_alpha\":{\"value\":0.1},\"fill_color\":{\"value\":\"black\"},\"line_alpha\":{\"value\":0.1},\"size\":{\"units\":\"screen\",\"value\":14},\"x\":{\"field\":\"x\"},\"y\":{\"field\":\"y\"}},\"id\":\"2816\",\"type\":\"Circle\"},{\"attributes\":{\"data\":{\"desc\":[\"SRR5616906\",\"SRR5616907\",\"SRR5616908\",\"SRR5616909\",\"SRR5616910\",\"SRR5616911\",\"SRR5616912\",\"SRR5616913\",\"SRR5616914\",\"SRR5616915\",\"SRR5616916\",\"SRR5616917\",\"SRR5616918\",\"SRR5616919\",\"SRR5616920\",\"SRR5616921\",\"SRR5616922\",\"SRR5616923\",\"SRR5616924\"],\"x\":{\"__ndarray__\":\"QbetqUM5YL5p5Dmx3IZkvmnkObHchmS+aeQ5sdyGZL5SWfvb7F5gviPHDLtHC2C+csbTEWbqT75p5Dmx3IZkvi1G0QNzSli+/3D+cI2IQb69i91xV0lgvlN8WuvRpFe+jTe5ByQpYL5xG0d5eWlgvmnkObHchmS+aeQ5sdyGZL6k8HfAFcE+vtw3n71QQVi+aeQ5sdyGZL4=\",\"dtype\":\"float64\",\"order\":\"little\",\"shape\":[19]},\"y\":{\"__ndarray__\":\"djpImn8sPD7Hz+45+Xr+vcfP7jn5ev69x8/uOfl6/r2aLkTtdeM4vsdv3VvwQkC+jilVbc2EJD7Hz+45+Xr+vVadaXIHPf49wp3GxsjyV76O6CtOy5cOPnn7XgJI/0A+t+cdKZde+j2ku+x8gwI+vsfP7jn5ev69x8/uOfl6/r3IrmOsqiBcPo6jeTy4cT4+x8/uOfl6/r0=\",\"dtype\":\"float64\",\"order\":\"little\",\"shape\":[19]}},\"selected\":{\"id\":\"2953\"},\"selection_policy\":{\"id\":\"2952\"}},\"id\":\"2791\",\"type\":\"ColumnDataSource\"},{\"attributes\":{\"active_drag\":\"auto\",\"active_inspect\":\"auto\",\"active_multi\":null,\"active_scroll\":\"auto\",\"active_tap\":\"auto\",\"tools\":[{\"id\":\"2792\"},{\"id\":\"2810\"}]},\"id\":\"2811\",\"type\":\"Toolbar\"},{\"attributes\":{\"callback\":null,\"tooltips\":[[\"index\",\"$index\"],[\"desc\",\"@desc\"]]},\"id\":\"2792\",\"type\":\"HoverTool\"},{\"attributes\":{\"fill_color\":{\"value\":\"red\"},\"line_color\":{\"value\":\"red\"},\"size\":{\"units\":\"screen\",\"value\":16},\"x\":{\"field\":\"x\"},\"y\":{\"field\":\"y\"}},\"id\":\"2820\",\"type\":\"Triangle\"},{\"attributes\":{\"fill_alpha\":{\"value\":0.1},\"fill_color\":{\"value\":\"red\"},\"line_alpha\":{\"value\":0.1},\"line_color\":{\"value\":\"red\"},\"size\":{\"units\":\"screen\",\"value\":16},\"x\":{\"field\":\"x\"},\"y\":{\"field\":\"y\"}},\"id\":\"2821\",\"type\":\"Triangle\"},{\"attributes\":{\"data_source\":{\"id\":\"2791\"},\"glyph\":{\"id\":\"2820\"},\"hover_glyph\":null,\"muted_glyph\":null,\"nonselection_glyph\":{\"id\":\"2821\"},\"selection_glyph\":null,\"view\":{\"id\":\"2823\"}},\"id\":\"2822\",\"type\":\"GlyphRenderer\"},{\"attributes\":{},\"id\":\"2794\",\"type\":\"DataRange1d\"},{\"attributes\":{\"source\":{\"id\":\"2791\"}},\"id\":\"2823\",\"type\":\"CDSView\"},{\"attributes\":{},\"id\":\"2796\",\"type\":\"DataRange1d\"},{\"attributes\":{},\"id\":\"2946\",\"type\":\"BasicTickFormatter\"},{\"attributes\":{},\"id\":\"2798\",\"type\":\"LinearScale\"},{\"attributes\":{},\"id\":\"2948\",\"type\":\"BasicTickFormatter\"},{\"attributes\":{},\"id\":\"2800\",\"type\":\"LinearScale\"}],\"root_ids\":[\"2793\"]},\"title\":\"Bokeh Application\",\"version\":\"2.2.3\"}};\n",
       "  var render_items = [{\"docid\":\"92accadb-c9f2-4fd3-96e4-40da1d37c546\",\"root_ids\":[\"2793\"],\"roots\":{\"2793\":\"5d84838e-3064-466b-9496-2ec07d6299d2\"}}];\n",
       "  root.Bokeh.embed.embed_items_notebook(docs_json, render_items);\n",
       "\n",
       "  }\n",
       "  if (root.Bokeh !== undefined) {\n",
       "    embed_document(root);\n",
       "  } else {\n",
       "    var attempts = 0;\n",
       "    var timer = setInterval(function(root) {\n",
       "      if (root.Bokeh !== undefined) {\n",
       "        clearInterval(timer);\n",
       "        embed_document(root);\n",
       "      } else {\n",
       "        attempts++;\n",
       "        if (attempts > 100) {\n",
       "          clearInterval(timer);\n",
       "          console.log(\"Bokeh: ERROR: Unable to run BokehJS code because BokehJS library is missing\");\n",
       "        }\n",
       "      }\n",
       "    }, 10, root)\n",
       "  }\n",
       "})(window);"
      ],
      "application/vnd.bokehjs_exec.v0+json": ""
     },
     "metadata": {
      "application/vnd.bokehjs_exec.v0+json": {
       "id": "2793"
      }
     },
     "output_type": "display_data"
    }
   ],
   "source": [
    "# q = 13\n",
    "draw_PCA(dfs[12])"
   ]
  },
  {
   "cell_type": "code",
   "execution_count": 18,
   "metadata": {},
   "outputs": [
    {
     "data": {
      "text/html": [
       "\n",
       "\n",
       "\n",
       "\n",
       "\n",
       "\n",
       "  <div class=\"bk-root\" id=\"464a3d94-af6d-4e75-a59d-149719f95152\" data-root-id=\"3007\"></div>\n"
      ]
     },
     "metadata": {},
     "output_type": "display_data"
    },
    {
     "data": {
      "application/javascript": [
       "(function(root) {\n",
       "  function embed_document(root) {\n",
       "    \n",
       "  var docs_json = {\"bd2e29d1-c578-4879-822b-a8969c4d2a4b\":{\"roots\":{\"references\":[{\"attributes\":{\"below\":[{\"id\":\"3016\"}],\"center\":[{\"id\":\"3019\"},{\"id\":\"3023\"}],\"left\":[{\"id\":\"3020\"}],\"plot_height\":500,\"plot_width\":550,\"renderers\":[{\"id\":\"3031\"},{\"id\":\"3036\"}],\"title\":{\"id\":\"3168\"},\"toolbar\":{\"id\":\"3025\"},\"x_range\":{\"id\":\"3008\"},\"x_scale\":{\"id\":\"3012\"},\"y_range\":{\"id\":\"3010\"},\"y_scale\":{\"id\":\"3014\"}},\"id\":\"3007\",\"subtype\":\"Figure\",\"type\":\"Plot\"},{\"attributes\":{\"fill_alpha\":{\"value\":0.1},\"fill_color\":{\"value\":\"red\"},\"line_alpha\":{\"value\":0.1},\"line_color\":{\"value\":\"red\"},\"size\":{\"units\":\"screen\",\"value\":16},\"x\":{\"field\":\"x\"},\"y\":{\"field\":\"y\"}},\"id\":\"3035\",\"type\":\"Triangle\"},{\"attributes\":{\"data_source\":{\"id\":\"3005\"},\"glyph\":{\"id\":\"3034\"},\"hover_glyph\":null,\"muted_glyph\":null,\"nonselection_glyph\":{\"id\":\"3035\"},\"selection_glyph\":null,\"view\":{\"id\":\"3037\"}},\"id\":\"3036\",\"type\":\"GlyphRenderer\"},{\"attributes\":{\"source\":{\"id\":\"3005\"}},\"id\":\"3037\",\"type\":\"CDSView\"},{\"attributes\":{\"text\":\"\"},\"id\":\"3168\",\"type\":\"Title\"},{\"attributes\":{},\"id\":\"3024\",\"type\":\"SaveTool\"},{\"attributes\":{},\"id\":\"3170\",\"type\":\"BasicTickFormatter\"},{\"attributes\":{},\"id\":\"3172\",\"type\":\"BasicTickFormatter\"},{\"attributes\":{},\"id\":\"3021\",\"type\":\"BasicTicker\"},{\"attributes\":{},\"id\":\"3174\",\"type\":\"UnionRenderers\"},{\"attributes\":{},\"id\":\"3175\",\"type\":\"Selection\"},{\"attributes\":{\"fill_alpha\":{\"value\":0.1},\"fill_color\":{\"value\":\"black\"},\"line_alpha\":{\"value\":0.1},\"size\":{\"units\":\"screen\",\"value\":14},\"x\":{\"field\":\"x\"},\"y\":{\"field\":\"y\"}},\"id\":\"3030\",\"type\":\"Circle\"},{\"attributes\":{\"data\":{\"desc\":[\"SRR5616889\",\"SRR5616890\",\"SRR5616891\",\"SRR5616892\",\"SRR5616893\",\"SRR5616894\",\"SRR5616895\",\"SRR5616896\",\"SRR5616897\",\"SRR5616898\",\"SRR5616899\",\"SRR5616900\",\"SRR5616901\",\"SRR5616902\",\"SRR5616903\",\"SRR5616904\",\"SRR5616905\"],\"x\":{\"__ndarray__\":\"/dBDwrrkTD6WDdGRgZtHPkHlndzID0k+ElMklDtKRz4gMe7NnRs9PoZNtwJ9Xkc+d76/KwnQRT7Y0fZa3pVIPtA1nrVZMio+wHoR92sTQz4LTzGbU4BFPt/TkelAwkU+8RmkyQHNQj74DJEDUENGPuK1lA7V+0E+iK74yMFJRT4KcWoNqelEPg==\",\"dtype\":\"float64\",\"order\":\"little\",\"shape\":[17]},\"y\":{\"__ndarray__\":\"yj6WVvfw/b0OVf9GMMAQvqrn/hwxmUQ+GR775KDWBr6NZ9Pzx7BAvuxzgEZ9pfa9u5XuN2RJ6z1s9BohqUD4vYSOE0FxMCi+LCR5c60eCL4HuSUkFi70vfXY1uewEQu+QQO/dNKwC763gJm+jy/1vTZuHyEiywG+h7k31QGsMD42DveBImfzvQ==\",\"dtype\":\"float64\",\"order\":\"little\",\"shape\":[17]}},\"selected\":{\"id\":\"3175\"},\"selection_policy\":{\"id\":\"3174\"}},\"id\":\"3004\",\"type\":\"ColumnDataSource\"},{\"attributes\":{\"active_drag\":\"auto\",\"active_inspect\":\"auto\",\"active_multi\":null,\"active_scroll\":\"auto\",\"active_tap\":\"auto\",\"tools\":[{\"id\":\"3006\"},{\"id\":\"3024\"}]},\"id\":\"3025\",\"type\":\"Toolbar\"},{\"attributes\":{},\"id\":\"3176\",\"type\":\"UnionRenderers\"},{\"attributes\":{\"axis\":{\"id\":\"3016\"},\"ticker\":null},\"id\":\"3019\",\"type\":\"Grid\"},{\"attributes\":{},\"id\":\"3177\",\"type\":\"Selection\"},{\"attributes\":{\"callback\":null,\"tooltips\":[[\"index\",\"$index\"],[\"desc\",\"@desc\"]]},\"id\":\"3006\",\"type\":\"HoverTool\"},{\"attributes\":{},\"id\":\"3008\",\"type\":\"DataRange1d\"},{\"attributes\":{},\"id\":\"3012\",\"type\":\"LinearScale\"},{\"attributes\":{\"data\":{\"desc\":[\"SRR5616906\",\"SRR5616907\",\"SRR5616908\",\"SRR5616909\",\"SRR5616910\",\"SRR5616911\",\"SRR5616912\",\"SRR5616913\",\"SRR5616914\",\"SRR5616915\",\"SRR5616916\",\"SRR5616917\",\"SRR5616918\",\"SRR5616919\",\"SRR5616920\",\"SRR5616921\",\"SRR5616922\",\"SRR5616923\",\"SRR5616924\"],\"x\":{\"__ndarray__\":\"+Lu2r+PPRb675pPGmP9FvvsyZeTJa0a+PkYJnl0GR76LhTWLDJ1FvvskK76wYEG+JHDNRKoLQb4UZM7TASRGvkGik42CmEW+ZyyFfqXEOL5MdQ1A48E4vqTlB3Mf30C+EjOpFqzlN76VqWrepdxAvtM3B1lJQka+4aiUi6AJR75r3nOiouFAvkXAHdUd4kC+9/4d0ILFQL4=\",\"dtype\":\"float64\",\"order\":\"little\",\"shape\":[19]},\"y\":{\"__ndarray__\":\"ryZ523YU7T384HVdovzrPfK9iIcHguk9xnmmk1n35T34LWfVqz7uPT4fMjoMjDS+h/RzBG+VLr6XBgREESfrPUKIjoxLWe49N1iWav1VJz5q8VzyM4gxvs0k9mfrXQg+Q4KFTQ/JKT7V2YD8khoIPnjEzVR2deo9V0HTQzjk5T2OfEzJPLUiPnE8DSKaySI+v2+xkz3uJT4=\",\"dtype\":\"float64\",\"order\":\"little\",\"shape\":[19]}},\"selected\":{\"id\":\"3177\"},\"selection_policy\":{\"id\":\"3176\"}},\"id\":\"3005\",\"type\":\"ColumnDataSource\"},{\"attributes\":{},\"id\":\"3010\",\"type\":\"DataRange1d\"},{\"attributes\":{\"fill_color\":{\"value\":\"black\"},\"size\":{\"units\":\"screen\",\"value\":14},\"x\":{\"field\":\"x\"},\"y\":{\"field\":\"y\"}},\"id\":\"3029\",\"type\":\"Circle\"},{\"attributes\":{\"axis\":{\"id\":\"3020\"},\"dimension\":1,\"ticker\":null},\"id\":\"3023\",\"type\":\"Grid\"},{\"attributes\":{},\"id\":\"3014\",\"type\":\"LinearScale\"},{\"attributes\":{\"source\":{\"id\":\"3004\"}},\"id\":\"3032\",\"type\":\"CDSView\"},{\"attributes\":{},\"id\":\"3017\",\"type\":\"BasicTicker\"},{\"attributes\":{\"data_source\":{\"id\":\"3004\"},\"glyph\":{\"id\":\"3029\"},\"hover_glyph\":null,\"muted_glyph\":null,\"nonselection_glyph\":{\"id\":\"3030\"},\"selection_glyph\":null,\"view\":{\"id\":\"3032\"}},\"id\":\"3031\",\"type\":\"GlyphRenderer\"},{\"attributes\":{\"formatter\":{\"id\":\"3170\"},\"major_label_text_color\":\"white\",\"ticker\":{\"id\":\"3017\"}},\"id\":\"3016\",\"type\":\"LinearAxis\"},{\"attributes\":{\"fill_color\":{\"value\":\"red\"},\"line_color\":{\"value\":\"red\"},\"size\":{\"units\":\"screen\",\"value\":16},\"x\":{\"field\":\"x\"},\"y\":{\"field\":\"y\"}},\"id\":\"3034\",\"type\":\"Triangle\"},{\"attributes\":{\"formatter\":{\"id\":\"3172\"},\"major_label_text_color\":\"white\",\"ticker\":{\"id\":\"3021\"}},\"id\":\"3020\",\"type\":\"LinearAxis\"}],\"root_ids\":[\"3007\"]},\"title\":\"Bokeh Application\",\"version\":\"2.2.3\"}};\n",
       "  var render_items = [{\"docid\":\"bd2e29d1-c578-4879-822b-a8969c4d2a4b\",\"root_ids\":[\"3007\"],\"roots\":{\"3007\":\"464a3d94-af6d-4e75-a59d-149719f95152\"}}];\n",
       "  root.Bokeh.embed.embed_items_notebook(docs_json, render_items);\n",
       "\n",
       "  }\n",
       "  if (root.Bokeh !== undefined) {\n",
       "    embed_document(root);\n",
       "  } else {\n",
       "    var attempts = 0;\n",
       "    var timer = setInterval(function(root) {\n",
       "      if (root.Bokeh !== undefined) {\n",
       "        clearInterval(timer);\n",
       "        embed_document(root);\n",
       "      } else {\n",
       "        attempts++;\n",
       "        if (attempts > 100) {\n",
       "          clearInterval(timer);\n",
       "          console.log(\"Bokeh: ERROR: Unable to run BokehJS code because BokehJS library is missing\");\n",
       "        }\n",
       "      }\n",
       "    }, 10, root)\n",
       "  }\n",
       "})(window);"
      ],
      "application/vnd.bokehjs_exec.v0+json": ""
     },
     "metadata": {
      "application/vnd.bokehjs_exec.v0+json": {
       "id": "3007"
      }
     },
     "output_type": "display_data"
    }
   ],
   "source": [
    "# q = 14\n",
    "draw_PCA(dfs[13])"
   ]
  },
  {
   "cell_type": "markdown",
   "metadata": {},
   "source": [
    "## 5. Interpretability"
   ]
  },
  {
   "cell_type": "markdown",
   "metadata": {},
   "source": [
    "### q = 14"
   ]
  },
  {
   "cell_type": "code",
   "execution_count": 19,
   "metadata": {},
   "outputs": [
    {
     "data": {
      "text/html": [
       "<div>\n",
       "<style scoped>\n",
       "    .dataframe tbody tr th:only-of-type {\n",
       "        vertical-align: middle;\n",
       "    }\n",
       "\n",
       "    .dataframe tbody tr th {\n",
       "        vertical-align: top;\n",
       "    }\n",
       "\n",
       "    .dataframe thead th {\n",
       "        text-align: right;\n",
       "    }\n",
       "</style>\n",
       "<table border=\"1\" class=\"dataframe\">\n",
       "  <thead>\n",
       "    <tr style=\"text-align: right;\">\n",
       "      <th></th>\n",
       "      <th>0</th>\n",
       "    </tr>\n",
       "  </thead>\n",
       "  <tbody>\n",
       "    <tr>\n",
       "      <th>PC1</th>\n",
       "      <td>0.724512</td>\n",
       "    </tr>\n",
       "    <tr>\n",
       "      <th>PC2</th>\n",
       "      <td>0.060314</td>\n",
       "    </tr>\n",
       "    <tr>\n",
       "      <th>PC3</th>\n",
       "      <td>0.050021</td>\n",
       "    </tr>\n",
       "    <tr>\n",
       "      <th>PC4</th>\n",
       "      <td>0.038654</td>\n",
       "    </tr>\n",
       "    <tr>\n",
       "      <th>PC5</th>\n",
       "      <td>0.030889</td>\n",
       "    </tr>\n",
       "    <tr>\n",
       "      <th>PC6</th>\n",
       "      <td>0.025476</td>\n",
       "    </tr>\n",
       "    <tr>\n",
       "      <th>PC7</th>\n",
       "      <td>0.022721</td>\n",
       "    </tr>\n",
       "    <tr>\n",
       "      <th>PC8</th>\n",
       "      <td>0.019614</td>\n",
       "    </tr>\n",
       "    <tr>\n",
       "      <th>PC9</th>\n",
       "      <td>0.015903</td>\n",
       "    </tr>\n",
       "    <tr>\n",
       "      <th>PC10</th>\n",
       "      <td>0.011896</td>\n",
       "    </tr>\n",
       "  </tbody>\n",
       "</table>\n",
       "</div>"
      ],
      "text/plain": [
       "             0\n",
       "PC1   0.724512\n",
       "PC2   0.060314\n",
       "PC3   0.050021\n",
       "PC4   0.038654\n",
       "PC5   0.030889\n",
       "PC6   0.025476\n",
       "PC7   0.022721\n",
       "PC8   0.019614\n",
       "PC9   0.015903\n",
       "PC10  0.011896"
      ]
     },
     "execution_count": 19,
     "metadata": {},
     "output_type": "execute_result"
    }
   ],
   "source": [
    "pca = PCA()\n",
    "result = pca.fit_transform(dfs[13].iloc[:,:-1])\n",
    "df_contribution = pd.DataFrame(pca.explained_variance_ratio_, index=[\"PC{}\".format(x + 1) for x in range(len(dfs[13].iloc[:,:-1].columns))])\n",
    "df_contribution"
   ]
  },
  {
   "cell_type": "code",
   "execution_count": 20,
   "metadata": {},
   "outputs": [
    {
     "data": {
      "text/html": [
       "\n",
       "\n",
       "\n",
       "\n",
       "\n",
       "\n",
       "  <div class=\"bk-root\" id=\"54c7ca4d-a03c-4503-a33f-eddb013b9595\" data-root-id=\"3228\"></div>\n"
      ]
     },
     "metadata": {},
     "output_type": "display_data"
    },
    {
     "data": {
      "application/javascript": [
       "(function(root) {\n",
       "  function embed_document(root) {\n",
       "    \n",
       "  var docs_json = {\"e76faf63-d5ef-4f58-8d02-baf50bb9c8f5\":{\"roots\":{\"references\":[{\"attributes\":{\"below\":[{\"id\":\"3239\"}],\"center\":[{\"id\":\"3242\"},{\"id\":\"3246\"}],\"left\":[{\"id\":\"3243\"}],\"renderers\":[{\"id\":\"3264\"}],\"title\":{\"id\":\"3229\"},\"toolbar\":{\"id\":\"3254\"},\"x_range\":{\"id\":\"3231\"},\"x_scale\":{\"id\":\"3235\"},\"y_range\":{\"id\":\"3233\"},\"y_scale\":{\"id\":\"3237\"}},\"id\":\"3228\",\"subtype\":\"Figure\",\"type\":\"Plot\"},{\"attributes\":{\"text\":\"Contribution rate\"},\"id\":\"3229\",\"type\":\"Title\"},{\"attributes\":{\"active_drag\":\"auto\",\"active_inspect\":\"auto\",\"active_multi\":null,\"active_scroll\":\"auto\",\"active_tap\":\"auto\",\"tools\":[{\"id\":\"3247\"},{\"id\":\"3248\"},{\"id\":\"3249\"},{\"id\":\"3250\"},{\"id\":\"3251\"},{\"id\":\"3252\"}]},\"id\":\"3254\",\"type\":\"Toolbar\"},{\"attributes\":{},\"id\":\"3231\",\"type\":\"DataRange1d\"},{\"attributes\":{\"bottom_units\":\"screen\",\"fill_alpha\":0.5,\"fill_color\":\"lightgrey\",\"left_units\":\"screen\",\"level\":\"overlay\",\"line_alpha\":1.0,\"line_color\":\"black\",\"line_dash\":[4,4],\"line_width\":2,\"right_units\":\"screen\",\"top_units\":\"screen\"},\"id\":\"3253\",\"type\":\"BoxAnnotation\"},{\"attributes\":{},\"id\":\"3233\",\"type\":\"DataRange1d\"},{\"attributes\":{},\"id\":\"3235\",\"type\":\"LinearScale\"},{\"attributes\":{\"line_color\":\"#1f77b4\",\"line_width\":2,\"x\":{\"field\":\"x\"},\"y\":{\"field\":\"y\"}},\"id\":\"3262\",\"type\":\"Line\"},{\"attributes\":{},\"id\":\"3237\",\"type\":\"LinearScale\"},{\"attributes\":{\"data_source\":{\"id\":\"3261\"},\"glyph\":{\"id\":\"3262\"},\"hover_glyph\":null,\"muted_glyph\":null,\"nonselection_glyph\":{\"id\":\"3263\"},\"selection_glyph\":null,\"view\":{\"id\":\"3265\"}},\"id\":\"3264\",\"type\":\"GlyphRenderer\"},{\"attributes\":{\"line_alpha\":0.1,\"line_color\":\"#1f77b4\",\"line_width\":2,\"x\":{\"field\":\"x\"},\"y\":{\"field\":\"y\"}},\"id\":\"3263\",\"type\":\"Line\"},{\"attributes\":{\"axis_label\":\"PC\",\"formatter\":{\"id\":\"3407\"},\"ticker\":{\"id\":\"3240\"}},\"id\":\"3239\",\"type\":\"LinearAxis\"},{\"attributes\":{},\"id\":\"3240\",\"type\":\"BasicTicker\"},{\"attributes\":{},\"id\":\"3407\",\"type\":\"BasicTickFormatter\"},{\"attributes\":{\"axis\":{\"id\":\"3239\"},\"ticker\":null},\"id\":\"3242\",\"type\":\"Grid\"},{\"attributes\":{},\"id\":\"3411\",\"type\":\"UnionRenderers\"},{\"attributes\":{},\"id\":\"3412\",\"type\":\"Selection\"},{\"attributes\":{\"overlay\":{\"id\":\"3253\"}},\"id\":\"3249\",\"type\":\"BoxZoomTool\"},{\"attributes\":{},\"id\":\"3409\",\"type\":\"BasicTickFormatter\"},{\"attributes\":{},\"id\":\"3252\",\"type\":\"HelpTool\"},{\"attributes\":{\"axis_label\":\"Cumulative Contribution Rate\",\"formatter\":{\"id\":\"3409\"},\"ticker\":{\"id\":\"3244\"}},\"id\":\"3243\",\"type\":\"LinearAxis\"},{\"attributes\":{},\"id\":\"3244\",\"type\":\"BasicTicker\"},{\"attributes\":{\"axis\":{\"id\":\"3243\"},\"dimension\":1,\"ticker\":null},\"id\":\"3246\",\"type\":\"Grid\"},{\"attributes\":{\"source\":{\"id\":\"3261\"}},\"id\":\"3265\",\"type\":\"CDSView\"},{\"attributes\":{},\"id\":\"3248\",\"type\":\"WheelZoomTool\"},{\"attributes\":{},\"id\":\"3250\",\"type\":\"SaveTool\"},{\"attributes\":{},\"id\":\"3247\",\"type\":\"PanTool\"},{\"attributes\":{},\"id\":\"3251\",\"type\":\"ResetTool\"},{\"attributes\":{\"data\":{\"x\":[0,1,2,3,4,5,6,7,8,9,10],\"y\":[0,0.7245121818747737,0.7848263301876047,0.8348474128585636,0.8735010672582576,0.9043896568481655,0.9298659774320839,0.9525874614904647,0.9722015934225435,0.9881044356932084,1.0000000000000002]},\"selected\":{\"id\":\"3412\"},\"selection_policy\":{\"id\":\"3411\"}},\"id\":\"3261\",\"type\":\"ColumnDataSource\"}],\"root_ids\":[\"3228\"]},\"title\":\"Bokeh Application\",\"version\":\"2.2.3\"}};\n",
       "  var render_items = [{\"docid\":\"e76faf63-d5ef-4f58-8d02-baf50bb9c8f5\",\"root_ids\":[\"3228\"],\"roots\":{\"3228\":\"54c7ca4d-a03c-4503-a33f-eddb013b9595\"}}];\n",
       "  root.Bokeh.embed.embed_items_notebook(docs_json, render_items);\n",
       "\n",
       "  }\n",
       "  if (root.Bokeh !== undefined) {\n",
       "    embed_document(root);\n",
       "  } else {\n",
       "    var attempts = 0;\n",
       "    var timer = setInterval(function(root) {\n",
       "      if (root.Bokeh !== undefined) {\n",
       "        clearInterval(timer);\n",
       "        embed_document(root);\n",
       "      } else {\n",
       "        attempts++;\n",
       "        if (attempts > 100) {\n",
       "          clearInterval(timer);\n",
       "          console.log(\"Bokeh: ERROR: Unable to run BokehJS code because BokehJS library is missing\");\n",
       "        }\n",
       "      }\n",
       "    }, 10, root)\n",
       "  }\n",
       "})(window);"
      ],
      "application/vnd.bokehjs_exec.v0+json": ""
     },
     "metadata": {
      "application/vnd.bokehjs_exec.v0+json": {
       "id": "3228"
      }
     },
     "output_type": "display_data"
    }
   ],
   "source": [
    "x = [0,1,2,3,4,5,6,7,8,9,10]\n",
    "\n",
    "contribution = df_contribution.iloc[:,0].tolist()\n",
    "cumulative_contribution_rate = [0] + [sum(contribution[:i+1]) for i in range(len(contribution))]\n",
    "y = cumulative_contribution_rate\n",
    "\n",
    "p = figure(title=\"Contribution rate\", x_axis_label='PC', y_axis_label='Cumulative Contribution Rate')\n",
    "p.line(x, y, line_width=2)\n",
    "show(p)"
   ]
  },
  {
   "cell_type": "code",
   "execution_count": 21,
   "metadata": {},
   "outputs": [
    {
     "data": {
      "text/html": [
       "\n",
       "\n",
       "\n",
       "\n",
       "\n",
       "\n",
       "  <div class=\"bk-root\" id=\"18b9beec-4ab5-4d56-b357-fc319e356cdc\" data-root-id=\"3456\"></div>\n"
      ]
     },
     "metadata": {},
     "output_type": "display_data"
    },
    {
     "data": {
      "application/javascript": [
       "(function(root) {\n",
       "  function embed_document(root) {\n",
       "    \n",
       "  var docs_json = {\"20c73316-2bc3-4be2-808e-cedf0b2b8cb9\":{\"roots\":{\"references\":[{\"attributes\":{\"below\":[{\"id\":\"3465\"}],\"center\":[{\"id\":\"3468\"},{\"id\":\"3472\"}],\"left\":[{\"id\":\"3469\"}],\"plot_height\":500,\"plot_width\":550,\"renderers\":[{\"id\":\"3480\"}],\"title\":{\"id\":\"3630\"},\"toolbar\":{\"id\":\"3474\"},\"x_range\":{\"id\":\"3457\"},\"x_scale\":{\"id\":\"3461\"},\"y_range\":{\"id\":\"3459\"},\"y_scale\":{\"id\":\"3463\"}},\"id\":\"3456\",\"subtype\":\"Figure\",\"type\":\"Plot\"},{\"attributes\":{\"axis\":{\"id\":\"3469\"},\"dimension\":1,\"ticker\":null},\"id\":\"3472\",\"type\":\"Grid\"},{\"attributes\":{},\"id\":\"3473\",\"type\":\"SaveTool\"},{\"attributes\":{},\"id\":\"3466\",\"type\":\"BasicTicker\"},{\"attributes\":{\"active_drag\":\"auto\",\"active_inspect\":\"auto\",\"active_multi\":null,\"active_scroll\":\"auto\",\"active_tap\":\"auto\",\"tools\":[{\"id\":\"3455\"},{\"id\":\"3473\"}]},\"id\":\"3474\",\"type\":\"Toolbar\"},{\"attributes\":{\"text\":\"\"},\"id\":\"3630\",\"type\":\"Title\"},{\"attributes\":{\"data_source\":{\"id\":\"3454\"},\"glyph\":{\"id\":\"3478\"},\"hover_glyph\":null,\"muted_glyph\":null,\"nonselection_glyph\":{\"id\":\"3479\"},\"selection_glyph\":null,\"view\":{\"id\":\"3481\"}},\"id\":\"3480\",\"type\":\"GlyphRenderer\"},{\"attributes\":{\"callback\":null,\"tooltips\":[[\"index\",\"$index\"],[\"desc\",\"@desc\"]]},\"id\":\"3455\",\"type\":\"HoverTool\"},{\"attributes\":{},\"id\":\"3459\",\"type\":\"DataRange1d\"},{\"attributes\":{},\"id\":\"3632\",\"type\":\"BasicTickFormatter\"},{\"attributes\":{\"fill_alpha\":{\"value\":0.1},\"fill_color\":{\"value\":\"blue\"},\"line_alpha\":{\"value\":0.1},\"line_color\":{\"value\":\"blue\"},\"size\":{\"units\":\"screen\",\"value\":14},\"x\":{\"field\":\"x\"},\"y\":{\"field\":\"y\"}},\"id\":\"3479\",\"type\":\"Circle\"},{\"attributes\":{\"source\":{\"id\":\"3454\"}},\"id\":\"3481\",\"type\":\"CDSView\"},{\"attributes\":{},\"id\":\"3634\",\"type\":\"BasicTickFormatter\"},{\"attributes\":{\"formatter\":{\"id\":\"3634\"},\"ticker\":{\"id\":\"3470\"}},\"id\":\"3469\",\"type\":\"LinearAxis\"},{\"attributes\":{},\"id\":\"3636\",\"type\":\"UnionRenderers\"},{\"attributes\":{\"formatter\":{\"id\":\"3632\"},\"ticker\":{\"id\":\"3466\"}},\"id\":\"3465\",\"type\":\"LinearAxis\"},{\"attributes\":{},\"id\":\"3637\",\"type\":\"Selection\"},{\"attributes\":{\"axis\":{\"id\":\"3465\"},\"ticker\":null},\"id\":\"3468\",\"type\":\"Grid\"},{\"attributes\":{},\"id\":\"3463\",\"type\":\"LinearScale\"},{\"attributes\":{\"data\":{\"desc\":[\"TCCGCGGGAAACAG\",\"ACGTGATTCCAAAC\",\"GGGGTACTGTAGTA\",\"TCGTATTCCCATCT\",\"TAAATAACTTCGCT\",\"ACTCGACCAAAAAT\",\"CGCATTATCATTCC\",\"TAGAAGATCTATAC\",\"TCACTAACCTGTTG\",\"AGTCGACAAAAGAG\"],\"x\":{\"__ndarray__\":\"und6jZqy1b9k06BtnRfUP9pH+Kt5SNQ/8e7KFglt0z+m+ZmoLvLTP6OuYeMlItQ/kXAQ3mS41D/s0Ln1oafUP8NmnvcbstQ/yBmRvOmU0j8=\",\"dtype\":\"float64\",\"order\":\"little\",\"shape\":[10]},\"y\":{\"__ndarray__\":\"gw6IwTPRn7+rFvVjzLCyPzk9NkTHk7E/7A+Yd7vY4b/+3ujhraqsP0jLGLKUidI/jXwDGDHQ1D9tNuIW+EC1v8cKzWh1r9Q/fWPtRZCQ478=\",\"dtype\":\"float64\",\"order\":\"little\",\"shape\":[10]}},\"selected\":{\"id\":\"3637\"},\"selection_policy\":{\"id\":\"3636\"}},\"id\":\"3454\",\"type\":\"ColumnDataSource\"},{\"attributes\":{\"fill_color\":{\"value\":\"blue\"},\"line_color\":{\"value\":\"blue\"},\"size\":{\"units\":\"screen\",\"value\":14},\"x\":{\"field\":\"x\"},\"y\":{\"field\":\"y\"}},\"id\":\"3478\",\"type\":\"Circle\"},{\"attributes\":{},\"id\":\"3457\",\"type\":\"DataRange1d\"},{\"attributes\":{},\"id\":\"3470\",\"type\":\"BasicTicker\"},{\"attributes\":{},\"id\":\"3461\",\"type\":\"LinearScale\"}],\"root_ids\":[\"3456\"]},\"title\":\"Bokeh Application\",\"version\":\"2.2.3\"}};\n",
       "  var render_items = [{\"docid\":\"20c73316-2bc3-4be2-808e-cedf0b2b8cb9\",\"root_ids\":[\"3456\"],\"roots\":{\"3456\":\"18b9beec-4ab5-4d56-b357-fc319e356cdc\"}}];\n",
       "  root.Bokeh.embed.embed_items_notebook(docs_json, render_items);\n",
       "\n",
       "  }\n",
       "  if (root.Bokeh !== undefined) {\n",
       "    embed_document(root);\n",
       "  } else {\n",
       "    var attempts = 0;\n",
       "    var timer = setInterval(function(root) {\n",
       "      if (root.Bokeh !== undefined) {\n",
       "        clearInterval(timer);\n",
       "        embed_document(root);\n",
       "      } else {\n",
       "        attempts++;\n",
       "        if (attempts > 100) {\n",
       "          clearInterval(timer);\n",
       "          console.log(\"Bokeh: ERROR: Unable to run BokehJS code because BokehJS library is missing\");\n",
       "        }\n",
       "      }\n",
       "    }, 10, root)\n",
       "  }\n",
       "})(window);"
      ],
      "application/vnd.bokehjs_exec.v0+json": ""
     },
     "metadata": {
      "application/vnd.bokehjs_exec.v0+json": {
       "id": "3456"
      }
     },
     "output_type": "display_data"
    }
   ],
   "source": [
    "df_res = pd.DataFrame([pca.components_[0], pca.components_[1]]).T\n",
    "df_res.columns = [\"x\", \"y\"]\n",
    "df_res.index = dfs[13].iloc[:,:-1].columns.tolist()\n",
    "\n",
    "source = ColumnDataSource(\n",
    "    data=dict(\n",
    "        x=df_res[\"x\"],\n",
    "        y=df_res[\"y\"],\n",
    "        desc=df_res.index.tolist()\n",
    "    )\n",
    ")\n",
    "\n",
    "hover = HoverTool(\n",
    "    tooltips=[\n",
    "        (\"index\", \"$index\"),\n",
    "        (\"desc\", \"@desc\"),\n",
    "    ]\n",
    ")\n",
    "\n",
    "p = figure(tools=[hover, \"save\"], plot_width=550, plot_height=500)\n",
    "#p.xaxis.major_label_text_color = \"white\"\n",
    "#p.yaxis.major_label_text_color = \"white\"\n",
    "\n",
    "p.circle(\"x\", \"y\", fill_color=\"blue\", line_color=\"blue\", fill_alpha=1, size=14, source=source)\n",
    "\n",
    "show(p)"
   ]
  },
  {
   "cell_type": "markdown",
   "metadata": {},
   "source": [
    "### q = 13"
   ]
  },
  {
   "cell_type": "code",
   "execution_count": 22,
   "metadata": {},
   "outputs": [
    {
     "data": {
      "text/html": [
       "<div>\n",
       "<style scoped>\n",
       "    .dataframe tbody tr th:only-of-type {\n",
       "        vertical-align: middle;\n",
       "    }\n",
       "\n",
       "    .dataframe tbody tr th {\n",
       "        vertical-align: top;\n",
       "    }\n",
       "\n",
       "    .dataframe thead th {\n",
       "        text-align: right;\n",
       "    }\n",
       "</style>\n",
       "<table border=\"1\" class=\"dataframe\">\n",
       "  <thead>\n",
       "    <tr style=\"text-align: right;\">\n",
       "      <th></th>\n",
       "      <th>0</th>\n",
       "    </tr>\n",
       "  </thead>\n",
       "  <tbody>\n",
       "    <tr>\n",
       "      <th>PC1</th>\n",
       "      <td>0.682470</td>\n",
       "    </tr>\n",
       "    <tr>\n",
       "      <th>PC2</th>\n",
       "      <td>0.071519</td>\n",
       "    </tr>\n",
       "    <tr>\n",
       "      <th>PC3</th>\n",
       "      <td>0.052607</td>\n",
       "    </tr>\n",
       "    <tr>\n",
       "      <th>PC4</th>\n",
       "      <td>0.044909</td>\n",
       "    </tr>\n",
       "    <tr>\n",
       "      <th>PC5</th>\n",
       "      <td>0.042769</td>\n",
       "    </tr>\n",
       "    <tr>\n",
       "      <th>PC6</th>\n",
       "      <td>0.036584</td>\n",
       "    </tr>\n",
       "    <tr>\n",
       "      <th>PC7</th>\n",
       "      <td>0.022764</td>\n",
       "    </tr>\n",
       "    <tr>\n",
       "      <th>PC8</th>\n",
       "      <td>0.019328</td>\n",
       "    </tr>\n",
       "    <tr>\n",
       "      <th>PC9</th>\n",
       "      <td>0.014622</td>\n",
       "    </tr>\n",
       "    <tr>\n",
       "      <th>PC10</th>\n",
       "      <td>0.012429</td>\n",
       "    </tr>\n",
       "  </tbody>\n",
       "</table>\n",
       "</div>"
      ],
      "text/plain": [
       "             0\n",
       "PC1   0.682470\n",
       "PC2   0.071519\n",
       "PC3   0.052607\n",
       "PC4   0.044909\n",
       "PC5   0.042769\n",
       "PC6   0.036584\n",
       "PC7   0.022764\n",
       "PC8   0.019328\n",
       "PC9   0.014622\n",
       "PC10  0.012429"
      ]
     },
     "execution_count": 22,
     "metadata": {},
     "output_type": "execute_result"
    }
   ],
   "source": [
    "pca = PCA()\n",
    "result = pca.fit_transform(dfs[12].iloc[:,:-1])\n",
    "df_contribution = pd.DataFrame(pca.explained_variance_ratio_, index=[\"PC{}\".format(x + 1) for x in range(len(dfs[12].iloc[:,:-1].columns))])\n",
    "df_contribution"
   ]
  },
  {
   "cell_type": "code",
   "execution_count": 23,
   "metadata": {},
   "outputs": [
    {
     "data": {
      "text/html": [
       "\n",
       "\n",
       "\n",
       "\n",
       "\n",
       "\n",
       "  <div class=\"bk-root\" id=\"9976c0fe-92bd-4b32-93cf-0fdb698947d1\" data-root-id=\"3678\"></div>\n"
      ]
     },
     "metadata": {},
     "output_type": "display_data"
    },
    {
     "data": {
      "application/javascript": [
       "(function(root) {\n",
       "  function embed_document(root) {\n",
       "    \n",
       "  var docs_json = {\"8ea813f5-b94a-4391-a0e4-c5cbdaeb4551\":{\"roots\":{\"references\":[{\"attributes\":{\"below\":[{\"id\":\"3689\"}],\"center\":[{\"id\":\"3692\"},{\"id\":\"3696\"}],\"left\":[{\"id\":\"3693\"}],\"renderers\":[{\"id\":\"3714\"}],\"title\":{\"id\":\"3679\"},\"toolbar\":{\"id\":\"3704\"},\"x_range\":{\"id\":\"3681\"},\"x_scale\":{\"id\":\"3685\"},\"y_range\":{\"id\":\"3683\"},\"y_scale\":{\"id\":\"3687\"}},\"id\":\"3678\",\"subtype\":\"Figure\",\"type\":\"Plot\"},{\"attributes\":{\"data_source\":{\"id\":\"3711\"},\"glyph\":{\"id\":\"3712\"},\"hover_glyph\":null,\"muted_glyph\":null,\"nonselection_glyph\":{\"id\":\"3713\"},\"selection_glyph\":null,\"view\":{\"id\":\"3715\"}},\"id\":\"3714\",\"type\":\"GlyphRenderer\"},{\"attributes\":{\"axis\":{\"id\":\"3689\"},\"ticker\":null},\"id\":\"3692\",\"type\":\"Grid\"},{\"attributes\":{},\"id\":\"3683\",\"type\":\"DataRange1d\"},{\"attributes\":{\"bottom_units\":\"screen\",\"fill_alpha\":0.5,\"fill_color\":\"lightgrey\",\"left_units\":\"screen\",\"level\":\"overlay\",\"line_alpha\":1.0,\"line_color\":\"black\",\"line_dash\":[4,4],\"line_width\":2,\"right_units\":\"screen\",\"top_units\":\"screen\"},\"id\":\"3703\",\"type\":\"BoxAnnotation\"},{\"attributes\":{},\"id\":\"3685\",\"type\":\"LinearScale\"},{\"attributes\":{},\"id\":\"3687\",\"type\":\"LinearScale\"},{\"attributes\":{\"line_color\":\"#1f77b4\",\"line_width\":2,\"x\":{\"field\":\"x\"},\"y\":{\"field\":\"y\"}},\"id\":\"3712\",\"type\":\"Line\"},{\"attributes\":{\"axis_label\":\"PC\",\"formatter\":{\"id\":\"3873\"},\"ticker\":{\"id\":\"3690\"}},\"id\":\"3689\",\"type\":\"LinearAxis\"},{\"attributes\":{},\"id\":\"3690\",\"type\":\"BasicTicker\"},{\"attributes\":{\"text\":\"Contribution rate\"},\"id\":\"3679\",\"type\":\"Title\"},{\"attributes\":{\"axis_label\":\"Cumulative Contribution Rate\",\"formatter\":{\"id\":\"3875\"},\"ticker\":{\"id\":\"3694\"}},\"id\":\"3693\",\"type\":\"LinearAxis\"},{\"attributes\":{\"data\":{\"x\":[0,1,2,3,4,5,6,7,8,9,10],\"y\":[0,0.6824702540717236,0.7539894265806479,0.8065964125559885,0.8515049920551625,0.8942736850532083,0.9308575919681187,0.9536212183707223,0.9729492831480782,0.9875712741724303,1.0]},\"selected\":{\"id\":\"3878\"},\"selection_policy\":{\"id\":\"3877\"}},\"id\":\"3711\",\"type\":\"ColumnDataSource\"},{\"attributes\":{},\"id\":\"3698\",\"type\":\"WheelZoomTool\"},{\"attributes\":{},\"id\":\"3681\",\"type\":\"DataRange1d\"},{\"attributes\":{\"active_drag\":\"auto\",\"active_inspect\":\"auto\",\"active_multi\":null,\"active_scroll\":\"auto\",\"active_tap\":\"auto\",\"tools\":[{\"id\":\"3697\"},{\"id\":\"3698\"},{\"id\":\"3699\"},{\"id\":\"3700\"},{\"id\":\"3701\"},{\"id\":\"3702\"}]},\"id\":\"3704\",\"type\":\"Toolbar\"},{\"attributes\":{},\"id\":\"3873\",\"type\":\"BasicTickFormatter\"},{\"attributes\":{},\"id\":\"3697\",\"type\":\"PanTool\"},{\"attributes\":{},\"id\":\"3694\",\"type\":\"BasicTicker\"},{\"attributes\":{\"axis\":{\"id\":\"3693\"},\"dimension\":1,\"ticker\":null},\"id\":\"3696\",\"type\":\"Grid\"},{\"attributes\":{\"line_alpha\":0.1,\"line_color\":\"#1f77b4\",\"line_width\":2,\"x\":{\"field\":\"x\"},\"y\":{\"field\":\"y\"}},\"id\":\"3713\",\"type\":\"Line\"},{\"attributes\":{},\"id\":\"3700\",\"type\":\"SaveTool\"},{\"attributes\":{},\"id\":\"3878\",\"type\":\"Selection\"},{\"attributes\":{},\"id\":\"3702\",\"type\":\"HelpTool\"},{\"attributes\":{},\"id\":\"3701\",\"type\":\"ResetTool\"},{\"attributes\":{},\"id\":\"3875\",\"type\":\"BasicTickFormatter\"},{\"attributes\":{\"source\":{\"id\":\"3711\"}},\"id\":\"3715\",\"type\":\"CDSView\"},{\"attributes\":{},\"id\":\"3877\",\"type\":\"UnionRenderers\"},{\"attributes\":{\"overlay\":{\"id\":\"3703\"}},\"id\":\"3699\",\"type\":\"BoxZoomTool\"}],\"root_ids\":[\"3678\"]},\"title\":\"Bokeh Application\",\"version\":\"2.2.3\"}};\n",
       "  var render_items = [{\"docid\":\"8ea813f5-b94a-4391-a0e4-c5cbdaeb4551\",\"root_ids\":[\"3678\"],\"roots\":{\"3678\":\"9976c0fe-92bd-4b32-93cf-0fdb698947d1\"}}];\n",
       "  root.Bokeh.embed.embed_items_notebook(docs_json, render_items);\n",
       "\n",
       "  }\n",
       "  if (root.Bokeh !== undefined) {\n",
       "    embed_document(root);\n",
       "  } else {\n",
       "    var attempts = 0;\n",
       "    var timer = setInterval(function(root) {\n",
       "      if (root.Bokeh !== undefined) {\n",
       "        clearInterval(timer);\n",
       "        embed_document(root);\n",
       "      } else {\n",
       "        attempts++;\n",
       "        if (attempts > 100) {\n",
       "          clearInterval(timer);\n",
       "          console.log(\"Bokeh: ERROR: Unable to run BokehJS code because BokehJS library is missing\");\n",
       "        }\n",
       "      }\n",
       "    }, 10, root)\n",
       "  }\n",
       "})(window);"
      ],
      "application/vnd.bokehjs_exec.v0+json": ""
     },
     "metadata": {
      "application/vnd.bokehjs_exec.v0+json": {
       "id": "3678"
      }
     },
     "output_type": "display_data"
    }
   ],
   "source": [
    "x = [0,1,2,3,4,5,6,7,8,9,10]\n",
    "\n",
    "contribution = df_contribution.iloc[:,0].tolist()\n",
    "cumulative_contribution_rate = [0] + [sum(contribution[:i+1]) for i in range(len(contribution))]\n",
    "y = cumulative_contribution_rate\n",
    "\n",
    "p = figure(title=\"Contribution rate\", x_axis_label='PC', y_axis_label='Cumulative Contribution Rate')\n",
    "p.line(x, y, line_width=2)\n",
    "show(p)"
   ]
  },
  {
   "cell_type": "code",
   "execution_count": 24,
   "metadata": {},
   "outputs": [
    {
     "data": {
      "text/html": [
       "\n",
       "\n",
       "\n",
       "\n",
       "\n",
       "\n",
       "  <div class=\"bk-root\" id=\"d7bdbc94-aefd-45ea-ab4d-137c337df058\" data-root-id=\"3922\"></div>\n"
      ]
     },
     "metadata": {},
     "output_type": "display_data"
    },
    {
     "data": {
      "application/javascript": [
       "(function(root) {\n",
       "  function embed_document(root) {\n",
       "    \n",
       "  var docs_json = {\"b613730b-df33-44dd-ab0f-e46c7d6638fc\":{\"roots\":{\"references\":[{\"attributes\":{\"below\":[{\"id\":\"3931\"}],\"center\":[{\"id\":\"3934\"},{\"id\":\"3938\"}],\"left\":[{\"id\":\"3935\"}],\"plot_height\":500,\"plot_width\":550,\"renderers\":[{\"id\":\"3946\"}],\"title\":{\"id\":\"4112\"},\"toolbar\":{\"id\":\"3940\"},\"x_range\":{\"id\":\"3923\"},\"x_scale\":{\"id\":\"3927\"},\"y_range\":{\"id\":\"3925\"},\"y_scale\":{\"id\":\"3929\"}},\"id\":\"3922\",\"subtype\":\"Figure\",\"type\":\"Plot\"},{\"attributes\":{\"text\":\"\"},\"id\":\"4112\",\"type\":\"Title\"},{\"attributes\":{},\"id\":\"3932\",\"type\":\"BasicTicker\"},{\"attributes\":{\"axis\":{\"id\":\"3931\"},\"ticker\":null},\"id\":\"3934\",\"type\":\"Grid\"},{\"attributes\":{\"formatter\":{\"id\":\"4116\"},\"ticker\":{\"id\":\"3936\"}},\"id\":\"3935\",\"type\":\"LinearAxis\"},{\"attributes\":{},\"id\":\"3936\",\"type\":\"BasicTicker\"},{\"attributes\":{\"axis\":{\"id\":\"3935\"},\"dimension\":1,\"ticker\":null},\"id\":\"3938\",\"type\":\"Grid\"},{\"attributes\":{},\"id\":\"4119\",\"type\":\"Selection\"},{\"attributes\":{},\"id\":\"3939\",\"type\":\"SaveTool\"},{\"attributes\":{\"active_drag\":\"auto\",\"active_inspect\":\"auto\",\"active_multi\":null,\"active_scroll\":\"auto\",\"active_tap\":\"auto\",\"tools\":[{\"id\":\"3921\"},{\"id\":\"3939\"}]},\"id\":\"3940\",\"type\":\"Toolbar\"},{\"attributes\":{\"formatter\":{\"id\":\"4114\"},\"ticker\":{\"id\":\"3932\"}},\"id\":\"3931\",\"type\":\"LinearAxis\"},{\"attributes\":{},\"id\":\"4116\",\"type\":\"BasicTickFormatter\"},{\"attributes\":{},\"id\":\"4118\",\"type\":\"UnionRenderers\"},{\"attributes\":{\"source\":{\"id\":\"3920\"}},\"id\":\"3947\",\"type\":\"CDSView\"},{\"attributes\":{\"fill_alpha\":{\"value\":0.1},\"fill_color\":{\"value\":\"blue\"},\"line_alpha\":{\"value\":0.1},\"line_color\":{\"value\":\"blue\"},\"size\":{\"units\":\"screen\",\"value\":14},\"x\":{\"field\":\"x\"},\"y\":{\"field\":\"y\"}},\"id\":\"3945\",\"type\":\"Circle\"},{\"attributes\":{\"callback\":null,\"tooltips\":[[\"index\",\"$index\"],[\"desc\",\"@desc\"]]},\"id\":\"3921\",\"type\":\"HoverTool\"},{\"attributes\":{},\"id\":\"3925\",\"type\":\"DataRange1d\"},{\"attributes\":{},\"id\":\"4114\",\"type\":\"BasicTickFormatter\"},{\"attributes\":{},\"id\":\"3923\",\"type\":\"DataRange1d\"},{\"attributes\":{},\"id\":\"3927\",\"type\":\"LinearScale\"},{\"attributes\":{},\"id\":\"3929\",\"type\":\"LinearScale\"},{\"attributes\":{\"fill_color\":{\"value\":\"blue\"},\"line_color\":{\"value\":\"blue\"},\"size\":{\"units\":\"screen\",\"value\":14},\"x\":{\"field\":\"x\"},\"y\":{\"field\":\"y\"}},\"id\":\"3944\",\"type\":\"Circle\"},{\"attributes\":{\"data\":{\"desc\":[\"GAGGTTTCTCGTC\",\"CTAGTTCGAGGAA\",\"CCAGACCGGGCTA\",\"GTACTCGAGGATT\",\"AATAGCGACTCTC\",\"CAAGACGTGCAAT\",\"ATCGAGCTTGTAT\",\"CAGATCCGGGATA\",\"TCTAAGGATGTCG\",\"GGTCTCATTCGGC\"],\"x\":{\"__ndarray__\":\"k4s7F+4f1T922066pSHVP64vGlEOctQ/fp7J1ZZt0j8aSm+qBQ/TPxUr7RxD9dM/1oLZXHAx1D9MXbpoQ/DUP1dkD/Hya9Q/XGS48HuD1D8=\",\"dtype\":\"float64\",\"order\":\"little\",\"shape\":[10]},\"y\":{\"__ndarray__\":\"nG8uafQwoT9I+VGMCo2sP0zn4gpE3dE/p61EoqOF279r7vtg5AnMPwF4De4lCtG/LWYCRf/qy792EQg5slrTP+eksWLV99+/kKXQDLVk3j8=\",\"dtype\":\"float64\",\"order\":\"little\",\"shape\":[10]}},\"selected\":{\"id\":\"4119\"},\"selection_policy\":{\"id\":\"4118\"}},\"id\":\"3920\",\"type\":\"ColumnDataSource\"},{\"attributes\":{\"data_source\":{\"id\":\"3920\"},\"glyph\":{\"id\":\"3944\"},\"hover_glyph\":null,\"muted_glyph\":null,\"nonselection_glyph\":{\"id\":\"3945\"},\"selection_glyph\":null,\"view\":{\"id\":\"3947\"}},\"id\":\"3946\",\"type\":\"GlyphRenderer\"}],\"root_ids\":[\"3922\"]},\"title\":\"Bokeh Application\",\"version\":\"2.2.3\"}};\n",
       "  var render_items = [{\"docid\":\"b613730b-df33-44dd-ab0f-e46c7d6638fc\",\"root_ids\":[\"3922\"],\"roots\":{\"3922\":\"d7bdbc94-aefd-45ea-ab4d-137c337df058\"}}];\n",
       "  root.Bokeh.embed.embed_items_notebook(docs_json, render_items);\n",
       "\n",
       "  }\n",
       "  if (root.Bokeh !== undefined) {\n",
       "    embed_document(root);\n",
       "  } else {\n",
       "    var attempts = 0;\n",
       "    var timer = setInterval(function(root) {\n",
       "      if (root.Bokeh !== undefined) {\n",
       "        clearInterval(timer);\n",
       "        embed_document(root);\n",
       "      } else {\n",
       "        attempts++;\n",
       "        if (attempts > 100) {\n",
       "          clearInterval(timer);\n",
       "          console.log(\"Bokeh: ERROR: Unable to run BokehJS code because BokehJS library is missing\");\n",
       "        }\n",
       "      }\n",
       "    }, 10, root)\n",
       "  }\n",
       "})(window);"
      ],
      "application/vnd.bokehjs_exec.v0+json": ""
     },
     "metadata": {
      "application/vnd.bokehjs_exec.v0+json": {
       "id": "3922"
      }
     },
     "output_type": "display_data"
    }
   ],
   "source": [
    "df_res = pd.DataFrame([pca.components_[0], pca.components_[1]]).T\n",
    "df_res.columns = [\"x\", \"y\"]\n",
    "df_res.index = dfs[12].iloc[:,:-1].columns.tolist()\n",
    "\n",
    "source = ColumnDataSource(\n",
    "    data=dict(\n",
    "        x=df_res[\"x\"],\n",
    "        y=df_res[\"y\"],\n",
    "        desc=df_res.index.tolist()\n",
    "    )\n",
    ")\n",
    "\n",
    "hover = HoverTool(\n",
    "    tooltips=[\n",
    "        (\"index\", \"$index\"),\n",
    "        (\"desc\", \"@desc\"),\n",
    "    ]\n",
    ")\n",
    "\n",
    "p = figure(tools=[hover, \"save\"], plot_width=550, plot_height=500)\n",
    "#p.xaxis.major_label_text_color = \"white\"\n",
    "#p.yaxis.major_label_text_color = \"white\"\n",
    "\n",
    "p.circle(\"x\", \"y\", fill_color=\"blue\", line_color=\"blue\", fill_alpha=1, size=14, source=source)\n",
    "\n",
    "show(p)"
   ]
  },
  {
   "cell_type": "markdown",
   "metadata": {},
   "source": [
    "### q = 12"
   ]
  },
  {
   "cell_type": "code",
   "execution_count": 26,
   "metadata": {},
   "outputs": [
    {
     "data": {
      "text/html": [
       "<div>\n",
       "<style scoped>\n",
       "    .dataframe tbody tr th:only-of-type {\n",
       "        vertical-align: middle;\n",
       "    }\n",
       "\n",
       "    .dataframe tbody tr th {\n",
       "        vertical-align: top;\n",
       "    }\n",
       "\n",
       "    .dataframe thead th {\n",
       "        text-align: right;\n",
       "    }\n",
       "</style>\n",
       "<table border=\"1\" class=\"dataframe\">\n",
       "  <thead>\n",
       "    <tr style=\"text-align: right;\">\n",
       "      <th></th>\n",
       "      <th>0</th>\n",
       "    </tr>\n",
       "  </thead>\n",
       "  <tbody>\n",
       "    <tr>\n",
       "      <th>PC1</th>\n",
       "      <td>0.571861</td>\n",
       "    </tr>\n",
       "    <tr>\n",
       "      <th>PC2</th>\n",
       "      <td>0.077207</td>\n",
       "    </tr>\n",
       "    <tr>\n",
       "      <th>PC3</th>\n",
       "      <td>0.072843</td>\n",
       "    </tr>\n",
       "    <tr>\n",
       "      <th>PC4</th>\n",
       "      <td>0.060836</td>\n",
       "    </tr>\n",
       "    <tr>\n",
       "      <th>PC5</th>\n",
       "      <td>0.056306</td>\n",
       "    </tr>\n",
       "    <tr>\n",
       "      <th>PC6</th>\n",
       "      <td>0.053357</td>\n",
       "    </tr>\n",
       "    <tr>\n",
       "      <th>PC7</th>\n",
       "      <td>0.036096</td>\n",
       "    </tr>\n",
       "    <tr>\n",
       "      <th>PC8</th>\n",
       "      <td>0.028598</td>\n",
       "    </tr>\n",
       "    <tr>\n",
       "      <th>PC9</th>\n",
       "      <td>0.024117</td>\n",
       "    </tr>\n",
       "    <tr>\n",
       "      <th>PC10</th>\n",
       "      <td>0.018779</td>\n",
       "    </tr>\n",
       "  </tbody>\n",
       "</table>\n",
       "</div>"
      ],
      "text/plain": [
       "             0\n",
       "PC1   0.571861\n",
       "PC2   0.077207\n",
       "PC3   0.072843\n",
       "PC4   0.060836\n",
       "PC5   0.056306\n",
       "PC6   0.053357\n",
       "PC7   0.036096\n",
       "PC8   0.028598\n",
       "PC9   0.024117\n",
       "PC10  0.018779"
      ]
     },
     "execution_count": 26,
     "metadata": {},
     "output_type": "execute_result"
    }
   ],
   "source": [
    "pca = PCA()\n",
    "result = pca.fit_transform(dfs[11].iloc[:,:-1])\n",
    "df_contribution = pd.DataFrame(pca.explained_variance_ratio_, index=[\"PC{}\".format(x + 1) for x in range(len(dfs[11].iloc[:,:-1].columns))])\n",
    "df_contribution"
   ]
  },
  {
   "cell_type": "code",
   "execution_count": 27,
   "metadata": {},
   "outputs": [
    {
     "data": {
      "text/html": [
       "\n",
       "\n",
       "\n",
       "\n",
       "\n",
       "\n",
       "  <div class=\"bk-root\" id=\"83e9ac9e-2c84-44f6-b062-5c86486753f3\" data-root-id=\"4160\"></div>\n"
      ]
     },
     "metadata": {},
     "output_type": "display_data"
    },
    {
     "data": {
      "application/javascript": [
       "(function(root) {\n",
       "  function embed_document(root) {\n",
       "    \n",
       "  var docs_json = {\"46866393-1f65-45c8-b567-0ce193895057\":{\"roots\":{\"references\":[{\"attributes\":{\"below\":[{\"id\":\"4171\"}],\"center\":[{\"id\":\"4174\"},{\"id\":\"4178\"}],\"left\":[{\"id\":\"4175\"}],\"renderers\":[{\"id\":\"4196\"}],\"title\":{\"id\":\"4161\"},\"toolbar\":{\"id\":\"4186\"},\"x_range\":{\"id\":\"4163\"},\"x_scale\":{\"id\":\"4167\"},\"y_range\":{\"id\":\"4165\"},\"y_scale\":{\"id\":\"4169\"}},\"id\":\"4160\",\"subtype\":\"Figure\",\"type\":\"Plot\"},{\"attributes\":{},\"id\":\"4182\",\"type\":\"SaveTool\"},{\"attributes\":{},\"id\":\"4180\",\"type\":\"WheelZoomTool\"},{\"attributes\":{\"axis_label\":\"Cumulative Contribution Rate\",\"formatter\":{\"id\":\"4373\"},\"ticker\":{\"id\":\"4176\"}},\"id\":\"4175\",\"type\":\"LinearAxis\"},{\"attributes\":{\"overlay\":{\"id\":\"4185\"}},\"id\":\"4181\",\"type\":\"BoxZoomTool\"},{\"attributes\":{\"axis\":{\"id\":\"4171\"},\"ticker\":null},\"id\":\"4174\",\"type\":\"Grid\"},{\"attributes\":{\"active_drag\":\"auto\",\"active_inspect\":\"auto\",\"active_multi\":null,\"active_scroll\":\"auto\",\"active_tap\":\"auto\",\"tools\":[{\"id\":\"4179\"},{\"id\":\"4180\"},{\"id\":\"4181\"},{\"id\":\"4182\"},{\"id\":\"4183\"},{\"id\":\"4184\"}]},\"id\":\"4186\",\"type\":\"Toolbar\"},{\"attributes\":{},\"id\":\"4176\",\"type\":\"BasicTicker\"},{\"attributes\":{\"line_color\":\"#1f77b4\",\"line_width\":2,\"x\":{\"field\":\"x\"},\"y\":{\"field\":\"y\"}},\"id\":\"4194\",\"type\":\"Line\"},{\"attributes\":{},\"id\":\"4184\",\"type\":\"HelpTool\"},{\"attributes\":{},\"id\":\"4169\",\"type\":\"LinearScale\"},{\"attributes\":{},\"id\":\"4376\",\"type\":\"Selection\"},{\"attributes\":{\"data_source\":{\"id\":\"4193\"},\"glyph\":{\"id\":\"4194\"},\"hover_glyph\":null,\"muted_glyph\":null,\"nonselection_glyph\":{\"id\":\"4195\"},\"selection_glyph\":null,\"view\":{\"id\":\"4197\"}},\"id\":\"4196\",\"type\":\"GlyphRenderer\"},{\"attributes\":{},\"id\":\"4183\",\"type\":\"ResetTool\"},{\"attributes\":{\"bottom_units\":\"screen\",\"fill_alpha\":0.5,\"fill_color\":\"lightgrey\",\"left_units\":\"screen\",\"level\":\"overlay\",\"line_alpha\":1.0,\"line_color\":\"black\",\"line_dash\":[4,4],\"line_width\":2,\"right_units\":\"screen\",\"top_units\":\"screen\"},\"id\":\"4185\",\"type\":\"BoxAnnotation\"},{\"attributes\":{},\"id\":\"4167\",\"type\":\"LinearScale\"},{\"attributes\":{},\"id\":\"4373\",\"type\":\"BasicTickFormatter\"},{\"attributes\":{\"line_alpha\":0.1,\"line_color\":\"#1f77b4\",\"line_width\":2,\"x\":{\"field\":\"x\"},\"y\":{\"field\":\"y\"}},\"id\":\"4195\",\"type\":\"Line\"},{\"attributes\":{},\"id\":\"4165\",\"type\":\"DataRange1d\"},{\"attributes\":{},\"id\":\"4371\",\"type\":\"BasicTickFormatter\"},{\"attributes\":{\"text\":\"Contribution rate\"},\"id\":\"4161\",\"type\":\"Title\"},{\"attributes\":{\"axis\":{\"id\":\"4175\"},\"dimension\":1,\"ticker\":null},\"id\":\"4178\",\"type\":\"Grid\"},{\"attributes\":{},\"id\":\"4172\",\"type\":\"BasicTicker\"},{\"attributes\":{\"source\":{\"id\":\"4193\"}},\"id\":\"4197\",\"type\":\"CDSView\"},{\"attributes\":{},\"id\":\"4179\",\"type\":\"PanTool\"},{\"attributes\":{\"data\":{\"x\":[0,1,2,3,4,5,6,7,8,9,10],\"y\":[0,0.5718613902011199,0.6490684789468028,0.7219113064219237,0.7827472320128402,0.8390536212816563,0.8924108772795762,0.9285069285310801,0.9571046081447315,0.9812214508762409,1.0]},\"selected\":{\"id\":\"4376\"},\"selection_policy\":{\"id\":\"4375\"}},\"id\":\"4193\",\"type\":\"ColumnDataSource\"},{\"attributes\":{\"axis_label\":\"PC\",\"formatter\":{\"id\":\"4371\"},\"ticker\":{\"id\":\"4172\"}},\"id\":\"4171\",\"type\":\"LinearAxis\"},{\"attributes\":{},\"id\":\"4163\",\"type\":\"DataRange1d\"},{\"attributes\":{},\"id\":\"4375\",\"type\":\"UnionRenderers\"}],\"root_ids\":[\"4160\"]},\"title\":\"Bokeh Application\",\"version\":\"2.2.3\"}};\n",
       "  var render_items = [{\"docid\":\"46866393-1f65-45c8-b567-0ce193895057\",\"root_ids\":[\"4160\"],\"roots\":{\"4160\":\"83e9ac9e-2c84-44f6-b062-5c86486753f3\"}}];\n",
       "  root.Bokeh.embed.embed_items_notebook(docs_json, render_items);\n",
       "\n",
       "  }\n",
       "  if (root.Bokeh !== undefined) {\n",
       "    embed_document(root);\n",
       "  } else {\n",
       "    var attempts = 0;\n",
       "    var timer = setInterval(function(root) {\n",
       "      if (root.Bokeh !== undefined) {\n",
       "        clearInterval(timer);\n",
       "        embed_document(root);\n",
       "      } else {\n",
       "        attempts++;\n",
       "        if (attempts > 100) {\n",
       "          clearInterval(timer);\n",
       "          console.log(\"Bokeh: ERROR: Unable to run BokehJS code because BokehJS library is missing\");\n",
       "        }\n",
       "      }\n",
       "    }, 10, root)\n",
       "  }\n",
       "})(window);"
      ],
      "application/vnd.bokehjs_exec.v0+json": ""
     },
     "metadata": {
      "application/vnd.bokehjs_exec.v0+json": {
       "id": "4160"
      }
     },
     "output_type": "display_data"
    }
   ],
   "source": [
    "x = [0,1,2,3,4,5,6,7,8,9,10]\n",
    "\n",
    "contribution = df_contribution.iloc[:,0].tolist()\n",
    "cumulative_contribution_rate = [0] + [sum(contribution[:i+1]) for i in range(len(contribution))]\n",
    "y = cumulative_contribution_rate\n",
    "\n",
    "p = figure(title=\"Contribution rate\", x_axis_label='PC', y_axis_label='Cumulative Contribution Rate')\n",
    "p.line(x, y, line_width=2)\n",
    "show(p)"
   ]
  },
  {
   "cell_type": "code",
   "execution_count": 28,
   "metadata": {},
   "outputs": [
    {
     "data": {
      "text/html": [
       "\n",
       "\n",
       "\n",
       "\n",
       "\n",
       "\n",
       "  <div class=\"bk-root\" id=\"c14cb4f3-c684-4938-a2e4-833b43ca6e00\" data-root-id=\"4420\"></div>\n"
      ]
     },
     "metadata": {},
     "output_type": "display_data"
    },
    {
     "data": {
      "application/javascript": [
       "(function(root) {\n",
       "  function embed_document(root) {\n",
       "    \n",
       "  var docs_json = {\"566a947d-64d0-4e37-a8c6-a1a1ce6f5971\":{\"roots\":{\"references\":[{\"attributes\":{\"below\":[{\"id\":\"4429\"}],\"center\":[{\"id\":\"4432\"},{\"id\":\"4436\"}],\"left\":[{\"id\":\"4433\"}],\"plot_height\":500,\"plot_width\":550,\"renderers\":[{\"id\":\"4444\"}],\"title\":{\"id\":\"4626\"},\"toolbar\":{\"id\":\"4438\"},\"x_range\":{\"id\":\"4421\"},\"x_scale\":{\"id\":\"4425\"},\"y_range\":{\"id\":\"4423\"},\"y_scale\":{\"id\":\"4427\"}},\"id\":\"4420\",\"subtype\":\"Figure\",\"type\":\"Plot\"},{\"attributes\":{\"data_source\":{\"id\":\"4418\"},\"glyph\":{\"id\":\"4442\"},\"hover_glyph\":null,\"muted_glyph\":null,\"nonselection_glyph\":{\"id\":\"4443\"},\"selection_glyph\":null,\"view\":{\"id\":\"4445\"}},\"id\":\"4444\",\"type\":\"GlyphRenderer\"},{\"attributes\":{},\"id\":\"4628\",\"type\":\"BasicTickFormatter\"},{\"attributes\":{\"data\":{\"desc\":[\"TGAATTTCGACG\",\"CGTAGCTCTACG\",\"ACGAGTACCGAT\",\"TATCGACTCGTT\",\"GCGACAACGGAT\",\"ACGTATTAGCGC\",\"TATAGTCGCCGC\",\"TACGCGATCGAA\",\"GGACGTTCACGA\",\"CCGTGTTGCGAC\"],\"x\":{\"__ndarray__\":\"0grKwyCl1b+6APpIqEPVvzNgwe5G39a/mAESmR6m1L/ik5hVzEPUvwduvxxaVtS/ODybnapv0z+EqFG5FJvTP8iiP7qyrNG/lqO/wj8V0r8=\",\"dtype\":\"float64\",\"order\":\"little\",\"shape\":[10]},\"y\":{\"__ndarray__\":\"9afjWzOp0r+IMGG7hxfPP49yvVtTjMy/qE+osfR4vz85gX3ePOy5v5fpt+6qmOI/CoZ+oxgisT+GcWOfbtXRP8ztsRUsuNw/SgbTYoWS2b8=\",\"dtype\":\"float64\",\"order\":\"little\",\"shape\":[10]}},\"selected\":{\"id\":\"4633\"},\"selection_policy\":{\"id\":\"4632\"}},\"id\":\"4418\",\"type\":\"ColumnDataSource\"},{\"attributes\":{},\"id\":\"4630\",\"type\":\"BasicTickFormatter\"},{\"attributes\":{},\"id\":\"4632\",\"type\":\"UnionRenderers\"},{\"attributes\":{\"text\":\"\"},\"id\":\"4626\",\"type\":\"Title\"},{\"attributes\":{},\"id\":\"4633\",\"type\":\"Selection\"},{\"attributes\":{},\"id\":\"4423\",\"type\":\"DataRange1d\"},{\"attributes\":{},\"id\":\"4430\",\"type\":\"BasicTicker\"},{\"attributes\":{\"callback\":null,\"tooltips\":[[\"index\",\"$index\"],[\"desc\",\"@desc\"]]},\"id\":\"4419\",\"type\":\"HoverTool\"},{\"attributes\":{},\"id\":\"4421\",\"type\":\"DataRange1d\"},{\"attributes\":{\"formatter\":{\"id\":\"4630\"},\"ticker\":{\"id\":\"4434\"}},\"id\":\"4433\",\"type\":\"LinearAxis\"},{\"attributes\":{},\"id\":\"4425\",\"type\":\"LinearScale\"},{\"attributes\":{\"axis\":{\"id\":\"4433\"},\"dimension\":1,\"ticker\":null},\"id\":\"4436\",\"type\":\"Grid\"},{\"attributes\":{},\"id\":\"4437\",\"type\":\"SaveTool\"},{\"attributes\":{},\"id\":\"4427\",\"type\":\"LinearScale\"},{\"attributes\":{\"active_drag\":\"auto\",\"active_inspect\":\"auto\",\"active_multi\":null,\"active_scroll\":\"auto\",\"active_tap\":\"auto\",\"tools\":[{\"id\":\"4419\"},{\"id\":\"4437\"}]},\"id\":\"4438\",\"type\":\"Toolbar\"},{\"attributes\":{\"source\":{\"id\":\"4418\"}},\"id\":\"4445\",\"type\":\"CDSView\"},{\"attributes\":{\"axis\":{\"id\":\"4429\"},\"ticker\":null},\"id\":\"4432\",\"type\":\"Grid\"},{\"attributes\":{\"fill_color\":{\"value\":\"blue\"},\"line_color\":{\"value\":\"blue\"},\"size\":{\"units\":\"screen\",\"value\":14},\"x\":{\"field\":\"x\"},\"y\":{\"field\":\"y\"}},\"id\":\"4442\",\"type\":\"Circle\"},{\"attributes\":{\"fill_alpha\":{\"value\":0.1},\"fill_color\":{\"value\":\"blue\"},\"line_alpha\":{\"value\":0.1},\"line_color\":{\"value\":\"blue\"},\"size\":{\"units\":\"screen\",\"value\":14},\"x\":{\"field\":\"x\"},\"y\":{\"field\":\"y\"}},\"id\":\"4443\",\"type\":\"Circle\"},{\"attributes\":{\"formatter\":{\"id\":\"4628\"},\"ticker\":{\"id\":\"4430\"}},\"id\":\"4429\",\"type\":\"LinearAxis\"},{\"attributes\":{},\"id\":\"4434\",\"type\":\"BasicTicker\"}],\"root_ids\":[\"4420\"]},\"title\":\"Bokeh Application\",\"version\":\"2.2.3\"}};\n",
       "  var render_items = [{\"docid\":\"566a947d-64d0-4e37-a8c6-a1a1ce6f5971\",\"root_ids\":[\"4420\"],\"roots\":{\"4420\":\"c14cb4f3-c684-4938-a2e4-833b43ca6e00\"}}];\n",
       "  root.Bokeh.embed.embed_items_notebook(docs_json, render_items);\n",
       "\n",
       "  }\n",
       "  if (root.Bokeh !== undefined) {\n",
       "    embed_document(root);\n",
       "  } else {\n",
       "    var attempts = 0;\n",
       "    var timer = setInterval(function(root) {\n",
       "      if (root.Bokeh !== undefined) {\n",
       "        clearInterval(timer);\n",
       "        embed_document(root);\n",
       "      } else {\n",
       "        attempts++;\n",
       "        if (attempts > 100) {\n",
       "          clearInterval(timer);\n",
       "          console.log(\"Bokeh: ERROR: Unable to run BokehJS code because BokehJS library is missing\");\n",
       "        }\n",
       "      }\n",
       "    }, 10, root)\n",
       "  }\n",
       "})(window);"
      ],
      "application/vnd.bokehjs_exec.v0+json": ""
     },
     "metadata": {
      "application/vnd.bokehjs_exec.v0+json": {
       "id": "4420"
      }
     },
     "output_type": "display_data"
    }
   ],
   "source": [
    "df_res = pd.DataFrame([pca.components_[0], pca.components_[1]]).T\n",
    "df_res.columns = [\"x\", \"y\"]\n",
    "df_res.index = dfs[11].iloc[:,:-1].columns.tolist()\n",
    "\n",
    "source = ColumnDataSource(\n",
    "    data=dict(\n",
    "        x=df_res[\"x\"],\n",
    "        y=df_res[\"y\"],\n",
    "        desc=df_res.index.tolist()\n",
    "    )\n",
    ")\n",
    "\n",
    "hover = HoverTool(\n",
    "    tooltips=[\n",
    "        (\"index\", \"$index\"),\n",
    "        (\"desc\", \"@desc\"),\n",
    "    ]\n",
    ")\n",
    "\n",
    "p = figure(tools=[hover, \"save\"], plot_width=550, plot_height=500)\n",
    "#p.xaxis.major_label_text_color = \"white\"\n",
    "#p.yaxis.major_label_text_color = \"white\"\n",
    "\n",
    "p.circle(\"x\", \"y\", fill_color=\"blue\", line_color=\"blue\", fill_alpha=1, size=14, source=source)\n",
    "\n",
    "show(p)"
   ]
  }
 ],
 "metadata": {
  "kernelspec": {
   "display_name": "Python 3",
   "language": "python",
   "name": "python3"
  },
  "language_info": {
   "codemirror_mode": {
    "name": "ipython",
    "version": 3
   },
   "file_extension": ".py",
   "mimetype": "text/x-python",
   "name": "python",
   "nbconvert_exporter": "python",
   "pygments_lexer": "ipython3",
   "version": "3.7.3"
  }
 },
 "nbformat": 4,
 "nbformat_minor": 2
}
