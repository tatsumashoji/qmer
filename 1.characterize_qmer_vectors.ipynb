{
 "cells": [
  {
   "cell_type": "markdown",
   "metadata": {},
   "source": [
    "## 1. Import libraries."
   ]
  },
  {
   "cell_type": "code",
   "execution_count": 7,
   "metadata": {},
   "outputs": [],
   "source": [
    "import pandas as pd\n",
    "import numpy as np"
   ]
  },
  {
   "cell_type": "markdown",
   "metadata": {},
   "source": [
    "## 2. Table 1."
   ]
  },
  {
   "cell_type": "code",
   "execution_count": null,
   "metadata": {},
   "outputs": [],
   "source": [
    "cases = !ls example/qmers\n",
    "df = pd.DataFrame([[len(open(\"example/qmers/\"+i+\"/\"+str(j+1)+\".csv\").readlines()[1:]) for i in cases] for j in range(14)])\n",
    "df.columns = cases\n",
    "df.index = [i+1 for i in range(14)]"
   ]
  },
  {
   "cell_type": "code",
   "execution_count": 32,
   "metadata": {},
   "outputs": [],
   "source": [
    "df_mean = df.apply(np.mean, axis=1).tolist()\n",
    "df_std = df.apply(np.std, axis=1).tolist()"
   ]
  },
  {
   "cell_type": "code",
   "execution_count": 36,
   "metadata": {},
   "outputs": [],
   "source": [
    "table_1 = [4**(i+1) for i in range(14)]\n",
    "table_2 = [str(round(table_1[i] - df_mean[i],2)) + \" ± \" + str(round(df_std[i],2)) for i in range(14)]\n",
    "table_3 = [str(round(100 - 100 * df_mean[i] / table_1[i],2)) + \" ± \" + str(round(100 * df_std[i]/table_1[i],2)) for i in range(14)]\n",
    "table = pd.DataFrame([table_1, table_2, table_3]).T\n",
    "table.index = [i+1 for i in range(14)]\n",
    "table.columns = [\"4^q\", \"# of zero elements\", \"% of zero elements\"]"
   ]
  },
  {
   "cell_type": "code",
   "execution_count": 1,
   "metadata": {},
   "outputs": [],
   "source": [
    "table"
   ]
  }
 ],
 "metadata": {
  "kernelspec": {
   "display_name": "Python 3",
   "language": "python",
   "name": "python3"
  },
  "language_info": {
   "codemirror_mode": {
    "name": "ipython",
    "version": 3
   },
   "file_extension": ".py",
   "mimetype": "text/x-python",
   "name": "python",
   "nbconvert_exporter": "python",
   "pygments_lexer": "ipython3",
   "version": "3.7.3"
  }
 },
 "nbformat": 4,
 "nbformat_minor": 2
}
