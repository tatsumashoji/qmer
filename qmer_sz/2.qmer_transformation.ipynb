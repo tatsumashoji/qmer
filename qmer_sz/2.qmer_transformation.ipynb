{
 "cells": [
  {
   "cell_type": "markdown",
   "metadata": {},
   "source": [
    "## 1. Import libraries."
   ]
  },
  {
   "cell_type": "code",
   "execution_count": 1,
   "metadata": {},
   "outputs": [
    {
     "data": {
      "text/html": [
       "\n",
       "    <div class=\"bk-root\">\n",
       "        <a href=\"https://bokeh.org\" target=\"_blank\" class=\"bk-logo bk-logo-small bk-logo-notebook\"></a>\n",
       "        <span id=\"1001\">Loading BokehJS ...</span>\n",
       "    </div>"
      ]
     },
     "metadata": {},
     "output_type": "display_data"
    },
    {
     "data": {
      "application/javascript": [
       "\n",
       "(function(root) {\n",
       "  function now() {\n",
       "    return new Date();\n",
       "  }\n",
       "\n",
       "  var force = true;\n",
       "\n",
       "  if (typeof root._bokeh_onload_callbacks === \"undefined\" || force === true) {\n",
       "    root._bokeh_onload_callbacks = [];\n",
       "    root._bokeh_is_loading = undefined;\n",
       "  }\n",
       "\n",
       "  var JS_MIME_TYPE = 'application/javascript';\n",
       "  var HTML_MIME_TYPE = 'text/html';\n",
       "  var EXEC_MIME_TYPE = 'application/vnd.bokehjs_exec.v0+json';\n",
       "  var CLASS_NAME = 'output_bokeh rendered_html';\n",
       "\n",
       "  /**\n",
       "   * Render data to the DOM node\n",
       "   */\n",
       "  function render(props, node) {\n",
       "    var script = document.createElement(\"script\");\n",
       "    node.appendChild(script);\n",
       "  }\n",
       "\n",
       "  /**\n",
       "   * Handle when an output is cleared or removed\n",
       "   */\n",
       "  function handleClearOutput(event, handle) {\n",
       "    var cell = handle.cell;\n",
       "\n",
       "    var id = cell.output_area._bokeh_element_id;\n",
       "    var server_id = cell.output_area._bokeh_server_id;\n",
       "    // Clean up Bokeh references\n",
       "    if (id != null && id in Bokeh.index) {\n",
       "      Bokeh.index[id].model.document.clear();\n",
       "      delete Bokeh.index[id];\n",
       "    }\n",
       "\n",
       "    if (server_id !== undefined) {\n",
       "      // Clean up Bokeh references\n",
       "      var cmd = \"from bokeh.io.state import curstate; print(curstate().uuid_to_server['\" + server_id + \"'].get_sessions()[0].document.roots[0]._id)\";\n",
       "      cell.notebook.kernel.execute(cmd, {\n",
       "        iopub: {\n",
       "          output: function(msg) {\n",
       "            var id = msg.content.text.trim();\n",
       "            if (id in Bokeh.index) {\n",
       "              Bokeh.index[id].model.document.clear();\n",
       "              delete Bokeh.index[id];\n",
       "            }\n",
       "          }\n",
       "        }\n",
       "      });\n",
       "      // Destroy server and session\n",
       "      var cmd = \"import bokeh.io.notebook as ion; ion.destroy_server('\" + server_id + \"')\";\n",
       "      cell.notebook.kernel.execute(cmd);\n",
       "    }\n",
       "  }\n",
       "\n",
       "  /**\n",
       "   * Handle when a new output is added\n",
       "   */\n",
       "  function handleAddOutput(event, handle) {\n",
       "    var output_area = handle.output_area;\n",
       "    var output = handle.output;\n",
       "\n",
       "    // limit handleAddOutput to display_data with EXEC_MIME_TYPE content only\n",
       "    if ((output.output_type != \"display_data\") || (!output.data.hasOwnProperty(EXEC_MIME_TYPE))) {\n",
       "      return\n",
       "    }\n",
       "\n",
       "    var toinsert = output_area.element.find(\".\" + CLASS_NAME.split(' ')[0]);\n",
       "\n",
       "    if (output.metadata[EXEC_MIME_TYPE][\"id\"] !== undefined) {\n",
       "      toinsert[toinsert.length - 1].firstChild.textContent = output.data[JS_MIME_TYPE];\n",
       "      // store reference to embed id on output_area\n",
       "      output_area._bokeh_element_id = output.metadata[EXEC_MIME_TYPE][\"id\"];\n",
       "    }\n",
       "    if (output.metadata[EXEC_MIME_TYPE][\"server_id\"] !== undefined) {\n",
       "      var bk_div = document.createElement(\"div\");\n",
       "      bk_div.innerHTML = output.data[HTML_MIME_TYPE];\n",
       "      var script_attrs = bk_div.children[0].attributes;\n",
       "      for (var i = 0; i < script_attrs.length; i++) {\n",
       "        toinsert[toinsert.length - 1].firstChild.setAttribute(script_attrs[i].name, script_attrs[i].value);\n",
       "        toinsert[toinsert.length - 1].firstChild.textContent = bk_div.children[0].textContent\n",
       "      }\n",
       "      // store reference to server id on output_area\n",
       "      output_area._bokeh_server_id = output.metadata[EXEC_MIME_TYPE][\"server_id\"];\n",
       "    }\n",
       "  }\n",
       "\n",
       "  function register_renderer(events, OutputArea) {\n",
       "\n",
       "    function append_mime(data, metadata, element) {\n",
       "      // create a DOM node to render to\n",
       "      var toinsert = this.create_output_subarea(\n",
       "        metadata,\n",
       "        CLASS_NAME,\n",
       "        EXEC_MIME_TYPE\n",
       "      );\n",
       "      this.keyboard_manager.register_events(toinsert);\n",
       "      // Render to node\n",
       "      var props = {data: data, metadata: metadata[EXEC_MIME_TYPE]};\n",
       "      render(props, toinsert[toinsert.length - 1]);\n",
       "      element.append(toinsert);\n",
       "      return toinsert\n",
       "    }\n",
       "\n",
       "    /* Handle when an output is cleared or removed */\n",
       "    events.on('clear_output.CodeCell', handleClearOutput);\n",
       "    events.on('delete.Cell', handleClearOutput);\n",
       "\n",
       "    /* Handle when a new output is added */\n",
       "    events.on('output_added.OutputArea', handleAddOutput);\n",
       "\n",
       "    /**\n",
       "     * Register the mime type and append_mime function with output_area\n",
       "     */\n",
       "    OutputArea.prototype.register_mime_type(EXEC_MIME_TYPE, append_mime, {\n",
       "      /* Is output safe? */\n",
       "      safe: true,\n",
       "      /* Index of renderer in `output_area.display_order` */\n",
       "      index: 0\n",
       "    });\n",
       "  }\n",
       "\n",
       "  // register the mime type if in Jupyter Notebook environment and previously unregistered\n",
       "  if (root.Jupyter !== undefined) {\n",
       "    var events = require('base/js/events');\n",
       "    var OutputArea = require('notebook/js/outputarea').OutputArea;\n",
       "\n",
       "    if (OutputArea.prototype.mime_types().indexOf(EXEC_MIME_TYPE) == -1) {\n",
       "      register_renderer(events, OutputArea);\n",
       "    }\n",
       "  }\n",
       "\n",
       "  \n",
       "  if (typeof (root._bokeh_timeout) === \"undefined\" || force === true) {\n",
       "    root._bokeh_timeout = Date.now() + 5000;\n",
       "    root._bokeh_failed_load = false;\n",
       "  }\n",
       "\n",
       "  var NB_LOAD_WARNING = {'data': {'text/html':\n",
       "     \"<div style='background-color: #fdd'>\\n\"+\n",
       "     \"<p>\\n\"+\n",
       "     \"BokehJS does not appear to have successfully loaded. If loading BokehJS from CDN, this \\n\"+\n",
       "     \"may be due to a slow or bad network connection. Possible fixes:\\n\"+\n",
       "     \"</p>\\n\"+\n",
       "     \"<ul>\\n\"+\n",
       "     \"<li>re-rerun `output_notebook()` to attempt to load from CDN again, or</li>\\n\"+\n",
       "     \"<li>use INLINE resources instead, as so:</li>\\n\"+\n",
       "     \"</ul>\\n\"+\n",
       "     \"<code>\\n\"+\n",
       "     \"from bokeh.resources import INLINE\\n\"+\n",
       "     \"output_notebook(resources=INLINE)\\n\"+\n",
       "     \"</code>\\n\"+\n",
       "     \"</div>\"}};\n",
       "\n",
       "  function display_loaded() {\n",
       "    var el = document.getElementById(\"1001\");\n",
       "    if (el != null) {\n",
       "      el.textContent = \"BokehJS is loading...\";\n",
       "    }\n",
       "    if (root.Bokeh !== undefined) {\n",
       "      if (el != null) {\n",
       "        el.textContent = \"BokehJS \" + root.Bokeh.version + \" successfully loaded.\";\n",
       "      }\n",
       "    } else if (Date.now() < root._bokeh_timeout) {\n",
       "      setTimeout(display_loaded, 100)\n",
       "    }\n",
       "  }\n",
       "\n",
       "\n",
       "  function run_callbacks() {\n",
       "    try {\n",
       "      root._bokeh_onload_callbacks.forEach(function(callback) {\n",
       "        if (callback != null)\n",
       "          callback();\n",
       "      });\n",
       "    } finally {\n",
       "      delete root._bokeh_onload_callbacks\n",
       "    }\n",
       "    console.debug(\"Bokeh: all callbacks have finished\");\n",
       "  }\n",
       "\n",
       "  function load_libs(css_urls, js_urls, callback) {\n",
       "    if (css_urls == null) css_urls = [];\n",
       "    if (js_urls == null) js_urls = [];\n",
       "\n",
       "    root._bokeh_onload_callbacks.push(callback);\n",
       "    if (root._bokeh_is_loading > 0) {\n",
       "      console.debug(\"Bokeh: BokehJS is being loaded, scheduling callback at\", now());\n",
       "      return null;\n",
       "    }\n",
       "    if (js_urls == null || js_urls.length === 0) {\n",
       "      run_callbacks();\n",
       "      return null;\n",
       "    }\n",
       "    console.debug(\"Bokeh: BokehJS not loaded, scheduling load and callback at\", now());\n",
       "    root._bokeh_is_loading = css_urls.length + js_urls.length;\n",
       "\n",
       "    function on_load() {\n",
       "      root._bokeh_is_loading--;\n",
       "      if (root._bokeh_is_loading === 0) {\n",
       "        console.debug(\"Bokeh: all BokehJS libraries/stylesheets loaded\");\n",
       "        run_callbacks()\n",
       "      }\n",
       "    }\n",
       "\n",
       "    function on_error() {\n",
       "      console.error(\"failed to load \" + url);\n",
       "    }\n",
       "\n",
       "    for (var i = 0; i < css_urls.length; i++) {\n",
       "      var url = css_urls[i];\n",
       "      const element = document.createElement(\"link\");\n",
       "      element.onload = on_load;\n",
       "      element.onerror = on_error;\n",
       "      element.rel = \"stylesheet\";\n",
       "      element.type = \"text/css\";\n",
       "      element.href = url;\n",
       "      console.debug(\"Bokeh: injecting link tag for BokehJS stylesheet: \", url);\n",
       "      document.body.appendChild(element);\n",
       "    }\n",
       "\n",
       "    const hashes = {\"https://cdn.bokeh.org/bokeh/release/bokeh-2.2.3.min.js\": \"T2yuo9Oe71Cz/I4X9Ac5+gpEa5a8PpJCDlqKYO0CfAuEszu1JrXLl8YugMqYe3sM\", \"https://cdn.bokeh.org/bokeh/release/bokeh-widgets-2.2.3.min.js\": \"98GDGJ0kOMCUMUePhksaQ/GYgB3+NH9h996V88sh3aOiUNX3N+fLXAtry6xctSZ6\", \"https://cdn.bokeh.org/bokeh/release/bokeh-tables-2.2.3.min.js\": \"89bArO+nlbP3sgakeHjCo1JYxYR5wufVgA3IbUvDY+K7w4zyxJqssu7wVnfeKCq8\"};\n",
       "\n",
       "    for (var i = 0; i < js_urls.length; i++) {\n",
       "      var url = js_urls[i];\n",
       "      var element = document.createElement('script');\n",
       "      element.onload = on_load;\n",
       "      element.onerror = on_error;\n",
       "      element.async = false;\n",
       "      element.src = url;\n",
       "      if (url in hashes) {\n",
       "        element.crossOrigin = \"anonymous\";\n",
       "        element.integrity = \"sha384-\" + hashes[url];\n",
       "      }\n",
       "      console.debug(\"Bokeh: injecting script tag for BokehJS library: \", url);\n",
       "      document.head.appendChild(element);\n",
       "    }\n",
       "  };\n",
       "\n",
       "  function inject_raw_css(css) {\n",
       "    const element = document.createElement(\"style\");\n",
       "    element.appendChild(document.createTextNode(css));\n",
       "    document.body.appendChild(element);\n",
       "  }\n",
       "\n",
       "  \n",
       "  var js_urls = [\"https://cdn.bokeh.org/bokeh/release/bokeh-2.2.3.min.js\", \"https://cdn.bokeh.org/bokeh/release/bokeh-widgets-2.2.3.min.js\", \"https://cdn.bokeh.org/bokeh/release/bokeh-tables-2.2.3.min.js\"];\n",
       "  var css_urls = [];\n",
       "  \n",
       "\n",
       "  var inline_js = [\n",
       "    function(Bokeh) {\n",
       "      Bokeh.set_log_level(\"info\");\n",
       "    },\n",
       "    function(Bokeh) {\n",
       "    \n",
       "    \n",
       "    }\n",
       "  ];\n",
       "\n",
       "  function run_inline_js() {\n",
       "    \n",
       "    if (root.Bokeh !== undefined || force === true) {\n",
       "      \n",
       "    for (var i = 0; i < inline_js.length; i++) {\n",
       "      inline_js[i].call(root, root.Bokeh);\n",
       "    }\n",
       "    if (force === true) {\n",
       "        display_loaded();\n",
       "      }} else if (Date.now() < root._bokeh_timeout) {\n",
       "      setTimeout(run_inline_js, 100);\n",
       "    } else if (!root._bokeh_failed_load) {\n",
       "      console.log(\"Bokeh: BokehJS failed to load within specified timeout.\");\n",
       "      root._bokeh_failed_load = true;\n",
       "    } else if (force !== true) {\n",
       "      var cell = $(document.getElementById(\"1001\")).parents('.cell').data().cell;\n",
       "      cell.output_area.append_execute_result(NB_LOAD_WARNING)\n",
       "    }\n",
       "\n",
       "  }\n",
       "\n",
       "  if (root._bokeh_is_loading === 0) {\n",
       "    console.debug(\"Bokeh: BokehJS loaded, going straight to plotting\");\n",
       "    run_inline_js();\n",
       "  } else {\n",
       "    load_libs(css_urls, js_urls, function() {\n",
       "      console.debug(\"Bokeh: BokehJS plotting callback run at\", now());\n",
       "      run_inline_js();\n",
       "    });\n",
       "  }\n",
       "}(window));"
      ],
      "application/vnd.bokehjs_load.v0+json": "\n(function(root) {\n  function now() {\n    return new Date();\n  }\n\n  var force = true;\n\n  if (typeof root._bokeh_onload_callbacks === \"undefined\" || force === true) {\n    root._bokeh_onload_callbacks = [];\n    root._bokeh_is_loading = undefined;\n  }\n\n  \n\n  \n  if (typeof (root._bokeh_timeout) === \"undefined\" || force === true) {\n    root._bokeh_timeout = Date.now() + 5000;\n    root._bokeh_failed_load = false;\n  }\n\n  var NB_LOAD_WARNING = {'data': {'text/html':\n     \"<div style='background-color: #fdd'>\\n\"+\n     \"<p>\\n\"+\n     \"BokehJS does not appear to have successfully loaded. If loading BokehJS from CDN, this \\n\"+\n     \"may be due to a slow or bad network connection. Possible fixes:\\n\"+\n     \"</p>\\n\"+\n     \"<ul>\\n\"+\n     \"<li>re-rerun `output_notebook()` to attempt to load from CDN again, or</li>\\n\"+\n     \"<li>use INLINE resources instead, as so:</li>\\n\"+\n     \"</ul>\\n\"+\n     \"<code>\\n\"+\n     \"from bokeh.resources import INLINE\\n\"+\n     \"output_notebook(resources=INLINE)\\n\"+\n     \"</code>\\n\"+\n     \"</div>\"}};\n\n  function display_loaded() {\n    var el = document.getElementById(\"1001\");\n    if (el != null) {\n      el.textContent = \"BokehJS is loading...\";\n    }\n    if (root.Bokeh !== undefined) {\n      if (el != null) {\n        el.textContent = \"BokehJS \" + root.Bokeh.version + \" successfully loaded.\";\n      }\n    } else if (Date.now() < root._bokeh_timeout) {\n      setTimeout(display_loaded, 100)\n    }\n  }\n\n\n  function run_callbacks() {\n    try {\n      root._bokeh_onload_callbacks.forEach(function(callback) {\n        if (callback != null)\n          callback();\n      });\n    } finally {\n      delete root._bokeh_onload_callbacks\n    }\n    console.debug(\"Bokeh: all callbacks have finished\");\n  }\n\n  function load_libs(css_urls, js_urls, callback) {\n    if (css_urls == null) css_urls = [];\n    if (js_urls == null) js_urls = [];\n\n    root._bokeh_onload_callbacks.push(callback);\n    if (root._bokeh_is_loading > 0) {\n      console.debug(\"Bokeh: BokehJS is being loaded, scheduling callback at\", now());\n      return null;\n    }\n    if (js_urls == null || js_urls.length === 0) {\n      run_callbacks();\n      return null;\n    }\n    console.debug(\"Bokeh: BokehJS not loaded, scheduling load and callback at\", now());\n    root._bokeh_is_loading = css_urls.length + js_urls.length;\n\n    function on_load() {\n      root._bokeh_is_loading--;\n      if (root._bokeh_is_loading === 0) {\n        console.debug(\"Bokeh: all BokehJS libraries/stylesheets loaded\");\n        run_callbacks()\n      }\n    }\n\n    function on_error() {\n      console.error(\"failed to load \" + url);\n    }\n\n    for (var i = 0; i < css_urls.length; i++) {\n      var url = css_urls[i];\n      const element = document.createElement(\"link\");\n      element.onload = on_load;\n      element.onerror = on_error;\n      element.rel = \"stylesheet\";\n      element.type = \"text/css\";\n      element.href = url;\n      console.debug(\"Bokeh: injecting link tag for BokehJS stylesheet: \", url);\n      document.body.appendChild(element);\n    }\n\n    const hashes = {\"https://cdn.bokeh.org/bokeh/release/bokeh-2.2.3.min.js\": \"T2yuo9Oe71Cz/I4X9Ac5+gpEa5a8PpJCDlqKYO0CfAuEszu1JrXLl8YugMqYe3sM\", \"https://cdn.bokeh.org/bokeh/release/bokeh-widgets-2.2.3.min.js\": \"98GDGJ0kOMCUMUePhksaQ/GYgB3+NH9h996V88sh3aOiUNX3N+fLXAtry6xctSZ6\", \"https://cdn.bokeh.org/bokeh/release/bokeh-tables-2.2.3.min.js\": \"89bArO+nlbP3sgakeHjCo1JYxYR5wufVgA3IbUvDY+K7w4zyxJqssu7wVnfeKCq8\"};\n\n    for (var i = 0; i < js_urls.length; i++) {\n      var url = js_urls[i];\n      var element = document.createElement('script');\n      element.onload = on_load;\n      element.onerror = on_error;\n      element.async = false;\n      element.src = url;\n      if (url in hashes) {\n        element.crossOrigin = \"anonymous\";\n        element.integrity = \"sha384-\" + hashes[url];\n      }\n      console.debug(\"Bokeh: injecting script tag for BokehJS library: \", url);\n      document.head.appendChild(element);\n    }\n  };\n\n  function inject_raw_css(css) {\n    const element = document.createElement(\"style\");\n    element.appendChild(document.createTextNode(css));\n    document.body.appendChild(element);\n  }\n\n  \n  var js_urls = [\"https://cdn.bokeh.org/bokeh/release/bokeh-2.2.3.min.js\", \"https://cdn.bokeh.org/bokeh/release/bokeh-widgets-2.2.3.min.js\", \"https://cdn.bokeh.org/bokeh/release/bokeh-tables-2.2.3.min.js\"];\n  var css_urls = [];\n  \n\n  var inline_js = [\n    function(Bokeh) {\n      Bokeh.set_log_level(\"info\");\n    },\n    function(Bokeh) {\n    \n    \n    }\n  ];\n\n  function run_inline_js() {\n    \n    if (root.Bokeh !== undefined || force === true) {\n      \n    for (var i = 0; i < inline_js.length; i++) {\n      inline_js[i].call(root, root.Bokeh);\n    }\n    if (force === true) {\n        display_loaded();\n      }} else if (Date.now() < root._bokeh_timeout) {\n      setTimeout(run_inline_js, 100);\n    } else if (!root._bokeh_failed_load) {\n      console.log(\"Bokeh: BokehJS failed to load within specified timeout.\");\n      root._bokeh_failed_load = true;\n    } else if (force !== true) {\n      var cell = $(document.getElementById(\"1001\")).parents('.cell').data().cell;\n      cell.output_area.append_execute_result(NB_LOAD_WARNING)\n    }\n\n  }\n\n  if (root._bokeh_is_loading === 0) {\n    console.debug(\"Bokeh: BokehJS loaded, going straight to plotting\");\n    run_inline_js();\n  } else {\n    load_libs(css_urls, js_urls, function() {\n      console.debug(\"Bokeh: BokehJS plotting callback run at\", now());\n      run_inline_js();\n    });\n  }\n}(window));"
     },
     "metadata": {},
     "output_type": "display_data"
    }
   ],
   "source": [
    "import pandas as pd\n",
    "import numpy as np\n",
    "import matplotlib.pyplot as plt\n",
    "from sklearn.decomposition import PCA\n",
    "from scipy.sparse.csgraph import connected_components\n",
    "from bokeh.plotting import figure, show, ColumnDataSource\n",
    "from bokeh.models import HoverTool\n",
    "from bokeh.io import output_notebook\n",
    "output_notebook()"
   ]
  },
  {
   "cell_type": "markdown",
   "metadata": {},
   "source": [
    "## 2. Load matrices."
   ]
  },
  {
   "cell_type": "code",
   "execution_count": 2,
   "metadata": {},
   "outputs": [],
   "source": [
    "dfs = [pd.read_csv(\"05_matrix/\"+str(i+1)+\".csv\", index_col=0, header=0).T for i in range(14)]"
   ]
  },
  {
   "cell_type": "markdown",
   "metadata": {},
   "source": [
    "## 3. Add meta info."
   ]
  },
  {
   "cell_type": "code",
   "execution_count": 3,
   "metadata": {},
   "outputs": [],
   "source": [
    "negative = pd.read_csv(\"src/control.txt\", header=None).T.values.tolist()[0]\n",
    "positive = pd.read_csv(\"src/COS.txt\", header=None).T.values.tolist()[0]\n",
    "\n",
    "for df in dfs:\n",
    "    y = [0 if i in negative else 1 for i in list(df.index)]\n",
    "    df[\"y\"] = y"
   ]
  },
  {
   "cell_type": "markdown",
   "metadata": {},
   "source": [
    "## 4. PCA."
   ]
  },
  {
   "cell_type": "code",
   "execution_count": 4,
   "metadata": {},
   "outputs": [],
   "source": [
    "def draw_PCA(df):\n",
    "    pca = PCA(n_components=2)\n",
    "    result = pca.fit_transform(df.iloc[:,:-1])\n",
    "\n",
    "    df_res = pd.DataFrame(result)\n",
    "    df_res.columns = [\"x\", \"y\"]\n",
    "    df_res.index = df.index\n",
    "    df_res[\"meta\"] = df[\"y\"].tolist()\n",
    "    \n",
    "    df_res_0 = df_res[df_res[\"meta\"]==0]\n",
    "    df_res_1 = df_res[df_res[\"meta\"]==1]\n",
    "    \n",
    "    source1 = ColumnDataSource(\n",
    "        data=dict(\n",
    "            x=df_res_0[\"x\"],\n",
    "            y=df_res_0[\"y\"],\n",
    "            desc=df_res_0.index.tolist()\n",
    "        )\n",
    "    )\n",
    "\n",
    "    source2 = ColumnDataSource(\n",
    "        data=dict(\n",
    "            x=df_res_1[\"x\"],\n",
    "            y=df_res_1[\"y\"],\n",
    "            desc=df_res_1.index.tolist()\n",
    "        )\n",
    "    )\n",
    "    \n",
    "    hover = HoverTool(\n",
    "        tooltips=[\n",
    "            (\"index\", \"$index\"),\n",
    "            (\"desc\", \"@desc\"),\n",
    "        ]\n",
    "    )\n",
    "\n",
    "    p = figure(tools=[hover, \"save\"], plot_width=550, plot_height=500)\n",
    "    p.xaxis.major_label_text_color = \"white\"\n",
    "    p.yaxis.major_label_text_color = \"white\"\n",
    "    #p.xaxis.axis_label = 'PC1'\n",
    "    #p.yaxis.axis_label = 'PC2'\n",
    "\n",
    "    p.circle(\"x\", \"y\", fill_color=\"black\", line_color=\"black\", fill_alpha=1, size=14, source=source1)\n",
    "    p.triangle(\"x\", \"y\", fill_color=\"red\", line_color=\"red\", fill_alpha=1, size=16, source=source2)\n",
    "    \n",
    "    show(p)"
   ]
  },
  {
   "cell_type": "code",
   "execution_count": 5,
   "metadata": {},
   "outputs": [
    {
     "data": {
      "text/html": [
       "\n",
       "\n",
       "\n",
       "\n",
       "\n",
       "\n",
       "  <div class=\"bk-root\" id=\"60b7b39c-9c06-4596-92c3-3eca53f1fcc0\" data-root-id=\"1005\"></div>\n"
      ]
     },
     "metadata": {},
     "output_type": "display_data"
    },
    {
     "data": {
      "application/javascript": [
       "(function(root) {\n",
       "  function embed_document(root) {\n",
       "    \n",
       "  var docs_json = {\"4408406d-6592-4ac8-87af-f3c537430a59\":{\"roots\":{\"references\":[{\"attributes\":{\"below\":[{\"id\":\"1014\"}],\"center\":[{\"id\":\"1017\"},{\"id\":\"1021\"}],\"left\":[{\"id\":\"1018\"}],\"plot_height\":500,\"plot_width\":550,\"renderers\":[{\"id\":\"1029\"},{\"id\":\"1034\"}],\"title\":{\"id\":\"1036\"},\"toolbar\":{\"id\":\"1023\"},\"x_range\":{\"id\":\"1006\"},\"x_scale\":{\"id\":\"1010\"},\"y_range\":{\"id\":\"1008\"},\"y_scale\":{\"id\":\"1012\"}},\"id\":\"1005\",\"subtype\":\"Figure\",\"type\":\"Plot\"},{\"attributes\":{},\"id\":\"1038\",\"type\":\"BasicTickFormatter\"},{\"attributes\":{\"data\":{\"desc\":[\"SRR6261682\",\"SRR6261684\",\"SRR6261686\",\"SRR6261688\",\"SRR6261690\",\"SRR6261692\",\"SRR6261696\",\"SRR6261702\",\"SRR6261704\",\"SRR6261706\",\"SRR6261708\",\"SRR6261710\",\"SRR6261714\",\"SRR6261716\",\"SRR6261720\",\"SRR6261722\",\"SRR6261724\",\"SRR6261726\"],\"x\":{\"__ndarray__\":\"xsYhAAjkYz/dC0rBZuqBvzzcQR+Azm4/KuxIefEsgL+wAfTwF291P0if9149HDc/OPJI2VHmjT++mDFLB7lxP13pK9Ft3Gm/sH9e0RPuer//pWXMgCF+P0yDQlyYpli/KIQz+GSFfj82hn4fNydzP0IC/zPXdVm/5YNjV8ouYr9LRaE/55wxv6Y7wdk8cmW/\",\"dtype\":\"float64\",\"order\":\"little\",\"shape\":[18]},\"y\":{\"__ndarray__\":\"0521erj1Kz9N0APCTMQfvxfJecTNOhs/fosY2NgeTD8mw/5BphYhv9Fzg4lA9iE/D/+esxiKJD83pAs8StnnPr3KpakTqSs/vxaBKv/VAT+c2tFPgngRv+EQ4qqLyA8/OLBj3pvzJz/lToKE9LwoP9VzXw340Te/u6b1sd1cMr8aWCZByulAP6JYpdsz7Dc/\",\"dtype\":\"float64\",\"order\":\"little\",\"shape\":[18]}},\"selected\":{\"id\":\"1045\"},\"selection_policy\":{\"id\":\"1044\"}},\"id\":\"1003\",\"type\":\"ColumnDataSource\"},{\"attributes\":{\"fill_alpha\":{\"value\":0.1},\"fill_color\":{\"value\":\"red\"},\"line_alpha\":{\"value\":0.1},\"line_color\":{\"value\":\"red\"},\"size\":{\"units\":\"screen\",\"value\":16},\"x\":{\"field\":\"x\"},\"y\":{\"field\":\"y\"}},\"id\":\"1033\",\"type\":\"Triangle\"},{\"attributes\":{\"callback\":null,\"tooltips\":[[\"index\",\"$index\"],[\"desc\",\"@desc\"]]},\"id\":\"1004\",\"type\":\"HoverTool\"},{\"attributes\":{\"fill_color\":{\"value\":\"red\"},\"line_color\":{\"value\":\"red\"},\"size\":{\"units\":\"screen\",\"value\":16},\"x\":{\"field\":\"x\"},\"y\":{\"field\":\"y\"}},\"id\":\"1032\",\"type\":\"Triangle\"},{\"attributes\":{\"source\":{\"id\":\"1002\"}},\"id\":\"1030\",\"type\":\"CDSView\"},{\"attributes\":{\"data_source\":{\"id\":\"1003\"},\"glyph\":{\"id\":\"1032\"},\"hover_glyph\":null,\"muted_glyph\":null,\"nonselection_glyph\":{\"id\":\"1033\"},\"selection_glyph\":null,\"view\":{\"id\":\"1035\"}},\"id\":\"1034\",\"type\":\"GlyphRenderer\"},{\"attributes\":{},\"id\":\"1006\",\"type\":\"DataRange1d\"},{\"attributes\":{\"source\":{\"id\":\"1003\"}},\"id\":\"1035\",\"type\":\"CDSView\"},{\"attributes\":{},\"id\":\"1008\",\"type\":\"DataRange1d\"},{\"attributes\":{\"text\":\"\"},\"id\":\"1036\",\"type\":\"Title\"},{\"attributes\":{},\"id\":\"1043\",\"type\":\"Selection\"},{\"attributes\":{},\"id\":\"1010\",\"type\":\"LinearScale\"},{\"attributes\":{},\"id\":\"1012\",\"type\":\"LinearScale\"},{\"attributes\":{},\"id\":\"1040\",\"type\":\"BasicTickFormatter\"},{\"attributes\":{\"formatter\":{\"id\":\"1038\"},\"major_label_text_color\":\"white\",\"ticker\":{\"id\":\"1015\"}},\"id\":\"1014\",\"type\":\"LinearAxis\"},{\"attributes\":{},\"id\":\"1042\",\"type\":\"UnionRenderers\"},{\"attributes\":{},\"id\":\"1015\",\"type\":\"BasicTicker\"},{\"attributes\":{},\"id\":\"1044\",\"type\":\"UnionRenderers\"},{\"attributes\":{\"axis\":{\"id\":\"1014\"},\"ticker\":null},\"id\":\"1017\",\"type\":\"Grid\"},{\"attributes\":{},\"id\":\"1045\",\"type\":\"Selection\"},{\"attributes\":{\"formatter\":{\"id\":\"1040\"},\"major_label_text_color\":\"white\",\"ticker\":{\"id\":\"1019\"}},\"id\":\"1018\",\"type\":\"LinearAxis\"},{\"attributes\":{\"data_source\":{\"id\":\"1002\"},\"glyph\":{\"id\":\"1027\"},\"hover_glyph\":null,\"muted_glyph\":null,\"nonselection_glyph\":{\"id\":\"1028\"},\"selection_glyph\":null,\"view\":{\"id\":\"1030\"}},\"id\":\"1029\",\"type\":\"GlyphRenderer\"},{\"attributes\":{},\"id\":\"1019\",\"type\":\"BasicTicker\"},{\"attributes\":{\"axis\":{\"id\":\"1018\"},\"dimension\":1,\"ticker\":null},\"id\":\"1021\",\"type\":\"Grid\"},{\"attributes\":{\"data\":{\"desc\":[\"SRR6261728\",\"SRR6261730\",\"SRR6261732\",\"SRR6261734\",\"SRR6261736\",\"SRR6261738\",\"SRR6261740\",\"SRR6261742\",\"SRR6261744\",\"SRR6261746\",\"SRR6261756\",\"SRR6261758\",\"SRR6261761\",\"SRR6261762\",\"SRR6261764\",\"SRR6261766\",\"SRR6261768\",\"SRR6261770\",\"SRR6261773\",\"SRR6261774\"],\"x\":{\"__ndarray__\":\"vEwFk/o8dD85EaEBLodIvxhHCvRmME8/8tfR0Pyxbr8rBxvMU49rP7F3yrOQQnS/mAXWx/APgT86ENwIsjojP5Wwq/71U22/zNMQEfOWdb8PNXLeY0pMv5SmcnyjPlu/fcPzTwuVZb9VOwS5s+9jP44bdbYms22/S7mi/vRhWb//MFH5i3B2vys4Wj/kymW/7OnNMfqpZb9aSnKfUYBtPw==\",\"dtype\":\"float64\",\"order\":\"little\",\"shape\":[20]},\"y\":{\"__ndarray__\":\"7HxrbDMLJb9xqBRYPqpAv/dW6Gwc8iS/YMhRCNJ/Lb/EmZdz2QjzvrvFxq54vz6/R+laZf3SBT9/mu4vLzkmP0v9h9RVpyc/kH/MBJXZAr8LOBE6vtIgP8jcZxVQbho/JaUDrv7a9b7OXxLtO1gEvzOGvmGYRTW/Fo5H93CKFr/jYu1rXavKPkAWmrKfLgq/wzBh/UrqIb8I0KlwB5g+vw==\",\"dtype\":\"float64\",\"order\":\"little\",\"shape\":[20]}},\"selected\":{\"id\":\"1043\"},\"selection_policy\":{\"id\":\"1042\"}},\"id\":\"1002\",\"type\":\"ColumnDataSource\"},{\"attributes\":{\"fill_alpha\":{\"value\":0.1},\"fill_color\":{\"value\":\"black\"},\"line_alpha\":{\"value\":0.1},\"size\":{\"units\":\"screen\",\"value\":14},\"x\":{\"field\":\"x\"},\"y\":{\"field\":\"y\"}},\"id\":\"1028\",\"type\":\"Circle\"},{\"attributes\":{\"fill_color\":{\"value\":\"black\"},\"size\":{\"units\":\"screen\",\"value\":14},\"x\":{\"field\":\"x\"},\"y\":{\"field\":\"y\"}},\"id\":\"1027\",\"type\":\"Circle\"},{\"attributes\":{},\"id\":\"1022\",\"type\":\"SaveTool\"},{\"attributes\":{\"active_drag\":\"auto\",\"active_inspect\":\"auto\",\"active_multi\":null,\"active_scroll\":\"auto\",\"active_tap\":\"auto\",\"tools\":[{\"id\":\"1004\"},{\"id\":\"1022\"}]},\"id\":\"1023\",\"type\":\"Toolbar\"}],\"root_ids\":[\"1005\"]},\"title\":\"Bokeh Application\",\"version\":\"2.2.3\"}};\n",
       "  var render_items = [{\"docid\":\"4408406d-6592-4ac8-87af-f3c537430a59\",\"root_ids\":[\"1005\"],\"roots\":{\"1005\":\"60b7b39c-9c06-4596-92c3-3eca53f1fcc0\"}}];\n",
       "  root.Bokeh.embed.embed_items_notebook(docs_json, render_items);\n",
       "\n",
       "  }\n",
       "  if (root.Bokeh !== undefined) {\n",
       "    embed_document(root);\n",
       "  } else {\n",
       "    var attempts = 0;\n",
       "    var timer = setInterval(function(root) {\n",
       "      if (root.Bokeh !== undefined) {\n",
       "        clearInterval(timer);\n",
       "        embed_document(root);\n",
       "      } else {\n",
       "        attempts++;\n",
       "        if (attempts > 100) {\n",
       "          clearInterval(timer);\n",
       "          console.log(\"Bokeh: ERROR: Unable to run BokehJS code because BokehJS library is missing\");\n",
       "        }\n",
       "      }\n",
       "    }, 10, root)\n",
       "  }\n",
       "})(window);"
      ],
      "application/vnd.bokehjs_exec.v0+json": ""
     },
     "metadata": {
      "application/vnd.bokehjs_exec.v0+json": {
       "id": "1005"
      }
     },
     "output_type": "display_data"
    }
   ],
   "source": [
    "# q = 1\n",
    "draw_PCA(dfs[0])"
   ]
  },
  {
   "cell_type": "code",
   "execution_count": 6,
   "metadata": {},
   "outputs": [
    {
     "data": {
      "text/html": [
       "\n",
       "\n",
       "\n",
       "\n",
       "\n",
       "\n",
       "  <div class=\"bk-root\" id=\"35dc6218-d067-488f-af33-f65a62327ebb\" data-root-id=\"1099\"></div>\n"
      ]
     },
     "metadata": {},
     "output_type": "display_data"
    },
    {
     "data": {
      "application/javascript": [
       "(function(root) {\n",
       "  function embed_document(root) {\n",
       "    \n",
       "  var docs_json = {\"0c24c233-097a-4e78-96be-71695af846e4\":{\"roots\":{\"references\":[{\"attributes\":{\"below\":[{\"id\":\"1108\"}],\"center\":[{\"id\":\"1111\"},{\"id\":\"1115\"}],\"left\":[{\"id\":\"1112\"}],\"plot_height\":500,\"plot_width\":550,\"renderers\":[{\"id\":\"1123\"},{\"id\":\"1128\"}],\"title\":{\"id\":\"1140\"},\"toolbar\":{\"id\":\"1117\"},\"x_range\":{\"id\":\"1100\"},\"x_scale\":{\"id\":\"1104\"},\"y_range\":{\"id\":\"1102\"},\"y_scale\":{\"id\":\"1106\"}},\"id\":\"1099\",\"subtype\":\"Figure\",\"type\":\"Plot\"},{\"attributes\":{},\"id\":\"1106\",\"type\":\"LinearScale\"},{\"attributes\":{},\"id\":\"1147\",\"type\":\"Selection\"},{\"attributes\":{},\"id\":\"1102\",\"type\":\"DataRange1d\"},{\"attributes\":{\"formatter\":{\"id\":\"1142\"},\"major_label_text_color\":\"white\",\"ticker\":{\"id\":\"1109\"}},\"id\":\"1108\",\"type\":\"LinearAxis\"},{\"attributes\":{},\"id\":\"1149\",\"type\":\"Selection\"},{\"attributes\":{\"callback\":null,\"tooltips\":[[\"index\",\"$index\"],[\"desc\",\"@desc\"]]},\"id\":\"1098\",\"type\":\"HoverTool\"},{\"attributes\":{},\"id\":\"1146\",\"type\":\"UnionRenderers\"},{\"attributes\":{},\"id\":\"1104\",\"type\":\"LinearScale\"},{\"attributes\":{},\"id\":\"1144\",\"type\":\"BasicTickFormatter\"},{\"attributes\":{},\"id\":\"1142\",\"type\":\"BasicTickFormatter\"},{\"attributes\":{\"data\":{\"desc\":[\"SRR6261682\",\"SRR6261684\",\"SRR6261686\",\"SRR6261688\",\"SRR6261690\",\"SRR6261692\",\"SRR6261696\",\"SRR6261702\",\"SRR6261704\",\"SRR6261706\",\"SRR6261708\",\"SRR6261710\",\"SRR6261714\",\"SRR6261716\",\"SRR6261720\",\"SRR6261722\",\"SRR6261724\",\"SRR6261726\"],\"x\":{\"__ndarray__\":\"2+BSySdpVz82Yas3dKp2vyaGi1zOK2Y/0aoMF8AUd7/8tF69UtZqP/mottEGqTg/EAfISpLahD9DmK9sdaxsP69HLoRX9GK/nE4hsRYKcr/dcGay7nB1P+TZbnyGWE2/2HfPgm4MdD+06DguBINpP1tt48ohjVK/JYgwhREeTb/M9Ppi4xIOP/aI8WAZyF2/\",\"dtype\":\"float64\",\"order\":\"little\",\"shape\":[18]},\"y\":{\"__ndarray__\":\"YAFFraJQMr/ApnMq0axKPw1xeVQEPRy/MduYJSCqPb9vsfP58/U2v//LUSL3Ev0+NmwIhVMwH7+TK08nKpo+P7iVyDlF1S+/ga6lwrmfLz9rpBu3wBkTPxIOnaVeH6g+JI7UBMELOr/pfTyYwLA8vwmcAp697/2+mkiOqTITTz/JQCvs+df2PpoC+3LGNgS/\",\"dtype\":\"float64\",\"order\":\"little\",\"shape\":[18]}},\"selected\":{\"id\":\"1149\"},\"selection_policy\":{\"id\":\"1148\"}},\"id\":\"1097\",\"type\":\"ColumnDataSource\"},{\"attributes\":{\"text\":\"\"},\"id\":\"1140\",\"type\":\"Title\"},{\"attributes\":{},\"id\":\"1109\",\"type\":\"BasicTicker\"},{\"attributes\":{\"source\":{\"id\":\"1097\"}},\"id\":\"1129\",\"type\":\"CDSView\"},{\"attributes\":{\"axis\":{\"id\":\"1108\"},\"ticker\":null},\"id\":\"1111\",\"type\":\"Grid\"},{\"attributes\":{\"formatter\":{\"id\":\"1144\"},\"major_label_text_color\":\"white\",\"ticker\":{\"id\":\"1113\"}},\"id\":\"1112\",\"type\":\"LinearAxis\"},{\"attributes\":{\"data\":{\"desc\":[\"SRR6261728\",\"SRR6261730\",\"SRR6261732\",\"SRR6261734\",\"SRR6261736\",\"SRR6261738\",\"SRR6261740\",\"SRR6261742\",\"SRR6261744\",\"SRR6261746\",\"SRR6261756\",\"SRR6261758\",\"SRR6261761\",\"SRR6261762\",\"SRR6261764\",\"SRR6261766\",\"SRR6261768\",\"SRR6261770\",\"SRR6261773\",\"SRR6261774\"],\"x\":{\"__ndarray__\":\"pOe7Hp1kaj82fSWPe+Uuv9s7q/xCUTc/sHJ/20TrYr9hFde379lbPwR0KQ/3gm2/UtDa11Todj/SK32CAAgxPxCqkw/ji2S/3y39kl+icr96RFUi1I9CP1DNv/2pVF6/8JziNOwtW79j+5u3XdVlP/DTLYoGJ2O/UtwRVXJcW7/JVUoK1wxwvwlFM7lxeGW/fsOehwSFYb8pA42lvapnPw==\",\"dtype\":\"float64\",\"order\":\"little\",\"shape\":[20]},\"y\":{\"__ndarray__\":\"mja7bllpF78VmmBLI5FDP9/nQMyjaTi/s1S1HmZUOT8sq/aCSxhIv3nAcf4v/Pu+v8oothKfML/QHnsBD5cQP0E6VpI7MPM+4ZldE4iKSr+FywLvigpUP3NSm8mjTEa/MRIAm32CLz9/r1uu5v9OP60xLeLIozI/62NIA7KEOr82fwDc+PscP7Nns5arUEm/R4qR3MfQN7+5H7pBclxAPw==\",\"dtype\":\"float64\",\"order\":\"little\",\"shape\":[20]}},\"selected\":{\"id\":\"1147\"},\"selection_policy\":{\"id\":\"1146\"}},\"id\":\"1096\",\"type\":\"ColumnDataSource\"},{\"attributes\":{\"data_source\":{\"id\":\"1097\"},\"glyph\":{\"id\":\"1126\"},\"hover_glyph\":null,\"muted_glyph\":null,\"nonselection_glyph\":{\"id\":\"1127\"},\"selection_glyph\":null,\"view\":{\"id\":\"1129\"}},\"id\":\"1128\",\"type\":\"GlyphRenderer\"},{\"attributes\":{\"fill_color\":{\"value\":\"red\"},\"line_color\":{\"value\":\"red\"},\"size\":{\"units\":\"screen\",\"value\":16},\"x\":{\"field\":\"x\"},\"y\":{\"field\":\"y\"}},\"id\":\"1126\",\"type\":\"Triangle\"},{\"attributes\":{},\"id\":\"1113\",\"type\":\"BasicTicker\"},{\"attributes\":{\"fill_alpha\":{\"value\":0.1},\"fill_color\":{\"value\":\"black\"},\"line_alpha\":{\"value\":0.1},\"size\":{\"units\":\"screen\",\"value\":14},\"x\":{\"field\":\"x\"},\"y\":{\"field\":\"y\"}},\"id\":\"1122\",\"type\":\"Circle\"},{\"attributes\":{\"fill_alpha\":{\"value\":0.1},\"fill_color\":{\"value\":\"red\"},\"line_alpha\":{\"value\":0.1},\"line_color\":{\"value\":\"red\"},\"size\":{\"units\":\"screen\",\"value\":16},\"x\":{\"field\":\"x\"},\"y\":{\"field\":\"y\"}},\"id\":\"1127\",\"type\":\"Triangle\"},{\"attributes\":{\"axis\":{\"id\":\"1112\"},\"dimension\":1,\"ticker\":null},\"id\":\"1115\",\"type\":\"Grid\"},{\"attributes\":{},\"id\":\"1116\",\"type\":\"SaveTool\"},{\"attributes\":{\"source\":{\"id\":\"1096\"}},\"id\":\"1124\",\"type\":\"CDSView\"},{\"attributes\":{\"fill_color\":{\"value\":\"black\"},\"size\":{\"units\":\"screen\",\"value\":14},\"x\":{\"field\":\"x\"},\"y\":{\"field\":\"y\"}},\"id\":\"1121\",\"type\":\"Circle\"},{\"attributes\":{\"data_source\":{\"id\":\"1096\"},\"glyph\":{\"id\":\"1121\"},\"hover_glyph\":null,\"muted_glyph\":null,\"nonselection_glyph\":{\"id\":\"1122\"},\"selection_glyph\":null,\"view\":{\"id\":\"1124\"}},\"id\":\"1123\",\"type\":\"GlyphRenderer\"},{\"attributes\":{},\"id\":\"1100\",\"type\":\"DataRange1d\"},{\"attributes\":{},\"id\":\"1148\",\"type\":\"UnionRenderers\"},{\"attributes\":{\"active_drag\":\"auto\",\"active_inspect\":\"auto\",\"active_multi\":null,\"active_scroll\":\"auto\",\"active_tap\":\"auto\",\"tools\":[{\"id\":\"1098\"},{\"id\":\"1116\"}]},\"id\":\"1117\",\"type\":\"Toolbar\"}],\"root_ids\":[\"1099\"]},\"title\":\"Bokeh Application\",\"version\":\"2.2.3\"}};\n",
       "  var render_items = [{\"docid\":\"0c24c233-097a-4e78-96be-71695af846e4\",\"root_ids\":[\"1099\"],\"roots\":{\"1099\":\"35dc6218-d067-488f-af33-f65a62327ebb\"}}];\n",
       "  root.Bokeh.embed.embed_items_notebook(docs_json, render_items);\n",
       "\n",
       "  }\n",
       "  if (root.Bokeh !== undefined) {\n",
       "    embed_document(root);\n",
       "  } else {\n",
       "    var attempts = 0;\n",
       "    var timer = setInterval(function(root) {\n",
       "      if (root.Bokeh !== undefined) {\n",
       "        clearInterval(timer);\n",
       "        embed_document(root);\n",
       "      } else {\n",
       "        attempts++;\n",
       "        if (attempts > 100) {\n",
       "          clearInterval(timer);\n",
       "          console.log(\"Bokeh: ERROR: Unable to run BokehJS code because BokehJS library is missing\");\n",
       "        }\n",
       "      }\n",
       "    }, 10, root)\n",
       "  }\n",
       "})(window);"
      ],
      "application/vnd.bokehjs_exec.v0+json": ""
     },
     "metadata": {
      "application/vnd.bokehjs_exec.v0+json": {
       "id": "1099"
      }
     },
     "output_type": "display_data"
    }
   ],
   "source": [
    "# q = 2\n",
    "draw_PCA(dfs[1])"
   ]
  },
  {
   "cell_type": "code",
   "execution_count": 7,
   "metadata": {},
   "outputs": [
    {
     "data": {
      "text/html": [
       "\n",
       "\n",
       "\n",
       "\n",
       "\n",
       "\n",
       "  <div class=\"bk-root\" id=\"b8a8db48-1891-409e-a643-e8b101365273\" data-root-id=\"1203\"></div>\n"
      ]
     },
     "metadata": {},
     "output_type": "display_data"
    },
    {
     "data": {
      "application/javascript": [
       "(function(root) {\n",
       "  function embed_document(root) {\n",
       "    \n",
       "  var docs_json = {\"5053de40-c63b-4267-9b49-3de7eef6b3bd\":{\"roots\":{\"references\":[{\"attributes\":{\"below\":[{\"id\":\"1212\"}],\"center\":[{\"id\":\"1215\"},{\"id\":\"1219\"}],\"left\":[{\"id\":\"1216\"}],\"plot_height\":500,\"plot_width\":550,\"renderers\":[{\"id\":\"1227\"},{\"id\":\"1232\"}],\"title\":{\"id\":\"1254\"},\"toolbar\":{\"id\":\"1221\"},\"x_range\":{\"id\":\"1204\"},\"x_scale\":{\"id\":\"1208\"},\"y_range\":{\"id\":\"1206\"},\"y_scale\":{\"id\":\"1210\"}},\"id\":\"1203\",\"subtype\":\"Figure\",\"type\":\"Plot\"},{\"attributes\":{\"formatter\":{\"id\":\"1256\"},\"major_label_text_color\":\"white\",\"ticker\":{\"id\":\"1213\"}},\"id\":\"1212\",\"type\":\"LinearAxis\"},{\"attributes\":{\"data_source\":{\"id\":\"1201\"},\"glyph\":{\"id\":\"1230\"},\"hover_glyph\":null,\"muted_glyph\":null,\"nonselection_glyph\":{\"id\":\"1231\"},\"selection_glyph\":null,\"view\":{\"id\":\"1233\"}},\"id\":\"1232\",\"type\":\"GlyphRenderer\"},{\"attributes\":{},\"id\":\"1213\",\"type\":\"BasicTicker\"},{\"attributes\":{\"source\":{\"id\":\"1201\"}},\"id\":\"1233\",\"type\":\"CDSView\"},{\"attributes\":{\"axis\":{\"id\":\"1212\"},\"ticker\":null},\"id\":\"1215\",\"type\":\"Grid\"},{\"attributes\":{\"formatter\":{\"id\":\"1258\"},\"major_label_text_color\":\"white\",\"ticker\":{\"id\":\"1217\"}},\"id\":\"1216\",\"type\":\"LinearAxis\"},{\"attributes\":{\"text\":\"\"},\"id\":\"1254\",\"type\":\"Title\"},{\"attributes\":{},\"id\":\"1217\",\"type\":\"BasicTicker\"},{\"attributes\":{},\"id\":\"1256\",\"type\":\"BasicTickFormatter\"},{\"attributes\":{\"axis\":{\"id\":\"1216\"},\"dimension\":1,\"ticker\":null},\"id\":\"1219\",\"type\":\"Grid\"},{\"attributes\":{},\"id\":\"1258\",\"type\":\"BasicTickFormatter\"},{\"attributes\":{},\"id\":\"1260\",\"type\":\"UnionRenderers\"},{\"attributes\":{\"data\":{\"desc\":[\"SRR6261728\",\"SRR6261730\",\"SRR6261732\",\"SRR6261734\",\"SRR6261736\",\"SRR6261738\",\"SRR6261740\",\"SRR6261742\",\"SRR6261744\",\"SRR6261746\",\"SRR6261756\",\"SRR6261758\",\"SRR6261761\",\"SRR6261762\",\"SRR6261764\",\"SRR6261766\",\"SRR6261768\",\"SRR6261770\",\"SRR6261773\",\"SRR6261774\"],\"x\":{\"__ndarray__\":\"JNtRbSl1Pz8Nn5T7g7Qwv88I9+CbRB8/g8XhxyVwOb8p/OEx3s03P2YjBjezJEW/fnSZKELRTj8/vUM3L6EiP/bJgQfJHD+/k6W/SrAKSb/6zamZcSLtvvvgCYMYSzG/Y/P8YjrxN78dBFv24XAzPy3zjaOKbkC/uX4pMIjVMb8Co2/Gl0RIvzeSpDBayDy/mWGXRCQILr9AxDJAM/s3Pw==\",\"dtype\":\"float64\",\"order\":\"little\",\"shape\":[20]},\"y\":{\"__ndarray__\":\"0Sb/PSrCDr8j29RJrLMYv+N61d+dzio/TATkxePd/z6VW5V0FBIKP03zZxu3F9o+a/aRB0BPGL9x4ZBTYuUOP9eUGhFDMxe/AfJJTyquET9hfrIEvvMcv7PoUWgv1A8/xHPvTxi/Iz8+PZpEbnobv50EdK+TxRi/xKvzxYlJ/z4Mm4xqrPQUvw5Al1qg1ye/WTFjXvPUBz+UAFO+Geofvw==\",\"dtype\":\"float64\",\"order\":\"little\",\"shape\":[20]}},\"selected\":{\"id\":\"1261\"},\"selection_policy\":{\"id\":\"1260\"}},\"id\":\"1200\",\"type\":\"ColumnDataSource\"},{\"attributes\":{},\"id\":\"1261\",\"type\":\"Selection\"},{\"attributes\":{},\"id\":\"1220\",\"type\":\"SaveTool\"},{\"attributes\":{},\"id\":\"1262\",\"type\":\"UnionRenderers\"},{\"attributes\":{\"active_drag\":\"auto\",\"active_inspect\":\"auto\",\"active_multi\":null,\"active_scroll\":\"auto\",\"active_tap\":\"auto\",\"tools\":[{\"id\":\"1202\"},{\"id\":\"1220\"}]},\"id\":\"1221\",\"type\":\"Toolbar\"},{\"attributes\":{},\"id\":\"1263\",\"type\":\"Selection\"},{\"attributes\":{\"data\":{\"desc\":[\"SRR6261682\",\"SRR6261684\",\"SRR6261686\",\"SRR6261688\",\"SRR6261690\",\"SRR6261692\",\"SRR6261696\",\"SRR6261702\",\"SRR6261704\",\"SRR6261706\",\"SRR6261708\",\"SRR6261710\",\"SRR6261714\",\"SRR6261716\",\"SRR6261720\",\"SRR6261722\",\"SRR6261724\",\"SRR6261726\"],\"x\":{\"__ndarray__\":\"U0NVNyxGMz/6HsEp6VhRvzenPT8XckM/xUc9AsBASb8LN3pg7DFDP5t4L4zd3BY/A1CYmStfWz8ZLy/kBp1EP9AJ9i6uBjG/3CLU9MAQSL/Ar+zztAdMP06EoAu1FvC+grMnFegJSz/wwluHn/ZDP4nwSdgCkCq/1V5Ami49Mr9uY39ZnR8cP+1I+4YdJjO/\",\"dtype\":\"float64\",\"order\":\"little\",\"shape\":[18]},\"y\":{\"__ndarray__\":\"5FfwXwYKI78Rnmj0xQcMv4ycNRvZIxA/JEe2T2TBGD+GiJra+rcJv2mEOY4D/Ro/Vh1/EqK3E79dY+CVadgjP/gWtOeW0SE/qEVQj053yj5ckQ791wURv3B4s4LBPzM/PYKlzo2QFT8ZWYBx/TckPwUDVTqK2wY/8aJCjmDNFr/nQVg+SU4jv21ZkXkSRCe/\",\"dtype\":\"float64\",\"order\":\"little\",\"shape\":[18]}},\"selected\":{\"id\":\"1263\"},\"selection_policy\":{\"id\":\"1262\"}},\"id\":\"1201\",\"type\":\"ColumnDataSource\"},{\"attributes\":{\"callback\":null,\"tooltips\":[[\"index\",\"$index\"],[\"desc\",\"@desc\"]]},\"id\":\"1202\",\"type\":\"HoverTool\"},{\"attributes\":{\"fill_alpha\":{\"value\":0.1},\"fill_color\":{\"value\":\"black\"},\"line_alpha\":{\"value\":0.1},\"size\":{\"units\":\"screen\",\"value\":14},\"x\":{\"field\":\"x\"},\"y\":{\"field\":\"y\"}},\"id\":\"1226\",\"type\":\"Circle\"},{\"attributes\":{\"fill_color\":{\"value\":\"black\"},\"size\":{\"units\":\"screen\",\"value\":14},\"x\":{\"field\":\"x\"},\"y\":{\"field\":\"y\"}},\"id\":\"1225\",\"type\":\"Circle\"},{\"attributes\":{\"data_source\":{\"id\":\"1200\"},\"glyph\":{\"id\":\"1225\"},\"hover_glyph\":null,\"muted_glyph\":null,\"nonselection_glyph\":{\"id\":\"1226\"},\"selection_glyph\":null,\"view\":{\"id\":\"1228\"}},\"id\":\"1227\",\"type\":\"GlyphRenderer\"},{\"attributes\":{\"source\":{\"id\":\"1200\"}},\"id\":\"1228\",\"type\":\"CDSView\"},{\"attributes\":{},\"id\":\"1204\",\"type\":\"DataRange1d\"},{\"attributes\":{},\"id\":\"1206\",\"type\":\"DataRange1d\"},{\"attributes\":{\"fill_color\":{\"value\":\"red\"},\"line_color\":{\"value\":\"red\"},\"size\":{\"units\":\"screen\",\"value\":16},\"x\":{\"field\":\"x\"},\"y\":{\"field\":\"y\"}},\"id\":\"1230\",\"type\":\"Triangle\"},{\"attributes\":{},\"id\":\"1208\",\"type\":\"LinearScale\"},{\"attributes\":{\"fill_alpha\":{\"value\":0.1},\"fill_color\":{\"value\":\"red\"},\"line_alpha\":{\"value\":0.1},\"line_color\":{\"value\":\"red\"},\"size\":{\"units\":\"screen\",\"value\":16},\"x\":{\"field\":\"x\"},\"y\":{\"field\":\"y\"}},\"id\":\"1231\",\"type\":\"Triangle\"},{\"attributes\":{},\"id\":\"1210\",\"type\":\"LinearScale\"}],\"root_ids\":[\"1203\"]},\"title\":\"Bokeh Application\",\"version\":\"2.2.3\"}};\n",
       "  var render_items = [{\"docid\":\"5053de40-c63b-4267-9b49-3de7eef6b3bd\",\"root_ids\":[\"1203\"],\"roots\":{\"1203\":\"b8a8db48-1891-409e-a643-e8b101365273\"}}];\n",
       "  root.Bokeh.embed.embed_items_notebook(docs_json, render_items);\n",
       "\n",
       "  }\n",
       "  if (root.Bokeh !== undefined) {\n",
       "    embed_document(root);\n",
       "  } else {\n",
       "    var attempts = 0;\n",
       "    var timer = setInterval(function(root) {\n",
       "      if (root.Bokeh !== undefined) {\n",
       "        clearInterval(timer);\n",
       "        embed_document(root);\n",
       "      } else {\n",
       "        attempts++;\n",
       "        if (attempts > 100) {\n",
       "          clearInterval(timer);\n",
       "          console.log(\"Bokeh: ERROR: Unable to run BokehJS code because BokehJS library is missing\");\n",
       "        }\n",
       "      }\n",
       "    }, 10, root)\n",
       "  }\n",
       "})(window);"
      ],
      "application/vnd.bokehjs_exec.v0+json": ""
     },
     "metadata": {
      "application/vnd.bokehjs_exec.v0+json": {
       "id": "1203"
      }
     },
     "output_type": "display_data"
    }
   ],
   "source": [
    "# q = 3\n",
    "draw_PCA(dfs[2])"
   ]
  },
  {
   "cell_type": "code",
   "execution_count": 8,
   "metadata": {},
   "outputs": [
    {
     "data": {
      "text/html": [
       "\n",
       "\n",
       "\n",
       "\n",
       "\n",
       "\n",
       "  <div class=\"bk-root\" id=\"7d324301-236f-4a55-b008-b79b9cd41a33\" data-root-id=\"1317\"></div>\n"
      ]
     },
     "metadata": {},
     "output_type": "display_data"
    },
    {
     "data": {
      "application/javascript": [
       "(function(root) {\n",
       "  function embed_document(root) {\n",
       "    \n",
       "  var docs_json = {\"caa07564-23a4-4873-b5aa-b2b4a630a883\":{\"roots\":{\"references\":[{\"attributes\":{\"below\":[{\"id\":\"1326\"}],\"center\":[{\"id\":\"1329\"},{\"id\":\"1333\"}],\"left\":[{\"id\":\"1330\"}],\"plot_height\":500,\"plot_width\":550,\"renderers\":[{\"id\":\"1341\"},{\"id\":\"1346\"}],\"title\":{\"id\":\"1378\"},\"toolbar\":{\"id\":\"1335\"},\"x_range\":{\"id\":\"1318\"},\"x_scale\":{\"id\":\"1322\"},\"y_range\":{\"id\":\"1320\"},\"y_scale\":{\"id\":\"1324\"}},\"id\":\"1317\",\"subtype\":\"Figure\",\"type\":\"Plot\"},{\"attributes\":{},\"id\":\"1387\",\"type\":\"Selection\"},{\"attributes\":{\"data_source\":{\"id\":\"1314\"},\"glyph\":{\"id\":\"1339\"},\"hover_glyph\":null,\"muted_glyph\":null,\"nonselection_glyph\":{\"id\":\"1340\"},\"selection_glyph\":null,\"view\":{\"id\":\"1342\"}},\"id\":\"1341\",\"type\":\"GlyphRenderer\"},{\"attributes\":{},\"id\":\"1327\",\"type\":\"BasicTicker\"},{\"attributes\":{},\"id\":\"1382\",\"type\":\"BasicTickFormatter\"},{\"attributes\":{\"active_drag\":\"auto\",\"active_inspect\":\"auto\",\"active_multi\":null,\"active_scroll\":\"auto\",\"active_tap\":\"auto\",\"tools\":[{\"id\":\"1316\"},{\"id\":\"1334\"}]},\"id\":\"1335\",\"type\":\"Toolbar\"},{\"attributes\":{\"fill_alpha\":{\"value\":0.1},\"fill_color\":{\"value\":\"black\"},\"line_alpha\":{\"value\":0.1},\"size\":{\"units\":\"screen\",\"value\":14},\"x\":{\"field\":\"x\"},\"y\":{\"field\":\"y\"}},\"id\":\"1340\",\"type\":\"Circle\"},{\"attributes\":{},\"id\":\"1331\",\"type\":\"BasicTicker\"},{\"attributes\":{\"fill_color\":{\"value\":\"black\"},\"size\":{\"units\":\"screen\",\"value\":14},\"x\":{\"field\":\"x\"},\"y\":{\"field\":\"y\"}},\"id\":\"1339\",\"type\":\"Circle\"},{\"attributes\":{},\"id\":\"1320\",\"type\":\"DataRange1d\"},{\"attributes\":{\"fill_alpha\":{\"value\":0.1},\"fill_color\":{\"value\":\"red\"},\"line_alpha\":{\"value\":0.1},\"line_color\":{\"value\":\"red\"},\"size\":{\"units\":\"screen\",\"value\":16},\"x\":{\"field\":\"x\"},\"y\":{\"field\":\"y\"}},\"id\":\"1345\",\"type\":\"Triangle\"},{\"attributes\":{\"data\":{\"desc\":[\"SRR6261682\",\"SRR6261684\",\"SRR6261686\",\"SRR6261688\",\"SRR6261690\",\"SRR6261692\",\"SRR6261696\",\"SRR6261702\",\"SRR6261704\",\"SRR6261706\",\"SRR6261708\",\"SRR6261710\",\"SRR6261714\",\"SRR6261716\",\"SRR6261720\",\"SRR6261722\",\"SRR6261724\",\"SRR6261726\"],\"x\":{\"__ndarray__\":\"ZsxAIbHDFT+8/tsQ17EAvzY9Pd/GfAw/JExNfW4UDr+FSHTWg4oEvybhUOzewdS+tlPpXfAOMz/6XjgRLFMhP7BDUvlgiRK/qPnLEdBbHr8E43RgKQYqP5+eY9+sSPe+26BOipYtHT911L+kH/cHP80rh++ptA+/dyzAGgHO+z7sEf5iGuUUP6UnrXg12vE+\",\"dtype\":\"float64\",\"order\":\"little\",\"shape\":[18]},\"y\":{\"__ndarray__\":\"JiDRXmoX+T4CPXa6ILPwPnzk7Ey3tgS/RF2Amzao4r5hig6PgMfwvp3hTcDhDPy+Wg6mlm4Kwj6PPUGG2xURv12TjuTyb/C+hkjbKjKVxb5AJi6eaj/oPoAPKC1PMhC/RYbGIra5/b7bJRW1pSoBvxZy3jHrPOK+LKIJt8C/9T5RZ1LDamPwPlUSEJbDvvg+\",\"dtype\":\"float64\",\"order\":\"little\",\"shape\":[18]}},\"selected\":{\"id\":\"1387\"},\"selection_policy\":{\"id\":\"1386\"}},\"id\":\"1315\",\"type\":\"ColumnDataSource\"},{\"attributes\":{\"fill_color\":{\"value\":\"red\"},\"line_color\":{\"value\":\"red\"},\"size\":{\"units\":\"screen\",\"value\":16},\"x\":{\"field\":\"x\"},\"y\":{\"field\":\"y\"}},\"id\":\"1344\",\"type\":\"Triangle\"},{\"attributes\":{\"data_source\":{\"id\":\"1315\"},\"glyph\":{\"id\":\"1344\"},\"hover_glyph\":null,\"muted_glyph\":null,\"nonselection_glyph\":{\"id\":\"1345\"},\"selection_glyph\":null,\"view\":{\"id\":\"1347\"}},\"id\":\"1346\",\"type\":\"GlyphRenderer\"},{\"attributes\":{\"source\":{\"id\":\"1315\"}},\"id\":\"1347\",\"type\":\"CDSView\"},{\"attributes\":{\"axis\":{\"id\":\"1326\"},\"ticker\":null},\"id\":\"1329\",\"type\":\"Grid\"},{\"attributes\":{},\"id\":\"1318\",\"type\":\"DataRange1d\"},{\"attributes\":{},\"id\":\"1334\",\"type\":\"SaveTool\"},{\"attributes\":{\"source\":{\"id\":\"1314\"}},\"id\":\"1342\",\"type\":\"CDSView\"},{\"attributes\":{\"axis\":{\"id\":\"1330\"},\"dimension\":1,\"ticker\":null},\"id\":\"1333\",\"type\":\"Grid\"},{\"attributes\":{\"text\":\"\"},\"id\":\"1378\",\"type\":\"Title\"},{\"attributes\":{},\"id\":\"1380\",\"type\":\"BasicTickFormatter\"},{\"attributes\":{},\"id\":\"1386\",\"type\":\"UnionRenderers\"},{\"attributes\":{\"formatter\":{\"id\":\"1380\"},\"major_label_text_color\":\"white\",\"ticker\":{\"id\":\"1327\"}},\"id\":\"1326\",\"type\":\"LinearAxis\"},{\"attributes\":{},\"id\":\"1384\",\"type\":\"UnionRenderers\"},{\"attributes\":{},\"id\":\"1324\",\"type\":\"LinearScale\"},{\"attributes\":{\"formatter\":{\"id\":\"1382\"},\"major_label_text_color\":\"white\",\"ticker\":{\"id\":\"1331\"}},\"id\":\"1330\",\"type\":\"LinearAxis\"},{\"attributes\":{},\"id\":\"1385\",\"type\":\"Selection\"},{\"attributes\":{\"data\":{\"desc\":[\"SRR6261728\",\"SRR6261730\",\"SRR6261732\",\"SRR6261734\",\"SRR6261736\",\"SRR6261738\",\"SRR6261740\",\"SRR6261742\",\"SRR6261744\",\"SRR6261746\",\"SRR6261756\",\"SRR6261758\",\"SRR6261761\",\"SRR6261762\",\"SRR6261764\",\"SRR6261766\",\"SRR6261768\",\"SRR6261770\",\"SRR6261773\",\"SRR6261774\"],\"x\":{\"__ndarray__\":\"TS7Gieig0L4YP5JxEjsBv6VMULBZFxe/cgKeie67GL8Sq6qSmY0Bv1r94Sp3piO/VSHY0pjEGj+5+L5dKhr3PljxxCUqJ/W+9beHgN9PLr9mglwiK3QeP8HLUU/FcBm/2z7izrs/Hb8n6BGbPF0lPyqILAVYYQm/ra7rrO44Kb+SzkkDY3cSvzOZswD3KAC/UI+ggvfF9L7cMD0mFDYoPw==\",\"dtype\":\"float64\",\"order\":\"little\",\"shape\":[20]},\"y\":{\"__ndarray__\":\"Ee2JTVUV4T6rhIWahlIFPyi7P9elEwm/KDqi1tQj8L4bp0Lqi1WMvos+LTtX+Og+JM4JdcuBuj52O5fpdUf9vrfJ4kMHy/w+SjOHC8BhaL6gVilQWFTjPv6lw5A8IMo+E0jzKxVY4b5lMNk3rHDBPrFzmcJR2fs+GxKz3Zww3b6OMcIT/fsHP7cmtrMZ2xE/GtNvHo029T7losvXngwCPw==\",\"dtype\":\"float64\",\"order\":\"little\",\"shape\":[20]}},\"selected\":{\"id\":\"1385\"},\"selection_policy\":{\"id\":\"1384\"}},\"id\":\"1314\",\"type\":\"ColumnDataSource\"},{\"attributes\":{},\"id\":\"1322\",\"type\":\"LinearScale\"},{\"attributes\":{\"callback\":null,\"tooltips\":[[\"index\",\"$index\"],[\"desc\",\"@desc\"]]},\"id\":\"1316\",\"type\":\"HoverTool\"}],\"root_ids\":[\"1317\"]},\"title\":\"Bokeh Application\",\"version\":\"2.2.3\"}};\n",
       "  var render_items = [{\"docid\":\"caa07564-23a4-4873-b5aa-b2b4a630a883\",\"root_ids\":[\"1317\"],\"roots\":{\"1317\":\"7d324301-236f-4a55-b008-b79b9cd41a33\"}}];\n",
       "  root.Bokeh.embed.embed_items_notebook(docs_json, render_items);\n",
       "\n",
       "  }\n",
       "  if (root.Bokeh !== undefined) {\n",
       "    embed_document(root);\n",
       "  } else {\n",
       "    var attempts = 0;\n",
       "    var timer = setInterval(function(root) {\n",
       "      if (root.Bokeh !== undefined) {\n",
       "        clearInterval(timer);\n",
       "        embed_document(root);\n",
       "      } else {\n",
       "        attempts++;\n",
       "        if (attempts > 100) {\n",
       "          clearInterval(timer);\n",
       "          console.log(\"Bokeh: ERROR: Unable to run BokehJS code because BokehJS library is missing\");\n",
       "        }\n",
       "      }\n",
       "    }, 10, root)\n",
       "  }\n",
       "})(window);"
      ],
      "application/vnd.bokehjs_exec.v0+json": ""
     },
     "metadata": {
      "application/vnd.bokehjs_exec.v0+json": {
       "id": "1317"
      }
     },
     "output_type": "display_data"
    }
   ],
   "source": [
    "# q = 4\n",
    "draw_PCA(dfs[3])"
   ]
  },
  {
   "cell_type": "code",
   "execution_count": 9,
   "metadata": {},
   "outputs": [
    {
     "data": {
      "text/html": [
       "\n",
       "\n",
       "\n",
       "\n",
       "\n",
       "\n",
       "  <div class=\"bk-root\" id=\"88d3346c-d226-4ea7-8b8a-647119eee281\" data-root-id=\"1441\"></div>\n"
      ]
     },
     "metadata": {},
     "output_type": "display_data"
    },
    {
     "data": {
      "application/javascript": [
       "(function(root) {\n",
       "  function embed_document(root) {\n",
       "    \n",
       "  var docs_json = {\"0e194b3d-a887-4595-8cab-966996162dc4\":{\"roots\":{\"references\":[{\"attributes\":{\"below\":[{\"id\":\"1450\"}],\"center\":[{\"id\":\"1453\"},{\"id\":\"1457\"}],\"left\":[{\"id\":\"1454\"}],\"plot_height\":500,\"plot_width\":550,\"renderers\":[{\"id\":\"1465\"},{\"id\":\"1470\"}],\"title\":{\"id\":\"1512\"},\"toolbar\":{\"id\":\"1459\"},\"x_range\":{\"id\":\"1442\"},\"x_scale\":{\"id\":\"1446\"},\"y_range\":{\"id\":\"1444\"},\"y_scale\":{\"id\":\"1448\"}},\"id\":\"1441\",\"subtype\":\"Figure\",\"type\":\"Plot\"},{\"attributes\":{},\"id\":\"1516\",\"type\":\"BasicTickFormatter\"},{\"attributes\":{},\"id\":\"1519\",\"type\":\"Selection\"},{\"attributes\":{\"data\":{\"desc\":[\"SRR6261682\",\"SRR6261684\",\"SRR6261686\",\"SRR6261688\",\"SRR6261690\",\"SRR6261692\",\"SRR6261696\",\"SRR6261702\",\"SRR6261704\",\"SRR6261706\",\"SRR6261708\",\"SRR6261710\",\"SRR6261714\",\"SRR6261716\",\"SRR6261720\",\"SRR6261722\",\"SRR6261724\",\"SRR6261726\"],\"x\":{\"__ndarray__\":\"d20iPEEd6D7NHR1QKXP8vhU5PE87NP4+zNdQI16S5r6RCk1/wTTdPttp0TUDKNI+BRisfCR0FD8pIgPIT8gDP4mJPae5w82+clJkOVla+r689HfefsMGP0K1iPpsXeo+A3FuJQAUBT+etFq45Tv3PgJ1IAX2Sue+vWNnORAw274AOSV5QEzgPl6mPkGCCtu+\",\"dtype\":\"float64\",\"order\":\"little\",\"shape\":[18]},\"y\":{\"__ndarray__\":\"z46o/Aju4r4uASM9vTjjvlPuFEeoeNw+ln8cIAC6sL5YETL2MJXbPu8ZKYngD+U+B+m7v2Qf4L4Syf2LxMrxPjtTXBWAltc+mS44AJCqkj52YIuawrmzvkXLQj72XPI+wMTi7bBusL5/43IdelHsPucokqIcTdk+vBiuSrM80D4KBQWdWHHtvndCD6jMLvC+\",\"dtype\":\"float64\",\"order\":\"little\",\"shape\":[18]}},\"selected\":{\"id\":\"1521\"},\"selection_policy\":{\"id\":\"1520\"}},\"id\":\"1439\",\"type\":\"ColumnDataSource\"},{\"attributes\":{},\"id\":\"1520\",\"type\":\"UnionRenderers\"},{\"attributes\":{\"axis\":{\"id\":\"1454\"},\"dimension\":1,\"ticker\":null},\"id\":\"1457\",\"type\":\"Grid\"},{\"attributes\":{},\"id\":\"1458\",\"type\":\"SaveTool\"},{\"attributes\":{\"active_drag\":\"auto\",\"active_inspect\":\"auto\",\"active_multi\":null,\"active_scroll\":\"auto\",\"active_tap\":\"auto\",\"tools\":[{\"id\":\"1440\"},{\"id\":\"1458\"}]},\"id\":\"1459\",\"type\":\"Toolbar\"},{\"attributes\":{\"data\":{\"desc\":[\"SRR6261728\",\"SRR6261730\",\"SRR6261732\",\"SRR6261734\",\"SRR6261736\",\"SRR6261738\",\"SRR6261740\",\"SRR6261742\",\"SRR6261744\",\"SRR6261746\",\"SRR6261756\",\"SRR6261758\",\"SRR6261761\",\"SRR6261762\",\"SRR6261764\",\"SRR6261766\",\"SRR6261768\",\"SRR6261770\",\"SRR6261773\",\"SRR6261774\"],\"x\":{\"__ndarray__\":\"Qp8S7iU7yj6ikXnSdIP0vkRYuGRvHuC+ds3k54V29b7u/2YzrM7hvvj7FtUwPgS/zog04pgR/j4jyXR/dDDnPvaIjI8e2Oa+ZbamJyDADL8MmTQTA3fzPvGdVI+eJva+GEzMEkC+8b5paLweB14CP+052KJCEPa+sDK5awNnAr9RLVuILPT/voAbvWRCGgG/aTXTUPoA37606MfzVyn7Pg==\",\"dtype\":\"float64\",\"order\":\"little\",\"shape\":[20]},\"y\":{\"__ndarray__\":\"x6pZjdoasj4S+ogn4rXNvoxyVVfHHuQ+6dwm8TPv2j4bav4/5oPMPpEKDMySO6K+mzm99n16pj63NwWLthrWPp0RfxMxb+S+2885WK/35T73ZjFZPELnvqhnE2tIBqc+KM8oVfT02j5NRchgKwLbvmGT6pgkA7u+rnm78Kyc1D43+M6J2vLmvmGIyIrLp+q+sow63fEq3r6/76ltM/jsvg==\",\"dtype\":\"float64\",\"order\":\"little\",\"shape\":[20]}},\"selected\":{\"id\":\"1519\"},\"selection_policy\":{\"id\":\"1518\"}},\"id\":\"1438\",\"type\":\"ColumnDataSource\"},{\"attributes\":{\"fill_alpha\":{\"value\":0.1},\"fill_color\":{\"value\":\"black\"},\"line_alpha\":{\"value\":0.1},\"size\":{\"units\":\"screen\",\"value\":14},\"x\":{\"field\":\"x\"},\"y\":{\"field\":\"y\"}},\"id\":\"1464\",\"type\":\"Circle\"},{\"attributes\":{\"fill_color\":{\"value\":\"black\"},\"size\":{\"units\":\"screen\",\"value\":14},\"x\":{\"field\":\"x\"},\"y\":{\"field\":\"y\"}},\"id\":\"1463\",\"type\":\"Circle\"},{\"attributes\":{\"data_source\":{\"id\":\"1438\"},\"glyph\":{\"id\":\"1463\"},\"hover_glyph\":null,\"muted_glyph\":null,\"nonselection_glyph\":{\"id\":\"1464\"},\"selection_glyph\":null,\"view\":{\"id\":\"1466\"}},\"id\":\"1465\",\"type\":\"GlyphRenderer\"},{\"attributes\":{\"source\":{\"id\":\"1438\"}},\"id\":\"1466\",\"type\":\"CDSView\"},{\"attributes\":{},\"id\":\"1442\",\"type\":\"DataRange1d\"},{\"attributes\":{},\"id\":\"1448\",\"type\":\"LinearScale\"},{\"attributes\":{},\"id\":\"1518\",\"type\":\"UnionRenderers\"},{\"attributes\":{},\"id\":\"1446\",\"type\":\"LinearScale\"},{\"attributes\":{\"fill_alpha\":{\"value\":0.1},\"fill_color\":{\"value\":\"red\"},\"line_alpha\":{\"value\":0.1},\"line_color\":{\"value\":\"red\"},\"size\":{\"units\":\"screen\",\"value\":16},\"x\":{\"field\":\"x\"},\"y\":{\"field\":\"y\"}},\"id\":\"1469\",\"type\":\"Triangle\"},{\"attributes\":{\"fill_color\":{\"value\":\"red\"},\"line_color\":{\"value\":\"red\"},\"size\":{\"units\":\"screen\",\"value\":16},\"x\":{\"field\":\"x\"},\"y\":{\"field\":\"y\"}},\"id\":\"1468\",\"type\":\"Triangle\"},{\"attributes\":{},\"id\":\"1444\",\"type\":\"DataRange1d\"},{\"attributes\":{\"data_source\":{\"id\":\"1439\"},\"glyph\":{\"id\":\"1468\"},\"hover_glyph\":null,\"muted_glyph\":null,\"nonselection_glyph\":{\"id\":\"1469\"},\"selection_glyph\":null,\"view\":{\"id\":\"1471\"}},\"id\":\"1470\",\"type\":\"GlyphRenderer\"},{\"attributes\":{},\"id\":\"1455\",\"type\":\"BasicTicker\"},{\"attributes\":{\"source\":{\"id\":\"1439\"}},\"id\":\"1471\",\"type\":\"CDSView\"},{\"attributes\":{\"axis\":{\"id\":\"1450\"},\"ticker\":null},\"id\":\"1453\",\"type\":\"Grid\"},{\"attributes\":{},\"id\":\"1451\",\"type\":\"BasicTicker\"},{\"attributes\":{},\"id\":\"1521\",\"type\":\"Selection\"},{\"attributes\":{\"text\":\"\"},\"id\":\"1512\",\"type\":\"Title\"},{\"attributes\":{\"formatter\":{\"id\":\"1516\"},\"major_label_text_color\":\"white\",\"ticker\":{\"id\":\"1455\"}},\"id\":\"1454\",\"type\":\"LinearAxis\"},{\"attributes\":{\"formatter\":{\"id\":\"1514\"},\"major_label_text_color\":\"white\",\"ticker\":{\"id\":\"1451\"}},\"id\":\"1450\",\"type\":\"LinearAxis\"},{\"attributes\":{},\"id\":\"1514\",\"type\":\"BasicTickFormatter\"},{\"attributes\":{\"callback\":null,\"tooltips\":[[\"index\",\"$index\"],[\"desc\",\"@desc\"]]},\"id\":\"1440\",\"type\":\"HoverTool\"}],\"root_ids\":[\"1441\"]},\"title\":\"Bokeh Application\",\"version\":\"2.2.3\"}};\n",
       "  var render_items = [{\"docid\":\"0e194b3d-a887-4595-8cab-966996162dc4\",\"root_ids\":[\"1441\"],\"roots\":{\"1441\":\"88d3346c-d226-4ea7-8b8a-647119eee281\"}}];\n",
       "  root.Bokeh.embed.embed_items_notebook(docs_json, render_items);\n",
       "\n",
       "  }\n",
       "  if (root.Bokeh !== undefined) {\n",
       "    embed_document(root);\n",
       "  } else {\n",
       "    var attempts = 0;\n",
       "    var timer = setInterval(function(root) {\n",
       "      if (root.Bokeh !== undefined) {\n",
       "        clearInterval(timer);\n",
       "        embed_document(root);\n",
       "      } else {\n",
       "        attempts++;\n",
       "        if (attempts > 100) {\n",
       "          clearInterval(timer);\n",
       "          console.log(\"Bokeh: ERROR: Unable to run BokehJS code because BokehJS library is missing\");\n",
       "        }\n",
       "      }\n",
       "    }, 10, root)\n",
       "  }\n",
       "})(window);"
      ],
      "application/vnd.bokehjs_exec.v0+json": ""
     },
     "metadata": {
      "application/vnd.bokehjs_exec.v0+json": {
       "id": "1441"
      }
     },
     "output_type": "display_data"
    }
   ],
   "source": [
    "# q = 5\n",
    "draw_PCA(dfs[4])"
   ]
  },
  {
   "cell_type": "code",
   "execution_count": 10,
   "metadata": {},
   "outputs": [
    {
     "data": {
      "text/html": [
       "\n",
       "\n",
       "\n",
       "\n",
       "\n",
       "\n",
       "  <div class=\"bk-root\" id=\"a83f7447-296a-4939-86a2-56beb8034c47\" data-root-id=\"1575\"></div>\n"
      ]
     },
     "metadata": {},
     "output_type": "display_data"
    },
    {
     "data": {
      "application/javascript": [
       "(function(root) {\n",
       "  function embed_document(root) {\n",
       "    \n",
       "  var docs_json = {\"09d67238-bbc8-4dda-89c9-9edd4cffe4af\":{\"roots\":{\"references\":[{\"attributes\":{\"below\":[{\"id\":\"1584\"}],\"center\":[{\"id\":\"1587\"},{\"id\":\"1591\"}],\"left\":[{\"id\":\"1588\"}],\"plot_height\":500,\"plot_width\":550,\"renderers\":[{\"id\":\"1599\"},{\"id\":\"1604\"}],\"title\":{\"id\":\"1656\"},\"toolbar\":{\"id\":\"1593\"},\"x_range\":{\"id\":\"1576\"},\"x_scale\":{\"id\":\"1580\"},\"y_range\":{\"id\":\"1578\"},\"y_scale\":{\"id\":\"1582\"}},\"id\":\"1575\",\"subtype\":\"Figure\",\"type\":\"Plot\"},{\"attributes\":{},\"id\":\"1663\",\"type\":\"Selection\"},{\"attributes\":{},\"id\":\"1582\",\"type\":\"LinearScale\"},{\"attributes\":{},\"id\":\"1578\",\"type\":\"DataRange1d\"},{\"attributes\":{},\"id\":\"1580\",\"type\":\"LinearScale\"},{\"attributes\":{\"source\":{\"id\":\"1573\"}},\"id\":\"1605\",\"type\":\"CDSView\"},{\"attributes\":{\"formatter\":{\"id\":\"1658\"},\"major_label_text_color\":\"white\",\"ticker\":{\"id\":\"1585\"}},\"id\":\"1584\",\"type\":\"LinearAxis\"},{\"attributes\":{},\"id\":\"1664\",\"type\":\"UnionRenderers\"},{\"attributes\":{\"data_source\":{\"id\":\"1573\"},\"glyph\":{\"id\":\"1602\"},\"hover_glyph\":null,\"muted_glyph\":null,\"nonselection_glyph\":{\"id\":\"1603\"},\"selection_glyph\":null,\"view\":{\"id\":\"1605\"}},\"id\":\"1604\",\"type\":\"GlyphRenderer\"},{\"attributes\":{\"axis\":{\"id\":\"1584\"},\"ticker\":null},\"id\":\"1587\",\"type\":\"Grid\"},{\"attributes\":{\"fill_color\":{\"value\":\"red\"},\"line_color\":{\"value\":\"red\"},\"size\":{\"units\":\"screen\",\"value\":16},\"x\":{\"field\":\"x\"},\"y\":{\"field\":\"y\"}},\"id\":\"1602\",\"type\":\"Triangle\"},{\"attributes\":{},\"id\":\"1660\",\"type\":\"BasicTickFormatter\"},{\"attributes\":{\"fill_alpha\":{\"value\":0.1},\"fill_color\":{\"value\":\"red\"},\"line_alpha\":{\"value\":0.1},\"line_color\":{\"value\":\"red\"},\"size\":{\"units\":\"screen\",\"value\":16},\"x\":{\"field\":\"x\"},\"y\":{\"field\":\"y\"}},\"id\":\"1603\",\"type\":\"Triangle\"},{\"attributes\":{},\"id\":\"1585\",\"type\":\"BasicTicker\"},{\"attributes\":{\"formatter\":{\"id\":\"1660\"},\"major_label_text_color\":\"white\",\"ticker\":{\"id\":\"1589\"}},\"id\":\"1588\",\"type\":\"LinearAxis\"},{\"attributes\":{\"text\":\"\"},\"id\":\"1656\",\"type\":\"Title\"},{\"attributes\":{},\"id\":\"1592\",\"type\":\"SaveTool\"},{\"attributes\":{\"data\":{\"desc\":[\"SRR6261728\",\"SRR6261730\",\"SRR6261732\",\"SRR6261734\",\"SRR6261736\",\"SRR6261738\",\"SRR6261740\",\"SRR6261742\",\"SRR6261744\",\"SRR6261746\",\"SRR6261756\",\"SRR6261758\",\"SRR6261761\",\"SRR6261762\",\"SRR6261764\",\"SRR6261766\",\"SRR6261768\",\"SRR6261770\",\"SRR6261773\",\"SRR6261774\"],\"x\":{\"__ndarray__\":\"njJmioFO8766DYlgKBQBv7jE7wQjPPm+DgZ9R8wdAL96ZptzzNjWvvPbn+RXvQm/HgT5fhZ39T5avgHMedHgPka6i4+JM9o+6IsjZgDMBL8jEW+LWkjAPq/Jm1Z70ti+u+/gTJvG7b5PS51tBCHzPhwtAd0KTPi+35n6sPs1BL/GRYjJijXTvoz/Usk2UOO+D9glA7sg1j7f0d1h70nxPg==\",\"dtype\":\"float64\",\"order\":\"little\",\"shape\":[20]},\"y\":{\"__ndarray__\":\"kfZM/D1r8z62/KADiYTkPgXWYMDcD80+TFtpA+QkzT729SLqrwbEPrxp1OGbct8+qK72mwQw5j6ZxTx8hFjVPoxvYTHX+96+pVvLvsIv077r+N2waITgvoZ/abf6aO2+haFMiRZwur6ZSjMSy4nLPkIHMmYfI7M+3sZXGjXY276gtWai/Nbgvtd7C9Vc1OG+gxahaW2Bvj7Xo32qr7/mPg==\",\"dtype\":\"float64\",\"order\":\"little\",\"shape\":[20]}},\"selected\":{\"id\":\"1663\"},\"selection_policy\":{\"id\":\"1662\"}},\"id\":\"1572\",\"type\":\"ColumnDataSource\"},{\"attributes\":{},\"id\":\"1665\",\"type\":\"Selection\"},{\"attributes\":{},\"id\":\"1658\",\"type\":\"BasicTickFormatter\"},{\"attributes\":{\"axis\":{\"id\":\"1588\"},\"dimension\":1,\"ticker\":null},\"id\":\"1591\",\"type\":\"Grid\"},{\"attributes\":{},\"id\":\"1589\",\"type\":\"BasicTicker\"},{\"attributes\":{\"active_drag\":\"auto\",\"active_inspect\":\"auto\",\"active_multi\":null,\"active_scroll\":\"auto\",\"active_tap\":\"auto\",\"tools\":[{\"id\":\"1574\"},{\"id\":\"1592\"}]},\"id\":\"1593\",\"type\":\"Toolbar\"},{\"attributes\":{\"callback\":null,\"tooltips\":[[\"index\",\"$index\"],[\"desc\",\"@desc\"]]},\"id\":\"1574\",\"type\":\"HoverTool\"},{\"attributes\":{\"fill_alpha\":{\"value\":0.1},\"fill_color\":{\"value\":\"black\"},\"line_alpha\":{\"value\":0.1},\"size\":{\"units\":\"screen\",\"value\":14},\"x\":{\"field\":\"x\"},\"y\":{\"field\":\"y\"}},\"id\":\"1598\",\"type\":\"Circle\"},{\"attributes\":{\"source\":{\"id\":\"1572\"}},\"id\":\"1600\",\"type\":\"CDSView\"},{\"attributes\":{\"data_source\":{\"id\":\"1572\"},\"glyph\":{\"id\":\"1597\"},\"hover_glyph\":null,\"muted_glyph\":null,\"nonselection_glyph\":{\"id\":\"1598\"},\"selection_glyph\":null,\"view\":{\"id\":\"1600\"}},\"id\":\"1599\",\"type\":\"GlyphRenderer\"},{\"attributes\":{\"fill_color\":{\"value\":\"black\"},\"size\":{\"units\":\"screen\",\"value\":14},\"x\":{\"field\":\"x\"},\"y\":{\"field\":\"y\"}},\"id\":\"1597\",\"type\":\"Circle\"},{\"attributes\":{\"data\":{\"desc\":[\"SRR6261682\",\"SRR6261684\",\"SRR6261686\",\"SRR6261688\",\"SRR6261690\",\"SRR6261692\",\"SRR6261696\",\"SRR6261702\",\"SRR6261704\",\"SRR6261706\",\"SRR6261708\",\"SRR6261710\",\"SRR6261714\",\"SRR6261716\",\"SRR6261720\",\"SRR6261722\",\"SRR6261724\",\"SRR6261726\"],\"x\":{\"__ndarray__\":\"XrPEnbPg9D48sJbqWp3lvk621qN61fk+zJd1I5qD7z5CBzMI/zvNvsWnScT0HOo+d334++ybDj+meAsAMz72Pkx7qY4fL94++vzqtqF08r5Rch65CE4CP9JKRerGjb0+nRKjiJlm+j6CExVqdAfzPhfs4ItIYei+CQGH8gUV4r40ZIm5P/D0Pg3eC8/VvOg+\",\"dtype\":\"float64\",\"order\":\"little\",\"shape\":[18]},\"y\":{\"__ndarray__\":\"s/x2XxMZsL4QUeJQki/tvuDXlAhbjNO+BVjOHzIB8L5mH+yjiv7ZPlObGpUPcdq+3uypLwBW5D67dzJHOBqmPjEeDnaYtNa+lZZdqFVvuT6/jhxHcPfePiq9C9i2HeM+NRgM7srV3L68G6Bo8j/XPqmgTVchPN4+5L47QMCeu77vS7M3scLRvhFkIXY9t96+\",\"dtype\":\"float64\",\"order\":\"little\",\"shape\":[18]}},\"selected\":{\"id\":\"1665\"},\"selection_policy\":{\"id\":\"1664\"}},\"id\":\"1573\",\"type\":\"ColumnDataSource\"},{\"attributes\":{},\"id\":\"1576\",\"type\":\"DataRange1d\"},{\"attributes\":{},\"id\":\"1662\",\"type\":\"UnionRenderers\"}],\"root_ids\":[\"1575\"]},\"title\":\"Bokeh Application\",\"version\":\"2.2.3\"}};\n",
       "  var render_items = [{\"docid\":\"09d67238-bbc8-4dda-89c9-9edd4cffe4af\",\"root_ids\":[\"1575\"],\"roots\":{\"1575\":\"a83f7447-296a-4939-86a2-56beb8034c47\"}}];\n",
       "  root.Bokeh.embed.embed_items_notebook(docs_json, render_items);\n",
       "\n",
       "  }\n",
       "  if (root.Bokeh !== undefined) {\n",
       "    embed_document(root);\n",
       "  } else {\n",
       "    var attempts = 0;\n",
       "    var timer = setInterval(function(root) {\n",
       "      if (root.Bokeh !== undefined) {\n",
       "        clearInterval(timer);\n",
       "        embed_document(root);\n",
       "      } else {\n",
       "        attempts++;\n",
       "        if (attempts > 100) {\n",
       "          clearInterval(timer);\n",
       "          console.log(\"Bokeh: ERROR: Unable to run BokehJS code because BokehJS library is missing\");\n",
       "        }\n",
       "      }\n",
       "    }, 10, root)\n",
       "  }\n",
       "})(window);"
      ],
      "application/vnd.bokehjs_exec.v0+json": ""
     },
     "metadata": {
      "application/vnd.bokehjs_exec.v0+json": {
       "id": "1575"
      }
     },
     "output_type": "display_data"
    }
   ],
   "source": [
    "# q = 6\n",
    "draw_PCA(dfs[5])"
   ]
  },
  {
   "cell_type": "code",
   "execution_count": 11,
   "metadata": {},
   "outputs": [
    {
     "data": {
      "text/html": [
       "\n",
       "\n",
       "\n",
       "\n",
       "\n",
       "\n",
       "  <div class=\"bk-root\" id=\"a27995d7-3e57-4d65-ab02-e3dfffe87b8d\" data-root-id=\"1719\"></div>\n"
      ]
     },
     "metadata": {},
     "output_type": "display_data"
    },
    {
     "data": {
      "application/javascript": [
       "(function(root) {\n",
       "  function embed_document(root) {\n",
       "    \n",
       "  var docs_json = {\"32f18c8c-f58d-4888-bb67-91e2a7d2eadb\":{\"roots\":{\"references\":[{\"attributes\":{\"below\":[{\"id\":\"1728\"}],\"center\":[{\"id\":\"1731\"},{\"id\":\"1735\"}],\"left\":[{\"id\":\"1732\"}],\"plot_height\":500,\"plot_width\":550,\"renderers\":[{\"id\":\"1743\"},{\"id\":\"1748\"}],\"title\":{\"id\":\"1810\"},\"toolbar\":{\"id\":\"1737\"},\"x_range\":{\"id\":\"1720\"},\"x_scale\":{\"id\":\"1724\"},\"y_range\":{\"id\":\"1722\"},\"y_scale\":{\"id\":\"1726\"}},\"id\":\"1719\",\"subtype\":\"Figure\",\"type\":\"Plot\"},{\"attributes\":{\"data\":{\"desc\":[\"SRR6261728\",\"SRR6261730\",\"SRR6261732\",\"SRR6261734\",\"SRR6261736\",\"SRR6261738\",\"SRR6261740\",\"SRR6261742\",\"SRR6261744\",\"SRR6261746\",\"SRR6261756\",\"SRR6261758\",\"SRR6261761\",\"SRR6261762\",\"SRR6261764\",\"SRR6261766\",\"SRR6261768\",\"SRR6261770\",\"SRR6261773\",\"SRR6261774\"],\"x\":{\"__ndarray__\":\"w1TwQ41H/T6whgVge3n+Phvg3ssJTOk+zsgSzf5iAT9VEOVQtBDpPgkr+oZUhgU/ibMStf+pxD5wlzJb95DTvu4mJarQn+i+HnyeW5ii8T4npNJJUGimvgs3jZAKYOe+8r1FDyL1xD6gH3LrGOWwvjFGZnwc3/4+daWfg+kbAT/2lfh8Xufrvs2X4z3SyKU+OjdOeKiX6L7QMFqGorbTPg==\",\"dtype\":\"float64\",\"order\":\"little\",\"shape\":[20]},\"y\":{\"__ndarray__\":\"JmHuxp1rxT6ugELtxDxQvh3vHMuThrG+BATU8XMNjD6Ju9qZL57GPsM2R4Vn0cO+D4SuUF+tyD6BHc/Q8HyXvv6VM52X0s++BDY6E2hc075sM+1LRHa4vlfVmx9ItcS+90cDQGTDwb6QQ4tvUt6vPob4kxbiXHo+h432wk24wz7Mz0eP3tnJvghIrt9SONO+ndtMiPgvuL6TP1TT+LewPg==\",\"dtype\":\"float64\",\"order\":\"little\",\"shape\":[20]}},\"selected\":{\"id\":\"1817\"},\"selection_policy\":{\"id\":\"1816\"}},\"id\":\"1716\",\"type\":\"ColumnDataSource\"},{\"attributes\":{\"active_drag\":\"auto\",\"active_inspect\":\"auto\",\"active_multi\":null,\"active_scroll\":\"auto\",\"active_tap\":\"auto\",\"tools\":[{\"id\":\"1718\"},{\"id\":\"1736\"}]},\"id\":\"1737\",\"type\":\"Toolbar\"},{\"attributes\":{\"data\":{\"desc\":[\"SRR6261682\",\"SRR6261684\",\"SRR6261686\",\"SRR6261688\",\"SRR6261690\",\"SRR6261692\",\"SRR6261696\",\"SRR6261702\",\"SRR6261704\",\"SRR6261706\",\"SRR6261708\",\"SRR6261710\",\"SRR6261714\",\"SRR6261716\",\"SRR6261720\",\"SRR6261722\",\"SRR6261724\",\"SRR6261726\"],\"x\":{\"__ndarray__\":\"U1M3eCBe577GyURzmfbivv+oOu/qvfy+BVkNWhh/Ab/T9/97eyzyPlbC/FtI8fW+ESxx2CdE+b5/c6+chnHlvrUJujGaJ+y+/OjvEG8x8j5LuSvsp5jxvvrXXgmwfNa+xinAJP6p874vjkSWfC75vh9Zpl7Lu/A+CwFDbDPMHr7eZwUhOojyvk7f+MK+/OG+\",\"dtype\":\"float64\",\"order\":\"little\",\"shape\":[18]},\"y\":{\"__ndarray__\":\"hJnEavr+ob5dsSw4ADDPvtaT8W9iq8c+mUUvtxWY2L7NDwkm7IbRPg8Q6Saq6os+g4wecDJT3j5MHMkXynHfPsxXfDZul4g+R/ivC5fMob72sLZc7SDOPhjtp76xxpu+9xiL3qT72D72VLWIl4eiPvbS+83In7Q+6Xw+Y8X/zr5LNqdj1ofIvk2dcSE9pLS+\",\"dtype\":\"float64\",\"order\":\"little\",\"shape\":[18]}},\"selected\":{\"id\":\"1819\"},\"selection_policy\":{\"id\":\"1818\"}},\"id\":\"1717\",\"type\":\"ColumnDataSource\"},{\"attributes\":{\"callback\":null,\"tooltips\":[[\"index\",\"$index\"],[\"desc\",\"@desc\"]]},\"id\":\"1718\",\"type\":\"HoverTool\"},{\"attributes\":{\"fill_alpha\":{\"value\":0.1},\"fill_color\":{\"value\":\"black\"},\"line_alpha\":{\"value\":0.1},\"size\":{\"units\":\"screen\",\"value\":14},\"x\":{\"field\":\"x\"},\"y\":{\"field\":\"y\"}},\"id\":\"1742\",\"type\":\"Circle\"},{\"attributes\":{\"fill_color\":{\"value\":\"black\"},\"size\":{\"units\":\"screen\",\"value\":14},\"x\":{\"field\":\"x\"},\"y\":{\"field\":\"y\"}},\"id\":\"1741\",\"type\":\"Circle\"},{\"attributes\":{\"data_source\":{\"id\":\"1716\"},\"glyph\":{\"id\":\"1741\"},\"hover_glyph\":null,\"muted_glyph\":null,\"nonselection_glyph\":{\"id\":\"1742\"},\"selection_glyph\":null,\"view\":{\"id\":\"1744\"}},\"id\":\"1743\",\"type\":\"GlyphRenderer\"},{\"attributes\":{},\"id\":\"1720\",\"type\":\"DataRange1d\"},{\"attributes\":{},\"id\":\"1817\",\"type\":\"Selection\"},{\"attributes\":{},\"id\":\"1722\",\"type\":\"DataRange1d\"},{\"attributes\":{},\"id\":\"1724\",\"type\":\"LinearScale\"},{\"attributes\":{},\"id\":\"1812\",\"type\":\"BasicTickFormatter\"},{\"attributes\":{},\"id\":\"1726\",\"type\":\"LinearScale\"},{\"attributes\":{\"fill_alpha\":{\"value\":0.1},\"fill_color\":{\"value\":\"red\"},\"line_alpha\":{\"value\":0.1},\"line_color\":{\"value\":\"red\"},\"size\":{\"units\":\"screen\",\"value\":16},\"x\":{\"field\":\"x\"},\"y\":{\"field\":\"y\"}},\"id\":\"1747\",\"type\":\"Triangle\"},{\"attributes\":{},\"id\":\"1816\",\"type\":\"UnionRenderers\"},{\"attributes\":{\"fill_color\":{\"value\":\"red\"},\"line_color\":{\"value\":\"red\"},\"size\":{\"units\":\"screen\",\"value\":16},\"x\":{\"field\":\"x\"},\"y\":{\"field\":\"y\"}},\"id\":\"1746\",\"type\":\"Triangle\"},{\"attributes\":{\"formatter\":{\"id\":\"1812\"},\"major_label_text_color\":\"white\",\"ticker\":{\"id\":\"1729\"}},\"id\":\"1728\",\"type\":\"LinearAxis\"},{\"attributes\":{\"data_source\":{\"id\":\"1717\"},\"glyph\":{\"id\":\"1746\"},\"hover_glyph\":null,\"muted_glyph\":null,\"nonselection_glyph\":{\"id\":\"1747\"},\"selection_glyph\":null,\"view\":{\"id\":\"1749\"}},\"id\":\"1748\",\"type\":\"GlyphRenderer\"},{\"attributes\":{},\"id\":\"1814\",\"type\":\"BasicTickFormatter\"},{\"attributes\":{},\"id\":\"1729\",\"type\":\"BasicTicker\"},{\"attributes\":{\"source\":{\"id\":\"1717\"}},\"id\":\"1749\",\"type\":\"CDSView\"},{\"attributes\":{\"axis\":{\"id\":\"1728\"},\"ticker\":null},\"id\":\"1731\",\"type\":\"Grid\"},{\"attributes\":{\"formatter\":{\"id\":\"1814\"},\"major_label_text_color\":\"white\",\"ticker\":{\"id\":\"1733\"}},\"id\":\"1732\",\"type\":\"LinearAxis\"},{\"attributes\":{\"text\":\"\"},\"id\":\"1810\",\"type\":\"Title\"},{\"attributes\":{},\"id\":\"1819\",\"type\":\"Selection\"},{\"attributes\":{},\"id\":\"1733\",\"type\":\"BasicTicker\"},{\"attributes\":{\"axis\":{\"id\":\"1732\"},\"dimension\":1,\"ticker\":null},\"id\":\"1735\",\"type\":\"Grid\"},{\"attributes\":{\"source\":{\"id\":\"1716\"}},\"id\":\"1744\",\"type\":\"CDSView\"},{\"attributes\":{},\"id\":\"1818\",\"type\":\"UnionRenderers\"},{\"attributes\":{},\"id\":\"1736\",\"type\":\"SaveTool\"}],\"root_ids\":[\"1719\"]},\"title\":\"Bokeh Application\",\"version\":\"2.2.3\"}};\n",
       "  var render_items = [{\"docid\":\"32f18c8c-f58d-4888-bb67-91e2a7d2eadb\",\"root_ids\":[\"1719\"],\"roots\":{\"1719\":\"a27995d7-3e57-4d65-ab02-e3dfffe87b8d\"}}];\n",
       "  root.Bokeh.embed.embed_items_notebook(docs_json, render_items);\n",
       "\n",
       "  }\n",
       "  if (root.Bokeh !== undefined) {\n",
       "    embed_document(root);\n",
       "  } else {\n",
       "    var attempts = 0;\n",
       "    var timer = setInterval(function(root) {\n",
       "      if (root.Bokeh !== undefined) {\n",
       "        clearInterval(timer);\n",
       "        embed_document(root);\n",
       "      } else {\n",
       "        attempts++;\n",
       "        if (attempts > 100) {\n",
       "          clearInterval(timer);\n",
       "          console.log(\"Bokeh: ERROR: Unable to run BokehJS code because BokehJS library is missing\");\n",
       "        }\n",
       "      }\n",
       "    }, 10, root)\n",
       "  }\n",
       "})(window);"
      ],
      "application/vnd.bokehjs_exec.v0+json": ""
     },
     "metadata": {
      "application/vnd.bokehjs_exec.v0+json": {
       "id": "1719"
      }
     },
     "output_type": "display_data"
    }
   ],
   "source": [
    "# q = 7\n",
    "draw_PCA(dfs[6])"
   ]
  },
  {
   "cell_type": "code",
   "execution_count": 12,
   "metadata": {},
   "outputs": [
    {
     "data": {
      "text/html": [
       "\n",
       "\n",
       "\n",
       "\n",
       "\n",
       "\n",
       "  <div class=\"bk-root\" id=\"716df516-a601-4ee1-b9c9-e098215cb5e1\" data-root-id=\"1873\"></div>\n"
      ]
     },
     "metadata": {},
     "output_type": "display_data"
    },
    {
     "data": {
      "application/javascript": [
       "(function(root) {\n",
       "  function embed_document(root) {\n",
       "    \n",
       "  var docs_json = {\"c94117c1-da4b-4bdc-a600-48dbca76ac81\":{\"roots\":{\"references\":[{\"attributes\":{\"below\":[{\"id\":\"1882\"}],\"center\":[{\"id\":\"1885\"},{\"id\":\"1889\"}],\"left\":[{\"id\":\"1886\"}],\"plot_height\":500,\"plot_width\":550,\"renderers\":[{\"id\":\"1897\"},{\"id\":\"1902\"}],\"title\":{\"id\":\"1974\"},\"toolbar\":{\"id\":\"1891\"},\"x_range\":{\"id\":\"1874\"},\"x_scale\":{\"id\":\"1878\"},\"y_range\":{\"id\":\"1876\"},\"y_scale\":{\"id\":\"1880\"}},\"id\":\"1873\",\"subtype\":\"Figure\",\"type\":\"Plot\"},{\"attributes\":{\"axis\":{\"id\":\"1886\"},\"dimension\":1,\"ticker\":null},\"id\":\"1889\",\"type\":\"Grid\"},{\"attributes\":{},\"id\":\"1982\",\"type\":\"UnionRenderers\"},{\"attributes\":{},\"id\":\"1978\",\"type\":\"BasicTickFormatter\"},{\"attributes\":{},\"id\":\"1980\",\"type\":\"UnionRenderers\"},{\"attributes\":{},\"id\":\"1890\",\"type\":\"SaveTool\"},{\"attributes\":{\"data\":{\"desc\":[\"SRR6261728\",\"SRR6261730\",\"SRR6261732\",\"SRR6261734\",\"SRR6261736\",\"SRR6261738\",\"SRR6261740\",\"SRR6261742\",\"SRR6261744\",\"SRR6261746\",\"SRR6261756\",\"SRR6261758\",\"SRR6261761\",\"SRR6261762\",\"SRR6261764\",\"SRR6261766\",\"SRR6261768\",\"SRR6261770\",\"SRR6261773\",\"SRR6261774\"],\"x\":{\"__ndarray__\":\"QFK4hPUtt74g8fmD6RmtvpE02dGmppe+AADZBw8M3T5TnFbxpYLBPhZ/E3Czlac+7bEEzRzWWL4XMQhzwLzOPjfqeafC2tM+jD0ZBOLs4T7W1itgFlS1vq+bJGcmadc+sPAu+eTd0D7BeKe3Y7ejPthrmdlWmE6+0Aq6mVL7sj7vRIGf/fHPPrBr3ubzuNk+hlejsDX90D4vOnya6eKwPg==\",\"dtype\":\"float64\",\"order\":\"little\",\"shape\":[20]},\"y\":{\"__ndarray__\":\"VaIRiWPv0D6aBAph+k/RPrviXkDOOcg+jHU02kujyT6D2WHhww1Jvm+Z7guJR+A+2uMFD3rmmb6iLvf46OrEvg/XNy24m9G+SJBYzutdkr6rRc3mcKx7vudV3vqMSci+imlXWntjoL4b2BFCd0SYPiNtxIi+Itk+P55LvwGd4D5wDLCM5QjKvn0mFfhINsi+3JHvcHwm0b6XfL0gGUaXvg==\",\"dtype\":\"float64\",\"order\":\"little\",\"shape\":[20]}},\"selected\":{\"id\":\"1981\"},\"selection_policy\":{\"id\":\"1980\"}},\"id\":\"1870\",\"type\":\"ColumnDataSource\"},{\"attributes\":{},\"id\":\"1981\",\"type\":\"Selection\"},{\"attributes\":{\"active_drag\":\"auto\",\"active_inspect\":\"auto\",\"active_multi\":null,\"active_scroll\":\"auto\",\"active_tap\":\"auto\",\"tools\":[{\"id\":\"1872\"},{\"id\":\"1890\"}]},\"id\":\"1891\",\"type\":\"Toolbar\"},{\"attributes\":{},\"id\":\"1976\",\"type\":\"BasicTickFormatter\"},{\"attributes\":{\"data\":{\"desc\":[\"SRR6261682\",\"SRR6261684\",\"SRR6261686\",\"SRR6261688\",\"SRR6261690\",\"SRR6261692\",\"SRR6261696\",\"SRR6261702\",\"SRR6261704\",\"SRR6261706\",\"SRR6261708\",\"SRR6261710\",\"SRR6261714\",\"SRR6261716\",\"SRR6261720\",\"SRR6261722\",\"SRR6261724\",\"SRR6261726\"],\"x\":{\"__ndarray__\":\"wt8yjn1ny763PXbq8HuhPhkOpI/iyte+NegbJ8AUzL6tsfHP7Li/vsshiuDw4sW+tCGAi0oY0b5RJv6YbxuNPgQsm4S4u8m++EiLoi+5nr4970LNk8/TvqFCa1LiMca+Racd/uFa174331Rm/rbSvs64nVfBvq++ynHXCdg9vL4bz9Mi5v7OvjEyU7iXeLy+\",\"dtype\":\"float64\",\"order\":\"little\",\"shape\":[18]},\"y\":{\"__ndarray__\":\"oHBJMkl2qb5aPmRMrAeovoU3GSRhpcS+d8+dnhir0L6I5AuW9YjMPnh0MaX/lsG+kUaEUCV2zb6x0WobYn/HvotSVHpp3Lq+8KsyeIoxxz7qwHk2gFy4volPmnXHBJC+SxFOOvLcpr5esp+AR+rDvmz1gnMescU+S3GZTZcvpz6LLaDn7MO8vn8yVP5sp3E+\",\"dtype\":\"float64\",\"order\":\"little\",\"shape\":[18]}},\"selected\":{\"id\":\"1983\"},\"selection_policy\":{\"id\":\"1982\"}},\"id\":\"1871\",\"type\":\"ColumnDataSource\"},{\"attributes\":{\"fill_alpha\":{\"value\":0.1},\"fill_color\":{\"value\":\"black\"},\"line_alpha\":{\"value\":0.1},\"size\":{\"units\":\"screen\",\"value\":14},\"x\":{\"field\":\"x\"},\"y\":{\"field\":\"y\"}},\"id\":\"1896\",\"type\":\"Circle\"},{\"attributes\":{\"fill_color\":{\"value\":\"black\"},\"size\":{\"units\":\"screen\",\"value\":14},\"x\":{\"field\":\"x\"},\"y\":{\"field\":\"y\"}},\"id\":\"1895\",\"type\":\"Circle\"},{\"attributes\":{},\"id\":\"1983\",\"type\":\"Selection\"},{\"attributes\":{\"callback\":null,\"tooltips\":[[\"index\",\"$index\"],[\"desc\",\"@desc\"]]},\"id\":\"1872\",\"type\":\"HoverTool\"},{\"attributes\":{\"data_source\":{\"id\":\"1870\"},\"glyph\":{\"id\":\"1895\"},\"hover_glyph\":null,\"muted_glyph\":null,\"nonselection_glyph\":{\"id\":\"1896\"},\"selection_glyph\":null,\"view\":{\"id\":\"1898\"}},\"id\":\"1897\",\"type\":\"GlyphRenderer\"},{\"attributes\":{\"source\":{\"id\":\"1870\"}},\"id\":\"1898\",\"type\":\"CDSView\"},{\"attributes\":{},\"id\":\"1874\",\"type\":\"DataRange1d\"},{\"attributes\":{},\"id\":\"1876\",\"type\":\"DataRange1d\"},{\"attributes\":{\"fill_alpha\":{\"value\":0.1},\"fill_color\":{\"value\":\"red\"},\"line_alpha\":{\"value\":0.1},\"line_color\":{\"value\":\"red\"},\"size\":{\"units\":\"screen\",\"value\":16},\"x\":{\"field\":\"x\"},\"y\":{\"field\":\"y\"}},\"id\":\"1901\",\"type\":\"Triangle\"},{\"attributes\":{},\"id\":\"1878\",\"type\":\"LinearScale\"},{\"attributes\":{\"fill_color\":{\"value\":\"red\"},\"line_color\":{\"value\":\"red\"},\"size\":{\"units\":\"screen\",\"value\":16},\"x\":{\"field\":\"x\"},\"y\":{\"field\":\"y\"}},\"id\":\"1900\",\"type\":\"Triangle\"},{\"attributes\":{},\"id\":\"1880\",\"type\":\"LinearScale\"},{\"attributes\":{\"formatter\":{\"id\":\"1976\"},\"major_label_text_color\":\"white\",\"ticker\":{\"id\":\"1883\"}},\"id\":\"1882\",\"type\":\"LinearAxis\"},{\"attributes\":{},\"id\":\"1883\",\"type\":\"BasicTicker\"},{\"attributes\":{\"text\":\"\"},\"id\":\"1974\",\"type\":\"Title\"},{\"attributes\":{\"data_source\":{\"id\":\"1871\"},\"glyph\":{\"id\":\"1900\"},\"hover_glyph\":null,\"muted_glyph\":null,\"nonselection_glyph\":{\"id\":\"1901\"},\"selection_glyph\":null,\"view\":{\"id\":\"1903\"}},\"id\":\"1902\",\"type\":\"GlyphRenderer\"},{\"attributes\":{\"axis\":{\"id\":\"1882\"},\"ticker\":null},\"id\":\"1885\",\"type\":\"Grid\"},{\"attributes\":{\"source\":{\"id\":\"1871\"}},\"id\":\"1903\",\"type\":\"CDSView\"},{\"attributes\":{\"formatter\":{\"id\":\"1978\"},\"major_label_text_color\":\"white\",\"ticker\":{\"id\":\"1887\"}},\"id\":\"1886\",\"type\":\"LinearAxis\"},{\"attributes\":{},\"id\":\"1887\",\"type\":\"BasicTicker\"}],\"root_ids\":[\"1873\"]},\"title\":\"Bokeh Application\",\"version\":\"2.2.3\"}};\n",
       "  var render_items = [{\"docid\":\"c94117c1-da4b-4bdc-a600-48dbca76ac81\",\"root_ids\":[\"1873\"],\"roots\":{\"1873\":\"716df516-a601-4ee1-b9c9-e098215cb5e1\"}}];\n",
       "  root.Bokeh.embed.embed_items_notebook(docs_json, render_items);\n",
       "\n",
       "  }\n",
       "  if (root.Bokeh !== undefined) {\n",
       "    embed_document(root);\n",
       "  } else {\n",
       "    var attempts = 0;\n",
       "    var timer = setInterval(function(root) {\n",
       "      if (root.Bokeh !== undefined) {\n",
       "        clearInterval(timer);\n",
       "        embed_document(root);\n",
       "      } else {\n",
       "        attempts++;\n",
       "        if (attempts > 100) {\n",
       "          clearInterval(timer);\n",
       "          console.log(\"Bokeh: ERROR: Unable to run BokehJS code because BokehJS library is missing\");\n",
       "        }\n",
       "      }\n",
       "    }, 10, root)\n",
       "  }\n",
       "})(window);"
      ],
      "application/vnd.bokehjs_exec.v0+json": ""
     },
     "metadata": {
      "application/vnd.bokehjs_exec.v0+json": {
       "id": "1873"
      }
     },
     "output_type": "display_data"
    }
   ],
   "source": [
    "# q = 8\n",
    "draw_PCA(dfs[7])"
   ]
  },
  {
   "cell_type": "code",
   "execution_count": 13,
   "metadata": {},
   "outputs": [
    {
     "data": {
      "text/html": [
       "\n",
       "\n",
       "\n",
       "\n",
       "\n",
       "\n",
       "  <div class=\"bk-root\" id=\"7e591089-fc28-4fa9-a498-c8a08c7bc2c2\" data-root-id=\"2037\"></div>\n"
      ]
     },
     "metadata": {},
     "output_type": "display_data"
    },
    {
     "data": {
      "application/javascript": [
       "(function(root) {\n",
       "  function embed_document(root) {\n",
       "    \n",
       "  var docs_json = {\"45f63348-c37e-4601-946b-cff3fdf81109\":{\"roots\":{\"references\":[{\"attributes\":{\"below\":[{\"id\":\"2046\"}],\"center\":[{\"id\":\"2049\"},{\"id\":\"2053\"}],\"left\":[{\"id\":\"2050\"}],\"plot_height\":500,\"plot_width\":550,\"renderers\":[{\"id\":\"2061\"},{\"id\":\"2066\"}],\"title\":{\"id\":\"2148\"},\"toolbar\":{\"id\":\"2055\"},\"x_range\":{\"id\":\"2038\"},\"x_scale\":{\"id\":\"2042\"},\"y_range\":{\"id\":\"2040\"},\"y_scale\":{\"id\":\"2044\"}},\"id\":\"2037\",\"subtype\":\"Figure\",\"type\":\"Plot\"},{\"attributes\":{\"data\":{\"desc\":[\"SRR6261728\",\"SRR6261730\",\"SRR6261732\",\"SRR6261734\",\"SRR6261736\",\"SRR6261738\",\"SRR6261740\",\"SRR6261742\",\"SRR6261744\",\"SRR6261746\",\"SRR6261756\",\"SRR6261758\",\"SRR6261761\",\"SRR6261762\",\"SRR6261764\",\"SRR6261766\",\"SRR6261768\",\"SRR6261770\",\"SRR6261773\",\"SRR6261774\"],\"x\":{\"__ndarray__\":\"Uki61V7ysL51+003I6uivm494UpahrK+MKnbwV6swD6BaOTzzCGlPhHmespdlKu+VYHbD1WxnT72WDNR2z7BPlBkqZsJcMY+YGYCoZeExz6+CmmYTAOjvlqLvUDLAsU+RhJc2lgevT4CknO2xkOlPlIY9xtNgK2+vFt6seldsL5SlfhP747BPhQOYf3T48k+MyKv9B4Fvz79QMZRFNaYPg==\",\"dtype\":\"float64\",\"order\":\"little\",\"shape\":[20]},\"y\":{\"__ndarray__\":\"gz/HflCva760LX42/AapvsibRLG3NJ++LENF7XnBkj4j1Y79N+GFPq3U9CX1EJG+oikVVVaoaz773BTXlfuFPjmZd5blqow+tl86q9TOob4/qGFZJ1ibvpdJTvpK5aG+v8nKPJ9BmD72w44Sx5F8vgSrbJ5I2J2+y9spZnc2rL77k7JLuiCEvnXnNpf013E+2Y3kPUNmkT7lwYKvbkOGvg==\",\"dtype\":\"float64\",\"order\":\"little\",\"shape\":[20]}},\"selected\":{\"id\":\"2155\"},\"selection_policy\":{\"id\":\"2154\"}},\"id\":\"2034\",\"type\":\"ColumnDataSource\"},{\"attributes\":{\"source\":{\"id\":\"2034\"}},\"id\":\"2062\",\"type\":\"CDSView\"},{\"attributes\":{\"data\":{\"desc\":[\"SRR6261682\",\"SRR6261684\",\"SRR6261686\",\"SRR6261688\",\"SRR6261690\",\"SRR6261692\",\"SRR6261696\",\"SRR6261702\",\"SRR6261704\",\"SRR6261706\",\"SRR6261708\",\"SRR6261710\",\"SRR6261714\",\"SRR6261716\",\"SRR6261720\",\"SRR6261722\",\"SRR6261724\",\"SRR6261726\"],\"x\":{\"__ndarray__\":\"bFF/milTsb6yuVXCu4qivpad7RIDBLS+a2MpxAJUrr6PPYdPXaG1voR21LMdo7G+gsboZD5gi74UvInivp6wviTfpUY2A6++hHicQz4/qr7P+wyVSvC1vuJDA3Ub77G+SQgj+2I+t74+1VYJtluzvnlFY9dh86u+bYExAUQhnr44QfUrw6itvkmEjCSqx6++\",\"dtype\":\"float64\",\"order\":\"little\",\"shape\":[18]},\"y\":{\"__ndarray__\":\"LpvlD/+roT5ncZ8H5CtyPpRV80HDh1Q+veJ61A//hj7r2Y552GpYPjSYqSSkdXY+cm4aIKNanz6I6rnho1tvPg8MHXhCq3u+HlBSO1fHkz5xQVb9Xh6dPtcYNRilTKE+MY3xSJ4pq770vU+6U+CFPq81vdrcKVe+111nJESemT56p4juVliuPrRMoP0oqWS+\",\"dtype\":\"float64\",\"order\":\"little\",\"shape\":[18]}},\"selected\":{\"id\":\"2157\"},\"selection_policy\":{\"id\":\"2156\"}},\"id\":\"2035\",\"type\":\"ColumnDataSource\"},{\"attributes\":{},\"id\":\"2044\",\"type\":\"LinearScale\"},{\"attributes\":{\"fill_color\":{\"value\":\"black\"},\"size\":{\"units\":\"screen\",\"value\":14},\"x\":{\"field\":\"x\"},\"y\":{\"field\":\"y\"}},\"id\":\"2059\",\"type\":\"Circle\"},{\"attributes\":{\"fill_alpha\":{\"value\":0.1},\"fill_color\":{\"value\":\"red\"},\"line_alpha\":{\"value\":0.1},\"line_color\":{\"value\":\"red\"},\"size\":{\"units\":\"screen\",\"value\":16},\"x\":{\"field\":\"x\"},\"y\":{\"field\":\"y\"}},\"id\":\"2065\",\"type\":\"Triangle\"},{\"attributes\":{\"fill_color\":{\"value\":\"red\"},\"line_color\":{\"value\":\"red\"},\"size\":{\"units\":\"screen\",\"value\":16},\"x\":{\"field\":\"x\"},\"y\":{\"field\":\"y\"}},\"id\":\"2064\",\"type\":\"Triangle\"},{\"attributes\":{\"data_source\":{\"id\":\"2035\"},\"glyph\":{\"id\":\"2064\"},\"hover_glyph\":null,\"muted_glyph\":null,\"nonselection_glyph\":{\"id\":\"2065\"},\"selection_glyph\":null,\"view\":{\"id\":\"2067\"}},\"id\":\"2066\",\"type\":\"GlyphRenderer\"},{\"attributes\":{},\"id\":\"2042\",\"type\":\"LinearScale\"},{\"attributes\":{},\"id\":\"2150\",\"type\":\"BasicTickFormatter\"},{\"attributes\":{\"source\":{\"id\":\"2035\"}},\"id\":\"2067\",\"type\":\"CDSView\"},{\"attributes\":{},\"id\":\"2040\",\"type\":\"DataRange1d\"},{\"attributes\":{},\"id\":\"2038\",\"type\":\"DataRange1d\"},{\"attributes\":{\"text\":\"\"},\"id\":\"2148\",\"type\":\"Title\"},{\"attributes\":{\"formatter\":{\"id\":\"2150\"},\"major_label_text_color\":\"white\",\"ticker\":{\"id\":\"2047\"}},\"id\":\"2046\",\"type\":\"LinearAxis\"},{\"attributes\":{},\"id\":\"2155\",\"type\":\"Selection\"},{\"attributes\":{},\"id\":\"2157\",\"type\":\"Selection\"},{\"attributes\":{},\"id\":\"2051\",\"type\":\"BasicTicker\"},{\"attributes\":{\"formatter\":{\"id\":\"2152\"},\"major_label_text_color\":\"white\",\"ticker\":{\"id\":\"2051\"}},\"id\":\"2050\",\"type\":\"LinearAxis\"},{\"attributes\":{\"active_drag\":\"auto\",\"active_inspect\":\"auto\",\"active_multi\":null,\"active_scroll\":\"auto\",\"active_tap\":\"auto\",\"tools\":[{\"id\":\"2036\"},{\"id\":\"2054\"}]},\"id\":\"2055\",\"type\":\"Toolbar\"},{\"attributes\":{\"fill_alpha\":{\"value\":0.1},\"fill_color\":{\"value\":\"black\"},\"line_alpha\":{\"value\":0.1},\"size\":{\"units\":\"screen\",\"value\":14},\"x\":{\"field\":\"x\"},\"y\":{\"field\":\"y\"}},\"id\":\"2060\",\"type\":\"Circle\"},{\"attributes\":{},\"id\":\"2154\",\"type\":\"UnionRenderers\"},{\"attributes\":{\"axis\":{\"id\":\"2046\"},\"ticker\":null},\"id\":\"2049\",\"type\":\"Grid\"},{\"attributes\":{},\"id\":\"2047\",\"type\":\"BasicTicker\"},{\"attributes\":{},\"id\":\"2152\",\"type\":\"BasicTickFormatter\"},{\"attributes\":{\"axis\":{\"id\":\"2050\"},\"dimension\":1,\"ticker\":null},\"id\":\"2053\",\"type\":\"Grid\"},{\"attributes\":{\"callback\":null,\"tooltips\":[[\"index\",\"$index\"],[\"desc\",\"@desc\"]]},\"id\":\"2036\",\"type\":\"HoverTool\"},{\"attributes\":{},\"id\":\"2156\",\"type\":\"UnionRenderers\"},{\"attributes\":{},\"id\":\"2054\",\"type\":\"SaveTool\"},{\"attributes\":{\"data_source\":{\"id\":\"2034\"},\"glyph\":{\"id\":\"2059\"},\"hover_glyph\":null,\"muted_glyph\":null,\"nonselection_glyph\":{\"id\":\"2060\"},\"selection_glyph\":null,\"view\":{\"id\":\"2062\"}},\"id\":\"2061\",\"type\":\"GlyphRenderer\"}],\"root_ids\":[\"2037\"]},\"title\":\"Bokeh Application\",\"version\":\"2.2.3\"}};\n",
       "  var render_items = [{\"docid\":\"45f63348-c37e-4601-946b-cff3fdf81109\",\"root_ids\":[\"2037\"],\"roots\":{\"2037\":\"7e591089-fc28-4fa9-a498-c8a08c7bc2c2\"}}];\n",
       "  root.Bokeh.embed.embed_items_notebook(docs_json, render_items);\n",
       "\n",
       "  }\n",
       "  if (root.Bokeh !== undefined) {\n",
       "    embed_document(root);\n",
       "  } else {\n",
       "    var attempts = 0;\n",
       "    var timer = setInterval(function(root) {\n",
       "      if (root.Bokeh !== undefined) {\n",
       "        clearInterval(timer);\n",
       "        embed_document(root);\n",
       "      } else {\n",
       "        attempts++;\n",
       "        if (attempts > 100) {\n",
       "          clearInterval(timer);\n",
       "          console.log(\"Bokeh: ERROR: Unable to run BokehJS code because BokehJS library is missing\");\n",
       "        }\n",
       "      }\n",
       "    }, 10, root)\n",
       "  }\n",
       "})(window);"
      ],
      "application/vnd.bokehjs_exec.v0+json": ""
     },
     "metadata": {
      "application/vnd.bokehjs_exec.v0+json": {
       "id": "2037"
      }
     },
     "output_type": "display_data"
    }
   ],
   "source": [
    "# q = 9\n",
    "draw_PCA(dfs[8])"
   ]
  },
  {
   "cell_type": "code",
   "execution_count": 14,
   "metadata": {},
   "outputs": [
    {
     "data": {
      "text/html": [
       "\n",
       "\n",
       "\n",
       "\n",
       "\n",
       "\n",
       "  <div class=\"bk-root\" id=\"32951068-38eb-4d60-b1b7-2dd8e5f87abe\" data-root-id=\"2211\"></div>\n"
      ]
     },
     "metadata": {},
     "output_type": "display_data"
    },
    {
     "data": {
      "application/javascript": [
       "(function(root) {\n",
       "  function embed_document(root) {\n",
       "    \n",
       "  var docs_json = {\"383596ef-4fc2-4696-a5c3-d9b6ee49a992\":{\"roots\":{\"references\":[{\"attributes\":{\"below\":[{\"id\":\"2220\"}],\"center\":[{\"id\":\"2223\"},{\"id\":\"2227\"}],\"left\":[{\"id\":\"2224\"}],\"plot_height\":500,\"plot_width\":550,\"renderers\":[{\"id\":\"2235\"},{\"id\":\"2240\"}],\"title\":{\"id\":\"2332\"},\"toolbar\":{\"id\":\"2229\"},\"x_range\":{\"id\":\"2212\"},\"x_scale\":{\"id\":\"2216\"},\"y_range\":{\"id\":\"2214\"},\"y_scale\":{\"id\":\"2218\"}},\"id\":\"2211\",\"subtype\":\"Figure\",\"type\":\"Plot\"},{\"attributes\":{},\"id\":\"2336\",\"type\":\"BasicTickFormatter\"},{\"attributes\":{},\"id\":\"2228\",\"type\":\"SaveTool\"},{\"attributes\":{\"data\":{\"desc\":[\"SRR6261728\",\"SRR6261730\",\"SRR6261732\",\"SRR6261734\",\"SRR6261736\",\"SRR6261738\",\"SRR6261740\",\"SRR6261742\",\"SRR6261744\",\"SRR6261746\",\"SRR6261756\",\"SRR6261758\",\"SRR6261761\",\"SRR6261762\",\"SRR6261764\",\"SRR6261766\",\"SRR6261768\",\"SRR6261770\",\"SRR6261773\",\"SRR6261774\"],\"x\":{\"__ndarray__\":\"UlsTMXLslr6k8/1j1MyYvs+0n0caDZi+FjwSg1TCrz6w+4Zq5KySPiCfFQdOVpq+91wdB5r+lz5MZyHQOtK0PtqSTrJTS60+fwLw0am/qz6izULOW1CavoiZY5ji1qo+PvRH7uqIpT4xYNs45F+VPgOfZLro95y+m/DNhurGmb6yu/2+H5SjPszQcMDVVq4+O/3CPtvpqz7/AzmgB4WMPg==\",\"dtype\":\"float64\",\"order\":\"little\",\"shape\":[20]},\"y\":{\"__ndarray__\":\"RAR5zi2Rdz7GAtxKxjVmPkguQUfCDGg+ICUg+nL5WD7qWaelRfVaPquXltwZIUk+CalDUPJkXL79YSNNsTRjvo9dU9vH0y4+AODrlwdOP74rBMWsQbF3PmXhuQqSzzW+5p1jN23PWT6pEFhrt91ePr8i67N6SF0+nHXPSfC7dz44uZW21uh9PmeB6a8hJ2y+ibrlJGk4aL4Or2hjIAhkvg==\",\"dtype\":\"float64\",\"order\":\"little\",\"shape\":[20]}},\"selected\":{\"id\":\"2339\"},\"selection_policy\":{\"id\":\"2338\"}},\"id\":\"2208\",\"type\":\"ColumnDataSource\"},{\"attributes\":{\"active_drag\":\"auto\",\"active_inspect\":\"auto\",\"active_multi\":null,\"active_scroll\":\"auto\",\"active_tap\":\"auto\",\"tools\":[{\"id\":\"2210\"},{\"id\":\"2228\"}]},\"id\":\"2229\",\"type\":\"Toolbar\"},{\"attributes\":{\"fill_alpha\":{\"value\":0.1},\"fill_color\":{\"value\":\"black\"},\"line_alpha\":{\"value\":0.1},\"size\":{\"units\":\"screen\",\"value\":14},\"x\":{\"field\":\"x\"},\"y\":{\"field\":\"y\"}},\"id\":\"2234\",\"type\":\"Circle\"},{\"attributes\":{\"fill_color\":{\"value\":\"black\"},\"size\":{\"units\":\"screen\",\"value\":14},\"x\":{\"field\":\"x\"},\"y\":{\"field\":\"y\"}},\"id\":\"2233\",\"type\":\"Circle\"},{\"attributes\":{\"data_source\":{\"id\":\"2208\"},\"glyph\":{\"id\":\"2233\"},\"hover_glyph\":null,\"muted_glyph\":null,\"nonselection_glyph\":{\"id\":\"2234\"},\"selection_glyph\":null,\"view\":{\"id\":\"2236\"}},\"id\":\"2235\",\"type\":\"GlyphRenderer\"},{\"attributes\":{},\"id\":\"2334\",\"type\":\"BasicTickFormatter\"},{\"attributes\":{\"data_source\":{\"id\":\"2209\"},\"glyph\":{\"id\":\"2238\"},\"hover_glyph\":null,\"muted_glyph\":null,\"nonselection_glyph\":{\"id\":\"2239\"},\"selection_glyph\":null,\"view\":{\"id\":\"2241\"}},\"id\":\"2240\",\"type\":\"GlyphRenderer\"},{\"attributes\":{\"source\":{\"id\":\"2208\"}},\"id\":\"2236\",\"type\":\"CDSView\"},{\"attributes\":{\"formatter\":{\"id\":\"2334\"},\"major_label_text_color\":\"white\",\"ticker\":{\"id\":\"2221\"}},\"id\":\"2220\",\"type\":\"LinearAxis\"},{\"attributes\":{},\"id\":\"2338\",\"type\":\"UnionRenderers\"},{\"attributes\":{},\"id\":\"2216\",\"type\":\"LinearScale\"},{\"attributes\":{\"fill_alpha\":{\"value\":0.1},\"fill_color\":{\"value\":\"red\"},\"line_alpha\":{\"value\":0.1},\"line_color\":{\"value\":\"red\"},\"size\":{\"units\":\"screen\",\"value\":16},\"x\":{\"field\":\"x\"},\"y\":{\"field\":\"y\"}},\"id\":\"2239\",\"type\":\"Triangle\"},{\"attributes\":{},\"id\":\"2218\",\"type\":\"LinearScale\"},{\"attributes\":{\"source\":{\"id\":\"2209\"}},\"id\":\"2241\",\"type\":\"CDSView\"},{\"attributes\":{},\"id\":\"2339\",\"type\":\"Selection\"},{\"attributes\":{},\"id\":\"2214\",\"type\":\"DataRange1d\"},{\"attributes\":{\"callback\":null,\"tooltips\":[[\"index\",\"$index\"],[\"desc\",\"@desc\"]]},\"id\":\"2210\",\"type\":\"HoverTool\"},{\"attributes\":{},\"id\":\"2340\",\"type\":\"UnionRenderers\"},{\"attributes\":{},\"id\":\"2212\",\"type\":\"DataRange1d\"},{\"attributes\":{},\"id\":\"2341\",\"type\":\"Selection\"},{\"attributes\":{\"formatter\":{\"id\":\"2336\"},\"major_label_text_color\":\"white\",\"ticker\":{\"id\":\"2225\"}},\"id\":\"2224\",\"type\":\"LinearAxis\"},{\"attributes\":{\"fill_color\":{\"value\":\"red\"},\"line_color\":{\"value\":\"red\"},\"size\":{\"units\":\"screen\",\"value\":16},\"x\":{\"field\":\"x\"},\"y\":{\"field\":\"y\"}},\"id\":\"2238\",\"type\":\"Triangle\"},{\"attributes\":{},\"id\":\"2225\",\"type\":\"BasicTicker\"},{\"attributes\":{\"axis\":{\"id\":\"2220\"},\"ticker\":null},\"id\":\"2223\",\"type\":\"Grid\"},{\"attributes\":{\"text\":\"\"},\"id\":\"2332\",\"type\":\"Title\"},{\"attributes\":{\"data\":{\"desc\":[\"SRR6261682\",\"SRR6261684\",\"SRR6261686\",\"SRR6261688\",\"SRR6261690\",\"SRR6261692\",\"SRR6261696\",\"SRR6261702\",\"SRR6261704\",\"SRR6261706\",\"SRR6261708\",\"SRR6261710\",\"SRR6261714\",\"SRR6261716\",\"SRR6261720\",\"SRR6261722\",\"SRR6261724\",\"SRR6261726\"],\"x\":{\"__ndarray__\":\"LxszGwWInL79rJ/a/4KavrD5fq6o7pi+kTjFSPSnnr4ANvB9CKuavqd3kEPnq5i+f3mTofKfmj7NsV+RkPyZvl24EU2OfZm+R3PlK+GPmL4ygIqUX7CZvpX4Q7XFFpm+PgiKA9G9mr4QQsnKD0WUvku/nUWPCZq+IFZilQN9mb4uDv5d3WuYvgS3xve+T5u+\",\"dtype\":\"float64\",\"order\":\"little\",\"shape\":[18]},\"y\":{\"__ndarray__\":\"nriiKYOrXb5ELumXpadqvkB+s6HJEWK+IsbcKLlsPr6vDxMEk4hYPqUazAwZvla+CV+VN+BxYz7SSf8dBudWvnShzw509Fm+3AT/GjN3Wr4rWzXALh9bvrMLiHREo2K+MzmCFn1FYL79jfxqcposvn2smYJLvGS+1tvNn/94Zr4V9mGM6opdvkDK/rhZ2me+\",\"dtype\":\"float64\",\"order\":\"little\",\"shape\":[18]}},\"selected\":{\"id\":\"2341\"},\"selection_policy\":{\"id\":\"2340\"}},\"id\":\"2209\",\"type\":\"ColumnDataSource\"},{\"attributes\":{\"axis\":{\"id\":\"2224\"},\"dimension\":1,\"ticker\":null},\"id\":\"2227\",\"type\":\"Grid\"},{\"attributes\":{},\"id\":\"2221\",\"type\":\"BasicTicker\"}],\"root_ids\":[\"2211\"]},\"title\":\"Bokeh Application\",\"version\":\"2.2.3\"}};\n",
       "  var render_items = [{\"docid\":\"383596ef-4fc2-4696-a5c3-d9b6ee49a992\",\"root_ids\":[\"2211\"],\"roots\":{\"2211\":\"32951068-38eb-4d60-b1b7-2dd8e5f87abe\"}}];\n",
       "  root.Bokeh.embed.embed_items_notebook(docs_json, render_items);\n",
       "\n",
       "  }\n",
       "  if (root.Bokeh !== undefined) {\n",
       "    embed_document(root);\n",
       "  } else {\n",
       "    var attempts = 0;\n",
       "    var timer = setInterval(function(root) {\n",
       "      if (root.Bokeh !== undefined) {\n",
       "        clearInterval(timer);\n",
       "        embed_document(root);\n",
       "      } else {\n",
       "        attempts++;\n",
       "        if (attempts > 100) {\n",
       "          clearInterval(timer);\n",
       "          console.log(\"Bokeh: ERROR: Unable to run BokehJS code because BokehJS library is missing\");\n",
       "        }\n",
       "      }\n",
       "    }, 10, root)\n",
       "  }\n",
       "})(window);"
      ],
      "application/vnd.bokehjs_exec.v0+json": ""
     },
     "metadata": {
      "application/vnd.bokehjs_exec.v0+json": {
       "id": "2211"
      }
     },
     "output_type": "display_data"
    }
   ],
   "source": [
    "# q = 10\n",
    "draw_PCA(dfs[9])"
   ]
  },
  {
   "cell_type": "code",
   "execution_count": 15,
   "metadata": {},
   "outputs": [
    {
     "data": {
      "text/html": [
       "\n",
       "\n",
       "\n",
       "\n",
       "\n",
       "\n",
       "  <div class=\"bk-root\" id=\"9d5af162-e1a7-45dd-bdc1-0a790f2448d6\" data-root-id=\"2395\"></div>\n"
      ]
     },
     "metadata": {},
     "output_type": "display_data"
    },
    {
     "data": {
      "application/javascript": [
       "(function(root) {\n",
       "  function embed_document(root) {\n",
       "    \n",
       "  var docs_json = {\"7a670b86-9e24-4cc6-b27b-9eb9032770f7\":{\"roots\":{\"references\":[{\"attributes\":{\"below\":[{\"id\":\"2404\"}],\"center\":[{\"id\":\"2407\"},{\"id\":\"2411\"}],\"left\":[{\"id\":\"2408\"}],\"plot_height\":500,\"plot_width\":550,\"renderers\":[{\"id\":\"2419\"},{\"id\":\"2424\"}],\"title\":{\"id\":\"2526\"},\"toolbar\":{\"id\":\"2413\"},\"x_range\":{\"id\":\"2396\"},\"x_scale\":{\"id\":\"2400\"},\"y_range\":{\"id\":\"2398\"},\"y_scale\":{\"id\":\"2402\"}},\"id\":\"2395\",\"subtype\":\"Figure\",\"type\":\"Plot\"},{\"attributes\":{\"callback\":null,\"tooltips\":[[\"index\",\"$index\"],[\"desc\",\"@desc\"]]},\"id\":\"2394\",\"type\":\"HoverTool\"},{\"attributes\":{},\"id\":\"2534\",\"type\":\"UnionRenderers\"},{\"attributes\":{\"axis\":{\"id\":\"2404\"},\"ticker\":null},\"id\":\"2407\",\"type\":\"Grid\"},{\"attributes\":{},\"id\":\"2535\",\"type\":\"Selection\"},{\"attributes\":{\"formatter\":{\"id\":\"2530\"},\"major_label_text_color\":\"white\",\"ticker\":{\"id\":\"2409\"}},\"id\":\"2408\",\"type\":\"LinearAxis\"},{\"attributes\":{},\"id\":\"2409\",\"type\":\"BasicTicker\"},{\"attributes\":{\"source\":{\"id\":\"2392\"}},\"id\":\"2420\",\"type\":\"CDSView\"},{\"attributes\":{\"axis\":{\"id\":\"2408\"},\"dimension\":1,\"ticker\":null},\"id\":\"2411\",\"type\":\"Grid\"},{\"attributes\":{},\"id\":\"2400\",\"type\":\"LinearScale\"},{\"attributes\":{\"data\":{\"desc\":[\"SRR6261682\",\"SRR6261684\",\"SRR6261686\",\"SRR6261688\",\"SRR6261690\",\"SRR6261692\",\"SRR6261696\",\"SRR6261702\",\"SRR6261704\",\"SRR6261706\",\"SRR6261708\",\"SRR6261710\",\"SRR6261714\",\"SRR6261716\",\"SRR6261720\",\"SRR6261722\",\"SRR6261724\",\"SRR6261726\"],\"x\":{\"__ndarray__\":\"u3P3CrCp9T3bXlBrO3s5Puoph0R47yE+aeadRg9TGr6EGozOAo7yPaM6KU2Yfzo+mZ0Nw/avMT6wsCNhIEPyPZTCCDt9ViU+tc8NXpy/NT4225Fyb08SPhCITfwoxyE+tqf1OSFUBz4EzdZUZgoZPtuIebZ4gx2+M3/tEBNrHT7Ev4DLFu83Pvy83V+AeBU+\",\"dtype\":\"float64\",\"order\":\"little\",\"shape\":[18]},\"y\":{\"__ndarray__\":\"Fa7WcGCMJD40UuB1ogwXvgnNp4JmcB8+HbFqdnUYJT70+9LOKm8TPrg7PUQjrxS+hOIIs2QYHz4OoPSYXDIBvoNdIAqZj/S9bxVf4nbF/L1krGPE/L/6PaHxBa48GPO9hb6OaZjvID5E4fOANSsjPmC9JJ82vho+2ELeTc6Y+T0bJUXQdBkXvts8mG7GSSK+\",\"dtype\":\"float64\",\"order\":\"little\",\"shape\":[18]}},\"selected\":{\"id\":\"2535\"},\"selection_policy\":{\"id\":\"2534\"}},\"id\":\"2393\",\"type\":\"ColumnDataSource\"},{\"attributes\":{\"text\":\"\"},\"id\":\"2526\",\"type\":\"Title\"},{\"attributes\":{\"data\":{\"desc\":[\"SRR6261728\",\"SRR6261730\",\"SRR6261732\",\"SRR6261734\",\"SRR6261736\",\"SRR6261738\",\"SRR6261740\",\"SRR6261742\",\"SRR6261744\",\"SRR6261746\",\"SRR6261756\",\"SRR6261758\",\"SRR6261761\",\"SRR6261762\",\"SRR6261764\",\"SRR6261766\",\"SRR6261768\",\"SRR6261770\",\"SRR6261773\",\"SRR6261774\"],\"x\":{\"__ndarray__\":\"gerpEpb1Hr5+Yx+V6cUwvnqWzy4CSRC+W2479UK09r33FZ4MnPwlvm+nAxJUONu9RKp52ncBFL511/4vcIoAvnk1dZghPhm+26bXqS3NML7t540iq9YBvs+QxCtXNDG+ok2WevJsH76OVmNkw9IQvhZ8HRGL4Sy+9eMfPsBJIL5vGOjcFOkovhjJZ3Gm8CO+fhUW8hPZI765uhQoUBsAvg==\",\"dtype\":\"float64\",\"order\":\"little\",\"shape\":[20]},\"y\":{\"__ndarray__\":\"GS9f8mRUEb4EHBn1w0AVvmkzfVYPlhM+2vutBr+O/z248Kr4dZ39ve3vw1sI5LI9EnKasRJkA769dRPyew8fvqeALODo4RW+iyJam3woFb44mKzPB/wgvtIeFfnUwfa9JHkDEEmyBL7udRui7zf9vWYjlCt4nwW+RVqA6umMCj401ocyDTDHPZCsjElJfBo+X/1lS5stDL52qXF1L8XxvQ==\",\"dtype\":\"float64\",\"order\":\"little\",\"shape\":[20]}},\"selected\":{\"id\":\"2533\"},\"selection_policy\":{\"id\":\"2532\"}},\"id\":\"2392\",\"type\":\"ColumnDataSource\"},{\"attributes\":{\"formatter\":{\"id\":\"2528\"},\"major_label_text_color\":\"white\",\"ticker\":{\"id\":\"2405\"}},\"id\":\"2404\",\"type\":\"LinearAxis\"},{\"attributes\":{\"fill_alpha\":{\"value\":0.1},\"fill_color\":{\"value\":\"red\"},\"line_alpha\":{\"value\":0.1},\"line_color\":{\"value\":\"red\"},\"size\":{\"units\":\"screen\",\"value\":16},\"x\":{\"field\":\"x\"},\"y\":{\"field\":\"y\"}},\"id\":\"2423\",\"type\":\"Triangle\"},{\"attributes\":{},\"id\":\"2412\",\"type\":\"SaveTool\"},{\"attributes\":{\"active_drag\":\"auto\",\"active_inspect\":\"auto\",\"active_multi\":null,\"active_scroll\":\"auto\",\"active_tap\":\"auto\",\"tools\":[{\"id\":\"2394\"},{\"id\":\"2412\"}]},\"id\":\"2413\",\"type\":\"Toolbar\"},{\"attributes\":{\"fill_alpha\":{\"value\":0.1},\"fill_color\":{\"value\":\"black\"},\"line_alpha\":{\"value\":0.1},\"size\":{\"units\":\"screen\",\"value\":14},\"x\":{\"field\":\"x\"},\"y\":{\"field\":\"y\"}},\"id\":\"2418\",\"type\":\"Circle\"},{\"attributes\":{\"fill_color\":{\"value\":\"black\"},\"size\":{\"units\":\"screen\",\"value\":14},\"x\":{\"field\":\"x\"},\"y\":{\"field\":\"y\"}},\"id\":\"2417\",\"type\":\"Circle\"},{\"attributes\":{\"data_source\":{\"id\":\"2393\"},\"glyph\":{\"id\":\"2422\"},\"hover_glyph\":null,\"muted_glyph\":null,\"nonselection_glyph\":{\"id\":\"2423\"},\"selection_glyph\":null,\"view\":{\"id\":\"2425\"}},\"id\":\"2424\",\"type\":\"GlyphRenderer\"},{\"attributes\":{\"fill_color\":{\"value\":\"red\"},\"line_color\":{\"value\":\"red\"},\"size\":{\"units\":\"screen\",\"value\":16},\"x\":{\"field\":\"x\"},\"y\":{\"field\":\"y\"}},\"id\":\"2422\",\"type\":\"Triangle\"},{\"attributes\":{},\"id\":\"2396\",\"type\":\"DataRange1d\"},{\"attributes\":{\"source\":{\"id\":\"2393\"}},\"id\":\"2425\",\"type\":\"CDSView\"},{\"attributes\":{},\"id\":\"2528\",\"type\":\"BasicTickFormatter\"},{\"attributes\":{},\"id\":\"2530\",\"type\":\"BasicTickFormatter\"},{\"attributes\":{\"data_source\":{\"id\":\"2392\"},\"glyph\":{\"id\":\"2417\"},\"hover_glyph\":null,\"muted_glyph\":null,\"nonselection_glyph\":{\"id\":\"2418\"},\"selection_glyph\":null,\"view\":{\"id\":\"2420\"}},\"id\":\"2419\",\"type\":\"GlyphRenderer\"},{\"attributes\":{},\"id\":\"2532\",\"type\":\"UnionRenderers\"},{\"attributes\":{},\"id\":\"2402\",\"type\":\"LinearScale\"},{\"attributes\":{},\"id\":\"2405\",\"type\":\"BasicTicker\"},{\"attributes\":{},\"id\":\"2533\",\"type\":\"Selection\"},{\"attributes\":{},\"id\":\"2398\",\"type\":\"DataRange1d\"}],\"root_ids\":[\"2395\"]},\"title\":\"Bokeh Application\",\"version\":\"2.2.3\"}};\n",
       "  var render_items = [{\"docid\":\"7a670b86-9e24-4cc6-b27b-9eb9032770f7\",\"root_ids\":[\"2395\"],\"roots\":{\"2395\":\"9d5af162-e1a7-45dd-bdc1-0a790f2448d6\"}}];\n",
       "  root.Bokeh.embed.embed_items_notebook(docs_json, render_items);\n",
       "\n",
       "  }\n",
       "  if (root.Bokeh !== undefined) {\n",
       "    embed_document(root);\n",
       "  } else {\n",
       "    var attempts = 0;\n",
       "    var timer = setInterval(function(root) {\n",
       "      if (root.Bokeh !== undefined) {\n",
       "        clearInterval(timer);\n",
       "        embed_document(root);\n",
       "      } else {\n",
       "        attempts++;\n",
       "        if (attempts > 100) {\n",
       "          clearInterval(timer);\n",
       "          console.log(\"Bokeh: ERROR: Unable to run BokehJS code because BokehJS library is missing\");\n",
       "        }\n",
       "      }\n",
       "    }, 10, root)\n",
       "  }\n",
       "})(window);"
      ],
      "application/vnd.bokehjs_exec.v0+json": ""
     },
     "metadata": {
      "application/vnd.bokehjs_exec.v0+json": {
       "id": "2395"
      }
     },
     "output_type": "display_data"
    }
   ],
   "source": [
    "# q = 11\n",
    "draw_PCA(dfs[10])"
   ]
  },
  {
   "cell_type": "code",
   "execution_count": 16,
   "metadata": {},
   "outputs": [
    {
     "data": {
      "text/html": [
       "\n",
       "\n",
       "\n",
       "\n",
       "\n",
       "\n",
       "  <div class=\"bk-root\" id=\"3e075156-9d4d-476a-ae19-07bf12c14aa7\" data-root-id=\"2589\"></div>\n"
      ]
     },
     "metadata": {},
     "output_type": "display_data"
    },
    {
     "data": {
      "application/javascript": [
       "(function(root) {\n",
       "  function embed_document(root) {\n",
       "    \n",
       "  var docs_json = {\"00cb4a0c-10be-4739-9cab-1191fb11800f\":{\"roots\":{\"references\":[{\"attributes\":{\"below\":[{\"id\":\"2598\"}],\"center\":[{\"id\":\"2601\"},{\"id\":\"2605\"}],\"left\":[{\"id\":\"2602\"}],\"plot_height\":500,\"plot_width\":550,\"renderers\":[{\"id\":\"2613\"},{\"id\":\"2618\"}],\"title\":{\"id\":\"2730\"},\"toolbar\":{\"id\":\"2607\"},\"x_range\":{\"id\":\"2590\"},\"x_scale\":{\"id\":\"2594\"},\"y_range\":{\"id\":\"2592\"},\"y_scale\":{\"id\":\"2596\"}},\"id\":\"2589\",\"subtype\":\"Figure\",\"type\":\"Plot\"},{\"attributes\":{},\"id\":\"2590\",\"type\":\"DataRange1d\"},{\"attributes\":{},\"id\":\"2592\",\"type\":\"DataRange1d\"},{\"attributes\":{},\"id\":\"2594\",\"type\":\"LinearScale\"},{\"attributes\":{\"fill_alpha\":{\"value\":0.1},\"fill_color\":{\"value\":\"black\"},\"line_alpha\":{\"value\":0.1},\"size\":{\"units\":\"screen\",\"value\":14},\"x\":{\"field\":\"x\"},\"y\":{\"field\":\"y\"}},\"id\":\"2612\",\"type\":\"Circle\"},{\"attributes\":{\"text\":\"\"},\"id\":\"2730\",\"type\":\"Title\"},{\"attributes\":{},\"id\":\"2596\",\"type\":\"LinearScale\"},{\"attributes\":{\"callback\":null,\"tooltips\":[[\"index\",\"$index\"],[\"desc\",\"@desc\"]]},\"id\":\"2588\",\"type\":\"HoverTool\"},{\"attributes\":{\"fill_color\":{\"value\":\"black\"},\"size\":{\"units\":\"screen\",\"value\":14},\"x\":{\"field\":\"x\"},\"y\":{\"field\":\"y\"}},\"id\":\"2611\",\"type\":\"Circle\"},{\"attributes\":{},\"id\":\"2732\",\"type\":\"BasicTickFormatter\"},{\"attributes\":{\"formatter\":{\"id\":\"2732\"},\"major_label_text_color\":\"white\",\"ticker\":{\"id\":\"2599\"}},\"id\":\"2598\",\"type\":\"LinearAxis\"},{\"attributes\":{\"data\":{\"desc\":[\"SRR6261682\",\"SRR6261684\",\"SRR6261686\",\"SRR6261688\",\"SRR6261690\",\"SRR6261692\",\"SRR6261696\",\"SRR6261702\",\"SRR6261704\",\"SRR6261706\",\"SRR6261708\",\"SRR6261710\",\"SRR6261714\",\"SRR6261716\",\"SRR6261720\",\"SRR6261722\",\"SRR6261724\",\"SRR6261726\"],\"x\":{\"__ndarray__\":\"OjP0FCn2dj6leReYKfZ2PuFobbSvy22+HrS5RSn2dj7wG4LQJfZ2PhpRYBgp9nY+jkHfXKtubb5s5GytI/Z2PokdSU4l9nY+IQrK5yf2dj5ybE98JPZ2PkR7YwSEJW6+IZEDdyb2dj6V2fHsU51tvi32/sUl9nY+G+OM1yf2dj6VDJ9uJPZ2Pl8Dohwf9nY+\",\"dtype\":\"float64\",\"order\":\"little\",\"shape\":[18]},\"y\":{\"__ndarray__\":\"lQr+AfHO4T2b2wdl+ErkPdJ0eD9GxPc9aEK6MQWS4T1ryBGSDt2Rva2h47Qj5eE9jkfkS0k4/D0+9gbzbobYvc3cQ3uzU7u9GW6ZIL9K2D2/M40oEvrMvfMkIrPrE/E9WxUqiPEuwz1UCSJnFEv8PRqOwaUvCbW98ZW0g1eb1z2HtU8vyXTMvXEuIZTkKfG9\",\"dtype\":\"float64\",\"order\":\"little\",\"shape\":[18]}},\"selected\":{\"id\":\"2739\"},\"selection_policy\":{\"id\":\"2738\"}},\"id\":\"2587\",\"type\":\"ColumnDataSource\"},{\"attributes\":{},\"id\":\"2734\",\"type\":\"BasicTickFormatter\"},{\"attributes\":{},\"id\":\"2599\",\"type\":\"BasicTicker\"},{\"attributes\":{},\"id\":\"2736\",\"type\":\"UnionRenderers\"},{\"attributes\":{\"axis\":{\"id\":\"2598\"},\"ticker\":null},\"id\":\"2601\",\"type\":\"Grid\"},{\"attributes\":{},\"id\":\"2737\",\"type\":\"Selection\"},{\"attributes\":{\"formatter\":{\"id\":\"2734\"},\"major_label_text_color\":\"white\",\"ticker\":{\"id\":\"2603\"}},\"id\":\"2602\",\"type\":\"LinearAxis\"},{\"attributes\":{},\"id\":\"2738\",\"type\":\"UnionRenderers\"},{\"attributes\":{},\"id\":\"2603\",\"type\":\"BasicTicker\"},{\"attributes\":{},\"id\":\"2739\",\"type\":\"Selection\"},{\"attributes\":{\"axis\":{\"id\":\"2602\"},\"dimension\":1,\"ticker\":null},\"id\":\"2605\",\"type\":\"Grid\"},{\"attributes\":{\"source\":{\"id\":\"2586\"}},\"id\":\"2614\",\"type\":\"CDSView\"},{\"attributes\":{\"data\":{\"desc\":[\"SRR6261728\",\"SRR6261730\",\"SRR6261732\",\"SRR6261734\",\"SRR6261736\",\"SRR6261738\",\"SRR6261740\",\"SRR6261742\",\"SRR6261744\",\"SRR6261746\",\"SRR6261756\",\"SRR6261758\",\"SRR6261761\",\"SRR6261762\",\"SRR6261764\",\"SRR6261766\",\"SRR6261768\",\"SRR6261770\",\"SRR6261773\",\"SRR6261774\"],\"x\":{\"__ndarray__\":\"hTZ+sAhJbb7K+eJDvgJuvl+TnMcuTG6+cGB24+4Bbr6gjT8KXvFtvpqXbeCsZW6+HLf/ayeLbb5Brde+CsRtvvvtOFtsRm6+27Wi4RYhbr5EJc5i/c9uvuVxoVgeG26+AHyKV7mwbb7s12e0HPZ2PtZR3lIg6W2+m4Bp8ReSbb4Ztg/pIrhtvsLQYND5Hm6+7gEttX3Pbb5Fcgll6XVuvg==\",\"dtype\":\"float64\",\"order\":\"little\",\"shape\":[20]},\"y\":{\"__ndarray__\":\"s+wuidS/5L2IyaVxqOXsvVA43UR6eto9058N1BgA2D3P5jGFyFfdvfg8On9UTM898UkuZKkd3L1honfCR0fpvUCjtNClUdO97SXb3vc97L20qMefbGTjvdEZfeAz9+m9i+GDX9Br370D6F/kT6fxvSYqVFj/juW9OrtLzm76oj1tCVal1e+kPWD+PqdaFMI9qm8a+I4N0L21Eeec9kywvQ==\",\"dtype\":\"float64\",\"order\":\"little\",\"shape\":[20]}},\"selected\":{\"id\":\"2737\"},\"selection_policy\":{\"id\":\"2736\"}},\"id\":\"2586\",\"type\":\"ColumnDataSource\"},{\"attributes\":{\"data_source\":{\"id\":\"2587\"},\"glyph\":{\"id\":\"2616\"},\"hover_glyph\":null,\"muted_glyph\":null,\"nonselection_glyph\":{\"id\":\"2617\"},\"selection_glyph\":null,\"view\":{\"id\":\"2619\"}},\"id\":\"2618\",\"type\":\"GlyphRenderer\"},{\"attributes\":{},\"id\":\"2606\",\"type\":\"SaveTool\"},{\"attributes\":{\"data_source\":{\"id\":\"2586\"},\"glyph\":{\"id\":\"2611\"},\"hover_glyph\":null,\"muted_glyph\":null,\"nonselection_glyph\":{\"id\":\"2612\"},\"selection_glyph\":null,\"view\":{\"id\":\"2614\"}},\"id\":\"2613\",\"type\":\"GlyphRenderer\"},{\"attributes\":{\"active_drag\":\"auto\",\"active_inspect\":\"auto\",\"active_multi\":null,\"active_scroll\":\"auto\",\"active_tap\":\"auto\",\"tools\":[{\"id\":\"2588\"},{\"id\":\"2606\"}]},\"id\":\"2607\",\"type\":\"Toolbar\"},{\"attributes\":{\"fill_alpha\":{\"value\":0.1},\"fill_color\":{\"value\":\"red\"},\"line_alpha\":{\"value\":0.1},\"line_color\":{\"value\":\"red\"},\"size\":{\"units\":\"screen\",\"value\":16},\"x\":{\"field\":\"x\"},\"y\":{\"field\":\"y\"}},\"id\":\"2617\",\"type\":\"Triangle\"},{\"attributes\":{\"fill_color\":{\"value\":\"red\"},\"line_color\":{\"value\":\"red\"},\"size\":{\"units\":\"screen\",\"value\":16},\"x\":{\"field\":\"x\"},\"y\":{\"field\":\"y\"}},\"id\":\"2616\",\"type\":\"Triangle\"},{\"attributes\":{\"source\":{\"id\":\"2587\"}},\"id\":\"2619\",\"type\":\"CDSView\"}],\"root_ids\":[\"2589\"]},\"title\":\"Bokeh Application\",\"version\":\"2.2.3\"}};\n",
       "  var render_items = [{\"docid\":\"00cb4a0c-10be-4739-9cab-1191fb11800f\",\"root_ids\":[\"2589\"],\"roots\":{\"2589\":\"3e075156-9d4d-476a-ae19-07bf12c14aa7\"}}];\n",
       "  root.Bokeh.embed.embed_items_notebook(docs_json, render_items);\n",
       "\n",
       "  }\n",
       "  if (root.Bokeh !== undefined) {\n",
       "    embed_document(root);\n",
       "  } else {\n",
       "    var attempts = 0;\n",
       "    var timer = setInterval(function(root) {\n",
       "      if (root.Bokeh !== undefined) {\n",
       "        clearInterval(timer);\n",
       "        embed_document(root);\n",
       "      } else {\n",
       "        attempts++;\n",
       "        if (attempts > 100) {\n",
       "          clearInterval(timer);\n",
       "          console.log(\"Bokeh: ERROR: Unable to run BokehJS code because BokehJS library is missing\");\n",
       "        }\n",
       "      }\n",
       "    }, 10, root)\n",
       "  }\n",
       "})(window);"
      ],
      "application/vnd.bokehjs_exec.v0+json": ""
     },
     "metadata": {
      "application/vnd.bokehjs_exec.v0+json": {
       "id": "2589"
      }
     },
     "output_type": "display_data"
    }
   ],
   "source": [
    "# q = 12\n",
    "draw_PCA(dfs[11])"
   ]
  },
  {
   "cell_type": "code",
   "execution_count": 17,
   "metadata": {},
   "outputs": [
    {
     "data": {
      "text/html": [
       "\n",
       "\n",
       "\n",
       "\n",
       "\n",
       "\n",
       "  <div class=\"bk-root\" id=\"8c9ff2c2-6678-4960-8421-64d4587f02ce\" data-root-id=\"2793\"></div>\n"
      ]
     },
     "metadata": {},
     "output_type": "display_data"
    },
    {
     "data": {
      "application/javascript": [
       "(function(root) {\n",
       "  function embed_document(root) {\n",
       "    \n",
       "  var docs_json = {\"b5653f65-7b84-4639-b8fa-5fa0490d4153\":{\"roots\":{\"references\":[{\"attributes\":{\"below\":[{\"id\":\"2802\"}],\"center\":[{\"id\":\"2805\"},{\"id\":\"2809\"}],\"left\":[{\"id\":\"2806\"}],\"plot_height\":500,\"plot_width\":550,\"renderers\":[{\"id\":\"2817\"},{\"id\":\"2822\"}],\"title\":{\"id\":\"2944\"},\"toolbar\":{\"id\":\"2811\"},\"x_range\":{\"id\":\"2794\"},\"x_scale\":{\"id\":\"2798\"},\"y_range\":{\"id\":\"2796\"},\"y_scale\":{\"id\":\"2800\"}},\"id\":\"2793\",\"subtype\":\"Figure\",\"type\":\"Plot\"},{\"attributes\":{},\"id\":\"2807\",\"type\":\"BasicTicker\"},{\"attributes\":{\"data_source\":{\"id\":\"2790\"},\"glyph\":{\"id\":\"2815\"},\"hover_glyph\":null,\"muted_glyph\":null,\"nonselection_glyph\":{\"id\":\"2816\"},\"selection_glyph\":null,\"view\":{\"id\":\"2818\"}},\"id\":\"2817\",\"type\":\"GlyphRenderer\"},{\"attributes\":{\"formatter\":{\"id\":\"2948\"},\"major_label_text_color\":\"white\",\"ticker\":{\"id\":\"2807\"}},\"id\":\"2806\",\"type\":\"LinearAxis\"},{\"attributes\":{\"text\":\"\"},\"id\":\"2944\",\"type\":\"Title\"},{\"attributes\":{\"fill_color\":{\"value\":\"black\"},\"size\":{\"units\":\"screen\",\"value\":14},\"x\":{\"field\":\"x\"},\"y\":{\"field\":\"y\"}},\"id\":\"2815\",\"type\":\"Circle\"},{\"attributes\":{},\"id\":\"2810\",\"type\":\"SaveTool\"},{\"attributes\":{\"data\":{\"desc\":[\"SRR6261728\",\"SRR6261730\",\"SRR6261732\",\"SRR6261734\",\"SRR6261736\",\"SRR6261738\",\"SRR6261740\",\"SRR6261742\",\"SRR6261744\",\"SRR6261746\",\"SRR6261756\",\"SRR6261758\",\"SRR6261761\",\"SRR6261762\",\"SRR6261764\",\"SRR6261766\",\"SRR6261768\",\"SRR6261770\",\"SRR6261773\",\"SRR6261774\"],\"x\":{\"__ndarray__\":\"maW7zVa1VL6rAHpJnyBKvmD74EyclDK+r/d9x5MsVr7wqKitmuFVvkHJkYjMLFa+GWQfwv9TVb7i5KDLh85dvr9m7mMie16+HHZMLpg2Xr4Y/fpHIo5WvhVxoeP/7kq+BzaA/GX8VL5pBmJ/qLZVvvLwO9d2xF2+CHVfmUNWXb4TJRMbw61VvizV4bonGF6+EurNn8i3Xb6st28fiqdevg==\",\"dtype\":\"float64\",\"order\":\"little\",\"shape\":[20]},\"y\":{\"__ndarray__\":\"qGJwOvQ1RD6olLlCmGNTPj1PFUShMlw+E3jfIjSZTb5UBGIZW4dNvnfN1lQHakY+E0cbb6VlTb6EHd7T0MYnvmXmqfFwlia+WfxXOU4PJ74eIJktQ/xGPrAOP1omvTi+4OV/oTqXNT4OdVkhNkc3PgvA0laK2Ce+PCD1Qt+aKL67YNlOA3tNvsgEf9/5RCe+E5T2f+ruJ76pPMwbI0gmvg==\",\"dtype\":\"float64\",\"order\":\"little\",\"shape\":[20]}},\"selected\":{\"id\":\"2951\"},\"selection_policy\":{\"id\":\"2950\"}},\"id\":\"2790\",\"type\":\"ColumnDataSource\"},{\"attributes\":{\"data_source\":{\"id\":\"2791\"},\"glyph\":{\"id\":\"2820\"},\"hover_glyph\":null,\"muted_glyph\":null,\"nonselection_glyph\":{\"id\":\"2821\"},\"selection_glyph\":null,\"view\":{\"id\":\"2823\"}},\"id\":\"2822\",\"type\":\"GlyphRenderer\"},{\"attributes\":{\"fill_color\":{\"value\":\"red\"},\"line_color\":{\"value\":\"red\"},\"size\":{\"units\":\"screen\",\"value\":16},\"x\":{\"field\":\"x\"},\"y\":{\"field\":\"y\"}},\"id\":\"2820\",\"type\":\"Triangle\"},{\"attributes\":{\"fill_alpha\":{\"value\":0.1},\"fill_color\":{\"value\":\"red\"},\"line_alpha\":{\"value\":0.1},\"line_color\":{\"value\":\"red\"},\"size\":{\"units\":\"screen\",\"value\":16},\"x\":{\"field\":\"x\"},\"y\":{\"field\":\"y\"}},\"id\":\"2821\",\"type\":\"Triangle\"},{\"attributes\":{\"source\":{\"id\":\"2791\"}},\"id\":\"2823\",\"type\":\"CDSView\"},{\"attributes\":{\"callback\":null,\"tooltips\":[[\"index\",\"$index\"],[\"desc\",\"@desc\"]]},\"id\":\"2792\",\"type\":\"HoverTool\"},{\"attributes\":{\"formatter\":{\"id\":\"2946\"},\"major_label_text_color\":\"white\",\"ticker\":{\"id\":\"2803\"}},\"id\":\"2802\",\"type\":\"LinearAxis\"},{\"attributes\":{\"data\":{\"desc\":[\"SRR6261682\",\"SRR6261684\",\"SRR6261686\",\"SRR6261688\",\"SRR6261690\",\"SRR6261692\",\"SRR6261696\",\"SRR6261702\",\"SRR6261704\",\"SRR6261706\",\"SRR6261708\",\"SRR6261710\",\"SRR6261714\",\"SRR6261716\",\"SRR6261720\",\"SRR6261722\",\"SRR6261724\",\"SRR6261726\"],\"x\":{\"__ndarray__\":\"l8Cz1/kHYD7AHF3JCLJgPo2r6wqsTGA+mLZdbi9TWD4oVU1iz7xXPlaqgDRZSmA++ciMn2EKYD6BFSfFJkVgPiHehnRW+VY+HAxELepCWD48nTTwvLkzvtQMKYnVNyw+z1enkbP9Vj6tj34KzjlgPuRlxMDoVmA+8iMd3ytSYD7X44yP6WJXPhrzfbsyk2A+\",\"dtype\":\"float64\",\"order\":\"little\",\"shape\":[18]},\"y\":{\"__ndarray__\":\"2LvoAc3RFr5jMsEQO4AMvk7eY9SiWxO+SbvnHsWoQr5w+6qJZMtCvmu4mXKZeRO+PGLEc6iyFr5XP05gprwTvp/goC+OrTE+bkZLVYSsQr6P1Tnzp249PrQLg2Uz3U8+mClIHyvDMT61OE4eAE8Uvvi1qlGQ1xK+D0BZwLUUE76TaeopPL0zPnuGDim2mw++\",\"dtype\":\"float64\",\"order\":\"little\",\"shape\":[18]}},\"selected\":{\"id\":\"2953\"},\"selection_policy\":{\"id\":\"2952\"}},\"id\":\"2791\",\"type\":\"ColumnDataSource\"},{\"attributes\":{},\"id\":\"2800\",\"type\":\"LinearScale\"},{\"attributes\":{\"fill_alpha\":{\"value\":0.1},\"fill_color\":{\"value\":\"black\"},\"line_alpha\":{\"value\":0.1},\"size\":{\"units\":\"screen\",\"value\":14},\"x\":{\"field\":\"x\"},\"y\":{\"field\":\"y\"}},\"id\":\"2816\",\"type\":\"Circle\"},{\"attributes\":{},\"id\":\"2798\",\"type\":\"LinearScale\"},{\"attributes\":{},\"id\":\"2948\",\"type\":\"BasicTickFormatter\"},{\"attributes\":{},\"id\":\"2796\",\"type\":\"DataRange1d\"},{\"attributes\":{},\"id\":\"2946\",\"type\":\"BasicTickFormatter\"},{\"attributes\":{\"active_drag\":\"auto\",\"active_inspect\":\"auto\",\"active_multi\":null,\"active_scroll\":\"auto\",\"active_tap\":\"auto\",\"tools\":[{\"id\":\"2792\"},{\"id\":\"2810\"}]},\"id\":\"2811\",\"type\":\"Toolbar\"},{\"attributes\":{},\"id\":\"2951\",\"type\":\"Selection\"},{\"attributes\":{},\"id\":\"2794\",\"type\":\"DataRange1d\"},{\"attributes\":{\"axis\":{\"id\":\"2802\"},\"ticker\":null},\"id\":\"2805\",\"type\":\"Grid\"},{\"attributes\":{},\"id\":\"2950\",\"type\":\"UnionRenderers\"},{\"attributes\":{},\"id\":\"2803\",\"type\":\"BasicTicker\"},{\"attributes\":{\"source\":{\"id\":\"2790\"}},\"id\":\"2818\",\"type\":\"CDSView\"},{\"attributes\":{},\"id\":\"2953\",\"type\":\"Selection\"},{\"attributes\":{\"axis\":{\"id\":\"2806\"},\"dimension\":1,\"ticker\":null},\"id\":\"2809\",\"type\":\"Grid\"},{\"attributes\":{},\"id\":\"2952\",\"type\":\"UnionRenderers\"}],\"root_ids\":[\"2793\"]},\"title\":\"Bokeh Application\",\"version\":\"2.2.3\"}};\n",
       "  var render_items = [{\"docid\":\"b5653f65-7b84-4639-b8fa-5fa0490d4153\",\"root_ids\":[\"2793\"],\"roots\":{\"2793\":\"8c9ff2c2-6678-4960-8421-64d4587f02ce\"}}];\n",
       "  root.Bokeh.embed.embed_items_notebook(docs_json, render_items);\n",
       "\n",
       "  }\n",
       "  if (root.Bokeh !== undefined) {\n",
       "    embed_document(root);\n",
       "  } else {\n",
       "    var attempts = 0;\n",
       "    var timer = setInterval(function(root) {\n",
       "      if (root.Bokeh !== undefined) {\n",
       "        clearInterval(timer);\n",
       "        embed_document(root);\n",
       "      } else {\n",
       "        attempts++;\n",
       "        if (attempts > 100) {\n",
       "          clearInterval(timer);\n",
       "          console.log(\"Bokeh: ERROR: Unable to run BokehJS code because BokehJS library is missing\");\n",
       "        }\n",
       "      }\n",
       "    }, 10, root)\n",
       "  }\n",
       "})(window);"
      ],
      "application/vnd.bokehjs_exec.v0+json": ""
     },
     "metadata": {
      "application/vnd.bokehjs_exec.v0+json": {
       "id": "2793"
      }
     },
     "output_type": "display_data"
    }
   ],
   "source": [
    "# q = 13\n",
    "draw_PCA(dfs[12])"
   ]
  },
  {
   "cell_type": "code",
   "execution_count": 18,
   "metadata": {},
   "outputs": [
    {
     "data": {
      "text/html": [
       "\n",
       "\n",
       "\n",
       "\n",
       "\n",
       "\n",
       "  <div class=\"bk-root\" id=\"98a87b69-4418-4e45-83b9-e49c6363dfda\" data-root-id=\"3007\"></div>\n"
      ]
     },
     "metadata": {},
     "output_type": "display_data"
    },
    {
     "data": {
      "application/javascript": [
       "(function(root) {\n",
       "  function embed_document(root) {\n",
       "    \n",
       "  var docs_json = {\"c9cd076a-81e4-429c-8d1d-8c9ba15b9fa7\":{\"roots\":{\"references\":[{\"attributes\":{\"below\":[{\"id\":\"3016\"}],\"center\":[{\"id\":\"3019\"},{\"id\":\"3023\"}],\"left\":[{\"id\":\"3020\"}],\"plot_height\":500,\"plot_width\":550,\"renderers\":[{\"id\":\"3031\"},{\"id\":\"3036\"}],\"title\":{\"id\":\"3168\"},\"toolbar\":{\"id\":\"3025\"},\"x_range\":{\"id\":\"3008\"},\"x_scale\":{\"id\":\"3012\"},\"y_range\":{\"id\":\"3010\"},\"y_scale\":{\"id\":\"3014\"}},\"id\":\"3007\",\"subtype\":\"Figure\",\"type\":\"Plot\"},{\"attributes\":{\"text\":\"\"},\"id\":\"3168\",\"type\":\"Title\"},{\"attributes\":{\"data\":{\"desc\":[\"SRR6261728\",\"SRR6261730\",\"SRR6261732\",\"SRR6261734\",\"SRR6261736\",\"SRR6261738\",\"SRR6261740\",\"SRR6261742\",\"SRR6261744\",\"SRR6261746\",\"SRR6261756\",\"SRR6261758\",\"SRR6261761\",\"SRR6261762\",\"SRR6261764\",\"SRR6261766\",\"SRR6261768\",\"SRR6261770\",\"SRR6261773\",\"SRR6261774\"],\"x\":{\"__ndarray__\":\"t/8KwkJ9O74dMH99ajhAvgOqUkhcYkG+xK2jsIPHQL64FLRMMec/vh5LLqNcokG+ovsiAszdPL4oWMOR4L0/vgUECQwDnjq+VDqr9ffeQL75kmp2FmVCvvy8cDbUeUC+HQ3klXBmPr43MQjei7hAvsIJ6OGvgT+++ipQdIEcPr7enJj8wB0/vo5PYsrHekC+2h3m86aXP750PpQDc0pBvg==\",\"dtype\":\"float64\",\"order\":\"little\",\"shape\":[20]},\"y\":{\"__ndarray__\":\"LkAO5uxeA76kJm+rlIgGvnBi+tozBQi+kftBW2M/B76GqxcQqjAGvqtWV832Vgi+HGPMLBtABL4ICCdJRhYGvuPAWNbAWiY+hh5GqlldB75/MPlbuU8JvjM+Il0l3Aa+YzMTzec6Bb5nyjxSRCwHvsKnxQbU7wW+WsT1G64LBb4xvkEP/68FvqWkQYRc3Qa+IBey2Nv9Bb6fU+0gqOYHvg==\",\"dtype\":\"float64\",\"order\":\"little\",\"shape\":[20]}},\"selected\":{\"id\":\"3175\"},\"selection_policy\":{\"id\":\"3174\"}},\"id\":\"3004\",\"type\":\"ColumnDataSource\"},{\"attributes\":{},\"id\":\"3170\",\"type\":\"BasicTickFormatter\"},{\"attributes\":{},\"id\":\"3174\",\"type\":\"UnionRenderers\"},{\"attributes\":{\"data_source\":{\"id\":\"3005\"},\"glyph\":{\"id\":\"3034\"},\"hover_glyph\":null,\"muted_glyph\":null,\"nonselection_glyph\":{\"id\":\"3035\"},\"selection_glyph\":null,\"view\":{\"id\":\"3037\"}},\"id\":\"3036\",\"type\":\"GlyphRenderer\"},{\"attributes\":{},\"id\":\"3172\",\"type\":\"BasicTickFormatter\"},{\"attributes\":{},\"id\":\"3175\",\"type\":\"Selection\"},{\"attributes\":{},\"id\":\"3177\",\"type\":\"Selection\"},{\"attributes\":{\"source\":{\"id\":\"3004\"}},\"id\":\"3032\",\"type\":\"CDSView\"},{\"attributes\":{},\"id\":\"3024\",\"type\":\"SaveTool\"},{\"attributes\":{},\"id\":\"3176\",\"type\":\"UnionRenderers\"},{\"attributes\":{},\"id\":\"3008\",\"type\":\"DataRange1d\"},{\"attributes\":{\"callback\":null,\"tooltips\":[[\"index\",\"$index\"],[\"desc\",\"@desc\"]]},\"id\":\"3006\",\"type\":\"HoverTool\"},{\"attributes\":{},\"id\":\"3012\",\"type\":\"LinearScale\"},{\"attributes\":{\"active_drag\":\"auto\",\"active_inspect\":\"auto\",\"active_multi\":null,\"active_scroll\":\"auto\",\"active_tap\":\"auto\",\"tools\":[{\"id\":\"3006\"},{\"id\":\"3024\"}]},\"id\":\"3025\",\"type\":\"Toolbar\"},{\"attributes\":{},\"id\":\"3010\",\"type\":\"DataRange1d\"},{\"attributes\":{\"fill_color\":{\"value\":\"black\"},\"size\":{\"units\":\"screen\",\"value\":14},\"x\":{\"field\":\"x\"},\"y\":{\"field\":\"y\"}},\"id\":\"3029\",\"type\":\"Circle\"},{\"attributes\":{\"data_source\":{\"id\":\"3004\"},\"glyph\":{\"id\":\"3029\"},\"hover_glyph\":null,\"muted_glyph\":null,\"nonselection_glyph\":{\"id\":\"3030\"},\"selection_glyph\":null,\"view\":{\"id\":\"3032\"}},\"id\":\"3031\",\"type\":\"GlyphRenderer\"},{\"attributes\":{\"fill_alpha\":{\"value\":0.1},\"fill_color\":{\"value\":\"black\"},\"line_alpha\":{\"value\":0.1},\"size\":{\"units\":\"screen\",\"value\":14},\"x\":{\"field\":\"x\"},\"y\":{\"field\":\"y\"}},\"id\":\"3030\",\"type\":\"Circle\"},{\"attributes\":{\"axis\":{\"id\":\"3016\"},\"ticker\":null},\"id\":\"3019\",\"type\":\"Grid\"},{\"attributes\":{},\"id\":\"3017\",\"type\":\"BasicTicker\"},{\"attributes\":{\"formatter\":{\"id\":\"3172\"},\"major_label_text_color\":\"white\",\"ticker\":{\"id\":\"3021\"}},\"id\":\"3020\",\"type\":\"LinearAxis\"},{\"attributes\":{\"data\":{\"desc\":[\"SRR6261682\",\"SRR6261684\",\"SRR6261686\",\"SRR6261688\",\"SRR6261690\",\"SRR6261692\",\"SRR6261696\",\"SRR6261702\",\"SRR6261704\",\"SRR6261706\",\"SRR6261708\",\"SRR6261710\",\"SRR6261714\",\"SRR6261716\",\"SRR6261720\",\"SRR6261722\",\"SRR6261724\",\"SRR6261726\"],\"x\":{\"__ndarray__\":\"ZiOakkUMRj5B0PaSRQxGPk2p1PejmEI+oRSSkkUMRj6s182SRQxGPjE1D5NFDEY+FzTo3bnCQj7MPNqSRQxGPhFQupJFDEY+EO1UkkUMRj7fxFgvcoEwvuUt6dxm9jK+U5ymkkUMRj68LFuSRQxGPmQmA+0OREI+tp6xkkUMRj5ggrKSRQxGPk5N3xCkdUI+\",\"dtype\":\"float64\",\"order\":\"little\",\"shape\":[18]},\"y\":{\"__ndarray__\":\"SfxIB5paCj7dRz0NmloKPqKveP2YNS++cnTEBppaCj7BZpsKmloKPs2Czg6aWgo+o6cD4rxoLb5fRWcLmloKPpAuWgmaWgo+JJrWAppaCj7B4apz1Gk9Ph5/E6noeD4+jiAWCJpaCj4bYT0DmloKPjjCHSTeAiW+nDTLCJpaCj4t1dkImloKPgLdkGluWjC+\",\"dtype\":\"float64\",\"order\":\"little\",\"shape\":[18]}},\"selected\":{\"id\":\"3177\"},\"selection_policy\":{\"id\":\"3176\"}},\"id\":\"3005\",\"type\":\"ColumnDataSource\"},{\"attributes\":{\"axis\":{\"id\":\"3020\"},\"dimension\":1,\"ticker\":null},\"id\":\"3023\",\"type\":\"Grid\"},{\"attributes\":{\"formatter\":{\"id\":\"3170\"},\"major_label_text_color\":\"white\",\"ticker\":{\"id\":\"3017\"}},\"id\":\"3016\",\"type\":\"LinearAxis\"},{\"attributes\":{\"fill_color\":{\"value\":\"red\"},\"line_color\":{\"value\":\"red\"},\"size\":{\"units\":\"screen\",\"value\":16},\"x\":{\"field\":\"x\"},\"y\":{\"field\":\"y\"}},\"id\":\"3034\",\"type\":\"Triangle\"},{\"attributes\":{\"fill_alpha\":{\"value\":0.1},\"fill_color\":{\"value\":\"red\"},\"line_alpha\":{\"value\":0.1},\"line_color\":{\"value\":\"red\"},\"size\":{\"units\":\"screen\",\"value\":16},\"x\":{\"field\":\"x\"},\"y\":{\"field\":\"y\"}},\"id\":\"3035\",\"type\":\"Triangle\"},{\"attributes\":{},\"id\":\"3014\",\"type\":\"LinearScale\"},{\"attributes\":{\"source\":{\"id\":\"3005\"}},\"id\":\"3037\",\"type\":\"CDSView\"},{\"attributes\":{},\"id\":\"3021\",\"type\":\"BasicTicker\"}],\"root_ids\":[\"3007\"]},\"title\":\"Bokeh Application\",\"version\":\"2.2.3\"}};\n",
       "  var render_items = [{\"docid\":\"c9cd076a-81e4-429c-8d1d-8c9ba15b9fa7\",\"root_ids\":[\"3007\"],\"roots\":{\"3007\":\"98a87b69-4418-4e45-83b9-e49c6363dfda\"}}];\n",
       "  root.Bokeh.embed.embed_items_notebook(docs_json, render_items);\n",
       "\n",
       "  }\n",
       "  if (root.Bokeh !== undefined) {\n",
       "    embed_document(root);\n",
       "  } else {\n",
       "    var attempts = 0;\n",
       "    var timer = setInterval(function(root) {\n",
       "      if (root.Bokeh !== undefined) {\n",
       "        clearInterval(timer);\n",
       "        embed_document(root);\n",
       "      } else {\n",
       "        attempts++;\n",
       "        if (attempts > 100) {\n",
       "          clearInterval(timer);\n",
       "          console.log(\"Bokeh: ERROR: Unable to run BokehJS code because BokehJS library is missing\");\n",
       "        }\n",
       "      }\n",
       "    }, 10, root)\n",
       "  }\n",
       "})(window);"
      ],
      "application/vnd.bokehjs_exec.v0+json": ""
     },
     "metadata": {
      "application/vnd.bokehjs_exec.v0+json": {
       "id": "3007"
      }
     },
     "output_type": "display_data"
    }
   ],
   "source": [
    "# q = 14\n",
    "draw_PCA(dfs[13])"
   ]
  },
  {
   "cell_type": "markdown",
   "metadata": {},
   "source": [
    "## 5. Interpretability"
   ]
  },
  {
   "cell_type": "markdown",
   "metadata": {},
   "source": [
    "### q = 14"
   ]
  },
  {
   "cell_type": "code",
   "execution_count": 19,
   "metadata": {},
   "outputs": [
    {
     "data": {
      "text/html": [
       "<div>\n",
       "<style scoped>\n",
       "    .dataframe tbody tr th:only-of-type {\n",
       "        vertical-align: middle;\n",
       "    }\n",
       "\n",
       "    .dataframe tbody tr th {\n",
       "        vertical-align: top;\n",
       "    }\n",
       "\n",
       "    .dataframe thead th {\n",
       "        text-align: right;\n",
       "    }\n",
       "</style>\n",
       "<table border=\"1\" class=\"dataframe\">\n",
       "  <thead>\n",
       "    <tr style=\"text-align: right;\">\n",
       "      <th></th>\n",
       "      <th>0</th>\n",
       "    </tr>\n",
       "  </thead>\n",
       "  <tbody>\n",
       "    <tr>\n",
       "      <th>PC1</th>\n",
       "      <td>9.168589e-01</td>\n",
       "    </tr>\n",
       "    <tr>\n",
       "      <th>PC2</th>\n",
       "      <td>5.549807e-02</td>\n",
       "    </tr>\n",
       "    <tr>\n",
       "      <th>PC3</th>\n",
       "      <td>2.764303e-02</td>\n",
       "    </tr>\n",
       "    <tr>\n",
       "      <th>PC4</th>\n",
       "      <td>2.051083e-09</td>\n",
       "    </tr>\n",
       "    <tr>\n",
       "      <th>PC5</th>\n",
       "      <td>1.176796e-34</td>\n",
       "    </tr>\n",
       "    <tr>\n",
       "      <th>PC6</th>\n",
       "      <td>3.140805e-35</td>\n",
       "    </tr>\n",
       "    <tr>\n",
       "      <th>PC7</th>\n",
       "      <td>2.253607e-36</td>\n",
       "    </tr>\n",
       "    <tr>\n",
       "      <th>PC8</th>\n",
       "      <td>1.671857e-49</td>\n",
       "    </tr>\n",
       "    <tr>\n",
       "      <th>PC9</th>\n",
       "      <td>1.322379e-59</td>\n",
       "    </tr>\n",
       "    <tr>\n",
       "      <th>PC10</th>\n",
       "      <td>8.369198e-69</td>\n",
       "    </tr>\n",
       "  </tbody>\n",
       "</table>\n",
       "</div>"
      ],
      "text/plain": [
       "                 0\n",
       "PC1   9.168589e-01\n",
       "PC2   5.549807e-02\n",
       "PC3   2.764303e-02\n",
       "PC4   2.051083e-09\n",
       "PC5   1.176796e-34\n",
       "PC6   3.140805e-35\n",
       "PC7   2.253607e-36\n",
       "PC8   1.671857e-49\n",
       "PC9   1.322379e-59\n",
       "PC10  8.369198e-69"
      ]
     },
     "execution_count": 19,
     "metadata": {},
     "output_type": "execute_result"
    }
   ],
   "source": [
    "pca = PCA()\n",
    "result = pca.fit_transform(dfs[13].iloc[:,:-1])\n",
    "df_contribution = pd.DataFrame(pca.explained_variance_ratio_, index=[\"PC{}\".format(x + 1) for x in range(len(dfs[13].iloc[:,:-1].columns))])\n",
    "df_contribution"
   ]
  },
  {
   "cell_type": "code",
   "execution_count": 20,
   "metadata": {},
   "outputs": [
    {
     "data": {
      "text/html": [
       "\n",
       "\n",
       "\n",
       "\n",
       "\n",
       "\n",
       "  <div class=\"bk-root\" id=\"aec35866-5b39-46e6-b65a-c9a3b91b9559\" data-root-id=\"3228\"></div>\n"
      ]
     },
     "metadata": {},
     "output_type": "display_data"
    },
    {
     "data": {
      "application/javascript": [
       "(function(root) {\n",
       "  function embed_document(root) {\n",
       "    \n",
       "  var docs_json = {\"c47f519c-8d59-4149-abe7-d4e9c8403f76\":{\"roots\":{\"references\":[{\"attributes\":{\"below\":[{\"id\":\"3239\"}],\"center\":[{\"id\":\"3242\"},{\"id\":\"3246\"}],\"left\":[{\"id\":\"3243\"}],\"renderers\":[{\"id\":\"3264\"}],\"title\":{\"id\":\"3229\"},\"toolbar\":{\"id\":\"3254\"},\"x_range\":{\"id\":\"3231\"},\"x_scale\":{\"id\":\"3235\"},\"y_range\":{\"id\":\"3233\"},\"y_scale\":{\"id\":\"3237\"}},\"id\":\"3228\",\"subtype\":\"Figure\",\"type\":\"Plot\"},{\"attributes\":{},\"id\":\"3231\",\"type\":\"DataRange1d\"},{\"attributes\":{\"line_alpha\":0.1,\"line_color\":\"#1f77b4\",\"line_width\":2,\"x\":{\"field\":\"x\"},\"y\":{\"field\":\"y\"}},\"id\":\"3263\",\"type\":\"Line\"},{\"attributes\":{},\"id\":\"3233\",\"type\":\"DataRange1d\"},{\"attributes\":{\"source\":{\"id\":\"3261\"}},\"id\":\"3265\",\"type\":\"CDSView\"},{\"attributes\":{\"data_source\":{\"id\":\"3261\"},\"glyph\":{\"id\":\"3262\"},\"hover_glyph\":null,\"muted_glyph\":null,\"nonselection_glyph\":{\"id\":\"3263\"},\"selection_glyph\":null,\"view\":{\"id\":\"3265\"}},\"id\":\"3264\",\"type\":\"GlyphRenderer\"},{\"attributes\":{},\"id\":\"3235\",\"type\":\"LinearScale\"},{\"attributes\":{},\"id\":\"3409\",\"type\":\"BasicTickFormatter\"},{\"attributes\":{},\"id\":\"3237\",\"type\":\"LinearScale\"},{\"attributes\":{},\"id\":\"3412\",\"type\":\"UnionRenderers\"},{\"attributes\":{\"axis_label\":\"PC\",\"formatter\":{\"id\":\"3407\"},\"ticker\":{\"id\":\"3240\"}},\"id\":\"3239\",\"type\":\"LinearAxis\"},{\"attributes\":{},\"id\":\"3413\",\"type\":\"Selection\"},{\"attributes\":{},\"id\":\"3240\",\"type\":\"BasicTicker\"},{\"attributes\":{\"overlay\":{\"id\":\"3253\"}},\"id\":\"3249\",\"type\":\"BoxZoomTool\"},{\"attributes\":{\"axis\":{\"id\":\"3239\"},\"ticker\":null},\"id\":\"3242\",\"type\":\"Grid\"},{\"attributes\":{\"axis_label\":\"Cumulative Contribution Rate\",\"formatter\":{\"id\":\"3409\"},\"ticker\":{\"id\":\"3244\"}},\"id\":\"3243\",\"type\":\"LinearAxis\"},{\"attributes\":{},\"id\":\"3244\",\"type\":\"BasicTicker\"},{\"attributes\":{\"data\":{\"x\":[0,1,2,3,4,5,6,7,8,9,10],\"y\":[0,0.9168588981633891,0.9723569691053713,0.9999999979489168,0.9999999999999999,0.9999999999999999,0.9999999999999999,0.9999999999999999,0.9999999999999999,0.9999999999999999,0.9999999999999999]},\"selected\":{\"id\":\"3413\"},\"selection_policy\":{\"id\":\"3412\"}},\"id\":\"3261\",\"type\":\"ColumnDataSource\"},{\"attributes\":{\"axis\":{\"id\":\"3243\"},\"dimension\":1,\"ticker\":null},\"id\":\"3246\",\"type\":\"Grid\"},{\"attributes\":{},\"id\":\"3247\",\"type\":\"PanTool\"},{\"attributes\":{},\"id\":\"3248\",\"type\":\"WheelZoomTool\"},{\"attributes\":{},\"id\":\"3250\",\"type\":\"SaveTool\"},{\"attributes\":{},\"id\":\"3251\",\"type\":\"ResetTool\"},{\"attributes\":{\"line_color\":\"#1f77b4\",\"line_width\":2,\"x\":{\"field\":\"x\"},\"y\":{\"field\":\"y\"}},\"id\":\"3262\",\"type\":\"Line\"},{\"attributes\":{},\"id\":\"3407\",\"type\":\"BasicTickFormatter\"},{\"attributes\":{},\"id\":\"3252\",\"type\":\"HelpTool\"},{\"attributes\":{\"active_drag\":\"auto\",\"active_inspect\":\"auto\",\"active_multi\":null,\"active_scroll\":\"auto\",\"active_tap\":\"auto\",\"tools\":[{\"id\":\"3247\"},{\"id\":\"3248\"},{\"id\":\"3249\"},{\"id\":\"3250\"},{\"id\":\"3251\"},{\"id\":\"3252\"}]},\"id\":\"3254\",\"type\":\"Toolbar\"},{\"attributes\":{\"bottom_units\":\"screen\",\"fill_alpha\":0.5,\"fill_color\":\"lightgrey\",\"left_units\":\"screen\",\"level\":\"overlay\",\"line_alpha\":1.0,\"line_color\":\"black\",\"line_dash\":[4,4],\"line_width\":2,\"right_units\":\"screen\",\"top_units\":\"screen\"},\"id\":\"3253\",\"type\":\"BoxAnnotation\"},{\"attributes\":{\"text\":\"Contribution rate\"},\"id\":\"3229\",\"type\":\"Title\"}],\"root_ids\":[\"3228\"]},\"title\":\"Bokeh Application\",\"version\":\"2.2.3\"}};\n",
       "  var render_items = [{\"docid\":\"c47f519c-8d59-4149-abe7-d4e9c8403f76\",\"root_ids\":[\"3228\"],\"roots\":{\"3228\":\"aec35866-5b39-46e6-b65a-c9a3b91b9559\"}}];\n",
       "  root.Bokeh.embed.embed_items_notebook(docs_json, render_items);\n",
       "\n",
       "  }\n",
       "  if (root.Bokeh !== undefined) {\n",
       "    embed_document(root);\n",
       "  } else {\n",
       "    var attempts = 0;\n",
       "    var timer = setInterval(function(root) {\n",
       "      if (root.Bokeh !== undefined) {\n",
       "        clearInterval(timer);\n",
       "        embed_document(root);\n",
       "      } else {\n",
       "        attempts++;\n",
       "        if (attempts > 100) {\n",
       "          clearInterval(timer);\n",
       "          console.log(\"Bokeh: ERROR: Unable to run BokehJS code because BokehJS library is missing\");\n",
       "        }\n",
       "      }\n",
       "    }, 10, root)\n",
       "  }\n",
       "})(window);"
      ],
      "application/vnd.bokehjs_exec.v0+json": ""
     },
     "metadata": {
      "application/vnd.bokehjs_exec.v0+json": {
       "id": "3228"
      }
     },
     "output_type": "display_data"
    }
   ],
   "source": [
    "x = [0,1,2,3,4,5,6,7,8,9,10]\n",
    "\n",
    "contribution = df_contribution.iloc[:,0].tolist()\n",
    "cumulative_contribution_rate = [0] + [sum(contribution[:i+1]) for i in range(len(contribution))]\n",
    "y = cumulative_contribution_rate\n",
    "\n",
    "p = figure(title=\"Contribution rate\", x_axis_label='PC', y_axis_label='Cumulative Contribution Rate')\n",
    "p.line(x, y, line_width=2)\n",
    "show(p)"
   ]
  },
  {
   "cell_type": "code",
   "execution_count": 21,
   "metadata": {},
   "outputs": [
    {
     "data": {
      "text/html": [
       "\n",
       "\n",
       "\n",
       "\n",
       "\n",
       "\n",
       "  <div class=\"bk-root\" id=\"877712b3-3eda-4457-b232-89e13deb286b\" data-root-id=\"3456\"></div>\n"
      ]
     },
     "metadata": {},
     "output_type": "display_data"
    },
    {
     "data": {
      "application/javascript": [
       "(function(root) {\n",
       "  function embed_document(root) {\n",
       "    \n",
       "  var docs_json = {\"6c28b38d-c367-4151-ab89-202cd803e473\":{\"roots\":{\"references\":[{\"attributes\":{\"below\":[{\"id\":\"3465\"}],\"center\":[{\"id\":\"3468\"},{\"id\":\"3472\"}],\"left\":[{\"id\":\"3469\"}],\"plot_height\":500,\"plot_width\":550,\"renderers\":[{\"id\":\"3480\"}],\"title\":{\"id\":\"3630\"},\"toolbar\":{\"id\":\"3474\"},\"x_range\":{\"id\":\"3457\"},\"x_scale\":{\"id\":\"3461\"},\"y_range\":{\"id\":\"3459\"},\"y_scale\":{\"id\":\"3463\"}},\"id\":\"3456\",\"subtype\":\"Figure\",\"type\":\"Plot\"},{\"attributes\":{\"callback\":null,\"tooltips\":[[\"index\",\"$index\"],[\"desc\",\"@desc\"]]},\"id\":\"3455\",\"type\":\"HoverTool\"},{\"attributes\":{\"source\":{\"id\":\"3454\"}},\"id\":\"3481\",\"type\":\"CDSView\"},{\"attributes\":{\"text\":\"\"},\"id\":\"3630\",\"type\":\"Title\"},{\"attributes\":{\"data_source\":{\"id\":\"3454\"},\"glyph\":{\"id\":\"3478\"},\"hover_glyph\":null,\"muted_glyph\":null,\"nonselection_glyph\":{\"id\":\"3479\"},\"selection_glyph\":null,\"view\":{\"id\":\"3481\"}},\"id\":\"3480\",\"type\":\"GlyphRenderer\"},{\"attributes\":{},\"id\":\"3632\",\"type\":\"BasicTickFormatter\"},{\"attributes\":{},\"id\":\"3634\",\"type\":\"BasicTickFormatter\"},{\"attributes\":{},\"id\":\"3636\",\"type\":\"UnionRenderers\"},{\"attributes\":{\"data\":{\"desc\":[\"GTACCGTCCGCGTT\",\"CGTCCGCGTTTACT\",\"GGATATCCGGCTGC\",\"GGGTACCGTCCGCG\",\"TACCGTCCGCGTTT\",\"ACCGTCCGCGTTTA\",\"CCGTCCGCGTTTAC\",\"AGTAAACTAGCCGT\",\"GCAGAGAACCCCCC\",\"CATTCGCAACTCTA\"],\"x\":{\"__ndarray__\":\"X9m60Yon1r9g2brRiifWv17ZutGKJ9a/Xtm60Yon1r9e2brRiifWv17ZutGKJ9a/Xtm60Yon1r+tap5CROrSv4pLemGtpBG/jzNqUFJk0b8=\",\"dtype\":\"float64\",\"order\":\"little\",\"shape\":[10]},\"y\":{\"__ndarray__\":\"HIo97dkYwz8cij3t2RjDPxiKPe3ZGMM/Goo97dkYwz8Zij3t2RjDPxmKPe3ZGMM/GYo97dkYwz/si9X3CkHhv6QqHCQQIxK/1Ke5xGvO578=\",\"dtype\":\"float64\",\"order\":\"little\",\"shape\":[10]}},\"selected\":{\"id\":\"3637\"},\"selection_policy\":{\"id\":\"3636\"}},\"id\":\"3454\",\"type\":\"ColumnDataSource\"},{\"attributes\":{},\"id\":\"3466\",\"type\":\"BasicTicker\"},{\"attributes\":{},\"id\":\"3637\",\"type\":\"Selection\"},{\"attributes\":{},\"id\":\"3457\",\"type\":\"DataRange1d\"},{\"attributes\":{},\"id\":\"3461\",\"type\":\"LinearScale\"},{\"attributes\":{\"formatter\":{\"id\":\"3634\"},\"ticker\":{\"id\":\"3470\"}},\"id\":\"3469\",\"type\":\"LinearAxis\"},{\"attributes\":{},\"id\":\"3470\",\"type\":\"BasicTicker\"},{\"attributes\":{\"axis\":{\"id\":\"3469\"},\"dimension\":1,\"ticker\":null},\"id\":\"3472\",\"type\":\"Grid\"},{\"attributes\":{},\"id\":\"3473\",\"type\":\"SaveTool\"},{\"attributes\":{\"formatter\":{\"id\":\"3632\"},\"ticker\":{\"id\":\"3466\"}},\"id\":\"3465\",\"type\":\"LinearAxis\"},{\"attributes\":{\"active_drag\":\"auto\",\"active_inspect\":\"auto\",\"active_multi\":null,\"active_scroll\":\"auto\",\"active_tap\":\"auto\",\"tools\":[{\"id\":\"3455\"},{\"id\":\"3473\"}]},\"id\":\"3474\",\"type\":\"Toolbar\"},{\"attributes\":{\"axis\":{\"id\":\"3465\"},\"ticker\":null},\"id\":\"3468\",\"type\":\"Grid\"},{\"attributes\":{},\"id\":\"3463\",\"type\":\"LinearScale\"},{\"attributes\":{\"fill_alpha\":{\"value\":0.1},\"fill_color\":{\"value\":\"blue\"},\"line_alpha\":{\"value\":0.1},\"line_color\":{\"value\":\"blue\"},\"size\":{\"units\":\"screen\",\"value\":14},\"x\":{\"field\":\"x\"},\"y\":{\"field\":\"y\"}},\"id\":\"3479\",\"type\":\"Circle\"},{\"attributes\":{\"fill_color\":{\"value\":\"blue\"},\"line_color\":{\"value\":\"blue\"},\"size\":{\"units\":\"screen\",\"value\":14},\"x\":{\"field\":\"x\"},\"y\":{\"field\":\"y\"}},\"id\":\"3478\",\"type\":\"Circle\"},{\"attributes\":{},\"id\":\"3459\",\"type\":\"DataRange1d\"}],\"root_ids\":[\"3456\"]},\"title\":\"Bokeh Application\",\"version\":\"2.2.3\"}};\n",
       "  var render_items = [{\"docid\":\"6c28b38d-c367-4151-ab89-202cd803e473\",\"root_ids\":[\"3456\"],\"roots\":{\"3456\":\"877712b3-3eda-4457-b232-89e13deb286b\"}}];\n",
       "  root.Bokeh.embed.embed_items_notebook(docs_json, render_items);\n",
       "\n",
       "  }\n",
       "  if (root.Bokeh !== undefined) {\n",
       "    embed_document(root);\n",
       "  } else {\n",
       "    var attempts = 0;\n",
       "    var timer = setInterval(function(root) {\n",
       "      if (root.Bokeh !== undefined) {\n",
       "        clearInterval(timer);\n",
       "        embed_document(root);\n",
       "      } else {\n",
       "        attempts++;\n",
       "        if (attempts > 100) {\n",
       "          clearInterval(timer);\n",
       "          console.log(\"Bokeh: ERROR: Unable to run BokehJS code because BokehJS library is missing\");\n",
       "        }\n",
       "      }\n",
       "    }, 10, root)\n",
       "  }\n",
       "})(window);"
      ],
      "application/vnd.bokehjs_exec.v0+json": ""
     },
     "metadata": {
      "application/vnd.bokehjs_exec.v0+json": {
       "id": "3456"
      }
     },
     "output_type": "display_data"
    }
   ],
   "source": [
    "df_res = pd.DataFrame([pca.components_[0], pca.components_[1]]).T\n",
    "df_res.columns = [\"x\", \"y\"]\n",
    "df_res.index = dfs[13].iloc[:,:-1].columns.tolist()\n",
    "\n",
    "source = ColumnDataSource(\n",
    "    data=dict(\n",
    "        x=df_res[\"x\"],\n",
    "        y=df_res[\"y\"],\n",
    "        desc=df_res.index.tolist()\n",
    "    )\n",
    ")\n",
    "\n",
    "hover = HoverTool(\n",
    "    tooltips=[\n",
    "        (\"index\", \"$index\"),\n",
    "        (\"desc\", \"@desc\"),\n",
    "    ]\n",
    ")\n",
    "\n",
    "p = figure(tools=[hover, \"save\"], plot_width=550, plot_height=500)\n",
    "#p.xaxis.major_label_text_color = \"white\"\n",
    "#p.yaxis.major_label_text_color = \"white\"\n",
    "\n",
    "p.circle(\"x\", \"y\", fill_color=\"blue\", line_color=\"blue\", fill_alpha=1, size=14, source=source)\n",
    "\n",
    "show(p)"
   ]
  }
 ],
 "metadata": {
  "kernelspec": {
   "display_name": "Python 3",
   "language": "python",
   "name": "python3"
  },
  "language_info": {
   "codemirror_mode": {
    "name": "ipython",
    "version": 3
   },
   "file_extension": ".py",
   "mimetype": "text/x-python",
   "name": "python",
   "nbconvert_exporter": "python",
   "pygments_lexer": "ipython3",
   "version": "3.7.3"
  }
 },
 "nbformat": 4,
 "nbformat_minor": 2
}
