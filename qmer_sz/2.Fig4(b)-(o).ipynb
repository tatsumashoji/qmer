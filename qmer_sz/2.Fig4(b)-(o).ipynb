{
 "cells": [
  {
   "cell_type": "markdown",
   "metadata": {},
   "source": [
    "## 1. Import libraries."
   ]
  },
  {
   "cell_type": "code",
   "execution_count": 60,
   "metadata": {},
   "outputs": [
    {
     "data": {
      "text/html": [
       "\n",
       "    <div class=\"bk-root\">\n",
       "        <a href=\"https://bokeh.org\" target=\"_blank\" class=\"bk-logo bk-logo-small bk-logo-notebook\"></a>\n",
       "        <span id=\"11607\">Loading BokehJS ...</span>\n",
       "    </div>"
      ]
     },
     "metadata": {},
     "output_type": "display_data"
    },
    {
     "data": {
      "application/javascript": [
       "\n",
       "(function(root) {\n",
       "  function now() {\n",
       "    return new Date();\n",
       "  }\n",
       "\n",
       "  var force = true;\n",
       "\n",
       "  if (typeof root._bokeh_onload_callbacks === \"undefined\" || force === true) {\n",
       "    root._bokeh_onload_callbacks = [];\n",
       "    root._bokeh_is_loading = undefined;\n",
       "  }\n",
       "\n",
       "  var JS_MIME_TYPE = 'application/javascript';\n",
       "  var HTML_MIME_TYPE = 'text/html';\n",
       "  var EXEC_MIME_TYPE = 'application/vnd.bokehjs_exec.v0+json';\n",
       "  var CLASS_NAME = 'output_bokeh rendered_html';\n",
       "\n",
       "  /**\n",
       "   * Render data to the DOM node\n",
       "   */\n",
       "  function render(props, node) {\n",
       "    var script = document.createElement(\"script\");\n",
       "    node.appendChild(script);\n",
       "  }\n",
       "\n",
       "  /**\n",
       "   * Handle when an output is cleared or removed\n",
       "   */\n",
       "  function handleClearOutput(event, handle) {\n",
       "    var cell = handle.cell;\n",
       "\n",
       "    var id = cell.output_area._bokeh_element_id;\n",
       "    var server_id = cell.output_area._bokeh_server_id;\n",
       "    // Clean up Bokeh references\n",
       "    if (id != null && id in Bokeh.index) {\n",
       "      Bokeh.index[id].model.document.clear();\n",
       "      delete Bokeh.index[id];\n",
       "    }\n",
       "\n",
       "    if (server_id !== undefined) {\n",
       "      // Clean up Bokeh references\n",
       "      var cmd = \"from bokeh.io.state import curstate; print(curstate().uuid_to_server['\" + server_id + \"'].get_sessions()[0].document.roots[0]._id)\";\n",
       "      cell.notebook.kernel.execute(cmd, {\n",
       "        iopub: {\n",
       "          output: function(msg) {\n",
       "            var id = msg.content.text.trim();\n",
       "            if (id in Bokeh.index) {\n",
       "              Bokeh.index[id].model.document.clear();\n",
       "              delete Bokeh.index[id];\n",
       "            }\n",
       "          }\n",
       "        }\n",
       "      });\n",
       "      // Destroy server and session\n",
       "      var cmd = \"import bokeh.io.notebook as ion; ion.destroy_server('\" + server_id + \"')\";\n",
       "      cell.notebook.kernel.execute(cmd);\n",
       "    }\n",
       "  }\n",
       "\n",
       "  /**\n",
       "   * Handle when a new output is added\n",
       "   */\n",
       "  function handleAddOutput(event, handle) {\n",
       "    var output_area = handle.output_area;\n",
       "    var output = handle.output;\n",
       "\n",
       "    // limit handleAddOutput to display_data with EXEC_MIME_TYPE content only\n",
       "    if ((output.output_type != \"display_data\") || (!output.data.hasOwnProperty(EXEC_MIME_TYPE))) {\n",
       "      return\n",
       "    }\n",
       "\n",
       "    var toinsert = output_area.element.find(\".\" + CLASS_NAME.split(' ')[0]);\n",
       "\n",
       "    if (output.metadata[EXEC_MIME_TYPE][\"id\"] !== undefined) {\n",
       "      toinsert[toinsert.length - 1].firstChild.textContent = output.data[JS_MIME_TYPE];\n",
       "      // store reference to embed id on output_area\n",
       "      output_area._bokeh_element_id = output.metadata[EXEC_MIME_TYPE][\"id\"];\n",
       "    }\n",
       "    if (output.metadata[EXEC_MIME_TYPE][\"server_id\"] !== undefined) {\n",
       "      var bk_div = document.createElement(\"div\");\n",
       "      bk_div.innerHTML = output.data[HTML_MIME_TYPE];\n",
       "      var script_attrs = bk_div.children[0].attributes;\n",
       "      for (var i = 0; i < script_attrs.length; i++) {\n",
       "        toinsert[toinsert.length - 1].firstChild.setAttribute(script_attrs[i].name, script_attrs[i].value);\n",
       "        toinsert[toinsert.length - 1].firstChild.textContent = bk_div.children[0].textContent\n",
       "      }\n",
       "      // store reference to server id on output_area\n",
       "      output_area._bokeh_server_id = output.metadata[EXEC_MIME_TYPE][\"server_id\"];\n",
       "    }\n",
       "  }\n",
       "\n",
       "  function register_renderer(events, OutputArea) {\n",
       "\n",
       "    function append_mime(data, metadata, element) {\n",
       "      // create a DOM node to render to\n",
       "      var toinsert = this.create_output_subarea(\n",
       "        metadata,\n",
       "        CLASS_NAME,\n",
       "        EXEC_MIME_TYPE\n",
       "      );\n",
       "      this.keyboard_manager.register_events(toinsert);\n",
       "      // Render to node\n",
       "      var props = {data: data, metadata: metadata[EXEC_MIME_TYPE]};\n",
       "      render(props, toinsert[toinsert.length - 1]);\n",
       "      element.append(toinsert);\n",
       "      return toinsert\n",
       "    }\n",
       "\n",
       "    /* Handle when an output is cleared or removed */\n",
       "    events.on('clear_output.CodeCell', handleClearOutput);\n",
       "    events.on('delete.Cell', handleClearOutput);\n",
       "\n",
       "    /* Handle when a new output is added */\n",
       "    events.on('output_added.OutputArea', handleAddOutput);\n",
       "\n",
       "    /**\n",
       "     * Register the mime type and append_mime function with output_area\n",
       "     */\n",
       "    OutputArea.prototype.register_mime_type(EXEC_MIME_TYPE, append_mime, {\n",
       "      /* Is output safe? */\n",
       "      safe: true,\n",
       "      /* Index of renderer in `output_area.display_order` */\n",
       "      index: 0\n",
       "    });\n",
       "  }\n",
       "\n",
       "  // register the mime type if in Jupyter Notebook environment and previously unregistered\n",
       "  if (root.Jupyter !== undefined) {\n",
       "    var events = require('base/js/events');\n",
       "    var OutputArea = require('notebook/js/outputarea').OutputArea;\n",
       "\n",
       "    if (OutputArea.prototype.mime_types().indexOf(EXEC_MIME_TYPE) == -1) {\n",
       "      register_renderer(events, OutputArea);\n",
       "    }\n",
       "  }\n",
       "\n",
       "  \n",
       "  if (typeof (root._bokeh_timeout) === \"undefined\" || force === true) {\n",
       "    root._bokeh_timeout = Date.now() + 5000;\n",
       "    root._bokeh_failed_load = false;\n",
       "  }\n",
       "\n",
       "  var NB_LOAD_WARNING = {'data': {'text/html':\n",
       "     \"<div style='background-color: #fdd'>\\n\"+\n",
       "     \"<p>\\n\"+\n",
       "     \"BokehJS does not appear to have successfully loaded. If loading BokehJS from CDN, this \\n\"+\n",
       "     \"may be due to a slow or bad network connection. Possible fixes:\\n\"+\n",
       "     \"</p>\\n\"+\n",
       "     \"<ul>\\n\"+\n",
       "     \"<li>re-rerun `output_notebook()` to attempt to load from CDN again, or</li>\\n\"+\n",
       "     \"<li>use INLINE resources instead, as so:</li>\\n\"+\n",
       "     \"</ul>\\n\"+\n",
       "     \"<code>\\n\"+\n",
       "     \"from bokeh.resources import INLINE\\n\"+\n",
       "     \"output_notebook(resources=INLINE)\\n\"+\n",
       "     \"</code>\\n\"+\n",
       "     \"</div>\"}};\n",
       "\n",
       "  function display_loaded() {\n",
       "    var el = document.getElementById(\"11607\");\n",
       "    if (el != null) {\n",
       "      el.textContent = \"BokehJS is loading...\";\n",
       "    }\n",
       "    if (root.Bokeh !== undefined) {\n",
       "      if (el != null) {\n",
       "        el.textContent = \"BokehJS \" + root.Bokeh.version + \" successfully loaded.\";\n",
       "      }\n",
       "    } else if (Date.now() < root._bokeh_timeout) {\n",
       "      setTimeout(display_loaded, 100)\n",
       "    }\n",
       "  }\n",
       "\n",
       "\n",
       "  function run_callbacks() {\n",
       "    try {\n",
       "      root._bokeh_onload_callbacks.forEach(function(callback) {\n",
       "        if (callback != null)\n",
       "          callback();\n",
       "      });\n",
       "    } finally {\n",
       "      delete root._bokeh_onload_callbacks\n",
       "    }\n",
       "    console.debug(\"Bokeh: all callbacks have finished\");\n",
       "  }\n",
       "\n",
       "  function load_libs(css_urls, js_urls, callback) {\n",
       "    if (css_urls == null) css_urls = [];\n",
       "    if (js_urls == null) js_urls = [];\n",
       "\n",
       "    root._bokeh_onload_callbacks.push(callback);\n",
       "    if (root._bokeh_is_loading > 0) {\n",
       "      console.debug(\"Bokeh: BokehJS is being loaded, scheduling callback at\", now());\n",
       "      return null;\n",
       "    }\n",
       "    if (js_urls == null || js_urls.length === 0) {\n",
       "      run_callbacks();\n",
       "      return null;\n",
       "    }\n",
       "    console.debug(\"Bokeh: BokehJS not loaded, scheduling load and callback at\", now());\n",
       "    root._bokeh_is_loading = css_urls.length + js_urls.length;\n",
       "\n",
       "    function on_load() {\n",
       "      root._bokeh_is_loading--;\n",
       "      if (root._bokeh_is_loading === 0) {\n",
       "        console.debug(\"Bokeh: all BokehJS libraries/stylesheets loaded\");\n",
       "        run_callbacks()\n",
       "      }\n",
       "    }\n",
       "\n",
       "    function on_error() {\n",
       "      console.error(\"failed to load \" + url);\n",
       "    }\n",
       "\n",
       "    for (var i = 0; i < css_urls.length; i++) {\n",
       "      var url = css_urls[i];\n",
       "      const element = document.createElement(\"link\");\n",
       "      element.onload = on_load;\n",
       "      element.onerror = on_error;\n",
       "      element.rel = \"stylesheet\";\n",
       "      element.type = \"text/css\";\n",
       "      element.href = url;\n",
       "      console.debug(\"Bokeh: injecting link tag for BokehJS stylesheet: \", url);\n",
       "      document.body.appendChild(element);\n",
       "    }\n",
       "\n",
       "    const hashes = {\"https://cdn.bokeh.org/bokeh/release/bokeh-2.2.3.min.js\": \"T2yuo9Oe71Cz/I4X9Ac5+gpEa5a8PpJCDlqKYO0CfAuEszu1JrXLl8YugMqYe3sM\", \"https://cdn.bokeh.org/bokeh/release/bokeh-widgets-2.2.3.min.js\": \"98GDGJ0kOMCUMUePhksaQ/GYgB3+NH9h996V88sh3aOiUNX3N+fLXAtry6xctSZ6\", \"https://cdn.bokeh.org/bokeh/release/bokeh-tables-2.2.3.min.js\": \"89bArO+nlbP3sgakeHjCo1JYxYR5wufVgA3IbUvDY+K7w4zyxJqssu7wVnfeKCq8\"};\n",
       "\n",
       "    for (var i = 0; i < js_urls.length; i++) {\n",
       "      var url = js_urls[i];\n",
       "      var element = document.createElement('script');\n",
       "      element.onload = on_load;\n",
       "      element.onerror = on_error;\n",
       "      element.async = false;\n",
       "      element.src = url;\n",
       "      if (url in hashes) {\n",
       "        element.crossOrigin = \"anonymous\";\n",
       "        element.integrity = \"sha384-\" + hashes[url];\n",
       "      }\n",
       "      console.debug(\"Bokeh: injecting script tag for BokehJS library: \", url);\n",
       "      document.head.appendChild(element);\n",
       "    }\n",
       "  };\n",
       "\n",
       "  function inject_raw_css(css) {\n",
       "    const element = document.createElement(\"style\");\n",
       "    element.appendChild(document.createTextNode(css));\n",
       "    document.body.appendChild(element);\n",
       "  }\n",
       "\n",
       "  \n",
       "  var js_urls = [\"https://cdn.bokeh.org/bokeh/release/bokeh-2.2.3.min.js\", \"https://cdn.bokeh.org/bokeh/release/bokeh-widgets-2.2.3.min.js\", \"https://cdn.bokeh.org/bokeh/release/bokeh-tables-2.2.3.min.js\"];\n",
       "  var css_urls = [];\n",
       "  \n",
       "\n",
       "  var inline_js = [\n",
       "    function(Bokeh) {\n",
       "      Bokeh.set_log_level(\"info\");\n",
       "    },\n",
       "    function(Bokeh) {\n",
       "    \n",
       "    \n",
       "    }\n",
       "  ];\n",
       "\n",
       "  function run_inline_js() {\n",
       "    \n",
       "    if (root.Bokeh !== undefined || force === true) {\n",
       "      \n",
       "    for (var i = 0; i < inline_js.length; i++) {\n",
       "      inline_js[i].call(root, root.Bokeh);\n",
       "    }\n",
       "    if (force === true) {\n",
       "        display_loaded();\n",
       "      }} else if (Date.now() < root._bokeh_timeout) {\n",
       "      setTimeout(run_inline_js, 100);\n",
       "    } else if (!root._bokeh_failed_load) {\n",
       "      console.log(\"Bokeh: BokehJS failed to load within specified timeout.\");\n",
       "      root._bokeh_failed_load = true;\n",
       "    } else if (force !== true) {\n",
       "      var cell = $(document.getElementById(\"11607\")).parents('.cell').data().cell;\n",
       "      cell.output_area.append_execute_result(NB_LOAD_WARNING)\n",
       "    }\n",
       "\n",
       "  }\n",
       "\n",
       "  if (root._bokeh_is_loading === 0) {\n",
       "    console.debug(\"Bokeh: BokehJS loaded, going straight to plotting\");\n",
       "    run_inline_js();\n",
       "  } else {\n",
       "    load_libs(css_urls, js_urls, function() {\n",
       "      console.debug(\"Bokeh: BokehJS plotting callback run at\", now());\n",
       "      run_inline_js();\n",
       "    });\n",
       "  }\n",
       "}(window));"
      ],
      "application/vnd.bokehjs_load.v0+json": "\n(function(root) {\n  function now() {\n    return new Date();\n  }\n\n  var force = true;\n\n  if (typeof root._bokeh_onload_callbacks === \"undefined\" || force === true) {\n    root._bokeh_onload_callbacks = [];\n    root._bokeh_is_loading = undefined;\n  }\n\n  \n\n  \n  if (typeof (root._bokeh_timeout) === \"undefined\" || force === true) {\n    root._bokeh_timeout = Date.now() + 5000;\n    root._bokeh_failed_load = false;\n  }\n\n  var NB_LOAD_WARNING = {'data': {'text/html':\n     \"<div style='background-color: #fdd'>\\n\"+\n     \"<p>\\n\"+\n     \"BokehJS does not appear to have successfully loaded. If loading BokehJS from CDN, this \\n\"+\n     \"may be due to a slow or bad network connection. Possible fixes:\\n\"+\n     \"</p>\\n\"+\n     \"<ul>\\n\"+\n     \"<li>re-rerun `output_notebook()` to attempt to load from CDN again, or</li>\\n\"+\n     \"<li>use INLINE resources instead, as so:</li>\\n\"+\n     \"</ul>\\n\"+\n     \"<code>\\n\"+\n     \"from bokeh.resources import INLINE\\n\"+\n     \"output_notebook(resources=INLINE)\\n\"+\n     \"</code>\\n\"+\n     \"</div>\"}};\n\n  function display_loaded() {\n    var el = document.getElementById(\"11607\");\n    if (el != null) {\n      el.textContent = \"BokehJS is loading...\";\n    }\n    if (root.Bokeh !== undefined) {\n      if (el != null) {\n        el.textContent = \"BokehJS \" + root.Bokeh.version + \" successfully loaded.\";\n      }\n    } else if (Date.now() < root._bokeh_timeout) {\n      setTimeout(display_loaded, 100)\n    }\n  }\n\n\n  function run_callbacks() {\n    try {\n      root._bokeh_onload_callbacks.forEach(function(callback) {\n        if (callback != null)\n          callback();\n      });\n    } finally {\n      delete root._bokeh_onload_callbacks\n    }\n    console.debug(\"Bokeh: all callbacks have finished\");\n  }\n\n  function load_libs(css_urls, js_urls, callback) {\n    if (css_urls == null) css_urls = [];\n    if (js_urls == null) js_urls = [];\n\n    root._bokeh_onload_callbacks.push(callback);\n    if (root._bokeh_is_loading > 0) {\n      console.debug(\"Bokeh: BokehJS is being loaded, scheduling callback at\", now());\n      return null;\n    }\n    if (js_urls == null || js_urls.length === 0) {\n      run_callbacks();\n      return null;\n    }\n    console.debug(\"Bokeh: BokehJS not loaded, scheduling load and callback at\", now());\n    root._bokeh_is_loading = css_urls.length + js_urls.length;\n\n    function on_load() {\n      root._bokeh_is_loading--;\n      if (root._bokeh_is_loading === 0) {\n        console.debug(\"Bokeh: all BokehJS libraries/stylesheets loaded\");\n        run_callbacks()\n      }\n    }\n\n    function on_error() {\n      console.error(\"failed to load \" + url);\n    }\n\n    for (var i = 0; i < css_urls.length; i++) {\n      var url = css_urls[i];\n      const element = document.createElement(\"link\");\n      element.onload = on_load;\n      element.onerror = on_error;\n      element.rel = \"stylesheet\";\n      element.type = \"text/css\";\n      element.href = url;\n      console.debug(\"Bokeh: injecting link tag for BokehJS stylesheet: \", url);\n      document.body.appendChild(element);\n    }\n\n    const hashes = {\"https://cdn.bokeh.org/bokeh/release/bokeh-2.2.3.min.js\": \"T2yuo9Oe71Cz/I4X9Ac5+gpEa5a8PpJCDlqKYO0CfAuEszu1JrXLl8YugMqYe3sM\", \"https://cdn.bokeh.org/bokeh/release/bokeh-widgets-2.2.3.min.js\": \"98GDGJ0kOMCUMUePhksaQ/GYgB3+NH9h996V88sh3aOiUNX3N+fLXAtry6xctSZ6\", \"https://cdn.bokeh.org/bokeh/release/bokeh-tables-2.2.3.min.js\": \"89bArO+nlbP3sgakeHjCo1JYxYR5wufVgA3IbUvDY+K7w4zyxJqssu7wVnfeKCq8\"};\n\n    for (var i = 0; i < js_urls.length; i++) {\n      var url = js_urls[i];\n      var element = document.createElement('script');\n      element.onload = on_load;\n      element.onerror = on_error;\n      element.async = false;\n      element.src = url;\n      if (url in hashes) {\n        element.crossOrigin = \"anonymous\";\n        element.integrity = \"sha384-\" + hashes[url];\n      }\n      console.debug(\"Bokeh: injecting script tag for BokehJS library: \", url);\n      document.head.appendChild(element);\n    }\n  };\n\n  function inject_raw_css(css) {\n    const element = document.createElement(\"style\");\n    element.appendChild(document.createTextNode(css));\n    document.body.appendChild(element);\n  }\n\n  \n  var js_urls = [\"https://cdn.bokeh.org/bokeh/release/bokeh-2.2.3.min.js\", \"https://cdn.bokeh.org/bokeh/release/bokeh-widgets-2.2.3.min.js\", \"https://cdn.bokeh.org/bokeh/release/bokeh-tables-2.2.3.min.js\"];\n  var css_urls = [];\n  \n\n  var inline_js = [\n    function(Bokeh) {\n      Bokeh.set_log_level(\"info\");\n    },\n    function(Bokeh) {\n    \n    \n    }\n  ];\n\n  function run_inline_js() {\n    \n    if (root.Bokeh !== undefined || force === true) {\n      \n    for (var i = 0; i < inline_js.length; i++) {\n      inline_js[i].call(root, root.Bokeh);\n    }\n    if (force === true) {\n        display_loaded();\n      }} else if (Date.now() < root._bokeh_timeout) {\n      setTimeout(run_inline_js, 100);\n    } else if (!root._bokeh_failed_load) {\n      console.log(\"Bokeh: BokehJS failed to load within specified timeout.\");\n      root._bokeh_failed_load = true;\n    } else if (force !== true) {\n      var cell = $(document.getElementById(\"11607\")).parents('.cell').data().cell;\n      cell.output_area.append_execute_result(NB_LOAD_WARNING)\n    }\n\n  }\n\n  if (root._bokeh_is_loading === 0) {\n    console.debug(\"Bokeh: BokehJS loaded, going straight to plotting\");\n    run_inline_js();\n  } else {\n    load_libs(css_urls, js_urls, function() {\n      console.debug(\"Bokeh: BokehJS plotting callback run at\", now());\n      run_inline_js();\n    });\n  }\n}(window));"
     },
     "metadata": {},
     "output_type": "display_data"
    }
   ],
   "source": [
    "import pandas as pd\n",
    "import numpy as np\n",
    "import matplotlib.pyplot as plt\n",
    "from sklearn.decomposition import PCA\n",
    "from scipy.sparse.csgraph import connected_components\n",
    "from bokeh.plotting import figure, show, ColumnDataSource\n",
    "from bokeh.models import HoverTool\n",
    "from bokeh.io import output_notebook\n",
    "output_notebook()"
   ]
  },
  {
   "cell_type": "markdown",
   "metadata": {},
   "source": [
    "## 2. Load matrices."
   ]
  },
  {
   "cell_type": "code",
   "execution_count": 61,
   "metadata": {},
   "outputs": [],
   "source": [
    "dfs = [pd.read_csv(\"05_matrix/\"+str(i+1)+\".csv\", index_col=0, header=0).T for i in range(14)]"
   ]
  },
  {
   "cell_type": "markdown",
   "metadata": {},
   "source": [
    "## 3. Add meta info."
   ]
  },
  {
   "cell_type": "code",
   "execution_count": 62,
   "metadata": {},
   "outputs": [],
   "source": [
    "negative = pd.read_csv(\"../src/COS_control.txt\", header=None).T.values.tolist()[0]\n",
    "positive = pd.read_csv(\"../src/COS_sample.txt\", header=None).T.values.tolist()[0]\n",
    "\n",
    "for df in dfs:\n",
    "    y = [0 if i in negative else 1 for i in list(df.index)]\n",
    "    df[\"y\"] = y"
   ]
  },
  {
   "cell_type": "markdown",
   "metadata": {},
   "source": [
    "## 4. PCA."
   ]
  },
  {
   "cell_type": "code",
   "execution_count": 63,
   "metadata": {},
   "outputs": [],
   "source": [
    "def draw_PCA(df):\n",
    "    pca = PCA(n_components=2)\n",
    "    result = pca.fit_transform(df.iloc[:,:-1])\n",
    "\n",
    "    df_res = pd.DataFrame(result)\n",
    "    df_res.columns = [\"x\", \"y\"]\n",
    "    df_res.index = df.index\n",
    "    df_res[\"meta\"] = df[\"y\"].tolist()\n",
    "    \n",
    "    df_res_0 = df_res[df_res[\"meta\"]==0]\n",
    "    df_res_1 = df_res[df_res[\"meta\"]==1]\n",
    "    \n",
    "    source1 = ColumnDataSource(\n",
    "        data=dict(\n",
    "            x=df_res_0[\"x\"],\n",
    "            y=df_res_0[\"y\"],\n",
    "            desc=df_res_0.index.tolist()\n",
    "        )\n",
    "    )\n",
    "\n",
    "    source2 = ColumnDataSource(\n",
    "        data=dict(\n",
    "            x=df_res_1[\"x\"],\n",
    "            y=df_res_1[\"y\"],\n",
    "            desc=df_res_1.index.tolist()\n",
    "        )\n",
    "    )\n",
    "    \n",
    "    hover = HoverTool(\n",
    "        tooltips=[\n",
    "            (\"index\", \"$index\"),\n",
    "            (\"desc\", \"@desc\"),\n",
    "        ]\n",
    "    )\n",
    "\n",
    "    p = figure(tools=[hover, \"save\"], plot_width=550, plot_height=500)\n",
    "    #p.xaxis.major_label_text_color = \"white\"\n",
    "    #p.yaxis.major_label_text_color = \"white\"\n",
    "    #p.xaxis.axis_label = 'PC1'\n",
    "    #p.yaxis.axis_label = 'PC2'\n",
    "\n",
    "    p.circle(\"x\", \"y\", fill_color=\"black\", line_color=\"black\", fill_alpha=1, size=14, source=source1)\n",
    "    p.triangle(\"x\", \"y\", fill_color=\"darkorange\", line_color=\"darkorange\", fill_alpha=1, size=16, source=source2)\n",
    "    \n",
    "    show(p)"
   ]
  },
  {
   "cell_type": "code",
   "execution_count": 41,
   "metadata": {},
   "outputs": [
    {
     "data": {
      "text/html": [
       "\n",
       "\n",
       "\n",
       "\n",
       "\n",
       "\n",
       "  <div class=\"bk-root\" id=\"a368c788-4196-4545-962e-3e9a8959639e\" data-root-id=\"6701\"></div>\n"
      ]
     },
     "metadata": {},
     "output_type": "display_data"
    },
    {
     "data": {
      "application/javascript": [
       "(function(root) {\n",
       "  function embed_document(root) {\n",
       "    \n",
       "  var docs_json = {\"e81e6aa7-0d36-437b-8f80-16ed0de3772c\":{\"roots\":{\"references\":[{\"attributes\":{\"below\":[{\"id\":\"6710\"}],\"center\":[{\"id\":\"6713\"},{\"id\":\"6717\"}],\"left\":[{\"id\":\"6714\"}],\"plot_height\":500,\"plot_width\":550,\"renderers\":[{\"id\":\"6725\"},{\"id\":\"6730\"}],\"title\":{\"id\":\"6992\"},\"toolbar\":{\"id\":\"6719\"},\"x_range\":{\"id\":\"6702\"},\"x_scale\":{\"id\":\"6706\"},\"y_range\":{\"id\":\"6704\"},\"y_scale\":{\"id\":\"6708\"}},\"id\":\"6701\",\"subtype\":\"Figure\",\"type\":\"Plot\"},{\"attributes\":{\"text\":\"\"},\"id\":\"6992\",\"type\":\"Title\"},{\"attributes\":{},\"id\":\"6715\",\"type\":\"BasicTicker\"},{\"attributes\":{\"fill_color\":{\"value\":\"darkorange\"},\"line_color\":{\"value\":\"darkorange\"},\"size\":{\"units\":\"screen\",\"value\":16},\"x\":{\"field\":\"x\"},\"y\":{\"field\":\"y\"}},\"id\":\"6728\",\"type\":\"Triangle\"},{\"attributes\":{\"source\":{\"id\":\"6698\"}},\"id\":\"6726\",\"type\":\"CDSView\"},{\"attributes\":{\"data_source\":{\"id\":\"6698\"},\"glyph\":{\"id\":\"6723\"},\"hover_glyph\":null,\"muted_glyph\":null,\"nonselection_glyph\":{\"id\":\"6724\"},\"selection_glyph\":null,\"view\":{\"id\":\"6726\"}},\"id\":\"6725\",\"type\":\"GlyphRenderer\"},{\"attributes\":{\"formatter\":{\"id\":\"6997\"},\"ticker\":{\"id\":\"6715\"}},\"id\":\"6714\",\"type\":\"LinearAxis\"},{\"attributes\":{},\"id\":\"7000\",\"type\":\"UnionRenderers\"},{\"attributes\":{},\"id\":\"6702\",\"type\":\"DataRange1d\"},{\"attributes\":{\"axis\":{\"id\":\"6710\"},\"ticker\":null},\"id\":\"6713\",\"type\":\"Grid\"},{\"attributes\":{},\"id\":\"6708\",\"type\":\"LinearScale\"},{\"attributes\":{\"active_drag\":\"auto\",\"active_inspect\":\"auto\",\"active_multi\":null,\"active_scroll\":\"auto\",\"active_tap\":\"auto\",\"tools\":[{\"id\":\"6700\"},{\"id\":\"6718\"}]},\"id\":\"6719\",\"type\":\"Toolbar\"},{\"attributes\":{},\"id\":\"6711\",\"type\":\"BasicTicker\"},{\"attributes\":{\"fill_color\":{\"value\":\"black\"},\"size\":{\"units\":\"screen\",\"value\":14},\"x\":{\"field\":\"x\"},\"y\":{\"field\":\"y\"}},\"id\":\"6723\",\"type\":\"Circle\"},{\"attributes\":{},\"id\":\"6995\",\"type\":\"BasicTickFormatter\"},{\"attributes\":{},\"id\":\"6998\",\"type\":\"UnionRenderers\"},{\"attributes\":{\"formatter\":{\"id\":\"6995\"},\"ticker\":{\"id\":\"6711\"}},\"id\":\"6710\",\"type\":\"LinearAxis\"},{\"attributes\":{},\"id\":\"6997\",\"type\":\"BasicTickFormatter\"},{\"attributes\":{\"source\":{\"id\":\"6699\"}},\"id\":\"6731\",\"type\":\"CDSView\"},{\"attributes\":{},\"id\":\"6706\",\"type\":\"LinearScale\"},{\"attributes\":{\"data\":{\"desc\":[\"SRR6261728\",\"SRR6261730\",\"SRR6261732\",\"SRR6261734\",\"SRR6261736\",\"SRR6261738\",\"SRR6261740\",\"SRR6261742\",\"SRR6261744\",\"SRR6261746\",\"SRR6261756\",\"SRR6261758\",\"SRR6261761\",\"SRR6261762\",\"SRR6261764\",\"SRR6261766\",\"SRR6261768\",\"SRR6261770\",\"SRR6261773\",\"SRR6261774\"],\"x\":{\"__ndarray__\":\"vEwFk/o8dD85EaEBLodIvxhHCvRmME8/8tfR0Pyxbr8rBxvMU49rP7F3yrOQQnS/mAXWx/APgT86ENwIsjojP5Wwq/71U22/zNMQEfOWdb8PNXLeY0pMv5SmcnyjPlu/fcPzTwuVZb9VOwS5s+9jP44bdbYms22/S7mi/vRhWb//MFH5i3B2vys4Wj/kymW/7OnNMfqpZb9aSnKfUYBtPw==\",\"dtype\":\"float64\",\"order\":\"little\",\"shape\":[20]},\"y\":{\"__ndarray__\":\"7HxrbDMLJb9xqBRYPqpAv/dW6Gwc8iS/YMhRCNJ/Lb/EmZdz2QjzvrvFxq54vz6/R+laZf3SBT9/mu4vLzkmP0v9h9RVpyc/kH/MBJXZAr8LOBE6vtIgP8jcZxVQbho/JaUDrv7a9b7OXxLtO1gEvzOGvmGYRTW/Fo5H93CKFr/jYu1rXavKPkAWmrKfLgq/wzBh/UrqIb8I0KlwB5g+vw==\",\"dtype\":\"float64\",\"order\":\"little\",\"shape\":[20]}},\"selected\":{\"id\":\"6999\"},\"selection_policy\":{\"id\":\"6998\"}},\"id\":\"6698\",\"type\":\"ColumnDataSource\"},{\"attributes\":{\"fill_alpha\":{\"value\":0.1},\"fill_color\":{\"value\":\"black\"},\"line_alpha\":{\"value\":0.1},\"size\":{\"units\":\"screen\",\"value\":14},\"x\":{\"field\":\"x\"},\"y\":{\"field\":\"y\"}},\"id\":\"6724\",\"type\":\"Circle\"},{\"attributes\":{\"callback\":null,\"tooltips\":[[\"index\",\"$index\"],[\"desc\",\"@desc\"]]},\"id\":\"6700\",\"type\":\"HoverTool\"},{\"attributes\":{\"data\":{\"desc\":[\"SRR6261682\",\"SRR6261684\",\"SRR6261686\",\"SRR6261688\",\"SRR6261690\",\"SRR6261692\",\"SRR6261696\",\"SRR6261702\",\"SRR6261704\",\"SRR6261706\",\"SRR6261708\",\"SRR6261710\",\"SRR6261714\",\"SRR6261716\",\"SRR6261720\",\"SRR6261722\",\"SRR6261724\",\"SRR6261726\"],\"x\":{\"__ndarray__\":\"xsYhAAjkYz/dC0rBZuqBvzzcQR+Azm4/KuxIefEsgL+wAfTwF291P0if9149HDc/OPJI2VHmjT++mDFLB7lxP13pK9Ft3Gm/sH9e0RPuer//pWXMgCF+P0yDQlyYpli/KIQz+GSFfj82hn4fNydzP0IC/zPXdVm/5YNjV8ouYr9LRaE/55wxv6Y7wdk8cmW/\",\"dtype\":\"float64\",\"order\":\"little\",\"shape\":[18]},\"y\":{\"__ndarray__\":\"0521erj1Kz9N0APCTMQfvxfJecTNOhs/fosY2NgeTD8mw/5BphYhv9Fzg4lA9iE/D/+esxiKJD83pAs8StnnPr3KpakTqSs/vxaBKv/VAT+c2tFPgngRv+EQ4qqLyA8/OLBj3pvzJz/lToKE9LwoP9VzXw340Te/u6b1sd1cMr8aWCZByulAP6JYpdsz7Dc/\",\"dtype\":\"float64\",\"order\":\"little\",\"shape\":[18]}},\"selected\":{\"id\":\"7001\"},\"selection_policy\":{\"id\":\"7000\"}},\"id\":\"6699\",\"type\":\"ColumnDataSource\"},{\"attributes\":{},\"id\":\"6704\",\"type\":\"DataRange1d\"},{\"attributes\":{\"axis\":{\"id\":\"6714\"},\"dimension\":1,\"ticker\":null},\"id\":\"6717\",\"type\":\"Grid\"},{\"attributes\":{},\"id\":\"6999\",\"type\":\"Selection\"},{\"attributes\":{\"data_source\":{\"id\":\"6699\"},\"glyph\":{\"id\":\"6728\"},\"hover_glyph\":null,\"muted_glyph\":null,\"nonselection_glyph\":{\"id\":\"6729\"},\"selection_glyph\":null,\"view\":{\"id\":\"6731\"}},\"id\":\"6730\",\"type\":\"GlyphRenderer\"},{\"attributes\":{},\"id\":\"7001\",\"type\":\"Selection\"},{\"attributes\":{},\"id\":\"6718\",\"type\":\"SaveTool\"},{\"attributes\":{\"fill_alpha\":{\"value\":0.1},\"fill_color\":{\"value\":\"darkorange\"},\"line_alpha\":{\"value\":0.1},\"line_color\":{\"value\":\"darkorange\"},\"size\":{\"units\":\"screen\",\"value\":16},\"x\":{\"field\":\"x\"},\"y\":{\"field\":\"y\"}},\"id\":\"6729\",\"type\":\"Triangle\"}],\"root_ids\":[\"6701\"]},\"title\":\"Bokeh Application\",\"version\":\"2.2.3\"}};\n",
       "  var render_items = [{\"docid\":\"e81e6aa7-0d36-437b-8f80-16ed0de3772c\",\"root_ids\":[\"6701\"],\"roots\":{\"6701\":\"a368c788-4196-4545-962e-3e9a8959639e\"}}];\n",
       "  root.Bokeh.embed.embed_items_notebook(docs_json, render_items);\n",
       "\n",
       "  }\n",
       "  if (root.Bokeh !== undefined) {\n",
       "    embed_document(root);\n",
       "  } else {\n",
       "    var attempts = 0;\n",
       "    var timer = setInterval(function(root) {\n",
       "      if (root.Bokeh !== undefined) {\n",
       "        clearInterval(timer);\n",
       "        embed_document(root);\n",
       "      } else {\n",
       "        attempts++;\n",
       "        if (attempts > 100) {\n",
       "          clearInterval(timer);\n",
       "          console.log(\"Bokeh: ERROR: Unable to run BokehJS code because BokehJS library is missing\");\n",
       "        }\n",
       "      }\n",
       "    }, 10, root)\n",
       "  }\n",
       "})(window);"
      ],
      "application/vnd.bokehjs_exec.v0+json": ""
     },
     "metadata": {
      "application/vnd.bokehjs_exec.v0+json": {
       "id": "6701"
      }
     },
     "output_type": "display_data"
    }
   ],
   "source": [
    "# q = 1\n",
    "draw_PCA(dfs[0])"
   ]
  },
  {
   "cell_type": "code",
   "execution_count": 42,
   "metadata": {},
   "outputs": [
    {
     "data": {
      "text/html": [
       "\n",
       "\n",
       "\n",
       "\n",
       "\n",
       "\n",
       "  <div class=\"bk-root\" id=\"789a8609-edc7-45ff-9c0b-e0cea534a540\" data-root-id=\"7055\"></div>\n"
      ]
     },
     "metadata": {},
     "output_type": "display_data"
    },
    {
     "data": {
      "application/javascript": [
       "(function(root) {\n",
       "  function embed_document(root) {\n",
       "    \n",
       "  var docs_json = {\"fc0d7c66-f70d-49e5-b2ca-540095d58ca3\":{\"roots\":{\"references\":[{\"attributes\":{\"below\":[{\"id\":\"7064\"}],\"center\":[{\"id\":\"7067\"},{\"id\":\"7071\"}],\"left\":[{\"id\":\"7068\"}],\"plot_height\":500,\"plot_width\":550,\"renderers\":[{\"id\":\"7079\"},{\"id\":\"7084\"}],\"title\":{\"id\":\"7356\"},\"toolbar\":{\"id\":\"7073\"},\"x_range\":{\"id\":\"7056\"},\"x_scale\":{\"id\":\"7060\"},\"y_range\":{\"id\":\"7058\"},\"y_scale\":{\"id\":\"7062\"}},\"id\":\"7055\",\"subtype\":\"Figure\",\"type\":\"Plot\"},{\"attributes\":{\"axis\":{\"id\":\"7068\"},\"dimension\":1,\"ticker\":null},\"id\":\"7071\",\"type\":\"Grid\"},{\"attributes\":{},\"id\":\"7365\",\"type\":\"Selection\"},{\"attributes\":{},\"id\":\"7069\",\"type\":\"BasicTicker\"},{\"attributes\":{},\"id\":\"7056\",\"type\":\"DataRange1d\"},{\"attributes\":{},\"id\":\"7072\",\"type\":\"SaveTool\"},{\"attributes\":{\"formatter\":{\"id\":\"7361\"},\"ticker\":{\"id\":\"7069\"}},\"id\":\"7068\",\"type\":\"LinearAxis\"},{\"attributes\":{},\"id\":\"7062\",\"type\":\"LinearScale\"},{\"attributes\":{},\"id\":\"7364\",\"type\":\"UnionRenderers\"},{\"attributes\":{\"fill_color\":{\"value\":\"black\"},\"size\":{\"units\":\"screen\",\"value\":14},\"x\":{\"field\":\"x\"},\"y\":{\"field\":\"y\"}},\"id\":\"7077\",\"type\":\"Circle\"},{\"attributes\":{\"data_source\":{\"id\":\"7053\"},\"glyph\":{\"id\":\"7082\"},\"hover_glyph\":null,\"muted_glyph\":null,\"nonselection_glyph\":{\"id\":\"7083\"},\"selection_glyph\":null,\"view\":{\"id\":\"7085\"}},\"id\":\"7084\",\"type\":\"GlyphRenderer\"},{\"attributes\":{},\"id\":\"7363\",\"type\":\"Selection\"},{\"attributes\":{\"data_source\":{\"id\":\"7052\"},\"glyph\":{\"id\":\"7077\"},\"hover_glyph\":null,\"muted_glyph\":null,\"nonselection_glyph\":{\"id\":\"7078\"},\"selection_glyph\":null,\"view\":{\"id\":\"7080\"}},\"id\":\"7079\",\"type\":\"GlyphRenderer\"},{\"attributes\":{\"source\":{\"id\":\"7052\"}},\"id\":\"7080\",\"type\":\"CDSView\"},{\"attributes\":{\"data\":{\"desc\":[\"SRR6261728\",\"SRR6261730\",\"SRR6261732\",\"SRR6261734\",\"SRR6261736\",\"SRR6261738\",\"SRR6261740\",\"SRR6261742\",\"SRR6261744\",\"SRR6261746\",\"SRR6261756\",\"SRR6261758\",\"SRR6261761\",\"SRR6261762\",\"SRR6261764\",\"SRR6261766\",\"SRR6261768\",\"SRR6261770\",\"SRR6261773\",\"SRR6261774\"],\"x\":{\"__ndarray__\":\"pOe7Hp1kaj82fSWPe+Uuv9s7q/xCUTc/sHJ/20TrYr9hFde379lbPwR0KQ/3gm2/UtDa11Todj/SK32CAAgxPxCqkw/ji2S/3y39kl+icr96RFUi1I9CP1DNv/2pVF6/8JziNOwtW79j+5u3XdVlP/DTLYoGJ2O/UtwRVXJcW7/JVUoK1wxwvwlFM7lxeGW/fsOehwSFYb8pA42lvapnPw==\",\"dtype\":\"float64\",\"order\":\"little\",\"shape\":[20]},\"y\":{\"__ndarray__\":\"mja7bllpF78VmmBLI5FDP9/nQMyjaTi/s1S1HmZUOT8sq/aCSxhIv3nAcf4v/Pu+v8oothKfML/QHnsBD5cQP0E6VpI7MPM+4ZldE4iKSr+FywLvigpUP3NSm8mjTEa/MRIAm32CLz9/r1uu5v9OP60xLeLIozI/62NIA7KEOr82fwDc+PscP7Nns5arUEm/R4qR3MfQN7+5H7pBclxAPw==\",\"dtype\":\"float64\",\"order\":\"little\",\"shape\":[20]}},\"selected\":{\"id\":\"7363\"},\"selection_policy\":{\"id\":\"7362\"}},\"id\":\"7052\",\"type\":\"ColumnDataSource\"},{\"attributes\":{\"callback\":null,\"tooltips\":[[\"index\",\"$index\"],[\"desc\",\"@desc\"]]},\"id\":\"7054\",\"type\":\"HoverTool\"},{\"attributes\":{},\"id\":\"7060\",\"type\":\"LinearScale\"},{\"attributes\":{\"fill_alpha\":{\"value\":0.1},\"fill_color\":{\"value\":\"black\"},\"line_alpha\":{\"value\":0.1},\"size\":{\"units\":\"screen\",\"value\":14},\"x\":{\"field\":\"x\"},\"y\":{\"field\":\"y\"}},\"id\":\"7078\",\"type\":\"Circle\"},{\"attributes\":{\"active_drag\":\"auto\",\"active_inspect\":\"auto\",\"active_multi\":null,\"active_scroll\":\"auto\",\"active_tap\":\"auto\",\"tools\":[{\"id\":\"7054\"},{\"id\":\"7072\"}]},\"id\":\"7073\",\"type\":\"Toolbar\"},{\"attributes\":{\"source\":{\"id\":\"7053\"}},\"id\":\"7085\",\"type\":\"CDSView\"},{\"attributes\":{\"fill_color\":{\"value\":\"darkorange\"},\"line_color\":{\"value\":\"darkorange\"},\"size\":{\"units\":\"screen\",\"value\":16},\"x\":{\"field\":\"x\"},\"y\":{\"field\":\"y\"}},\"id\":\"7082\",\"type\":\"Triangle\"},{\"attributes\":{\"formatter\":{\"id\":\"7359\"},\"ticker\":{\"id\":\"7065\"}},\"id\":\"7064\",\"type\":\"LinearAxis\"},{\"attributes\":{},\"id\":\"7362\",\"type\":\"UnionRenderers\"},{\"attributes\":{},\"id\":\"7058\",\"type\":\"DataRange1d\"},{\"attributes\":{\"fill_alpha\":{\"value\":0.1},\"fill_color\":{\"value\":\"darkorange\"},\"line_alpha\":{\"value\":0.1},\"line_color\":{\"value\":\"darkorange\"},\"size\":{\"units\":\"screen\",\"value\":16},\"x\":{\"field\":\"x\"},\"y\":{\"field\":\"y\"}},\"id\":\"7083\",\"type\":\"Triangle\"},{\"attributes\":{\"data\":{\"desc\":[\"SRR6261682\",\"SRR6261684\",\"SRR6261686\",\"SRR6261688\",\"SRR6261690\",\"SRR6261692\",\"SRR6261696\",\"SRR6261702\",\"SRR6261704\",\"SRR6261706\",\"SRR6261708\",\"SRR6261710\",\"SRR6261714\",\"SRR6261716\",\"SRR6261720\",\"SRR6261722\",\"SRR6261724\",\"SRR6261726\"],\"x\":{\"__ndarray__\":\"2+BSySdpVz82Yas3dKp2vyaGi1zOK2Y/0aoMF8AUd7/8tF69UtZqP/mottEGqTg/EAfISpLahD9DmK9sdaxsP69HLoRX9GK/nE4hsRYKcr/dcGay7nB1P+TZbnyGWE2/2HfPgm4MdD+06DguBINpP1tt48ohjVK/JYgwhREeTb/M9Ppi4xIOP/aI8WAZyF2/\",\"dtype\":\"float64\",\"order\":\"little\",\"shape\":[18]},\"y\":{\"__ndarray__\":\"YAFFraJQMr/ApnMq0axKPw1xeVQEPRy/MduYJSCqPb9vsfP58/U2v//LUSL3Ev0+NmwIhVMwH7+TK08nKpo+P7iVyDlF1S+/ga6lwrmfLz9rpBu3wBkTPxIOnaVeH6g+JI7UBMELOr/pfTyYwLA8vwmcAp697/2+mkiOqTITTz/JQCvs+df2PpoC+3LGNgS/\",\"dtype\":\"float64\",\"order\":\"little\",\"shape\":[18]}},\"selected\":{\"id\":\"7365\"},\"selection_policy\":{\"id\":\"7364\"}},\"id\":\"7053\",\"type\":\"ColumnDataSource\"},{\"attributes\":{\"axis\":{\"id\":\"7064\"},\"ticker\":null},\"id\":\"7067\",\"type\":\"Grid\"},{\"attributes\":{\"text\":\"\"},\"id\":\"7356\",\"type\":\"Title\"},{\"attributes\":{},\"id\":\"7065\",\"type\":\"BasicTicker\"},{\"attributes\":{},\"id\":\"7361\",\"type\":\"BasicTickFormatter\"},{\"attributes\":{},\"id\":\"7359\",\"type\":\"BasicTickFormatter\"}],\"root_ids\":[\"7055\"]},\"title\":\"Bokeh Application\",\"version\":\"2.2.3\"}};\n",
       "  var render_items = [{\"docid\":\"fc0d7c66-f70d-49e5-b2ca-540095d58ca3\",\"root_ids\":[\"7055\"],\"roots\":{\"7055\":\"789a8609-edc7-45ff-9c0b-e0cea534a540\"}}];\n",
       "  root.Bokeh.embed.embed_items_notebook(docs_json, render_items);\n",
       "\n",
       "  }\n",
       "  if (root.Bokeh !== undefined) {\n",
       "    embed_document(root);\n",
       "  } else {\n",
       "    var attempts = 0;\n",
       "    var timer = setInterval(function(root) {\n",
       "      if (root.Bokeh !== undefined) {\n",
       "        clearInterval(timer);\n",
       "        embed_document(root);\n",
       "      } else {\n",
       "        attempts++;\n",
       "        if (attempts > 100) {\n",
       "          clearInterval(timer);\n",
       "          console.log(\"Bokeh: ERROR: Unable to run BokehJS code because BokehJS library is missing\");\n",
       "        }\n",
       "      }\n",
       "    }, 10, root)\n",
       "  }\n",
       "})(window);"
      ],
      "application/vnd.bokehjs_exec.v0+json": ""
     },
     "metadata": {
      "application/vnd.bokehjs_exec.v0+json": {
       "id": "7055"
      }
     },
     "output_type": "display_data"
    }
   ],
   "source": [
    "# q = 2\n",
    "draw_PCA(dfs[1])"
   ]
  },
  {
   "cell_type": "code",
   "execution_count": 43,
   "metadata": {},
   "outputs": [
    {
     "data": {
      "text/html": [
       "\n",
       "\n",
       "\n",
       "\n",
       "\n",
       "\n",
       "  <div class=\"bk-root\" id=\"0ed0d6bd-2863-4fcc-83d5-d618a473e5ee\" data-root-id=\"7419\"></div>\n"
      ]
     },
     "metadata": {},
     "output_type": "display_data"
    },
    {
     "data": {
      "application/javascript": [
       "(function(root) {\n",
       "  function embed_document(root) {\n",
       "    \n",
       "  var docs_json = {\"4183fa13-b89c-4a58-883e-7855da6d4551\":{\"roots\":{\"references\":[{\"attributes\":{\"below\":[{\"id\":\"7428\"}],\"center\":[{\"id\":\"7431\"},{\"id\":\"7435\"}],\"left\":[{\"id\":\"7432\"}],\"plot_height\":500,\"plot_width\":550,\"renderers\":[{\"id\":\"7443\"},{\"id\":\"7448\"}],\"title\":{\"id\":\"7730\"},\"toolbar\":{\"id\":\"7437\"},\"x_range\":{\"id\":\"7420\"},\"x_scale\":{\"id\":\"7424\"},\"y_range\":{\"id\":\"7422\"},\"y_scale\":{\"id\":\"7426\"}},\"id\":\"7419\",\"subtype\":\"Figure\",\"type\":\"Plot\"},{\"attributes\":{\"axis\":{\"id\":\"7428\"},\"ticker\":null},\"id\":\"7431\",\"type\":\"Grid\"},{\"attributes\":{},\"id\":\"7422\",\"type\":\"DataRange1d\"},{\"attributes\":{\"axis\":{\"id\":\"7432\"},\"dimension\":1,\"ticker\":null},\"id\":\"7435\",\"type\":\"Grid\"},{\"attributes\":{},\"id\":\"7738\",\"type\":\"UnionRenderers\"},{\"attributes\":{\"data_source\":{\"id\":\"7416\"},\"glyph\":{\"id\":\"7441\"},\"hover_glyph\":null,\"muted_glyph\":null,\"nonselection_glyph\":{\"id\":\"7442\"},\"selection_glyph\":null,\"view\":{\"id\":\"7444\"}},\"id\":\"7443\",\"type\":\"GlyphRenderer\"},{\"attributes\":{\"formatter\":{\"id\":\"7733\"},\"ticker\":{\"id\":\"7429\"}},\"id\":\"7428\",\"type\":\"LinearAxis\"},{\"attributes\":{\"fill_alpha\":{\"value\":0.1},\"fill_color\":{\"value\":\"black\"},\"line_alpha\":{\"value\":0.1},\"size\":{\"units\":\"screen\",\"value\":14},\"x\":{\"field\":\"x\"},\"y\":{\"field\":\"y\"}},\"id\":\"7442\",\"type\":\"Circle\"},{\"attributes\":{\"formatter\":{\"id\":\"7735\"},\"ticker\":{\"id\":\"7433\"}},\"id\":\"7432\",\"type\":\"LinearAxis\"},{\"attributes\":{\"source\":{\"id\":\"7416\"}},\"id\":\"7444\",\"type\":\"CDSView\"},{\"attributes\":{\"active_drag\":\"auto\",\"active_inspect\":\"auto\",\"active_multi\":null,\"active_scroll\":\"auto\",\"active_tap\":\"auto\",\"tools\":[{\"id\":\"7418\"},{\"id\":\"7436\"}]},\"id\":\"7437\",\"type\":\"Toolbar\"},{\"attributes\":{},\"id\":\"7420\",\"type\":\"DataRange1d\"},{\"attributes\":{\"data_source\":{\"id\":\"7417\"},\"glyph\":{\"id\":\"7446\"},\"hover_glyph\":null,\"muted_glyph\":null,\"nonselection_glyph\":{\"id\":\"7447\"},\"selection_glyph\":null,\"view\":{\"id\":\"7449\"}},\"id\":\"7448\",\"type\":\"GlyphRenderer\"},{\"attributes\":{\"fill_alpha\":{\"value\":0.1},\"fill_color\":{\"value\":\"darkorange\"},\"line_alpha\":{\"value\":0.1},\"line_color\":{\"value\":\"darkorange\"},\"size\":{\"units\":\"screen\",\"value\":16},\"x\":{\"field\":\"x\"},\"y\":{\"field\":\"y\"}},\"id\":\"7447\",\"type\":\"Triangle\"},{\"attributes\":{\"data\":{\"desc\":[\"SRR6261728\",\"SRR6261730\",\"SRR6261732\",\"SRR6261734\",\"SRR6261736\",\"SRR6261738\",\"SRR6261740\",\"SRR6261742\",\"SRR6261744\",\"SRR6261746\",\"SRR6261756\",\"SRR6261758\",\"SRR6261761\",\"SRR6261762\",\"SRR6261764\",\"SRR6261766\",\"SRR6261768\",\"SRR6261770\",\"SRR6261773\",\"SRR6261774\"],\"x\":{\"__ndarray__\":\"JNtRbSl1Pz8Nn5T7g7Qwv88I9+CbRB8/g8XhxyVwOb8p/OEx3s03P2YjBjezJEW/fnSZKELRTj8/vUM3L6EiP/bJgQfJHD+/k6W/SrAKSb/6zamZcSLtvvvgCYMYSzG/Y/P8YjrxN78dBFv24XAzPy3zjaOKbkC/uX4pMIjVMb8Co2/Gl0RIvzeSpDBayDy/mWGXRCQILr9AxDJAM/s3Pw==\",\"dtype\":\"float64\",\"order\":\"little\",\"shape\":[20]},\"y\":{\"__ndarray__\":\"0Sb/PSrCDr8j29RJrLMYv+N61d+dzio/TATkxePd/z6VW5V0FBIKP03zZxu3F9o+a/aRB0BPGL9x4ZBTYuUOP9eUGhFDMxe/AfJJTyquET9hfrIEvvMcv7PoUWgv1A8/xHPvTxi/Iz8+PZpEbnobv50EdK+TxRi/xKvzxYlJ/z4Mm4xqrPQUvw5Al1qg1ye/WTFjXvPUBz+UAFO+Geofvw==\",\"dtype\":\"float64\",\"order\":\"little\",\"shape\":[20]}},\"selected\":{\"id\":\"7737\"},\"selection_policy\":{\"id\":\"7736\"}},\"id\":\"7416\",\"type\":\"ColumnDataSource\"},{\"attributes\":{},\"id\":\"7426\",\"type\":\"LinearScale\"},{\"attributes\":{\"text\":\"\"},\"id\":\"7730\",\"type\":\"Title\"},{\"attributes\":{\"fill_color\":{\"value\":\"darkorange\"},\"line_color\":{\"value\":\"darkorange\"},\"size\":{\"units\":\"screen\",\"value\":16},\"x\":{\"field\":\"x\"},\"y\":{\"field\":\"y\"}},\"id\":\"7446\",\"type\":\"Triangle\"},{\"attributes\":{\"source\":{\"id\":\"7417\"}},\"id\":\"7449\",\"type\":\"CDSView\"},{\"attributes\":{},\"id\":\"7424\",\"type\":\"LinearScale\"},{\"attributes\":{\"fill_color\":{\"value\":\"black\"},\"size\":{\"units\":\"screen\",\"value\":14},\"x\":{\"field\":\"x\"},\"y\":{\"field\":\"y\"}},\"id\":\"7441\",\"type\":\"Circle\"},{\"attributes\":{\"data\":{\"desc\":[\"SRR6261682\",\"SRR6261684\",\"SRR6261686\",\"SRR6261688\",\"SRR6261690\",\"SRR6261692\",\"SRR6261696\",\"SRR6261702\",\"SRR6261704\",\"SRR6261706\",\"SRR6261708\",\"SRR6261710\",\"SRR6261714\",\"SRR6261716\",\"SRR6261720\",\"SRR6261722\",\"SRR6261724\",\"SRR6261726\"],\"x\":{\"__ndarray__\":\"U0NVNyxGMz/6HsEp6VhRvzenPT8XckM/xUc9AsBASb8LN3pg7DFDP5t4L4zd3BY/A1CYmStfWz8ZLy/kBp1EP9AJ9i6uBjG/3CLU9MAQSL/Ar+zztAdMP06EoAu1FvC+grMnFegJSz/wwluHn/ZDP4nwSdgCkCq/1V5Ami49Mr9uY39ZnR8cP+1I+4YdJjO/\",\"dtype\":\"float64\",\"order\":\"little\",\"shape\":[18]},\"y\":{\"__ndarray__\":\"5FfwXwYKI78Rnmj0xQcMv4ycNRvZIxA/JEe2T2TBGD+GiJra+rcJv2mEOY4D/Ro/Vh1/EqK3E79dY+CVadgjP/gWtOeW0SE/qEVQj053yj5ckQ791wURv3B4s4LBPzM/PYKlzo2QFT8ZWYBx/TckPwUDVTqK2wY/8aJCjmDNFr/nQVg+SU4jv21ZkXkSRCe/\",\"dtype\":\"float64\",\"order\":\"little\",\"shape\":[18]}},\"selected\":{\"id\":\"7739\"},\"selection_policy\":{\"id\":\"7738\"}},\"id\":\"7417\",\"type\":\"ColumnDataSource\"},{\"attributes\":{},\"id\":\"7733\",\"type\":\"BasicTickFormatter\"},{\"attributes\":{},\"id\":\"7735\",\"type\":\"BasicTickFormatter\"},{\"attributes\":{},\"id\":\"7736\",\"type\":\"UnionRenderers\"},{\"attributes\":{},\"id\":\"7436\",\"type\":\"SaveTool\"},{\"attributes\":{},\"id\":\"7737\",\"type\":\"Selection\"},{\"attributes\":{\"callback\":null,\"tooltips\":[[\"index\",\"$index\"],[\"desc\",\"@desc\"]]},\"id\":\"7418\",\"type\":\"HoverTool\"},{\"attributes\":{},\"id\":\"7739\",\"type\":\"Selection\"},{\"attributes\":{},\"id\":\"7429\",\"type\":\"BasicTicker\"},{\"attributes\":{},\"id\":\"7433\",\"type\":\"BasicTicker\"}],\"root_ids\":[\"7419\"]},\"title\":\"Bokeh Application\",\"version\":\"2.2.3\"}};\n",
       "  var render_items = [{\"docid\":\"4183fa13-b89c-4a58-883e-7855da6d4551\",\"root_ids\":[\"7419\"],\"roots\":{\"7419\":\"0ed0d6bd-2863-4fcc-83d5-d618a473e5ee\"}}];\n",
       "  root.Bokeh.embed.embed_items_notebook(docs_json, render_items);\n",
       "\n",
       "  }\n",
       "  if (root.Bokeh !== undefined) {\n",
       "    embed_document(root);\n",
       "  } else {\n",
       "    var attempts = 0;\n",
       "    var timer = setInterval(function(root) {\n",
       "      if (root.Bokeh !== undefined) {\n",
       "        clearInterval(timer);\n",
       "        embed_document(root);\n",
       "      } else {\n",
       "        attempts++;\n",
       "        if (attempts > 100) {\n",
       "          clearInterval(timer);\n",
       "          console.log(\"Bokeh: ERROR: Unable to run BokehJS code because BokehJS library is missing\");\n",
       "        }\n",
       "      }\n",
       "    }, 10, root)\n",
       "  }\n",
       "})(window);"
      ],
      "application/vnd.bokehjs_exec.v0+json": ""
     },
     "metadata": {
      "application/vnd.bokehjs_exec.v0+json": {
       "id": "7419"
      }
     },
     "output_type": "display_data"
    }
   ],
   "source": [
    "# q = 3\n",
    "draw_PCA(dfs[2])"
   ]
  },
  {
   "cell_type": "code",
   "execution_count": 44,
   "metadata": {},
   "outputs": [
    {
     "data": {
      "text/html": [
       "\n",
       "\n",
       "\n",
       "\n",
       "\n",
       "\n",
       "  <div class=\"bk-root\" id=\"520821bd-90f4-4e65-9f5a-7518deefd15b\" data-root-id=\"7793\"></div>\n"
      ]
     },
     "metadata": {},
     "output_type": "display_data"
    },
    {
     "data": {
      "application/javascript": [
       "(function(root) {\n",
       "  function embed_document(root) {\n",
       "    \n",
       "  var docs_json = {\"ab4a76a0-aaf3-4478-b5a4-c80ee7b68644\":{\"roots\":{\"references\":[{\"attributes\":{\"below\":[{\"id\":\"7802\"}],\"center\":[{\"id\":\"7805\"},{\"id\":\"7809\"}],\"left\":[{\"id\":\"7806\"}],\"plot_height\":500,\"plot_width\":550,\"renderers\":[{\"id\":\"7817\"},{\"id\":\"7822\"}],\"title\":{\"id\":\"8114\"},\"toolbar\":{\"id\":\"7811\"},\"x_range\":{\"id\":\"7794\"},\"x_scale\":{\"id\":\"7798\"},\"y_range\":{\"id\":\"7796\"},\"y_scale\":{\"id\":\"7800\"}},\"id\":\"7793\",\"subtype\":\"Figure\",\"type\":\"Plot\"},{\"attributes\":{},\"id\":\"8123\",\"type\":\"Selection\"},{\"attributes\":{},\"id\":\"7800\",\"type\":\"LinearScale\"},{\"attributes\":{},\"id\":\"7810\",\"type\":\"SaveTool\"},{\"attributes\":{\"formatter\":{\"id\":\"8119\"},\"ticker\":{\"id\":\"7807\"}},\"id\":\"7806\",\"type\":\"LinearAxis\"},{\"attributes\":{\"text\":\"\"},\"id\":\"8114\",\"type\":\"Title\"},{\"attributes\":{\"active_drag\":\"auto\",\"active_inspect\":\"auto\",\"active_multi\":null,\"active_scroll\":\"auto\",\"active_tap\":\"auto\",\"tools\":[{\"id\":\"7792\"},{\"id\":\"7810\"}]},\"id\":\"7811\",\"type\":\"Toolbar\"},{\"attributes\":{\"fill_alpha\":{\"value\":0.1},\"fill_color\":{\"value\":\"black\"},\"line_alpha\":{\"value\":0.1},\"size\":{\"units\":\"screen\",\"value\":14},\"x\":{\"field\":\"x\"},\"y\":{\"field\":\"y\"}},\"id\":\"7816\",\"type\":\"Circle\"},{\"attributes\":{\"data_source\":{\"id\":\"7790\"},\"glyph\":{\"id\":\"7815\"},\"hover_glyph\":null,\"muted_glyph\":null,\"nonselection_glyph\":{\"id\":\"7816\"},\"selection_glyph\":null,\"view\":{\"id\":\"7818\"}},\"id\":\"7817\",\"type\":\"GlyphRenderer\"},{\"attributes\":{\"fill_color\":{\"value\":\"black\"},\"size\":{\"units\":\"screen\",\"value\":14},\"x\":{\"field\":\"x\"},\"y\":{\"field\":\"y\"}},\"id\":\"7815\",\"type\":\"Circle\"},{\"attributes\":{},\"id\":\"7794\",\"type\":\"DataRange1d\"},{\"attributes\":{\"source\":{\"id\":\"7790\"}},\"id\":\"7818\",\"type\":\"CDSView\"},{\"attributes\":{},\"id\":\"7807\",\"type\":\"BasicTicker\"},{\"attributes\":{\"data_source\":{\"id\":\"7791\"},\"glyph\":{\"id\":\"7820\"},\"hover_glyph\":null,\"muted_glyph\":null,\"nonselection_glyph\":{\"id\":\"7821\"},\"selection_glyph\":null,\"view\":{\"id\":\"7823\"}},\"id\":\"7822\",\"type\":\"GlyphRenderer\"},{\"attributes\":{\"fill_alpha\":{\"value\":0.1},\"fill_color\":{\"value\":\"darkorange\"},\"line_alpha\":{\"value\":0.1},\"line_color\":{\"value\":\"darkorange\"},\"size\":{\"units\":\"screen\",\"value\":16},\"x\":{\"field\":\"x\"},\"y\":{\"field\":\"y\"}},\"id\":\"7821\",\"type\":\"Triangle\"},{\"attributes\":{\"callback\":null,\"tooltips\":[[\"index\",\"$index\"],[\"desc\",\"@desc\"]]},\"id\":\"7792\",\"type\":\"HoverTool\"},{\"attributes\":{\"fill_color\":{\"value\":\"darkorange\"},\"line_color\":{\"value\":\"darkorange\"},\"size\":{\"units\":\"screen\",\"value\":16},\"x\":{\"field\":\"x\"},\"y\":{\"field\":\"y\"}},\"id\":\"7820\",\"type\":\"Triangle\"},{\"attributes\":{\"source\":{\"id\":\"7791\"}},\"id\":\"7823\",\"type\":\"CDSView\"},{\"attributes\":{\"data\":{\"desc\":[\"SRR6261682\",\"SRR6261684\",\"SRR6261686\",\"SRR6261688\",\"SRR6261690\",\"SRR6261692\",\"SRR6261696\",\"SRR6261702\",\"SRR6261704\",\"SRR6261706\",\"SRR6261708\",\"SRR6261710\",\"SRR6261714\",\"SRR6261716\",\"SRR6261720\",\"SRR6261722\",\"SRR6261724\",\"SRR6261726\"],\"x\":{\"__ndarray__\":\"ZsxAIbHDFT+8/tsQ17EAvzY9Pd/GfAw/JExNfW4UDr+FSHTWg4oEvybhUOzewdS+tlPpXfAOMz/6XjgRLFMhP7BDUvlgiRK/qPnLEdBbHr8E43RgKQYqP5+eY9+sSPe+26BOipYtHT911L+kH/cHP80rh++ptA+/dyzAGgHO+z7sEf5iGuUUP6UnrXg12vE+\",\"dtype\":\"float64\",\"order\":\"little\",\"shape\":[18]},\"y\":{\"__ndarray__\":\"JiDRXmoX+T4CPXa6ILPwPnzk7Ey3tgS/RF2Amzao4r5hig6PgMfwvp3hTcDhDPy+Wg6mlm4Kwj6PPUGG2xURv12TjuTyb/C+hkjbKjKVxb5AJi6eaj/oPoAPKC1PMhC/RYbGIra5/b7bJRW1pSoBvxZy3jHrPOK+LKIJt8C/9T5RZ1LDamPwPlUSEJbDvvg+\",\"dtype\":\"float64\",\"order\":\"little\",\"shape\":[18]}},\"selected\":{\"id\":\"8123\"},\"selection_policy\":{\"id\":\"8122\"}},\"id\":\"7791\",\"type\":\"ColumnDataSource\"},{\"attributes\":{},\"id\":\"7796\",\"type\":\"DataRange1d\"},{\"attributes\":{},\"id\":\"8117\",\"type\":\"BasicTickFormatter\"},{\"attributes\":{},\"id\":\"7803\",\"type\":\"BasicTicker\"},{\"attributes\":{},\"id\":\"8119\",\"type\":\"BasicTickFormatter\"},{\"attributes\":{\"formatter\":{\"id\":\"8117\"},\"ticker\":{\"id\":\"7803\"}},\"id\":\"7802\",\"type\":\"LinearAxis\"},{\"attributes\":{},\"id\":\"8120\",\"type\":\"UnionRenderers\"},{\"attributes\":{},\"id\":\"7798\",\"type\":\"LinearScale\"},{\"attributes\":{},\"id\":\"8121\",\"type\":\"Selection\"},{\"attributes\":{\"axis\":{\"id\":\"7802\"},\"ticker\":null},\"id\":\"7805\",\"type\":\"Grid\"},{\"attributes\":{},\"id\":\"8122\",\"type\":\"UnionRenderers\"},{\"attributes\":{\"axis\":{\"id\":\"7806\"},\"dimension\":1,\"ticker\":null},\"id\":\"7809\",\"type\":\"Grid\"},{\"attributes\":{\"data\":{\"desc\":[\"SRR6261728\",\"SRR6261730\",\"SRR6261732\",\"SRR6261734\",\"SRR6261736\",\"SRR6261738\",\"SRR6261740\",\"SRR6261742\",\"SRR6261744\",\"SRR6261746\",\"SRR6261756\",\"SRR6261758\",\"SRR6261761\",\"SRR6261762\",\"SRR6261764\",\"SRR6261766\",\"SRR6261768\",\"SRR6261770\",\"SRR6261773\",\"SRR6261774\"],\"x\":{\"__ndarray__\":\"TS7Gieig0L4YP5JxEjsBv6VMULBZFxe/cgKeie67GL8Sq6qSmY0Bv1r94Sp3piO/VSHY0pjEGj+5+L5dKhr3PljxxCUqJ/W+9beHgN9PLr9mglwiK3QeP8HLUU/FcBm/2z7izrs/Hb8n6BGbPF0lPyqILAVYYQm/ra7rrO44Kb+SzkkDY3cSvzOZswD3KAC/UI+ggvfF9L7cMD0mFDYoPw==\",\"dtype\":\"float64\",\"order\":\"little\",\"shape\":[20]},\"y\":{\"__ndarray__\":\"Ee2JTVUV4T6rhIWahlIFPyi7P9elEwm/KDqi1tQj8L4bp0Lqi1WMvos+LTtX+Og+JM4JdcuBuj52O5fpdUf9vrfJ4kMHy/w+SjOHC8BhaL6gVilQWFTjPv6lw5A8IMo+E0jzKxVY4b5lMNk3rHDBPrFzmcJR2fs+GxKz3Zww3b6OMcIT/fsHP7cmtrMZ2xE/GtNvHo029T7losvXngwCPw==\",\"dtype\":\"float64\",\"order\":\"little\",\"shape\":[20]}},\"selected\":{\"id\":\"8121\"},\"selection_policy\":{\"id\":\"8120\"}},\"id\":\"7790\",\"type\":\"ColumnDataSource\"}],\"root_ids\":[\"7793\"]},\"title\":\"Bokeh Application\",\"version\":\"2.2.3\"}};\n",
       "  var render_items = [{\"docid\":\"ab4a76a0-aaf3-4478-b5a4-c80ee7b68644\",\"root_ids\":[\"7793\"],\"roots\":{\"7793\":\"520821bd-90f4-4e65-9f5a-7518deefd15b\"}}];\n",
       "  root.Bokeh.embed.embed_items_notebook(docs_json, render_items);\n",
       "\n",
       "  }\n",
       "  if (root.Bokeh !== undefined) {\n",
       "    embed_document(root);\n",
       "  } else {\n",
       "    var attempts = 0;\n",
       "    var timer = setInterval(function(root) {\n",
       "      if (root.Bokeh !== undefined) {\n",
       "        clearInterval(timer);\n",
       "        embed_document(root);\n",
       "      } else {\n",
       "        attempts++;\n",
       "        if (attempts > 100) {\n",
       "          clearInterval(timer);\n",
       "          console.log(\"Bokeh: ERROR: Unable to run BokehJS code because BokehJS library is missing\");\n",
       "        }\n",
       "      }\n",
       "    }, 10, root)\n",
       "  }\n",
       "})(window);"
      ],
      "application/vnd.bokehjs_exec.v0+json": ""
     },
     "metadata": {
      "application/vnd.bokehjs_exec.v0+json": {
       "id": "7793"
      }
     },
     "output_type": "display_data"
    }
   ],
   "source": [
    "# q = 4\n",
    "draw_PCA(dfs[3])"
   ]
  },
  {
   "cell_type": "code",
   "execution_count": 45,
   "metadata": {},
   "outputs": [
    {
     "data": {
      "text/html": [
       "\n",
       "\n",
       "\n",
       "\n",
       "\n",
       "\n",
       "  <div class=\"bk-root\" id=\"e85e5fb2-a3d4-465c-88c3-8fb96a8d1bdd\" data-root-id=\"8177\"></div>\n"
      ]
     },
     "metadata": {},
     "output_type": "display_data"
    },
    {
     "data": {
      "application/javascript": [
       "(function(root) {\n",
       "  function embed_document(root) {\n",
       "    \n",
       "  var docs_json = {\"dea03806-ae77-44a2-9edb-c3663655fe53\":{\"roots\":{\"references\":[{\"attributes\":{\"below\":[{\"id\":\"8186\"}],\"center\":[{\"id\":\"8189\"},{\"id\":\"8193\"}],\"left\":[{\"id\":\"8190\"}],\"plot_height\":500,\"plot_width\":550,\"renderers\":[{\"id\":\"8201\"},{\"id\":\"8206\"}],\"title\":{\"id\":\"8508\"},\"toolbar\":{\"id\":\"8195\"},\"x_range\":{\"id\":\"8178\"},\"x_scale\":{\"id\":\"8182\"},\"y_range\":{\"id\":\"8180\"},\"y_scale\":{\"id\":\"8184\"}},\"id\":\"8177\",\"subtype\":\"Figure\",\"type\":\"Plot\"},{\"attributes\":{},\"id\":\"8511\",\"type\":\"BasicTickFormatter\"},{\"attributes\":{},\"id\":\"8513\",\"type\":\"BasicTickFormatter\"},{\"attributes\":{},\"id\":\"8180\",\"type\":\"DataRange1d\"},{\"attributes\":{},\"id\":\"8191\",\"type\":\"BasicTicker\"},{\"attributes\":{\"callback\":null,\"tooltips\":[[\"index\",\"$index\"],[\"desc\",\"@desc\"]]},\"id\":\"8176\",\"type\":\"HoverTool\"},{\"attributes\":{},\"id\":\"8514\",\"type\":\"UnionRenderers\"},{\"attributes\":{\"axis\":{\"id\":\"8190\"},\"dimension\":1,\"ticker\":null},\"id\":\"8193\",\"type\":\"Grid\"},{\"attributes\":{\"formatter\":{\"id\":\"8511\"},\"ticker\":{\"id\":\"8187\"}},\"id\":\"8186\",\"type\":\"LinearAxis\"},{\"attributes\":{},\"id\":\"8515\",\"type\":\"Selection\"},{\"attributes\":{\"data\":{\"desc\":[\"SRR6261728\",\"SRR6261730\",\"SRR6261732\",\"SRR6261734\",\"SRR6261736\",\"SRR6261738\",\"SRR6261740\",\"SRR6261742\",\"SRR6261744\",\"SRR6261746\",\"SRR6261756\",\"SRR6261758\",\"SRR6261761\",\"SRR6261762\",\"SRR6261764\",\"SRR6261766\",\"SRR6261768\",\"SRR6261770\",\"SRR6261773\",\"SRR6261774\"],\"x\":{\"__ndarray__\":\"Qp8S7iU7yj6ikXnSdIP0vkRYuGRvHuC+ds3k54V29b7u/2YzrM7hvvj7FtUwPgS/zog04pgR/j4jyXR/dDDnPvaIjI8e2Oa+ZbamJyDADL8MmTQTA3fzPvGdVI+eJva+GEzMEkC+8b5paLweB14CP+052KJCEPa+sDK5awNnAr9RLVuILPT/voAbvWRCGgG/aTXTUPoA37606MfzVyn7Pg==\",\"dtype\":\"float64\",\"order\":\"little\",\"shape\":[20]},\"y\":{\"__ndarray__\":\"x6pZjdoasj4S+ogn4rXNvoxyVVfHHuQ+6dwm8TPv2j4bav4/5oPMPpEKDMySO6K+mzm99n16pj63NwWLthrWPp0RfxMxb+S+2885WK/35T73ZjFZPELnvqhnE2tIBqc+KM8oVfT02j5NRchgKwLbvmGT6pgkA7u+rnm78Kyc1D43+M6J2vLmvmGIyIrLp+q+sow63fEq3r6/76ltM/jsvg==\",\"dtype\":\"float64\",\"order\":\"little\",\"shape\":[20]}},\"selected\":{\"id\":\"8515\"},\"selection_policy\":{\"id\":\"8514\"}},\"id\":\"8174\",\"type\":\"ColumnDataSource\"},{\"attributes\":{},\"id\":\"8187\",\"type\":\"BasicTicker\"},{\"attributes\":{},\"id\":\"8516\",\"type\":\"UnionRenderers\"},{\"attributes\":{},\"id\":\"8194\",\"type\":\"SaveTool\"},{\"attributes\":{},\"id\":\"8517\",\"type\":\"Selection\"},{\"attributes\":{\"active_drag\":\"auto\",\"active_inspect\":\"auto\",\"active_multi\":null,\"active_scroll\":\"auto\",\"active_tap\":\"auto\",\"tools\":[{\"id\":\"8176\"},{\"id\":\"8194\"}]},\"id\":\"8195\",\"type\":\"Toolbar\"},{\"attributes\":{},\"id\":\"8182\",\"type\":\"LinearScale\"},{\"attributes\":{\"axis\":{\"id\":\"8186\"},\"ticker\":null},\"id\":\"8189\",\"type\":\"Grid\"},{\"attributes\":{\"text\":\"\"},\"id\":\"8508\",\"type\":\"Title\"},{\"attributes\":{},\"id\":\"8184\",\"type\":\"LinearScale\"},{\"attributes\":{\"fill_alpha\":{\"value\":0.1},\"fill_color\":{\"value\":\"black\"},\"line_alpha\":{\"value\":0.1},\"size\":{\"units\":\"screen\",\"value\":14},\"x\":{\"field\":\"x\"},\"y\":{\"field\":\"y\"}},\"id\":\"8200\",\"type\":\"Circle\"},{\"attributes\":{\"data_source\":{\"id\":\"8174\"},\"glyph\":{\"id\":\"8199\"},\"hover_glyph\":null,\"muted_glyph\":null,\"nonselection_glyph\":{\"id\":\"8200\"},\"selection_glyph\":null,\"view\":{\"id\":\"8202\"}},\"id\":\"8201\",\"type\":\"GlyphRenderer\"},{\"attributes\":{\"fill_color\":{\"value\":\"black\"},\"size\":{\"units\":\"screen\",\"value\":14},\"x\":{\"field\":\"x\"},\"y\":{\"field\":\"y\"}},\"id\":\"8199\",\"type\":\"Circle\"},{\"attributes\":{\"source\":{\"id\":\"8174\"}},\"id\":\"8202\",\"type\":\"CDSView\"},{\"attributes\":{\"formatter\":{\"id\":\"8513\"},\"ticker\":{\"id\":\"8191\"}},\"id\":\"8190\",\"type\":\"LinearAxis\"},{\"attributes\":{\"data_source\":{\"id\":\"8175\"},\"glyph\":{\"id\":\"8204\"},\"hover_glyph\":null,\"muted_glyph\":null,\"nonselection_glyph\":{\"id\":\"8205\"},\"selection_glyph\":null,\"view\":{\"id\":\"8207\"}},\"id\":\"8206\",\"type\":\"GlyphRenderer\"},{\"attributes\":{\"fill_alpha\":{\"value\":0.1},\"fill_color\":{\"value\":\"darkorange\"},\"line_alpha\":{\"value\":0.1},\"line_color\":{\"value\":\"darkorange\"},\"size\":{\"units\":\"screen\",\"value\":16},\"x\":{\"field\":\"x\"},\"y\":{\"field\":\"y\"}},\"id\":\"8205\",\"type\":\"Triangle\"},{\"attributes\":{\"fill_color\":{\"value\":\"darkorange\"},\"line_color\":{\"value\":\"darkorange\"},\"size\":{\"units\":\"screen\",\"value\":16},\"x\":{\"field\":\"x\"},\"y\":{\"field\":\"y\"}},\"id\":\"8204\",\"type\":\"Triangle\"},{\"attributes\":{\"source\":{\"id\":\"8175\"}},\"id\":\"8207\",\"type\":\"CDSView\"},{\"attributes\":{\"data\":{\"desc\":[\"SRR6261682\",\"SRR6261684\",\"SRR6261686\",\"SRR6261688\",\"SRR6261690\",\"SRR6261692\",\"SRR6261696\",\"SRR6261702\",\"SRR6261704\",\"SRR6261706\",\"SRR6261708\",\"SRR6261710\",\"SRR6261714\",\"SRR6261716\",\"SRR6261720\",\"SRR6261722\",\"SRR6261724\",\"SRR6261726\"],\"x\":{\"__ndarray__\":\"d20iPEEd6D7NHR1QKXP8vhU5PE87NP4+zNdQI16S5r6RCk1/wTTdPttp0TUDKNI+BRisfCR0FD8pIgPIT8gDP4mJPae5w82+clJkOVla+r689HfefsMGP0K1iPpsXeo+A3FuJQAUBT+etFq45Tv3PgJ1IAX2Sue+vWNnORAw274AOSV5QEzgPl6mPkGCCtu+\",\"dtype\":\"float64\",\"order\":\"little\",\"shape\":[18]},\"y\":{\"__ndarray__\":\"z46o/Aju4r4uASM9vTjjvlPuFEeoeNw+ln8cIAC6sL5YETL2MJXbPu8ZKYngD+U+B+m7v2Qf4L4Syf2LxMrxPjtTXBWAltc+mS44AJCqkj52YIuawrmzvkXLQj72XPI+wMTi7bBusL5/43IdelHsPucokqIcTdk+vBiuSrM80D4KBQWdWHHtvndCD6jMLvC+\",\"dtype\":\"float64\",\"order\":\"little\",\"shape\":[18]}},\"selected\":{\"id\":\"8517\"},\"selection_policy\":{\"id\":\"8516\"}},\"id\":\"8175\",\"type\":\"ColumnDataSource\"},{\"attributes\":{},\"id\":\"8178\",\"type\":\"DataRange1d\"}],\"root_ids\":[\"8177\"]},\"title\":\"Bokeh Application\",\"version\":\"2.2.3\"}};\n",
       "  var render_items = [{\"docid\":\"dea03806-ae77-44a2-9edb-c3663655fe53\",\"root_ids\":[\"8177\"],\"roots\":{\"8177\":\"e85e5fb2-a3d4-465c-88c3-8fb96a8d1bdd\"}}];\n",
       "  root.Bokeh.embed.embed_items_notebook(docs_json, render_items);\n",
       "\n",
       "  }\n",
       "  if (root.Bokeh !== undefined) {\n",
       "    embed_document(root);\n",
       "  } else {\n",
       "    var attempts = 0;\n",
       "    var timer = setInterval(function(root) {\n",
       "      if (root.Bokeh !== undefined) {\n",
       "        clearInterval(timer);\n",
       "        embed_document(root);\n",
       "      } else {\n",
       "        attempts++;\n",
       "        if (attempts > 100) {\n",
       "          clearInterval(timer);\n",
       "          console.log(\"Bokeh: ERROR: Unable to run BokehJS code because BokehJS library is missing\");\n",
       "        }\n",
       "      }\n",
       "    }, 10, root)\n",
       "  }\n",
       "})(window);"
      ],
      "application/vnd.bokehjs_exec.v0+json": ""
     },
     "metadata": {
      "application/vnd.bokehjs_exec.v0+json": {
       "id": "8177"
      }
     },
     "output_type": "display_data"
    }
   ],
   "source": [
    "# q = 5\n",
    "draw_PCA(dfs[4])"
   ]
  },
  {
   "cell_type": "code",
   "execution_count": 46,
   "metadata": {},
   "outputs": [
    {
     "data": {
      "text/html": [
       "\n",
       "\n",
       "\n",
       "\n",
       "\n",
       "\n",
       "  <div class=\"bk-root\" id=\"f15bf478-a65e-4f65-b61d-4dd0b2a4954d\" data-root-id=\"8571\"></div>\n"
      ]
     },
     "metadata": {},
     "output_type": "display_data"
    },
    {
     "data": {
      "application/javascript": [
       "(function(root) {\n",
       "  function embed_document(root) {\n",
       "    \n",
       "  var docs_json = {\"f280f548-acbf-40d8-8435-baa5a684687a\":{\"roots\":{\"references\":[{\"attributes\":{\"below\":[{\"id\":\"8580\"}],\"center\":[{\"id\":\"8583\"},{\"id\":\"8587\"}],\"left\":[{\"id\":\"8584\"}],\"plot_height\":500,\"plot_width\":550,\"renderers\":[{\"id\":\"8595\"},{\"id\":\"8600\"}],\"title\":{\"id\":\"8912\"},\"toolbar\":{\"id\":\"8589\"},\"x_range\":{\"id\":\"8572\"},\"x_scale\":{\"id\":\"8576\"},\"y_range\":{\"id\":\"8574\"},\"y_scale\":{\"id\":\"8578\"}},\"id\":\"8571\",\"subtype\":\"Figure\",\"type\":\"Plot\"},{\"attributes\":{\"source\":{\"id\":\"8569\"}},\"id\":\"8601\",\"type\":\"CDSView\"},{\"attributes\":{\"formatter\":{\"id\":\"8915\"},\"ticker\":{\"id\":\"8581\"}},\"id\":\"8580\",\"type\":\"LinearAxis\"},{\"attributes\":{},\"id\":\"8581\",\"type\":\"BasicTicker\"},{\"attributes\":{\"axis\":{\"id\":\"8580\"},\"ticker\":null},\"id\":\"8583\",\"type\":\"Grid\"},{\"attributes\":{},\"id\":\"8915\",\"type\":\"BasicTickFormatter\"},{\"attributes\":{},\"id\":\"8574\",\"type\":\"DataRange1d\"},{\"attributes\":{\"text\":\"\"},\"id\":\"8912\",\"type\":\"Title\"},{\"attributes\":{\"formatter\":{\"id\":\"8917\"},\"ticker\":{\"id\":\"8585\"}},\"id\":\"8584\",\"type\":\"LinearAxis\"},{\"attributes\":{},\"id\":\"8585\",\"type\":\"BasicTicker\"},{\"attributes\":{},\"id\":\"8917\",\"type\":\"BasicTickFormatter\"},{\"attributes\":{},\"id\":\"8572\",\"type\":\"DataRange1d\"},{\"attributes\":{\"axis\":{\"id\":\"8584\"},\"dimension\":1,\"ticker\":null},\"id\":\"8587\",\"type\":\"Grid\"},{\"attributes\":{},\"id\":\"8918\",\"type\":\"UnionRenderers\"},{\"attributes\":{\"callback\":null,\"tooltips\":[[\"index\",\"$index\"],[\"desc\",\"@desc\"]]},\"id\":\"8570\",\"type\":\"HoverTool\"},{\"attributes\":{},\"id\":\"8919\",\"type\":\"Selection\"},{\"attributes\":{},\"id\":\"8920\",\"type\":\"UnionRenderers\"},{\"attributes\":{},\"id\":\"8588\",\"type\":\"SaveTool\"},{\"attributes\":{\"data\":{\"desc\":[\"SRR6261682\",\"SRR6261684\",\"SRR6261686\",\"SRR6261688\",\"SRR6261690\",\"SRR6261692\",\"SRR6261696\",\"SRR6261702\",\"SRR6261704\",\"SRR6261706\",\"SRR6261708\",\"SRR6261710\",\"SRR6261714\",\"SRR6261716\",\"SRR6261720\",\"SRR6261722\",\"SRR6261724\",\"SRR6261726\"],\"x\":{\"__ndarray__\":\"XrPEnbPg9D48sJbqWp3lvk621qN61fk+zJd1I5qD7z5CBzMI/zvNvsWnScT0HOo+d334++ybDj+meAsAMz72Pkx7qY4fL94++vzqtqF08r5Rch65CE4CP9JKRerGjb0+nRKjiJlm+j6CExVqdAfzPhfs4ItIYei+CQGH8gUV4r40ZIm5P/D0Pg3eC8/VvOg+\",\"dtype\":\"float64\",\"order\":\"little\",\"shape\":[18]},\"y\":{\"__ndarray__\":\"s/x2XxMZsL4QUeJQki/tvuDXlAhbjNO+BVjOHzIB8L5mH+yjiv7ZPlObGpUPcdq+3uypLwBW5D67dzJHOBqmPjEeDnaYtNa+lZZdqFVvuT6/jhxHcPfePiq9C9i2HeM+NRgM7srV3L68G6Bo8j/XPqmgTVchPN4+5L47QMCeu77vS7M3scLRvhFkIXY9t96+\",\"dtype\":\"float64\",\"order\":\"little\",\"shape\":[18]}},\"selected\":{\"id\":\"8921\"},\"selection_policy\":{\"id\":\"8920\"}},\"id\":\"8569\",\"type\":\"ColumnDataSource\"},{\"attributes\":{\"active_drag\":\"auto\",\"active_inspect\":\"auto\",\"active_multi\":null,\"active_scroll\":\"auto\",\"active_tap\":\"auto\",\"tools\":[{\"id\":\"8570\"},{\"id\":\"8588\"}]},\"id\":\"8589\",\"type\":\"Toolbar\"},{\"attributes\":{\"fill_alpha\":{\"value\":0.1},\"fill_color\":{\"value\":\"black\"},\"line_alpha\":{\"value\":0.1},\"size\":{\"units\":\"screen\",\"value\":14},\"x\":{\"field\":\"x\"},\"y\":{\"field\":\"y\"}},\"id\":\"8594\",\"type\":\"Circle\"},{\"attributes\":{\"data\":{\"desc\":[\"SRR6261728\",\"SRR6261730\",\"SRR6261732\",\"SRR6261734\",\"SRR6261736\",\"SRR6261738\",\"SRR6261740\",\"SRR6261742\",\"SRR6261744\",\"SRR6261746\",\"SRR6261756\",\"SRR6261758\",\"SRR6261761\",\"SRR6261762\",\"SRR6261764\",\"SRR6261766\",\"SRR6261768\",\"SRR6261770\",\"SRR6261773\",\"SRR6261774\"],\"x\":{\"__ndarray__\":\"njJmioFO8766DYlgKBQBv7jE7wQjPPm+DgZ9R8wdAL96ZptzzNjWvvPbn+RXvQm/HgT5fhZ39T5avgHMedHgPka6i4+JM9o+6IsjZgDMBL8jEW+LWkjAPq/Jm1Z70ti+u+/gTJvG7b5PS51tBCHzPhwtAd0KTPi+35n6sPs1BL/GRYjJijXTvoz/Usk2UOO+D9glA7sg1j7f0d1h70nxPg==\",\"dtype\":\"float64\",\"order\":\"little\",\"shape\":[20]},\"y\":{\"__ndarray__\":\"kfZM/D1r8z62/KADiYTkPgXWYMDcD80+TFtpA+QkzT729SLqrwbEPrxp1OGbct8+qK72mwQw5j6ZxTx8hFjVPoxvYTHX+96+pVvLvsIv077r+N2waITgvoZ/abf6aO2+haFMiRZwur6ZSjMSy4nLPkIHMmYfI7M+3sZXGjXY276gtWai/Nbgvtd7C9Vc1OG+gxahaW2Bvj7Xo32qr7/mPg==\",\"dtype\":\"float64\",\"order\":\"little\",\"shape\":[20]}},\"selected\":{\"id\":\"8919\"},\"selection_policy\":{\"id\":\"8918\"}},\"id\":\"8568\",\"type\":\"ColumnDataSource\"},{\"attributes\":{\"data_source\":{\"id\":\"8568\"},\"glyph\":{\"id\":\"8593\"},\"hover_glyph\":null,\"muted_glyph\":null,\"nonselection_glyph\":{\"id\":\"8594\"},\"selection_glyph\":null,\"view\":{\"id\":\"8596\"}},\"id\":\"8595\",\"type\":\"GlyphRenderer\"},{\"attributes\":{},\"id\":\"8578\",\"type\":\"LinearScale\"},{\"attributes\":{\"fill_color\":{\"value\":\"black\"},\"size\":{\"units\":\"screen\",\"value\":14},\"x\":{\"field\":\"x\"},\"y\":{\"field\":\"y\"}},\"id\":\"8593\",\"type\":\"Circle\"},{\"attributes\":{\"source\":{\"id\":\"8568\"}},\"id\":\"8596\",\"type\":\"CDSView\"},{\"attributes\":{},\"id\":\"8576\",\"type\":\"LinearScale\"},{\"attributes\":{\"data_source\":{\"id\":\"8569\"},\"glyph\":{\"id\":\"8598\"},\"hover_glyph\":null,\"muted_glyph\":null,\"nonselection_glyph\":{\"id\":\"8599\"},\"selection_glyph\":null,\"view\":{\"id\":\"8601\"}},\"id\":\"8600\",\"type\":\"GlyphRenderer\"},{\"attributes\":{\"fill_alpha\":{\"value\":0.1},\"fill_color\":{\"value\":\"darkorange\"},\"line_alpha\":{\"value\":0.1},\"line_color\":{\"value\":\"darkorange\"},\"size\":{\"units\":\"screen\",\"value\":16},\"x\":{\"field\":\"x\"},\"y\":{\"field\":\"y\"}},\"id\":\"8599\",\"type\":\"Triangle\"},{\"attributes\":{},\"id\":\"8921\",\"type\":\"Selection\"},{\"attributes\":{\"fill_color\":{\"value\":\"darkorange\"},\"line_color\":{\"value\":\"darkorange\"},\"size\":{\"units\":\"screen\",\"value\":16},\"x\":{\"field\":\"x\"},\"y\":{\"field\":\"y\"}},\"id\":\"8598\",\"type\":\"Triangle\"}],\"root_ids\":[\"8571\"]},\"title\":\"Bokeh Application\",\"version\":\"2.2.3\"}};\n",
       "  var render_items = [{\"docid\":\"f280f548-acbf-40d8-8435-baa5a684687a\",\"root_ids\":[\"8571\"],\"roots\":{\"8571\":\"f15bf478-a65e-4f65-b61d-4dd0b2a4954d\"}}];\n",
       "  root.Bokeh.embed.embed_items_notebook(docs_json, render_items);\n",
       "\n",
       "  }\n",
       "  if (root.Bokeh !== undefined) {\n",
       "    embed_document(root);\n",
       "  } else {\n",
       "    var attempts = 0;\n",
       "    var timer = setInterval(function(root) {\n",
       "      if (root.Bokeh !== undefined) {\n",
       "        clearInterval(timer);\n",
       "        embed_document(root);\n",
       "      } else {\n",
       "        attempts++;\n",
       "        if (attempts > 100) {\n",
       "          clearInterval(timer);\n",
       "          console.log(\"Bokeh: ERROR: Unable to run BokehJS code because BokehJS library is missing\");\n",
       "        }\n",
       "      }\n",
       "    }, 10, root)\n",
       "  }\n",
       "})(window);"
      ],
      "application/vnd.bokehjs_exec.v0+json": ""
     },
     "metadata": {
      "application/vnd.bokehjs_exec.v0+json": {
       "id": "8571"
      }
     },
     "output_type": "display_data"
    }
   ],
   "source": [
    "# q = 6\n",
    "draw_PCA(dfs[5])"
   ]
  },
  {
   "cell_type": "code",
   "execution_count": 47,
   "metadata": {},
   "outputs": [
    {
     "data": {
      "text/html": [
       "\n",
       "\n",
       "\n",
       "\n",
       "\n",
       "\n",
       "  <div class=\"bk-root\" id=\"4b8c60e8-92f7-4b49-a8cc-0d1838b7f08b\" data-root-id=\"8975\"></div>\n"
      ]
     },
     "metadata": {},
     "output_type": "display_data"
    },
    {
     "data": {
      "application/javascript": [
       "(function(root) {\n",
       "  function embed_document(root) {\n",
       "    \n",
       "  var docs_json = {\"8a8d5a28-d750-4503-9750-a6aea309c94d\":{\"roots\":{\"references\":[{\"attributes\":{\"below\":[{\"id\":\"8984\"}],\"center\":[{\"id\":\"8987\"},{\"id\":\"8991\"}],\"left\":[{\"id\":\"8988\"}],\"plot_height\":500,\"plot_width\":550,\"renderers\":[{\"id\":\"8999\"},{\"id\":\"9004\"}],\"title\":{\"id\":\"9326\"},\"toolbar\":{\"id\":\"8993\"},\"x_range\":{\"id\":\"8976\"},\"x_scale\":{\"id\":\"8980\"},\"y_range\":{\"id\":\"8978\"},\"y_scale\":{\"id\":\"8982\"}},\"id\":\"8975\",\"subtype\":\"Figure\",\"type\":\"Plot\"},{\"attributes\":{},\"id\":\"9329\",\"type\":\"BasicTickFormatter\"},{\"attributes\":{\"data_source\":{\"id\":\"8973\"},\"glyph\":{\"id\":\"9002\"},\"hover_glyph\":null,\"muted_glyph\":null,\"nonselection_glyph\":{\"id\":\"9003\"},\"selection_glyph\":null,\"view\":{\"id\":\"9005\"}},\"id\":\"9004\",\"type\":\"GlyphRenderer\"},{\"attributes\":{},\"id\":\"8976\",\"type\":\"DataRange1d\"},{\"attributes\":{\"fill_alpha\":{\"value\":0.1},\"fill_color\":{\"value\":\"darkorange\"},\"line_alpha\":{\"value\":0.1},\"line_color\":{\"value\":\"darkorange\"},\"size\":{\"units\":\"screen\",\"value\":16},\"x\":{\"field\":\"x\"},\"y\":{\"field\":\"y\"}},\"id\":\"9003\",\"type\":\"Triangle\"},{\"attributes\":{},\"id\":\"8978\",\"type\":\"DataRange1d\"},{\"attributes\":{\"fill_color\":{\"value\":\"darkorange\"},\"line_color\":{\"value\":\"darkorange\"},\"size\":{\"units\":\"screen\",\"value\":16},\"x\":{\"field\":\"x\"},\"y\":{\"field\":\"y\"}},\"id\":\"9002\",\"type\":\"Triangle\"},{\"attributes\":{\"source\":{\"id\":\"8973\"}},\"id\":\"9005\",\"type\":\"CDSView\"},{\"attributes\":{},\"id\":\"8980\",\"type\":\"LinearScale\"},{\"attributes\":{},\"id\":\"8982\",\"type\":\"LinearScale\"},{\"attributes\":{\"data\":{\"desc\":[\"SRR6261728\",\"SRR6261730\",\"SRR6261732\",\"SRR6261734\",\"SRR6261736\",\"SRR6261738\",\"SRR6261740\",\"SRR6261742\",\"SRR6261744\",\"SRR6261746\",\"SRR6261756\",\"SRR6261758\",\"SRR6261761\",\"SRR6261762\",\"SRR6261764\",\"SRR6261766\",\"SRR6261768\",\"SRR6261770\",\"SRR6261773\",\"SRR6261774\"],\"x\":{\"__ndarray__\":\"w1TwQ41H/T6whgVge3n+Phvg3ssJTOk+zsgSzf5iAT9VEOVQtBDpPgkr+oZUhgU/ibMStf+pxD5wlzJb95DTvu4mJarQn+i+HnyeW5ii8T4npNJJUGimvgs3jZAKYOe+8r1FDyL1xD6gH3LrGOWwvjFGZnwc3/4+daWfg+kbAT/2lfh8Xufrvs2X4z3SyKU+OjdOeKiX6L7QMFqGorbTPg==\",\"dtype\":\"float64\",\"order\":\"little\",\"shape\":[20]},\"y\":{\"__ndarray__\":\"JmHuxp1rxT6ugELtxDxQvh3vHMuThrG+BATU8XMNjD6Ju9qZL57GPsM2R4Vn0cO+D4SuUF+tyD6BHc/Q8HyXvv6VM52X0s++BDY6E2hc075sM+1LRHa4vlfVmx9ItcS+90cDQGTDwb6QQ4tvUt6vPob4kxbiXHo+h432wk24wz7Mz0eP3tnJvghIrt9SONO+ndtMiPgvuL6TP1TT+LewPg==\",\"dtype\":\"float64\",\"order\":\"little\",\"shape\":[20]}},\"selected\":{\"id\":\"9333\"},\"selection_policy\":{\"id\":\"9332\"}},\"id\":\"8972\",\"type\":\"ColumnDataSource\"},{\"attributes\":{\"formatter\":{\"id\":\"9329\"},\"ticker\":{\"id\":\"8985\"}},\"id\":\"8984\",\"type\":\"LinearAxis\"},{\"attributes\":{},\"id\":\"8985\",\"type\":\"BasicTicker\"},{\"attributes\":{\"axis\":{\"id\":\"8984\"},\"ticker\":null},\"id\":\"8987\",\"type\":\"Grid\"},{\"attributes\":{},\"id\":\"9331\",\"type\":\"BasicTickFormatter\"},{\"attributes\":{\"formatter\":{\"id\":\"9331\"},\"ticker\":{\"id\":\"8989\"}},\"id\":\"8988\",\"type\":\"LinearAxis\"},{\"attributes\":{},\"id\":\"9332\",\"type\":\"UnionRenderers\"},{\"attributes\":{},\"id\":\"8989\",\"type\":\"BasicTicker\"},{\"attributes\":{},\"id\":\"9333\",\"type\":\"Selection\"},{\"attributes\":{\"axis\":{\"id\":\"8988\"},\"dimension\":1,\"ticker\":null},\"id\":\"8991\",\"type\":\"Grid\"},{\"attributes\":{},\"id\":\"9334\",\"type\":\"UnionRenderers\"},{\"attributes\":{},\"id\":\"8992\",\"type\":\"SaveTool\"},{\"attributes\":{\"text\":\"\"},\"id\":\"9326\",\"type\":\"Title\"},{\"attributes\":{\"active_drag\":\"auto\",\"active_inspect\":\"auto\",\"active_multi\":null,\"active_scroll\":\"auto\",\"active_tap\":\"auto\",\"tools\":[{\"id\":\"8974\"},{\"id\":\"8992\"}]},\"id\":\"8993\",\"type\":\"Toolbar\"},{\"attributes\":{\"fill_alpha\":{\"value\":0.1},\"fill_color\":{\"value\":\"black\"},\"line_alpha\":{\"value\":0.1},\"size\":{\"units\":\"screen\",\"value\":14},\"x\":{\"field\":\"x\"},\"y\":{\"field\":\"y\"}},\"id\":\"8998\",\"type\":\"Circle\"},{\"attributes\":{},\"id\":\"9335\",\"type\":\"Selection\"},{\"attributes\":{\"data_source\":{\"id\":\"8972\"},\"glyph\":{\"id\":\"8997\"},\"hover_glyph\":null,\"muted_glyph\":null,\"nonselection_glyph\":{\"id\":\"8998\"},\"selection_glyph\":null,\"view\":{\"id\":\"9000\"}},\"id\":\"8999\",\"type\":\"GlyphRenderer\"},{\"attributes\":{\"data\":{\"desc\":[\"SRR6261682\",\"SRR6261684\",\"SRR6261686\",\"SRR6261688\",\"SRR6261690\",\"SRR6261692\",\"SRR6261696\",\"SRR6261702\",\"SRR6261704\",\"SRR6261706\",\"SRR6261708\",\"SRR6261710\",\"SRR6261714\",\"SRR6261716\",\"SRR6261720\",\"SRR6261722\",\"SRR6261724\",\"SRR6261726\"],\"x\":{\"__ndarray__\":\"U1M3eCBe577GyURzmfbivv+oOu/qvfy+BVkNWhh/Ab/T9/97eyzyPlbC/FtI8fW+ESxx2CdE+b5/c6+chnHlvrUJujGaJ+y+/OjvEG8x8j5LuSvsp5jxvvrXXgmwfNa+xinAJP6p874vjkSWfC75vh9Zpl7Lu/A+CwFDbDPMHr7eZwUhOojyvk7f+MK+/OG+\",\"dtype\":\"float64\",\"order\":\"little\",\"shape\":[18]},\"y\":{\"__ndarray__\":\"hJnEavr+ob5dsSw4ADDPvtaT8W9iq8c+mUUvtxWY2L7NDwkm7IbRPg8Q6Saq6os+g4wecDJT3j5MHMkXynHfPsxXfDZul4g+R/ivC5fMob72sLZc7SDOPhjtp76xxpu+9xiL3qT72D72VLWIl4eiPvbS+83In7Q+6Xw+Y8X/zr5LNqdj1ofIvk2dcSE9pLS+\",\"dtype\":\"float64\",\"order\":\"little\",\"shape\":[18]}},\"selected\":{\"id\":\"9335\"},\"selection_policy\":{\"id\":\"9334\"}},\"id\":\"8973\",\"type\":\"ColumnDataSource\"},{\"attributes\":{\"fill_color\":{\"value\":\"black\"},\"size\":{\"units\":\"screen\",\"value\":14},\"x\":{\"field\":\"x\"},\"y\":{\"field\":\"y\"}},\"id\":\"8997\",\"type\":\"Circle\"},{\"attributes\":{\"callback\":null,\"tooltips\":[[\"index\",\"$index\"],[\"desc\",\"@desc\"]]},\"id\":\"8974\",\"type\":\"HoverTool\"},{\"attributes\":{\"source\":{\"id\":\"8972\"}},\"id\":\"9000\",\"type\":\"CDSView\"}],\"root_ids\":[\"8975\"]},\"title\":\"Bokeh Application\",\"version\":\"2.2.3\"}};\n",
       "  var render_items = [{\"docid\":\"8a8d5a28-d750-4503-9750-a6aea309c94d\",\"root_ids\":[\"8975\"],\"roots\":{\"8975\":\"4b8c60e8-92f7-4b49-a8cc-0d1838b7f08b\"}}];\n",
       "  root.Bokeh.embed.embed_items_notebook(docs_json, render_items);\n",
       "\n",
       "  }\n",
       "  if (root.Bokeh !== undefined) {\n",
       "    embed_document(root);\n",
       "  } else {\n",
       "    var attempts = 0;\n",
       "    var timer = setInterval(function(root) {\n",
       "      if (root.Bokeh !== undefined) {\n",
       "        clearInterval(timer);\n",
       "        embed_document(root);\n",
       "      } else {\n",
       "        attempts++;\n",
       "        if (attempts > 100) {\n",
       "          clearInterval(timer);\n",
       "          console.log(\"Bokeh: ERROR: Unable to run BokehJS code because BokehJS library is missing\");\n",
       "        }\n",
       "      }\n",
       "    }, 10, root)\n",
       "  }\n",
       "})(window);"
      ],
      "application/vnd.bokehjs_exec.v0+json": ""
     },
     "metadata": {
      "application/vnd.bokehjs_exec.v0+json": {
       "id": "8975"
      }
     },
     "output_type": "display_data"
    }
   ],
   "source": [
    "# q = 7\n",
    "draw_PCA(dfs[6])"
   ]
  },
  {
   "cell_type": "code",
   "execution_count": 48,
   "metadata": {},
   "outputs": [
    {
     "data": {
      "text/html": [
       "\n",
       "\n",
       "\n",
       "\n",
       "\n",
       "\n",
       "  <div class=\"bk-root\" id=\"ed745dc6-4ab5-4f77-8859-68fe084037fb\" data-root-id=\"9389\"></div>\n"
      ]
     },
     "metadata": {},
     "output_type": "display_data"
    },
    {
     "data": {
      "application/javascript": [
       "(function(root) {\n",
       "  function embed_document(root) {\n",
       "    \n",
       "  var docs_json = {\"5039a4bc-89dc-4c1e-aa12-b9077926e80d\":{\"roots\":{\"references\":[{\"attributes\":{\"below\":[{\"id\":\"9398\"}],\"center\":[{\"id\":\"9401\"},{\"id\":\"9405\"}],\"left\":[{\"id\":\"9402\"}],\"plot_height\":500,\"plot_width\":550,\"renderers\":[{\"id\":\"9413\"},{\"id\":\"9418\"}],\"title\":{\"id\":\"9750\"},\"toolbar\":{\"id\":\"9407\"},\"x_range\":{\"id\":\"9390\"},\"x_scale\":{\"id\":\"9394\"},\"y_range\":{\"id\":\"9392\"},\"y_scale\":{\"id\":\"9396\"}},\"id\":\"9389\",\"subtype\":\"Figure\",\"type\":\"Plot\"},{\"attributes\":{\"data_source\":{\"id\":\"9386\"},\"glyph\":{\"id\":\"9411\"},\"hover_glyph\":null,\"muted_glyph\":null,\"nonselection_glyph\":{\"id\":\"9412\"},\"selection_glyph\":null,\"view\":{\"id\":\"9414\"}},\"id\":\"9413\",\"type\":\"GlyphRenderer\"},{\"attributes\":{\"fill_color\":{\"value\":\"black\"},\"size\":{\"units\":\"screen\",\"value\":14},\"x\":{\"field\":\"x\"},\"y\":{\"field\":\"y\"}},\"id\":\"9411\",\"type\":\"Circle\"},{\"attributes\":{\"active_drag\":\"auto\",\"active_inspect\":\"auto\",\"active_multi\":null,\"active_scroll\":\"auto\",\"active_tap\":\"auto\",\"tools\":[{\"id\":\"9388\"},{\"id\":\"9406\"}]},\"id\":\"9407\",\"type\":\"Toolbar\"},{\"attributes\":{\"data\":{\"desc\":[\"SRR6261682\",\"SRR6261684\",\"SRR6261686\",\"SRR6261688\",\"SRR6261690\",\"SRR6261692\",\"SRR6261696\",\"SRR6261702\",\"SRR6261704\",\"SRR6261706\",\"SRR6261708\",\"SRR6261710\",\"SRR6261714\",\"SRR6261716\",\"SRR6261720\",\"SRR6261722\",\"SRR6261724\",\"SRR6261726\"],\"x\":{\"__ndarray__\":\"wt8yjn1ny763PXbq8HuhPhkOpI/iyte+NegbJ8AUzL6tsfHP7Li/vsshiuDw4sW+tCGAi0oY0b5RJv6YbxuNPgQsm4S4u8m++EiLoi+5nr4970LNk8/TvqFCa1LiMca+Racd/uFa174331Rm/rbSvs64nVfBvq++ynHXCdg9vL4bz9Mi5v7OvjEyU7iXeLy+\",\"dtype\":\"float64\",\"order\":\"little\",\"shape\":[18]},\"y\":{\"__ndarray__\":\"oHBJMkl2qb5aPmRMrAeovoU3GSRhpcS+d8+dnhir0L6I5AuW9YjMPnh0MaX/lsG+kUaEUCV2zb6x0WobYn/HvotSVHpp3Lq+8KsyeIoxxz7qwHk2gFy4volPmnXHBJC+SxFOOvLcpr5esp+AR+rDvmz1gnMescU+S3GZTZcvpz6LLaDn7MO8vn8yVP5sp3E+\",\"dtype\":\"float64\",\"order\":\"little\",\"shape\":[18]}},\"selected\":{\"id\":\"9759\"},\"selection_policy\":{\"id\":\"9758\"}},\"id\":\"9387\",\"type\":\"ColumnDataSource\"},{\"attributes\":{\"source\":{\"id\":\"9386\"}},\"id\":\"9414\",\"type\":\"CDSView\"},{\"attributes\":{},\"id\":\"9759\",\"type\":\"Selection\"},{\"attributes\":{\"callback\":null,\"tooltips\":[[\"index\",\"$index\"],[\"desc\",\"@desc\"]]},\"id\":\"9388\",\"type\":\"HoverTool\"},{\"attributes\":{},\"id\":\"9390\",\"type\":\"DataRange1d\"},{\"attributes\":{\"fill_alpha\":{\"value\":0.1},\"fill_color\":{\"value\":\"darkorange\"},\"line_alpha\":{\"value\":0.1},\"line_color\":{\"value\":\"darkorange\"},\"size\":{\"units\":\"screen\",\"value\":16},\"x\":{\"field\":\"x\"},\"y\":{\"field\":\"y\"}},\"id\":\"9417\",\"type\":\"Triangle\"},{\"attributes\":{},\"id\":\"9392\",\"type\":\"DataRange1d\"},{\"attributes\":{\"fill_color\":{\"value\":\"darkorange\"},\"line_color\":{\"value\":\"darkorange\"},\"size\":{\"units\":\"screen\",\"value\":16},\"x\":{\"field\":\"x\"},\"y\":{\"field\":\"y\"}},\"id\":\"9416\",\"type\":\"Triangle\"},{\"attributes\":{},\"id\":\"9394\",\"type\":\"LinearScale\"},{\"attributes\":{\"data_source\":{\"id\":\"9387\"},\"glyph\":{\"id\":\"9416\"},\"hover_glyph\":null,\"muted_glyph\":null,\"nonselection_glyph\":{\"id\":\"9417\"},\"selection_glyph\":null,\"view\":{\"id\":\"9419\"}},\"id\":\"9418\",\"type\":\"GlyphRenderer\"},{\"attributes\":{},\"id\":\"9758\",\"type\":\"UnionRenderers\"},{\"attributes\":{},\"id\":\"9396\",\"type\":\"LinearScale\"},{\"attributes\":{\"formatter\":{\"id\":\"9753\"},\"ticker\":{\"id\":\"9399\"}},\"id\":\"9398\",\"type\":\"LinearAxis\"},{\"attributes\":{\"source\":{\"id\":\"9387\"}},\"id\":\"9419\",\"type\":\"CDSView\"},{\"attributes\":{},\"id\":\"9399\",\"type\":\"BasicTicker\"},{\"attributes\":{\"axis\":{\"id\":\"9398\"},\"ticker\":null},\"id\":\"9401\",\"type\":\"Grid\"},{\"attributes\":{\"text\":\"\"},\"id\":\"9750\",\"type\":\"Title\"},{\"attributes\":{\"formatter\":{\"id\":\"9755\"},\"ticker\":{\"id\":\"9403\"}},\"id\":\"9402\",\"type\":\"LinearAxis\"},{\"attributes\":{},\"id\":\"9403\",\"type\":\"BasicTicker\"},{\"attributes\":{\"axis\":{\"id\":\"9402\"},\"dimension\":1,\"ticker\":null},\"id\":\"9405\",\"type\":\"Grid\"},{\"attributes\":{},\"id\":\"9753\",\"type\":\"BasicTickFormatter\"},{\"attributes\":{},\"id\":\"9755\",\"type\":\"BasicTickFormatter\"},{\"attributes\":{},\"id\":\"9756\",\"type\":\"UnionRenderers\"},{\"attributes\":{},\"id\":\"9406\",\"type\":\"SaveTool\"},{\"attributes\":{},\"id\":\"9757\",\"type\":\"Selection\"},{\"attributes\":{\"data\":{\"desc\":[\"SRR6261728\",\"SRR6261730\",\"SRR6261732\",\"SRR6261734\",\"SRR6261736\",\"SRR6261738\",\"SRR6261740\",\"SRR6261742\",\"SRR6261744\",\"SRR6261746\",\"SRR6261756\",\"SRR6261758\",\"SRR6261761\",\"SRR6261762\",\"SRR6261764\",\"SRR6261766\",\"SRR6261768\",\"SRR6261770\",\"SRR6261773\",\"SRR6261774\"],\"x\":{\"__ndarray__\":\"QFK4hPUtt74g8fmD6RmtvpE02dGmppe+AADZBw8M3T5TnFbxpYLBPhZ/E3Czlac+7bEEzRzWWL4XMQhzwLzOPjfqeafC2tM+jD0ZBOLs4T7W1itgFlS1vq+bJGcmadc+sPAu+eTd0D7BeKe3Y7ejPthrmdlWmE6+0Aq6mVL7sj7vRIGf/fHPPrBr3ubzuNk+hlejsDX90D4vOnya6eKwPg==\",\"dtype\":\"float64\",\"order\":\"little\",\"shape\":[20]},\"y\":{\"__ndarray__\":\"VaIRiWPv0D6aBAph+k/RPrviXkDOOcg+jHU02kujyT6D2WHhww1Jvm+Z7guJR+A+2uMFD3rmmb6iLvf46OrEvg/XNy24m9G+SJBYzutdkr6rRc3mcKx7vudV3vqMSci+imlXWntjoL4b2BFCd0SYPiNtxIi+Itk+P55LvwGd4D5wDLCM5QjKvn0mFfhINsi+3JHvcHwm0b6XfL0gGUaXvg==\",\"dtype\":\"float64\",\"order\":\"little\",\"shape\":[20]}},\"selected\":{\"id\":\"9757\"},\"selection_policy\":{\"id\":\"9756\"}},\"id\":\"9386\",\"type\":\"ColumnDataSource\"},{\"attributes\":{\"fill_alpha\":{\"value\":0.1},\"fill_color\":{\"value\":\"black\"},\"line_alpha\":{\"value\":0.1},\"size\":{\"units\":\"screen\",\"value\":14},\"x\":{\"field\":\"x\"},\"y\":{\"field\":\"y\"}},\"id\":\"9412\",\"type\":\"Circle\"}],\"root_ids\":[\"9389\"]},\"title\":\"Bokeh Application\",\"version\":\"2.2.3\"}};\n",
       "  var render_items = [{\"docid\":\"5039a4bc-89dc-4c1e-aa12-b9077926e80d\",\"root_ids\":[\"9389\"],\"roots\":{\"9389\":\"ed745dc6-4ab5-4f77-8859-68fe084037fb\"}}];\n",
       "  root.Bokeh.embed.embed_items_notebook(docs_json, render_items);\n",
       "\n",
       "  }\n",
       "  if (root.Bokeh !== undefined) {\n",
       "    embed_document(root);\n",
       "  } else {\n",
       "    var attempts = 0;\n",
       "    var timer = setInterval(function(root) {\n",
       "      if (root.Bokeh !== undefined) {\n",
       "        clearInterval(timer);\n",
       "        embed_document(root);\n",
       "      } else {\n",
       "        attempts++;\n",
       "        if (attempts > 100) {\n",
       "          clearInterval(timer);\n",
       "          console.log(\"Bokeh: ERROR: Unable to run BokehJS code because BokehJS library is missing\");\n",
       "        }\n",
       "      }\n",
       "    }, 10, root)\n",
       "  }\n",
       "})(window);"
      ],
      "application/vnd.bokehjs_exec.v0+json": ""
     },
     "metadata": {
      "application/vnd.bokehjs_exec.v0+json": {
       "id": "9389"
      }
     },
     "output_type": "display_data"
    }
   ],
   "source": [
    "# q = 8\n",
    "draw_PCA(dfs[7])"
   ]
  },
  {
   "cell_type": "code",
   "execution_count": 49,
   "metadata": {},
   "outputs": [
    {
     "data": {
      "text/html": [
       "\n",
       "\n",
       "\n",
       "\n",
       "\n",
       "\n",
       "  <div class=\"bk-root\" id=\"619a13dc-fbce-4e32-87d4-5a1f759479c1\" data-root-id=\"9813\"></div>\n"
      ]
     },
     "metadata": {},
     "output_type": "display_data"
    },
    {
     "data": {
      "application/javascript": [
       "(function(root) {\n",
       "  function embed_document(root) {\n",
       "    \n",
       "  var docs_json = {\"ea5e26dd-b7be-4aa2-bf0c-6c5b37469a2d\":{\"roots\":{\"references\":[{\"attributes\":{\"below\":[{\"id\":\"9822\"}],\"center\":[{\"id\":\"9825\"},{\"id\":\"9829\"}],\"left\":[{\"id\":\"9826\"}],\"plot_height\":500,\"plot_width\":550,\"renderers\":[{\"id\":\"9837\"},{\"id\":\"9842\"}],\"title\":{\"id\":\"10184\"},\"toolbar\":{\"id\":\"9831\"},\"x_range\":{\"id\":\"9814\"},\"x_scale\":{\"id\":\"9818\"},\"y_range\":{\"id\":\"9816\"},\"y_scale\":{\"id\":\"9820\"}},\"id\":\"9813\",\"subtype\":\"Figure\",\"type\":\"Plot\"},{\"attributes\":{},\"id\":\"9823\",\"type\":\"BasicTicker\"},{\"attributes\":{\"axis\":{\"id\":\"9822\"},\"ticker\":null},\"id\":\"9825\",\"type\":\"Grid\"},{\"attributes\":{},\"id\":\"10187\",\"type\":\"BasicTickFormatter\"},{\"attributes\":{\"formatter\":{\"id\":\"10189\"},\"ticker\":{\"id\":\"9827\"}},\"id\":\"9826\",\"type\":\"LinearAxis\"},{\"attributes\":{},\"id\":\"10189\",\"type\":\"BasicTickFormatter\"},{\"attributes\":{},\"id\":\"9827\",\"type\":\"BasicTicker\"},{\"attributes\":{},\"id\":\"10190\",\"type\":\"UnionRenderers\"},{\"attributes\":{\"axis\":{\"id\":\"9826\"},\"dimension\":1,\"ticker\":null},\"id\":\"9829\",\"type\":\"Grid\"},{\"attributes\":{},\"id\":\"9820\",\"type\":\"LinearScale\"},{\"attributes\":{},\"id\":\"10191\",\"type\":\"Selection\"},{\"attributes\":{},\"id\":\"9830\",\"type\":\"SaveTool\"},{\"attributes\":{\"data\":{\"desc\":[\"SRR6261728\",\"SRR6261730\",\"SRR6261732\",\"SRR6261734\",\"SRR6261736\",\"SRR6261738\",\"SRR6261740\",\"SRR6261742\",\"SRR6261744\",\"SRR6261746\",\"SRR6261756\",\"SRR6261758\",\"SRR6261761\",\"SRR6261762\",\"SRR6261764\",\"SRR6261766\",\"SRR6261768\",\"SRR6261770\",\"SRR6261773\",\"SRR6261774\"],\"x\":{\"__ndarray__\":\"Uki61V7ysL51+003I6uivm494UpahrK+MKnbwV6swD6BaOTzzCGlPhHmespdlKu+VYHbD1WxnT72WDNR2z7BPlBkqZsJcMY+YGYCoZeExz6+CmmYTAOjvlqLvUDLAsU+RhJc2lgevT4CknO2xkOlPlIY9xtNgK2+vFt6seldsL5SlfhP747BPhQOYf3T48k+MyKv9B4Fvz79QMZRFNaYPg==\",\"dtype\":\"float64\",\"order\":\"little\",\"shape\":[20]},\"y\":{\"__ndarray__\":\"gz/HflCva760LX42/AapvsibRLG3NJ++LENF7XnBkj4j1Y79N+GFPq3U9CX1EJG+oikVVVaoaz773BTXlfuFPjmZd5blqow+tl86q9TOob4/qGFZJ1ibvpdJTvpK5aG+v8nKPJ9BmD72w44Sx5F8vgSrbJ5I2J2+y9spZnc2rL77k7JLuiCEvnXnNpf013E+2Y3kPUNmkT7lwYKvbkOGvg==\",\"dtype\":\"float64\",\"order\":\"little\",\"shape\":[20]}},\"selected\":{\"id\":\"10191\"},\"selection_policy\":{\"id\":\"10190\"}},\"id\":\"9810\",\"type\":\"ColumnDataSource\"},{\"attributes\":{\"active_drag\":\"auto\",\"active_inspect\":\"auto\",\"active_multi\":null,\"active_scroll\":\"auto\",\"active_tap\":\"auto\",\"tools\":[{\"id\":\"9812\"},{\"id\":\"9830\"}]},\"id\":\"9831\",\"type\":\"Toolbar\"},{\"attributes\":{},\"id\":\"10193\",\"type\":\"Selection\"},{\"attributes\":{\"fill_alpha\":{\"value\":0.1},\"fill_color\":{\"value\":\"black\"},\"line_alpha\":{\"value\":0.1},\"size\":{\"units\":\"screen\",\"value\":14},\"x\":{\"field\":\"x\"},\"y\":{\"field\":\"y\"}},\"id\":\"9836\",\"type\":\"Circle\"},{\"attributes\":{\"data\":{\"desc\":[\"SRR6261682\",\"SRR6261684\",\"SRR6261686\",\"SRR6261688\",\"SRR6261690\",\"SRR6261692\",\"SRR6261696\",\"SRR6261702\",\"SRR6261704\",\"SRR6261706\",\"SRR6261708\",\"SRR6261710\",\"SRR6261714\",\"SRR6261716\",\"SRR6261720\",\"SRR6261722\",\"SRR6261724\",\"SRR6261726\"],\"x\":{\"__ndarray__\":\"bFF/milTsb6yuVXCu4qivpad7RIDBLS+a2MpxAJUrr6PPYdPXaG1voR21LMdo7G+gsboZD5gi74UvInivp6wviTfpUY2A6++hHicQz4/qr7P+wyVSvC1vuJDA3Ub77G+SQgj+2I+t74+1VYJtluzvnlFY9dh86u+bYExAUQhnr44QfUrw6itvkmEjCSqx6++\",\"dtype\":\"float64\",\"order\":\"little\",\"shape\":[18]},\"y\":{\"__ndarray__\":\"LpvlD/+roT5ncZ8H5CtyPpRV80HDh1Q+veJ61A//hj7r2Y552GpYPjSYqSSkdXY+cm4aIKNanz6I6rnho1tvPg8MHXhCq3u+HlBSO1fHkz5xQVb9Xh6dPtcYNRilTKE+MY3xSJ4pq770vU+6U+CFPq81vdrcKVe+111nJESemT56p4juVliuPrRMoP0oqWS+\",\"dtype\":\"float64\",\"order\":\"little\",\"shape\":[18]}},\"selected\":{\"id\":\"10193\"},\"selection_policy\":{\"id\":\"10192\"}},\"id\":\"9811\",\"type\":\"ColumnDataSource\"},{\"attributes\":{\"data_source\":{\"id\":\"9810\"},\"glyph\":{\"id\":\"9835\"},\"hover_glyph\":null,\"muted_glyph\":null,\"nonselection_glyph\":{\"id\":\"9836\"},\"selection_glyph\":null,\"view\":{\"id\":\"9838\"}},\"id\":\"9837\",\"type\":\"GlyphRenderer\"},{\"attributes\":{\"callback\":null,\"tooltips\":[[\"index\",\"$index\"],[\"desc\",\"@desc\"]]},\"id\":\"9812\",\"type\":\"HoverTool\"},{\"attributes\":{\"fill_color\":{\"value\":\"black\"},\"size\":{\"units\":\"screen\",\"value\":14},\"x\":{\"field\":\"x\"},\"y\":{\"field\":\"y\"}},\"id\":\"9835\",\"type\":\"Circle\"},{\"attributes\":{\"source\":{\"id\":\"9810\"}},\"id\":\"9838\",\"type\":\"CDSView\"},{\"attributes\":{},\"id\":\"10192\",\"type\":\"UnionRenderers\"},{\"attributes\":{},\"id\":\"9814\",\"type\":\"DataRange1d\"},{\"attributes\":{\"fill_alpha\":{\"value\":0.1},\"fill_color\":{\"value\":\"darkorange\"},\"line_alpha\":{\"value\":0.1},\"line_color\":{\"value\":\"darkorange\"},\"size\":{\"units\":\"screen\",\"value\":16},\"x\":{\"field\":\"x\"},\"y\":{\"field\":\"y\"}},\"id\":\"9841\",\"type\":\"Triangle\"},{\"attributes\":{},\"id\":\"9816\",\"type\":\"DataRange1d\"},{\"attributes\":{\"text\":\"\"},\"id\":\"10184\",\"type\":\"Title\"},{\"attributes\":{},\"id\":\"9818\",\"type\":\"LinearScale\"},{\"attributes\":{\"data_source\":{\"id\":\"9811\"},\"glyph\":{\"id\":\"9840\"},\"hover_glyph\":null,\"muted_glyph\":null,\"nonselection_glyph\":{\"id\":\"9841\"},\"selection_glyph\":null,\"view\":{\"id\":\"9843\"}},\"id\":\"9842\",\"type\":\"GlyphRenderer\"},{\"attributes\":{\"fill_color\":{\"value\":\"darkorange\"},\"line_color\":{\"value\":\"darkorange\"},\"size\":{\"units\":\"screen\",\"value\":16},\"x\":{\"field\":\"x\"},\"y\":{\"field\":\"y\"}},\"id\":\"9840\",\"type\":\"Triangle\"},{\"attributes\":{\"formatter\":{\"id\":\"10187\"},\"ticker\":{\"id\":\"9823\"}},\"id\":\"9822\",\"type\":\"LinearAxis\"},{\"attributes\":{\"source\":{\"id\":\"9811\"}},\"id\":\"9843\",\"type\":\"CDSView\"}],\"root_ids\":[\"9813\"]},\"title\":\"Bokeh Application\",\"version\":\"2.2.3\"}};\n",
       "  var render_items = [{\"docid\":\"ea5e26dd-b7be-4aa2-bf0c-6c5b37469a2d\",\"root_ids\":[\"9813\"],\"roots\":{\"9813\":\"619a13dc-fbce-4e32-87d4-5a1f759479c1\"}}];\n",
       "  root.Bokeh.embed.embed_items_notebook(docs_json, render_items);\n",
       "\n",
       "  }\n",
       "  if (root.Bokeh !== undefined) {\n",
       "    embed_document(root);\n",
       "  } else {\n",
       "    var attempts = 0;\n",
       "    var timer = setInterval(function(root) {\n",
       "      if (root.Bokeh !== undefined) {\n",
       "        clearInterval(timer);\n",
       "        embed_document(root);\n",
       "      } else {\n",
       "        attempts++;\n",
       "        if (attempts > 100) {\n",
       "          clearInterval(timer);\n",
       "          console.log(\"Bokeh: ERROR: Unable to run BokehJS code because BokehJS library is missing\");\n",
       "        }\n",
       "      }\n",
       "    }, 10, root)\n",
       "  }\n",
       "})(window);"
      ],
      "application/vnd.bokehjs_exec.v0+json": ""
     },
     "metadata": {
      "application/vnd.bokehjs_exec.v0+json": {
       "id": "9813"
      }
     },
     "output_type": "display_data"
    }
   ],
   "source": [
    "# q = 9\n",
    "draw_PCA(dfs[8])"
   ]
  },
  {
   "cell_type": "code",
   "execution_count": 50,
   "metadata": {},
   "outputs": [
    {
     "data": {
      "text/html": [
       "\n",
       "\n",
       "\n",
       "\n",
       "\n",
       "\n",
       "  <div class=\"bk-root\" id=\"b182ace0-a616-44fe-9947-2cbdb9ab1df7\" data-root-id=\"10247\"></div>\n"
      ]
     },
     "metadata": {},
     "output_type": "display_data"
    },
    {
     "data": {
      "application/javascript": [
       "(function(root) {\n",
       "  function embed_document(root) {\n",
       "    \n",
       "  var docs_json = {\"448ba00d-ffa3-428c-b88b-c8ce1b36d46a\":{\"roots\":{\"references\":[{\"attributes\":{\"below\":[{\"id\":\"10256\"}],\"center\":[{\"id\":\"10259\"},{\"id\":\"10263\"}],\"left\":[{\"id\":\"10260\"}],\"plot_height\":500,\"plot_width\":550,\"renderers\":[{\"id\":\"10271\"},{\"id\":\"10276\"}],\"title\":{\"id\":\"10628\"},\"toolbar\":{\"id\":\"10265\"},\"x_range\":{\"id\":\"10248\"},\"x_scale\":{\"id\":\"10252\"},\"y_range\":{\"id\":\"10250\"},\"y_scale\":{\"id\":\"10254\"}},\"id\":\"10247\",\"subtype\":\"Figure\",\"type\":\"Plot\"},{\"attributes\":{\"fill_alpha\":{\"value\":0.1},\"fill_color\":{\"value\":\"black\"},\"line_alpha\":{\"value\":0.1},\"size\":{\"units\":\"screen\",\"value\":14},\"x\":{\"field\":\"x\"},\"y\":{\"field\":\"y\"}},\"id\":\"10270\",\"type\":\"Circle\"},{\"attributes\":{\"data_source\":{\"id\":\"10245\"},\"glyph\":{\"id\":\"10274\"},\"hover_glyph\":null,\"muted_glyph\":null,\"nonselection_glyph\":{\"id\":\"10275\"},\"selection_glyph\":null,\"view\":{\"id\":\"10277\"}},\"id\":\"10276\",\"type\":\"GlyphRenderer\"},{\"attributes\":{\"fill_alpha\":{\"value\":0.1},\"fill_color\":{\"value\":\"darkorange\"},\"line_alpha\":{\"value\":0.1},\"line_color\":{\"value\":\"darkorange\"},\"size\":{\"units\":\"screen\",\"value\":16},\"x\":{\"field\":\"x\"},\"y\":{\"field\":\"y\"}},\"id\":\"10275\",\"type\":\"Triangle\"},{\"attributes\":{\"data_source\":{\"id\":\"10244\"},\"glyph\":{\"id\":\"10269\"},\"hover_glyph\":null,\"muted_glyph\":null,\"nonselection_glyph\":{\"id\":\"10270\"},\"selection_glyph\":null,\"view\":{\"id\":\"10272\"}},\"id\":\"10271\",\"type\":\"GlyphRenderer\"},{\"attributes\":{\"data\":{\"desc\":[\"SRR6261728\",\"SRR6261730\",\"SRR6261732\",\"SRR6261734\",\"SRR6261736\",\"SRR6261738\",\"SRR6261740\",\"SRR6261742\",\"SRR6261744\",\"SRR6261746\",\"SRR6261756\",\"SRR6261758\",\"SRR6261761\",\"SRR6261762\",\"SRR6261764\",\"SRR6261766\",\"SRR6261768\",\"SRR6261770\",\"SRR6261773\",\"SRR6261774\"],\"x\":{\"__ndarray__\":\"UlsTMXLslr6k8/1j1MyYvs+0n0caDZi+FjwSg1TCrz6w+4Zq5KySPiCfFQdOVpq+91wdB5r+lz5MZyHQOtK0PtqSTrJTS60+fwLw0am/qz6izULOW1CavoiZY5ji1qo+PvRH7uqIpT4xYNs45F+VPgOfZLro95y+m/DNhurGmb6yu/2+H5SjPszQcMDVVq4+O/3CPtvpqz7/AzmgB4WMPg==\",\"dtype\":\"float64\",\"order\":\"little\",\"shape\":[20]},\"y\":{\"__ndarray__\":\"RAR5zi2Rdz7GAtxKxjVmPkguQUfCDGg+ICUg+nL5WD7qWaelRfVaPquXltwZIUk+CalDUPJkXL79YSNNsTRjvo9dU9vH0y4+AODrlwdOP74rBMWsQbF3PmXhuQqSzzW+5p1jN23PWT6pEFhrt91ePr8i67N6SF0+nHXPSfC7dz44uZW21uh9PmeB6a8hJ2y+ibrlJGk4aL4Or2hjIAhkvg==\",\"dtype\":\"float64\",\"order\":\"little\",\"shape\":[20]}},\"selected\":{\"id\":\"10635\"},\"selection_policy\":{\"id\":\"10634\"}},\"id\":\"10244\",\"type\":\"ColumnDataSource\"},{\"attributes\":{\"fill_color\":{\"value\":\"darkorange\"},\"line_color\":{\"value\":\"darkorange\"},\"size\":{\"units\":\"screen\",\"value\":16},\"x\":{\"field\":\"x\"},\"y\":{\"field\":\"y\"}},\"id\":\"10274\",\"type\":\"Triangle\"},{\"attributes\":{\"source\":{\"id\":\"10245\"}},\"id\":\"10277\",\"type\":\"CDSView\"},{\"attributes\":{\"active_drag\":\"auto\",\"active_inspect\":\"auto\",\"active_multi\":null,\"active_scroll\":\"auto\",\"active_tap\":\"auto\",\"tools\":[{\"id\":\"10246\"},{\"id\":\"10264\"}]},\"id\":\"10265\",\"type\":\"Toolbar\"},{\"attributes\":{\"data\":{\"desc\":[\"SRR6261682\",\"SRR6261684\",\"SRR6261686\",\"SRR6261688\",\"SRR6261690\",\"SRR6261692\",\"SRR6261696\",\"SRR6261702\",\"SRR6261704\",\"SRR6261706\",\"SRR6261708\",\"SRR6261710\",\"SRR6261714\",\"SRR6261716\",\"SRR6261720\",\"SRR6261722\",\"SRR6261724\",\"SRR6261726\"],\"x\":{\"__ndarray__\":\"LxszGwWInL79rJ/a/4KavrD5fq6o7pi+kTjFSPSnnr4ANvB9CKuavqd3kEPnq5i+f3mTofKfmj7NsV+RkPyZvl24EU2OfZm+R3PlK+GPmL4ygIqUX7CZvpX4Q7XFFpm+PgiKA9G9mr4QQsnKD0WUvku/nUWPCZq+IFZilQN9mb4uDv5d3WuYvgS3xve+T5u+\",\"dtype\":\"float64\",\"order\":\"little\",\"shape\":[18]},\"y\":{\"__ndarray__\":\"nriiKYOrXb5ELumXpadqvkB+s6HJEWK+IsbcKLlsPr6vDxMEk4hYPqUazAwZvla+CV+VN+BxYz7SSf8dBudWvnShzw509Fm+3AT/GjN3Wr4rWzXALh9bvrMLiHREo2K+MzmCFn1FYL79jfxqcposvn2smYJLvGS+1tvNn/94Zr4V9mGM6opdvkDK/rhZ2me+\",\"dtype\":\"float64\",\"order\":\"little\",\"shape\":[18]}},\"selected\":{\"id\":\"10637\"},\"selection_policy\":{\"id\":\"10636\"}},\"id\":\"10245\",\"type\":\"ColumnDataSource\"},{\"attributes\":{\"source\":{\"id\":\"10244\"}},\"id\":\"10272\",\"type\":\"CDSView\"},{\"attributes\":{},\"id\":\"10635\",\"type\":\"Selection\"},{\"attributes\":{},\"id\":\"10250\",\"type\":\"DataRange1d\"},{\"attributes\":{},\"id\":\"10636\",\"type\":\"UnionRenderers\"},{\"attributes\":{},\"id\":\"10252\",\"type\":\"LinearScale\"},{\"attributes\":{},\"id\":\"10631\",\"type\":\"BasicTickFormatter\"},{\"attributes\":{},\"id\":\"10248\",\"type\":\"DataRange1d\"},{\"attributes\":{},\"id\":\"10254\",\"type\":\"LinearScale\"},{\"attributes\":{},\"id\":\"10633\",\"type\":\"BasicTickFormatter\"},{\"attributes\":{\"axis\":{\"id\":\"10260\"},\"dimension\":1,\"ticker\":null},\"id\":\"10263\",\"type\":\"Grid\"},{\"attributes\":{},\"id\":\"10634\",\"type\":\"UnionRenderers\"},{\"attributes\":{\"formatter\":{\"id\":\"10633\"},\"ticker\":{\"id\":\"10261\"}},\"id\":\"10260\",\"type\":\"LinearAxis\"},{\"attributes\":{},\"id\":\"10637\",\"type\":\"Selection\"},{\"attributes\":{},\"id\":\"10261\",\"type\":\"BasicTicker\"},{\"attributes\":{\"axis\":{\"id\":\"10256\"},\"ticker\":null},\"id\":\"10259\",\"type\":\"Grid\"},{\"attributes\":{\"formatter\":{\"id\":\"10631\"},\"ticker\":{\"id\":\"10257\"}},\"id\":\"10256\",\"type\":\"LinearAxis\"},{\"attributes\":{},\"id\":\"10257\",\"type\":\"BasicTicker\"},{\"attributes\":{},\"id\":\"10264\",\"type\":\"SaveTool\"},{\"attributes\":{\"text\":\"\"},\"id\":\"10628\",\"type\":\"Title\"},{\"attributes\":{\"fill_color\":{\"value\":\"black\"},\"size\":{\"units\":\"screen\",\"value\":14},\"x\":{\"field\":\"x\"},\"y\":{\"field\":\"y\"}},\"id\":\"10269\",\"type\":\"Circle\"},{\"attributes\":{\"callback\":null,\"tooltips\":[[\"index\",\"$index\"],[\"desc\",\"@desc\"]]},\"id\":\"10246\",\"type\":\"HoverTool\"}],\"root_ids\":[\"10247\"]},\"title\":\"Bokeh Application\",\"version\":\"2.2.3\"}};\n",
       "  var render_items = [{\"docid\":\"448ba00d-ffa3-428c-b88b-c8ce1b36d46a\",\"root_ids\":[\"10247\"],\"roots\":{\"10247\":\"b182ace0-a616-44fe-9947-2cbdb9ab1df7\"}}];\n",
       "  root.Bokeh.embed.embed_items_notebook(docs_json, render_items);\n",
       "\n",
       "  }\n",
       "  if (root.Bokeh !== undefined) {\n",
       "    embed_document(root);\n",
       "  } else {\n",
       "    var attempts = 0;\n",
       "    var timer = setInterval(function(root) {\n",
       "      if (root.Bokeh !== undefined) {\n",
       "        clearInterval(timer);\n",
       "        embed_document(root);\n",
       "      } else {\n",
       "        attempts++;\n",
       "        if (attempts > 100) {\n",
       "          clearInterval(timer);\n",
       "          console.log(\"Bokeh: ERROR: Unable to run BokehJS code because BokehJS library is missing\");\n",
       "        }\n",
       "      }\n",
       "    }, 10, root)\n",
       "  }\n",
       "})(window);"
      ],
      "application/vnd.bokehjs_exec.v0+json": ""
     },
     "metadata": {
      "application/vnd.bokehjs_exec.v0+json": {
       "id": "10247"
      }
     },
     "output_type": "display_data"
    }
   ],
   "source": [
    "# q = 10\n",
    "draw_PCA(dfs[9])"
   ]
  },
  {
   "cell_type": "code",
   "execution_count": 51,
   "metadata": {},
   "outputs": [
    {
     "data": {
      "text/html": [
       "\n",
       "\n",
       "\n",
       "\n",
       "\n",
       "\n",
       "  <div class=\"bk-root\" id=\"e4a547ae-77e5-4ab9-8cb8-0e9b6b3946b8\" data-root-id=\"10691\"></div>\n"
      ]
     },
     "metadata": {},
     "output_type": "display_data"
    },
    {
     "data": {
      "application/javascript": [
       "(function(root) {\n",
       "  function embed_document(root) {\n",
       "    \n",
       "  var docs_json = {\"91be7b50-21bf-4a1e-8819-d01c7ae51aad\":{\"roots\":{\"references\":[{\"attributes\":{\"below\":[{\"id\":\"10700\"}],\"center\":[{\"id\":\"10703\"},{\"id\":\"10707\"}],\"left\":[{\"id\":\"10704\"}],\"plot_height\":500,\"plot_width\":550,\"renderers\":[{\"id\":\"10715\"},{\"id\":\"10720\"}],\"title\":{\"id\":\"11082\"},\"toolbar\":{\"id\":\"10709\"},\"x_range\":{\"id\":\"10692\"},\"x_scale\":{\"id\":\"10696\"},\"y_range\":{\"id\":\"10694\"},\"y_scale\":{\"id\":\"10698\"}},\"id\":\"10691\",\"subtype\":\"Figure\",\"type\":\"Plot\"},{\"attributes\":{\"axis\":{\"id\":\"10704\"},\"dimension\":1,\"ticker\":null},\"id\":\"10707\",\"type\":\"Grid\"},{\"attributes\":{\"active_drag\":\"auto\",\"active_inspect\":\"auto\",\"active_multi\":null,\"active_scroll\":\"auto\",\"active_tap\":\"auto\",\"tools\":[{\"id\":\"10690\"},{\"id\":\"10708\"}]},\"id\":\"10709\",\"type\":\"Toolbar\"},{\"attributes\":{},\"id\":\"10708\",\"type\":\"SaveTool\"},{\"attributes\":{},\"id\":\"11087\",\"type\":\"BasicTickFormatter\"},{\"attributes\":{},\"id\":\"11089\",\"type\":\"Selection\"},{\"attributes\":{\"fill_alpha\":{\"value\":0.1},\"fill_color\":{\"value\":\"black\"},\"line_alpha\":{\"value\":0.1},\"size\":{\"units\":\"screen\",\"value\":14},\"x\":{\"field\":\"x\"},\"y\":{\"field\":\"y\"}},\"id\":\"10714\",\"type\":\"Circle\"},{\"attributes\":{\"data_source\":{\"id\":\"10688\"},\"glyph\":{\"id\":\"10713\"},\"hover_glyph\":null,\"muted_glyph\":null,\"nonselection_glyph\":{\"id\":\"10714\"},\"selection_glyph\":null,\"view\":{\"id\":\"10716\"}},\"id\":\"10715\",\"type\":\"GlyphRenderer\"},{\"attributes\":{},\"id\":\"10698\",\"type\":\"LinearScale\"},{\"attributes\":{},\"id\":\"10705\",\"type\":\"BasicTicker\"},{\"attributes\":{\"text\":\"\"},\"id\":\"11082\",\"type\":\"Title\"},{\"attributes\":{\"fill_color\":{\"value\":\"black\"},\"size\":{\"units\":\"screen\",\"value\":14},\"x\":{\"field\":\"x\"},\"y\":{\"field\":\"y\"}},\"id\":\"10713\",\"type\":\"Circle\"},{\"attributes\":{\"source\":{\"id\":\"10688\"}},\"id\":\"10716\",\"type\":\"CDSView\"},{\"attributes\":{},\"id\":\"11090\",\"type\":\"UnionRenderers\"},{\"attributes\":{\"callback\":null,\"tooltips\":[[\"index\",\"$index\"],[\"desc\",\"@desc\"]]},\"id\":\"10690\",\"type\":\"HoverTool\"},{\"attributes\":{},\"id\":\"11088\",\"type\":\"UnionRenderers\"},{\"attributes\":{\"data_source\":{\"id\":\"10689\"},\"glyph\":{\"id\":\"10718\"},\"hover_glyph\":null,\"muted_glyph\":null,\"nonselection_glyph\":{\"id\":\"10719\"},\"selection_glyph\":null,\"view\":{\"id\":\"10721\"}},\"id\":\"10720\",\"type\":\"GlyphRenderer\"},{\"attributes\":{\"fill_alpha\":{\"value\":0.1},\"fill_color\":{\"value\":\"darkorange\"},\"line_alpha\":{\"value\":0.1},\"line_color\":{\"value\":\"darkorange\"},\"size\":{\"units\":\"screen\",\"value\":16},\"x\":{\"field\":\"x\"},\"y\":{\"field\":\"y\"}},\"id\":\"10719\",\"type\":\"Triangle\"},{\"attributes\":{\"data\":{\"desc\":[\"SRR6261682\",\"SRR6261684\",\"SRR6261686\",\"SRR6261688\",\"SRR6261690\",\"SRR6261692\",\"SRR6261696\",\"SRR6261702\",\"SRR6261704\",\"SRR6261706\",\"SRR6261708\",\"SRR6261710\",\"SRR6261714\",\"SRR6261716\",\"SRR6261720\",\"SRR6261722\",\"SRR6261724\",\"SRR6261726\"],\"x\":{\"__ndarray__\":\"u3P3CrCp9T3bXlBrO3s5Puoph0R47yE+aeadRg9TGr6EGozOAo7yPaM6KU2Yfzo+mZ0Nw/avMT6wsCNhIEPyPZTCCDt9ViU+tc8NXpy/NT4225Fyb08SPhCITfwoxyE+tqf1OSFUBz4EzdZUZgoZPtuIebZ4gx2+M3/tEBNrHT7Ev4DLFu83Pvy83V+AeBU+\",\"dtype\":\"float64\",\"order\":\"little\",\"shape\":[18]},\"y\":{\"__ndarray__\":\"Fa7WcGCMJD40UuB1ogwXvgnNp4JmcB8+HbFqdnUYJT70+9LOKm8TPrg7PUQjrxS+hOIIs2QYHz4OoPSYXDIBvoNdIAqZj/S9bxVf4nbF/L1krGPE/L/6PaHxBa48GPO9hb6OaZjvID5E4fOANSsjPmC9JJ82vho+2ELeTc6Y+T0bJUXQdBkXvts8mG7GSSK+\",\"dtype\":\"float64\",\"order\":\"little\",\"shape\":[18]}},\"selected\":{\"id\":\"11091\"},\"selection_policy\":{\"id\":\"11090\"}},\"id\":\"10689\",\"type\":\"ColumnDataSource\"},{\"attributes\":{\"fill_color\":{\"value\":\"darkorange\"},\"line_color\":{\"value\":\"darkorange\"},\"size\":{\"units\":\"screen\",\"value\":16},\"x\":{\"field\":\"x\"},\"y\":{\"field\":\"y\"}},\"id\":\"10718\",\"type\":\"Triangle\"},{\"attributes\":{\"source\":{\"id\":\"10689\"}},\"id\":\"10721\",\"type\":\"CDSView\"},{\"attributes\":{},\"id\":\"10696\",\"type\":\"LinearScale\"},{\"attributes\":{},\"id\":\"10701\",\"type\":\"BasicTicker\"},{\"attributes\":{\"formatter\":{\"id\":\"11087\"},\"ticker\":{\"id\":\"10705\"}},\"id\":\"10704\",\"type\":\"LinearAxis\"},{\"attributes\":{\"axis\":{\"id\":\"10700\"},\"ticker\":null},\"id\":\"10703\",\"type\":\"Grid\"},{\"attributes\":{},\"id\":\"10694\",\"type\":\"DataRange1d\"},{\"attributes\":{},\"id\":\"11091\",\"type\":\"Selection\"},{\"attributes\":{},\"id\":\"11085\",\"type\":\"BasicTickFormatter\"},{\"attributes\":{},\"id\":\"10692\",\"type\":\"DataRange1d\"},{\"attributes\":{\"data\":{\"desc\":[\"SRR6261728\",\"SRR6261730\",\"SRR6261732\",\"SRR6261734\",\"SRR6261736\",\"SRR6261738\",\"SRR6261740\",\"SRR6261742\",\"SRR6261744\",\"SRR6261746\",\"SRR6261756\",\"SRR6261758\",\"SRR6261761\",\"SRR6261762\",\"SRR6261764\",\"SRR6261766\",\"SRR6261768\",\"SRR6261770\",\"SRR6261773\",\"SRR6261774\"],\"x\":{\"__ndarray__\":\"gerpEpb1Hr5+Yx+V6cUwvnqWzy4CSRC+W2479UK09r33FZ4MnPwlvm+nAxJUONu9RKp52ncBFL511/4vcIoAvnk1dZghPhm+26bXqS3NML7t540iq9YBvs+QxCtXNDG+ok2WevJsH76OVmNkw9IQvhZ8HRGL4Sy+9eMfPsBJIL5vGOjcFOkovhjJZ3Gm8CO+fhUW8hPZI765uhQoUBsAvg==\",\"dtype\":\"float64\",\"order\":\"little\",\"shape\":[20]},\"y\":{\"__ndarray__\":\"GS9f8mRUEb4EHBn1w0AVvmkzfVYPlhM+2vutBr+O/z248Kr4dZ39ve3vw1sI5LI9EnKasRJkA769dRPyew8fvqeALODo4RW+iyJam3woFb44mKzPB/wgvtIeFfnUwfa9JHkDEEmyBL7udRui7zf9vWYjlCt4nwW+RVqA6umMCj401ocyDTDHPZCsjElJfBo+X/1lS5stDL52qXF1L8XxvQ==\",\"dtype\":\"float64\",\"order\":\"little\",\"shape\":[20]}},\"selected\":{\"id\":\"11089\"},\"selection_policy\":{\"id\":\"11088\"}},\"id\":\"10688\",\"type\":\"ColumnDataSource\"},{\"attributes\":{\"formatter\":{\"id\":\"11085\"},\"ticker\":{\"id\":\"10701\"}},\"id\":\"10700\",\"type\":\"LinearAxis\"}],\"root_ids\":[\"10691\"]},\"title\":\"Bokeh Application\",\"version\":\"2.2.3\"}};\n",
       "  var render_items = [{\"docid\":\"91be7b50-21bf-4a1e-8819-d01c7ae51aad\",\"root_ids\":[\"10691\"],\"roots\":{\"10691\":\"e4a547ae-77e5-4ab9-8cb8-0e9b6b3946b8\"}}];\n",
       "  root.Bokeh.embed.embed_items_notebook(docs_json, render_items);\n",
       "\n",
       "  }\n",
       "  if (root.Bokeh !== undefined) {\n",
       "    embed_document(root);\n",
       "  } else {\n",
       "    var attempts = 0;\n",
       "    var timer = setInterval(function(root) {\n",
       "      if (root.Bokeh !== undefined) {\n",
       "        clearInterval(timer);\n",
       "        embed_document(root);\n",
       "      } else {\n",
       "        attempts++;\n",
       "        if (attempts > 100) {\n",
       "          clearInterval(timer);\n",
       "          console.log(\"Bokeh: ERROR: Unable to run BokehJS code because BokehJS library is missing\");\n",
       "        }\n",
       "      }\n",
       "    }, 10, root)\n",
       "  }\n",
       "})(window);"
      ],
      "application/vnd.bokehjs_exec.v0+json": ""
     },
     "metadata": {
      "application/vnd.bokehjs_exec.v0+json": {
       "id": "10691"
      }
     },
     "output_type": "display_data"
    }
   ],
   "source": [
    "# q = 11\n",
    "draw_PCA(dfs[10])"
   ]
  },
  {
   "cell_type": "code",
   "execution_count": 64,
   "metadata": {},
   "outputs": [
    {
     "data": {
      "text/html": [
       "\n",
       "\n",
       "\n",
       "\n",
       "\n",
       "\n",
       "  <div class=\"bk-root\" id=\"48cc666b-27e2-4540-8bc5-71f62a9710f8\" data-root-id=\"11611\"></div>\n"
      ]
     },
     "metadata": {},
     "output_type": "display_data"
    },
    {
     "data": {
      "application/javascript": [
       "(function(root) {\n",
       "  function embed_document(root) {\n",
       "    \n",
       "  var docs_json = {\"e34167f7-2f5a-42ed-a8d3-ce55bedbe75a\":{\"roots\":{\"references\":[{\"attributes\":{\"below\":[{\"id\":\"11620\"}],\"center\":[{\"id\":\"11623\"},{\"id\":\"11627\"}],\"left\":[{\"id\":\"11624\"}],\"plot_height\":500,\"plot_width\":550,\"renderers\":[{\"id\":\"11635\"},{\"id\":\"11640\"}],\"title\":{\"id\":\"12022\"},\"toolbar\":{\"id\":\"11629\"},\"x_range\":{\"id\":\"11612\"},\"x_scale\":{\"id\":\"11616\"},\"y_range\":{\"id\":\"11614\"},\"y_scale\":{\"id\":\"11618\"}},\"id\":\"11611\",\"subtype\":\"Figure\",\"type\":\"Plot\"},{\"attributes\":{},\"id\":\"11618\",\"type\":\"LinearScale\"},{\"attributes\":{},\"id\":\"11621\",\"type\":\"BasicTicker\"},{\"attributes\":{\"fill_alpha\":{\"value\":0.1},\"fill_color\":{\"value\":\"darkorange\"},\"line_alpha\":{\"value\":0.1},\"line_color\":{\"value\":\"darkorange\"},\"size\":{\"units\":\"screen\",\"value\":16},\"x\":{\"field\":\"x\"},\"y\":{\"field\":\"y\"}},\"id\":\"11639\",\"type\":\"Triangle\"},{\"attributes\":{\"fill_alpha\":{\"value\":0.1},\"fill_color\":{\"value\":\"black\"},\"line_alpha\":{\"value\":0.1},\"size\":{\"units\":\"screen\",\"value\":14},\"x\":{\"field\":\"x\"},\"y\":{\"field\":\"y\"}},\"id\":\"11634\",\"type\":\"Circle\"},{\"attributes\":{\"active_drag\":\"auto\",\"active_inspect\":\"auto\",\"active_multi\":null,\"active_scroll\":\"auto\",\"active_tap\":\"auto\",\"tools\":[{\"id\":\"11610\"},{\"id\":\"11628\"}]},\"id\":\"11629\",\"type\":\"Toolbar\"},{\"attributes\":{},\"id\":\"11628\",\"type\":\"SaveTool\"},{\"attributes\":{\"fill_color\":{\"value\":\"darkorange\"},\"line_color\":{\"value\":\"darkorange\"},\"size\":{\"units\":\"screen\",\"value\":16},\"x\":{\"field\":\"x\"},\"y\":{\"field\":\"y\"}},\"id\":\"11638\",\"type\":\"Triangle\"},{\"attributes\":{},\"id\":\"11616\",\"type\":\"LinearScale\"},{\"attributes\":{\"text\":\"\"},\"id\":\"12022\",\"type\":\"Title\"},{\"attributes\":{\"callback\":null,\"tooltips\":[[\"index\",\"$index\"],[\"desc\",\"@desc\"]]},\"id\":\"11610\",\"type\":\"HoverTool\"},{\"attributes\":{},\"id\":\"12031\",\"type\":\"Selection\"},{\"attributes\":{\"formatter\":{\"id\":\"12025\"},\"ticker\":{\"id\":\"11621\"}},\"id\":\"11620\",\"type\":\"LinearAxis\"},{\"attributes\":{\"formatter\":{\"id\":\"12027\"},\"ticker\":{\"id\":\"11625\"}},\"id\":\"11624\",\"type\":\"LinearAxis\"},{\"attributes\":{},\"id\":\"11614\",\"type\":\"DataRange1d\"},{\"attributes\":{\"data_source\":{\"id\":\"11609\"},\"glyph\":{\"id\":\"11638\"},\"hover_glyph\":null,\"muted_glyph\":null,\"nonselection_glyph\":{\"id\":\"11639\"},\"selection_glyph\":null,\"view\":{\"id\":\"11641\"}},\"id\":\"11640\",\"type\":\"GlyphRenderer\"},{\"attributes\":{},\"id\":\"11612\",\"type\":\"DataRange1d\"},{\"attributes\":{\"fill_color\":{\"value\":\"black\"},\"size\":{\"units\":\"screen\",\"value\":14},\"x\":{\"field\":\"x\"},\"y\":{\"field\":\"y\"}},\"id\":\"11633\",\"type\":\"Circle\"},{\"attributes\":{\"data\":{\"desc\":[\"SRR6261682\",\"SRR6261684\",\"SRR6261686\",\"SRR6261688\",\"SRR6261690\",\"SRR6261692\",\"SRR6261696\",\"SRR6261702\",\"SRR6261704\",\"SRR6261706\",\"SRR6261708\",\"SRR6261710\",\"SRR6261714\",\"SRR6261716\",\"SRR6261720\",\"SRR6261722\",\"SRR6261724\"],\"x\":{\"__ndarray__\":\"PfSTf9YLrD4rtE/ud2vAPvevr+Xjg8I+ZYPI/xfUwD5RdyvQpoqmvs18dV/s/ME+4ZGZEBI2p75fs6JaxzbIPt4AzJ6r6MI+dTi1mxZTuD4FmMGTxzbIPg38KINiUKg+Sr3vo8c2yD57yVGtgG3CPjHUbfplE7k+MCyamRLzqD5t5syExzbIPg==\",\"dtype\":\"float64\",\"order\":\"little\",\"shape\":[17]},\"y\":{\"__ndarray__\":\"KY0UgCtRq77VSRP3Y8KyPu1hPIBSgbK+E8k1kuw/hz6jqAM7qAa+vkb3aFYxxJc+OIOofe+ruT7Papbbi8wtPrjkLvwJObG+75Ho0kGAtT4Oax/Sp8wtPpV7HX0sube+HvUktbfMLT76+hEPkQavPivvPCDi8ry+cDNlTYzqwT4TZPfcocwtPg==\",\"dtype\":\"float64\",\"order\":\"little\",\"shape\":[17]}},\"selected\":{\"id\":\"12031\"},\"selection_policy\":{\"id\":\"12030\"}},\"id\":\"11609\",\"type\":\"ColumnDataSource\"},{\"attributes\":{},\"id\":\"12030\",\"type\":\"UnionRenderers\"},{\"attributes\":{},\"id\":\"11625\",\"type\":\"BasicTicker\"},{\"attributes\":{},\"id\":\"12025\",\"type\":\"BasicTickFormatter\"},{\"attributes\":{\"data_source\":{\"id\":\"11608\"},\"glyph\":{\"id\":\"11633\"},\"hover_glyph\":null,\"muted_glyph\":null,\"nonselection_glyph\":{\"id\":\"11634\"},\"selection_glyph\":null,\"view\":{\"id\":\"11636\"}},\"id\":\"11635\",\"type\":\"GlyphRenderer\"},{\"attributes\":{\"axis\":{\"id\":\"11620\"},\"ticker\":null},\"id\":\"11623\",\"type\":\"Grid\"},{\"attributes\":{\"source\":{\"id\":\"11608\"}},\"id\":\"11636\",\"type\":\"CDSView\"},{\"attributes\":{},\"id\":\"12027\",\"type\":\"BasicTickFormatter\"},{\"attributes\":{\"data\":{\"desc\":[\"SRR6261728\",\"SRR6261730\",\"SRR6261732\",\"SRR6261734\",\"SRR6261736\",\"SRR6261738\",\"SRR6261740\",\"SRR6261742\",\"SRR6261744\",\"SRR6261746\",\"SRR6261756\",\"SRR6261758\",\"SRR6261761\",\"SRR6261762\",\"SRR6261764\",\"SRR6261766\"],\"x\":{\"__ndarray__\":\"iT7vyfgnwb4s1EyhkjmqvhfmycdcY8G+h1spJmHqwb7lh2M4Lfe4vifBGmf9mri+u4FboHZzwr6IfN73TSLBvsVUXYBwDsG+hEqcPZG3wL604wg8SErDvpYKa6bLara+9Tc2v4DZqb4EljPDZcPGvv3H3wBzgsG+0nKpHL6OqL4=\",\"dtype\":\"float64\",\"order\":\"little\",\"shape\":[16]},\"y\":{\"__ndarray__\":\"PAE62ctsZb49sKAPsOCyvsYroDo6jmW+j5KcCjvaZb6/wzXRfUmiPilOnvKqMqI+Uoc5sWUnZr6dzPLMmmllvlijOyptXmW+KKtZRootZb4rndmBUKBmvrSjIKuaBK6+GxIdDfaStT6Hscrby5RovvvLOrC4n2W+Z4B2jeuomj4=\",\"dtype\":\"float64\",\"order\":\"little\",\"shape\":[16]}},\"selected\":{\"id\":\"12029\"},\"selection_policy\":{\"id\":\"12028\"}},\"id\":\"11608\",\"type\":\"ColumnDataSource\"},{\"attributes\":{\"source\":{\"id\":\"11609\"}},\"id\":\"11641\",\"type\":\"CDSView\"},{\"attributes\":{\"axis\":{\"id\":\"11624\"},\"dimension\":1,\"ticker\":null},\"id\":\"11627\",\"type\":\"Grid\"},{\"attributes\":{},\"id\":\"12029\",\"type\":\"Selection\"},{\"attributes\":{},\"id\":\"12028\",\"type\":\"UnionRenderers\"}],\"root_ids\":[\"11611\"]},\"title\":\"Bokeh Application\",\"version\":\"2.2.3\"}};\n",
       "  var render_items = [{\"docid\":\"e34167f7-2f5a-42ed-a8d3-ce55bedbe75a\",\"root_ids\":[\"11611\"],\"roots\":{\"11611\":\"48cc666b-27e2-4540-8bc5-71f62a9710f8\"}}];\n",
       "  root.Bokeh.embed.embed_items_notebook(docs_json, render_items);\n",
       "\n",
       "  }\n",
       "  if (root.Bokeh !== undefined) {\n",
       "    embed_document(root);\n",
       "  } else {\n",
       "    var attempts = 0;\n",
       "    var timer = setInterval(function(root) {\n",
       "      if (root.Bokeh !== undefined) {\n",
       "        clearInterval(timer);\n",
       "        embed_document(root);\n",
       "      } else {\n",
       "        attempts++;\n",
       "        if (attempts > 100) {\n",
       "          clearInterval(timer);\n",
       "          console.log(\"Bokeh: ERROR: Unable to run BokehJS code because BokehJS library is missing\");\n",
       "        }\n",
       "      }\n",
       "    }, 10, root)\n",
       "  }\n",
       "})(window);"
      ],
      "application/vnd.bokehjs_exec.v0+json": ""
     },
     "metadata": {
      "application/vnd.bokehjs_exec.v0+json": {
       "id": "11611"
      }
     },
     "output_type": "display_data"
    }
   ],
   "source": [
    "# q = 12\n",
    "draw_PCA(dfs[11])"
   ]
  },
  {
   "cell_type": "code",
   "execution_count": 19,
   "metadata": {},
   "outputs": [
    {
     "data": {
      "text/html": [
       "\n",
       "\n",
       "\n",
       "\n",
       "\n",
       "\n",
       "  <div class=\"bk-root\" id=\"0a156e80-41fe-4050-bcc0-1577ec2e4f4c\" data-root-id=\"2793\"></div>\n"
      ]
     },
     "metadata": {},
     "output_type": "display_data"
    },
    {
     "data": {
      "application/javascript": [
       "(function(root) {\n",
       "  function embed_document(root) {\n",
       "    \n",
       "  var docs_json = {\"c8e31df4-ba66-4c1b-a51c-832a34ed315c\":{\"roots\":{\"references\":[{\"attributes\":{\"below\":[{\"id\":\"2802\"}],\"center\":[{\"id\":\"2805\"},{\"id\":\"2809\"}],\"left\":[{\"id\":\"2806\"}],\"plot_height\":500,\"plot_width\":550,\"renderers\":[{\"id\":\"2817\"},{\"id\":\"2822\"}],\"title\":{\"id\":\"2944\"},\"toolbar\":{\"id\":\"2811\"},\"x_range\":{\"id\":\"2794\"},\"x_scale\":{\"id\":\"2798\"},\"y_range\":{\"id\":\"2796\"},\"y_scale\":{\"id\":\"2800\"}},\"id\":\"2793\",\"subtype\":\"Figure\",\"type\":\"Plot\"},{\"attributes\":{\"source\":{\"id\":\"2791\"}},\"id\":\"2823\",\"type\":\"CDSView\"},{\"attributes\":{\"source\":{\"id\":\"2790\"}},\"id\":\"2818\",\"type\":\"CDSView\"},{\"attributes\":{},\"id\":\"2798\",\"type\":\"LinearScale\"},{\"attributes\":{},\"id\":\"2949\",\"type\":\"BasicTickFormatter\"},{\"attributes\":{},\"id\":\"2952\",\"type\":\"UnionRenderers\"},{\"attributes\":{\"fill_alpha\":{\"value\":0.1},\"fill_color\":{\"value\":\"darkorange\"},\"line_alpha\":{\"value\":0.1},\"line_color\":{\"value\":\"darkorange\"},\"size\":{\"units\":\"screen\",\"value\":16},\"x\":{\"field\":\"x\"},\"y\":{\"field\":\"y\"}},\"id\":\"2821\",\"type\":\"Triangle\"},{\"attributes\":{\"callback\":null,\"tooltips\":[[\"index\",\"$index\"],[\"desc\",\"@desc\"]]},\"id\":\"2792\",\"type\":\"HoverTool\"},{\"attributes\":{\"data\":{\"desc\":[\"SRR6261682\",\"SRR6261684\",\"SRR6261686\",\"SRR6261688\",\"SRR6261690\",\"SRR6261692\",\"SRR6261696\",\"SRR6261702\",\"SRR6261704\",\"SRR6261706\",\"SRR6261708\",\"SRR6261710\",\"SRR6261714\",\"SRR6261716\",\"SRR6261720\",\"SRR6261722\",\"SRR6261724\",\"SRR6261726\"],\"x\":{\"__ndarray__\":\"l8Cz1/kHYD7AHF3JCLJgPo2r6wqsTGA+mLZdbi9TWD4oVU1iz7xXPlaqgDRZSmA++ciMn2EKYD6BFSfFJkVgPiHehnRW+VY+HAxELepCWD48nTTwvLkzvtQMKYnVNyw+z1enkbP9Vj6tj34KzjlgPuRlxMDoVmA+8iMd3ytSYD7X44yP6WJXPhrzfbsyk2A+\",\"dtype\":\"float64\",\"order\":\"little\",\"shape\":[18]},\"y\":{\"__ndarray__\":\"2LvoAc3RFr5jMsEQO4AMvk7eY9SiWxO+SbvnHsWoQr5w+6qJZMtCvmu4mXKZeRO+PGLEc6iyFr5XP05gprwTvp/goC+OrTE+bkZLVYSsQr6P1Tnzp249PrQLg2Uz3U8+mClIHyvDMT61OE4eAE8Uvvi1qlGQ1xK+D0BZwLUUE76TaeopPL0zPnuGDim2mw++\",\"dtype\":\"float64\",\"order\":\"little\",\"shape\":[18]}},\"selected\":{\"id\":\"2953\"},\"selection_policy\":{\"id\":\"2952\"}},\"id\":\"2791\",\"type\":\"ColumnDataSource\"},{\"attributes\":{},\"id\":\"2794\",\"type\":\"DataRange1d\"},{\"attributes\":{\"fill_color\":{\"value\":\"darkorange\"},\"line_color\":{\"value\":\"darkorange\"},\"size\":{\"units\":\"screen\",\"value\":16},\"x\":{\"field\":\"x\"},\"y\":{\"field\":\"y\"}},\"id\":\"2820\",\"type\":\"Triangle\"},{\"attributes\":{},\"id\":\"2951\",\"type\":\"Selection\"},{\"attributes\":{},\"id\":\"2953\",\"type\":\"Selection\"},{\"attributes\":{},\"id\":\"2796\",\"type\":\"DataRange1d\"},{\"attributes\":{},\"id\":\"2810\",\"type\":\"SaveTool\"},{\"attributes\":{\"formatter\":{\"id\":\"2949\"},\"ticker\":{\"id\":\"2807\"}},\"id\":\"2806\",\"type\":\"LinearAxis\"},{\"attributes\":{},\"id\":\"2803\",\"type\":\"BasicTicker\"},{\"attributes\":{\"fill_color\":{\"value\":\"black\"},\"size\":{\"units\":\"screen\",\"value\":14},\"x\":{\"field\":\"x\"},\"y\":{\"field\":\"y\"}},\"id\":\"2815\",\"type\":\"Circle\"},{\"attributes\":{},\"id\":\"2807\",\"type\":\"BasicTicker\"},{\"attributes\":{\"axis\":{\"id\":\"2802\"},\"ticker\":null},\"id\":\"2805\",\"type\":\"Grid\"},{\"attributes\":{\"data_source\":{\"id\":\"2790\"},\"glyph\":{\"id\":\"2815\"},\"hover_glyph\":null,\"muted_glyph\":null,\"nonselection_glyph\":{\"id\":\"2816\"},\"selection_glyph\":null,\"view\":{\"id\":\"2818\"}},\"id\":\"2817\",\"type\":\"GlyphRenderer\"},{\"attributes\":{\"data\":{\"desc\":[\"SRR6261728\",\"SRR6261730\",\"SRR6261732\",\"SRR6261734\",\"SRR6261736\",\"SRR6261738\",\"SRR6261740\",\"SRR6261742\",\"SRR6261744\",\"SRR6261746\",\"SRR6261756\",\"SRR6261758\",\"SRR6261761\",\"SRR6261762\",\"SRR6261764\",\"SRR6261766\",\"SRR6261768\",\"SRR6261770\",\"SRR6261773\",\"SRR6261774\"],\"x\":{\"__ndarray__\":\"maW7zVa1VL6rAHpJnyBKvmD74EyclDK+r/d9x5MsVr7wqKitmuFVvkHJkYjMLFa+GWQfwv9TVb7i5KDLh85dvr9m7mMie16+HHZMLpg2Xr4Y/fpHIo5WvhVxoeP/7kq+BzaA/GX8VL5pBmJ/qLZVvvLwO9d2xF2+CHVfmUNWXb4TJRMbw61VvizV4bonGF6+EurNn8i3Xb6st28fiqdevg==\",\"dtype\":\"float64\",\"order\":\"little\",\"shape\":[20]},\"y\":{\"__ndarray__\":\"qGJwOvQ1RD6olLlCmGNTPj1PFUShMlw+E3jfIjSZTb5UBGIZW4dNvnfN1lQHakY+E0cbb6VlTb6EHd7T0MYnvmXmqfFwlia+WfxXOU4PJ74eIJktQ/xGPrAOP1omvTi+4OV/oTqXNT4OdVkhNkc3PgvA0laK2Ce+PCD1Qt+aKL67YNlOA3tNvsgEf9/5RCe+E5T2f+ruJ76pPMwbI0gmvg==\",\"dtype\":\"float64\",\"order\":\"little\",\"shape\":[20]}},\"selected\":{\"id\":\"2951\"},\"selection_policy\":{\"id\":\"2950\"}},\"id\":\"2790\",\"type\":\"ColumnDataSource\"},{\"attributes\":{\"formatter\":{\"id\":\"2947\"},\"ticker\":{\"id\":\"2803\"}},\"id\":\"2802\",\"type\":\"LinearAxis\"},{\"attributes\":{\"active_drag\":\"auto\",\"active_inspect\":\"auto\",\"active_multi\":null,\"active_scroll\":\"auto\",\"active_tap\":\"auto\",\"tools\":[{\"id\":\"2792\"},{\"id\":\"2810\"}]},\"id\":\"2811\",\"type\":\"Toolbar\"},{\"attributes\":{},\"id\":\"2800\",\"type\":\"LinearScale\"},{\"attributes\":{\"axis\":{\"id\":\"2806\"},\"dimension\":1,\"ticker\":null},\"id\":\"2809\",\"type\":\"Grid\"},{\"attributes\":{},\"id\":\"2950\",\"type\":\"UnionRenderers\"},{\"attributes\":{},\"id\":\"2947\",\"type\":\"BasicTickFormatter\"},{\"attributes\":{\"text\":\"\"},\"id\":\"2944\",\"type\":\"Title\"},{\"attributes\":{\"data_source\":{\"id\":\"2791\"},\"glyph\":{\"id\":\"2820\"},\"hover_glyph\":null,\"muted_glyph\":null,\"nonselection_glyph\":{\"id\":\"2821\"},\"selection_glyph\":null,\"view\":{\"id\":\"2823\"}},\"id\":\"2822\",\"type\":\"GlyphRenderer\"},{\"attributes\":{\"fill_alpha\":{\"value\":0.1},\"fill_color\":{\"value\":\"black\"},\"line_alpha\":{\"value\":0.1},\"size\":{\"units\":\"screen\",\"value\":14},\"x\":{\"field\":\"x\"},\"y\":{\"field\":\"y\"}},\"id\":\"2816\",\"type\":\"Circle\"}],\"root_ids\":[\"2793\"]},\"title\":\"Bokeh Application\",\"version\":\"2.2.3\"}};\n",
       "  var render_items = [{\"docid\":\"c8e31df4-ba66-4c1b-a51c-832a34ed315c\",\"root_ids\":[\"2793\"],\"roots\":{\"2793\":\"0a156e80-41fe-4050-bcc0-1577ec2e4f4c\"}}];\n",
       "  root.Bokeh.embed.embed_items_notebook(docs_json, render_items);\n",
       "\n",
       "  }\n",
       "  if (root.Bokeh !== undefined) {\n",
       "    embed_document(root);\n",
       "  } else {\n",
       "    var attempts = 0;\n",
       "    var timer = setInterval(function(root) {\n",
       "      if (root.Bokeh !== undefined) {\n",
       "        clearInterval(timer);\n",
       "        embed_document(root);\n",
       "      } else {\n",
       "        attempts++;\n",
       "        if (attempts > 100) {\n",
       "          clearInterval(timer);\n",
       "          console.log(\"Bokeh: ERROR: Unable to run BokehJS code because BokehJS library is missing\");\n",
       "        }\n",
       "      }\n",
       "    }, 10, root)\n",
       "  }\n",
       "})(window);"
      ],
      "application/vnd.bokehjs_exec.v0+json": ""
     },
     "metadata": {
      "application/vnd.bokehjs_exec.v0+json": {
       "id": "2793"
      }
     },
     "output_type": "display_data"
    }
   ],
   "source": [
    "# q = 13\n",
    "draw_PCA(dfs[12])"
   ]
  },
  {
   "cell_type": "code",
   "execution_count": 20,
   "metadata": {},
   "outputs": [
    {
     "data": {
      "text/html": [
       "\n",
       "\n",
       "\n",
       "\n",
       "\n",
       "\n",
       "  <div class=\"bk-root\" id=\"7030c0c4-cc25-4366-828e-fa7d48db7d24\" data-root-id=\"3007\"></div>\n"
      ]
     },
     "metadata": {},
     "output_type": "display_data"
    },
    {
     "data": {
      "application/javascript": [
       "(function(root) {\n",
       "  function embed_document(root) {\n",
       "    \n",
       "  var docs_json = {\"cd156cc8-0be8-4c0d-8953-78cc32b627c4\":{\"roots\":{\"references\":[{\"attributes\":{\"below\":[{\"id\":\"3016\"}],\"center\":[{\"id\":\"3019\"},{\"id\":\"3023\"}],\"left\":[{\"id\":\"3020\"}],\"plot_height\":500,\"plot_width\":550,\"renderers\":[{\"id\":\"3031\"},{\"id\":\"3036\"}],\"title\":{\"id\":\"3168\"},\"toolbar\":{\"id\":\"3025\"},\"x_range\":{\"id\":\"3008\"},\"x_scale\":{\"id\":\"3012\"},\"y_range\":{\"id\":\"3010\"},\"y_scale\":{\"id\":\"3014\"}},\"id\":\"3007\",\"subtype\":\"Figure\",\"type\":\"Plot\"},{\"attributes\":{\"data\":{\"desc\":[\"SRR6261728\",\"SRR6261730\",\"SRR6261732\",\"SRR6261734\",\"SRR6261736\",\"SRR6261738\",\"SRR6261740\",\"SRR6261742\",\"SRR6261744\",\"SRR6261746\",\"SRR6261756\",\"SRR6261758\",\"SRR6261761\",\"SRR6261762\",\"SRR6261764\",\"SRR6261766\",\"SRR6261768\",\"SRR6261770\",\"SRR6261773\",\"SRR6261774\"],\"x\":{\"__ndarray__\":\"t/8KwkJ9O74dMH99ajhAvgOqUkhcYkG+xK2jsIPHQL64FLRMMec/vh5LLqNcokG+ovsiAszdPL4oWMOR4L0/vgUECQwDnjq+VDqr9ffeQL75kmp2FmVCvvy8cDbUeUC+HQ3klXBmPr43MQjei7hAvsIJ6OGvgT+++ipQdIEcPr7enJj8wB0/vo5PYsrHekC+2h3m86aXP750PpQDc0pBvg==\",\"dtype\":\"float64\",\"order\":\"little\",\"shape\":[20]},\"y\":{\"__ndarray__\":\"LkAO5uxeA76kJm+rlIgGvnBi+tozBQi+kftBW2M/B76GqxcQqjAGvqtWV832Vgi+HGPMLBtABL4ICCdJRhYGvuPAWNbAWiY+hh5GqlldB75/MPlbuU8JvjM+Il0l3Aa+YzMTzec6Bb5nyjxSRCwHvsKnxQbU7wW+WsT1G64LBb4xvkEP/68FvqWkQYRc3Qa+IBey2Nv9Bb6fU+0gqOYHvg==\",\"dtype\":\"float64\",\"order\":\"little\",\"shape\":[20]}},\"selected\":{\"id\":\"3175\"},\"selection_policy\":{\"id\":\"3174\"}},\"id\":\"3004\",\"type\":\"ColumnDataSource\"},{\"attributes\":{\"data_source\":{\"id\":\"3005\"},\"glyph\":{\"id\":\"3034\"},\"hover_glyph\":null,\"muted_glyph\":null,\"nonselection_glyph\":{\"id\":\"3035\"},\"selection_glyph\":null,\"view\":{\"id\":\"3037\"}},\"id\":\"3036\",\"type\":\"GlyphRenderer\"},{\"attributes\":{\"axis\":{\"id\":\"3020\"},\"dimension\":1,\"ticker\":null},\"id\":\"3023\",\"type\":\"Grid\"},{\"attributes\":{},\"id\":\"3024\",\"type\":\"SaveTool\"},{\"attributes\":{\"active_drag\":\"auto\",\"active_inspect\":\"auto\",\"active_multi\":null,\"active_scroll\":\"auto\",\"active_tap\":\"auto\",\"tools\":[{\"id\":\"3006\"},{\"id\":\"3024\"}]},\"id\":\"3025\",\"type\":\"Toolbar\"},{\"attributes\":{},\"id\":\"3021\",\"type\":\"BasicTicker\"},{\"attributes\":{\"fill_alpha\":{\"value\":0.1},\"fill_color\":{\"value\":\"black\"},\"line_alpha\":{\"value\":0.1},\"size\":{\"units\":\"screen\",\"value\":14},\"x\":{\"field\":\"x\"},\"y\":{\"field\":\"y\"}},\"id\":\"3030\",\"type\":\"Circle\"},{\"attributes\":{},\"id\":\"3176\",\"type\":\"UnionRenderers\"},{\"attributes\":{},\"id\":\"3014\",\"type\":\"LinearScale\"},{\"attributes\":{},\"id\":\"3173\",\"type\":\"BasicTickFormatter\"},{\"attributes\":{\"source\":{\"id\":\"3005\"}},\"id\":\"3037\",\"type\":\"CDSView\"},{\"attributes\":{\"fill_color\":{\"value\":\"black\"},\"size\":{\"units\":\"screen\",\"value\":14},\"x\":{\"field\":\"x\"},\"y\":{\"field\":\"y\"}},\"id\":\"3029\",\"type\":\"Circle\"},{\"attributes\":{\"fill_alpha\":{\"value\":0.1},\"fill_color\":{\"value\":\"darkorange\"},\"line_alpha\":{\"value\":0.1},\"line_color\":{\"value\":\"darkorange\"},\"size\":{\"units\":\"screen\",\"value\":16},\"x\":{\"field\":\"x\"},\"y\":{\"field\":\"y\"}},\"id\":\"3035\",\"type\":\"Triangle\"},{\"attributes\":{\"data_source\":{\"id\":\"3004\"},\"glyph\":{\"id\":\"3029\"},\"hover_glyph\":null,\"muted_glyph\":null,\"nonselection_glyph\":{\"id\":\"3030\"},\"selection_glyph\":null,\"view\":{\"id\":\"3032\"}},\"id\":\"3031\",\"type\":\"GlyphRenderer\"},{\"attributes\":{\"data\":{\"desc\":[\"SRR6261682\",\"SRR6261684\",\"SRR6261686\",\"SRR6261688\",\"SRR6261690\",\"SRR6261692\",\"SRR6261696\",\"SRR6261702\",\"SRR6261704\",\"SRR6261706\",\"SRR6261708\",\"SRR6261710\",\"SRR6261714\",\"SRR6261716\",\"SRR6261720\",\"SRR6261722\",\"SRR6261724\",\"SRR6261726\"],\"x\":{\"__ndarray__\":\"ZiOakkUMRj5B0PaSRQxGPk2p1PejmEI+oRSSkkUMRj6s182SRQxGPjE1D5NFDEY+FzTo3bnCQj7MPNqSRQxGPhFQupJFDEY+EO1UkkUMRj7fxFgvcoEwvuUt6dxm9jK+U5ymkkUMRj68LFuSRQxGPmQmA+0OREI+tp6xkkUMRj5ggrKSRQxGPk5N3xCkdUI+\",\"dtype\":\"float64\",\"order\":\"little\",\"shape\":[18]},\"y\":{\"__ndarray__\":\"SfxIB5paCj7dRz0NmloKPqKveP2YNS++cnTEBppaCj7BZpsKmloKPs2Czg6aWgo+o6cD4rxoLb5fRWcLmloKPpAuWgmaWgo+JJrWAppaCj7B4apz1Gk9Ph5/E6noeD4+jiAWCJpaCj4bYT0DmloKPjjCHSTeAiW+nDTLCJpaCj4t1dkImloKPgLdkGluWjC+\",\"dtype\":\"float64\",\"order\":\"little\",\"shape\":[18]}},\"selected\":{\"id\":\"3177\"},\"selection_policy\":{\"id\":\"3176\"}},\"id\":\"3005\",\"type\":\"ColumnDataSource\"},{\"attributes\":{\"text\":\"\"},\"id\":\"3168\",\"type\":\"Title\"},{\"attributes\":{},\"id\":\"3171\",\"type\":\"BasicTickFormatter\"},{\"attributes\":{},\"id\":\"3175\",\"type\":\"Selection\"},{\"attributes\":{\"callback\":null,\"tooltips\":[[\"index\",\"$index\"],[\"desc\",\"@desc\"]]},\"id\":\"3006\",\"type\":\"HoverTool\"},{\"attributes\":{},\"id\":\"3008\",\"type\":\"DataRange1d\"},{\"attributes\":{\"source\":{\"id\":\"3004\"}},\"id\":\"3032\",\"type\":\"CDSView\"},{\"attributes\":{},\"id\":\"3017\",\"type\":\"BasicTicker\"},{\"attributes\":{},\"id\":\"3010\",\"type\":\"DataRange1d\"},{\"attributes\":{},\"id\":\"3174\",\"type\":\"UnionRenderers\"},{\"attributes\":{\"formatter\":{\"id\":\"3173\"},\"ticker\":{\"id\":\"3021\"}},\"id\":\"3020\",\"type\":\"LinearAxis\"},{\"attributes\":{},\"id\":\"3012\",\"type\":\"LinearScale\"},{\"attributes\":{},\"id\":\"3177\",\"type\":\"Selection\"},{\"attributes\":{\"axis\":{\"id\":\"3016\"},\"ticker\":null},\"id\":\"3019\",\"type\":\"Grid\"},{\"attributes\":{\"fill_color\":{\"value\":\"darkorange\"},\"line_color\":{\"value\":\"darkorange\"},\"size\":{\"units\":\"screen\",\"value\":16},\"x\":{\"field\":\"x\"},\"y\":{\"field\":\"y\"}},\"id\":\"3034\",\"type\":\"Triangle\"},{\"attributes\":{\"formatter\":{\"id\":\"3171\"},\"ticker\":{\"id\":\"3017\"}},\"id\":\"3016\",\"type\":\"LinearAxis\"}],\"root_ids\":[\"3007\"]},\"title\":\"Bokeh Application\",\"version\":\"2.2.3\"}};\n",
       "  var render_items = [{\"docid\":\"cd156cc8-0be8-4c0d-8953-78cc32b627c4\",\"root_ids\":[\"3007\"],\"roots\":{\"3007\":\"7030c0c4-cc25-4366-828e-fa7d48db7d24\"}}];\n",
       "  root.Bokeh.embed.embed_items_notebook(docs_json, render_items);\n",
       "\n",
       "  }\n",
       "  if (root.Bokeh !== undefined) {\n",
       "    embed_document(root);\n",
       "  } else {\n",
       "    var attempts = 0;\n",
       "    var timer = setInterval(function(root) {\n",
       "      if (root.Bokeh !== undefined) {\n",
       "        clearInterval(timer);\n",
       "        embed_document(root);\n",
       "      } else {\n",
       "        attempts++;\n",
       "        if (attempts > 100) {\n",
       "          clearInterval(timer);\n",
       "          console.log(\"Bokeh: ERROR: Unable to run BokehJS code because BokehJS library is missing\");\n",
       "        }\n",
       "      }\n",
       "    }, 10, root)\n",
       "  }\n",
       "})(window);"
      ],
      "application/vnd.bokehjs_exec.v0+json": ""
     },
     "metadata": {
      "application/vnd.bokehjs_exec.v0+json": {
       "id": "3007"
      }
     },
     "output_type": "display_data"
    }
   ],
   "source": [
    "# q = 14\n",
    "draw_PCA(dfs[13])"
   ]
  },
  {
   "cell_type": "markdown",
   "metadata": {},
   "source": [
    "## 5. Interpretability"
   ]
  },
  {
   "cell_type": "markdown",
   "metadata": {},
   "source": [
    "### q = 14"
   ]
  },
  {
   "cell_type": "code",
   "execution_count": 19,
   "metadata": {},
   "outputs": [
    {
     "data": {
      "text/html": [
       "<div>\n",
       "<style scoped>\n",
       "    .dataframe tbody tr th:only-of-type {\n",
       "        vertical-align: middle;\n",
       "    }\n",
       "\n",
       "    .dataframe tbody tr th {\n",
       "        vertical-align: top;\n",
       "    }\n",
       "\n",
       "    .dataframe thead th {\n",
       "        text-align: right;\n",
       "    }\n",
       "</style>\n",
       "<table border=\"1\" class=\"dataframe\">\n",
       "  <thead>\n",
       "    <tr style=\"text-align: right;\">\n",
       "      <th></th>\n",
       "      <th>0</th>\n",
       "    </tr>\n",
       "  </thead>\n",
       "  <tbody>\n",
       "    <tr>\n",
       "      <th>PC1</th>\n",
       "      <td>9.168589e-01</td>\n",
       "    </tr>\n",
       "    <tr>\n",
       "      <th>PC2</th>\n",
       "      <td>5.549807e-02</td>\n",
       "    </tr>\n",
       "    <tr>\n",
       "      <th>PC3</th>\n",
       "      <td>2.764303e-02</td>\n",
       "    </tr>\n",
       "    <tr>\n",
       "      <th>PC4</th>\n",
       "      <td>2.051083e-09</td>\n",
       "    </tr>\n",
       "    <tr>\n",
       "      <th>PC5</th>\n",
       "      <td>1.176796e-34</td>\n",
       "    </tr>\n",
       "    <tr>\n",
       "      <th>PC6</th>\n",
       "      <td>3.140805e-35</td>\n",
       "    </tr>\n",
       "    <tr>\n",
       "      <th>PC7</th>\n",
       "      <td>2.253607e-36</td>\n",
       "    </tr>\n",
       "    <tr>\n",
       "      <th>PC8</th>\n",
       "      <td>1.671857e-49</td>\n",
       "    </tr>\n",
       "    <tr>\n",
       "      <th>PC9</th>\n",
       "      <td>1.322379e-59</td>\n",
       "    </tr>\n",
       "    <tr>\n",
       "      <th>PC10</th>\n",
       "      <td>8.369198e-69</td>\n",
       "    </tr>\n",
       "  </tbody>\n",
       "</table>\n",
       "</div>"
      ],
      "text/plain": [
       "                 0\n",
       "PC1   9.168589e-01\n",
       "PC2   5.549807e-02\n",
       "PC3   2.764303e-02\n",
       "PC4   2.051083e-09\n",
       "PC5   1.176796e-34\n",
       "PC6   3.140805e-35\n",
       "PC7   2.253607e-36\n",
       "PC8   1.671857e-49\n",
       "PC9   1.322379e-59\n",
       "PC10  8.369198e-69"
      ]
     },
     "execution_count": 19,
     "metadata": {},
     "output_type": "execute_result"
    }
   ],
   "source": [
    "pca = PCA()\n",
    "result = pca.fit_transform(dfs[13].iloc[:,:-1])\n",
    "df_contribution = pd.DataFrame(pca.explained_variance_ratio_, index=[\"PC{}\".format(x + 1) for x in range(len(dfs[13].iloc[:,:-1].columns))])\n",
    "df_contribution"
   ]
  },
  {
   "cell_type": "code",
   "execution_count": 20,
   "metadata": {},
   "outputs": [
    {
     "data": {
      "text/html": [
       "\n",
       "\n",
       "\n",
       "\n",
       "\n",
       "\n",
       "  <div class=\"bk-root\" id=\"aec35866-5b39-46e6-b65a-c9a3b91b9559\" data-root-id=\"3228\"></div>\n"
      ]
     },
     "metadata": {},
     "output_type": "display_data"
    },
    {
     "data": {
      "application/javascript": [
       "(function(root) {\n",
       "  function embed_document(root) {\n",
       "    \n",
       "  var docs_json = {\"c47f519c-8d59-4149-abe7-d4e9c8403f76\":{\"roots\":{\"references\":[{\"attributes\":{\"below\":[{\"id\":\"3239\"}],\"center\":[{\"id\":\"3242\"},{\"id\":\"3246\"}],\"left\":[{\"id\":\"3243\"}],\"renderers\":[{\"id\":\"3264\"}],\"title\":{\"id\":\"3229\"},\"toolbar\":{\"id\":\"3254\"},\"x_range\":{\"id\":\"3231\"},\"x_scale\":{\"id\":\"3235\"},\"y_range\":{\"id\":\"3233\"},\"y_scale\":{\"id\":\"3237\"}},\"id\":\"3228\",\"subtype\":\"Figure\",\"type\":\"Plot\"},{\"attributes\":{},\"id\":\"3231\",\"type\":\"DataRange1d\"},{\"attributes\":{\"line_alpha\":0.1,\"line_color\":\"#1f77b4\",\"line_width\":2,\"x\":{\"field\":\"x\"},\"y\":{\"field\":\"y\"}},\"id\":\"3263\",\"type\":\"Line\"},{\"attributes\":{},\"id\":\"3233\",\"type\":\"DataRange1d\"},{\"attributes\":{\"source\":{\"id\":\"3261\"}},\"id\":\"3265\",\"type\":\"CDSView\"},{\"attributes\":{\"data_source\":{\"id\":\"3261\"},\"glyph\":{\"id\":\"3262\"},\"hover_glyph\":null,\"muted_glyph\":null,\"nonselection_glyph\":{\"id\":\"3263\"},\"selection_glyph\":null,\"view\":{\"id\":\"3265\"}},\"id\":\"3264\",\"type\":\"GlyphRenderer\"},{\"attributes\":{},\"id\":\"3235\",\"type\":\"LinearScale\"},{\"attributes\":{},\"id\":\"3409\",\"type\":\"BasicTickFormatter\"},{\"attributes\":{},\"id\":\"3237\",\"type\":\"LinearScale\"},{\"attributes\":{},\"id\":\"3412\",\"type\":\"UnionRenderers\"},{\"attributes\":{\"axis_label\":\"PC\",\"formatter\":{\"id\":\"3407\"},\"ticker\":{\"id\":\"3240\"}},\"id\":\"3239\",\"type\":\"LinearAxis\"},{\"attributes\":{},\"id\":\"3413\",\"type\":\"Selection\"},{\"attributes\":{},\"id\":\"3240\",\"type\":\"BasicTicker\"},{\"attributes\":{\"overlay\":{\"id\":\"3253\"}},\"id\":\"3249\",\"type\":\"BoxZoomTool\"},{\"attributes\":{\"axis\":{\"id\":\"3239\"},\"ticker\":null},\"id\":\"3242\",\"type\":\"Grid\"},{\"attributes\":{\"axis_label\":\"Cumulative Contribution Rate\",\"formatter\":{\"id\":\"3409\"},\"ticker\":{\"id\":\"3244\"}},\"id\":\"3243\",\"type\":\"LinearAxis\"},{\"attributes\":{},\"id\":\"3244\",\"type\":\"BasicTicker\"},{\"attributes\":{\"data\":{\"x\":[0,1,2,3,4,5,6,7,8,9,10],\"y\":[0,0.9168588981633891,0.9723569691053713,0.9999999979489168,0.9999999999999999,0.9999999999999999,0.9999999999999999,0.9999999999999999,0.9999999999999999,0.9999999999999999,0.9999999999999999]},\"selected\":{\"id\":\"3413\"},\"selection_policy\":{\"id\":\"3412\"}},\"id\":\"3261\",\"type\":\"ColumnDataSource\"},{\"attributes\":{\"axis\":{\"id\":\"3243\"},\"dimension\":1,\"ticker\":null},\"id\":\"3246\",\"type\":\"Grid\"},{\"attributes\":{},\"id\":\"3247\",\"type\":\"PanTool\"},{\"attributes\":{},\"id\":\"3248\",\"type\":\"WheelZoomTool\"},{\"attributes\":{},\"id\":\"3250\",\"type\":\"SaveTool\"},{\"attributes\":{},\"id\":\"3251\",\"type\":\"ResetTool\"},{\"attributes\":{\"line_color\":\"#1f77b4\",\"line_width\":2,\"x\":{\"field\":\"x\"},\"y\":{\"field\":\"y\"}},\"id\":\"3262\",\"type\":\"Line\"},{\"attributes\":{},\"id\":\"3407\",\"type\":\"BasicTickFormatter\"},{\"attributes\":{},\"id\":\"3252\",\"type\":\"HelpTool\"},{\"attributes\":{\"active_drag\":\"auto\",\"active_inspect\":\"auto\",\"active_multi\":null,\"active_scroll\":\"auto\",\"active_tap\":\"auto\",\"tools\":[{\"id\":\"3247\"},{\"id\":\"3248\"},{\"id\":\"3249\"},{\"id\":\"3250\"},{\"id\":\"3251\"},{\"id\":\"3252\"}]},\"id\":\"3254\",\"type\":\"Toolbar\"},{\"attributes\":{\"bottom_units\":\"screen\",\"fill_alpha\":0.5,\"fill_color\":\"lightgrey\",\"left_units\":\"screen\",\"level\":\"overlay\",\"line_alpha\":1.0,\"line_color\":\"black\",\"line_dash\":[4,4],\"line_width\":2,\"right_units\":\"screen\",\"top_units\":\"screen\"},\"id\":\"3253\",\"type\":\"BoxAnnotation\"},{\"attributes\":{\"text\":\"Contribution rate\"},\"id\":\"3229\",\"type\":\"Title\"}],\"root_ids\":[\"3228\"]},\"title\":\"Bokeh Application\",\"version\":\"2.2.3\"}};\n",
       "  var render_items = [{\"docid\":\"c47f519c-8d59-4149-abe7-d4e9c8403f76\",\"root_ids\":[\"3228\"],\"roots\":{\"3228\":\"aec35866-5b39-46e6-b65a-c9a3b91b9559\"}}];\n",
       "  root.Bokeh.embed.embed_items_notebook(docs_json, render_items);\n",
       "\n",
       "  }\n",
       "  if (root.Bokeh !== undefined) {\n",
       "    embed_document(root);\n",
       "  } else {\n",
       "    var attempts = 0;\n",
       "    var timer = setInterval(function(root) {\n",
       "      if (root.Bokeh !== undefined) {\n",
       "        clearInterval(timer);\n",
       "        embed_document(root);\n",
       "      } else {\n",
       "        attempts++;\n",
       "        if (attempts > 100) {\n",
       "          clearInterval(timer);\n",
       "          console.log(\"Bokeh: ERROR: Unable to run BokehJS code because BokehJS library is missing\");\n",
       "        }\n",
       "      }\n",
       "    }, 10, root)\n",
       "  }\n",
       "})(window);"
      ],
      "application/vnd.bokehjs_exec.v0+json": ""
     },
     "metadata": {
      "application/vnd.bokehjs_exec.v0+json": {
       "id": "3228"
      }
     },
     "output_type": "display_data"
    }
   ],
   "source": [
    "x = [0,1,2,3,4,5,6,7,8,9,10]\n",
    "\n",
    "contribution = df_contribution.iloc[:,0].tolist()\n",
    "cumulative_contribution_rate = [0] + [sum(contribution[:i+1]) for i in range(len(contribution))]\n",
    "y = cumulative_contribution_rate\n",
    "\n",
    "p = figure(title=\"Contribution rate\", x_axis_label='PC', y_axis_label='Cumulative Contribution Rate')\n",
    "p.line(x, y, line_width=2)\n",
    "show(p)"
   ]
  },
  {
   "cell_type": "code",
   "execution_count": 21,
   "metadata": {},
   "outputs": [
    {
     "data": {
      "text/html": [
       "\n",
       "\n",
       "\n",
       "\n",
       "\n",
       "\n",
       "  <div class=\"bk-root\" id=\"877712b3-3eda-4457-b232-89e13deb286b\" data-root-id=\"3456\"></div>\n"
      ]
     },
     "metadata": {},
     "output_type": "display_data"
    },
    {
     "data": {
      "application/javascript": [
       "(function(root) {\n",
       "  function embed_document(root) {\n",
       "    \n",
       "  var docs_json = {\"6c28b38d-c367-4151-ab89-202cd803e473\":{\"roots\":{\"references\":[{\"attributes\":{\"below\":[{\"id\":\"3465\"}],\"center\":[{\"id\":\"3468\"},{\"id\":\"3472\"}],\"left\":[{\"id\":\"3469\"}],\"plot_height\":500,\"plot_width\":550,\"renderers\":[{\"id\":\"3480\"}],\"title\":{\"id\":\"3630\"},\"toolbar\":{\"id\":\"3474\"},\"x_range\":{\"id\":\"3457\"},\"x_scale\":{\"id\":\"3461\"},\"y_range\":{\"id\":\"3459\"},\"y_scale\":{\"id\":\"3463\"}},\"id\":\"3456\",\"subtype\":\"Figure\",\"type\":\"Plot\"},{\"attributes\":{\"callback\":null,\"tooltips\":[[\"index\",\"$index\"],[\"desc\",\"@desc\"]]},\"id\":\"3455\",\"type\":\"HoverTool\"},{\"attributes\":{\"source\":{\"id\":\"3454\"}},\"id\":\"3481\",\"type\":\"CDSView\"},{\"attributes\":{\"text\":\"\"},\"id\":\"3630\",\"type\":\"Title\"},{\"attributes\":{\"data_source\":{\"id\":\"3454\"},\"glyph\":{\"id\":\"3478\"},\"hover_glyph\":null,\"muted_glyph\":null,\"nonselection_glyph\":{\"id\":\"3479\"},\"selection_glyph\":null,\"view\":{\"id\":\"3481\"}},\"id\":\"3480\",\"type\":\"GlyphRenderer\"},{\"attributes\":{},\"id\":\"3632\",\"type\":\"BasicTickFormatter\"},{\"attributes\":{},\"id\":\"3634\",\"type\":\"BasicTickFormatter\"},{\"attributes\":{},\"id\":\"3636\",\"type\":\"UnionRenderers\"},{\"attributes\":{\"data\":{\"desc\":[\"GTACCGTCCGCGTT\",\"CGTCCGCGTTTACT\",\"GGATATCCGGCTGC\",\"GGGTACCGTCCGCG\",\"TACCGTCCGCGTTT\",\"ACCGTCCGCGTTTA\",\"CCGTCCGCGTTTAC\",\"AGTAAACTAGCCGT\",\"GCAGAGAACCCCCC\",\"CATTCGCAACTCTA\"],\"x\":{\"__ndarray__\":\"X9m60Yon1r9g2brRiifWv17ZutGKJ9a/Xtm60Yon1r9e2brRiifWv17ZutGKJ9a/Xtm60Yon1r+tap5CROrSv4pLemGtpBG/jzNqUFJk0b8=\",\"dtype\":\"float64\",\"order\":\"little\",\"shape\":[10]},\"y\":{\"__ndarray__\":\"HIo97dkYwz8cij3t2RjDPxiKPe3ZGMM/Goo97dkYwz8Zij3t2RjDPxmKPe3ZGMM/GYo97dkYwz/si9X3CkHhv6QqHCQQIxK/1Ke5xGvO578=\",\"dtype\":\"float64\",\"order\":\"little\",\"shape\":[10]}},\"selected\":{\"id\":\"3637\"},\"selection_policy\":{\"id\":\"3636\"}},\"id\":\"3454\",\"type\":\"ColumnDataSource\"},{\"attributes\":{},\"id\":\"3466\",\"type\":\"BasicTicker\"},{\"attributes\":{},\"id\":\"3637\",\"type\":\"Selection\"},{\"attributes\":{},\"id\":\"3457\",\"type\":\"DataRange1d\"},{\"attributes\":{},\"id\":\"3461\",\"type\":\"LinearScale\"},{\"attributes\":{\"formatter\":{\"id\":\"3634\"},\"ticker\":{\"id\":\"3470\"}},\"id\":\"3469\",\"type\":\"LinearAxis\"},{\"attributes\":{},\"id\":\"3470\",\"type\":\"BasicTicker\"},{\"attributes\":{\"axis\":{\"id\":\"3469\"},\"dimension\":1,\"ticker\":null},\"id\":\"3472\",\"type\":\"Grid\"},{\"attributes\":{},\"id\":\"3473\",\"type\":\"SaveTool\"},{\"attributes\":{\"formatter\":{\"id\":\"3632\"},\"ticker\":{\"id\":\"3466\"}},\"id\":\"3465\",\"type\":\"LinearAxis\"},{\"attributes\":{\"active_drag\":\"auto\",\"active_inspect\":\"auto\",\"active_multi\":null,\"active_scroll\":\"auto\",\"active_tap\":\"auto\",\"tools\":[{\"id\":\"3455\"},{\"id\":\"3473\"}]},\"id\":\"3474\",\"type\":\"Toolbar\"},{\"attributes\":{\"axis\":{\"id\":\"3465\"},\"ticker\":null},\"id\":\"3468\",\"type\":\"Grid\"},{\"attributes\":{},\"id\":\"3463\",\"type\":\"LinearScale\"},{\"attributes\":{\"fill_alpha\":{\"value\":0.1},\"fill_color\":{\"value\":\"blue\"},\"line_alpha\":{\"value\":0.1},\"line_color\":{\"value\":\"blue\"},\"size\":{\"units\":\"screen\",\"value\":14},\"x\":{\"field\":\"x\"},\"y\":{\"field\":\"y\"}},\"id\":\"3479\",\"type\":\"Circle\"},{\"attributes\":{\"fill_color\":{\"value\":\"blue\"},\"line_color\":{\"value\":\"blue\"},\"size\":{\"units\":\"screen\",\"value\":14},\"x\":{\"field\":\"x\"},\"y\":{\"field\":\"y\"}},\"id\":\"3478\",\"type\":\"Circle\"},{\"attributes\":{},\"id\":\"3459\",\"type\":\"DataRange1d\"}],\"root_ids\":[\"3456\"]},\"title\":\"Bokeh Application\",\"version\":\"2.2.3\"}};\n",
       "  var render_items = [{\"docid\":\"6c28b38d-c367-4151-ab89-202cd803e473\",\"root_ids\":[\"3456\"],\"roots\":{\"3456\":\"877712b3-3eda-4457-b232-89e13deb286b\"}}];\n",
       "  root.Bokeh.embed.embed_items_notebook(docs_json, render_items);\n",
       "\n",
       "  }\n",
       "  if (root.Bokeh !== undefined) {\n",
       "    embed_document(root);\n",
       "  } else {\n",
       "    var attempts = 0;\n",
       "    var timer = setInterval(function(root) {\n",
       "      if (root.Bokeh !== undefined) {\n",
       "        clearInterval(timer);\n",
       "        embed_document(root);\n",
       "      } else {\n",
       "        attempts++;\n",
       "        if (attempts > 100) {\n",
       "          clearInterval(timer);\n",
       "          console.log(\"Bokeh: ERROR: Unable to run BokehJS code because BokehJS library is missing\");\n",
       "        }\n",
       "      }\n",
       "    }, 10, root)\n",
       "  }\n",
       "})(window);"
      ],
      "application/vnd.bokehjs_exec.v0+json": ""
     },
     "metadata": {
      "application/vnd.bokehjs_exec.v0+json": {
       "id": "3456"
      }
     },
     "output_type": "display_data"
    }
   ],
   "source": [
    "df_res = pd.DataFrame([pca.components_[0], pca.components_[1]]).T\n",
    "df_res.columns = [\"x\", \"y\"]\n",
    "df_res.index = dfs[13].iloc[:,:-1].columns.tolist()\n",
    "\n",
    "source = ColumnDataSource(\n",
    "    data=dict(\n",
    "        x=df_res[\"x\"],\n",
    "        y=df_res[\"y\"],\n",
    "        desc=df_res.index.tolist()\n",
    "    )\n",
    ")\n",
    "\n",
    "hover = HoverTool(\n",
    "    tooltips=[\n",
    "        (\"index\", \"$index\"),\n",
    "        (\"desc\", \"@desc\"),\n",
    "    ]\n",
    ")\n",
    "\n",
    "p = figure(tools=[hover, \"save\"], plot_width=550, plot_height=500)\n",
    "#p.xaxis.major_label_text_color = \"white\"\n",
    "#p.yaxis.major_label_text_color = \"white\"\n",
    "\n",
    "p.circle(\"x\", \"y\", fill_color=\"blue\", line_color=\"blue\", fill_alpha=1, size=14, source=source)\n",
    "\n",
    "show(p)"
   ]
  }
 ],
 "metadata": {
  "kernelspec": {
   "display_name": "Python 3",
   "language": "python",
   "name": "python3"
  },
  "language_info": {
   "codemirror_mode": {
    "name": "ipython",
    "version": 3
   },
   "file_extension": ".py",
   "mimetype": "text/x-python",
   "name": "python",
   "nbconvert_exporter": "python",
   "pygments_lexer": "ipython3",
   "version": "3.7.3"
  }
 },
 "nbformat": 4,
 "nbformat_minor": 2
}
